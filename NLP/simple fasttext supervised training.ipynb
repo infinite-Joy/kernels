{
 "cells": [
  {
   "cell_type": "markdown",
   "metadata": {},
   "source": [
    "We are going to download the data from [archive.org site](https://archive.org/details/stackexchange)."
   ]
  },
  {
   "cell_type": "code",
   "execution_count": 1,
   "metadata": {},
   "outputs": [
    {
     "name": "stdout",
     "output_type": "stream",
     "text": [
      "--2018-07-28 21:02:45--  https://archive.org/download/stackexchange/academia.stackexchange.com.7z\n",
      "Resolving archive.org (archive.org)... 207.241.224.2\n",
      "Connecting to archive.org (archive.org)|207.241.224.2|:443... connected.\n",
      "HTTP request sent, awaiting response... 302 Found\n",
      "Location: https://ia600107.us.archive.org/27/items/stackexchange/academia.stackexchange.com.7z [following]\n",
      "--2018-07-28 21:02:46--  https://ia600107.us.archive.org/27/items/stackexchange/academia.stackexchange.com.7z\n",
      "Resolving ia600107.us.archive.org (ia600107.us.archive.org)... 207.241.227.247\n",
      "Connecting to ia600107.us.archive.org (ia600107.us.archive.org)|207.241.227.247|:443... connected.\n",
      "HTTP request sent, awaiting response... 200 OK\n",
      "Length: 91709455 (87M) [application/x-7z-compressed]\n",
      "Saving to: 'academia.stackexchange.com.7z'\n",
      "\n",
      "academia.stackexcha 100%[===================>]  87.46M   448KB/s    in 2m 48s  \n",
      "\n",
      "2018-07-28 21:05:36 (533 KB/s) - 'academia.stackexchange.com.7z' saved [91709455/91709455]\n",
      "\n"
     ]
    }
   ],
   "source": [
    "!wget https://archive.org/download/stackexchange/academia.stackexchange.com.7z"
   ]
  },
  {
   "cell_type": "markdown",
   "metadata": {},
   "source": [
    "This is a 7z file, hence you will need to have 7z installed to uncompress the file. This will uncompress to a bunch of files. We are interested in the Posts.xml"
   ]
  },
  {
   "cell_type": "code",
   "execution_count": 2,
   "metadata": {},
   "outputs": [
    {
     "name": "stdout",
     "output_type": "stream",
     "text": [
      "\n",
      "7-Zip [64] 16.02 : Copyright (c) 1999-2016 Igor Pavlov : 2016-05-21\n",
      "p7zip Version 16.02 (locale=utf8,Utf16=on,HugeFiles=on,64 bits,8 CPUs x64)\n",
      "\n",
      "Scanning the drive for archives:\n",
      "  0M Sca        1 file, 91709455 bytes (88 MiB)\n",
      "\n",
      "Extracting archive: academia.stackexchange.com.7z\n",
      "--\n",
      "Path = academia.stackexchange.com.7z\n",
      "Type = 7z\n",
      "Physical Size = 91709455\n",
      "Headers Size = 338\n",
      "Method = BZip2\n",
      "Solid = +\n",
      "Blocks = 5\n",
      "\n",
      "      2% - Badges.xm                  4% 1 - Comments.xm                      5% 1 - Comments.xm                      6% 1 - Comments.xm                      7% 1 - Comments.xm                      8% 1 - Comments.xm                      9% 1 - Comments.xm                     10% 1 - Comments.xm                     12% 1 - Comments.xm                     13% 1 - Comments.xm                     14% 1 - Comments.xm                     16% 1 - Comments.xm                     17% 2 - PostHistory.x                       18% 2 - PostHistory.x                       20% 2 - PostHistory.x                       21% 2 - PostHistory.x                       22% 2 - PostHistory.x                       23% 2 - PostHistory.x                       24% 2 - PostHistory.x                       25% 2 - PostHistory.x                       27% 2 - PostHistory.x                       28% 2 - PostHistory.x                       29% 2 - PostHistory.x                       31% 2 - PostHistory.x                       32% 2 - PostHistory.x                       33% 2 - PostHistory.x                       34% 2 - PostHistory.x                       35% 2 - PostHistory.x                       36% 2 - PostHistory.x                       37% 2 - PostHistory.x                       39% 2 - PostHistory.x                       40% 2 - PostHistory.x                       42% 2 - PostHistory.x                       43% 2 - PostHistory.x                       44% 2 - PostHistory.x                       46% 2 - PostHistory.x                       47% 2 - PostHistory.x                       48% 2 - PostHistory.x                       50% 2 - PostHistory.x                       51% 2 - PostHistory.x                       52% 2 - PostHistory.x                       54% 2 - PostHistory.x                       55% 2 - PostHistory.x                       56% 4 - Posts.x                 58% 4 - Posts.x                 59% 4 - Posts.x                 60% 4 - Posts.x                 62% 4 - Posts.x                 63% 4 - Posts.x                 64% 4 - Posts.x                 65% 4 - Posts.x                 67% 4 - Posts.x                 68% 4 - Posts.x                 69% 4 - Posts.x                 70% 4 - Posts.x                 72% 4 - Posts.x                 73% 4 - Posts.x                 74% 4 - Posts.x                 75% 4 - Posts.x                 77% 4 - Posts.x                 78% 4 - Posts.x                 79% 6 - Users.x                 80% 6 - Users.x                 82% 6 - Users.x                 83% 6 - Users.x                 85% 7 - Votes.x                 88% 7 - Votes.x                 91% 7 - Votes.x                 94% 7 - Votes.x                 96% 7 - Votes.x                 98% 7 - Votes.x                Everything is Ok\n",
      "\n",
      "Files: 8\n",
      "Size:       520421121\n",
      "Compressed: 91709455\n"
     ]
    }
   ],
   "source": [
    "!7z e academia.stackexchange.com.7z"
   ]
  },
  {
   "cell_type": "markdown",
   "metadata": {},
   "source": [
    "We are now going to parse the xml tree and get the relevant text."
   ]
  },
  {
   "cell_type": "code",
   "execution_count": 3,
   "metadata": {},
   "outputs": [],
   "source": [
    "import xml.etree.ElementTree as ET\n",
    "import re"
   ]
  },
  {
   "cell_type": "code",
   "execution_count": 4,
   "metadata": {},
   "outputs": [
    {
     "name": "stdout",
     "output_type": "stream",
     "text": [
      "﻿<?xml version=\"1.0\" encoding=\"utf-8\"?>\r",
      "\r\n",
      "<posts>\r",
      "\r\n",
      "  <row Id=\"1\" PostTypeId=\"1\" AcceptedAnswerId=\"180\" CreationDate=\"2012-02-14T20:23:40.127\" Score=\"16\" ViewCount=\"415\" Body=\"&lt;p&gt;As from title. What kind of visa class do I have to apply for, in order to work as an academic in Japan ? &lt;/p&gt;&#xA;\" OwnerUserId=\"5\" LastEditorUserId=\"2700\" LastEditDate=\"2013-10-30T09:14:11.633\" LastActivityDate=\"2013-10-30T09:14:11.633\" Title=\"What kind of Visa is required to work in Academia in Japan?\" Tags=\"&lt;job-search&gt;&lt;visa&gt;&lt;japan&gt;\" AnswerCount=\"1\" CommentCount=\"1\" FavoriteCount=\"1\" />\r",
      "\r\n",
      "  <row Id=\"2\" PostTypeId=\"1\" AcceptedAnswerId=\"246\" CreationDate=\"2012-02-14T20:26:22.683\" Score=\"11\" ViewCount=\"725\" Body=\"&lt;p&gt;Which online resources are available for job search at the Ph.D. level in the computational chemistry field?&lt;/p&gt;&#xA;\" OwnerUserId=\"5\" LastEditorUserId=\"15723\" LastEditDate=\"2014-09-18T13:02:01.180\" LastActivityDate=\"2014-09-18T13:02:01.180\" Title=\"As a computational chemist, which online resources are available for Ph.D. level jobs?\" Tags=\"&lt;phd&gt;&lt;job-search&gt;&lt;online-resource&gt;&lt;chemistry&gt;\" AnswerCount=\"2\" CommentCount=\"2\" ClosedDate=\"2015-03-29T20:06:49.947\" />\r",
      "\r\n",
      "  <row Id=\"3\" PostTypeId=\"1\" AcceptedAnswerId=\"6\" CreationDate=\"2012-02-14T20:27:41.980\" Score=\"43\" ViewCount=\"3964\" Body=\"&lt;p&gt;As from title. Not all journals provide the impact factor on their homepage. For those who don't where can I find their impact factor ?&lt;/p&gt;&#xA;\" OwnerUserId=\"5\" LastEditorUserId=\"38446\" LastEditDate=\"2016-03-11T14:56:14.233\" LastActivityDate=\"2017-01-11T18:37:45.013\" Title=\"Where can I find the Impact Factor for a given journal?\" Tags=\"&lt;journals&gt;&lt;bibliometrics&gt;&lt;impact-factor&gt;\" AnswerCount=\"4\" CommentCount=\"1\" FavoriteCount=\"14\" />\r",
      "\r\n",
      "  <row Id=\"4\" PostTypeId=\"1\" AcceptedAnswerId=\"145\" CreationDate=\"2012-02-14T20:29:04.737\" Score=\"11\" ViewCount=\"269\" Body=\"&lt;p&gt;I have seen many engineering departments want professional engineer registration. Why do they care? &lt;/p&gt;&#xA;\" OwnerUserId=\"18\" LastEditorUserId=\"15723\" LastEditDate=\"2014-09-18T13:02:31.710\" LastActivityDate=\"2014-09-18T13:02:31.710\" Title=\"In U.S., why do many engineering departments care about professional engineer registration?\" Tags=\"&lt;job-search&gt;&lt;united-states&gt;&lt;engineering&gt;\" AnswerCount=\"2\" CommentCount=\"0\" FavoriteCount=\"1\" />\r",
      "\r\n",
      "  <row Id=\"5\" PostTypeId=\"1\" AcceptedAnswerId=\"9\" CreationDate=\"2012-02-14T20:30:26.703\" Score=\"29\" ViewCount=\"742\" Body=\"&lt;p&gt;What is the h-index, and how does it work ?&lt;/p&gt;&#xA;\" OwnerUserId=\"5\" LastEditorUserId=\"1580\" LastEditDate=\"2012-10-04T15:25:09.833\" LastActivityDate=\"2012-10-04T15:25:09.833\" Title=\"What is the h-index exactly and how does it work?\" Tags=\"&lt;bibliometrics&gt;\" AnswerCount=\"1\" CommentCount=\"1\" FavoriteCount=\"1\" />\r",
      "\r\n",
      "  <row Id=\"6\" PostTypeId=\"2\" ParentId=\"3\" CreationDate=\"2012-02-14T20:30:29.917\" Score=\"27\" Body=\"&lt;p&gt;If your institution has a subscription to Journal Citation Reports (JCR), you can check it there. Try this URL:&lt;/p&gt;&#xA;&#xA;&lt;p&gt;&lt;a href=&quot;https://jcr.incites.thomsonreuters.com&quot; rel=&quot;noreferrer&quot;&gt;https://jcr.incites.thomsonreuters.com&lt;/a&gt;&lt;/p&gt;&#xA;\" OwnerUserId=\"18\" LastEditorUserId=\"11365\" LastEditDate=\"2017-01-11T18:37:45.013\" LastActivityDate=\"2017-01-11T18:37:45.013\" CommentCount=\"2\" />\r",
      "\r\n",
      "  <row Id=\"7\" PostTypeId=\"1\" AcceptedAnswerId=\"20\" CreationDate=\"2012-02-14T20:32:12.333\" Score=\"79\" ViewCount=\"14647\" Body=\"&lt;p&gt;If I publish a pre-print paper on arXiv, how can I guarantee exclusive rights to the publisher afterwards? Am I unable to publish on non-open access journals after I publish a pre-print on arXiv ?&lt;/p&gt;&#xA;\" OwnerUserId=\"5\" LastEditorUserId=\"15723\" LastEditDate=\"2014-09-18T13:17:40.567\" LastActivityDate=\"2015-03-25T13:16:48.070\" Title=\"Does publishing a paper on arXiv prevent me from submitting it to a non-open access journal?\" Tags=\"&lt;journals&gt;&lt;copyright&gt;&lt;arxiv&gt;\" AnswerCount=\"6\" CommentCount=\"1\" FavoriteCount=\"21\" />\r",
      "\r\n",
      "  <row Id=\"8\" PostTypeId=\"1\" AcceptedAnswerId=\"26\" CreationDate=\"2012-02-14T20:34:32.130\" Score=\"22\" ViewCount=\"606\" Body=\"&lt;p&gt;An increasing number of funding organizations require publications on the research that they fund to be open access, i.e. available to the public without having to subscribe to a journal or pay a fee. Does anybody know where I can find a list of journals/publishers that do not allow material that they publish to be published this way?&lt;/p&gt;&#xA;\" OwnerUserId=\"12\" LastEditorUserId=\"15723\" LastEditDate=\"2014-09-10T13:26:21.987\" LastActivityDate=\"2014-09-10T13:26:21.987\" Title=\"What journals do not allow open access to published material?\" Tags=\"&lt;publications&gt;&lt;journals&gt;&lt;open-access&gt;\" AnswerCount=\"2\" CommentCount=\"3\" FavoriteCount=\"3\" />\r",
      "\r\n"
     ]
    }
   ],
   "source": [
    "!head Posts.xml"
   ]
  },
  {
   "cell_type": "code",
   "execution_count": 5,
   "metadata": {},
   "outputs": [],
   "source": [
    "tree = ET.parse('Posts.xml')\n",
    "root = tree.getroot()"
   ]
  },
  {
   "cell_type": "code",
   "execution_count": 6,
   "metadata": {},
   "outputs": [
    {
     "data": {
      "text/plain": [
       "'posts'"
      ]
     },
     "execution_count": 6,
     "metadata": {},
     "output_type": "execute_result"
    }
   ],
   "source": [
    "root.tag"
   ]
  },
  {
   "cell_type": "code",
   "execution_count": 7,
   "metadata": {},
   "outputs": [
    {
     "data": {
      "text/plain": [
       "['publications', 'journals', 'open-access']"
      ]
     },
     "execution_count": 7,
     "metadata": {},
     "output_type": "execute_result"
    }
   ],
   "source": [
    "x = \"<publications><journals><open-access>\"\n",
    "re.findall(r'<(.+?)>', x)"
   ]
  },
  {
   "cell_type": "code",
   "execution_count": 8,
   "metadata": {},
   "outputs": [],
   "source": [
    "def get_label_text(root):\n",
    "    for child in root:\n",
    "        try:\n",
    "            labels = child.attrib['Tags']\n",
    "            labels = re.findall(r'<(.+?)>', labels)\n",
    "            labels = [\"__label__\" + l for l in labels]  # needed from a fasttext perspective\n",
    "            yield \" \".join(labels + [child.attrib['Title']])\n",
    "        except KeyError:\n",
    "            #print(child.tag, child.attrib)\n",
    "            pass"
   ]
  },
  {
   "cell_type": "code",
   "execution_count": 9,
   "metadata": {},
   "outputs": [],
   "source": [
    "dataset_list = [x for x in get_label_text(root)]"
   ]
  },
  {
   "cell_type": "code",
   "execution_count": 10,
   "metadata": {},
   "outputs": [
    {
     "data": {
      "text/plain": [
       "['__label__job-search __label__visa __label__japan What kind of Visa is required to work in Academia in Japan?',\n",
       " '__label__phd __label__job-search __label__online-resource __label__chemistry As a computational chemist, which online resources are available for Ph.D. level jobs?',\n",
       " '__label__journals __label__bibliometrics __label__impact-factor Where can I find the Impact Factor for a given journal?']"
      ]
     },
     "execution_count": 10,
     "metadata": {},
     "output_type": "execute_result"
    }
   ],
   "source": [
    "dataset_list[:3]"
   ]
  },
  {
   "cell_type": "markdown",
   "metadata": {},
   "source": [
    "We want to do a trainign and validation. Before that we will shuffle through the list."
   ]
  },
  {
   "cell_type": "code",
   "execution_count": 11,
   "metadata": {},
   "outputs": [],
   "source": [
    "# shuffling a list\n",
    "from random import shuffle\n",
    "shuffle(dataset_list) # shuffling is in place. this is more like a method."
   ]
  },
  {
   "cell_type": "code",
   "execution_count": 12,
   "metadata": {},
   "outputs": [
    {
     "data": {
      "text/plain": [
       "['__label__writing Numbering Introduction and Conclusion?',\n",
       " '__label__thesis __label__mathematics Has there ever been a pure mathematics thesis longer than 909 pages?',\n",
       " '__label__research __label__education I feel like I forgot my simple mathematical knowledge']"
      ]
     },
     "execution_count": 12,
     "metadata": {},
     "output_type": "execute_result"
    }
   ],
   "source": [
    "dataset_list[:3]"
   ]
  },
  {
   "cell_type": "code",
   "execution_count": 13,
   "metadata": {},
   "outputs": [],
   "source": [
    "dataset_len = len(dataset_list)\n",
    "train_len = int(0.8 * dataset_len)\n",
    "training_data = dataset_list[:train_len]\n",
    "validation_data = dataset_list[train_len:]"
   ]
  },
  {
   "cell_type": "code",
   "execution_count": 14,
   "metadata": {},
   "outputs": [
    {
     "data": {
      "text/plain": [
       "19099"
      ]
     },
     "execution_count": 14,
     "metadata": {},
     "output_type": "execute_result"
    }
   ],
   "source": [
    "len(training_data)"
   ]
  },
  {
   "cell_type": "markdown",
   "metadata": {},
   "source": [
    "Save the lists to a training file and a validation file so that fasttext can process them."
   ]
  },
  {
   "cell_type": "code",
   "execution_count": 15,
   "metadata": {},
   "outputs": [
    {
     "name": "stdout",
     "output_type": "stream",
     "text": [
      "done\n"
     ]
    }
   ],
   "source": [
    "with open(\"posts.train\", 'w+') as fw:\n",
    "    [fw.write(t + '\\n') for t in training_data]\n",
    "with open(\"posts.val\", 'w+') as fw:\n",
    "    [fw.write(t + '\\n') for t in validation_data]\n",
    "print(\"done\")"
   ]
  },
  {
   "cell_type": "markdown",
   "metadata": {},
   "source": [
    "Now we are ready to do the actual training."
   ]
  },
  {
   "cell_type": "code",
   "execution_count": 16,
   "metadata": {},
   "outputs": [],
   "source": [
    "from fastText import train_supervised"
   ]
  },
  {
   "cell_type": "code",
   "execution_count": 17,
   "metadata": {},
   "outputs": [],
   "source": [
    "train_data = 'posts.train'\n",
    "valid_data = 'posts.val'"
   ]
  },
  {
   "cell_type": "code",
   "execution_count": 18,
   "metadata": {},
   "outputs": [
    {
     "name": "stdout",
     "output_type": "stream",
     "text": [
      "done\n"
     ]
    }
   ],
   "source": [
    "model = train_supervised(input=train_data, epoch=25, lr=1.0, wordNgrams=2, verbose=2, minCount=1)\n",
    "print('done')"
   ]
  },
  {
   "cell_type": "code",
   "execution_count": 19,
   "metadata": {},
   "outputs": [],
   "source": [
    "def print_results(N, p, r):\n",
    "    print(\"N\\t\" + str(N))\n",
    "    print(\"P@{}\\t{:.3f}\".format(3, p))\n",
    "    print(\"R@{}\\t{:.3f}\".format(3, r))"
   ]
  },
  {
   "cell_type": "code",
   "execution_count": 20,
   "metadata": {},
   "outputs": [
    {
     "name": "stdout",
     "output_type": "stream",
     "text": [
      "N\t4775\n",
      "P@3\t0.571\n",
      "R@3\t0.216\n"
     ]
    }
   ],
   "source": [
    "print_results(*model.test(valid_data))"
   ]
  },
  {
   "cell_type": "code",
   "execution_count": 21,
   "metadata": {},
   "outputs": [
    {
     "data": {
      "text/plain": [
       "(('__label__phd', '__label__academic-life', '__label__research'),\n",
       " array([0.34132218, 0.1827462 , 0.1314908 ]))"
      ]
     },
     "execution_count": 21,
     "metadata": {},
     "output_type": "execute_result"
    }
   ],
   "source": [
    "model.predict(\"I love datascience.\", k=3)"
   ]
  },
  {
   "cell_type": "code",
   "execution_count": null,
   "metadata": {},
   "outputs": [],
   "source": []
  }
 ],
 "metadata": {
  "kernelspec": {
   "display_name": "Python 3",
   "language": "python",
   "name": "python3"
  },
  "language_info": {
   "codemirror_mode": {
    "name": "ipython",
    "version": 3
   },
   "file_extension": ".py",
   "mimetype": "text/x-python",
   "name": "python",
   "nbconvert_exporter": "python",
   "pygments_lexer": "ipython3",
   "version": "3.7.0"
  }
 },
 "nbformat": 4,
 "nbformat_minor": 2
}
