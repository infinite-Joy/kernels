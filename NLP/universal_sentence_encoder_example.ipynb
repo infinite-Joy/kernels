{
  "nbformat": 4,
  "nbformat_minor": 0,
  "metadata": {
    "colab": {
      "name": "universal_sentence_encoder_example",
      "provenance": []
    },
    "kernelspec": {
      "name": "python3",
      "display_name": "Python 3"
    }
  },
  "cells": [
    {
      "cell_type": "markdown",
      "metadata": {
        "id": "EG3JNc2e9l0g"
      },
      "source": [
        "## reference: https://heartbeat.fritz.ai/introduction-to-googles-universal-sentence-encoder-a-state-of-art-model-377c025afaca"
      ]
    },
    {
      "cell_type": "markdown",
      "metadata": {
        "id": "pLfrS-mc9qpq"
      },
      "source": [
        ""
      ]
    },
    {
      "cell_type": "code",
      "metadata": {
        "id": "Qx9TJ2OX9ruQ"
      },
      "source": [
        "import tensorflow as tf\n",
        "import tensorflow_hub as hub\n",
        "import matplotlib.pyplot as plt\n",
        "import numpy as np\n",
        "import os\n",
        "import pandas as pd\n",
        "import scipy.spatial"
      ],
      "execution_count": 3,
      "outputs": []
    },
    {
      "cell_type": "code",
      "metadata": {
        "colab": {
          "base_uri": "https://localhost:8080/"
        },
        "id": "2-G2bxpx96vo",
        "outputId": "57820d08-1235-4133-a245-ae249414307d"
      },
      "source": [
        "# loading pretrained model\n",
        "module_url = \"https://tfhub.dev/google/universal-sentence-encoder/4\"\n",
        "model = hub.load(module_url)\n",
        "print(\"Universal sentence encoder loaded from {}\".format(module_url))"
      ],
      "execution_count": 4,
      "outputs": [
        {
          "output_type": "stream",
          "text": [
            "Universal sentence encoder loaded from https://tfhub.dev/google/universal-sentence-encoder/4\n"
          ],
          "name": "stdout"
        }
      ]
    },
    {
      "cell_type": "markdown",
      "metadata": {
        "id": "1_qyMXhM-RBp"
      },
      "source": [
        "## get embeddings for the sentence"
      ]
    },
    {
      "cell_type": "code",
      "metadata": {
        "id": "kAc508kW-OWY"
      },
      "source": [
        "def embed(input):\n",
        "  return model(input)"
      ],
      "execution_count": 5,
      "outputs": []
    },
    {
      "cell_type": "code",
      "metadata": {
        "colab": {
          "base_uri": "https://localhost:8080/"
        },
        "id": "LpwZNQZS-V5B",
        "outputId": "88afd7ac-7f39-4df2-e581-f555adc3988b"
      },
      "source": [
        "sentence = \"This is an example code to get embeddings of a sentence\"\n",
        "message_embeddings = embed([sentence])\n",
        "\n",
        "print(\"Message: {}\".format(sentence))\n",
        "print(\"Embedding size: {}\".format(len(message_embeddings[0])))\n",
        "# message_embedding_snippet = \", \".join(\n",
        "    \n",
        "# )"
      ],
      "execution_count": 6,
      "outputs": [
        {
          "output_type": "stream",
          "text": [
            "Message: This is an example code to get embeddings of a sentence\n",
            "Embedding size: 512\n"
          ],
          "name": "stdout"
        }
      ]
    },
    {
      "cell_type": "markdown",
      "metadata": {
        "id": "hXMd-mp8_EyQ"
      },
      "source": [
        "## measuring textual similarity"
      ]
    },
    {
      "cell_type": "code",
      "metadata": {
        "id": "7IVAeZAu_Aqf"
      },
      "source": [
        "def similarity_measure(messages_):\n",
        "  message_embeddings_ = embed(messages_)\n",
        "  distance1 = scipy.spatial.distance.cdist([message_embeddings_[0]], [message_embeddings_[1]], \"cosine\")[0]\n",
        "  print(\"Similarity Score: {}\".format(1 - distance1))"
      ],
      "execution_count": 7,
      "outputs": []
    },
    {
      "cell_type": "code",
      "metadata": {
        "colab": {
          "base_uri": "https://localhost:8080/"
        },
        "id": "wI7i0a40_kYw",
        "outputId": "c4de25fc-a5c5-4d58-f2c8-19f588f08baf"
      },
      "source": [
        "messages = [\n",
        "            \"how old are you?\",\n",
        "            \"what is your age?\"\n",
        "]\n",
        "similarity_measure(messages)"
      ],
      "execution_count": 8,
      "outputs": [
        {
          "output_type": "stream",
          "text": [
            "Similarity Score: [0.80158677]\n"
          ],
          "name": "stdout"
        }
      ]
    },
    {
      "cell_type": "code",
      "metadata": {
        "id": "plXu34OD_sD0"
      },
      "source": [
        ""
      ],
      "execution_count": null,
      "outputs": []
    }
  ]
}