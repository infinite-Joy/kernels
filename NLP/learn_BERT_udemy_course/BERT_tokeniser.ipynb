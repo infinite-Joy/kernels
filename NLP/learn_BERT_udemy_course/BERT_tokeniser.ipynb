{
  "nbformat": 4,
  "nbformat_minor": 0,
  "metadata": {
    "accelerator": "GPU",
    "colab": {
      "name": "BERT tokeniser",
      "provenance": []
    },
    "kernelspec": {
      "display_name": "Python 3",
      "name": "python3"
    }
  },
  "cells": [
    {
      "cell_type": "markdown",
      "metadata": {
        "id": "sXK-x-thZOFW"
      },
      "source": [
        "data source: http://help.sentiment140.com/for-students\n",
        "\n",
        "learn bert NLP course https://www.udemy.com/course/bert-nlp-algorithm/learn/lecture/17347024#overview"
      ]
    },
    {
      "cell_type": "code",
      "metadata": {
        "id": "1D0fyeGEQERV"
      },
      "source": [
        "import numpy as np\n",
        "import math\n",
        "import re\n",
        "import pandas as pd\n",
        "from bs4 import BeautifulSoup\n",
        "import random\n",
        "\n",
        "\n",
        "from google.colab import drive"
      ],
      "execution_count": null,
      "outputs": []
    },
    {
      "cell_type": "code",
      "metadata": {
        "colab": {
          "base_uri": "https://localhost:8080/"
        },
        "id": "irQ9IAB8OVe9",
        "outputId": "c1ac5665-2c8a-4d47-9283-3d03a0e6ba43"
      },
      "source": [
        "  !pip install bert-for-tf2"
      ],
      "execution_count": null,
      "outputs": [
        {
          "output_type": "stream",
          "text": [
            "Collecting bert-for-tf2\n",
            "\u001b[?25l  Downloading https://files.pythonhosted.org/packages/18/d3/820ccaf55f1e24b5dd43583ac0da6d86c2d27bbdfffadbba69bafe73ca93/bert-for-tf2-0.14.7.tar.gz (41kB)\n",
            "\r\u001b[K     |████████                        | 10kB 25.0MB/s eta 0:00:01\r\u001b[K     |████████████████                | 20kB 32.5MB/s eta 0:00:01\r\u001b[K     |███████████████████████▉        | 30kB 21.9MB/s eta 0:00:01\r\u001b[K     |███████████████████████████████▉| 40kB 18.3MB/s eta 0:00:01\r\u001b[K     |████████████████████████████████| 51kB 7.1MB/s \n",
            "\u001b[?25hCollecting py-params>=0.9.6\n",
            "  Downloading https://files.pythonhosted.org/packages/a4/bf/c1c70d5315a8677310ea10a41cfc41c5970d9b37c31f9c90d4ab98021fd1/py-params-0.9.7.tar.gz\n",
            "Collecting params-flow>=0.8.0\n",
            "  Downloading https://files.pythonhosted.org/packages/a9/95/ff49f5ebd501f142a6f0aaf42bcfd1c192dc54909d1d9eb84ab031d46056/params-flow-0.8.2.tar.gz\n",
            "Requirement already satisfied: numpy in /usr/local/lib/python3.6/dist-packages (from params-flow>=0.8.0->bert-for-tf2) (1.19.4)\n",
            "Requirement already satisfied: tqdm in /usr/local/lib/python3.6/dist-packages (from params-flow>=0.8.0->bert-for-tf2) (4.41.1)\n",
            "Building wheels for collected packages: bert-for-tf2, py-params, params-flow\n",
            "  Building wheel for bert-for-tf2 (setup.py) ... \u001b[?25l\u001b[?25hdone\n",
            "  Created wheel for bert-for-tf2: filename=bert_for_tf2-0.14.7-cp36-none-any.whl size=30537 sha256=45287a7599e8ec07d6edd7816c056afb12e95271bb2951c25cb3dec60fb9bdef\n",
            "  Stored in directory: /root/.cache/pip/wheels/e1/f8/e2/b98f79a6b8cc898d8e4102b83acb8a098df7d27500a2bac912\n",
            "  Building wheel for py-params (setup.py) ... \u001b[?25l\u001b[?25hdone\n",
            "  Created wheel for py-params: filename=py_params-0.9.7-cp36-none-any.whl size=7303 sha256=e53306f1e35643b19e49258e84ca7143c57868e9627cc7ea38208f19b1223300\n",
            "  Stored in directory: /root/.cache/pip/wheels/67/f5/19/b461849a50aefdf4bab47c4756596e82ee2118b8278e5a1980\n",
            "  Building wheel for params-flow (setup.py) ... \u001b[?25l\u001b[?25hdone\n",
            "  Created wheel for params-flow: filename=params_flow-0.8.2-cp36-none-any.whl size=19474 sha256=a1c6dfbea0a524e88d3e61b526ed0d793441af07261fa2ed1c694e9268a48fc2\n",
            "  Stored in directory: /root/.cache/pip/wheels/08/c8/7f/81c86b9ff2b86e2c477e3914175be03e679e596067dc630c06\n",
            "Successfully built bert-for-tf2 py-params params-flow\n",
            "Installing collected packages: py-params, params-flow, bert-for-tf2\n",
            "Successfully installed bert-for-tf2-0.14.7 params-flow-0.8.2 py-params-0.9.7\n"
          ],
          "name": "stdout"
        }
      ]
    },
    {
      "cell_type": "code",
      "metadata": {
        "colab": {
          "base_uri": "https://localhost:8080/"
        },
        "id": "sRdXs311OvNf",
        "outputId": "53802884-7473-4cb7-c290-6672a761e409"
      },
      "source": [
        "!pip install sentencepiece"
      ],
      "execution_count": null,
      "outputs": [
        {
          "output_type": "stream",
          "text": [
            "Collecting sentencepiece\n",
            "\u001b[?25l  Downloading https://files.pythonhosted.org/packages/e5/2d/6d4ca4bef9a67070fa1cac508606328329152b1df10bdf31fb6e4e727894/sentencepiece-0.1.94-cp36-cp36m-manylinux2014_x86_64.whl (1.1MB)\n",
            "\r\u001b[K     |▎                               | 10kB 23.8MB/s eta 0:00:01\r\u001b[K     |▋                               | 20kB 32.3MB/s eta 0:00:01\r\u001b[K     |▉                               | 30kB 38.5MB/s eta 0:00:01\r\u001b[K     |█▏                              | 40kB 35.8MB/s eta 0:00:01\r\u001b[K     |█▌                              | 51kB 33.8MB/s eta 0:00:01\r\u001b[K     |█▊                              | 61kB 25.9MB/s eta 0:00:01\r\u001b[K     |██                              | 71kB 24.1MB/s eta 0:00:01\r\u001b[K     |██▍                             | 81kB 21.9MB/s eta 0:00:01\r\u001b[K     |██▋                             | 92kB 20.7MB/s eta 0:00:01\r\u001b[K     |███                             | 102kB 21.1MB/s eta 0:00:01\r\u001b[K     |███▎                            | 112kB 21.1MB/s eta 0:00:01\r\u001b[K     |███▌                            | 122kB 21.1MB/s eta 0:00:01\r\u001b[K     |███▉                            | 133kB 21.1MB/s eta 0:00:01\r\u001b[K     |████▏                           | 143kB 21.1MB/s eta 0:00:01\r\u001b[K     |████▍                           | 153kB 21.1MB/s eta 0:00:01\r\u001b[K     |████▊                           | 163kB 21.1MB/s eta 0:00:01\r\u001b[K     |█████                           | 174kB 21.1MB/s eta 0:00:01\r\u001b[K     |█████▎                          | 184kB 21.1MB/s eta 0:00:01\r\u001b[K     |█████▋                          | 194kB 21.1MB/s eta 0:00:01\r\u001b[K     |█████▉                          | 204kB 21.1MB/s eta 0:00:01\r\u001b[K     |██████▏                         | 215kB 21.1MB/s eta 0:00:01\r\u001b[K     |██████▌                         | 225kB 21.1MB/s eta 0:00:01\r\u001b[K     |██████▊                         | 235kB 21.1MB/s eta 0:00:01\r\u001b[K     |███████                         | 245kB 21.1MB/s eta 0:00:01\r\u001b[K     |███████▍                        | 256kB 21.1MB/s eta 0:00:01\r\u001b[K     |███████▋                        | 266kB 21.1MB/s eta 0:00:01\r\u001b[K     |████████                        | 276kB 21.1MB/s eta 0:00:01\r\u001b[K     |████████▎                       | 286kB 21.1MB/s eta 0:00:01\r\u001b[K     |████████▌                       | 296kB 21.1MB/s eta 0:00:01\r\u001b[K     |████████▉                       | 307kB 21.1MB/s eta 0:00:01\r\u001b[K     |█████████                       | 317kB 21.1MB/s eta 0:00:01\r\u001b[K     |█████████▍                      | 327kB 21.1MB/s eta 0:00:01\r\u001b[K     |█████████▊                      | 337kB 21.1MB/s eta 0:00:01\r\u001b[K     |██████████                      | 348kB 21.1MB/s eta 0:00:01\r\u001b[K     |██████████▎                     | 358kB 21.1MB/s eta 0:00:01\r\u001b[K     |██████████▋                     | 368kB 21.1MB/s eta 0:00:01\r\u001b[K     |██████████▉                     | 378kB 21.1MB/s eta 0:00:01\r\u001b[K     |███████████▏                    | 389kB 21.1MB/s eta 0:00:01\r\u001b[K     |███████████▌                    | 399kB 21.1MB/s eta 0:00:01\r\u001b[K     |███████████▊                    | 409kB 21.1MB/s eta 0:00:01\r\u001b[K     |████████████                    | 419kB 21.1MB/s eta 0:00:01\r\u001b[K     |████████████▍                   | 430kB 21.1MB/s eta 0:00:01\r\u001b[K     |████████████▋                   | 440kB 21.1MB/s eta 0:00:01\r\u001b[K     |█████████████                   | 450kB 21.1MB/s eta 0:00:01\r\u001b[K     |█████████████▎                  | 460kB 21.1MB/s eta 0:00:01\r\u001b[K     |█████████████▌                  | 471kB 21.1MB/s eta 0:00:01\r\u001b[K     |█████████████▉                  | 481kB 21.1MB/s eta 0:00:01\r\u001b[K     |██████████████                  | 491kB 21.1MB/s eta 0:00:01\r\u001b[K     |██████████████▍                 | 501kB 21.1MB/s eta 0:00:01\r\u001b[K     |██████████████▊                 | 512kB 21.1MB/s eta 0:00:01\r\u001b[K     |███████████████                 | 522kB 21.1MB/s eta 0:00:01\r\u001b[K     |███████████████▎                | 532kB 21.1MB/s eta 0:00:01\r\u001b[K     |███████████████▋                | 542kB 21.1MB/s eta 0:00:01\r\u001b[K     |███████████████▉                | 552kB 21.1MB/s eta 0:00:01\r\u001b[K     |████████████████▏               | 563kB 21.1MB/s eta 0:00:01\r\u001b[K     |████████████████▌               | 573kB 21.1MB/s eta 0:00:01\r\u001b[K     |████████████████▊               | 583kB 21.1MB/s eta 0:00:01\r\u001b[K     |█████████████████               | 593kB 21.1MB/s eta 0:00:01\r\u001b[K     |█████████████████▍              | 604kB 21.1MB/s eta 0:00:01\r\u001b[K     |█████████████████▋              | 614kB 21.1MB/s eta 0:00:01\r\u001b[K     |██████████████████              | 624kB 21.1MB/s eta 0:00:01\r\u001b[K     |██████████████████▏             | 634kB 21.1MB/s eta 0:00:01\r\u001b[K     |██████████████████▌             | 645kB 21.1MB/s eta 0:00:01\r\u001b[K     |██████████████████▉             | 655kB 21.1MB/s eta 0:00:01\r\u001b[K     |███████████████████             | 665kB 21.1MB/s eta 0:00:01\r\u001b[K     |███████████████████▍            | 675kB 21.1MB/s eta 0:00:01\r\u001b[K     |███████████████████▊            | 686kB 21.1MB/s eta 0:00:01\r\u001b[K     |████████████████████            | 696kB 21.1MB/s eta 0:00:01\r\u001b[K     |████████████████████▎           | 706kB 21.1MB/s eta 0:00:01\r\u001b[K     |████████████████████▋           | 716kB 21.1MB/s eta 0:00:01\r\u001b[K     |████████████████████▉           | 727kB 21.1MB/s eta 0:00:01\r\u001b[K     |█████████████████████▏          | 737kB 21.1MB/s eta 0:00:01\r\u001b[K     |█████████████████████▌          | 747kB 21.1MB/s eta 0:00:01\r\u001b[K     |█████████████████████▊          | 757kB 21.1MB/s eta 0:00:01\r\u001b[K     |██████████████████████          | 768kB 21.1MB/s eta 0:00:01\r\u001b[K     |██████████████████████▎         | 778kB 21.1MB/s eta 0:00:01\r\u001b[K     |██████████████████████▋         | 788kB 21.1MB/s eta 0:00:01\r\u001b[K     |███████████████████████         | 798kB 21.1MB/s eta 0:00:01\r\u001b[K     |███████████████████████▏        | 808kB 21.1MB/s eta 0:00:01\r\u001b[K     |███████████████████████▌        | 819kB 21.1MB/s eta 0:00:01\r\u001b[K     |███████████████████████▉        | 829kB 21.1MB/s eta 0:00:01\r\u001b[K     |████████████████████████        | 839kB 21.1MB/s eta 0:00:01\r\u001b[K     |████████████████████████▍       | 849kB 21.1MB/s eta 0:00:01\r\u001b[K     |████████████████████████▊       | 860kB 21.1MB/s eta 0:00:01\r\u001b[K     |█████████████████████████       | 870kB 21.1MB/s eta 0:00:01\r\u001b[K     |█████████████████████████▎      | 880kB 21.1MB/s eta 0:00:01\r\u001b[K     |█████████████████████████▋      | 890kB 21.1MB/s eta 0:00:01\r\u001b[K     |█████████████████████████▉      | 901kB 21.1MB/s eta 0:00:01\r\u001b[K     |██████████████████████████▏     | 911kB 21.1MB/s eta 0:00:01\r\u001b[K     |██████████████████████████▌     | 921kB 21.1MB/s eta 0:00:01\r\u001b[K     |██████████████████████████▊     | 931kB 21.1MB/s eta 0:00:01\r\u001b[K     |███████████████████████████     | 942kB 21.1MB/s eta 0:00:01\r\u001b[K     |███████████████████████████▎    | 952kB 21.1MB/s eta 0:00:01\r\u001b[K     |███████████████████████████▋    | 962kB 21.1MB/s eta 0:00:01\r\u001b[K     |████████████████████████████    | 972kB 21.1MB/s eta 0:00:01\r\u001b[K     |████████████████████████████▏   | 983kB 21.1MB/s eta 0:00:01\r\u001b[K     |████████████████████████████▌   | 993kB 21.1MB/s eta 0:00:01\r\u001b[K     |████████████████████████████▉   | 1.0MB 21.1MB/s eta 0:00:01\r\u001b[K     |█████████████████████████████   | 1.0MB 21.1MB/s eta 0:00:01\r\u001b[K     |█████████████████████████████▍  | 1.0MB 21.1MB/s eta 0:00:01\r\u001b[K     |█████████████████████████████▊  | 1.0MB 21.1MB/s eta 0:00:01\r\u001b[K     |██████████████████████████████  | 1.0MB 21.1MB/s eta 0:00:01\r\u001b[K     |██████████████████████████████▎ | 1.1MB 21.1MB/s eta 0:00:01\r\u001b[K     |██████████████████████████████▋ | 1.1MB 21.1MB/s eta 0:00:01\r\u001b[K     |██████████████████████████████▉ | 1.1MB 21.1MB/s eta 0:00:01\r\u001b[K     |███████████████████████████████▏| 1.1MB 21.1MB/s eta 0:00:01\r\u001b[K     |███████████████████████████████▍| 1.1MB 21.1MB/s eta 0:00:01\r\u001b[K     |███████████████████████████████▊| 1.1MB 21.1MB/s eta 0:00:01\r\u001b[K     |████████████████████████████████| 1.1MB 21.1MB/s \n",
            "\u001b[?25hInstalling collected packages: sentencepiece\n",
            "Successfully installed sentencepiece-0.1.94\n"
          ],
          "name": "stdout"
        }
      ]
    },
    {
      "cell_type": "code",
      "metadata": {
        "id": "V63VETbXO0SF"
      },
      "source": [
        "try:\n",
        "  %tensorflow_version 2.x\n",
        "except Exception:\n",
        "  pass\n",
        "\n",
        "import tensorflow as tf\n",
        "\n",
        "import tensorflow_hub as hub\n",
        "\n",
        "from tensorflow.keras import layers\n",
        "import bert"
      ],
      "execution_count": null,
      "outputs": []
    },
    {
      "cell_type": "code",
      "metadata": {
        "colab": {
          "base_uri": "https://localhost:8080/"
        },
        "id": "g-r0rEPJPU-0",
        "outputId": "3d2078f1-7260-4907-d029-c3be61c2d424"
      },
      "source": [
        "print(tf.version.VERSION)"
      ],
      "execution_count": null,
      "outputs": [
        {
          "output_type": "stream",
          "text": [
            "2.4.0\n"
          ],
          "name": "stdout"
        }
      ]
    },
    {
      "cell_type": "code",
      "metadata": {
        "colab": {
          "base_uri": "https://localhost:8080/"
        },
        "id": "cA5eChfpPtbG",
        "outputId": "46e63ec4-5248-4a66-8e4c-8afea4cbc249"
      },
      "source": [
        "drive.mount(\"/content/drive\")"
      ],
      "execution_count": null,
      "outputs": [
        {
          "output_type": "stream",
          "text": [
            "Mounted at /content/drive\n"
          ],
          "name": "stdout"
        }
      ]
    },
    {
      "cell_type": "markdown",
      "metadata": {
        "id": "FMcJalSoQVLV"
      },
      "source": [
        "## Read data and load to dataframe"
      ]
    },
    {
      "cell_type": "code",
      "metadata": {
        "id": "W_3HFiLVQfiK"
      },
      "source": [
        "columns = [\"sentiment\", \"id\", \"date\", \"query\", \"user\", \"text\"]"
      ],
      "execution_count": null,
      "outputs": []
    },
    {
      "cell_type": "code",
      "metadata": {
        "id": "x-C5EuSnQH3o"
      },
      "source": [
        "data = pd.read_csv(\"/content/drive/MyDrive/BERT/sentiment_data/train.csv\",\n",
        "                   header=None, names=columns, engine=\"python\", encoding=\"latin1\")"
      ],
      "execution_count": null,
      "outputs": []
    },
    {
      "cell_type": "code",
      "metadata": {
        "colab": {
          "base_uri": "https://localhost:8080/"
        },
        "id": "3Ckb5y0MRGYQ",
        "outputId": "044998fa-b57c-4a39-822e-3f32c1da40f6"
      },
      "source": [
        "data.head()"
      ],
      "execution_count": null,
      "outputs": [
        {
          "output_type": "execute_result",
          "data": {
            "text/html": [
              "<div>\n",
              "<style scoped>\n",
              "    .dataframe tbody tr th:only-of-type {\n",
              "        vertical-align: middle;\n",
              "    }\n",
              "\n",
              "    .dataframe tbody tr th {\n",
              "        vertical-align: top;\n",
              "    }\n",
              "\n",
              "    .dataframe thead th {\n",
              "        text-align: right;\n",
              "    }\n",
              "</style>\n",
              "<table border=\"1\" class=\"dataframe\">\n",
              "  <thead>\n",
              "    <tr style=\"text-align: right;\">\n",
              "      <th></th>\n",
              "      <th>sentiment</th>\n",
              "      <th>id</th>\n",
              "      <th>date</th>\n",
              "      <th>query</th>\n",
              "      <th>user</th>\n",
              "      <th>text</th>\n",
              "    </tr>\n",
              "  </thead>\n",
              "  <tbody>\n",
              "    <tr>\n",
              "      <th>0</th>\n",
              "      <td>0</td>\n",
              "      <td>1467810369</td>\n",
              "      <td>Mon Apr 06 22:19:45 PDT 2009</td>\n",
              "      <td>NO_QUERY</td>\n",
              "      <td>_TheSpecialOne_</td>\n",
              "      <td>@switchfoot http://twitpic.com/2y1zl - Awww, t...</td>\n",
              "    </tr>\n",
              "    <tr>\n",
              "      <th>1</th>\n",
              "      <td>0</td>\n",
              "      <td>1467810672</td>\n",
              "      <td>Mon Apr 06 22:19:49 PDT 2009</td>\n",
              "      <td>NO_QUERY</td>\n",
              "      <td>scotthamilton</td>\n",
              "      <td>is upset that he can't update his Facebook by ...</td>\n",
              "    </tr>\n",
              "    <tr>\n",
              "      <th>2</th>\n",
              "      <td>0</td>\n",
              "      <td>1467810917</td>\n",
              "      <td>Mon Apr 06 22:19:53 PDT 2009</td>\n",
              "      <td>NO_QUERY</td>\n",
              "      <td>mattycus</td>\n",
              "      <td>@Kenichan I dived many times for the ball. Man...</td>\n",
              "    </tr>\n",
              "    <tr>\n",
              "      <th>3</th>\n",
              "      <td>0</td>\n",
              "      <td>1467811184</td>\n",
              "      <td>Mon Apr 06 22:19:57 PDT 2009</td>\n",
              "      <td>NO_QUERY</td>\n",
              "      <td>ElleCTF</td>\n",
              "      <td>my whole body feels itchy and like its on fire</td>\n",
              "    </tr>\n",
              "    <tr>\n",
              "      <th>4</th>\n",
              "      <td>0</td>\n",
              "      <td>1467811193</td>\n",
              "      <td>Mon Apr 06 22:19:57 PDT 2009</td>\n",
              "      <td>NO_QUERY</td>\n",
              "      <td>Karoli</td>\n",
              "      <td>@nationwideclass no, it's not behaving at all....</td>\n",
              "    </tr>\n",
              "  </tbody>\n",
              "</table>\n",
              "</div>"
            ],
            "text/plain": [
              "   sentiment  ...                                               text\n",
              "0          0  ...  @switchfoot http://twitpic.com/2y1zl - Awww, t...\n",
              "1          0  ...  is upset that he can't update his Facebook by ...\n",
              "2          0  ...  @Kenichan I dived many times for the ball. Man...\n",
              "3          0  ...    my whole body feels itchy and like its on fire \n",
              "4          0  ...  @nationwideclass no, it's not behaving at all....\n",
              "\n",
              "[5 rows x 6 columns]"
            ]
          },
          "metadata": {
            "tags": []
          },
          "execution_count": 11
        }
      ]
    },
    {
      "cell_type": "code",
      "metadata": {
        "id": "XGwnVzJKRTtY"
      },
      "source": [
        "data.drop([\"id\", \"date\", \"query\", \"user\"], inplace=True, axis=1)"
      ],
      "execution_count": null,
      "outputs": []
    },
    {
      "cell_type": "code",
      "metadata": {
        "colab": {
          "base_uri": "https://localhost:8080/"
        },
        "id": "wO_9tm0GSWzm",
        "outputId": "b9f22a93-f935-404d-bbfc-8c4fbc9aab0a"
      },
      "source": [
        "data.head()"
      ],
      "execution_count": null,
      "outputs": [
        {
          "output_type": "execute_result",
          "data": {
            "text/html": [
              "<div>\n",
              "<style scoped>\n",
              "    .dataframe tbody tr th:only-of-type {\n",
              "        vertical-align: middle;\n",
              "    }\n",
              "\n",
              "    .dataframe tbody tr th {\n",
              "        vertical-align: top;\n",
              "    }\n",
              "\n",
              "    .dataframe thead th {\n",
              "        text-align: right;\n",
              "    }\n",
              "</style>\n",
              "<table border=\"1\" class=\"dataframe\">\n",
              "  <thead>\n",
              "    <tr style=\"text-align: right;\">\n",
              "      <th></th>\n",
              "      <th>sentiment</th>\n",
              "      <th>text</th>\n",
              "    </tr>\n",
              "  </thead>\n",
              "  <tbody>\n",
              "    <tr>\n",
              "      <th>0</th>\n",
              "      <td>0</td>\n",
              "      <td>@switchfoot http://twitpic.com/2y1zl - Awww, t...</td>\n",
              "    </tr>\n",
              "    <tr>\n",
              "      <th>1</th>\n",
              "      <td>0</td>\n",
              "      <td>is upset that he can't update his Facebook by ...</td>\n",
              "    </tr>\n",
              "    <tr>\n",
              "      <th>2</th>\n",
              "      <td>0</td>\n",
              "      <td>@Kenichan I dived many times for the ball. Man...</td>\n",
              "    </tr>\n",
              "    <tr>\n",
              "      <th>3</th>\n",
              "      <td>0</td>\n",
              "      <td>my whole body feels itchy and like its on fire</td>\n",
              "    </tr>\n",
              "    <tr>\n",
              "      <th>4</th>\n",
              "      <td>0</td>\n",
              "      <td>@nationwideclass no, it's not behaving at all....</td>\n",
              "    </tr>\n",
              "  </tbody>\n",
              "</table>\n",
              "</div>"
            ],
            "text/plain": [
              "   sentiment                                               text\n",
              "0          0  @switchfoot http://twitpic.com/2y1zl - Awww, t...\n",
              "1          0  is upset that he can't update his Facebook by ...\n",
              "2          0  @Kenichan I dived many times for the ball. Man...\n",
              "3          0    my whole body feels itchy and like its on fire \n",
              "4          0  @nationwideclass no, it's not behaving at all...."
            ]
          },
          "metadata": {
            "tags": []
          },
          "execution_count": 13
        }
      ]
    },
    {
      "cell_type": "code",
      "metadata": {
        "colab": {
          "base_uri": "https://localhost:8080/"
        },
        "id": "XnDWuJYGSY2O",
        "outputId": "c04527b8-530d-4978-c011-65e3cbdd7ed0"
      },
      "source": [
        "data[data[\"sentiment\"]!=0].head()"
      ],
      "execution_count": null,
      "outputs": [
        {
          "output_type": "execute_result",
          "data": {
            "text/html": [
              "<div>\n",
              "<style scoped>\n",
              "    .dataframe tbody tr th:only-of-type {\n",
              "        vertical-align: middle;\n",
              "    }\n",
              "\n",
              "    .dataframe tbody tr th {\n",
              "        vertical-align: top;\n",
              "    }\n",
              "\n",
              "    .dataframe thead th {\n",
              "        text-align: right;\n",
              "    }\n",
              "</style>\n",
              "<table border=\"1\" class=\"dataframe\">\n",
              "  <thead>\n",
              "    <tr style=\"text-align: right;\">\n",
              "      <th></th>\n",
              "      <th>sentiment</th>\n",
              "      <th>text</th>\n",
              "    </tr>\n",
              "  </thead>\n",
              "  <tbody>\n",
              "    <tr>\n",
              "      <th>800000</th>\n",
              "      <td>4</td>\n",
              "      <td>I LOVE @Health4UandPets u guys r the best!!</td>\n",
              "    </tr>\n",
              "    <tr>\n",
              "      <th>800001</th>\n",
              "      <td>4</td>\n",
              "      <td>im meeting up with one of my besties tonight! ...</td>\n",
              "    </tr>\n",
              "    <tr>\n",
              "      <th>800002</th>\n",
              "      <td>4</td>\n",
              "      <td>@DaRealSunisaKim Thanks for the Twitter add, S...</td>\n",
              "    </tr>\n",
              "    <tr>\n",
              "      <th>800003</th>\n",
              "      <td>4</td>\n",
              "      <td>Being sick can be really cheap when it hurts t...</td>\n",
              "    </tr>\n",
              "    <tr>\n",
              "      <th>800004</th>\n",
              "      <td>4</td>\n",
              "      <td>@LovesBrooklyn2 he has that effect on everyone</td>\n",
              "    </tr>\n",
              "  </tbody>\n",
              "</table>\n",
              "</div>"
            ],
            "text/plain": [
              "        sentiment                                               text\n",
              "800000          4       I LOVE @Health4UandPets u guys r the best!! \n",
              "800001          4  im meeting up with one of my besties tonight! ...\n",
              "800002          4  @DaRealSunisaKim Thanks for the Twitter add, S...\n",
              "800003          4  Being sick can be really cheap when it hurts t...\n",
              "800004          4    @LovesBrooklyn2 he has that effect on everyone "
            ]
          },
          "metadata": {
            "tags": []
          },
          "execution_count": 14
        }
      ]
    },
    {
      "cell_type": "markdown",
      "metadata": {
        "id": "FEA7oPoiSogm"
      },
      "source": [
        "## DATA cleaning"
      ]
    },
    {
      "cell_type": "code",
      "metadata": {
        "id": "WbhwG8qiSq1J"
      },
      "source": [
        "def clean_tweet(tweet):\n",
        "  tweet = BeautifulSoup(tweet, \"lxml\").get_text()\n",
        "  tweet = re.sub(r'@[A-Za-z0-9]+', ' ', tweet)\n",
        "  tweet = re.sub(r'https?://[A-Za-z0-9./]+', ' ', tweet)\n",
        "  # tweet = re.sub(r'[a-zA-Z\\.?!\\'\"]+', ' ', tweet)\n",
        "  tweet = re.sub(r'\\s+', ' ', tweet)\n",
        "  tweet = re.sub(r'^\\s+', '', tweet)\n",
        "  return tweet"
      ],
      "execution_count": null,
      "outputs": []
    },
    {
      "cell_type": "code",
      "metadata": {
        "id": "ZMgMmxt5X0VC"
      },
      "source": [
        "data_sample = data.head().copy()"
      ],
      "execution_count": null,
      "outputs": []
    },
    {
      "cell_type": "code",
      "metadata": {
        "id": "BJ_jiJG-X7tB"
      },
      "source": [
        "data_sample[\"clean_text\"] = data_sample[\"text\"].apply(clean_tweet)"
      ],
      "execution_count": null,
      "outputs": []
    },
    {
      "cell_type": "code",
      "metadata": {
        "colab": {
          "base_uri": "https://localhost:8080/"
        },
        "id": "MHFA1CqLX2fE",
        "outputId": "385f1afe-ca97-44ce-d88a-9fc4c9c9446b"
      },
      "source": [
        "data_sample.head()"
      ],
      "execution_count": null,
      "outputs": [
        {
          "output_type": "execute_result",
          "data": {
            "text/html": [
              "<div>\n",
              "<style scoped>\n",
              "    .dataframe tbody tr th:only-of-type {\n",
              "        vertical-align: middle;\n",
              "    }\n",
              "\n",
              "    .dataframe tbody tr th {\n",
              "        vertical-align: top;\n",
              "    }\n",
              "\n",
              "    .dataframe thead th {\n",
              "        text-align: right;\n",
              "    }\n",
              "</style>\n",
              "<table border=\"1\" class=\"dataframe\">\n",
              "  <thead>\n",
              "    <tr style=\"text-align: right;\">\n",
              "      <th></th>\n",
              "      <th>sentiment</th>\n",
              "      <th>text</th>\n",
              "      <th>clean_text</th>\n",
              "    </tr>\n",
              "  </thead>\n",
              "  <tbody>\n",
              "    <tr>\n",
              "      <th>0</th>\n",
              "      <td>0</td>\n",
              "      <td>@switchfoot http://twitpic.com/2y1zl - Awww, t...</td>\n",
              "      <td>- Awww, that's a bummer. You shoulda got David...</td>\n",
              "    </tr>\n",
              "    <tr>\n",
              "      <th>1</th>\n",
              "      <td>0</td>\n",
              "      <td>is upset that he can't update his Facebook by ...</td>\n",
              "      <td>is upset that he can't update his Facebook by ...</td>\n",
              "    </tr>\n",
              "    <tr>\n",
              "      <th>2</th>\n",
              "      <td>0</td>\n",
              "      <td>@Kenichan I dived many times for the ball. Man...</td>\n",
              "      <td>I dived many times for the ball. Managed to sa...</td>\n",
              "    </tr>\n",
              "    <tr>\n",
              "      <th>3</th>\n",
              "      <td>0</td>\n",
              "      <td>my whole body feels itchy and like its on fire</td>\n",
              "      <td>my whole body feels itchy and like its on fire</td>\n",
              "    </tr>\n",
              "    <tr>\n",
              "      <th>4</th>\n",
              "      <td>0</td>\n",
              "      <td>@nationwideclass no, it's not behaving at all....</td>\n",
              "      <td>no, it's not behaving at all. i'm mad. why am ...</td>\n",
              "    </tr>\n",
              "  </tbody>\n",
              "</table>\n",
              "</div>"
            ],
            "text/plain": [
              "   sentiment  ...                                         clean_text\n",
              "0          0  ...  - Awww, that's a bummer. You shoulda got David...\n",
              "1          0  ...  is upset that he can't update his Facebook by ...\n",
              "2          0  ...  I dived many times for the ball. Managed to sa...\n",
              "3          0  ...    my whole body feels itchy and like its on fire \n",
              "4          0  ...  no, it's not behaving at all. i'm mad. why am ...\n",
              "\n",
              "[5 rows x 3 columns]"
            ]
          },
          "metadata": {
            "tags": []
          },
          "execution_count": 18
        }
      ]
    },
    {
      "cell_type": "code",
      "metadata": {
        "id": "iioQSlsvUTQR"
      },
      "source": [
        "data[\"clean_text\"] = data[\"text\"].apply(clean_tweet)"
      ],
      "execution_count": null,
      "outputs": []
    },
    {
      "cell_type": "code",
      "metadata": {
        "colab": {
          "base_uri": "https://localhost:8080/"
        },
        "id": "FvRb0t1dU_64",
        "outputId": "4a2b1e4d-4338-4175-ab60-c51220ca7789"
      },
      "source": [
        "data.head()"
      ],
      "execution_count": null,
      "outputs": [
        {
          "output_type": "execute_result",
          "data": {
            "text/html": [
              "<div>\n",
              "<style scoped>\n",
              "    .dataframe tbody tr th:only-of-type {\n",
              "        vertical-align: middle;\n",
              "    }\n",
              "\n",
              "    .dataframe tbody tr th {\n",
              "        vertical-align: top;\n",
              "    }\n",
              "\n",
              "    .dataframe thead th {\n",
              "        text-align: right;\n",
              "    }\n",
              "</style>\n",
              "<table border=\"1\" class=\"dataframe\">\n",
              "  <thead>\n",
              "    <tr style=\"text-align: right;\">\n",
              "      <th></th>\n",
              "      <th>sentiment</th>\n",
              "      <th>text</th>\n",
              "      <th>clean_text</th>\n",
              "    </tr>\n",
              "  </thead>\n",
              "  <tbody>\n",
              "    <tr>\n",
              "      <th>0</th>\n",
              "      <td>0</td>\n",
              "      <td>@switchfoot http://twitpic.com/2y1zl - Awww, t...</td>\n",
              "      <td>- Awww, that's a bummer. You shoulda got David...</td>\n",
              "    </tr>\n",
              "    <tr>\n",
              "      <th>1</th>\n",
              "      <td>0</td>\n",
              "      <td>is upset that he can't update his Facebook by ...</td>\n",
              "      <td>is upset that he can't update his Facebook by ...</td>\n",
              "    </tr>\n",
              "    <tr>\n",
              "      <th>2</th>\n",
              "      <td>0</td>\n",
              "      <td>@Kenichan I dived many times for the ball. Man...</td>\n",
              "      <td>I dived many times for the ball. Managed to sa...</td>\n",
              "    </tr>\n",
              "    <tr>\n",
              "      <th>3</th>\n",
              "      <td>0</td>\n",
              "      <td>my whole body feels itchy and like its on fire</td>\n",
              "      <td>my whole body feels itchy and like its on fire</td>\n",
              "    </tr>\n",
              "    <tr>\n",
              "      <th>4</th>\n",
              "      <td>0</td>\n",
              "      <td>@nationwideclass no, it's not behaving at all....</td>\n",
              "      <td>no, it's not behaving at all. i'm mad. why am ...</td>\n",
              "    </tr>\n",
              "  </tbody>\n",
              "</table>\n",
              "</div>"
            ],
            "text/plain": [
              "   sentiment  ...                                         clean_text\n",
              "0          0  ...  - Awww, that's a bummer. You shoulda got David...\n",
              "1          0  ...  is upset that he can't update his Facebook by ...\n",
              "2          0  ...  I dived many times for the ball. Managed to sa...\n",
              "3          0  ...    my whole body feels itchy and like its on fire \n",
              "4          0  ...  no, it's not behaving at all. i'm mad. why am ...\n",
              "\n",
              "[5 rows x 3 columns]"
            ]
          },
          "metadata": {
            "tags": []
          },
          "execution_count": 20
        }
      ]
    },
    {
      "cell_type": "code",
      "metadata": {
        "id": "M06VOYj8VClK"
      },
      "source": [
        "data[\"clean_text\"] = data[\"text\"].apply(clean_tweet)"
      ],
      "execution_count": null,
      "outputs": []
    },
    {
      "cell_type": "code",
      "metadata": {
        "id": "PjVZfweELvqX"
      },
      "source": [
        "data.loc[(data.sentiment==4), \"sentiment\"] = 1"
      ],
      "execution_count": null,
      "outputs": []
    },
    {
      "cell_type": "code",
      "metadata": {
        "colab": {
          "base_uri": "https://localhost:8080/"
        },
        "id": "7qEsikQAMImd",
        "outputId": "3c8df738-ddeb-4680-8278-0d6745f36793"
      },
      "source": [
        "data[data[\"sentiment\"]!=0].head()"
      ],
      "execution_count": null,
      "outputs": [
        {
          "output_type": "execute_result",
          "data": {
            "text/html": [
              "<div>\n",
              "<style scoped>\n",
              "    .dataframe tbody tr th:only-of-type {\n",
              "        vertical-align: middle;\n",
              "    }\n",
              "\n",
              "    .dataframe tbody tr th {\n",
              "        vertical-align: top;\n",
              "    }\n",
              "\n",
              "    .dataframe thead th {\n",
              "        text-align: right;\n",
              "    }\n",
              "</style>\n",
              "<table border=\"1\" class=\"dataframe\">\n",
              "  <thead>\n",
              "    <tr style=\"text-align: right;\">\n",
              "      <th></th>\n",
              "      <th>sentiment</th>\n",
              "      <th>text</th>\n",
              "      <th>clean_text</th>\n",
              "    </tr>\n",
              "  </thead>\n",
              "  <tbody>\n",
              "    <tr>\n",
              "      <th>800000</th>\n",
              "      <td>1</td>\n",
              "      <td>I LOVE @Health4UandPets u guys r the best!!</td>\n",
              "      <td>I LOVE u guys r the best!!</td>\n",
              "    </tr>\n",
              "    <tr>\n",
              "      <th>800001</th>\n",
              "      <td>1</td>\n",
              "      <td>im meeting up with one of my besties tonight! ...</td>\n",
              "      <td>im meeting up with one of my besties tonight! ...</td>\n",
              "    </tr>\n",
              "    <tr>\n",
              "      <th>800002</th>\n",
              "      <td>1</td>\n",
              "      <td>@DaRealSunisaKim Thanks for the Twitter add, S...</td>\n",
              "      <td>Thanks for the Twitter add, Sunisa! I got to m...</td>\n",
              "    </tr>\n",
              "    <tr>\n",
              "      <th>800003</th>\n",
              "      <td>1</td>\n",
              "      <td>Being sick can be really cheap when it hurts t...</td>\n",
              "      <td>Being sick can be really cheap when it hurts t...</td>\n",
              "    </tr>\n",
              "    <tr>\n",
              "      <th>800004</th>\n",
              "      <td>1</td>\n",
              "      <td>@LovesBrooklyn2 he has that effect on everyone</td>\n",
              "      <td>he has that effect on everyone</td>\n",
              "    </tr>\n",
              "  </tbody>\n",
              "</table>\n",
              "</div>"
            ],
            "text/plain": [
              "        sentiment  ...                                         clean_text\n",
              "800000          1  ...                        I LOVE u guys r the best!! \n",
              "800001          1  ...  im meeting up with one of my besties tonight! ...\n",
              "800002          1  ...  Thanks for the Twitter add, Sunisa! I got to m...\n",
              "800003          1  ...  Being sick can be really cheap when it hurts t...\n",
              "800004          1  ...                    he has that effect on everyone \n",
              "\n",
              "[5 rows x 3 columns]"
            ]
          },
          "metadata": {
            "tags": []
          },
          "execution_count": 23
        }
      ]
    },
    {
      "cell_type": "markdown",
      "metadata": {
        "id": "xka914eY0qES"
      },
      "source": [
        "## Tokenisation"
      ]
    },
    {
      "cell_type": "code",
      "metadata": {
        "id": "pNRChRVU008R"
      },
      "source": [
        "FullTokeniser = bert.bert_tokenization.FullTokenizer\n",
        "bert_layer = hub.KerasLayer(\"https://tfhub.dev/tensorflow/bert_en_uncased_L-12_H-768_A-12/3\", trainable=False)\n",
        "\n",
        "vocab_file = bert_layer.resolved_object.vocab_file.asset_path.numpy() \n",
        "do_lower_case = bert_layer.resolved_object.do_lower_case.numpy()\n",
        "tokenizer = FullTokeniser(vocab_file, do_lower_case)"
      ],
      "execution_count": null,
      "outputs": []
    },
    {
      "cell_type": "code",
      "metadata": {
        "colab": {
          "base_uri": "https://localhost:8080/"
        },
        "id": "Bwt4NUN31X3V",
        "outputId": "d81c8635-2568-4a1c-8340-2f83b268c831"
      },
      "source": [
        "tokenizer.tokenize(\"My dog loves strawberries.\")"
      ],
      "execution_count": null,
      "outputs": [
        {
          "output_type": "execute_result",
          "data": {
            "text/plain": [
              "['my', 'dog', 'loves', 'straw', '##berries', '.']"
            ]
          },
          "metadata": {
            "tags": []
          },
          "execution_count": 25
        }
      ]
    },
    {
      "cell_type": "code",
      "metadata": {
        "colab": {
          "base_uri": "https://localhost:8080/"
        },
        "id": "GzQhGlq34GyU",
        "outputId": "f2bbef5c-9025-4267-dfd6-109b55d69292"
      },
      "source": [
        "tokenizer.convert_tokens_to_ids(tokenizer.tokenize(\"My dog loves strawberries.\"))"
      ],
      "execution_count": null,
      "outputs": [
        {
          "output_type": "execute_result",
          "data": {
            "text/plain": [
              "[2026, 3899, 7459, 13137, 20968, 1012]"
            ]
          },
          "metadata": {
            "tags": []
          },
          "execution_count": 26
        }
      ]
    },
    {
      "cell_type": "code",
      "metadata": {
        "id": "9j-ExBtc4RKj"
      },
      "source": [
        "  def encode_sentence(sent):\n",
        "    return tokenizer.convert_tokens_to_ids(tokenizer.tokenize(sent))"
      ],
      "execution_count": null,
      "outputs": []
    },
    {
      "cell_type": "code",
      "metadata": {
        "id": "2kSXDX-m4n97"
      },
      "source": [
        "data[\"data_inputs\"] = data[\"clean_text\"].apply(encode_sentence)"
      ],
      "execution_count": null,
      "outputs": []
    },
    {
      "cell_type": "code",
      "metadata": {
        "colab": {
          "base_uri": "https://localhost:8080/"
        },
        "id": "70usraHw42fy",
        "outputId": "23e80ffd-a20a-467b-b362-ee7da33bc07f"
      },
      "source": [
        "data.head()"
      ],
      "execution_count": null,
      "outputs": [
        {
          "output_type": "execute_result",
          "data": {
            "text/html": [
              "<div>\n",
              "<style scoped>\n",
              "    .dataframe tbody tr th:only-of-type {\n",
              "        vertical-align: middle;\n",
              "    }\n",
              "\n",
              "    .dataframe tbody tr th {\n",
              "        vertical-align: top;\n",
              "    }\n",
              "\n",
              "    .dataframe thead th {\n",
              "        text-align: right;\n",
              "    }\n",
              "</style>\n",
              "<table border=\"1\" class=\"dataframe\">\n",
              "  <thead>\n",
              "    <tr style=\"text-align: right;\">\n",
              "      <th></th>\n",
              "      <th>sentiment</th>\n",
              "      <th>text</th>\n",
              "      <th>clean_text</th>\n",
              "      <th>data_inputs</th>\n",
              "    </tr>\n",
              "  </thead>\n",
              "  <tbody>\n",
              "    <tr>\n",
              "      <th>0</th>\n",
              "      <td>0</td>\n",
              "      <td>@switchfoot http://twitpic.com/2y1zl - Awww, t...</td>\n",
              "      <td>- Awww, that's a bummer. You shoulda got David...</td>\n",
              "      <td>[1011, 22091, 2860, 2860, 1010, 2008, 1005, 10...</td>\n",
              "    </tr>\n",
              "    <tr>\n",
              "      <th>1</th>\n",
              "      <td>0</td>\n",
              "      <td>is upset that he can't update his Facebook by ...</td>\n",
              "      <td>is upset that he can't update his Facebook by ...</td>\n",
              "      <td>[2003, 6314, 2008, 2002, 2064, 1005, 1056, 106...</td>\n",
              "    </tr>\n",
              "    <tr>\n",
              "      <th>2</th>\n",
              "      <td>0</td>\n",
              "      <td>@Kenichan I dived many times for the ball. Man...</td>\n",
              "      <td>I dived many times for the ball. Managed to sa...</td>\n",
              "      <td>[1045, 11529, 2094, 2116, 2335, 2005, 1996, 36...</td>\n",
              "    </tr>\n",
              "    <tr>\n",
              "      <th>3</th>\n",
              "      <td>0</td>\n",
              "      <td>my whole body feels itchy and like its on fire</td>\n",
              "      <td>my whole body feels itchy and like its on fire</td>\n",
              "      <td>[2026, 2878, 2303, 5683, 2009, 11714, 1998, 20...</td>\n",
              "    </tr>\n",
              "    <tr>\n",
              "      <th>4</th>\n",
              "      <td>0</td>\n",
              "      <td>@nationwideclass no, it's not behaving at all....</td>\n",
              "      <td>no, it's not behaving at all. i'm mad. why am ...</td>\n",
              "      <td>[2053, 1010, 2009, 1005, 1055, 2025, 2022, 327...</td>\n",
              "    </tr>\n",
              "  </tbody>\n",
              "</table>\n",
              "</div>"
            ],
            "text/plain": [
              "   sentiment  ...                                        data_inputs\n",
              "0          0  ...  [1011, 22091, 2860, 2860, 1010, 2008, 1005, 10...\n",
              "1          0  ...  [2003, 6314, 2008, 2002, 2064, 1005, 1056, 106...\n",
              "2          0  ...  [1045, 11529, 2094, 2116, 2335, 2005, 1996, 36...\n",
              "3          0  ...  [2026, 2878, 2303, 5683, 2009, 11714, 1998, 20...\n",
              "4          0  ...  [2053, 1010, 2009, 1005, 1055, 2025, 2022, 327...\n",
              "\n",
              "[5 rows x 4 columns]"
            ]
          },
          "metadata": {
            "tags": []
          },
          "execution_count": 29
        }
      ]
    },
    {
      "cell_type": "code",
      "metadata": {
        "id": "RZ7OFZLz43Z-"
      },
      "source": [
        ""
      ],
      "execution_count": null,
      "outputs": []
    },
    {
      "cell_type": "markdown",
      "metadata": {
        "id": "WogGMO5NG-zB"
      },
      "source": [
        "## dataset creation"
      ]
    },
    {
      "cell_type": "markdown",
      "metadata": {
        "id": "kSGH2UffHMqO"
      },
      "source": [
        "We will create padded batches (so we pad sentences for each batch independently). This way we add the minimum number of padded tokens possible. For that we sort sentences by length, add padded_batches and then shuffle"
      ]
    },
    {
      "cell_type": "code",
      "metadata": {
        "id": "kXBae9qMIgaZ"
      },
      "source": [
        "data[\"len\"] = data[\"data_inputs\"].str.len()"
      ],
      "execution_count": null,
      "outputs": []
    },
    {
      "cell_type": "code",
      "metadata": {
        "colab": {
          "base_uri": "https://localhost:8080/"
        },
        "id": "1f9M6f0vIwje",
        "outputId": "13d72599-c254-42ac-cb10-941be5bbd30f"
      },
      "source": [
        "data.head()"
      ],
      "execution_count": null,
      "outputs": [
        {
          "output_type": "execute_result",
          "data": {
            "text/html": [
              "<div>\n",
              "<style scoped>\n",
              "    .dataframe tbody tr th:only-of-type {\n",
              "        vertical-align: middle;\n",
              "    }\n",
              "\n",
              "    .dataframe tbody tr th {\n",
              "        vertical-align: top;\n",
              "    }\n",
              "\n",
              "    .dataframe thead th {\n",
              "        text-align: right;\n",
              "    }\n",
              "</style>\n",
              "<table border=\"1\" class=\"dataframe\">\n",
              "  <thead>\n",
              "    <tr style=\"text-align: right;\">\n",
              "      <th></th>\n",
              "      <th>sentiment</th>\n",
              "      <th>text</th>\n",
              "      <th>clean_text</th>\n",
              "      <th>data_inputs</th>\n",
              "      <th>len</th>\n",
              "    </tr>\n",
              "  </thead>\n",
              "  <tbody>\n",
              "    <tr>\n",
              "      <th>0</th>\n",
              "      <td>0</td>\n",
              "      <td>@switchfoot http://twitpic.com/2y1zl - Awww, t...</td>\n",
              "      <td>- Awww, that's a bummer. You shoulda got David...</td>\n",
              "      <td>[1011, 22091, 2860, 2860, 1010, 2008, 1005, 10...</td>\n",
              "      <td>27</td>\n",
              "    </tr>\n",
              "    <tr>\n",
              "      <th>1</th>\n",
              "      <td>0</td>\n",
              "      <td>is upset that he can't update his Facebook by ...</td>\n",
              "      <td>is upset that he can't update his Facebook by ...</td>\n",
              "      <td>[2003, 6314, 2008, 2002, 2064, 1005, 1056, 106...</td>\n",
              "      <td>29</td>\n",
              "    </tr>\n",
              "    <tr>\n",
              "      <th>2</th>\n",
              "      <td>0</td>\n",
              "      <td>@Kenichan I dived many times for the ball. Man...</td>\n",
              "      <td>I dived many times for the ball. Managed to sa...</td>\n",
              "      <td>[1045, 11529, 2094, 2116, 2335, 2005, 1996, 36...</td>\n",
              "      <td>20</td>\n",
              "    </tr>\n",
              "    <tr>\n",
              "      <th>3</th>\n",
              "      <td>0</td>\n",
              "      <td>my whole body feels itchy and like its on fire</td>\n",
              "      <td>my whole body feels itchy and like its on fire</td>\n",
              "      <td>[2026, 2878, 2303, 5683, 2009, 11714, 1998, 20...</td>\n",
              "      <td>11</td>\n",
              "    </tr>\n",
              "    <tr>\n",
              "      <th>4</th>\n",
              "      <td>0</td>\n",
              "      <td>@nationwideclass no, it's not behaving at all....</td>\n",
              "      <td>no, it's not behaving at all. i'm mad. why am ...</td>\n",
              "      <td>[2053, 1010, 2009, 1005, 1055, 2025, 2022, 327...</td>\n",
              "      <td>33</td>\n",
              "    </tr>\n",
              "  </tbody>\n",
              "</table>\n",
              "</div>"
            ],
            "text/plain": [
              "   sentiment  ... len\n",
              "0          0  ...  27\n",
              "1          0  ...  29\n",
              "2          0  ...  20\n",
              "3          0  ...  11\n",
              "4          0  ...  33\n",
              "\n",
              "[5 rows x 5 columns]"
            ]
          },
          "metadata": {
            "tags": []
          },
          "execution_count": 31
        }
      ]
    },
    {
      "cell_type": "code",
      "metadata": {
        "id": "jauvKDkDMWKv"
      },
      "source": [
        "data[\"data_with_len\"] = data[[\"data_inputs\", \"sentiment\"]].apply(lambda a: tuple(a), axis=1)"
      ],
      "execution_count": null,
      "outputs": []
    },
    {
      "cell_type": "code",
      "metadata": {
        "colab": {
          "base_uri": "https://localhost:8080/"
        },
        "id": "htmetyc9NKtV",
        "outputId": "c130d1ac-48ae-40c0-d87c-72c648f7bd03"
      },
      "source": [
        "data.head()"
      ],
      "execution_count": null,
      "outputs": [
        {
          "output_type": "execute_result",
          "data": {
            "text/html": [
              "<div>\n",
              "<style scoped>\n",
              "    .dataframe tbody tr th:only-of-type {\n",
              "        vertical-align: middle;\n",
              "    }\n",
              "\n",
              "    .dataframe tbody tr th {\n",
              "        vertical-align: top;\n",
              "    }\n",
              "\n",
              "    .dataframe thead th {\n",
              "        text-align: right;\n",
              "    }\n",
              "</style>\n",
              "<table border=\"1\" class=\"dataframe\">\n",
              "  <thead>\n",
              "    <tr style=\"text-align: right;\">\n",
              "      <th></th>\n",
              "      <th>sentiment</th>\n",
              "      <th>text</th>\n",
              "      <th>clean_text</th>\n",
              "      <th>data_inputs</th>\n",
              "      <th>len</th>\n",
              "      <th>data_with_len</th>\n",
              "    </tr>\n",
              "  </thead>\n",
              "  <tbody>\n",
              "    <tr>\n",
              "      <th>0</th>\n",
              "      <td>0</td>\n",
              "      <td>@switchfoot http://twitpic.com/2y1zl - Awww, t...</td>\n",
              "      <td>- Awww, that's a bummer. You shoulda got David...</td>\n",
              "      <td>[1011, 22091, 2860, 2860, 1010, 2008, 1005, 10...</td>\n",
              "      <td>27</td>\n",
              "      <td>([1011, 22091, 2860, 2860, 1010, 2008, 1005, 1...</td>\n",
              "    </tr>\n",
              "    <tr>\n",
              "      <th>1</th>\n",
              "      <td>0</td>\n",
              "      <td>is upset that he can't update his Facebook by ...</td>\n",
              "      <td>is upset that he can't update his Facebook by ...</td>\n",
              "      <td>[2003, 6314, 2008, 2002, 2064, 1005, 1056, 106...</td>\n",
              "      <td>29</td>\n",
              "      <td>([2003, 6314, 2008, 2002, 2064, 1005, 1056, 10...</td>\n",
              "    </tr>\n",
              "    <tr>\n",
              "      <th>2</th>\n",
              "      <td>0</td>\n",
              "      <td>@Kenichan I dived many times for the ball. Man...</td>\n",
              "      <td>I dived many times for the ball. Managed to sa...</td>\n",
              "      <td>[1045, 11529, 2094, 2116, 2335, 2005, 1996, 36...</td>\n",
              "      <td>20</td>\n",
              "      <td>([1045, 11529, 2094, 2116, 2335, 2005, 1996, 3...</td>\n",
              "    </tr>\n",
              "    <tr>\n",
              "      <th>3</th>\n",
              "      <td>0</td>\n",
              "      <td>my whole body feels itchy and like its on fire</td>\n",
              "      <td>my whole body feels itchy and like its on fire</td>\n",
              "      <td>[2026, 2878, 2303, 5683, 2009, 11714, 1998, 20...</td>\n",
              "      <td>11</td>\n",
              "      <td>([2026, 2878, 2303, 5683, 2009, 11714, 1998, 2...</td>\n",
              "    </tr>\n",
              "    <tr>\n",
              "      <th>4</th>\n",
              "      <td>0</td>\n",
              "      <td>@nationwideclass no, it's not behaving at all....</td>\n",
              "      <td>no, it's not behaving at all. i'm mad. why am ...</td>\n",
              "      <td>[2053, 1010, 2009, 1005, 1055, 2025, 2022, 327...</td>\n",
              "      <td>33</td>\n",
              "      <td>([2053, 1010, 2009, 1005, 1055, 2025, 2022, 32...</td>\n",
              "    </tr>\n",
              "  </tbody>\n",
              "</table>\n",
              "</div>"
            ],
            "text/plain": [
              "   sentiment  ...                                      data_with_len\n",
              "0          0  ...  ([1011, 22091, 2860, 2860, 1010, 2008, 1005, 1...\n",
              "1          0  ...  ([2003, 6314, 2008, 2002, 2064, 1005, 1056, 10...\n",
              "2          0  ...  ([1045, 11529, 2094, 2116, 2335, 2005, 1996, 3...\n",
              "3          0  ...  ([2026, 2878, 2303, 5683, 2009, 11714, 1998, 2...\n",
              "4          0  ...  ([2053, 1010, 2009, 1005, 1055, 2025, 2022, 32...\n",
              "\n",
              "[5 rows x 6 columns]"
            ]
          },
          "metadata": {
            "tags": []
          },
          "execution_count": 33
        }
      ]
    },
    {
      "cell_type": "code",
      "metadata": {
        "id": "LboPZqaJNTPK"
      },
      "source": [
        "# do a random shuffling\n",
        "data = data.sample(frac=1).reset_index(drop=True)"
      ],
      "execution_count": null,
      "outputs": []
    },
    {
      "cell_type": "code",
      "metadata": {
        "colab": {
          "base_uri": "https://localhost:8080/"
        },
        "id": "McvhGAnmNskJ",
        "outputId": "48887a10-92e4-49a2-a2c9-5a65b0ce2341"
      },
      "source": [
        "data.head()"
      ],
      "execution_count": null,
      "outputs": [
        {
          "output_type": "execute_result",
          "data": {
            "text/html": [
              "<div>\n",
              "<style scoped>\n",
              "    .dataframe tbody tr th:only-of-type {\n",
              "        vertical-align: middle;\n",
              "    }\n",
              "\n",
              "    .dataframe tbody tr th {\n",
              "        vertical-align: top;\n",
              "    }\n",
              "\n",
              "    .dataframe thead th {\n",
              "        text-align: right;\n",
              "    }\n",
              "</style>\n",
              "<table border=\"1\" class=\"dataframe\">\n",
              "  <thead>\n",
              "    <tr style=\"text-align: right;\">\n",
              "      <th></th>\n",
              "      <th>sentiment</th>\n",
              "      <th>text</th>\n",
              "      <th>clean_text</th>\n",
              "      <th>data_inputs</th>\n",
              "      <th>len</th>\n",
              "      <th>data_with_len</th>\n",
              "    </tr>\n",
              "  </thead>\n",
              "  <tbody>\n",
              "    <tr>\n",
              "      <th>0</th>\n",
              "      <td>0</td>\n",
              "      <td>@sarah_tov I need to get my bellybutton repier...</td>\n",
              "      <td>_tov I need to get my bellybutton repierced Yo...</td>\n",
              "      <td>[1035, 2000, 2615, 1045, 2342, 2000, 2131, 202...</td>\n",
              "      <td>33</td>\n",
              "      <td>([1035, 2000, 2615, 1045, 2342, 2000, 2131, 20...</td>\n",
              "    </tr>\n",
              "    <tr>\n",
              "      <th>1</th>\n",
              "      <td>0</td>\n",
              "      <td>going to the doctor</td>\n",
              "      <td>going to the doctor</td>\n",
              "      <td>[2183, 2000, 1996, 3460]</td>\n",
              "      <td>4</td>\n",
              "      <td>([2183, 2000, 1996, 3460], 0)</td>\n",
              "    </tr>\n",
              "    <tr>\n",
              "      <th>2</th>\n",
              "      <td>1</td>\n",
              "      <td>Up on a early AM. Running around getting somet...</td>\n",
              "      <td>Up on a early AM. Running around getting somet...</td>\n",
              "      <td>[2039, 2006, 1037, 2220, 2572, 1012, 2770, 210...</td>\n",
              "      <td>32</td>\n",
              "      <td>([2039, 2006, 1037, 2220, 2572, 1012, 2770, 21...</td>\n",
              "    </tr>\n",
              "    <tr>\n",
              "      <th>3</th>\n",
              "      <td>1</td>\n",
              "      <td>@Felysha And congrats on being called the prop...</td>\n",
              "      <td>And congrats on being called the proper pronou...</td>\n",
              "      <td>[1998, 26478, 8609, 2015, 2006, 2108, 2170, 19...</td>\n",
              "      <td>21</td>\n",
              "      <td>([1998, 26478, 8609, 2015, 2006, 2108, 2170, 1...</td>\n",
              "    </tr>\n",
              "    <tr>\n",
              "      <th>4</th>\n",
              "      <td>1</td>\n",
              "      <td>@primraiyregin Aww, thank you!</td>\n",
              "      <td>Aww, thank you!</td>\n",
              "      <td>[22091, 2860, 1010, 4067, 2017, 999]</td>\n",
              "      <td>6</td>\n",
              "      <td>([22091, 2860, 1010, 4067, 2017, 999], 1)</td>\n",
              "    </tr>\n",
              "  </tbody>\n",
              "</table>\n",
              "</div>"
            ],
            "text/plain": [
              "   sentiment  ...                                      data_with_len\n",
              "0          0  ...  ([1035, 2000, 2615, 1045, 2342, 2000, 2131, 20...\n",
              "1          0  ...                      ([2183, 2000, 1996, 3460], 0)\n",
              "2          1  ...  ([2039, 2006, 1037, 2220, 2572, 1012, 2770, 21...\n",
              "3          1  ...  ([1998, 26478, 8609, 2015, 2006, 2108, 2170, 1...\n",
              "4          1  ...          ([22091, 2860, 1010, 4067, 2017, 999], 1)\n",
              "\n",
              "[5 rows x 6 columns]"
            ]
          },
          "metadata": {
            "tags": []
          },
          "execution_count": 35
        }
      ]
    },
    {
      "cell_type": "code",
      "metadata": {
        "id": "Hkf282DcNtsh"
      },
      "source": [
        "# sort the values\n",
        "data.sort_values(by=[\"len\"], inplace=True)"
      ],
      "execution_count": null,
      "outputs": []
    },
    {
      "cell_type": "code",
      "metadata": {
        "colab": {
          "base_uri": "https://localhost:8080/"
        },
        "id": "Kz2QnaFpOIeb",
        "outputId": "ce4c8bb1-3562-4486-b0f9-672b40c9a1a6"
      },
      "source": [
        "data.head()"
      ],
      "execution_count": null,
      "outputs": [
        {
          "output_type": "execute_result",
          "data": {
            "text/html": [
              "<div>\n",
              "<style scoped>\n",
              "    .dataframe tbody tr th:only-of-type {\n",
              "        vertical-align: middle;\n",
              "    }\n",
              "\n",
              "    .dataframe tbody tr th {\n",
              "        vertical-align: top;\n",
              "    }\n",
              "\n",
              "    .dataframe thead th {\n",
              "        text-align: right;\n",
              "    }\n",
              "</style>\n",
              "<table border=\"1\" class=\"dataframe\">\n",
              "  <thead>\n",
              "    <tr style=\"text-align: right;\">\n",
              "      <th></th>\n",
              "      <th>sentiment</th>\n",
              "      <th>text</th>\n",
              "      <th>clean_text</th>\n",
              "      <th>data_inputs</th>\n",
              "      <th>len</th>\n",
              "      <th>data_with_len</th>\n",
              "    </tr>\n",
              "  </thead>\n",
              "  <tbody>\n",
              "    <tr>\n",
              "      <th>591426</th>\n",
              "      <td>1</td>\n",
              "      <td>@jaffajaked</td>\n",
              "      <td></td>\n",
              "      <td>[]</td>\n",
              "      <td>0</td>\n",
              "      <td>([], 1)</td>\n",
              "    </tr>\n",
              "    <tr>\n",
              "      <th>322836</th>\n",
              "      <td>0</td>\n",
              "      <td>@shaundiviney</td>\n",
              "      <td></td>\n",
              "      <td>[]</td>\n",
              "      <td>0</td>\n",
              "      <td>([], 0)</td>\n",
              "    </tr>\n",
              "    <tr>\n",
              "      <th>1216187</th>\n",
              "      <td>1</td>\n",
              "      <td>@deanobean9</td>\n",
              "      <td></td>\n",
              "      <td>[]</td>\n",
              "      <td>0</td>\n",
              "      <td>([], 1)</td>\n",
              "    </tr>\n",
              "    <tr>\n",
              "      <th>1050903</th>\n",
              "      <td>1</td>\n",
              "      <td>@GtotheJan</td>\n",
              "      <td></td>\n",
              "      <td>[]</td>\n",
              "      <td>0</td>\n",
              "      <td>([], 1)</td>\n",
              "    </tr>\n",
              "    <tr>\n",
              "      <th>896000</th>\n",
              "      <td>1</td>\n",
              "      <td>@clairehearty</td>\n",
              "      <td></td>\n",
              "      <td>[]</td>\n",
              "      <td>0</td>\n",
              "      <td>([], 1)</td>\n",
              "    </tr>\n",
              "  </tbody>\n",
              "</table>\n",
              "</div>"
            ],
            "text/plain": [
              "         sentiment             text clean_text data_inputs  len data_with_len\n",
              "591426           1   @jaffajaked                        []    0       ([], 1)\n",
              "322836           0  @shaundiviney                       []    0       ([], 0)\n",
              "1216187          1     @deanobean9                      []    0       ([], 1)\n",
              "1050903          1      @GtotheJan                      []    0       ([], 1)\n",
              "896000           1   @clairehearty                      []    0       ([], 1)"
            ]
          },
          "metadata": {
            "tags": []
          },
          "execution_count": 37
        }
      ]
    },
    {
      "cell_type": "code",
      "metadata": {
        "id": "OPGujyfiOJa_"
      },
      "source": [
        "# we dont want the tweets that dont have data\n",
        "data = data[data[\"len\"]>2]"
      ],
      "execution_count": null,
      "outputs": []
    },
    {
      "cell_type": "code",
      "metadata": {
        "colab": {
          "base_uri": "https://localhost:8080/"
        },
        "id": "dysm2ijEOZ9e",
        "outputId": "797f9866-8907-4902-9871-c618b36bf04a"
      },
      "source": [
        "data.head()"
      ],
      "execution_count": null,
      "outputs": [
        {
          "output_type": "execute_result",
          "data": {
            "text/html": [
              "<div>\n",
              "<style scoped>\n",
              "    .dataframe tbody tr th:only-of-type {\n",
              "        vertical-align: middle;\n",
              "    }\n",
              "\n",
              "    .dataframe tbody tr th {\n",
              "        vertical-align: top;\n",
              "    }\n",
              "\n",
              "    .dataframe thead th {\n",
              "        text-align: right;\n",
              "    }\n",
              "</style>\n",
              "<table border=\"1\" class=\"dataframe\">\n",
              "  <thead>\n",
              "    <tr style=\"text-align: right;\">\n",
              "      <th></th>\n",
              "      <th>sentiment</th>\n",
              "      <th>text</th>\n",
              "      <th>clean_text</th>\n",
              "      <th>data_inputs</th>\n",
              "      <th>len</th>\n",
              "      <th>data_with_len</th>\n",
              "    </tr>\n",
              "  </thead>\n",
              "  <tbody>\n",
              "    <tr>\n",
              "      <th>1417891</th>\n",
              "      <td>0</td>\n",
              "      <td>No dodgems</td>\n",
              "      <td>No dodgems</td>\n",
              "      <td>[2053, 11898, 5244]</td>\n",
              "      <td>3</td>\n",
              "      <td>([2053, 11898, 5244], 0)</td>\n",
              "    </tr>\n",
              "    <tr>\n",
              "      <th>517302</th>\n",
              "      <td>1</td>\n",
              "      <td>@chandlah have fun.</td>\n",
              "      <td>have fun.</td>\n",
              "      <td>[2031, 4569, 1012]</td>\n",
              "      <td>3</td>\n",
              "      <td>([2031, 4569, 1012], 1)</td>\n",
              "    </tr>\n",
              "    <tr>\n",
              "      <th>357698</th>\n",
              "      <td>1</td>\n",
              "      <td>@keyvan take care pal</td>\n",
              "      <td>take care pal</td>\n",
              "      <td>[2202, 2729, 14412]</td>\n",
              "      <td>3</td>\n",
              "      <td>([2202, 2729, 14412], 1)</td>\n",
              "    </tr>\n",
              "    <tr>\n",
              "      <th>491708</th>\n",
              "      <td>0</td>\n",
              "      <td>@Uniteu071 not too cool</td>\n",
              "      <td>not too cool</td>\n",
              "      <td>[2025, 2205, 4658]</td>\n",
              "      <td>3</td>\n",
              "      <td>([2025, 2205, 4658], 0)</td>\n",
              "    </tr>\n",
              "    <tr>\n",
              "      <th>1419482</th>\n",
              "      <td>1</td>\n",
              "      <td>@ElizaJericho thanks for following</td>\n",
              "      <td>thanks for following</td>\n",
              "      <td>[4283, 2005, 2206]</td>\n",
              "      <td>3</td>\n",
              "      <td>([4283, 2005, 2206], 1)</td>\n",
              "    </tr>\n",
              "  </tbody>\n",
              "</table>\n",
              "</div>"
            ],
            "text/plain": [
              "         sentiment  ...             data_with_len\n",
              "1417891          0  ...  ([2053, 11898, 5244], 0)\n",
              "517302           1  ...   ([2031, 4569, 1012], 1)\n",
              "357698           1  ...  ([2202, 2729, 14412], 1)\n",
              "491708           0  ...   ([2025, 2205, 4658], 0)\n",
              "1419482          1  ...   ([4283, 2005, 2206], 1)\n",
              "\n",
              "[5 rows x 6 columns]"
            ]
          },
          "metadata": {
            "tags": []
          },
          "execution_count": 39
        }
      ]
    },
    {
      "cell_type": "code",
      "metadata": {
        "id": "x6EqlxDAVBdk"
      },
      "source": [
        "sorted_all = data.data_with_len.values"
      ],
      "execution_count": null,
      "outputs": []
    },
    {
      "cell_type": "code",
      "metadata": {
        "id": "4WvnH_HnPx70"
      },
      "source": [
        "all_dataset = tf.data.Dataset.from_generator(lambda: sorted_all,\n",
        "                                             output_types=(tf.int32, tf.int32))"
      ],
      "execution_count": null,
      "outputs": []
    },
    {
      "cell_type": "code",
      "metadata": {
        "colab": {
          "base_uri": "https://localhost:8080/"
        },
        "id": "aqAl1BebQHTZ",
        "outputId": "3c849f1e-7881-4993-b0ef-5a135b582826"
      },
      "source": [
        "next(iter(all_dataset))"
      ],
      "execution_count": null,
      "outputs": [
        {
          "output_type": "execute_result",
          "data": {
            "text/plain": [
              "(<tf.Tensor: shape=(3,), dtype=int32, numpy=array([ 2053, 11898,  5244], dtype=int32)>,\n",
              " <tf.Tensor: shape=(), dtype=int32, numpy=0>)"
            ]
          },
          "metadata": {
            "tags": []
          },
          "execution_count": 42
        }
      ]
    },
    {
      "cell_type": "code",
      "metadata": {
        "id": "qM8YM0EmQSAl"
      },
      "source": [
        "BATCH_SIZE = 32\n",
        "all_batched = all_dataset.padded_batch(BATCH_SIZE, padded_shapes=((None, ), ()))"
      ],
      "execution_count": null,
      "outputs": []
    },
    {
      "cell_type": "code",
      "metadata": {
        "id": "B8TZiWQXTOuB"
      },
      "source": [
        "NB_BATCHES = math.ceil(len(sorted_all)/BATCH_SIZE)\n",
        "NB_BATCHES_TEST = NB_BATCHES // 10  \n",
        "all_batched.shuffle(NB_BATCHES)\n",
        "test_dataset = all_batched.take(NB_BATCHES_TEST)\n",
        "train_dataset = all_batched.skip(NB_BATCHES_TEST)"
      ],
      "execution_count": null,
      "outputs": []
    },
    {
      "cell_type": "code",
      "metadata": {
        "id": "Ddq77HOvTUhj"
      },
      "source": [
        ""
      ],
      "execution_count": null,
      "outputs": []
    },
    {
      "cell_type": "markdown",
      "metadata": {
        "id": "2U0wSgd4V-rp"
      },
      "source": [
        "## Model building"
      ]
    },
    {
      "cell_type": "code",
      "metadata": {
        "id": "hnDtRAzbWAZc"
      },
      "source": [
        "class DCNN(tf.keras.Model):\n",
        "  def __init__(self, vocab_size, emb_dim=128, nb_filters=50,\n",
        "               FFN_units=512, nb_classes=2, dropout_rate=0.1,\n",
        "               training=False, name=\"dcnn\"):\n",
        "    super(DCNN, self).__init__(name=name)\n",
        "    self.embedding = layers.Embedding(vocab_size, emb_dim)\n",
        "    self.bigram = layers.Conv1D(filters=nb_filters, kernel_size=2,\n",
        "                                padding=\"valid\", activation=\"relu\")\n",
        "    self.trigram = layers.Conv1D(filters=nb_filters, kernel_size=3,\n",
        "                                 padding=\"valid\", activation=\"relu\")\n",
        "    self.fourgram = layers.Conv1D(filters=nb_filters, kernel_size=4,\n",
        "                                  padding=\"valid\", activation=\"relu\")\n",
        "    self.pool = layers.GlobalMaxPooling1D()\n",
        "    self.dense_1 = layers.Dense(units=FFN_units, activation=\"relu\")\n",
        "    self.dropout = layers.Dropout(rate=dropout_rate)\n",
        "    if nb_classes == 2:\n",
        "      self.last_dense = layers.Dense(units=1, activation=\"sigmoid\")\n",
        "    else:\n",
        "      self.last_dense = layers.Dense(units=nb_classes, activation=\"softmax\")\n",
        "\n",
        "  def call(self, inputs, training):\n",
        "    x = self.embedding(inputs)\n",
        "    x_1 = self.bigram(x)\n",
        "    x_1 = self.pool(x_1)\n",
        "    x_2 = self.trigram(x)\n",
        "    x_2 = self.pool(x_2)\n",
        "    x_3 = self.fourgram(x)\n",
        "    x_3 = self.pool(x_3)\n",
        "    merged = tf.concat([x_1, x_2, x_3], axis=-1) # (batch_size, 3*nb_filters)\n",
        "    merged = self.dense_1(merged)\n",
        "    merged = self.dropout(merged, training)\n",
        "    output = self.last_dense(merged)\n",
        "\n",
        "    return output"
      ],
      "execution_count": null,
      "outputs": []
    },
    {
      "cell_type": "code",
      "metadata": {
        "id": "ILNESwyH7WnS"
      },
      "source": [
        "  "
      ],
      "execution_count": null,
      "outputs": []
    },
    {
      "cell_type": "markdown",
      "metadata": {
        "id": "wxNjDCiG7l3D"
      },
      "source": [
        "## training ophase"
      ]
    },
    {
      "cell_type": "code",
      "metadata": {
        "id": "UelH9Umu7nfJ"
      },
      "source": [
        "VOCAB_SIZE = len(tokenizer.vocab)\n",
        "EMB_DIM = 200\n",
        "NB_FILTER = 100\n",
        "FFN_UNITS = 256\n",
        "NB_CLASSES = 2\n",
        "\n",
        "DROPOUT_RATE = 0.2\n",
        "\n",
        "NB_EPOCHS = 5"
      ],
      "execution_count": null,
      "outputs": []
    },
    {
      "cell_type": "code",
      "metadata": {
        "id": "MxM2-FEP9dHi"
      },
      "source": [
        "dcnn = DCNN(vocab_size=VOCAB_SIZE, emb_dim=EMB_DIM, nb_filters=NB_FILTER,\n",
        "            FFN_units=FFN_UNITS, nb_classes=NB_CLASSES,\n",
        "            dropout_rate=DROPOUT_RATE)"
      ],
      "execution_count": null,
      "outputs": []
    },
    {
      "cell_type": "code",
      "metadata": {
        "id": "jwfylzXj-IMj"
      },
      "source": [
        "if NB_CLASSES == 2:\n",
        "  dcnn.compile(loss=\"binary_crossentropy\",\n",
        "               optimizer=\"adam\", metrics=[\"accuracy\"])\n",
        "else:\n",
        "  dcnn.compile(loss=\"sparse_categorical_crossentropy\", optimizer=\"adam\",\n",
        "               metrics=[\"sparse_categorical_accuracy\"])"
      ],
      "execution_count": null,
      "outputs": []
    },
    {
      "cell_type": "code",
      "metadata": {
        "colab": {
          "base_uri": "https://localhost:8080/"
        },
        "id": "tS0fINmeAOb9",
        "outputId": "37bab463-0052-4f9a-cbb7-b146c5346ce8"
      },
      "source": [
        "checkpoint_path = \"/content/drive/MyDrive/BERT/ckpt_bert_tok\"\n",
        "\n",
        "ckpt = tf.train.Checkpoint(dcnn=dcnn)\n",
        "\n",
        "ckpt_manager = tf.train.CheckpointManager(ckpt, checkpoint_path, max_to_keep=1)\n",
        "\n",
        "if ckpt_manager.latest_checkpoint:\n",
        "  ckpt.restore(ckpt_manager.latest_checkpoint)\n",
        "  print(\"latest checkpoint restored!\")"
      ],
      "execution_count": null,
      "outputs": [
        {
          "output_type": "stream",
          "text": [
            "latest checkpoint restored!\n"
          ],
          "name": "stdout"
        }
      ]
    },
    {
      "cell_type": "code",
      "metadata": {
        "id": "cqhQN59jAU16"
      },
      "source": [
        "class MyCustomCallback(tf.keras.callbacks.Callback):\n",
        "  def on_epoch_end(self, epock, logs=None):\n",
        "    ckpt_manager.save()\n",
        "    print(\"checkpoint saved at {}\".format(checkpoint_path))"
      ],
      "execution_count": null,
      "outputs": []
    },
    {
      "cell_type": "code",
      "metadata": {
        "colab": {
          "background_save": true,
          "base_uri": "https://localhost:8080/"
        },
        "id": "_Hwh5VQ0U_BA",
        "outputId": "fb9023e6-f8ae-495c-ee2e-4d471e828ba9"
      },
      "source": [
        "dcnn.fit(train_dataset, epochs=NB_EPOCHS, callbacks=[MyCustomCallback()])"
      ],
      "execution_count": null,
      "outputs": [
        {
          "output_type": "stream",
          "text": [
            "Epoch 1/5\n",
            "44318/44318 [==============================] - 2451s 55ms/step - loss: 0.3098 - accuracy: 0.8698\n",
            "checkpoint saved at /content/drive/MyDrive/BERT/ckpt_bert_tok\n",
            "Epoch 2/5\n",
            "17726/44318 [==========>...................] - ETA: 24:37 - loss: 0.2748 - accuracy: 0.8874Buffered data was truncated after reaching the output size limit."
          ],
          "name": "stdout"
        }
      ]
    },
    {
      "cell_type": "markdown",
      "metadata": {
        "id": "huzRFNUfhmk-"
      },
      "source": [
        "## model evaluation"
      ]
    },
    {
      "cell_type": "code",
      "metadata": {
        "colab": {
          "background_save": true
        },
        "id": "Z42zbP0XhoV5",
        "outputId": "00a10ff9-291e-4c2b-dfb2-ff6e96967e54"
      },
      "source": [
        "results = dcnn.evaluate(test_dataset)\n",
        "print(results)"
      ],
      "execution_count": null,
      "outputs": [
        {
          "output_type": "stream",
          "text": [
            "4924/4924 [==============================] - 26s 5ms/step - loss: 0.4632 - accuracy: 0.7652\n",
            "[0.46315643191337585, 0.76524418592453]\n"
          ],
          "name": "stdout"
        }
      ]
    },
    {
      "cell_type": "code",
      "metadata": {
        "colab": {
          "background_save": true
        },
        "id": "BciXWgp_humv"
      },
      "source": [
        "def get_prediction(sentence):\n",
        "  tokens = encode_sentence(sentence)\n",
        "  inputs = tf.expand_dims(tokens, 0)\n",
        "\n",
        "  output = dcnn(inputs, training=False)\n",
        "  \n",
        "  sentiment = math.floor(output * 2)\n",
        "\n",
        "  if sentiment == 0:\n",
        "    p = \"positive\"\n",
        "  else:\n",
        "    p = \"negative\"\n",
        "  print(\"output of the model: {}\".format(output))\n",
        "  print(\"predicted sentiment: {}\".format(p))"
      ],
      "execution_count": null,
      "outputs": []
    },
    {
      "cell_type": "code",
      "metadata": {
        "colab": {
          "background_save": true
        },
        "id": "Y5xfAkNIh-Qz",
        "outputId": "ff519880-c94e-4a88-9f87-4116bfac09e6"
      },
      "source": [
        "get_prediction(\"This movie was pretty interesting.\")"
      ],
      "execution_count": null,
      "outputs": [
        {
          "output_type": "stream",
          "text": [
            "output of the model: [[0.99120367]]\n",
            "predicted sentiment: negative\n"
          ],
          "name": "stdout"
        }
      ]
    },
    {
      "cell_type": "code",
      "metadata": {
        "colab": {
          "background_save": true
        },
        "id": "hJJjFzemiplb",
        "outputId": "2142d870-e809-4e1f-e690-2384b0d48d77"
      },
      "source": [
        "get_prediction(\"This movie was shit\")"
      ],
      "execution_count": null,
      "outputs": [
        {
          "output_type": "stream",
          "text": [
            "output of the model: [[0.05238095]]\n",
            "predicted sentiment: positive\n"
          ],
          "name": "stdout"
        }
      ]
    },
    {
      "cell_type": "code",
      "metadata": {
        "colab": {
          "background_save": true
        },
        "id": "mCq-Osdcissp"
      },
      "source": [
        ""
      ],
      "execution_count": null,
      "outputs": []
    }
  ]
}