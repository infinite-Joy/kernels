{
  "nbformat": 4,
  "nbformat_minor": 0,
  "metadata": {
    "colab": {
      "name": "BERT tokeniser",
      "provenance": []
    },
    "kernelspec": {
      "name": "python3",
      "display_name": "Python 3"
    },
    "accelerator": "GPU"
  },
  "cells": [
    {
      "cell_type": "markdown",
      "metadata": {
        "id": "sXK-x-thZOFW"
      },
      "source": [
        "data source: http://help.sentiment140.com/for-students\n",
        "\n",
        "learn bert NLP course https://www.udemy.com/course/bert-nlp-algorithm/learn/lecture/17347024#overview"
      ]
    },
    {
      "cell_type": "code",
      "metadata": {
        "id": "1D0fyeGEQERV"
      },
      "source": [
        "import numpy as np\n",
        "import math\n",
        "import re\n",
        "import pandas as pd\n",
        "from bs4 import BeautifulSoup\n",
        "import random\n",
        "\n",
        "\n",
        "from google.colab import drive"
      ],
      "execution_count": 1,
      "outputs": []
    },
    {
      "cell_type": "code",
      "metadata": {
        "colab": {
          "base_uri": "https://localhost:8080/"
        },
        "id": "irQ9IAB8OVe9",
        "outputId": "4fb07708-9807-4450-8fb4-0329d2c01853"
      },
      "source": [
        "  !pip install bert-for-tf2"
      ],
      "execution_count": 2,
      "outputs": [
        {
          "output_type": "stream",
          "text": [
            "Collecting bert-for-tf2\n",
            "\u001b[?25l  Downloading https://files.pythonhosted.org/packages/18/d3/820ccaf55f1e24b5dd43583ac0da6d86c2d27bbdfffadbba69bafe73ca93/bert-for-tf2-0.14.7.tar.gz (41kB)\n",
            "\r\u001b[K     |████████                        | 10kB 26.9MB/s eta 0:00:01\r\u001b[K     |████████████████                | 20kB 32.5MB/s eta 0:00:01\r\u001b[K     |███████████████████████▉        | 30kB 23.0MB/s eta 0:00:01\r\u001b[K     |███████████████████████████████▉| 40kB 19.6MB/s eta 0:00:01\r\u001b[K     |████████████████████████████████| 51kB 7.1MB/s \n",
            "\u001b[?25hCollecting py-params>=0.9.6\n",
            "  Downloading https://files.pythonhosted.org/packages/a4/bf/c1c70d5315a8677310ea10a41cfc41c5970d9b37c31f9c90d4ab98021fd1/py-params-0.9.7.tar.gz\n",
            "Collecting params-flow>=0.8.0\n",
            "  Downloading https://files.pythonhosted.org/packages/a9/95/ff49f5ebd501f142a6f0aaf42bcfd1c192dc54909d1d9eb84ab031d46056/params-flow-0.8.2.tar.gz\n",
            "Requirement already satisfied: numpy in /usr/local/lib/python3.6/dist-packages (from params-flow>=0.8.0->bert-for-tf2) (1.19.4)\n",
            "Requirement already satisfied: tqdm in /usr/local/lib/python3.6/dist-packages (from params-flow>=0.8.0->bert-for-tf2) (4.41.1)\n",
            "Building wheels for collected packages: bert-for-tf2, py-params, params-flow\n",
            "  Building wheel for bert-for-tf2 (setup.py) ... \u001b[?25l\u001b[?25hdone\n",
            "  Created wheel for bert-for-tf2: filename=bert_for_tf2-0.14.7-cp36-none-any.whl size=30537 sha256=159f77db339666a9b31fd8bba6f98c099b480280dc2b5f75b24df055fa4beacd\n",
            "  Stored in directory: /root/.cache/pip/wheels/e1/f8/e2/b98f79a6b8cc898d8e4102b83acb8a098df7d27500a2bac912\n",
            "  Building wheel for py-params (setup.py) ... \u001b[?25l\u001b[?25hdone\n",
            "  Created wheel for py-params: filename=py_params-0.9.7-cp36-none-any.whl size=7303 sha256=42eca23e5696b5d508fa65cc92dacd1e706f521c555641979db9c76953a06820\n",
            "  Stored in directory: /root/.cache/pip/wheels/67/f5/19/b461849a50aefdf4bab47c4756596e82ee2118b8278e5a1980\n",
            "  Building wheel for params-flow (setup.py) ... \u001b[?25l\u001b[?25hdone\n",
            "  Created wheel for params-flow: filename=params_flow-0.8.2-cp36-none-any.whl size=19474 sha256=104874fd3465d17de17ea21f29e512bc46226954882fe55e9ab5421e95e9a8b5\n",
            "  Stored in directory: /root/.cache/pip/wheels/08/c8/7f/81c86b9ff2b86e2c477e3914175be03e679e596067dc630c06\n",
            "Successfully built bert-for-tf2 py-params params-flow\n",
            "Installing collected packages: py-params, params-flow, bert-for-tf2\n",
            "Successfully installed bert-for-tf2-0.14.7 params-flow-0.8.2 py-params-0.9.7\n"
          ],
          "name": "stdout"
        }
      ]
    },
    {
      "cell_type": "code",
      "metadata": {
        "colab": {
          "base_uri": "https://localhost:8080/"
        },
        "id": "sRdXs311OvNf",
        "outputId": "c770df7f-9765-4411-b9e5-99a70e57c974"
      },
      "source": [
        "!pip install sentencepiece"
      ],
      "execution_count": 3,
      "outputs": [
        {
          "output_type": "stream",
          "text": [
            "Collecting sentencepiece\n",
            "\u001b[?25l  Downloading https://files.pythonhosted.org/packages/e5/2d/6d4ca4bef9a67070fa1cac508606328329152b1df10bdf31fb6e4e727894/sentencepiece-0.1.94-cp36-cp36m-manylinux2014_x86_64.whl (1.1MB)\n",
            "\r\u001b[K     |▎                               | 10kB 18.4MB/s eta 0:00:01\r\u001b[K     |▋                               | 20kB 16.5MB/s eta 0:00:01\r\u001b[K     |▉                               | 30kB 15.0MB/s eta 0:00:01\r\u001b[K     |█▏                              | 40kB 13.4MB/s eta 0:00:01\r\u001b[K     |█▌                              | 51kB 10.5MB/s eta 0:00:01\r\u001b[K     |█▊                              | 61kB 11.7MB/s eta 0:00:01\r\u001b[K     |██                              | 71kB 11.8MB/s eta 0:00:01\r\u001b[K     |██▍                             | 81kB 11.7MB/s eta 0:00:01\r\u001b[K     |██▋                             | 92kB 11.3MB/s eta 0:00:01\r\u001b[K     |███                             | 102kB 12.3MB/s eta 0:00:01\r\u001b[K     |███▎                            | 112kB 12.3MB/s eta 0:00:01\r\u001b[K     |███▌                            | 122kB 12.3MB/s eta 0:00:01\r\u001b[K     |███▉                            | 133kB 12.3MB/s eta 0:00:01\r\u001b[K     |████▏                           | 143kB 12.3MB/s eta 0:00:01\r\u001b[K     |████▍                           | 153kB 12.3MB/s eta 0:00:01\r\u001b[K     |████▊                           | 163kB 12.3MB/s eta 0:00:01\r\u001b[K     |█████                           | 174kB 12.3MB/s eta 0:00:01\r\u001b[K     |█████▎                          | 184kB 12.3MB/s eta 0:00:01\r\u001b[K     |█████▋                          | 194kB 12.3MB/s eta 0:00:01\r\u001b[K     |█████▉                          | 204kB 12.3MB/s eta 0:00:01\r\u001b[K     |██████▏                         | 215kB 12.3MB/s eta 0:00:01\r\u001b[K     |██████▌                         | 225kB 12.3MB/s eta 0:00:01\r\u001b[K     |██████▊                         | 235kB 12.3MB/s eta 0:00:01\r\u001b[K     |███████                         | 245kB 12.3MB/s eta 0:00:01\r\u001b[K     |███████▍                        | 256kB 12.3MB/s eta 0:00:01\r\u001b[K     |███████▋                        | 266kB 12.3MB/s eta 0:00:01\r\u001b[K     |████████                        | 276kB 12.3MB/s eta 0:00:01\r\u001b[K     |████████▎                       | 286kB 12.3MB/s eta 0:00:01\r\u001b[K     |████████▌                       | 296kB 12.3MB/s eta 0:00:01\r\u001b[K     |████████▉                       | 307kB 12.3MB/s eta 0:00:01\r\u001b[K     |█████████                       | 317kB 12.3MB/s eta 0:00:01\r\u001b[K     |█████████▍                      | 327kB 12.3MB/s eta 0:00:01\r\u001b[K     |█████████▊                      | 337kB 12.3MB/s eta 0:00:01\r\u001b[K     |██████████                      | 348kB 12.3MB/s eta 0:00:01\r\u001b[K     |██████████▎                     | 358kB 12.3MB/s eta 0:00:01\r\u001b[K     |██████████▋                     | 368kB 12.3MB/s eta 0:00:01\r\u001b[K     |██████████▉                     | 378kB 12.3MB/s eta 0:00:01\r\u001b[K     |███████████▏                    | 389kB 12.3MB/s eta 0:00:01\r\u001b[K     |███████████▌                    | 399kB 12.3MB/s eta 0:00:01\r\u001b[K     |███████████▊                    | 409kB 12.3MB/s eta 0:00:01\r\u001b[K     |████████████                    | 419kB 12.3MB/s eta 0:00:01\r\u001b[K     |████████████▍                   | 430kB 12.3MB/s eta 0:00:01\r\u001b[K     |████████████▋                   | 440kB 12.3MB/s eta 0:00:01\r\u001b[K     |█████████████                   | 450kB 12.3MB/s eta 0:00:01\r\u001b[K     |█████████████▎                  | 460kB 12.3MB/s eta 0:00:01\r\u001b[K     |█████████████▌                  | 471kB 12.3MB/s eta 0:00:01\r\u001b[K     |█████████████▉                  | 481kB 12.3MB/s eta 0:00:01\r\u001b[K     |██████████████                  | 491kB 12.3MB/s eta 0:00:01\r\u001b[K     |██████████████▍                 | 501kB 12.3MB/s eta 0:00:01\r\u001b[K     |██████████████▊                 | 512kB 12.3MB/s eta 0:00:01\r\u001b[K     |███████████████                 | 522kB 12.3MB/s eta 0:00:01\r\u001b[K     |███████████████▎                | 532kB 12.3MB/s eta 0:00:01\r\u001b[K     |███████████████▋                | 542kB 12.3MB/s eta 0:00:01\r\u001b[K     |███████████████▉                | 552kB 12.3MB/s eta 0:00:01\r\u001b[K     |████████████████▏               | 563kB 12.3MB/s eta 0:00:01\r\u001b[K     |████████████████▌               | 573kB 12.3MB/s eta 0:00:01\r\u001b[K     |████████████████▊               | 583kB 12.3MB/s eta 0:00:01\r\u001b[K     |█████████████████               | 593kB 12.3MB/s eta 0:00:01\r\u001b[K     |█████████████████▍              | 604kB 12.3MB/s eta 0:00:01\r\u001b[K     |█████████████████▋              | 614kB 12.3MB/s eta 0:00:01\r\u001b[K     |██████████████████              | 624kB 12.3MB/s eta 0:00:01\r\u001b[K     |██████████████████▏             | 634kB 12.3MB/s eta 0:00:01\r\u001b[K     |██████████████████▌             | 645kB 12.3MB/s eta 0:00:01\r\u001b[K     |██████████████████▉             | 655kB 12.3MB/s eta 0:00:01\r\u001b[K     |███████████████████             | 665kB 12.3MB/s eta 0:00:01\r\u001b[K     |███████████████████▍            | 675kB 12.3MB/s eta 0:00:01\r\u001b[K     |███████████████████▊            | 686kB 12.3MB/s eta 0:00:01\r\u001b[K     |████████████████████            | 696kB 12.3MB/s eta 0:00:01\r\u001b[K     |████████████████████▎           | 706kB 12.3MB/s eta 0:00:01\r\u001b[K     |████████████████████▋           | 716kB 12.3MB/s eta 0:00:01\r\u001b[K     |████████████████████▉           | 727kB 12.3MB/s eta 0:00:01\r\u001b[K     |█████████████████████▏          | 737kB 12.3MB/s eta 0:00:01\r\u001b[K     |█████████████████████▌          | 747kB 12.3MB/s eta 0:00:01\r\u001b[K     |█████████████████████▊          | 757kB 12.3MB/s eta 0:00:01\r\u001b[K     |██████████████████████          | 768kB 12.3MB/s eta 0:00:01\r\u001b[K     |██████████████████████▎         | 778kB 12.3MB/s eta 0:00:01\r\u001b[K     |██████████████████████▋         | 788kB 12.3MB/s eta 0:00:01\r\u001b[K     |███████████████████████         | 798kB 12.3MB/s eta 0:00:01\r\u001b[K     |███████████████████████▏        | 808kB 12.3MB/s eta 0:00:01\r\u001b[K     |███████████████████████▌        | 819kB 12.3MB/s eta 0:00:01\r\u001b[K     |███████████████████████▉        | 829kB 12.3MB/s eta 0:00:01\r\u001b[K     |████████████████████████        | 839kB 12.3MB/s eta 0:00:01\r\u001b[K     |████████████████████████▍       | 849kB 12.3MB/s eta 0:00:01\r\u001b[K     |████████████████████████▊       | 860kB 12.3MB/s eta 0:00:01\r\u001b[K     |█████████████████████████       | 870kB 12.3MB/s eta 0:00:01\r\u001b[K     |█████████████████████████▎      | 880kB 12.3MB/s eta 0:00:01\r\u001b[K     |█████████████████████████▋      | 890kB 12.3MB/s eta 0:00:01\r\u001b[K     |█████████████████████████▉      | 901kB 12.3MB/s eta 0:00:01\r\u001b[K     |██████████████████████████▏     | 911kB 12.3MB/s eta 0:00:01\r\u001b[K     |██████████████████████████▌     | 921kB 12.3MB/s eta 0:00:01\r\u001b[K     |██████████████████████████▊     | 931kB 12.3MB/s eta 0:00:01\r\u001b[K     |███████████████████████████     | 942kB 12.3MB/s eta 0:00:01\r\u001b[K     |███████████████████████████▎    | 952kB 12.3MB/s eta 0:00:01\r\u001b[K     |███████████████████████████▋    | 962kB 12.3MB/s eta 0:00:01\r\u001b[K     |████████████████████████████    | 972kB 12.3MB/s eta 0:00:01\r\u001b[K     |████████████████████████████▏   | 983kB 12.3MB/s eta 0:00:01\r\u001b[K     |████████████████████████████▌   | 993kB 12.3MB/s eta 0:00:01\r\u001b[K     |████████████████████████████▉   | 1.0MB 12.3MB/s eta 0:00:01\r\u001b[K     |█████████████████████████████   | 1.0MB 12.3MB/s eta 0:00:01\r\u001b[K     |█████████████████████████████▍  | 1.0MB 12.3MB/s eta 0:00:01\r\u001b[K     |█████████████████████████████▊  | 1.0MB 12.3MB/s eta 0:00:01\r\u001b[K     |██████████████████████████████  | 1.0MB 12.3MB/s eta 0:00:01\r\u001b[K     |██████████████████████████████▎ | 1.1MB 12.3MB/s eta 0:00:01\r\u001b[K     |██████████████████████████████▋ | 1.1MB 12.3MB/s eta 0:00:01\r\u001b[K     |██████████████████████████████▉ | 1.1MB 12.3MB/s eta 0:00:01\r\u001b[K     |███████████████████████████████▏| 1.1MB 12.3MB/s eta 0:00:01\r\u001b[K     |███████████████████████████████▍| 1.1MB 12.3MB/s eta 0:00:01\r\u001b[K     |███████████████████████████████▊| 1.1MB 12.3MB/s eta 0:00:01\r\u001b[K     |████████████████████████████████| 1.1MB 12.3MB/s \n",
            "\u001b[?25hInstalling collected packages: sentencepiece\n",
            "Successfully installed sentencepiece-0.1.94\n"
          ],
          "name": "stdout"
        }
      ]
    },
    {
      "cell_type": "code",
      "metadata": {
        "id": "V63VETbXO0SF"
      },
      "source": [
        "try:\n",
        "  %tensorflow_version 2.x\n",
        "except Exception:\n",
        "  pass\n",
        "\n",
        "import tensorflow as tf\n",
        "\n",
        "import tensorflow_hub as hub\n",
        "\n",
        "from tensorflow.keras import layers\n",
        "import bert"
      ],
      "execution_count": 4,
      "outputs": []
    },
    {
      "cell_type": "code",
      "metadata": {
        "colab": {
          "base_uri": "https://localhost:8080/"
        },
        "id": "g-r0rEPJPU-0",
        "outputId": "922c6409-fe41-4d45-8eba-5cc2f1db4663"
      },
      "source": [
        "print(tf.version.VERSION)"
      ],
      "execution_count": 5,
      "outputs": [
        {
          "output_type": "stream",
          "text": [
            "2.4.0\n"
          ],
          "name": "stdout"
        }
      ]
    },
    {
      "cell_type": "code",
      "metadata": {
        "colab": {
          "base_uri": "https://localhost:8080/"
        },
        "id": "cA5eChfpPtbG",
        "outputId": "caad667a-7422-4c54-c566-0277d5d2b95a"
      },
      "source": [
        "drive.mount(\"/content/drive\")"
      ],
      "execution_count": 6,
      "outputs": [
        {
          "output_type": "stream",
          "text": [
            "Mounted at /content/drive\n"
          ],
          "name": "stdout"
        }
      ]
    },
    {
      "cell_type": "markdown",
      "metadata": {
        "id": "FMcJalSoQVLV"
      },
      "source": [
        "# New Section"
      ]
    },
    {
      "cell_type": "code",
      "metadata": {
        "id": "W_3HFiLVQfiK"
      },
      "source": [
        "columns = [\"sentiment\", \"id\", \"date\", \"query\", \"user\", \"text\"]"
      ],
      "execution_count": 7,
      "outputs": []
    },
    {
      "cell_type": "code",
      "metadata": {
        "id": "x-C5EuSnQH3o"
      },
      "source": [
        "data = pd.read_csv(\"/content/drive/MyDrive/BERT/sentiment_data/train.csv\",\n",
        "                   header=None, names=columns, engine=\"python\", encoding=\"latin1\")"
      ],
      "execution_count": 8,
      "outputs": []
    },
    {
      "cell_type": "code",
      "metadata": {
        "colab": {
          "base_uri": "https://localhost:8080/",
          "height": 198
        },
        "id": "3Ckb5y0MRGYQ",
        "outputId": "a8f096c0-e4ee-4662-e08c-90146df0ac1b"
      },
      "source": [
        "data.head()"
      ],
      "execution_count": 9,
      "outputs": [
        {
          "output_type": "execute_result",
          "data": {
            "text/html": [
              "<div>\n",
              "<style scoped>\n",
              "    .dataframe tbody tr th:only-of-type {\n",
              "        vertical-align: middle;\n",
              "    }\n",
              "\n",
              "    .dataframe tbody tr th {\n",
              "        vertical-align: top;\n",
              "    }\n",
              "\n",
              "    .dataframe thead th {\n",
              "        text-align: right;\n",
              "    }\n",
              "</style>\n",
              "<table border=\"1\" class=\"dataframe\">\n",
              "  <thead>\n",
              "    <tr style=\"text-align: right;\">\n",
              "      <th></th>\n",
              "      <th>sentiment</th>\n",
              "      <th>id</th>\n",
              "      <th>date</th>\n",
              "      <th>query</th>\n",
              "      <th>user</th>\n",
              "      <th>text</th>\n",
              "    </tr>\n",
              "  </thead>\n",
              "  <tbody>\n",
              "    <tr>\n",
              "      <th>0</th>\n",
              "      <td>0</td>\n",
              "      <td>1467810369</td>\n",
              "      <td>Mon Apr 06 22:19:45 PDT 2009</td>\n",
              "      <td>NO_QUERY</td>\n",
              "      <td>_TheSpecialOne_</td>\n",
              "      <td>@switchfoot http://twitpic.com/2y1zl - Awww, t...</td>\n",
              "    </tr>\n",
              "    <tr>\n",
              "      <th>1</th>\n",
              "      <td>0</td>\n",
              "      <td>1467810672</td>\n",
              "      <td>Mon Apr 06 22:19:49 PDT 2009</td>\n",
              "      <td>NO_QUERY</td>\n",
              "      <td>scotthamilton</td>\n",
              "      <td>is upset that he can't update his Facebook by ...</td>\n",
              "    </tr>\n",
              "    <tr>\n",
              "      <th>2</th>\n",
              "      <td>0</td>\n",
              "      <td>1467810917</td>\n",
              "      <td>Mon Apr 06 22:19:53 PDT 2009</td>\n",
              "      <td>NO_QUERY</td>\n",
              "      <td>mattycus</td>\n",
              "      <td>@Kenichan I dived many times for the ball. Man...</td>\n",
              "    </tr>\n",
              "    <tr>\n",
              "      <th>3</th>\n",
              "      <td>0</td>\n",
              "      <td>1467811184</td>\n",
              "      <td>Mon Apr 06 22:19:57 PDT 2009</td>\n",
              "      <td>NO_QUERY</td>\n",
              "      <td>ElleCTF</td>\n",
              "      <td>my whole body feels itchy and like its on fire</td>\n",
              "    </tr>\n",
              "    <tr>\n",
              "      <th>4</th>\n",
              "      <td>0</td>\n",
              "      <td>1467811193</td>\n",
              "      <td>Mon Apr 06 22:19:57 PDT 2009</td>\n",
              "      <td>NO_QUERY</td>\n",
              "      <td>Karoli</td>\n",
              "      <td>@nationwideclass no, it's not behaving at all....</td>\n",
              "    </tr>\n",
              "  </tbody>\n",
              "</table>\n",
              "</div>"
            ],
            "text/plain": [
              "   sentiment  ...                                               text\n",
              "0          0  ...  @switchfoot http://twitpic.com/2y1zl - Awww, t...\n",
              "1          0  ...  is upset that he can't update his Facebook by ...\n",
              "2          0  ...  @Kenichan I dived many times for the ball. Man...\n",
              "3          0  ...    my whole body feels itchy and like its on fire \n",
              "4          0  ...  @nationwideclass no, it's not behaving at all....\n",
              "\n",
              "[5 rows x 6 columns]"
            ]
          },
          "metadata": {
            "tags": []
          },
          "execution_count": 9
        }
      ]
    },
    {
      "cell_type": "code",
      "metadata": {
        "id": "XGwnVzJKRTtY"
      },
      "source": [
        "data.drop([\"id\", \"date\", \"query\", \"user\"], inplace=True, axis=1)"
      ],
      "execution_count": 10,
      "outputs": []
    },
    {
      "cell_type": "code",
      "metadata": {
        "colab": {
          "base_uri": "https://localhost:8080/",
          "height": 198
        },
        "id": "wO_9tm0GSWzm",
        "outputId": "f6925a37-d2f5-45ce-8f66-437a4fb66040"
      },
      "source": [
        "data.head()"
      ],
      "execution_count": 11,
      "outputs": [
        {
          "output_type": "execute_result",
          "data": {
            "text/html": [
              "<div>\n",
              "<style scoped>\n",
              "    .dataframe tbody tr th:only-of-type {\n",
              "        vertical-align: middle;\n",
              "    }\n",
              "\n",
              "    .dataframe tbody tr th {\n",
              "        vertical-align: top;\n",
              "    }\n",
              "\n",
              "    .dataframe thead th {\n",
              "        text-align: right;\n",
              "    }\n",
              "</style>\n",
              "<table border=\"1\" class=\"dataframe\">\n",
              "  <thead>\n",
              "    <tr style=\"text-align: right;\">\n",
              "      <th></th>\n",
              "      <th>sentiment</th>\n",
              "      <th>text</th>\n",
              "    </tr>\n",
              "  </thead>\n",
              "  <tbody>\n",
              "    <tr>\n",
              "      <th>0</th>\n",
              "      <td>0</td>\n",
              "      <td>@switchfoot http://twitpic.com/2y1zl - Awww, t...</td>\n",
              "    </tr>\n",
              "    <tr>\n",
              "      <th>1</th>\n",
              "      <td>0</td>\n",
              "      <td>is upset that he can't update his Facebook by ...</td>\n",
              "    </tr>\n",
              "    <tr>\n",
              "      <th>2</th>\n",
              "      <td>0</td>\n",
              "      <td>@Kenichan I dived many times for the ball. Man...</td>\n",
              "    </tr>\n",
              "    <tr>\n",
              "      <th>3</th>\n",
              "      <td>0</td>\n",
              "      <td>my whole body feels itchy and like its on fire</td>\n",
              "    </tr>\n",
              "    <tr>\n",
              "      <th>4</th>\n",
              "      <td>0</td>\n",
              "      <td>@nationwideclass no, it's not behaving at all....</td>\n",
              "    </tr>\n",
              "  </tbody>\n",
              "</table>\n",
              "</div>"
            ],
            "text/plain": [
              "   sentiment                                               text\n",
              "0          0  @switchfoot http://twitpic.com/2y1zl - Awww, t...\n",
              "1          0  is upset that he can't update his Facebook by ...\n",
              "2          0  @Kenichan I dived many times for the ball. Man...\n",
              "3          0    my whole body feels itchy and like its on fire \n",
              "4          0  @nationwideclass no, it's not behaving at all...."
            ]
          },
          "metadata": {
            "tags": []
          },
          "execution_count": 11
        }
      ]
    },
    {
      "cell_type": "code",
      "metadata": {
        "colab": {
          "base_uri": "https://localhost:8080/",
          "height": 198
        },
        "id": "XnDWuJYGSY2O",
        "outputId": "76368edf-be9e-4fb4-b7ed-e5518c1ffa2c"
      },
      "source": [
        "data[data[\"sentiment\"]!=0].head()"
      ],
      "execution_count": 12,
      "outputs": [
        {
          "output_type": "execute_result",
          "data": {
            "text/html": [
              "<div>\n",
              "<style scoped>\n",
              "    .dataframe tbody tr th:only-of-type {\n",
              "        vertical-align: middle;\n",
              "    }\n",
              "\n",
              "    .dataframe tbody tr th {\n",
              "        vertical-align: top;\n",
              "    }\n",
              "\n",
              "    .dataframe thead th {\n",
              "        text-align: right;\n",
              "    }\n",
              "</style>\n",
              "<table border=\"1\" class=\"dataframe\">\n",
              "  <thead>\n",
              "    <tr style=\"text-align: right;\">\n",
              "      <th></th>\n",
              "      <th>sentiment</th>\n",
              "      <th>text</th>\n",
              "    </tr>\n",
              "  </thead>\n",
              "  <tbody>\n",
              "    <tr>\n",
              "      <th>800000</th>\n",
              "      <td>4</td>\n",
              "      <td>I LOVE @Health4UandPets u guys r the best!!</td>\n",
              "    </tr>\n",
              "    <tr>\n",
              "      <th>800001</th>\n",
              "      <td>4</td>\n",
              "      <td>im meeting up with one of my besties tonight! ...</td>\n",
              "    </tr>\n",
              "    <tr>\n",
              "      <th>800002</th>\n",
              "      <td>4</td>\n",
              "      <td>@DaRealSunisaKim Thanks for the Twitter add, S...</td>\n",
              "    </tr>\n",
              "    <tr>\n",
              "      <th>800003</th>\n",
              "      <td>4</td>\n",
              "      <td>Being sick can be really cheap when it hurts t...</td>\n",
              "    </tr>\n",
              "    <tr>\n",
              "      <th>800004</th>\n",
              "      <td>4</td>\n",
              "      <td>@LovesBrooklyn2 he has that effect on everyone</td>\n",
              "    </tr>\n",
              "  </tbody>\n",
              "</table>\n",
              "</div>"
            ],
            "text/plain": [
              "        sentiment                                               text\n",
              "800000          4       I LOVE @Health4UandPets u guys r the best!! \n",
              "800001          4  im meeting up with one of my besties tonight! ...\n",
              "800002          4  @DaRealSunisaKim Thanks for the Twitter add, S...\n",
              "800003          4  Being sick can be really cheap when it hurts t...\n",
              "800004          4    @LovesBrooklyn2 he has that effect on everyone "
            ]
          },
          "metadata": {
            "tags": []
          },
          "execution_count": 12
        }
      ]
    },
    {
      "cell_type": "markdown",
      "metadata": {
        "id": "FEA7oPoiSogm"
      },
      "source": [
        "## DATA cleaning"
      ]
    },
    {
      "cell_type": "code",
      "metadata": {
        "id": "WbhwG8qiSq1J"
      },
      "source": [
        "def clean_tweet(tweet):\n",
        "  tweet = BeautifulSoup(tweet, \"lxml\").get_text()\n",
        "  tweet = re.sub(r'@[A-Za-z0-9]+', ' ', tweet)\n",
        "  tweet = re.sub(r'https?://[A-Za-z0-9./]+', ' ', tweet)\n",
        "  # tweet = re.sub(r'[a-zA-Z\\.?!\\'\"]+', ' ', tweet)\n",
        "  tweet = re.sub(r'\\s+', ' ', tweet)\n",
        "  tweet = re.sub(r'^\\s+', '', tweet)\n",
        "  return tweet"
      ],
      "execution_count": 13,
      "outputs": []
    },
    {
      "cell_type": "code",
      "metadata": {
        "id": "ZMgMmxt5X0VC"
      },
      "source": [
        "data_sample = data.head().copy()"
      ],
      "execution_count": 14,
      "outputs": []
    },
    {
      "cell_type": "code",
      "metadata": {
        "id": "BJ_jiJG-X7tB"
      },
      "source": [
        "data_sample[\"clean_text\"] = data_sample[\"text\"].apply(clean_tweet)"
      ],
      "execution_count": 15,
      "outputs": []
    },
    {
      "cell_type": "code",
      "metadata": {
        "colab": {
          "base_uri": "https://localhost:8080/",
          "height": 198
        },
        "id": "MHFA1CqLX2fE",
        "outputId": "7f9f348e-80fd-47ba-8415-62b323c82aa3"
      },
      "source": [
        "data_sample.head()"
      ],
      "execution_count": 16,
      "outputs": [
        {
          "output_type": "execute_result",
          "data": {
            "text/html": [
              "<div>\n",
              "<style scoped>\n",
              "    .dataframe tbody tr th:only-of-type {\n",
              "        vertical-align: middle;\n",
              "    }\n",
              "\n",
              "    .dataframe tbody tr th {\n",
              "        vertical-align: top;\n",
              "    }\n",
              "\n",
              "    .dataframe thead th {\n",
              "        text-align: right;\n",
              "    }\n",
              "</style>\n",
              "<table border=\"1\" class=\"dataframe\">\n",
              "  <thead>\n",
              "    <tr style=\"text-align: right;\">\n",
              "      <th></th>\n",
              "      <th>sentiment</th>\n",
              "      <th>text</th>\n",
              "      <th>clean_text</th>\n",
              "    </tr>\n",
              "  </thead>\n",
              "  <tbody>\n",
              "    <tr>\n",
              "      <th>0</th>\n",
              "      <td>0</td>\n",
              "      <td>@switchfoot http://twitpic.com/2y1zl - Awww, t...</td>\n",
              "      <td>- Awww, that's a bummer. You shoulda got David...</td>\n",
              "    </tr>\n",
              "    <tr>\n",
              "      <th>1</th>\n",
              "      <td>0</td>\n",
              "      <td>is upset that he can't update his Facebook by ...</td>\n",
              "      <td>is upset that he can't update his Facebook by ...</td>\n",
              "    </tr>\n",
              "    <tr>\n",
              "      <th>2</th>\n",
              "      <td>0</td>\n",
              "      <td>@Kenichan I dived many times for the ball. Man...</td>\n",
              "      <td>I dived many times for the ball. Managed to sa...</td>\n",
              "    </tr>\n",
              "    <tr>\n",
              "      <th>3</th>\n",
              "      <td>0</td>\n",
              "      <td>my whole body feels itchy and like its on fire</td>\n",
              "      <td>my whole body feels itchy and like its on fire</td>\n",
              "    </tr>\n",
              "    <tr>\n",
              "      <th>4</th>\n",
              "      <td>0</td>\n",
              "      <td>@nationwideclass no, it's not behaving at all....</td>\n",
              "      <td>no, it's not behaving at all. i'm mad. why am ...</td>\n",
              "    </tr>\n",
              "  </tbody>\n",
              "</table>\n",
              "</div>"
            ],
            "text/plain": [
              "   sentiment  ...                                         clean_text\n",
              "0          0  ...  - Awww, that's a bummer. You shoulda got David...\n",
              "1          0  ...  is upset that he can't update his Facebook by ...\n",
              "2          0  ...  I dived many times for the ball. Managed to sa...\n",
              "3          0  ...    my whole body feels itchy and like its on fire \n",
              "4          0  ...  no, it's not behaving at all. i'm mad. why am ...\n",
              "\n",
              "[5 rows x 3 columns]"
            ]
          },
          "metadata": {
            "tags": []
          },
          "execution_count": 16
        }
      ]
    },
    {
      "cell_type": "code",
      "metadata": {
        "id": "iioQSlsvUTQR"
      },
      "source": [
        "data[\"clean_text\"] = data[\"text\"].apply(clean_tweet)"
      ],
      "execution_count": 17,
      "outputs": []
    },
    {
      "cell_type": "code",
      "metadata": {
        "colab": {
          "base_uri": "https://localhost:8080/",
          "height": 198
        },
        "id": "FvRb0t1dU_64",
        "outputId": "edd5da9e-1e83-4ba1-a69f-02f4e8d9d2fb"
      },
      "source": [
        "data.head()"
      ],
      "execution_count": 18,
      "outputs": [
        {
          "output_type": "execute_result",
          "data": {
            "text/html": [
              "<div>\n",
              "<style scoped>\n",
              "    .dataframe tbody tr th:only-of-type {\n",
              "        vertical-align: middle;\n",
              "    }\n",
              "\n",
              "    .dataframe tbody tr th {\n",
              "        vertical-align: top;\n",
              "    }\n",
              "\n",
              "    .dataframe thead th {\n",
              "        text-align: right;\n",
              "    }\n",
              "</style>\n",
              "<table border=\"1\" class=\"dataframe\">\n",
              "  <thead>\n",
              "    <tr style=\"text-align: right;\">\n",
              "      <th></th>\n",
              "      <th>sentiment</th>\n",
              "      <th>text</th>\n",
              "      <th>clean_text</th>\n",
              "    </tr>\n",
              "  </thead>\n",
              "  <tbody>\n",
              "    <tr>\n",
              "      <th>0</th>\n",
              "      <td>0</td>\n",
              "      <td>@switchfoot http://twitpic.com/2y1zl - Awww, t...</td>\n",
              "      <td>- Awww, that's a bummer. You shoulda got David...</td>\n",
              "    </tr>\n",
              "    <tr>\n",
              "      <th>1</th>\n",
              "      <td>0</td>\n",
              "      <td>is upset that he can't update his Facebook by ...</td>\n",
              "      <td>is upset that he can't update his Facebook by ...</td>\n",
              "    </tr>\n",
              "    <tr>\n",
              "      <th>2</th>\n",
              "      <td>0</td>\n",
              "      <td>@Kenichan I dived many times for the ball. Man...</td>\n",
              "      <td>I dived many times for the ball. Managed to sa...</td>\n",
              "    </tr>\n",
              "    <tr>\n",
              "      <th>3</th>\n",
              "      <td>0</td>\n",
              "      <td>my whole body feels itchy and like its on fire</td>\n",
              "      <td>my whole body feels itchy and like its on fire</td>\n",
              "    </tr>\n",
              "    <tr>\n",
              "      <th>4</th>\n",
              "      <td>0</td>\n",
              "      <td>@nationwideclass no, it's not behaving at all....</td>\n",
              "      <td>no, it's not behaving at all. i'm mad. why am ...</td>\n",
              "    </tr>\n",
              "  </tbody>\n",
              "</table>\n",
              "</div>"
            ],
            "text/plain": [
              "   sentiment  ...                                         clean_text\n",
              "0          0  ...  - Awww, that's a bummer. You shoulda got David...\n",
              "1          0  ...  is upset that he can't update his Facebook by ...\n",
              "2          0  ...  I dived many times for the ball. Managed to sa...\n",
              "3          0  ...    my whole body feels itchy and like its on fire \n",
              "4          0  ...  no, it's not behaving at all. i'm mad. why am ...\n",
              "\n",
              "[5 rows x 3 columns]"
            ]
          },
          "metadata": {
            "tags": []
          },
          "execution_count": 18
        }
      ]
    },
    {
      "cell_type": "code",
      "metadata": {
        "id": "M06VOYj8VClK"
      },
      "source": [
        "data[\"clean_text\"] = data[\"text\"].apply(clean_tweet)"
      ],
      "execution_count": 19,
      "outputs": []
    },
    {
      "cell_type": "code",
      "metadata": {
        "id": "PjVZfweELvqX"
      },
      "source": [
        "data.loc[(data.sentiment==4), \"sentiment\"] = 1"
      ],
      "execution_count": 20,
      "outputs": []
    },
    {
      "cell_type": "code",
      "metadata": {
        "colab": {
          "base_uri": "https://localhost:8080/",
          "height": 198
        },
        "id": "7qEsikQAMImd",
        "outputId": "b0ac6067-c63e-4d83-8721-f9396c259b73"
      },
      "source": [
        "data[data[\"sentiment\"]!=0].head()"
      ],
      "execution_count": 21,
      "outputs": [
        {
          "output_type": "execute_result",
          "data": {
            "text/html": [
              "<div>\n",
              "<style scoped>\n",
              "    .dataframe tbody tr th:only-of-type {\n",
              "        vertical-align: middle;\n",
              "    }\n",
              "\n",
              "    .dataframe tbody tr th {\n",
              "        vertical-align: top;\n",
              "    }\n",
              "\n",
              "    .dataframe thead th {\n",
              "        text-align: right;\n",
              "    }\n",
              "</style>\n",
              "<table border=\"1\" class=\"dataframe\">\n",
              "  <thead>\n",
              "    <tr style=\"text-align: right;\">\n",
              "      <th></th>\n",
              "      <th>sentiment</th>\n",
              "      <th>text</th>\n",
              "      <th>clean_text</th>\n",
              "    </tr>\n",
              "  </thead>\n",
              "  <tbody>\n",
              "    <tr>\n",
              "      <th>800000</th>\n",
              "      <td>1</td>\n",
              "      <td>I LOVE @Health4UandPets u guys r the best!!</td>\n",
              "      <td>I LOVE u guys r the best!!</td>\n",
              "    </tr>\n",
              "    <tr>\n",
              "      <th>800001</th>\n",
              "      <td>1</td>\n",
              "      <td>im meeting up with one of my besties tonight! ...</td>\n",
              "      <td>im meeting up with one of my besties tonight! ...</td>\n",
              "    </tr>\n",
              "    <tr>\n",
              "      <th>800002</th>\n",
              "      <td>1</td>\n",
              "      <td>@DaRealSunisaKim Thanks for the Twitter add, S...</td>\n",
              "      <td>Thanks for the Twitter add, Sunisa! I got to m...</td>\n",
              "    </tr>\n",
              "    <tr>\n",
              "      <th>800003</th>\n",
              "      <td>1</td>\n",
              "      <td>Being sick can be really cheap when it hurts t...</td>\n",
              "      <td>Being sick can be really cheap when it hurts t...</td>\n",
              "    </tr>\n",
              "    <tr>\n",
              "      <th>800004</th>\n",
              "      <td>1</td>\n",
              "      <td>@LovesBrooklyn2 he has that effect on everyone</td>\n",
              "      <td>he has that effect on everyone</td>\n",
              "    </tr>\n",
              "  </tbody>\n",
              "</table>\n",
              "</div>"
            ],
            "text/plain": [
              "        sentiment  ...                                         clean_text\n",
              "800000          1  ...                        I LOVE u guys r the best!! \n",
              "800001          1  ...  im meeting up with one of my besties tonight! ...\n",
              "800002          1  ...  Thanks for the Twitter add, Sunisa! I got to m...\n",
              "800003          1  ...  Being sick can be really cheap when it hurts t...\n",
              "800004          1  ...                    he has that effect on everyone \n",
              "\n",
              "[5 rows x 3 columns]"
            ]
          },
          "metadata": {
            "tags": []
          },
          "execution_count": 21
        }
      ]
    },
    {
      "cell_type": "markdown",
      "metadata": {
        "id": "xka914eY0qES"
      },
      "source": [
        "## Tokenisation"
      ]
    },
    {
      "cell_type": "code",
      "metadata": {
        "id": "pNRChRVU008R"
      },
      "source": [
        "FullTokeniser = bert.bert_tokenization.FullTokenizer\n",
        "bert_layer = hub.KerasLayer(\"https://tfhub.dev/tensorflow/bert_en_uncased_L-12_H-768_A-12/3\", trainable=False)\n",
        "\n",
        "vocab_file = bert_layer.resolved_object.vocab_file.asset_path.numpy() \n",
        "do_lower_case = bert_layer.resolved_object.do_lower_case.numpy()\n",
        "tokenizer = FullTokeniser(vocab_file, do_lower_case)"
      ],
      "execution_count": 22,
      "outputs": []
    },
    {
      "cell_type": "code",
      "metadata": {
        "colab": {
          "base_uri": "https://localhost:8080/"
        },
        "id": "Bwt4NUN31X3V",
        "outputId": "0d9f4d3c-4d70-4f09-e4c5-cfa0fee74f3d"
      },
      "source": [
        "tokenizer.tokenize(\"My dog loves strawberries.\")"
      ],
      "execution_count": 23,
      "outputs": [
        {
          "output_type": "execute_result",
          "data": {
            "text/plain": [
              "['my', 'dog', 'loves', 'straw', '##berries', '.']"
            ]
          },
          "metadata": {
            "tags": []
          },
          "execution_count": 23
        }
      ]
    },
    {
      "cell_type": "code",
      "metadata": {
        "colab": {
          "base_uri": "https://localhost:8080/"
        },
        "id": "GzQhGlq34GyU",
        "outputId": "fae3a946-ce53-45d3-bd79-a0a610491743"
      },
      "source": [
        "tokenizer.convert_tokens_to_ids(tokenizer.tokenize(\"My dog loves strawberries.\"))"
      ],
      "execution_count": 24,
      "outputs": [
        {
          "output_type": "execute_result",
          "data": {
            "text/plain": [
              "[2026, 3899, 7459, 13137, 20968, 1012]"
            ]
          },
          "metadata": {
            "tags": []
          },
          "execution_count": 24
        }
      ]
    },
    {
      "cell_type": "code",
      "metadata": {
        "id": "9j-ExBtc4RKj"
      },
      "source": [
        "  def encode_sentence(sent):\n",
        "    return tokenizer.convert_tokens_to_ids(tokenizer.tokenize(sent))"
      ],
      "execution_count": 25,
      "outputs": []
    },
    {
      "cell_type": "code",
      "metadata": {
        "id": "2kSXDX-m4n97"
      },
      "source": [
        "data[\"data_inputs\"] = data[\"clean_text\"].apply(encode_sentence)"
      ],
      "execution_count": null,
      "outputs": []
    },
    {
      "cell_type": "code",
      "metadata": {
        "id": "70usraHw42fy"
      },
      "source": [
        "data.head()"
      ],
      "execution_count": null,
      "outputs": []
    },
    {
      "cell_type": "code",
      "metadata": {
        "id": "RZ7OFZLz43Z-"
      },
      "source": [
        ""
      ],
      "execution_count": null,
      "outputs": []
    },
    {
      "cell_type": "markdown",
      "metadata": {
        "id": "WogGMO5NG-zB"
      },
      "source": [
        "## dataset creation"
      ]
    },
    {
      "cell_type": "markdown",
      "metadata": {
        "id": "kSGH2UffHMqO"
      },
      "source": [
        "We will create padded batches (so we pad sentences for each batch independently). This way we add the minimum number of padded tokens possible. For that we sort sentences by length, add padded_batches and then shuffle"
      ]
    },
    {
      "cell_type": "code",
      "metadata": {
        "id": "kXBae9qMIgaZ"
      },
      "source": [
        "data[\"len\"] = data[\"data_inputs\"].str.len()"
      ],
      "execution_count": null,
      "outputs": []
    },
    {
      "cell_type": "code",
      "metadata": {
        "id": "1f9M6f0vIwje"
      },
      "source": [
        "data.head()"
      ],
      "execution_count": null,
      "outputs": []
    },
    {
      "cell_type": "code",
      "metadata": {
        "id": "jauvKDkDMWKv"
      },
      "source": [
        "data[\"data_with_len\"] = data[[\"data_inputs\", \"sentiment\"]].apply(lambda a: tuple(a), axis=1)"
      ],
      "execution_count": null,
      "outputs": []
    },
    {
      "cell_type": "code",
      "metadata": {
        "id": "htmetyc9NKtV"
      },
      "source": [
        "data.head()"
      ],
      "execution_count": null,
      "outputs": []
    },
    {
      "cell_type": "code",
      "metadata": {
        "id": "LboPZqaJNTPK"
      },
      "source": [
        "# do a random shuffling\n",
        "data = data.sample(frac=1).reset_index(drop=True)"
      ],
      "execution_count": null,
      "outputs": []
    },
    {
      "cell_type": "code",
      "metadata": {
        "id": "McvhGAnmNskJ"
      },
      "source": [
        "data.head()"
      ],
      "execution_count": null,
      "outputs": []
    },
    {
      "cell_type": "code",
      "metadata": {
        "id": "Hkf282DcNtsh"
      },
      "source": [
        "# sort the values\n",
        "data.sort_values(by=[\"len\"], inplace=True)"
      ],
      "execution_count": null,
      "outputs": []
    },
    {
      "cell_type": "code",
      "metadata": {
        "id": "Kz2QnaFpOIeb"
      },
      "source": [
        "data.head()"
      ],
      "execution_count": null,
      "outputs": []
    },
    {
      "cell_type": "code",
      "metadata": {
        "id": "OPGujyfiOJa_"
      },
      "source": [
        "# we dont want the tweets that dont have data\n",
        "data = data[data[\"len\"]>2]"
      ],
      "execution_count": null,
      "outputs": []
    },
    {
      "cell_type": "code",
      "metadata": {
        "id": "dysm2ijEOZ9e"
      },
      "source": [
        "data.head()"
      ],
      "execution_count": null,
      "outputs": []
    },
    {
      "cell_type": "code",
      "metadata": {
        "id": "x6EqlxDAVBdk"
      },
      "source": [
        "sorted_all = data.data_with_len.values"
      ],
      "execution_count": null,
      "outputs": []
    },
    {
      "cell_type": "code",
      "metadata": {
        "id": "4WvnH_HnPx70"
      },
      "source": [
        "all_dataset = tf.data.Dataset.from_generator(lambda: sorted_all,\n",
        "                                             output_types=(tf.int32, tf.int32))"
      ],
      "execution_count": null,
      "outputs": []
    },
    {
      "cell_type": "code",
      "metadata": {
        "id": "aqAl1BebQHTZ"
      },
      "source": [
        "next(iter(all_dataset))"
      ],
      "execution_count": null,
      "outputs": []
    },
    {
      "cell_type": "code",
      "metadata": {
        "id": "qM8YM0EmQSAl"
      },
      "source": [
        "BATCH_SIZE = 32\n",
        "all_batched = all_dataset.padded_batch(BATCH_SIZE, padded_shapes=((None, ), ()))"
      ],
      "execution_count": null,
      "outputs": []
    },
    {
      "cell_type": "code",
      "metadata": {
        "id": "B8TZiWQXTOuB"
      },
      "source": [
        "NB_BATCHES = math.ceil(len(sorted_all)/BATCH_SIZE)\n",
        "NB_BATCHES_TEST = NB_BATCHES // 10  \n",
        "all_batched.shuffle(NB_BATCHES)\n",
        "test_dataset = all_batched.take(NB_BATCHES_TEST)\n",
        "train_dataset = all_batched.skip(NB_BATCHES_TEST)"
      ],
      "execution_count": null,
      "outputs": []
    },
    {
      "cell_type": "code",
      "metadata": {
        "id": "Ddq77HOvTUhj"
      },
      "source": [
        ""
      ],
      "execution_count": null,
      "outputs": []
    },
    {
      "cell_type": "markdown",
      "metadata": {
        "id": "2U0wSgd4V-rp"
      },
      "source": [
        "## Model building"
      ]
    },
    {
      "cell_type": "code",
      "metadata": {
        "id": "hnDtRAzbWAZc"
      },
      "source": [
        "class DCNN(tf.keras.Model):\n",
        "  def __init__(self, vocab_size, emb_dim=128, nb_filters=50,\n",
        "               FFN_units=512, nb_classes=2, dropout_rate=0.1,\n",
        "               training=False, name=\"dcnn\"):\n",
        "    super(DCNN, self).__init__(name=name)\n",
        "    self.embedding = layers.Embedding(vocab_size, emb_dim)\n",
        "    self.bigram = layers.Conv1D(filters=nb_filters, kernel_size=2,\n",
        "                                padding=\"valid\", activation=\"relu\")\n",
        "    self.trigram = layers.Conv1D(filters=nb_filters, kernel_size=3,\n",
        "                                 padding=\"valid\", activation=\"relu\")\n",
        "    self.fourgram = layers.Conv1D(filters=nb_filters, kernel_size=4,\n",
        "                                  padding=\"valid\", activation=\"relu\")\n",
        "    self.pool = layers.GlobalMaxPooling1D()\n",
        "    self.dense_1 = layers.Dense(units=FFN_units, activation=\"relu\")\n",
        "    self.dropout = layers.Dropout(rate=dropout_rate)\n",
        "    if nb_classes == 2:\n",
        "      self.last_dense = layers.Dense(units=1, activation=\"sigmoid\")\n",
        "    else:\n",
        "      self.last_dense = layers.Dense(units=nb_classes, activation=\"softmax\")\n",
        "\n",
        "  def call(self, inputs, training):\n",
        "    x = self.embedding(inputs)\n",
        "    x_1 = self.bigram(x)\n",
        "    x_1 = self.pool(x_1)\n",
        "    x_2 = self.trigram(x)\n",
        "    x_2 = self.pool(x_2)\n",
        "    x_3 = self.fourgram(x)\n",
        "    x_3 = self.pool(x_3)\n",
        "    merged = tf.concat([x_1, x_2, x_3], axis=-1) # (batch_size, 3*nb_filters)\n",
        "    merged = self.dense_1(merged)\n",
        "    merged = self.dropout(merged, training)\n",
        "    output = self.last_dense(merged)\n",
        "\n",
        "    return output"
      ],
      "execution_count": null,
      "outputs": []
    },
    {
      "cell_type": "code",
      "metadata": {
        "id": "ILNESwyH7WnS"
      },
      "source": [
        "  "
      ],
      "execution_count": null,
      "outputs": []
    },
    {
      "cell_type": "markdown",
      "metadata": {
        "id": "wxNjDCiG7l3D"
      },
      "source": [
        "## training ophase"
      ]
    },
    {
      "cell_type": "code",
      "metadata": {
        "id": "UelH9Umu7nfJ"
      },
      "source": [
        "VOCAB_SIZE = len(tokenizer.vocab)\n",
        "EMB_DIM = 200\n",
        "NB_FILTER = 100\n",
        "FFN_UNITS = 256\n",
        "NB_CLASSES = 2\n",
        "\n",
        "DROPOUT_RATE = 0.2\n",
        "\n",
        "NB_EPOCHS = 5"
      ],
      "execution_count": null,
      "outputs": []
    },
    {
      "cell_type": "code",
      "metadata": {
        "id": "MxM2-FEP9dHi"
      },
      "source": [
        "dcnn = DCNN(vocab_size=VOCAB_SIZE, emb_dim=EMB_DIM, nb_filters=NB_FILTER,\n",
        "            FFN_units=FFN_UNITS, nb_classes=NB_CLASSES,\n",
        "            dropout_rate=DROPOUT_RATE)"
      ],
      "execution_count": null,
      "outputs": []
    },
    {
      "cell_type": "code",
      "metadata": {
        "id": "jwfylzXj-IMj"
      },
      "source": [
        "if NB_CLASSES == 2:\n",
        "  dcnn.compile(loss=\"binary_crossentropy\",\n",
        "               optimizer=\"adam\", metrics=[\"accuracy\"])\n",
        "else:\n",
        "  dcnn.compile(loss=\"sparse_categorical_crossentropy\", optimizer=\"adam\",\n",
        "               metrics=[\"sparse_categorical_accuracy\"])"
      ],
      "execution_count": null,
      "outputs": []
    },
    {
      "cell_type": "code",
      "metadata": {
        "id": "tS0fINmeAOb9"
      },
      "source": [
        "checkpoint_path = \"/content/drive/MyDrive/BERT/ckpt_bert_tok\"\n",
        "\n",
        "ckpt = tf.train.Checkpoint(dcnn=dcnn)\n",
        "\n",
        "ckpt_manager = tf.train.CheckpointManager(ckpt, checkpoint_path, max_to_keep=1)\n",
        "\n",
        "if ckpt_manager.latest_checkpoint:\n",
        "  ckpt.restore(ckpt_manager.latest_checkpoint)\n",
        "  print(\"latest checkpoint restored!\")"
      ],
      "execution_count": null,
      "outputs": []
    },
    {
      "cell_type": "code",
      "metadata": {
        "id": "cqhQN59jAU16"
      },
      "source": [
        "class MyCustomCallback(tf.keras.callbacks.Callback):\n",
        "  def on_epoch_end(self, epock, logs=None):\n",
        "    ckpt_manager.save()\n",
        "    print(\"checkpoint saved at {}\".format(checkpoint_path))"
      ],
      "execution_count": null,
      "outputs": []
    },
    {
      "cell_type": "code",
      "metadata": {
        "id": "_Hwh5VQ0U_BA"
      },
      "source": [
        "dcnn.fit(train_dataset, epochs=NB_EPOCHS, callbacks=[MyCustomCallback])"
      ],
      "execution_count": null,
      "outputs": []
    },
    {
      "cell_type": "code",
      "metadata": {
        "id": "aQit6CaWVJvm"
      },
      "source": [
        ""
      ],
      "execution_count": null,
      "outputs": []
    }
  ]
}