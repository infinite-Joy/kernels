{
 "cells": [
  {
   "cell_type": "code",
   "execution_count": 68,
   "metadata": {},
   "outputs": [],
   "source": [
    "from sklearn.datasets import load_boston\n",
    "from sklearn import preprocessing\n",
    "import pandas as pd\n",
    "import numpy as np\n",
    "import matplotlib.pyplot as plt\n",
    "from sklearn.linear_model import SGDRegressor\n",
    "from sklearn.metrics import mean_squared_error\n",
    "from sklearn.model_selection import train_test_split"
   ]
  },
  {
   "cell_type": "code",
   "execution_count": 69,
   "metadata": {},
   "outputs": [],
   "source": [
    "boston_data=pd.DataFrame(load_boston().data, columns=load_boston().feature_names)"
   ]
  },
  {
   "cell_type": "code",
   "execution_count": 70,
   "metadata": {},
   "outputs": [],
   "source": [
    "Y = load_boston().target\n",
    "X = load_boston().data\n",
    "x_train, x_test, y_train, y_test = train_test_split(X,Y,test_size=0.3)"
   ]
  },
  {
   "cell_type": "code",
   "execution_count": 71,
   "metadata": {},
   "outputs": [
    {
     "name": "stdout",
     "output_type": "stream",
     "text": [
      "X Shape:  (506, 13)\n",
      "Y Shape:  (506,)\n",
      "X_Train Shape:  (354, 13)\n",
      "X_Test Shape:  (152, 13)\n",
      "Y_Train Shape:  (354,)\n",
      "Y_Test Shape:  (152,)\n"
     ]
    }
   ],
   "source": [
    "print(\"X Shape: \",X.shape)\n",
    "print(\"Y Shape: \",Y.shape)\n",
    "print(\"X_Train Shape: \",x_train.shape)\n",
    "print(\"X_Test Shape: \",x_test.shape)\n",
    "print(\"Y_Train Shape: \",y_train.shape)\n",
    "print(\"Y_Test Shape: \",y_test.shape)"
   ]
  },
  {
   "cell_type": "code",
   "execution_count": 72,
   "metadata": {},
   "outputs": [
    {
     "name": "stdout",
     "output_type": "stream",
     "text": [
      "(354, 14)\n"
     ]
    }
   ],
   "source": [
    "# standardizing data\n",
    "scaler = preprocessing.StandardScaler().fit(x_train)\n",
    "x_train = scaler.transform(x_train)\n",
    "x_test = scaler.transform(x_test)\n",
    "\n",
    "# adding the output to the data\n",
    "train_data = pd.DataFrame(x_train)\n",
    "train_data[\"price\"] = y_train\n",
    "train_data.head()\n",
    "print(train_data.shape)"
   ]
  },
  {
   "cell_type": "code",
   "execution_count": 14,
   "metadata": {},
   "outputs": [
    {
     "data": {
      "image/png": "[encoded data removed]",
      "text/plain": [
       "<Figure size 432x288 with 1 Axes>"
      ]
     },
     "metadata": {
      "needs_background": "light"
     },
     "output_type": "display_data"
    },
    {
     "name": "stdout",
     "output_type": "stream",
     "text": [
      "Mean Squared Error : 19.281016734905958\n"
     ]
    }
   ],
   "source": [
    "# SkLearn SGD classifier\n",
    "n_iter=100\n",
    "clf_ = SGDRegressor(max_iter=n_iter)\n",
    "clf_.fit(x_train, y_train)\n",
    "y_pred_sksgd=clf_.predict(x_test)\n",
    "plt.scatter(y_test,y_pred_sksgd)\n",
    "plt.grid()\n",
    "plt.xlabel('Actual y')\n",
    "plt.ylabel('Predicted y')\n",
    "plt.title('Scatter plot from actual y and predicted y')\n",
    "plt.show()\n",
    "\n",
    "print('Mean Squared Error :',mean_squared_error(y_test, y_pred_sksgd))"
   ]
  },
  {
   "cell_type": "code",
   "execution_count": 103,
   "metadata": {},
   "outputs": [],
   "source": [
    "def transform_with_bias(data):\n",
    "    data_with_bias = data\n",
    "    b = np.ones([data_with_bias.shape[0],1])\n",
    "    data_with_bias = np.concatenate((b, data_with_bias), axis=1)\n",
    "    beta = np.zeros([1, X_train_with_bias.shape[1] - 1])\n",
    "    return data_with_bias, beta\n",
    "    \n",
    "X_train_with_bias, beta = transform_with_bias(train_data)\n",
    "X_test_with_bias, _ = transform_with_bias(x_test)"
   ]
  },
  {
   "cell_type": "code",
   "execution_count": 104,
   "metadata": {},
   "outputs": [
    {
     "data": {
      "text/plain": [
       "((354, 15), (152, 14), (1, 14))"
      ]
     },
     "execution_count": 104,
     "metadata": {},
     "output_type": "execute_result"
    }
   ],
   "source": [
    "X_train_with_bias.shape, X_test_with_bias.shape, beta.shape"
   ]
  },
  {
   "cell_type": "markdown",
   "metadata": {},
   "source": [
    "### Y = X * beta"
   ]
  },
  {
   "cell_type": "code",
   "execution_count": 110,
   "metadata": {},
   "outputs": [
    {
     "data": {
      "text/plain": [
       "array([0.99469555, 0.88284829, 0.12714852, 0.89508303, 0.36738785])"
      ]
     },
     "execution_count": 110,
     "metadata": {},
     "output_type": "execute_result"
    }
   ],
   "source": [
    "np.random.random_sample((5,))"
   ]
  },
  {
   "cell_type": "code",
   "execution_count": 111,
   "metadata": {},
   "outputs": [],
   "source": [
    "curr_iter = 0\n",
    "num_of_iter = 1000\n",
    "learning_rate = 0.001\n",
    "k = 10\n",
    "while curr_iter < num_of_iter:\n",
    "    \n",
    "    # we will create a small dataset of size k\n",
    "    picked_rows = np.random.choice(X_train_with_bias.shape[0]\n",
    "    temp_x_train = X_train_with_bias[picked_rows, k, replace=False), :]\n",
    "    \n",
    "    # separate out the last col as that is the y\n",
    "    # https://stackoverflow.com/a/47542892\n",
    "    y = temp_x_train[:, -1]\n",
    "    x = temp_x_train[:, :-1]\n",
    "    \n",
    "    # we keep our initial gradient as zeros\n",
    "    beta_temp_gradients = np.random.random_sample([1, x.shape[1]])\n",
    "    \n",
    "    for i in range(k):\n",
    "        prediction = np.dot(beta_temp_gradients, x[i])\n",
    "        beta_temp_gradients = beta_temp_gradients + (-2) * x[i] * (y[i] - prediction)\n",
    "        \n",
    "    # updating the weights\n",
    "    beta = beta - learning_rate * (beta_temp_gradients / k)\n",
    "    \n",
    "    # incrementing the current iteration\n",
    "    curr_iter += 1\n",
    "    \n",
    "# prediction = np.dot(X_train_with_bias[0].reshape(-1, 1).T, beta)\n",
    "# beta = beta + (-2)*X_train_with_bias[0]*(y_train[0]-(prediction))"
   ]
  },
  {
   "cell_type": "code",
   "execution_count": 115,
   "metadata": {},
   "outputs": [
    {
     "data": {
      "text/plain": [
       "((1, 14), (14,))"
      ]
     },
     "execution_count": 115,
     "metadata": {},
     "output_type": "execute_result"
    }
   ],
   "source": [
    "beta_temp_gradients.shape, x[0].shape"
   ]
  },
  {
   "cell_type": "code",
   "execution_count": 112,
   "metadata": {},
   "outputs": [
    {
     "data": {
      "text/plain": [
       "((1, 14), (354, 15), (152, 14))"
      ]
     },
     "execution_count": 112,
     "metadata": {},
     "output_type": "execute_result"
    }
   ],
   "source": [
    "beta.shape, X_train_with_bias.shape, X_test_with_bias.shape"
   ]
  },
  {
   "cell_type": "code",
   "execution_count": 113,
   "metadata": {},
   "outputs": [],
   "source": [
    "def predict(x_test, beta):\n",
    "    print(x_test.shape, beta.shape)\n",
    "    return np.dot(beta, x_test.T)"
   ]
  },
  {
   "cell_type": "code",
   "execution_count": 114,
   "metadata": {},
   "outputs": [
    {
     "name": "stdout",
     "output_type": "stream",
     "text": [
      "(152, 14) (1, 14)\n",
      "(1, 152)\n"
     ]
    },
    {
     "data": {
      "image/png": "[encoded data removed]",
      "text/plain": [
       "<Figure size 432x288 with 1 Axes>"
      ]
     },
     "metadata": {
      "needs_background": "light"
     },
     "output_type": "display_data"
    },
    {
     "name": "stdout",
     "output_type": "stream",
     "text": [
      "Mean Squared Error : 1.9341823621072723e+22\n"
     ]
    }
   ],
   "source": [
    "predictions = predict(X_test_with_bias, beta)\n",
    "print(predictions.shape)\n",
    "\n",
    "plt.scatter(y_test, predictions)\n",
    "plt.grid()\n",
    "plt.xlabel('Actual y')\n",
    "plt.ylabel('Predicted y')\n",
    "plt.title('Scatter plot from actual y and predicted y')\n",
    "plt.show()\n",
    "print('Mean Squared Error :',mean_squared_error(y_test.reshape(1, -1), predictions))"
   ]
  },
  {
   "cell_type": "code",
   "execution_count": null,
   "metadata": {},
   "outputs": [],
   "source": []
  }
 ],
 "metadata": {
  "kernelspec": {
   "display_name": "Python 3",
   "language": "python",
   "name": "python3"
  },
  "language_info": {
   "codemirror_mode": {
    "name": "ipython",
    "version": 3
   },
   "file_extension": ".py",
   "mimetype": "text/x-python",
   "name": "python",
   "nbconvert_exporter": "python",
   "pygments_lexer": "ipython3",
   "version": "3.7.4"
  }
 },
 "nbformat": 4,
 "nbformat_minor": 4
}
