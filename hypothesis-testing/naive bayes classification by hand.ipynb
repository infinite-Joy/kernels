{
 "cells": [
  {
   "cell_type": "code",
   "execution_count": 15,
   "metadata": {},
   "outputs": [],
   "source": [
    "import pandas as pd\n",
    "import numpy as np\n",
    "import matplotlib.pyplot as plt\n",
    "from collections import defaultdict\n",
    "from pprint import pprint\n",
    "%matplotlib inline"
   ]
  },
  {
   "cell_type": "markdown",
   "metadata": {},
   "source": [
    "```\n",
    "P(Banana|Long, Sweet and Yellow) \n",
    "      P(Long|Banana) * P(Sweet|Banana) * P(Yellow|Banana) * P(banana)\n",
    "    = _______________________________________________________________\n",
    "                      P(Long) * P(Sweet) * P(Yellow)\n",
    "                      \n",
    "```"
   ]
  },
  {
   "cell_type": "code",
   "execution_count": 31,
   "metadata": {},
   "outputs": [],
   "source": [
    "\n",
    "class NaiveBayes:\n",
    "    def __init__(self):\n",
    "        self.counts = None\n",
    "        self.decision_counts = None\n",
    "        self.income_counts = None\n",
    "        self.gender_counts = None\n",
    "    def train(self, training_file):\n",
    "        counts = {}\n",
    "        decision_counts = defaultdict(int)\n",
    "        income_counts = defaultdict(int)\n",
    "        gender_counts = defaultdict(int)\n",
    "        total = 0\n",
    "        for data in training_file:\n",
    "            income, gender, decision = data\n",
    "            decision_counts[decision] += 1\n",
    "            income_counts[income] += 1\n",
    "            gender_counts[gender] += 1\n",
    "            if decision not in counts:\n",
    "                counts[decision] = {}\n",
    "                counts[decision][\"income\"] = {}\n",
    "                counts[decision][\"gender\"] = {}\n",
    "                if income not in counts[decision][\"income\"]:\n",
    "                    counts[decision][\"income\"][income] = 1\n",
    "                if gender not in counts[decision][\"gender\"]:\n",
    "                    counts[decision][\"gender\"][gender] = 1\n",
    "                counts[decision][\"income\"][income] += 1\n",
    "                counts[decision][\"gender\"][gender] += 1\n",
    "            total += 1\n",
    "            \n",
    "        pprint(counts)\n",
    "        pprint(decision_counts)\n",
    "        pprint(income_counts)\n",
    "        pprint(gender_counts)\n",
    "        \n",
    "        self.counts = counts\n",
    "        self.decision_counts = decision_counts\n",
    "        self.income_counts = income_counts\n",
    "        self.gender_counts = gender_counts\n",
    "        self.total = total\n",
    "        \n",
    "        try:\n",
    "            self.prob_low_given_yes = counts[\"yes\"][\"income\"][\"low\"] / decision_counts[\"yes\"]\n",
    "        except KeyError:\n",
    "            self.prob_low_given_yes = 0\n",
    "            \n",
    "        try:\n",
    "            self.prob_fm_given_yes = counts[\"yes\"][\"gender\"][\"female\"] / decision_counts[\"yes\"]\n",
    "        except KeyError:\n",
    "            self.prob_fm_given_yes = 0\n",
    "            \n",
    "        try:\n",
    "            self.prob_low_given_no = counts[\"no\"][\"income\"][\"low\"] / decision_counts[\"yes\"]\n",
    "        except KeyError:\n",
    "            self.prob_low_given_no = 0\n",
    "            \n",
    "        try:\n",
    "            self.prob_fm_given_no = counts[\"no\"][\"gender\"][\"female\"] / decision_counts[\"yes\"]\n",
    "        except KeyError:\n",
    "            self.prob_fm_given_no = 0\n",
    "            \n",
    "        print(self.prob_low_given_yes )\n",
    "        \n",
    "    def test(self, test_file):\n",
    "        income, gender = test_data\n",
    "        if income == 'low' and gender == 'female':\n",
    "            yes_prob = self.prob_low_given_yes * self.prob_fm_given_yes * (self.decision_counts[\"yes\"] / self.total)\n",
    "            no_prob = self.prob_low_given_no * self.prob_fm_given_no * (self.decision_counts[\"no\"] / self.total)\n",
    "        print(yes_prob, no_prob)"
   ]
  },
  {
   "cell_type": "code",
   "execution_count": 32,
   "metadata": {},
   "outputs": [
    {
     "name": "stdout",
     "output_type": "stream",
     "text": [
      "{'no': {'gender': {'female': 2}, 'income': {'high': 2}},\n",
      " 'yes': {'gender': {'male': 2}, 'income': {'high': 2}}}\n",
      "defaultdict(<class 'int'>, {'yes': 2, 'no': 2})\n",
      "defaultdict(<class 'int'>, {'high': 2, 'medium': 1, 'low': 1})\n",
      "defaultdict(<class 'int'>, {'male': 2, 'female': 2})\n",
      "0\n",
      "0.0 0.0\n"
     ]
    }
   ],
   "source": [
    "##   buy income gender\n",
    "## 1 yes   high   male\n",
    "## 2  no   high female\n",
    "## 3  no medium female\n",
    "## 4 yes    low   male\n",
    "\n",
    "data = [\n",
    "    [\"high\", \"male\", \"yes\"],\n",
    "    [\"high\", \"female\", \"no\"],\n",
    "    [\"medium\", \"female\", \"no\"],\n",
    "    [\"low\", \"male\", \"yes\"]\n",
    "]\n",
    "\n",
    "test_data = [\"low\", \"female\"]\n",
    "\n",
    "nb = NaiveBayes()\n",
    "nb.train(data)\n",
    "nb.test(test_data)"
   ]
  },
  {
   "cell_type": "code",
   "execution_count": null,
   "metadata": {},
   "outputs": [],
   "source": [
    "p(yes|low and female) = P(low|yes) * P(female|yes) * P(yes)"
   ]
  },
  {
   "cell_type": "code",
   "execution_count": null,
   "metadata": {},
   "outputs": [],
   "source": []
  }
 ],
 "metadata": {
  "kernelspec": {
   "display_name": "Python 3",
   "language": "python",
   "name": "python3"
  },
  "language_info": {
   "codemirror_mode": {
    "name": "ipython",
    "version": 3
   },
   "file_extension": ".py",
   "mimetype": "text/x-python",
   "name": "python",
   "nbconvert_exporter": "python",
   "pygments_lexer": "ipython3",
   "version": "3.7.4"
  }
 },
 "nbformat": 4,
 "nbformat_minor": 4
}
