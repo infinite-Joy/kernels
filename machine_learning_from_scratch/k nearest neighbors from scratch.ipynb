{
 "cells": [
  {
   "cell_type": "code",
   "execution_count": 1,
   "metadata": {},
   "outputs": [],
   "source": [
    "# reference https://www.youtube.com/watch?v=ngLyX54e1LU"
   ]
  },
  {
   "cell_type": "code",
   "execution_count": 2,
   "metadata": {},
   "outputs": [
    {
     "name": "stdout",
     "output_type": "stream",
     "text": [
      "Accuracy: 0.9666666666666667\n"
     ]
    }
   ],
   "source": [
    "from sklearn.neighbors import KNeighborsClassifier \n",
    "from sklearn.model_selection import train_test_split \n",
    "from sklearn.datasets import load_iris\n",
    "from sklearn.metrics import confusion_matrix, classification_report\n",
    "  \n",
    "# Loading data \n",
    "irisData = load_iris() \n",
    "  \n",
    "# Create feature and target arrays \n",
    "X = irisData.data \n",
    "y = irisData.target \n",
    "  \n",
    "# Split into training and test set \n",
    "X_train, X_test, y_train, y_test = train_test_split( \n",
    "             X, y, test_size = 0.2, random_state=42) \n",
    "  \n",
    "knn = KNeighborsClassifier(n_neighbors=7) # k = 7\n",
    "  \n",
    "knn.fit(X_train, y_train) \n",
    "  \n",
    "# Calculate the accuracy of the model \n",
    "print(\"Accuracy:\", knn.score(X_test, y_test)) "
   ]
  },
  {
   "cell_type": "code",
   "execution_count": 3,
   "metadata": {},
   "outputs": [
    {
     "name": "stdout",
     "output_type": "stream",
     "text": [
      "              precision    recall  f1-score   support\n",
      "\n",
      "           0       1.00      1.00      1.00        10\n",
      "           1       1.00      0.89      0.94         9\n",
      "           2       0.92      1.00      0.96        11\n",
      "\n",
      "    accuracy                           0.97        30\n",
      "   macro avg       0.97      0.96      0.97        30\n",
      "weighted avg       0.97      0.97      0.97        30\n",
      "\n",
      "-------------------------------------------------------\n",
      "Confusion Matrix\n",
      "\n",
      "[[10  0  0]\n",
      " [ 0  8  1]\n",
      " [ 0  0 11]]\n"
     ]
    }
   ],
   "source": [
    "y_pred = knn.predict(X_test)\n",
    "\n",
    "print(classification_report(y_test, y_pred))\n",
    "print('-'*55)\n",
    "print('Confusion Matrix\\n')\n",
    "print(confusion_matrix(y_test, y_pred))"
   ]
  },
  {
   "cell_type": "code",
   "execution_count": 4,
   "metadata": {},
   "outputs": [],
   "source": [
    "import numpy as np"
   ]
  },
  {
   "cell_type": "code",
   "execution_count": 5,
   "metadata": {},
   "outputs": [],
   "source": [
    "def k_nearest_neighbors(X_train, y_train, X_test, y_test, k=3):\n",
    "    y_pred = []\n",
    "    for x_test, y_ in zip(X_test, y_test):\n",
    "        \n",
    "        # get the euclidean distance from this sample to all the training data\n",
    "        distances = np.linalg.norm(X_train - x_test, axis=1).reshape(-1, 1)\n",
    "        \n",
    "        # keep the distance and the label side by side\n",
    "        distance_label = np.concatenate([distances, y_train.reshape(-1, 1)], axis=1)\n",
    "        \n",
    "        # get the top k labels\n",
    "        # this is done by sorting based on the first col which is the distance\n",
    "        # this should be normal sorting as we are trying to get the nearest\n",
    "        # ones first. ideal situation is if the distance is 0\n",
    "        top_k = distance_label[distance_label[:, 0].argsort()][:k]\n",
    "        \n",
    "        # get the top label. TO do this take the second col which is the label col and then get the counts\n",
    "        # the bin count does the counts based on the index of the labels so we do the argmax\n",
    "        label = np.bincount(top_k[:, 1].astype(int)).argmax()\n",
    "        \n",
    "        print(x_test, y_, label)\n",
    "        \n",
    "        y_pred.append(label)\n",
    "    \n",
    "    return np.array(y_pred)"
   ]
  },
  {
   "cell_type": "code",
   "execution_count": 6,
   "metadata": {
    "collapsed": true
   },
   "outputs": [
    {
     "name": "stdout",
     "output_type": "stream",
     "text": [
      "[6.1 2.8 4.7 1.2] 1 1\n",
      "[5.7 3.8 1.7 0.3] 0 0\n",
      "[7.7 2.6 6.9 2.3] 2 2\n",
      "[6.  2.9 4.5 1.5] 1 1\n",
      "[6.8 2.8 4.8 1.4] 1 1\n",
      "[5.4 3.4 1.5 0.4] 0 0\n",
      "[5.6 2.9 3.6 1.3] 1 1\n",
      "[6.9 3.1 5.1 2.3] 2 2\n",
      "[6.2 2.2 4.5 1.5] 1 2\n",
      "[5.8 2.7 3.9 1.2] 1 1\n",
      "[6.5 3.2 5.1 2. ] 2 2\n",
      "[4.8 3.  1.4 0.1] 0 0\n",
      "[5.5 3.5 1.3 0.2] 0 0\n",
      "[4.9 3.1 1.5 0.1] 0 0\n",
      "[5.1 3.8 1.5 0.3] 0 0\n",
      "[6.3 3.3 4.7 1.6] 1 1\n",
      "[6.5 3.  5.8 2.2] 2 2\n",
      "[5.6 2.5 3.9 1.1] 1 1\n",
      "[5.7 2.8 4.5 1.3] 1 1\n",
      "[6.4 2.8 5.6 2.2] 2 2\n",
      "[4.7 3.2 1.6 0.2] 0 0\n",
      "[6.1 3.  4.9 1.8] 2 2\n",
      "[5.  3.4 1.6 0.4] 0 0\n",
      "[6.4 2.8 5.6 2.1] 2 2\n",
      "[7.9 3.8 6.4 2. ] 2 2\n",
      "[6.7 3.  5.2 2.3] 2 2\n",
      "[6.7 2.5 5.8 1.8] 2 2\n",
      "[6.8 3.2 5.9 2.3] 2 2\n",
      "[4.8 3.  1.4 0.3] 0 0\n",
      "[4.8 3.1 1.6 0.2] 0 0\n",
      "              precision    recall  f1-score   support\n",
      "\n",
      "           0       1.00      1.00      1.00        10\n",
      "           1       1.00      0.89      0.94         9\n",
      "           2       0.92      1.00      0.96        11\n",
      "\n",
      "    accuracy                           0.97        30\n",
      "   macro avg       0.97      0.96      0.97        30\n",
      "weighted avg       0.97      0.97      0.97        30\n",
      "\n",
      "-------------------------------------------------------\n",
      "Confusion Matrix\n",
      "\n",
      "[[10  0  0]\n",
      " [ 0  8  1]\n",
      " [ 0  0 11]]\n"
     ]
    }
   ],
   "source": [
    "y_pred = k_nearest_neighbors(X_train, y_train, X_test, y_test, k=7)\n",
    "\n",
    "print(classification_report(y_test, y_pred))\n",
    "print('-'*55)\n",
    "print('Confusion Matrix\\n')\n",
    "print(confusion_matrix(y_test, y_pred))"
   ]
  },
  {
   "cell_type": "code",
   "execution_count": 29,
   "metadata": {},
   "outputs": [
    {
     "data": {
      "text/plain": [
       "array([[6.1, 2.8, 4.7, 1.2],\n",
       "       [5.7, 3.8, 1.7, 0.3]])"
      ]
     },
     "execution_count": 29,
     "metadata": {},
     "output_type": "execute_result"
    }
   ],
   "source": [
    "X_test[:2, :]"
   ]
  },
  {
   "cell_type": "code",
   "execution_count": 33,
   "metadata": {},
   "outputs": [
    {
     "data": {
      "text/plain": [
       "(2, 120, 4)"
      ]
     },
     "execution_count": 33,
     "metadata": {},
     "output_type": "execute_result"
    }
   ],
   "source": [
    "(X_train - X_test[:2, np.newaxis]).shape"
   ]
  },
  {
   "cell_type": "code",
   "execution_count": 37,
   "metadata": {},
   "outputs": [
    {
     "data": {
      "text/plain": [
       "(30, 120)"
      ]
     },
     "execution_count": 37,
     "metadata": {},
     "output_type": "execute_result"
    }
   ],
   "source": [
    "np.linalg.norm(X_train - X_test[:, np.newaxis], axis=2).shape"
   ]
  },
  {
   "cell_type": "code",
   "execution_count": 38,
   "metadata": {},
   "outputs": [
    {
     "data": {
      "text/plain": [
       "array([[4.19285106, 3.68781778, 0.76157731, ..., 3.84447656, 0.78740079,\n",
       "        1.81383571],\n",
       "       [1.32287566, 0.64031242, 3.16069613, ..., 0.55677644, 2.74772633,\n",
       "        4.84561658],\n",
       "       [7.05903676, 6.32534584, 2.88270706, ..., 6.5169011 , 3.6373067 ,\n",
       "        1.2489996 ],\n",
       "       ...,\n",
       "       [5.78100337, 5.06162029, 1.75499288, ..., 5.30471488, 2.48596058,\n",
       "        0.41231056],\n",
       "       [0.75498344, 1.67032931, 3.7188708 , ..., 1.43178211, 2.95465734,\n",
       "        5.36469943],\n",
       "       [0.80622577, 1.59687194, 3.59026461, ..., 1.40356688, 2.83019434,\n",
       "        5.23450093]])"
      ]
     },
     "execution_count": 38,
     "metadata": {},
     "output_type": "execute_result"
    }
   ],
   "source": [
    "np.linalg.norm(X_train - X_test[:, np.newaxis], axis=2)"
   ]
  },
  {
   "cell_type": "code",
   "execution_count": 42,
   "metadata": {},
   "outputs": [
    {
     "data": {
      "text/plain": [
       "array([[ 79,  90,  39],\n",
       "       [ 48,  14,  94],\n",
       "       [ 24,  21,  64],\n",
       "       [ 90,  79,  86],\n",
       "       [ 92,  12, 105],\n",
       "       [114,   7,  26],\n",
       "       [ 88,  95, 108],\n",
       "       [ 85,  76,  87],\n",
       "       [110,  73,  68],\n",
       "       [118, 108,  25],\n",
       "       [ 87,  83,  54],\n",
       "       [104,  55,  78],\n",
       "       [ 14,  26,  94],\n",
       "       [ 55, 104,  32],\n",
       "       [ 98,  84,  94],\n",
       "       [  6,  11,  90],\n",
       "       [103,  97,  76],\n",
       "       [ 53,  65,  15],\n",
       "       [ 22,  93,  20],\n",
       "       [107,  50,  76],\n",
       "       [ 70,   3,  38],\n",
       "       [ 42,  81, 113],\n",
       "       [ 33,  58,  57],\n",
       "       [107,  50, 109],\n",
       "       [ 37,  21,  64],\n",
       "       [ 87,  85,  76],\n",
       "       [107, 109,  50],\n",
       "       [ 61,  97, 100],\n",
       "       [104,  55,  78],\n",
       "       [ 55,  32,  70]])"
      ]
     },
     "execution_count": 42,
     "metadata": {},
     "output_type": "execute_result"
    }
   ],
   "source": [
    "np.argsort(np.linalg.norm(X_train - X_test[:, np.newaxis], axis=2))[:, :3]"
   ]
  },
  {
   "cell_type": "code",
   "execution_count": 44,
   "metadata": {},
   "outputs": [],
   "source": [
    "top_points = np.argsort(np.linalg.norm(X_train - X_test[:, np.newaxis], axis=2))[:, :3]"
   ]
  },
  {
   "cell_type": "code",
   "execution_count": 47,
   "metadata": {},
   "outputs": [
    {
     "data": {
      "text/plain": [
       "array([[ 79,  90,  39],\n",
       "       [ 48,  14,  94],\n",
       "       [ 24,  21,  64],\n",
       "       [ 90,  79,  86],\n",
       "       [ 92,  12, 105],\n",
       "       [114,   7,  26],\n",
       "       [ 88,  95, 108],\n",
       "       [ 85,  76,  87],\n",
       "       [110,  73,  68],\n",
       "       [118, 108,  25],\n",
       "       [ 87,  83,  54],\n",
       "       [104,  55,  78],\n",
       "       [ 14,  26,  94],\n",
       "       [ 55, 104,  32],\n",
       "       [ 98,  84,  94],\n",
       "       [  6,  11,  90],\n",
       "       [103,  97,  76],\n",
       "       [ 53,  65,  15],\n",
       "       [ 22,  93,  20],\n",
       "       [107,  50,  76],\n",
       "       [ 70,   3,  38],\n",
       "       [ 42,  81, 113],\n",
       "       [ 33,  58,  57],\n",
       "       [107,  50, 109],\n",
       "       [ 37,  21,  64],\n",
       "       [ 87,  85,  76],\n",
       "       [107, 109,  50],\n",
       "       [ 61,  97, 100],\n",
       "       [104,  55,  78],\n",
       "       [ 55,  32,  70]])"
      ]
     },
     "execution_count": 47,
     "metadata": {},
     "output_type": "execute_result"
    }
   ],
   "source": [
    "top_points"
   ]
  },
  {
   "cell_type": "code",
   "execution_count": 48,
   "metadata": {
    "collapsed": true
   },
   "outputs": [
    {
     "data": {
      "text/plain": [
       "array([1, 1, 1])"
      ]
     },
     "execution_count": 48,
     "metadata": {},
     "output_type": "execute_result"
    }
   ],
   "source": [
    "y_train[[79, 90, 39]]"
   ]
  },
  {
   "cell_type": "code",
   "execution_count": 46,
   "metadata": {},
   "outputs": [
    {
     "data": {
      "text/plain": [
       "array([[1, 1, 1],\n",
       "       [0, 0, 0],\n",
       "       [2, 2, 2],\n",
       "       [1, 1, 1],\n",
       "       [1, 1, 1],\n",
       "       [0, 0, 0],\n",
       "       [1, 1, 1],\n",
       "       [2, 2, 2],\n",
       "       [1, 1, 2],\n",
       "       [1, 1, 1],\n",
       "       [2, 2, 1],\n",
       "       [0, 0, 0],\n",
       "       [0, 0, 0],\n",
       "       [0, 0, 0],\n",
       "       [0, 0, 0],\n",
       "       [1, 1, 1],\n",
       "       [2, 2, 2],\n",
       "       [1, 1, 1],\n",
       "       [1, 1, 1],\n",
       "       [2, 2, 2],\n",
       "       [0, 0, 0],\n",
       "       [2, 2, 2],\n",
       "       [0, 0, 0],\n",
       "       [2, 2, 2],\n",
       "       [2, 2, 2],\n",
       "       [2, 2, 2],\n",
       "       [2, 2, 2],\n",
       "       [2, 2, 2],\n",
       "       [0, 0, 0],\n",
       "       [0, 0, 0]])"
      ]
     },
     "execution_count": 46,
     "metadata": {},
     "output_type": "execute_result"
    }
   ],
   "source": [
    "y_train[top_points]"
   ]
  },
  {
   "cell_type": "code",
   "execution_count": 54,
   "metadata": {
    "collapsed": true
   },
   "outputs": [
    {
     "name": "stdout",
     "output_type": "stream",
     "text": [
      "Help on function apply_along_axis in module numpy:\n",
      "\n",
      "apply_along_axis(func1d, axis, arr, *args, **kwargs)\n",
      "    Apply a function to 1-D slices along the given axis.\n",
      "    \n",
      "    Execute `func1d(a, *args, **kwargs)` where `func1d` operates on 1-D arrays\n",
      "    and `a` is a 1-D slice of `arr` along `axis`.\n",
      "    \n",
      "    This is equivalent to (but faster than) the following use of `ndindex` and\n",
      "    `s_`, which sets each of ``ii``, ``jj``, and ``kk`` to a tuple of indices::\n",
      "    \n",
      "        Ni, Nk = a.shape[:axis], a.shape[axis+1:]\n",
      "        for ii in ndindex(Ni):\n",
      "            for kk in ndindex(Nk):\n",
      "                f = func1d(arr[ii + s_[:,] + kk])\n",
      "                Nj = f.shape\n",
      "                for jj in ndindex(Nj):\n",
      "                    out[ii + jj + kk] = f[jj]\n",
      "    \n",
      "    Equivalently, eliminating the inner loop, this can be expressed as::\n",
      "    \n",
      "        Ni, Nk = a.shape[:axis], a.shape[axis+1:]\n",
      "        for ii in ndindex(Ni):\n",
      "            for kk in ndindex(Nk):\n",
      "                out[ii + s_[...,] + kk] = func1d(arr[ii + s_[:,] + kk])\n",
      "    \n",
      "    Parameters\n",
      "    ----------\n",
      "    func1d : function (M,) -> (Nj...)\n",
      "        This function should accept 1-D arrays. It is applied to 1-D\n",
      "        slices of `arr` along the specified axis.\n",
      "    axis : integer\n",
      "        Axis along which `arr` is sliced.\n",
      "    arr : ndarray (Ni..., M, Nk...)\n",
      "        Input array.\n",
      "    args : any\n",
      "        Additional arguments to `func1d`.\n",
      "    kwargs : any\n",
      "        Additional named arguments to `func1d`.\n",
      "    \n",
      "        .. versionadded:: 1.9.0\n",
      "    \n",
      "    \n",
      "    Returns\n",
      "    -------\n",
      "    out : ndarray  (Ni..., Nj..., Nk...)\n",
      "        The output array. The shape of `out` is identical to the shape of\n",
      "        `arr`, except along the `axis` dimension. This axis is removed, and\n",
      "        replaced with new dimensions equal to the shape of the return value\n",
      "        of `func1d`. So if `func1d` returns a scalar `out` will have one\n",
      "        fewer dimensions than `arr`.\n",
      "    \n",
      "    See Also\n",
      "    --------\n",
      "    apply_over_axes : Apply a function repeatedly over multiple axes.\n",
      "    \n",
      "    Examples\n",
      "    --------\n",
      "    >>> def my_func(a):\n",
      "    ...     \"\"\"Average first and last element of a 1-D array\"\"\"\n",
      "    ...     return (a[0] + a[-1]) * 0.5\n",
      "    >>> b = np.array([[1,2,3], [4,5,6], [7,8,9]])\n",
      "    >>> np.apply_along_axis(my_func, 0, b)\n",
      "    array([4., 5., 6.])\n",
      "    >>> np.apply_along_axis(my_func, 1, b)\n",
      "    array([2.,  5.,  8.])\n",
      "    \n",
      "    For a function that returns a 1D array, the number of dimensions in\n",
      "    `outarr` is the same as `arr`.\n",
      "    \n",
      "    >>> b = np.array([[8,1,7], [4,3,9], [5,2,6]])\n",
      "    >>> np.apply_along_axis(sorted, 1, b)\n",
      "    array([[1, 7, 8],\n",
      "           [3, 4, 9],\n",
      "           [2, 5, 6]])\n",
      "    \n",
      "    For a function that returns a higher dimensional array, those dimensions\n",
      "    are inserted in place of the `axis` dimension.\n",
      "    \n",
      "    >>> b = np.array([[1,2,3], [4,5,6], [7,8,9]])\n",
      "    >>> np.apply_along_axis(np.diag, -1, b)\n",
      "    array([[[1, 0, 0],\n",
      "            [0, 2, 0],\n",
      "            [0, 0, 3]],\n",
      "           [[4, 0, 0],\n",
      "            [0, 5, 0],\n",
      "            [0, 0, 6]],\n",
      "           [[7, 0, 0],\n",
      "            [0, 8, 0],\n",
      "            [0, 0, 9]]])\n",
      "\n"
     ]
    }
   ],
   "source": [
    "help(np.apply_along_axis)"
   ]
  },
  {
   "cell_type": "code",
   "execution_count": 72,
   "metadata": {},
   "outputs": [],
   "source": [
    "arr = y_train[top_points]"
   ]
  },
  {
   "cell_type": "code",
   "execution_count": 68,
   "metadata": {},
   "outputs": [],
   "source": [
    "u, indices = np.unique(y_train[top_points], return_inverse=True)"
   ]
  },
  {
   "cell_type": "code",
   "execution_count": 70,
   "metadata": {},
   "outputs": [
    {
     "data": {
      "text/plain": [
       "(array([0, 1, 2]),\n",
       " array([1, 1, 1, 0, 0, 0, 2, 2, 2, 1, 1, 1, 1, 1, 1, 0, 0, 0, 1, 1, 1, 2,\n",
       "        2, 2, 1, 1, 2, 1, 1, 1, 2, 2, 1, 0, 0, 0, 0, 0, 0, 0, 0, 0, 0, 0,\n",
       "        0, 1, 1, 1, 2, 2, 2, 1, 1, 1, 1, 1, 1, 2, 2, 2, 0, 0, 0, 2, 2, 2,\n",
       "        0, 0, 0, 2, 2, 2, 2, 2, 2, 2, 2, 2, 2, 2, 2, 2, 2, 2, 0, 0, 0, 0,\n",
       "        0, 0]))"
      ]
     },
     "execution_count": 70,
     "metadata": {},
     "output_type": "execute_result"
    }
   ],
   "source": [
    "u, indices"
   ]
  },
  {
   "cell_type": "code",
   "execution_count": 71,
   "metadata": {},
   "outputs": [
    {
     "data": {
      "text/plain": [
       "(90,)"
      ]
     },
     "execution_count": 71,
     "metadata": {},
     "output_type": "execute_result"
    }
   ],
   "source": [
    "indices.shape"
   ]
  },
  {
   "cell_type": "code",
   "execution_count": 74,
   "metadata": {},
   "outputs": [],
   "source": [
    "axis = 0"
   ]
  },
  {
   "cell_type": "code",
   "execution_count": 80,
   "metadata": {},
   "outputs": [
    {
     "data": {
      "text/plain": [
       "(array([[1, 1],\n",
       "        [0, 0],\n",
       "        [2, 2],\n",
       "        [1, 1],\n",
       "        [1, 1],\n",
       "        [0, 0],\n",
       "        [1, 1],\n",
       "        [2, 2],\n",
       "        [1, 2],\n",
       "        [1, 1],\n",
       "        [2, 1],\n",
       "        [0, 0],\n",
       "        [0, 0],\n",
       "        [0, 0],\n",
       "        [0, 0],\n",
       "        [1, 1],\n",
       "        [2, 2],\n",
       "        [1, 1],\n",
       "        [1, 1],\n",
       "        [2, 2],\n",
       "        [0, 0],\n",
       "        [2, 2],\n",
       "        [0, 0],\n",
       "        [2, 2],\n",
       "        [2, 2],\n",
       "        [2, 2],\n",
       "        [2, 2],\n",
       "        [2, 2],\n",
       "        [0, 0],\n",
       "        [0, 0]]),\n",
       " array([2, 1]))"
      ]
     },
     "execution_count": 80,
     "metadata": {},
     "output_type": "execute_result"
    }
   ],
   "source": [
    "np.unique(arr, axis=1, return_counts=True)"
   ]
  },
  {
   "cell_type": "code",
   "execution_count": null,
   "metadata": {},
   "outputs": [],
   "source": []
  },
  {
   "cell_type": "code",
   "execution_count": null,
   "metadata": {},
   "outputs": [],
   "source": []
  },
  {
   "cell_type": "code",
   "execution_count": 75,
   "metadata": {},
   "outputs": [
    {
     "data": {
      "text/plain": [
       "array([2, 2, 2])"
      ]
     },
     "execution_count": 75,
     "metadata": {},
     "output_type": "execute_result"
    }
   ],
   "source": [
    "u[np.argmax(np.apply_along_axis(np.bincount, axis, indices.reshape(arr.shape),\n",
    "                                None, np.max(indices) + 1), axis=axis)]"
   ]
  },
  {
   "cell_type": "code",
   "execution_count": 77,
   "metadata": {},
   "outputs": [
    {
     "data": {
      "text/plain": [
       "array([[10, 10, 10],\n",
       "       [ 9,  9,  9],\n",
       "       [11, 11, 11]])"
      ]
     },
     "execution_count": 77,
     "metadata": {},
     "output_type": "execute_result"
    }
   ],
   "source": [
    "np.apply_along_axis(np.bincount, axis, indices.reshape(arr.shape), None, np.max(indices) + 1)"
   ]
  },
  {
   "cell_type": "code",
   "execution_count": 67,
   "metadata": {},
   "outputs": [
    {
     "data": {
      "text/plain": [
       "array([[10, 10, 10],\n",
       "       [ 9,  9,  9],\n",
       "       [11, 11, 11]])"
      ]
     },
     "execution_count": 67,
     "metadata": {},
     "output_type": "execute_result"
    }
   ],
   "source": [
    "np.apply_along_axis(np.bincount, axis=0, arr=y_train[top_points])"
   ]
  },
  {
   "cell_type": "code",
   "execution_count": 52,
   "metadata": {},
   "outputs": [
    {
     "ename": "ValueError",
     "evalue": "object too deep for desired array",
     "output_type": "error",
     "traceback": [
      "\u001b[0;31m---------------------------------------------------------------------------\u001b[0m",
      "\u001b[0;31mValueError\u001b[0m                                Traceback (most recent call last)",
      "\u001b[0;32m<ipython-input-52-704a017553be>\u001b[0m in \u001b[0;36m<module>\u001b[0;34m\u001b[0m\n\u001b[0;32m----> 1\u001b[0;31m \u001b[0mnp\u001b[0m\u001b[0;34m.\u001b[0m\u001b[0mbincount\u001b[0m\u001b[0;34m(\u001b[0m\u001b[0my_train\u001b[0m\u001b[0;34m[\u001b[0m\u001b[0mtop_points\u001b[0m\u001b[0;34m]\u001b[0m\u001b[0;34m)\u001b[0m\u001b[0;34m\u001b[0m\u001b[0;34m\u001b[0m\u001b[0m\n\u001b[0m",
      "\u001b[0;32m<__array_function__ internals>\u001b[0m in \u001b[0;36mbincount\u001b[0;34m(*args, **kwargs)\u001b[0m\n",
      "\u001b[0;31mValueError\u001b[0m: object too deep for desired array"
     ]
    }
   ],
   "source": [
    "np.bincount(y_train[top_points])"
   ]
  },
  {
   "cell_type": "code",
   "execution_count": 40,
   "metadata": {
    "collapsed": true
   },
   "outputs": [
    {
     "data": {
      "text/plain": [
       "array([4.19285106, 3.68781778, 0.76157731, 3.55808937, 3.95094925,\n",
       "       0.84261498, 0.6164414 , 3.54118624, 3.7067506 , 3.73496988,\n",
       "       0.8660254 , 0.75498344, 0.73484692, 3.72827038, 3.54118624,\n",
       "       1.2489996 , 0.53851648, 1.08627805, 0.64807407, 2.34520788,\n",
       "       0.65574385, 2.59036677, 0.64807407, 3.65786823, 2.68328157,\n",
       "       0.70710678, 3.6138622 , 3.75099987, 3.23728281, 1.82482876,\n",
       "       0.67082039, 3.3       , 3.44383507, 3.27719392, 0.72111026,\n",
       "       3.54964787, 0.67082039, 2.92574777, 3.78153408, 0.43588989,\n",
       "       0.98994949, 3.76961536, 0.64807407, 0.8660254 , 0.9486833 ,\n",
       "       0.81240384, 1.43874946, 1.05356538, 3.36749165, 1.86010752,\n",
       "       0.97467943, 3.65376518, 3.82361086, 1.15758369, 0.86023253,\n",
       "       3.57351368, 1.3       , 3.57910603, 3.41613817, 0.75498344,\n",
       "       1.99749844, 1.73493516, 0.58309519, 0.94339811, 2.40208243,\n",
       "       0.97467943, 3.8457769 , 4.17731971, 0.74161985, 1.8493242 ,\n",
       "       3.68510515, 3.63180396, 3.93573373, 0.50990195, 1.62788206,\n",
       "       3.78285606, 1.40712473, 1.91572441, 3.83144881, 0.2236068 ,\n",
       "       0.50990195, 0.6164414 , 1.00498756, 1.34907376, 3.55105618,\n",
       "       1.42478068, 0.64807407, 1.04403065, 1.29614814, 1.22474487,\n",
       "       0.3       , 3.89615195, 0.52915026, 0.7       , 3.56230263,\n",
       "       0.81240384, 2.0904545 , 1.55563492, 3.56230263, 1.8973666 ,\n",
       "       1.81659021, 1.61864141, 3.76563408, 1.64316767, 3.65650106,\n",
       "       0.92736185, 2.03469899, 1.1045361 , 0.72801099, 1.09544512,\n",
       "       0.6244998 , 0.51961524, 0.96436508, 0.77459667, 3.29393382,\n",
       "       0.70710678, 1.34907376, 3.84447656, 0.78740079, 1.81383571])"
      ]
     },
     "execution_count": 40,
     "metadata": {},
     "output_type": "execute_result"
    }
   ],
   "source": [
    "x_test = X_test[0]\n",
    "\n",
    "np.linalg.norm(X_train - x_test, axis=1)"
   ]
  },
  {
   "cell_type": "code",
   "execution_count": 34,
   "metadata": {},
   "outputs": [
    {
     "data": {
      "text/plain": [
       "(120, 4)"
      ]
     },
     "execution_count": 34,
     "metadata": {},
     "output_type": "execute_result"
    }
   ],
   "source": [
    "X_train.shape"
   ]
  },
  {
   "cell_type": "markdown",
   "metadata": {},
   "source": [
    "THis is matching exactly with the sklearn result"
   ]
  },
  {
   "cell_type": "code",
   "execution_count": 7,
   "metadata": {},
   "outputs": [],
   "source": [
    "one_sample = X_test[0]"
   ]
  },
  {
   "cell_type": "code",
   "execution_count": 8,
   "metadata": {},
   "outputs": [
    {
     "data": {
      "text/plain": [
       "(4,)"
      ]
     },
     "execution_count": 8,
     "metadata": {},
     "output_type": "execute_result"
    }
   ],
   "source": [
    "one_sample.shape"
   ]
  },
  {
   "cell_type": "code",
   "execution_count": 9,
   "metadata": {},
   "outputs": [],
   "source": [
    "one_sample = X_test[:3]"
   ]
  },
  {
   "cell_type": "code",
   "execution_count": 10,
   "metadata": {},
   "outputs": [
    {
     "data": {
      "text/plain": [
       "(3, 4)"
      ]
     },
     "execution_count": 10,
     "metadata": {},
     "output_type": "execute_result"
    }
   ],
   "source": [
    "one_sample.shape"
   ]
  },
  {
   "cell_type": "code",
   "execution_count": 11,
   "metadata": {},
   "outputs": [],
   "source": [
    "one_sample = X_test[0]"
   ]
  },
  {
   "cell_type": "code",
   "execution_count": 12,
   "metadata": {},
   "outputs": [
    {
     "data": {
      "text/plain": [
       "(4,)"
      ]
     },
     "execution_count": 12,
     "metadata": {},
     "output_type": "execute_result"
    }
   ],
   "source": [
    "one_sample.shape"
   ]
  },
  {
   "cell_type": "code",
   "execution_count": 13,
   "metadata": {},
   "outputs": [
    {
     "data": {
      "text/plain": [
       "(120, 4)"
      ]
     },
     "execution_count": 13,
     "metadata": {},
     "output_type": "execute_result"
    }
   ],
   "source": [
    "X_train.shape"
   ]
  },
  {
   "cell_type": "code",
   "execution_count": 14,
   "metadata": {
    "collapsed": true
   },
   "outputs": [
    {
     "data": {
      "text/plain": [
       "array([[-1.5,  0.8, -3.7, -1. ],\n",
       "       [-0.4,  1.6, -3.2, -0.8],\n",
       "       [ 0.6,  0.3, -0.3,  0.2],\n",
       "       [-1.3,  0.6, -3.1, -1. ],\n",
       "       [-1.7,  0.4, -3.4, -1. ],\n",
       "       [ 0.2, -0.3,  0.3,  0.7],\n",
       "       [ 0.3,  0.4, -0.2,  0.3],\n",
       "       [-0.9,  0.7, -3.2, -1. ],\n",
       "       [-1.1,  0.8, -3.3, -1. ],\n",
       "       [-0.9,  1.3, -3.2, -1.1],\n",
       "       [-0.3, -0.1,  0.4,  0.7],\n",
       "       [-0.1,  0.6, -0.2,  0.4],\n",
       "       [ 0.6,  0.3,  0. ,  0.3],\n",
       "       [-0.7,  1.1, -3.4, -0.8],\n",
       "       [-0.7,  0.9, -3.2, -1. ],\n",
       "       [-0.6, -0.4, -1. , -0.2],\n",
       "       [ 0.2,  0. ,  0.4,  0.3],\n",
       "       [ 0.3,  0.3,  0.8,  0.6],\n",
       "       [ 0.5,  0.2, -0.3,  0.2],\n",
       "       [ 1.1,  0.8,  1.4,  1.3],\n",
       "       [-0.4,  0.1, -0.5,  0.1],\n",
       "       [ 1.5,  0.2,  1.9,  0.9],\n",
       "       [-0.5,  0.2, -0.2,  0.3],\n",
       "       [-1. ,  0.7, -3.3, -1. ],\n",
       "       [ 1.6,  0. ,  2. ,  0.8],\n",
       "       [-0.3, -0.1, -0.6, -0.2],\n",
       "       [-0.9,  0.6, -3.3, -1. ],\n",
       "       [-1.1,  0.7, -3.4, -0.9],\n",
       "       [-1. ,  1. , -2.8, -0.8],\n",
       "       [-1.1, -0.8, -1.2, -0.2],\n",
       "       [ 0.2, -0.1,  0.2,  0.6],\n",
       "       [-1.3,  0.6, -2.8, -1. ],\n",
       "       [-1.1,  0.2, -3.1, -1. ],\n",
       "       [-1. ,  0.5, -3. , -0.7],\n",
       "       [-0.5, -0.1, -0.5,  0.1],\n",
       "       [-1. ,  0.6, -3.2, -1. ],\n",
       "       [-0.4,  0.2, -0.5,  0. ],\n",
       "       [ 1.6,  1. ,  2. ,  1. ],\n",
       "       [-1.5,  0.4, -3.3, -1. ],\n",
       "       [ 0.1,  0.1, -0.4,  0.1],\n",
       "       [-0.4, -0.3,  0.3,  0.8],\n",
       "       [-0.6,  1.4, -3.3, -1. ],\n",
       "       [-0.1,  0.2,  0.1,  0.6],\n",
       "       [-0.3, -0.1,  0.4,  0.7],\n",
       "       [-0.1, -0.6, -0.7, -0.2],\n",
       "       [-0.7,  0.2, -0.2,  0.3],\n",
       "       [ 0.1,  0.6,  0.7,  1.1],\n",
       "       [-0.6, -0.5, -0.7,  0.1],\n",
       "       [-0.7,  1.1, -3. , -0.8],\n",
       "       [-1.1, -0.5, -1.4, -0.2],\n",
       "       [ 0.3, -0.1,  0.6,  0.7],\n",
       "       [-1.1,  0.5, -3.3, -1. ],\n",
       "       [-1.1,  0.4, -3.5, -1. ],\n",
       "       [-0.6, -0.4, -0.9, -0.1],\n",
       "       [ 0.6,  0.2,  0.3,  0.5],\n",
       "       [-1.2,  0.3, -3.2, -1. ],\n",
       "       [-0.3,  0. ,  0.4,  1.2],\n",
       "       [-1.1,  0.6, -3.2, -1. ],\n",
       "       [-1.1,  0.7, -3.1, -0.6],\n",
       "       [-0.2,  0.4,  0.1,  0.6],\n",
       "       [-1. , -0.3, -1.7, -0.1],\n",
       "       [ 0.8,  0.4,  1. ,  1.1],\n",
       "       [-0.1, -0.1,  0.4,  0.4],\n",
       "       [ 0. , -0.2,  0.9,  0.2],\n",
       "       [ 1.6,  0.2,  1.4,  1.1],\n",
       "       [-0.6, -0.3, -0.7,  0.1],\n",
       "       [-1.7,  0.1, -3.3, -1. ],\n",
       "       [-1.8,  0.2, -3.6, -1.1],\n",
       "       [-0.1, -0.6,  0.3,  0.3],\n",
       "       [ 1.1,  0.4,  1.3,  0.6],\n",
       "       [-1.5,  0.3, -3.2, -1. ],\n",
       "       [-1. ,  0.7, -3.3, -0.9],\n",
       "       [-1.7,  0.2, -3.4, -1. ],\n",
       "       [ 0.2, -0.3,  0.2,  0.3],\n",
       "       [ 0.2,  0.6,  0.9,  1.2],\n",
       "       [-1.5,  0.6, -3.3, -0.9],\n",
       "       [ 0.7,  0.2,  0.8,  0.9],\n",
       "       [ 0.2,  0.5,  1.3,  1.3],\n",
       "       [-1.4,  0.4, -3.4, -1. ],\n",
       "       [ 0. ,  0.1,  0. ,  0.2],\n",
       "       [ 0.4,  0. , -0.1,  0.3],\n",
       "       [ 0.1,  0. ,  0.1,  0.6],\n",
       "       [ 0.9,  0.4,  0. ,  0.2],\n",
       "       [ 0.3,  0.4,  0.6,  1.1],\n",
       "       [-1. ,  1. , -3.1, -1. ],\n",
       "       [ 0.8,  0.3,  0.7,  0.9],\n",
       "       [-0.2,  0.2, -0.5,  0.3],\n",
       "       [ 0.4,  0.2,  0.5,  0.8],\n",
       "       [-0.4, -0.2, -1.2, -0.2],\n",
       "       [-0.9, -0.1, -0.8,  0.2],\n",
       "       [ 0. ,  0.2, -0.1,  0.2],\n",
       "       [-1.6, -0.5, -3.4, -0.9],\n",
       "       [ 0.5,  0.1, -0.1,  0.1],\n",
       "       [-0.6, -0.2, -0.3,  0. ],\n",
       "       [-0.8,  0.9, -3.2, -1. ],\n",
       "       [-0.5,  0.2, -0.6,  0.1],\n",
       "       [ 1.2,  0.1,  1.6,  0.6],\n",
       "       [ 0.6,  0.5,  1. ,  0.9],\n",
       "       [-1. ,  0.9, -3.2, -0.8],\n",
       "       [-1.2, -0.4, -1.4, -0.2],\n",
       "       [ 0.6,  0.5,  1. ,  1.3],\n",
       "       [ 1.1,  0.2,  1.1,  0.4],\n",
       "       [-1.2,  0.8, -3.3, -1.1],\n",
       "       [ 0.6,  0.3,  0.9,  1.2],\n",
       "       [-1.2,  0.2, -3.3, -1. ],\n",
       "       [ 0.8,  0.3,  0.2,  0.3],\n",
       "       [ 1.3,  0. ,  1.4,  0.7],\n",
       "       [ 0.2,  0.1,  0.9,  0.6],\n",
       "       [-0.4,  0. , -0.6,  0.1],\n",
       "       [ 0.4,  0.2,  0.8,  0.6],\n",
       "       [ 0.2, -0.5, -0.3,  0.1],\n",
       "       [ 0.3,  0.1, -0.4,  0.1],\n",
       "       [-0.5,  0. ,  0.2,  0.8],\n",
       "       [-0.2,  0.2,  0.4,  0.6],\n",
       "       [-0.7,  0.6, -3. , -1. ],\n",
       "       [ 0. ,  0. , -0.7,  0.1],\n",
       "       [-1.2, -0.3, -0.2,  0.5],\n",
       "       [-0.3,  1.2, -3.5, -1. ],\n",
       "       [-0.3, -0.2, -0.7,  0. ],\n",
       "       [ 1. ,  0.2,  1.2,  0.9]])"
      ]
     },
     "execution_count": 14,
     "metadata": {},
     "output_type": "execute_result"
    }
   ],
   "source": [
    "(X_train - one_sample)"
   ]
  },
  {
   "cell_type": "code",
   "execution_count": 15,
   "metadata": {
    "collapsed": true
   },
   "outputs": [
    {
     "data": {
      "text/plain": [
       "array([[4.19285106],\n",
       "       [3.68781778],\n",
       "       [0.76157731],\n",
       "       [3.55808937],\n",
       "       [3.95094925],\n",
       "       [0.84261498],\n",
       "       [0.6164414 ],\n",
       "       [3.54118624],\n",
       "       [3.7067506 ],\n",
       "       [3.73496988],\n",
       "       [0.8660254 ],\n",
       "       [0.75498344],\n",
       "       [0.73484692],\n",
       "       [3.72827038],\n",
       "       [3.54118624],\n",
       "       [1.2489996 ],\n",
       "       [0.53851648],\n",
       "       [1.08627805],\n",
       "       [0.64807407],\n",
       "       [2.34520788],\n",
       "       [0.65574385],\n",
       "       [2.59036677],\n",
       "       [0.64807407],\n",
       "       [3.65786823],\n",
       "       [2.68328157],\n",
       "       [0.70710678],\n",
       "       [3.6138622 ],\n",
       "       [3.75099987],\n",
       "       [3.23728281],\n",
       "       [1.82482876],\n",
       "       [0.67082039],\n",
       "       [3.3       ],\n",
       "       [3.44383507],\n",
       "       [3.27719392],\n",
       "       [0.72111026],\n",
       "       [3.54964787],\n",
       "       [0.67082039],\n",
       "       [2.92574777],\n",
       "       [3.78153408],\n",
       "       [0.43588989],\n",
       "       [0.98994949],\n",
       "       [3.76961536],\n",
       "       [0.64807407],\n",
       "       [0.8660254 ],\n",
       "       [0.9486833 ],\n",
       "       [0.81240384],\n",
       "       [1.43874946],\n",
       "       [1.05356538],\n",
       "       [3.36749165],\n",
       "       [1.86010752],\n",
       "       [0.97467943],\n",
       "       [3.65376518],\n",
       "       [3.82361086],\n",
       "       [1.15758369],\n",
       "       [0.86023253],\n",
       "       [3.57351368],\n",
       "       [1.3       ],\n",
       "       [3.57910603],\n",
       "       [3.41613817],\n",
       "       [0.75498344],\n",
       "       [1.99749844],\n",
       "       [1.73493516],\n",
       "       [0.58309519],\n",
       "       [0.94339811],\n",
       "       [2.40208243],\n",
       "       [0.97467943],\n",
       "       [3.8457769 ],\n",
       "       [4.17731971],\n",
       "       [0.74161985],\n",
       "       [1.8493242 ],\n",
       "       [3.68510515],\n",
       "       [3.63180396],\n",
       "       [3.93573373],\n",
       "       [0.50990195],\n",
       "       [1.62788206],\n",
       "       [3.78285606],\n",
       "       [1.40712473],\n",
       "       [1.91572441],\n",
       "       [3.83144881],\n",
       "       [0.2236068 ],\n",
       "       [0.50990195],\n",
       "       [0.6164414 ],\n",
       "       [1.00498756],\n",
       "       [1.34907376],\n",
       "       [3.55105618],\n",
       "       [1.42478068],\n",
       "       [0.64807407],\n",
       "       [1.04403065],\n",
       "       [1.29614814],\n",
       "       [1.22474487],\n",
       "       [0.3       ],\n",
       "       [3.89615195],\n",
       "       [0.52915026],\n",
       "       [0.7       ],\n",
       "       [3.56230263],\n",
       "       [0.81240384],\n",
       "       [2.0904545 ],\n",
       "       [1.55563492],\n",
       "       [3.56230263],\n",
       "       [1.8973666 ],\n",
       "       [1.81659021],\n",
       "       [1.61864141],\n",
       "       [3.76563408],\n",
       "       [1.64316767],\n",
       "       [3.65650106],\n",
       "       [0.92736185],\n",
       "       [2.03469899],\n",
       "       [1.1045361 ],\n",
       "       [0.72801099],\n",
       "       [1.09544512],\n",
       "       [0.6244998 ],\n",
       "       [0.51961524],\n",
       "       [0.96436508],\n",
       "       [0.77459667],\n",
       "       [3.29393382],\n",
       "       [0.70710678],\n",
       "       [1.34907376],\n",
       "       [3.84447656],\n",
       "       [0.78740079],\n",
       "       [1.81383571]])"
      ]
     },
     "execution_count": 15,
     "metadata": {},
     "output_type": "execute_result"
    }
   ],
   "source": [
    "np.linalg.norm(X_train - one_sample, axis=1).reshape(-1, 1)"
   ]
  },
  {
   "cell_type": "code",
   "execution_count": 16,
   "metadata": {
    "collapsed": true
   },
   "outputs": [
    {
     "data": {
      "text/plain": [
       "array([[0],\n",
       "       [0],\n",
       "       [1],\n",
       "       [0],\n",
       "       [0],\n",
       "       [2],\n",
       "       [1],\n",
       "       [0],\n",
       "       [0],\n",
       "       [0],\n",
       "       [2],\n",
       "       [1],\n",
       "       [1],\n",
       "       [0],\n",
       "       [0],\n",
       "       [1],\n",
       "       [2],\n",
       "       [2],\n",
       "       [1],\n",
       "       [2],\n",
       "       [1],\n",
       "       [2],\n",
       "       [1],\n",
       "       [0],\n",
       "       [2],\n",
       "       [1],\n",
       "       [0],\n",
       "       [0],\n",
       "       [0],\n",
       "       [1],\n",
       "       [2],\n",
       "       [0],\n",
       "       [0],\n",
       "       [0],\n",
       "       [1],\n",
       "       [0],\n",
       "       [1],\n",
       "       [2],\n",
       "       [0],\n",
       "       [1],\n",
       "       [2],\n",
       "       [0],\n",
       "       [2],\n",
       "       [2],\n",
       "       [1],\n",
       "       [1],\n",
       "       [2],\n",
       "       [1],\n",
       "       [0],\n",
       "       [1],\n",
       "       [2],\n",
       "       [0],\n",
       "       [0],\n",
       "       [1],\n",
       "       [1],\n",
       "       [0],\n",
       "       [2],\n",
       "       [0],\n",
       "       [0],\n",
       "       [1],\n",
       "       [1],\n",
       "       [2],\n",
       "       [1],\n",
       "       [2],\n",
       "       [2],\n",
       "       [1],\n",
       "       [0],\n",
       "       [0],\n",
       "       [2],\n",
       "       [2],\n",
       "       [0],\n",
       "       [0],\n",
       "       [0],\n",
       "       [1],\n",
       "       [2],\n",
       "       [0],\n",
       "       [2],\n",
       "       [2],\n",
       "       [0],\n",
       "       [1],\n",
       "       [1],\n",
       "       [2],\n",
       "       [1],\n",
       "       [2],\n",
       "       [0],\n",
       "       [2],\n",
       "       [1],\n",
       "       [2],\n",
       "       [1],\n",
       "       [1],\n",
       "       [1],\n",
       "       [0],\n",
       "       [1],\n",
       "       [1],\n",
       "       [0],\n",
       "       [1],\n",
       "       [2],\n",
       "       [2],\n",
       "       [0],\n",
       "       [1],\n",
       "       [2],\n",
       "       [2],\n",
       "       [0],\n",
       "       [2],\n",
       "       [0],\n",
       "       [1],\n",
       "       [2],\n",
       "       [2],\n",
       "       [1],\n",
       "       [2],\n",
       "       [1],\n",
       "       [1],\n",
       "       [2],\n",
       "       [2],\n",
       "       [0],\n",
       "       [1],\n",
       "       [2],\n",
       "       [0],\n",
       "       [1],\n",
       "       [2]])"
      ]
     },
     "execution_count": 16,
     "metadata": {},
     "output_type": "execute_result"
    }
   ],
   "source": [
    "y_train.reshape(-1, 1)"
   ]
  },
  {
   "cell_type": "code",
   "execution_count": 17,
   "metadata": {
    "collapsed": true
   },
   "outputs": [
    {
     "data": {
      "text/plain": [
       "array([[4.19285106, 0.        ],\n",
       "       [3.68781778, 0.        ],\n",
       "       [0.76157731, 1.        ],\n",
       "       [3.55808937, 0.        ],\n",
       "       [3.95094925, 0.        ],\n",
       "       [0.84261498, 2.        ],\n",
       "       [0.6164414 , 1.        ],\n",
       "       [3.54118624, 0.        ],\n",
       "       [3.7067506 , 0.        ],\n",
       "       [3.73496988, 0.        ],\n",
       "       [0.8660254 , 2.        ],\n",
       "       [0.75498344, 1.        ],\n",
       "       [0.73484692, 1.        ],\n",
       "       [3.72827038, 0.        ],\n",
       "       [3.54118624, 0.        ],\n",
       "       [1.2489996 , 1.        ],\n",
       "       [0.53851648, 2.        ],\n",
       "       [1.08627805, 2.        ],\n",
       "       [0.64807407, 1.        ],\n",
       "       [2.34520788, 2.        ],\n",
       "       [0.65574385, 1.        ],\n",
       "       [2.59036677, 2.        ],\n",
       "       [0.64807407, 1.        ],\n",
       "       [3.65786823, 0.        ],\n",
       "       [2.68328157, 2.        ],\n",
       "       [0.70710678, 1.        ],\n",
       "       [3.6138622 , 0.        ],\n",
       "       [3.75099987, 0.        ],\n",
       "       [3.23728281, 0.        ],\n",
       "       [1.82482876, 1.        ],\n",
       "       [0.67082039, 2.        ],\n",
       "       [3.3       , 0.        ],\n",
       "       [3.44383507, 0.        ],\n",
       "       [3.27719392, 0.        ],\n",
       "       [0.72111026, 1.        ],\n",
       "       [3.54964787, 0.        ],\n",
       "       [0.67082039, 1.        ],\n",
       "       [2.92574777, 2.        ],\n",
       "       [3.78153408, 0.        ],\n",
       "       [0.43588989, 1.        ],\n",
       "       [0.98994949, 2.        ],\n",
       "       [3.76961536, 0.        ],\n",
       "       [0.64807407, 2.        ],\n",
       "       [0.8660254 , 2.        ],\n",
       "       [0.9486833 , 1.        ],\n",
       "       [0.81240384, 1.        ],\n",
       "       [1.43874946, 2.        ],\n",
       "       [1.05356538, 1.        ],\n",
       "       [3.36749165, 0.        ],\n",
       "       [1.86010752, 1.        ],\n",
       "       [0.97467943, 2.        ],\n",
       "       [3.65376518, 0.        ],\n",
       "       [3.82361086, 0.        ],\n",
       "       [1.15758369, 1.        ],\n",
       "       [0.86023253, 1.        ],\n",
       "       [3.57351368, 0.        ],\n",
       "       [1.3       , 2.        ],\n",
       "       [3.57910603, 0.        ],\n",
       "       [3.41613817, 0.        ],\n",
       "       [0.75498344, 1.        ],\n",
       "       [1.99749844, 1.        ],\n",
       "       [1.73493516, 2.        ],\n",
       "       [0.58309519, 1.        ],\n",
       "       [0.94339811, 2.        ],\n",
       "       [2.40208243, 2.        ],\n",
       "       [0.97467943, 1.        ],\n",
       "       [3.8457769 , 0.        ],\n",
       "       [4.17731971, 0.        ],\n",
       "       [0.74161985, 2.        ],\n",
       "       [1.8493242 , 2.        ],\n",
       "       [3.68510515, 0.        ],\n",
       "       [3.63180396, 0.        ],\n",
       "       [3.93573373, 0.        ],\n",
       "       [0.50990195, 1.        ],\n",
       "       [1.62788206, 2.        ],\n",
       "       [3.78285606, 0.        ],\n",
       "       [1.40712473, 2.        ],\n",
       "       [1.91572441, 2.        ],\n",
       "       [3.83144881, 0.        ],\n",
       "       [0.2236068 , 1.        ],\n",
       "       [0.50990195, 1.        ],\n",
       "       [0.6164414 , 2.        ],\n",
       "       [1.00498756, 1.        ],\n",
       "       [1.34907376, 2.        ],\n",
       "       [3.55105618, 0.        ],\n",
       "       [1.42478068, 2.        ],\n",
       "       [0.64807407, 1.        ],\n",
       "       [1.04403065, 2.        ],\n",
       "       [1.29614814, 1.        ],\n",
       "       [1.22474487, 1.        ],\n",
       "       [0.3       , 1.        ],\n",
       "       [3.89615195, 0.        ],\n",
       "       [0.52915026, 1.        ],\n",
       "       [0.7       , 1.        ],\n",
       "       [3.56230263, 0.        ],\n",
       "       [0.81240384, 1.        ],\n",
       "       [2.0904545 , 2.        ],\n",
       "       [1.55563492, 2.        ],\n",
       "       [3.56230263, 0.        ],\n",
       "       [1.8973666 , 1.        ],\n",
       "       [1.81659021, 2.        ],\n",
       "       [1.61864141, 2.        ],\n",
       "       [3.76563408, 0.        ],\n",
       "       [1.64316767, 2.        ],\n",
       "       [3.65650106, 0.        ],\n",
       "       [0.92736185, 1.        ],\n",
       "       [2.03469899, 2.        ],\n",
       "       [1.1045361 , 2.        ],\n",
       "       [0.72801099, 1.        ],\n",
       "       [1.09544512, 2.        ],\n",
       "       [0.6244998 , 1.        ],\n",
       "       [0.51961524, 1.        ],\n",
       "       [0.96436508, 2.        ],\n",
       "       [0.77459667, 2.        ],\n",
       "       [3.29393382, 0.        ],\n",
       "       [0.70710678, 1.        ],\n",
       "       [1.34907376, 2.        ],\n",
       "       [3.84447656, 0.        ],\n",
       "       [0.78740079, 1.        ],\n",
       "       [1.81383571, 2.        ]])"
      ]
     },
     "execution_count": 17,
     "metadata": {},
     "output_type": "execute_result"
    }
   ],
   "source": [
    "np.concatenate([np.linalg.norm(X_train - one_sample, axis=1).reshape(-1, 1),\n",
    "                y_train.reshape(-1, 1)], axis=1)"
   ]
  },
  {
   "cell_type": "code",
   "execution_count": 18,
   "metadata": {
    "collapsed": true
   },
   "outputs": [
    {
     "name": "stdout",
     "output_type": "stream",
     "text": [
      "[[4.19285106 0.        ]\n",
      " [3.68781778 0.        ]\n",
      " [0.76157731 1.        ]\n",
      " [3.55808937 0.        ]\n",
      " [3.95094925 0.        ]\n",
      " [0.84261498 2.        ]\n",
      " [0.6164414  1.        ]\n",
      " [3.54118624 0.        ]\n",
      " [3.7067506  0.        ]\n",
      " [3.73496988 0.        ]\n",
      " [0.8660254  2.        ]\n",
      " [0.75498344 1.        ]\n",
      " [0.73484692 1.        ]\n",
      " [3.72827038 0.        ]\n",
      " [3.54118624 0.        ]\n",
      " [1.2489996  1.        ]\n",
      " [0.53851648 2.        ]\n",
      " [1.08627805 2.        ]\n",
      " [0.64807407 1.        ]\n",
      " [2.34520788 2.        ]\n",
      " [0.65574385 1.        ]\n",
      " [2.59036677 2.        ]\n",
      " [0.64807407 1.        ]\n",
      " [3.65786823 0.        ]\n",
      " [2.68328157 2.        ]\n",
      " [0.70710678 1.        ]\n",
      " [3.6138622  0.        ]\n",
      " [3.75099987 0.        ]\n",
      " [3.23728281 0.        ]\n",
      " [1.82482876 1.        ]\n",
      " [0.67082039 2.        ]\n",
      " [3.3        0.        ]\n",
      " [3.44383507 0.        ]\n",
      " [3.27719392 0.        ]\n",
      " [0.72111026 1.        ]\n",
      " [3.54964787 0.        ]\n",
      " [0.67082039 1.        ]\n",
      " [2.92574777 2.        ]\n",
      " [3.78153408 0.        ]\n",
      " [0.43588989 1.        ]\n",
      " [0.98994949 2.        ]\n",
      " [3.76961536 0.        ]\n",
      " [0.64807407 2.        ]\n",
      " [0.8660254  2.        ]\n",
      " [0.9486833  1.        ]\n",
      " [0.81240384 1.        ]\n",
      " [1.43874946 2.        ]\n",
      " [1.05356538 1.        ]\n",
      " [3.36749165 0.        ]\n",
      " [1.86010752 1.        ]\n",
      " [0.97467943 2.        ]\n",
      " [3.65376518 0.        ]\n",
      " [3.82361086 0.        ]\n",
      " [1.15758369 1.        ]\n",
      " [0.86023253 1.        ]\n",
      " [3.57351368 0.        ]\n",
      " [1.3        2.        ]\n",
      " [3.57910603 0.        ]\n",
      " [3.41613817 0.        ]\n",
      " [0.75498344 1.        ]\n",
      " [1.99749844 1.        ]\n",
      " [1.73493516 2.        ]\n",
      " [0.58309519 1.        ]\n",
      " [0.94339811 2.        ]\n",
      " [2.40208243 2.        ]\n",
      " [0.97467943 1.        ]\n",
      " [3.8457769  0.        ]\n",
      " [4.17731971 0.        ]\n",
      " [0.74161985 2.        ]\n",
      " [1.8493242  2.        ]\n",
      " [3.68510515 0.        ]\n",
      " [3.63180396 0.        ]\n",
      " [3.93573373 0.        ]\n",
      " [0.50990195 1.        ]\n",
      " [1.62788206 2.        ]\n",
      " [3.78285606 0.        ]\n",
      " [1.40712473 2.        ]\n",
      " [1.91572441 2.        ]\n",
      " [3.83144881 0.        ]\n",
      " [0.2236068  1.        ]\n",
      " [0.50990195 1.        ]\n",
      " [0.6164414  2.        ]\n",
      " [1.00498756 1.        ]\n",
      " [1.34907376 2.        ]\n",
      " [3.55105618 0.        ]\n",
      " [1.42478068 2.        ]\n",
      " [0.64807407 1.        ]\n",
      " [1.04403065 2.        ]\n",
      " [1.29614814 1.        ]\n",
      " [1.22474487 1.        ]\n",
      " [0.3        1.        ]\n",
      " [3.89615195 0.        ]\n",
      " [0.52915026 1.        ]\n",
      " [0.7        1.        ]\n",
      " [3.56230263 0.        ]\n",
      " [0.81240384 1.        ]\n",
      " [2.0904545  2.        ]\n",
      " [1.55563492 2.        ]\n",
      " [3.56230263 0.        ]\n",
      " [1.8973666  1.        ]\n",
      " [1.81659021 2.        ]\n",
      " [1.61864141 2.        ]\n",
      " [3.76563408 0.        ]\n",
      " [1.64316767 2.        ]\n",
      " [3.65650106 0.        ]\n",
      " [0.92736185 1.        ]\n",
      " [2.03469899 2.        ]\n",
      " [1.1045361  2.        ]\n",
      " [0.72801099 1.        ]\n",
      " [1.09544512 2.        ]\n",
      " [0.6244998  1.        ]\n",
      " [0.51961524 1.        ]\n",
      " [0.96436508 2.        ]\n",
      " [0.77459667 2.        ]\n",
      " [3.29393382 0.        ]\n",
      " [0.70710678 1.        ]\n",
      " [1.34907376 2.        ]\n",
      " [3.84447656 0.        ]\n",
      " [0.78740079 1.        ]\n",
      " [1.81383571 2.        ]]\n"
     ]
    }
   ],
   "source": [
    "distance_label = np.concatenate(\n",
    "    [np.linalg.norm(X_train - one_sample, axis=1).reshape(-1, 1), y_train.reshape(-1, 1)], axis=1)\n",
    "print(distance_label)"
   ]
  },
  {
   "cell_type": "code",
   "execution_count": 19,
   "metadata": {
    "collapsed": true
   },
   "outputs": [
    {
     "data": {
      "text/plain": [
       "array([[4.19285106, 0.        ],\n",
       "       [4.17731971, 0.        ],\n",
       "       [3.95094925, 0.        ]])"
      ]
     },
     "execution_count": 19,
     "metadata": {},
     "output_type": "execute_result"
    }
   ],
   "source": [
    "distance_label[distance_label[:, 0].argsort()][::-1][:3]"
   ]
  },
  {
   "cell_type": "code",
   "execution_count": 20,
   "metadata": {
    "collapsed": true
   },
   "outputs": [
    {
     "ename": "AttributeError",
     "evalue": "'numpy.ndarray' object has no attribute 'asint'",
     "output_type": "error",
     "traceback": [
      "\u001b[0;31m---------------------------------------------------------------------------\u001b[0m",
      "\u001b[0;31mAttributeError\u001b[0m                            Traceback (most recent call last)",
      "\u001b[0;32m<ipython-input-20-de899cd07340>\u001b[0m in \u001b[0;36m<module>\u001b[0;34m\u001b[0m\n\u001b[1;32m      1\u001b[0m \u001b[0mtop_3\u001b[0m \u001b[0;34m=\u001b[0m \u001b[0mdistance_label\u001b[0m\u001b[0;34m[\u001b[0m\u001b[0mdistance_label\u001b[0m\u001b[0;34m[\u001b[0m\u001b[0;34m:\u001b[0m\u001b[0;34m,\u001b[0m \u001b[0;36m0\u001b[0m\u001b[0;34m]\u001b[0m\u001b[0;34m.\u001b[0m\u001b[0margsort\u001b[0m\u001b[0;34m(\u001b[0m\u001b[0;34m)\u001b[0m\u001b[0;34m]\u001b[0m\u001b[0;34m[\u001b[0m\u001b[0;34m:\u001b[0m\u001b[0;34m:\u001b[0m\u001b[0;34m-\u001b[0m\u001b[0;36m1\u001b[0m\u001b[0;34m]\u001b[0m\u001b[0;34m[\u001b[0m\u001b[0;34m:\u001b[0m\u001b[0;36m3\u001b[0m\u001b[0;34m]\u001b[0m\u001b[0;34m\u001b[0m\u001b[0;34m\u001b[0m\u001b[0m\n\u001b[0;32m----> 2\u001b[0;31m \u001b[0mnp\u001b[0m\u001b[0;34m.\u001b[0m\u001b[0mbincount\u001b[0m\u001b[0;34m(\u001b[0m\u001b[0mtop_3\u001b[0m\u001b[0;34m[\u001b[0m\u001b[0;34m:\u001b[0m\u001b[0;34m,\u001b[0m \u001b[0;36m1\u001b[0m\u001b[0;34m]\u001b[0m\u001b[0;34m.\u001b[0m\u001b[0masint\u001b[0m\u001b[0;34m(\u001b[0m\u001b[0;34m)\u001b[0m\u001b[0;34m)\u001b[0m\u001b[0;34m\u001b[0m\u001b[0;34m\u001b[0m\u001b[0m\n\u001b[0m",
      "\u001b[0;31mAttributeError\u001b[0m: 'numpy.ndarray' object has no attribute 'asint'"
     ]
    }
   ],
   "source": [
    "top_3 = distance_label[distance_label[:, 0].argsort()][::-1][:3]\n",
    "np.bincount(top_3[:, 1].asint())"
   ]
  },
  {
   "cell_type": "code",
   "execution_count": 21,
   "metadata": {},
   "outputs": [
    {
     "data": {
      "text/plain": [
       "array([3])"
      ]
     },
     "execution_count": 21,
     "metadata": {},
     "output_type": "execute_result"
    }
   ],
   "source": [
    "np.bincount(top_3[:, 1].astype(int))"
   ]
  },
  {
   "cell_type": "code",
   "execution_count": 22,
   "metadata": {},
   "outputs": [
    {
     "data": {
      "text/plain": [
       "array([2, 1, 0, 1])"
      ]
     },
     "execution_count": 22,
     "metadata": {},
     "output_type": "execute_result"
    }
   ],
   "source": [
    "a = np.array([0,0,1,3])\n",
    "np.bincount(a.astype(int))"
   ]
  },
  {
   "cell_type": "code",
   "execution_count": 23,
   "metadata": {},
   "outputs": [
    {
     "data": {
      "text/plain": [
       "0"
      ]
     },
     "execution_count": 23,
     "metadata": {},
     "output_type": "execute_result"
    }
   ],
   "source": [
    "np.bincount(a.astype(int)).argmax()"
   ]
  },
  {
   "cell_type": "code",
   "execution_count": 24,
   "metadata": {},
   "outputs": [
    {
     "data": {
      "text/plain": [
       "4.192851058647326"
      ]
     },
     "execution_count": 24,
     "metadata": {},
     "output_type": "execute_result"
    }
   ],
   "source": [
    "(np.linalg.norm(X_train - one_sample, axis=1)).max()"
   ]
  },
  {
   "cell_type": "code",
   "execution_count": 25,
   "metadata": {
    "collapsed": true
   },
   "outputs": [
    {
     "data": {
      "text/plain": [
       "array([[4.6, 3.6, 1. , 0.2],\n",
       "       [5.7, 4.4, 1.5, 0.4],\n",
       "       [6.7, 3.1, 4.4, 1.4],\n",
       "       [4.8, 3.4, 1.6, 0.2],\n",
       "       [4.4, 3.2, 1.3, 0.2],\n",
       "       [6.3, 2.5, 5. , 1.9],\n",
       "       [6.4, 3.2, 4.5, 1.5],\n",
       "       [5.2, 3.5, 1.5, 0.2],\n",
       "       [5. , 3.6, 1.4, 0.2],\n",
       "       [5.2, 4.1, 1.5, 0.1],\n",
       "       [5.8, 2.7, 5.1, 1.9],\n",
       "       [6. , 3.4, 4.5, 1.6],\n",
       "       [6.7, 3.1, 4.7, 1.5],\n",
       "       [5.4, 3.9, 1.3, 0.4],\n",
       "       [5.4, 3.7, 1.5, 0.2],\n",
       "       [5.5, 2.4, 3.7, 1. ],\n",
       "       [6.3, 2.8, 5.1, 1.5],\n",
       "       [6.4, 3.1, 5.5, 1.8],\n",
       "       [6.6, 3. , 4.4, 1.4],\n",
       "       [7.2, 3.6, 6.1, 2.5],\n",
       "       [5.7, 2.9, 4.2, 1.3],\n",
       "       [7.6, 3. , 6.6, 2.1],\n",
       "       [5.6, 3. , 4.5, 1.5],\n",
       "       [5.1, 3.5, 1.4, 0.2],\n",
       "       [7.7, 2.8, 6.7, 2. ],\n",
       "       [5.8, 2.7, 4.1, 1. ],\n",
       "       [5.2, 3.4, 1.4, 0.2],\n",
       "       [5. , 3.5, 1.3, 0.3],\n",
       "       [5.1, 3.8, 1.9, 0.4],\n",
       "       [5. , 2. , 3.5, 1. ],\n",
       "       [6.3, 2.7, 4.9, 1.8],\n",
       "       [4.8, 3.4, 1.9, 0.2],\n",
       "       [5. , 3. , 1.6, 0.2],\n",
       "       [5.1, 3.3, 1.7, 0.5],\n",
       "       [5.6, 2.7, 4.2, 1.3],\n",
       "       [5.1, 3.4, 1.5, 0.2],\n",
       "       [5.7, 3. , 4.2, 1.2],\n",
       "       [7.7, 3.8, 6.7, 2.2],\n",
       "       [4.6, 3.2, 1.4, 0.2],\n",
       "       [6.2, 2.9, 4.3, 1.3],\n",
       "       [5.7, 2.5, 5. , 2. ],\n",
       "       [5.5, 4.2, 1.4, 0.2],\n",
       "       [6. , 3. , 4.8, 1.8],\n",
       "       [5.8, 2.7, 5.1, 1.9],\n",
       "       [6. , 2.2, 4. , 1. ],\n",
       "       [5.4, 3. , 4.5, 1.5],\n",
       "       [6.2, 3.4, 5.4, 2.3],\n",
       "       [5.5, 2.3, 4. , 1.3],\n",
       "       [5.4, 3.9, 1.7, 0.4],\n",
       "       [5. , 2.3, 3.3, 1. ],\n",
       "       [6.4, 2.7, 5.3, 1.9],\n",
       "       [5. , 3.3, 1.4, 0.2],\n",
       "       [5. , 3.2, 1.2, 0.2],\n",
       "       [5.5, 2.4, 3.8, 1.1],\n",
       "       [6.7, 3. , 5. , 1.7],\n",
       "       [4.9, 3.1, 1.5, 0.2],\n",
       "       [5.8, 2.8, 5.1, 2.4],\n",
       "       [5. , 3.4, 1.5, 0.2],\n",
       "       [5. , 3.5, 1.6, 0.6],\n",
       "       [5.9, 3.2, 4.8, 1.8],\n",
       "       [5.1, 2.5, 3. , 1.1],\n",
       "       [6.9, 3.2, 5.7, 2.3],\n",
       "       [6. , 2.7, 5.1, 1.6],\n",
       "       [6.1, 2.6, 5.6, 1.4],\n",
       "       [7.7, 3. , 6.1, 2.3],\n",
       "       [5.5, 2.5, 4. , 1.3],\n",
       "       [4.4, 2.9, 1.4, 0.2],\n",
       "       [4.3, 3. , 1.1, 0.1],\n",
       "       [6. , 2.2, 5. , 1.5],\n",
       "       [7.2, 3.2, 6. , 1.8],\n",
       "       [4.6, 3.1, 1.5, 0.2],\n",
       "       [5.1, 3.5, 1.4, 0.3],\n",
       "       [4.4, 3. , 1.3, 0.2],\n",
       "       [6.3, 2.5, 4.9, 1.5],\n",
       "       [6.3, 3.4, 5.6, 2.4],\n",
       "       [4.6, 3.4, 1.4, 0.3],\n",
       "       [6.8, 3. , 5.5, 2.1],\n",
       "       [6.3, 3.3, 6. , 2.5],\n",
       "       [4.7, 3.2, 1.3, 0.2],\n",
       "       [6.1, 2.9, 4.7, 1.4],\n",
       "       [6.5, 2.8, 4.6, 1.5],\n",
       "       [6.2, 2.8, 4.8, 1.8],\n",
       "       [7. , 3.2, 4.7, 1.4],\n",
       "       [6.4, 3.2, 5.3, 2.3],\n",
       "       [5.1, 3.8, 1.6, 0.2],\n",
       "       [6.9, 3.1, 5.4, 2.1],\n",
       "       [5.9, 3. , 4.2, 1.5],\n",
       "       [6.5, 3. , 5.2, 2. ],\n",
       "       [5.7, 2.6, 3.5, 1. ],\n",
       "       [5.2, 2.7, 3.9, 1.4],\n",
       "       [6.1, 3. , 4.6, 1.4],\n",
       "       [4.5, 2.3, 1.3, 0.3],\n",
       "       [6.6, 2.9, 4.6, 1.3],\n",
       "       [5.5, 2.6, 4.4, 1.2],\n",
       "       [5.3, 3.7, 1.5, 0.2],\n",
       "       [5.6, 3. , 4.1, 1.3],\n",
       "       [7.3, 2.9, 6.3, 1.8],\n",
       "       [6.7, 3.3, 5.7, 2.1],\n",
       "       [5.1, 3.7, 1.5, 0.4],\n",
       "       [4.9, 2.4, 3.3, 1. ],\n",
       "       [6.7, 3.3, 5.7, 2.5],\n",
       "       [7.2, 3. , 5.8, 1.6],\n",
       "       [4.9, 3.6, 1.4, 0.1],\n",
       "       [6.7, 3.1, 5.6, 2.4],\n",
       "       [4.9, 3. , 1.4, 0.2],\n",
       "       [6.9, 3.1, 4.9, 1.5],\n",
       "       [7.4, 2.8, 6.1, 1.9],\n",
       "       [6.3, 2.9, 5.6, 1.8],\n",
       "       [5.7, 2.8, 4.1, 1.3],\n",
       "       [6.5, 3. , 5.5, 1.8],\n",
       "       [6.3, 2.3, 4.4, 1.3],\n",
       "       [6.4, 2.9, 4.3, 1.3],\n",
       "       [5.6, 2.8, 4.9, 2. ],\n",
       "       [5.9, 3. , 5.1, 1.8],\n",
       "       [5.4, 3.4, 1.7, 0.2],\n",
       "       [6.1, 2.8, 4. , 1.3],\n",
       "       [4.9, 2.5, 4.5, 1.7],\n",
       "       [5.8, 4. , 1.2, 0.2],\n",
       "       [5.8, 2.6, 4. , 1.2],\n",
       "       [7.1, 3. , 5.9, 2.1]])"
      ]
     },
     "execution_count": 25,
     "metadata": {},
     "output_type": "execute_result"
    }
   ],
   "source": [
    "X_train"
   ]
  },
  {
   "cell_type": "code",
   "execution_count": 26,
   "metadata": {},
   "outputs": [
    {
     "data": {
      "text/plain": [
       "array([6.1, 2.8, 4.7, 1.2])"
      ]
     },
     "execution_count": 26,
     "metadata": {},
     "output_type": "execute_result"
    }
   ],
   "source": [
    "one_sample"
   ]
  },
  {
   "cell_type": "code",
   "execution_count": 27,
   "metadata": {},
   "outputs": [
    {
     "data": {
      "text/plain": [
       "-1.5"
      ]
     },
     "execution_count": 27,
     "metadata": {},
     "output_type": "execute_result"
    }
   ],
   "source": [
    "4.6 - 6.1"
   ]
  },
  {
   "cell_type": "code",
   "execution_count": null,
   "metadata": {},
   "outputs": [],
   "source": []
  },
  {
   "cell_type": "code",
   "execution_count": null,
   "metadata": {},
   "outputs": [],
   "source": []
  }
 ],
 "metadata": {
  "kernelspec": {
   "display_name": "Python 3",
   "language": "python",
   "name": "python3"
  },
  "language_info": {
   "codemirror_mode": {
    "name": "ipython",
    "version": 3
   },
   "file_extension": ".py",
   "mimetype": "text/x-python",
   "name": "python",
   "nbconvert_exporter": "python",
   "pygments_lexer": "ipython3",
   "version": "3.7.4"
  }
 },
 "nbformat": 4,
 "nbformat_minor": 4
}
