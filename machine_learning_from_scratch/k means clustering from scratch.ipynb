{
 "cells": [
  {
   "cell_type": "markdown",
   "metadata": {},
   "source": [
    "### reference https://realpython.com/numpy-array-programming/#clustering-algorithms"
   ]
  },
  {
   "cell_type": "code",
   "execution_count": 1,
   "metadata": {},
   "outputs": [],
   "source": [
    "import numpy as np"
   ]
  },
  {
   "cell_type": "code",
   "execution_count": 46,
   "metadata": {},
   "outputs": [],
   "source": [
    "class KMeansClustering:\n",
    "    def __init__(self):\n",
    "        self.clusters = None\n",
    "        self.diffs = []\n",
    "    def fit(self, data, k, iterations=1000):\n",
    "        cluster_choice = np.random.choice(data.shape[0], k, replace=False)\n",
    "        cluster_centers = data[cluster_choice]\n",
    "        diffs = []\n",
    "        \n",
    "        for _ in range(iterations):\n",
    "            # find the euclidean distance and assign the values as per the cluster\n",
    "            # assign points to the nearest cluster center\n",
    "            relative_distance = (data - cluster_centers[:, None])\n",
    "            euclidean = np.linalg.norm(relative_distance, axis=2)\n",
    "            assign = np.argmin(euclidean, axis = 0)\n",
    "            \n",
    "            # update cluster centers: set center to the mean of each cluster.\n",
    "            new_cluster_centers = np.empty(cluster_centers.shape)\n",
    "            for i in range(k):\n",
    "                new_cluster_centers[i] = X[assign==i].mean(axis=0)\n",
    "                \n",
    "            # get the change in the clusters and see what is the update\n",
    "            change = np.linalg.norm(cluster_centers - new_cluster_centers)\n",
    "            if change < 0.001:\n",
    "                print(\"model converged\")\n",
    "            diffs.append(change)\n",
    "            \n",
    "            # update cluster center for the next iteration\n",
    "            cluster_centers = new_cluster_centers\n",
    "            \n",
    "        self.clusters = cluster_centers\n",
    "        self.diffs = diffs"
   ]
  },
  {
   "cell_type": "code",
   "execution_count": 3,
   "metadata": {},
   "outputs": [],
   "source": [
    "X = np.repeat([[5, 5], [10, 10]], [5, 5], axis=0)\n",
    "X = X + np.random.randn(*X.shape)  # 2 distinct \"blobs\"\n",
    "centroids = np.array([[5, 5], [10, 10]])\n",
    "\n",
    "assign = np.argmin(np.linalg.norm(X - centroids[:, None], axis=2), axis=0)"
   ]
  },
  {
   "cell_type": "code",
   "execution_count": 4,
   "metadata": {},
   "outputs": [
    {
     "data": {
      "text/plain": [
       "array([0, 0, 0, 0, 0, 1, 1, 1, 1, 1])"
      ]
     },
     "execution_count": 4,
     "metadata": {},
     "output_type": "execute_result"
    }
   ],
   "source": [
    "assign"
   ]
  },
  {
   "cell_type": "code",
   "execution_count": 5,
   "metadata": {
    "collapsed": true
   },
   "outputs": [
    {
     "data": {
      "text/plain": [
       "array([[5.59897502, 5.03447691],\n",
       "       [5.43869613, 5.22017741],\n",
       "       [4.90206887, 3.43353889],\n",
       "       [2.80471097, 3.42742263],\n",
       "       [5.21470916, 3.44943913]])"
      ]
     },
     "execution_count": 5,
     "metadata": {},
     "output_type": "execute_result"
    }
   ],
   "source": [
    "X[assign==0]"
   ]
  },
  {
   "cell_type": "code",
   "execution_count": 6,
   "metadata": {},
   "outputs": [
    {
     "data": {
      "text/plain": [
       "array([4.79183203, 4.11301099])"
      ]
     },
     "execution_count": 6,
     "metadata": {},
     "output_type": "execute_result"
    }
   ],
   "source": [
    "X[assign==0].mean(axis=0)"
   ]
  },
  {
   "cell_type": "code",
   "execution_count": 7,
   "metadata": {},
   "outputs": [
    {
     "data": {
      "text/plain": [
       "array([[0.20816797, 0.88698901],\n",
       "       [5.20816797, 5.88698901]])"
      ]
     },
     "execution_count": 7,
     "metadata": {},
     "output_type": "execute_result"
    }
   ],
   "source": [
    "centroids - X[assign==0].mean(axis=0)"
   ]
  },
  {
   "cell_type": "code",
   "execution_count": 9,
   "metadata": {},
   "outputs": [
    {
     "data": {
      "text/plain": [
       "array([[0.20816797, 0.88698901],\n",
       "       [5.20816797, 5.88698901]])"
      ]
     },
     "execution_count": 9,
     "metadata": {},
     "output_type": "execute_result"
    }
   ],
   "source": [
    "(centroids - X[assign==0].mean(axis=0))"
   ]
  },
  {
   "cell_type": "code",
   "execution_count": 13,
   "metadata": {},
   "outputs": [
    {
     "ename": "AttributeError",
     "evalue": "'numpy.ndarray' object has no attribute 'abs'",
     "output_type": "error",
     "traceback": [
      "\u001b[0;31m---------------------------------------------------------------------------\u001b[0m",
      "\u001b[0;31mAttributeError\u001b[0m                            Traceback (most recent call last)",
      "\u001b[0;32m<ipython-input-13-4ad3b14b5565>\u001b[0m in \u001b[0;36m<module>\u001b[0;34m\u001b[0m\n\u001b[0;32m----> 1\u001b[0;31m \u001b[0;34m(\u001b[0m\u001b[0;34m(\u001b[0m\u001b[0mcentroids\u001b[0m \u001b[0;34m-\u001b[0m \u001b[0mX\u001b[0m\u001b[0;34m[\u001b[0m\u001b[0massign\u001b[0m\u001b[0;34m==\u001b[0m\u001b[0;36m0\u001b[0m\u001b[0;34m]\u001b[0m\u001b[0;34m.\u001b[0m\u001b[0mmean\u001b[0m\u001b[0;34m(\u001b[0m\u001b[0maxis\u001b[0m\u001b[0;34m=\u001b[0m\u001b[0;36m0\u001b[0m\u001b[0;34m)\u001b[0m\u001b[0;34m)\u001b[0m\u001b[0;34m.\u001b[0m\u001b[0mabs\u001b[0m\u001b[0;34m(\u001b[0m\u001b[0;34m)\u001b[0m\u001b[0;34m)\u001b[0m\u001b[0;34m.\u001b[0m\u001b[0mmax\u001b[0m\u001b[0;34m(\u001b[0m\u001b[0;34m)\u001b[0m\u001b[0;34m\u001b[0m\u001b[0;34m\u001b[0m\u001b[0m\n\u001b[0m",
      "\u001b[0;31mAttributeError\u001b[0m: 'numpy.ndarray' object has no attribute 'abs'"
     ]
    }
   ],
   "source": [
    "((centroids - X[assign==0].mean(axis=0)).abs()).max()"
   ]
  },
  {
   "cell_type": "code",
   "execution_count": 14,
   "metadata": {},
   "outputs": [
    {
     "data": {
      "text/plain": [
       "5.886989007372473"
      ]
     },
     "execution_count": 14,
     "metadata": {},
     "output_type": "execute_result"
    }
   ],
   "source": [
    "np.abs(centroids - X[assign==0].mean(axis=0)).max()"
   ]
  },
  {
   "cell_type": "code",
   "execution_count": 15,
   "metadata": {},
   "outputs": [
    {
     "data": {
      "text/plain": [
       "4.4000687339999995"
      ]
     },
     "execution_count": 15,
     "metadata": {},
     "output_type": "execute_result"
    }
   ],
   "source": [
    "sum([4.19077743, 4.28422161, 4.82180068, 3.6263979, 5.07714605]) / 5"
   ]
  },
  {
   "cell_type": "code",
   "execution_count": 16,
   "metadata": {
    "collapsed": true
   },
   "outputs": [
    {
     "data": {
      "text/plain": [
       "array([[ 5.59897502,  5.03447691],\n",
       "       [ 5.43869613,  5.22017741],\n",
       "       [ 4.90206887,  3.43353889],\n",
       "       [ 2.80471097,  3.42742263],\n",
       "       [ 5.21470916,  3.44943913],\n",
       "       [ 8.88418161,  9.16975435],\n",
       "       [ 9.32081253, 11.95916267],\n",
       "       [ 9.40306806, 11.3840304 ],\n",
       "       [10.09684978,  9.12497013],\n",
       "       [ 8.85503756, 12.12938513]])"
      ]
     },
     "execution_count": 16,
     "metadata": {},
     "output_type": "execute_result"
    }
   ],
   "source": [
    "X"
   ]
  },
  {
   "cell_type": "code",
   "execution_count": 17,
   "metadata": {
    "collapsed": true
   },
   "outputs": [
    {
     "data": {
      "text/plain": [
       "array([[ 8.88418161,  9.16975435],\n",
       "       [ 9.32081253, 11.95916267],\n",
       "       [ 9.40306806, 11.3840304 ],\n",
       "       [10.09684978,  9.12497013],\n",
       "       [ 8.85503756, 12.12938513]])"
      ]
     },
     "execution_count": 17,
     "metadata": {},
     "output_type": "execute_result"
    }
   ],
   "source": [
    "X[assign==1]"
   ]
  },
  {
   "cell_type": "code",
   "execution_count": 41,
   "metadata": {},
   "outputs": [
    {
     "name": "stdout",
     "output_type": "stream",
     "text": [
      "model converged\n",
      "model converged\n",
      "model converged\n",
      "model converged\n",
      "model converged\n",
      "model converged\n",
      "model converged\n",
      "model converged\n",
      "model converged\n"
     ]
    }
   ],
   "source": [
    "model = KMeansClustering()\n",
    "model.fit(X, 3, 10)"
   ]
  },
  {
   "cell_type": "code",
   "execution_count": 42,
   "metadata": {},
   "outputs": [
    {
     "data": {
      "text/plain": [
       "5.659878096408878"
      ]
     },
     "execution_count": 42,
     "metadata": {},
     "output_type": "execute_result"
    }
   ],
   "source": [
    "cluster_centers = np.array([[5.59897502, 5.03447691],\n",
    "       [4.90206887, 3.43353889],\n",
    "       [5.43869613, 5.22017741]])\n",
    "new_cluster_centers = np.array([[5.59897502, 5.03447691],\n",
    "       [4.307163  , 3.43680022],\n",
    "       [8.66644095, 9.83124668]])\n",
    "np.linalg.norm(cluster_centers - new_cluster_centers)"
   ]
  },
  {
   "cell_type": "code",
   "execution_count": 43,
   "metadata": {},
   "outputs": [
    {
     "data": {
      "text/plain": [
       "array([[ 5.28861229,  4.28440808],\n",
       "       [ 9.31198991, 10.75346054],\n",
       "       [ 2.80471097,  3.42742263]])"
      ]
     },
     "execution_count": 43,
     "metadata": {},
     "output_type": "execute_result"
    }
   ],
   "source": [
    "model.clusters"
   ]
  },
  {
   "cell_type": "code",
   "execution_count": 44,
   "metadata": {},
   "outputs": [
    {
     "data": {
      "text/plain": [
       "[1.9926416747894133, 0.0, 0.0, 0.0, 0.0, 0.0, 0.0, 0.0, 0.0, 0.0]"
      ]
     },
     "execution_count": 44,
     "metadata": {},
     "output_type": "execute_result"
    }
   ],
   "source": [
    "model.diffs"
   ]
  },
  {
   "cell_type": "code",
   "execution_count": 45,
   "metadata": {},
   "outputs": [
    {
     "data": {
      "text/plain": [
       "array([[ 5.59897502,  5.03447691],\n",
       "       [ 5.43869613,  5.22017741],\n",
       "       [ 4.90206887,  3.43353889],\n",
       "       [ 2.80471097,  3.42742263],\n",
       "       [ 5.21470916,  3.44943913],\n",
       "       [ 8.88418161,  9.16975435],\n",
       "       [ 9.32081253, 11.95916267],\n",
       "       [ 9.40306806, 11.3840304 ],\n",
       "       [10.09684978,  9.12497013],\n",
       "       [ 8.85503756, 12.12938513]])"
      ]
     },
     "execution_count": 45,
     "metadata": {},
     "output_type": "execute_result"
    }
   ],
   "source": [
    "X"
   ]
  },
  {
   "cell_type": "code",
   "execution_count": 121,
   "metadata": {
    "collapsed": true
   },
   "outputs": [
    {
     "ename": "NameError",
     "evalue": "name 'data' is not defined",
     "output_type": "error",
     "traceback": [
      "\u001b[0;31m---------------------------------------------------------------------------\u001b[0m",
      "\u001b[0;31mNameError\u001b[0m                                 Traceback (most recent call last)",
      "\u001b[0;32m<ipython-input-121-fa80708b5550>\u001b[0m in \u001b[0;36m<module>\u001b[0;34m\u001b[0m\n\u001b[0;32m----> 1\u001b[0;31m \u001b[0mdata\u001b[0m \u001b[0;34m-\u001b[0m \u001b[0mcluster_centers\u001b[0m\u001b[0;34m[\u001b[0m\u001b[0;34m:\u001b[0m\u001b[0;34m,\u001b[0m \u001b[0;32mNone\u001b[0m\u001b[0;34m]\u001b[0m\u001b[0;34m\u001b[0m\u001b[0;34m\u001b[0m\u001b[0m\n\u001b[0m",
      "\u001b[0;31mNameError\u001b[0m: name 'data' is not defined"
     ]
    }
   ],
   "source": [
    "data - cluster_centers[:, None]"
   ]
  },
  {
   "cell_type": "code",
   "execution_count": null,
   "metadata": {},
   "outputs": [],
   "source": []
  }
 ],
 "metadata": {
  "kernelspec": {
   "display_name": "Python 3",
   "language": "python",
   "name": "python3"
  },
  "language_info": {
   "codemirror_mode": {
    "name": "ipython",
    "version": 3
   },
   "file_extension": ".py",
   "mimetype": "text/x-python",
   "name": "python",
   "nbconvert_exporter": "python",
   "pygments_lexer": "ipython3",
   "version": "3.7.4"
  }
 },
 "nbformat": 4,
 "nbformat_minor": 4
}
