{
 "cells": [
  {
   "cell_type": "code",
   "execution_count": 58,
   "metadata": {},
   "outputs": [
    {
     "name": "stdout",
     "output_type": "stream",
     "text": [
      "python version: 3.9.7\n"
     ]
    }
   ],
   "source": [
    "from platform import python_version\n",
    "\n",
    "print('python version:', python_version())"
   ]
  },
  {
   "cell_type": "code",
   "execution_count": 62,
   "metadata": {},
   "outputs": [
    {
     "name": "stdout",
     "output_type": "stream",
     "text": [
      "transformers==4.11.3\n",
      "torch==1.10.0+cu113\n",
      "tokenizers==0.10.3\n",
      "datasets==1.13.3\n"
     ]
    }
   ],
   "source": [
    "import pkg_resources\n",
    "# list packages to be checked\n",
    "root_packages = [\n",
    "    'transformers', 'torch', 'datasets', 'tokenizers']\n",
    "# print versions, but check if package is imported first\n",
    "for m in pkg_resources.working_set:\n",
    "    if m.project_name.lower() in root_packages:\n",
    "        print(f\"{m.project_name}=={m.version}\")"
   ]
  },
  {
   "cell_type": "markdown",
   "metadata": {
    "id": "LBSYoWbi-45k"
   },
   "source": [
    "# **Fine-tuning XLS-R for Multi-Lingual ASR with 🤗 Transformers**\n",
    "\n",
    "***New (11/2021)***: *This blog post has been updated to feature XLSR's successor, called [XLS-R](https://huggingface.co/models?other=xls_r)*."
   ]
  },
  {
   "cell_type": "markdown",
   "metadata": {
    "id": "V7YOT2mnUiea"
   },
   "source": [
    "**Wav2Vec2** is a pretrained model for Automatic Speech Recognition (ASR) and was released in [September 2020](https://ai.facebook.com/blog/wav2vec-20-learning-the-structure-of-speech-from-raw-audio/) by *Alexei Baevski, Michael Auli, and Alex Conneau*.  Soon after the superior performance of Wav2Vec2 was demonstrated on one of the most popular English datasets for ASR, called [LibriSpeech](https://huggingface.co/datasets/librispeech_asr), *Facebook AI* presented a multi-lingual version of Wav2Vec2, called [XLSR](https://arxiv.org/abs/2006.13979). XLSR stands for *cross-lingual speech representations* and refers to model's ability to learn speech representations that are useful across multiple languages.\n",
    "\n",
    "XLSR's successor, simply called **XLS-R** (refering to the [*''XLM-R*](https://ai.facebook.com/blog/-xlm-r-state-of-the-art-cross-lingual-understanding-through-self-supervision/) *for Speech''*), was released in [November 2021](https://ai.facebook.com/blog/xls-r-self-supervised-speech-processing-for-128-languages) by *Arun Babu, Changhan Wang, Andros Tjandra, et al.* XLS-R used almost **half a million** hours of audio data in 128 languages for self-supervised pre-training and comes in sizes ranging from 300 milion up to **two billion** parameters. You can find the pretrained checkpoints on the 🤗 Hub:\n",
    "\n",
    "- [**Wav2Vec2-XLS-R-300M**](https://huggingface.co/facebook/wav2vec2-xls-r-300m)\n",
    "- [**Wav2Vec2-XLS-R-1B**](https://huggingface.co/facebook/wav2vec2-xls-r-1b)\n",
    "- [**Wav2Vec2-XLS-R-2B**](https://huggingface.co/facebook/wav2vec2-xls-r-2b)\n",
    "\n",
    "Similar to [BERT's masked language modeling objective](http://jalammar.github.io/illustrated-bert/), XLS-R learns contextualized speech representations by randomly masking feature vectors before passing them to a transformer network during self-supervised pre-training (*i.e.* diagram on the left below). \n",
    "\n",
    "For fine-tuning, a single linear layer is added on top of the pre-trained network to train the model on labeled data of audio downstream tasks such as speech recognition, speech translation and audio classification (*i.e.* diagram on the right below).\n",
    "\n",
    "![wav2vec2_structure](https://raw.githubusercontent.com/patrickvonplaten/scientific_images/master/xls_r.png)\n",
    "\n",
    "XLS-R shows impressive improvements over previous state-of-the-art results on both speech recognition, speech translation and speaker/language identification, *cf.* with Table 3-6, Table 7-10, and Table 11-12 respectively of the official [paper](https://ai.facebook.com/blog/xls-r-self-supervised-speech-processing-for-128-languages)."
   ]
  },
  {
   "cell_type": "markdown",
   "metadata": {
    "id": "nT_QrfWtsxIz"
   },
   "source": [
    "## Notebook Setup"
   ]
  },
  {
   "cell_type": "markdown",
   "metadata": {
    "id": "kruqixOYHaIo"
   },
   "source": [
    "\n",
    "In this notebook, we will give an in-detail explanation of how XLS-R - more specifically the pre-trained checkpoint [**Wav2Vec2-XLS-R-300M**](https://huggingface.co/facebook/wav2vec2-xls-r-300m) - can be fine-tuned for ASR.  \n",
    "\n",
    "For demonstration purposes, we fine-tune the model on the low resource ASR dataset of [Common Voice](https://huggingface.co/datasets/common_voice) that contains only *ca.* 4h of validated training data."
   ]
  },
  {
   "cell_type": "markdown",
   "metadata": {
    "id": "Gx9OdDYrCtQ1"
   },
   "source": [
    "XLS-R is fine-tuned using Connectionist Temporal Classification (CTC), which is an algorithm that is used to train neural networks for sequence-to-sequence problems, such as ASR and handwriting recognition. \n",
    "\n",
    "I highly recommend reading the well-written blog post [*Sequence Modeling with CTC (2017)*](https://distill.pub/2017/ctc/) by Awni Hannun."
   ]
  },
  {
   "cell_type": "markdown",
   "metadata": {
    "id": "wcHuXIaWyHZU"
   },
   "source": [
    "First, let's try to get a good GPU in our colab! With Google Colab's free version it's sadly becoming much harder to get access to a good GPU. With Google Colab Pro, however, one should easily get either a V100 or P100 GPU."
   ]
  },
  {
   "cell_type": "code",
   "execution_count": 1,
   "metadata": {},
   "outputs": [],
   "source": [
    "import os\n",
    "os.environ[\"CUDA_VISIBLE_DEVICES\"]=\"2\""
   ]
  },
  {
   "cell_type": "code",
   "execution_count": 2,
   "metadata": {
    "colab": {
     "base_uri": "https://localhost:8080/"
    },
    "id": "YELVqGxMxnbG",
    "outputId": "9d98906b-ed30-46c7-9b86-962802716c4d"
   },
   "outputs": [
    {
     "name": "stdout",
     "output_type": "stream",
     "text": [
      "Wed Jan 19 13:53:57 2022       \n",
      "+-----------------------------------------------------------------------------+\n",
      "| NVIDIA-SMI 470.86       Driver Version: 470.86       CUDA Version: 11.4     |\n",
      "|-------------------------------+----------------------+----------------------+\n",
      "| GPU  Name        Persistence-M| Bus-Id        Disp.A | Volatile Uncorr. ECC |\n",
      "| Fan  Temp  Perf  Pwr:Usage/Cap|         Memory-Usage | GPU-Util  Compute M. |\n",
      "|                               |                      |               MIG M. |\n",
      "|===============================+======================+======================|\n",
      "|   0  NVIDIA GeForce ...  Off  | 00000000:02:00.0 Off |                  N/A |\n",
      "| 53%   34C    P8    18W / 350W |      5MiB / 24268MiB |      0%      Default |\n",
      "|                               |                      |                  N/A |\n",
      "+-------------------------------+----------------------+----------------------+\n",
      "|   1  NVIDIA GeForce ...  Off  | 00000000:21:00.0 Off |                  N/A |\n",
      "| 53%   36C    P8    18W / 350W |  22856MiB / 24265MiB |      0%      Default |\n",
      "|                               |                      |                  N/A |\n",
      "+-------------------------------+----------------------+----------------------+\n",
      "|   2  NVIDIA GeForce ...  Off  | 00000000:4A:00.0 Off |                  N/A |\n",
      "| 50%   32C    P8    27W / 350W |      5MiB / 24268MiB |      0%      Default |\n",
      "|                               |                      |                  N/A |\n",
      "+-------------------------------+----------------------+----------------------+\n",
      "                                                                               \n",
      "+-----------------------------------------------------------------------------+\n",
      "| Processes:                                                                  |\n",
      "|  GPU   GI   CI        PID   Type   Process name                  GPU Memory |\n",
      "|        ID   ID                                                   Usage      |\n",
      "|=============================================================================|\n",
      "|    0   N/A  N/A      1828      G   /usr/lib/xorg/Xorg                  4MiB |\n",
      "|    1   N/A  N/A      1828      G   /usr/lib/xorg/Xorg                 86MiB |\n",
      "|    1   N/A  N/A      2057      G   /usr/bin/gnome-shell               14MiB |\n",
      "|    1   N/A  N/A   1451734      C   ...onda3/envs/tmp/bin/python    22751MiB |\n",
      "|    2   N/A  N/A      1828      G   /usr/lib/xorg/Xorg                  4MiB |\n",
      "+-----------------------------------------------------------------------------+\n"
     ]
    }
   ],
   "source": [
    "gpu_info = !nvidia-smi\n",
    "gpu_info = '\\n'.join(gpu_info)\n",
    "if gpu_info.find('failed') >= 0:\n",
    "  print('Not connected to a GPU')\n",
    "else:\n",
    "  print(gpu_info)"
   ]
  },
  {
   "cell_type": "markdown",
   "metadata": {
    "id": "e335hPmdtASZ"
   },
   "source": [
    "Before we start, let's install `datasets` and `transformers`. Also, we need the `torchaudio` to load audio files and `jiwer` to evaluate our fine-tuned model using the [word error rate (WER)](https://huggingface.co/metrics/wer) metric ${}^1$."
   ]
  },
  {
   "cell_type": "code",
   "execution_count": 3,
   "metadata": {
    "id": "c8eh87Hoee5d"
   },
   "outputs": [],
   "source": [
    "# # %%capture\n",
    "# !/home/yellow/anaconda3/envs/joy39/bin/pip install datasets==1.13.3\n",
    "# !/home/yellow/anaconda3/envs/joy39/bin/pip install transformers==4.11.3\n",
    "# !/home/yellow/anaconda3/envs/joy39/bin/pip install huggingface_hub==0.1\n",
    "# !/home/yellow/anaconda3/envs/joy39/bin/pip install torchaudio==0.10.0+cu113 -f https://download.pytorch.org/whl/cu113/torch_stable.html\n",
    "# !/home/yellow/anaconda3/envs/joy39/bin/pip install jiwer"
   ]
  },
  {
   "cell_type": "markdown",
   "metadata": {
    "id": "0xxt_LwxDQlO"
   },
   "source": [
    "We strongly suggest to upload your training checkpoints directly to the [🤗 Hub](https://huggingface.co/) while training. The [🤗 Hub](https://huggingface.co/) has integrated version control so you can be sure that no model checkpoint is getting lost during training. \n",
    "\n",
    "To do so you have to store your authentication token from the Hugging Face website (sign up [here](https://huggingface.co/join) if you haven't already!)"
   ]
  },
  {
   "cell_type": "code",
   "execution_count": 4,
   "metadata": {
    "colab": {
     "base_uri": "https://localhost:8080/",
     "height": 239,
     "referenced_widgets": [
      "3e688b3e8a344f6cbb944ef741c95e83",
      "de6f408e141441a8b1ac24ab0f044c67",
      "2d867a22eb4441c3b235e5795294910b",
      "9a0a1825f7b14b2d8699d1ee7b28c3f9",
      "a61ec362d6254d7c99972821779126bb",
      "3e7b70f46ef14affa9427f301f8123a4",
      "9ef16d6e61774f9293cab62e10e78b9e",
      "55888091ab6d49e1b965f3a9dace684b",
      "57f5395740d8448d89f499969e34d4ed",
      "39a5e2f9da294c7fa7d5948b7eb0a77c",
      "c7cb9c0ad241456eaf930e27f0dc5e2b",
      "5faac7eafb6b46d3b3a67b2436f009d0",
      "3049d293a6be4e8ca9575a5edf4ffa74",
      "2ebccf2d38b944118cd29685e7136ad9",
      "0b51fb65273042c78591c8798e9ef012",
      "ff006623c533492691441d43b91eae51"
     ]
    },
    "id": "mlMSH3T3EazV",
    "outputId": "492e95e3-4103-49b0-c3ca-7f916967e809"
   },
   "outputs": [
    {
     "name": "stdout",
     "output_type": "stream",
     "text": [
      "Login successful\n",
      "Your token has been saved to /home/yellow/.huggingface/token\n",
      "\u001b[1m\u001b[31mAuthenticated through git-crendential store but this isn't the helper defined on your machine.\n",
      "You will have to re-authenticate when pushing to the Hugging Face Hub. Run the following command in your terminal to set it as the default\n",
      "\n",
      "git config --global credential.helper store\u001b[0m\n"
     ]
    }
   ],
   "source": [
    "from huggingface_hub import notebook_login\n",
    "\n",
    "notebook_login()"
   ]
  },
  {
   "cell_type": "markdown",
   "metadata": {
    "id": "ujdZ2TxhElk6"
   },
   "source": [
    "\n",
    "Then you need to install Git-LFS to upload your model checkpoints:"
   ]
  },
  {
   "cell_type": "code",
   "execution_count": 28,
   "metadata": {
    "id": "WcR-d83OEkqb"
   },
   "outputs": [
    {
     "name": "stdout",
     "output_type": "stream",
     "text": [
      "\u001b[1;31mE: \u001b[0mCould not open lock file /var/lib/dpkg/lock-frontend - open (13: Permission denied)\u001b[0m\r\n",
      "\u001b[1;31mE: \u001b[0mUnable to acquire the dpkg frontend lock (/var/lib/dpkg/lock-frontend), are you root?\u001b[0m\r\n"
     ]
    }
   ],
   "source": [
    "# # %%capture\n",
    "# !apt install git-lfs"
   ]
  },
  {
   "cell_type": "markdown",
   "metadata": {
    "id": "Mn9swf6EQ9Vd"
   },
   "source": [
    "\n",
    "\n",
    "\n",
    "---\n",
    "\n",
    "${}^1$ In the [paper](https://arxiv.org/pdf/2006.13979.pdf), the model was evaluated using the phoneme error rate (PER), but by far the most common metric in ASR is the word error rate (WER). To keep this notebook as general as possible we decided to evaluate the model using WER."
   ]
  },
  {
   "cell_type": "markdown",
   "metadata": {
    "id": "0mW-C1Nt-j7k"
   },
   "source": [
    "## Prepare Data, Tokenizer, Feature Extractor"
   ]
  },
  {
   "cell_type": "markdown",
   "metadata": {
    "id": "BeBosnY9BH3e"
   },
   "source": [
    "ASR models transcribe speech to text, which means that we both need a feature extractor that processes the speech signal to the model's input format, *e.g.* a feature vector, and a tokenizer that processes the model's output format to text. \n",
    "\n",
    "In 🤗 Transformers, the XLS-R model is thus accompanied by both a tokenizer, called [Wav2Vec2CTCTokenizer](https://huggingface.co/transformers/master/model_doc/wav2vec2.html#wav2vec2ctctokenizer), and a feature extractor, called [Wav2Vec2FeatureExtractor](https://huggingface.co/transformers/master/model_doc/wav2vec2.html#wav2vec2featureextractor).\n",
    "\n",
    "Let's start by creating the tokenizer to decode the predicted output classes to the output transcription."
   ]
  },
  {
   "cell_type": "markdown",
   "metadata": {
    "id": "sEXEWEJGQPqD"
   },
   "source": [
    "### Create `Wav2Vec2CTCTokenizer`"
   ]
  },
  {
   "cell_type": "markdown",
   "metadata": {
    "id": "tWmMikuNEKl_"
   },
   "source": [
    "A pre-trained XLS-R model maps the speech signal to a sequence of context representations as illustrated in the figure above. However, for speech recognition the model has to to map this sequence of context representations to its corresponding transcription which means that a linear layer has to be added on top of the transformer block (shown in yellow in the diagram above). This linear layer is used to classifies each context representation to a token class analogous how, *e.g.*, after pretraining a linear layer is added on top of BERT's embeddings for further classification - *cf.* with *'BERT'* section of this [blog post](https://huggingface.co/blog/warm-starting-encoder-decoder)."
   ]
  },
  {
   "cell_type": "markdown",
   "metadata": {
    "id": "v5oRE8XjIUH3"
   },
   "source": [
    "The output size of this layer corresponds to the number of tokens in the vocabulary, which does **not** depend onXLS-R's pretraining task, but only on the labeled dataset used for fine-tuning. So in the first step, we will take a look at the chosen dataset of Common Voice and define a vocabulary based on the transcriptions."
   ]
  },
  {
   "cell_type": "markdown",
   "metadata": {
    "id": "idBczw8mWzgt"
   },
   "source": [
    "First, let's go to Common Voice [official website](https://commonvoice.mozilla.org/en/datasets) and pick a language to fine-tune XLS-R on. For this notebook, we will use Turkish. \n",
    "\n",
    "For each language-specific dataset, you can find a language code corresponding to your chosen language. On [Common Voice](https://commonvoice.mozilla.org/en/datasets), look for the field \"Version\". The language code then corresponds to the prefix before the underscore. For Turkish, *e.g.* the language code is `\"tr\"`.\n",
    "\n",
    "Great, now we can use 🤗 Datasets' simple API to download the data. The dataset name is `\"common_voice\"`, the configuration name corresponds to the language code, which is `\"tr\"` in our case."
   ]
  },
  {
   "cell_type": "markdown",
   "metadata": {
    "id": "bee4g9rpLxll"
   },
   "source": [
    "Common Voice has many different splits including `invalidated`, which refers to data that was not rated as \"clean enough\" to be considered useful. In this notebook, we will only make use of the splits `\"train\"`, `\"validation\"` and `\"test\"`. \n",
    "\n",
    "Because the Turkish dataset is so small, we will merge both the validation and training data into a training dataset and only use the test data for validation."
   ]
  },
  {
   "cell_type": "code",
   "execution_count": 59,
   "metadata": {
    "colab": {
     "base_uri": "https://localhost:8080/",
     "height": 185,
     "referenced_widgets": [
      "792e987bfb8647dca118eabe6cc16c37",
      "c90e42275a8c41dd9c319eb79dd869b2",
      "31f004c514484072a6e536cd56ea69fd",
      "ab48fd800900422096d2348994a7ed4f",
      "a9ca0a0ff7024869b2848711456eca49",
      "2e1df5f9e6ca414aa3b1db1f5814883d",
      "3ee785b6d3cb4d9993b2e4fa38585b3d",
      "36c2a7a649324a308621a582ef5babc6",
      "c3f39fc6dda546c089a7d5d01c1e34ee",
      "529c35cb376d4073b76ee5b44458216f",
      "0c25b9b7db834289b3de290008a0209c",
      "c767d955455440bea918d6d1b13d7886",
      "ac4f852a824d4c1d883aaf537566ffa3",
      "81061024c3914a94b9e6742bec8c81c8",
      "2ca753c2ae5e4d58b6a973c04033ab54",
      "bebe1a3e84aa4ec6b3e0f1e3f59e74cc",
      "bfbcfbaba1dd4480b54f34284a0b5f22",
      "b181f53b2d45444c9952b15b31499891",
      "d283f07ab9e64c6eb75ea86d1a88285d",
      "16b2f41aedef47c294c4b4a0cd4c5299",
      "0cdc994b08f64017817d5427068d40bc",
      "e3ce3525324846c39f4d1afc79a0b983",
      "c427769823ce4de2945c058d2f970b85",
      "dbddbf70958b49f193e58fa585345cd5",
      "115ca8cac4ae4507952bde08280b87bb",
      "9deebbc6d0404212b430d49bf83f6e79",
      "3e4e8f55d23b430eb6ac401bacd868d9",
      "01478ed12a3046b8aceb4c21ffea576b",
      "8eff6d0cd1994cd7add0eba00a19b96a",
      "cf2c234713874fd68f1fe6a3d51e51ac",
      "25f0e7344e4248d7b5bcd8eed9b38590",
      "6408250914ea44938320c2b443a635f6",
      "b7ac1f52b03b466e989977ec9da82cec",
      "81db12ef7ecd4a6f80fd73a9fb50a474",
      "979d08b1ffdc4261bfb4ec415ab719e3",
      "5316b04eb6454f0c97f4a2ad6914aae4",
      "4518dc2b61674962a0e59d99f71a7ec2",
      "499e2d25e5df4e3a9f1271ec70243097",
      "38deeb43d3cb4df088469814a8f5d465",
      "d9e69dc9962c4519a7ac0cbc7928769b",
      "7ddaf8d04e5e4a708683b2df96e08485",
      "ca295aa3717d4e05a32c9610f42c78e5",
      "423ccfd33adb403c99261b89eb43cafb",
      "a4d71ab69f1d45f489e2af6609cda1ea",
      "2710c068456f4c58bc4c9924e3e265b2",
      "13b345a8fd21497bbe6b05ea9129a866",
      "aa2600dffb084b8290cb4414d1e50f5c",
      "674e232e13f64a7fa7596157a3e3307c",
      "3d6604e6fe0543ffb9ff2a8a0d1d87c3",
      "e78c45c8191a438f8d8886dbfe265c2d",
      "2acff7822c834a40bebe6e8b99eb0830",
      "50452d42bb7c460e92643f0045aecf6e",
      "4f3e42bbe82246fe897c0309d20ee620",
      "ae6c6c5e85bf4e25b9f0d120de051cba",
      "978e13b9ee954040a03c85ec124a8d1c",
      "42cac6fc5e8143c0b690ae98b035394b",
      "62e72459c9194b068983d0e234695e1b",
      "152e195b9fc444f890784dfad7e031ad",
      "7edebd0d60b84459a542354614902616",
      "8b44d0e96ea94b3d933b2ebdc8628954",
      "b6d7e1ee711246689ad210eab59955dd",
      "98cf04b2c3c74c9bbb53d7724db164c5",
      "723f8611930546719c115d22b9633155",
      "f9d2274cb2a043929e6d56e579f8968e",
      "cbcb2296eb644b419e8f5a165e65ae8d",
      "9a737cd41cbf47f3afb8d9995302e587",
      "fae931f942ee40ddb8b2c40ed4bbf3ff",
      "be9f8b0951e94b04bb03f5123403167e",
      "544eebac204648b589d11e2c2e6ea2f6",
      "0e8e2b30e0f34c4b998ad0e5caac9f8b",
      "95c6db1f4f5f453c944859ca8643f62b",
      "493cd4a4fedc4ed9927b0e58111fe027",
      "7a1a92b8ce77494986c31db4403392fa",
      "6018a1af9aaa4f8c9e7136f5eab4145c",
      "47d9f81a081c497bb190f7ce2d7edbd2",
      "23abd714a89d433ca22227d6de4ed59f",
      "d04f00cc232d4bd99e565df3df5777af",
      "2e78540e71874f9d8974aa9737d6f855",
      "55bd1ae2dff7497981d2ce84b8747df1",
      "dc92d2150ff34cf8868be72b5161ce39",
      "5f426b29b69d4faa98a03ce6cf1d976a",
      "5c07db5d7f1e4292948b69ce50fa8767",
      "792b4c299fc84011b767b130dc63d7cd",
      "961fd7fc9f374476820434f25f68675d",
      "f18986a72cc44208b8d182dcf069742d",
      "7c0765ffb8964e23842d7f81c8a1026b",
      "da8caad82f0b42c58df182462334467c",
      "f495666b4f3d4a81a3aa1ba5683dba6c"
     ]
    },
    "id": "2MMXcWFFgCXU",
    "outputId": "3415f49d-8b65-43a6-ffe5-0f0bfe068eff"
   },
   "outputs": [
    {
     "name": "stderr",
     "output_type": "stream",
     "text": [
      "Reusing dataset common_voice (/home/yellow/.cache/huggingface/datasets/mozilla-foundation___common_voice/as/7.0.0/33e08856cfa0d0665e837bcad73ffd920a0bc713ce8c5fffb55dbdf1c084d5ba)\n",
      "Reusing dataset common_voice (/home/yellow/.cache/huggingface/datasets/mozilla-foundation___common_voice/as/7.0.0/33e08856cfa0d0665e837bcad73ffd920a0bc713ce8c5fffb55dbdf1c084d5ba)\n"
     ]
    }
   ],
   "source": [
    "from datasets import load_dataset, load_metric, Audio\n",
    "\n",
    "common_voice_train = load_dataset(\n",
    "    \"mozilla-foundation/common_voice_7_0\", \"as\", use_auth_token=True, split=\"train+validation\")\n",
    "common_voice_test = load_dataset(\n",
    "    \"mozilla-foundation/common_voice_7_0\", \"as\", use_auth_token=True, split=\"test\")"
   ]
  },
  {
   "cell_type": "markdown",
   "metadata": {
    "id": "ri5y5N_HMANq"
   },
   "source": [
    "Many ASR datasets only provide the target text, `'sentence'` for each audio array `'audio'` and file `'path'`. Common Voice actually provides much more information about each audio file, such as the `'accent'`, etc. Keeping the notebook as general as possible, we only consider the transcribed text for fine-tuning.\n",
    "\n"
   ]
  },
  {
   "cell_type": "code",
   "execution_count": 60,
   "metadata": {},
   "outputs": [
    {
     "data": {
      "text/plain": [
       "{'client_id': '256ff89607f3742e96e7bd9462bc4cce9804b33238cf569d234d9f4b222e667dd683ab4f3044c826f007d715c2044aa53bd838d0e235aeaa507cbdcb5352cd1c',\n",
       " 'path': 'cv-corpus-7.0-2021-07-21/as/clips/common_voice_as_22015893.mp3',\n",
       " 'audio': {'path': 'cv-corpus-7.0-2021-07-21/as/clips/common_voice_as_22015893.mp3',\n",
       "  'array': array([ 0.0000000e+00,  0.0000000e+00,  0.0000000e+00, ...,\n",
       "         -1.7881393e-06,  5.9604645e-08, -4.1723251e-07], dtype=float32),\n",
       "  'sampling_rate': 48000},\n",
       " 'sentence': 'ভাটী বয়সতহে তেওঁলোকৰ এজনী ছোৱালী জন্মে।',\n",
       " 'up_votes': 2,\n",
       " 'down_votes': 0,\n",
       " 'age': 'twenties',\n",
       " 'gender': 'male',\n",
       " 'accent': '',\n",
       " 'locale': 'as',\n",
       " 'segment': ''}"
      ]
     },
     "execution_count": 60,
     "metadata": {},
     "output_type": "execute_result"
    }
   ],
   "source": [
    "common_voice_train[0]"
   ]
  },
  {
   "cell_type": "code",
   "execution_count": 61,
   "metadata": {
    "id": "kbyq6lDgQc2a"
   },
   "outputs": [],
   "source": [
    "common_voice_train = common_voice_train.remove_columns([\"accent\", \"age\", \"client_id\", \"down_votes\", \"gender\", \"locale\", \"segment\", \"up_votes\"])\n",
    "common_voice_test = common_voice_test.remove_columns([\"accent\", \"age\", \"client_id\", \"down_votes\", \"gender\", \"locale\", \"segment\", \"up_votes\"])"
   ]
  },
  {
   "cell_type": "markdown",
   "metadata": {
    "id": "Go9Hq4e4NDT9"
   },
   "source": [
    "Let's write a short function to display some random samples of the dataset and run it a couple of times to get a feeling for the transcriptions."
   ]
  },
  {
   "cell_type": "code",
   "execution_count": 62,
   "metadata": {
    "id": "72737oog2F6U"
   },
   "outputs": [],
   "source": [
    "from datasets import ClassLabel\n",
    "import random\n",
    "import pandas as pd\n",
    "from IPython.display import display, HTML\n",
    "\n",
    "def show_random_elements(dataset, num_examples=10):\n",
    "    assert num_examples <= len(dataset), \"Can't pick more elements than there are in the dataset.\"\n",
    "    picks = []\n",
    "    for _ in range(num_examples):\n",
    "        pick = random.randint(0, len(dataset)-1)\n",
    "        while pick in picks:\n",
    "            pick = random.randint(0, len(dataset)-1)\n",
    "        picks.append(pick)\n",
    "    \n",
    "    df = pd.DataFrame(dataset[picks])\n",
    "    display(HTML(df.to_html()))"
   ]
  },
  {
   "cell_type": "code",
   "execution_count": 63,
   "metadata": {
    "colab": {
     "base_uri": "https://localhost:8080/",
     "height": 363
    },
    "id": "K_JUmf3G3b9S",
    "outputId": "e69639ea-0cb6-4824-fc9f-8407618bad97"
   },
   "outputs": [
    {
     "data": {
      "text/html": [
       "<table border=\"1\" class=\"dataframe\">\n",
       "  <thead>\n",
       "    <tr style=\"text-align: right;\">\n",
       "      <th></th>\n",
       "      <th>sentence</th>\n",
       "    </tr>\n",
       "  </thead>\n",
       "  <tbody>\n",
       "    <tr>\n",
       "      <th>0</th>\n",
       "      <td>বয়োজ্যেষ্ঠ ব্যক্তিসকলৰ লগত আজৰি সময় উলিয়াই কিছু সময় কটাবলৈ পালে ভাল লাগে।</td>\n",
       "    </tr>\n",
       "    <tr>\n",
       "      <th>1</th>\n",
       "      <td>\"ছাত্র-জীৱনৰ প্রধান উদ্দেশ্য হ'ল অধ্যয়ন।\"</td>\n",
       "    </tr>\n",
       "    <tr>\n",
       "      <th>2</th>\n",
       "      <td>লগে লগে এখন-দুখন তামোলো দিছে।</td>\n",
       "    </tr>\n",
       "    <tr>\n",
       "      <th>3</th>\n",
       "      <td>কচৰ সতে আজীৱন সংগিনী হৈ থকাৰ ইচ্ছাও প্ৰকট কৰিলে।</td>\n",
       "    </tr>\n",
       "    <tr>\n",
       "      <th>4</th>\n",
       "      <td>গুৱাহাটীৰ চিটী বাছ সেৱা অতি সুবিধাজনক।</td>\n",
       "    </tr>\n",
       "    <tr>\n",
       "      <th>5</th>\n",
       "      <td>সেই কাৰণে আজি আমিও ওলাইছো দেশক জগাবলৈ, দেশক উদ্বুদ্ধ কৰিবলৈ।</td>\n",
       "    </tr>\n",
       "    <tr>\n",
       "      <th>6</th>\n",
       "      <td>সেই দিনাৰ পৰা সি কোনো খোৱা বস্তু মুখলৈ নিনিয়ে</td>\n",
       "    </tr>\n",
       "    <tr>\n",
       "      <th>7</th>\n",
       "      <td>\"চোৰে ভাবিলে- \"\"কোনটো গৰু ভাল কোনটো বেয়া এন্ধাৰে-মুন্ধাৰে কেনেকৈ চিনিম।\"\"\"</td>\n",
       "    </tr>\n",
       "    <tr>\n",
       "      <th>8</th>\n",
       "      <td>পুৰণিৰ পৰা বলেৰে মাটি কাঢ়ি নিবলৈকো নতুনৰ সংখ্যা নিচেই তাকৰ</td>\n",
       "    </tr>\n",
       "    <tr>\n",
       "      <th>9</th>\n",
       "      <td>আৰু ভালদৰে দেখা পাবৰ বাবেহে টিভিৰ তেনেই ওচৰলৈ গৈ বহি লোৱাৰ অভ্যাস কৰিছে।</td>\n",
       "    </tr>\n",
       "  </tbody>\n",
       "</table>"
      ],
      "text/plain": [
       "<IPython.core.display.HTML object>"
      ]
     },
     "metadata": {},
     "output_type": "display_data"
    }
   ],
   "source": [
    "show_random_elements(common_voice_train.remove_columns([\"path\", \"audio\"]), num_examples=10)"
   ]
  },
  {
   "cell_type": "markdown",
   "metadata": {
    "id": "fowcOllGNNju"
   },
   "source": [
    "Alright! The transcriptions look fairly clean. Having translated the transcribed sentences, it seems that the language corresponds more to written-out text than noisy dialogue. This makes sense considering that [Common Voice](https://huggingface.co/datasets/common_voice) is a crowd-sourced read speech corpus."
   ]
  },
  {
   "cell_type": "markdown",
   "metadata": {
    "id": "vq7OR50LN49m"
   },
   "source": [
    "We can see that the transcriptions contain some special characters, such as `,.?!;:`. Without a language model, it is much harder to classify speech chunks to such special characters because they don't really correspond to a characteristic sound unit. *E.g.*, the letter `\"s\"` has a more or less clear sound, whereas the special character `\".\"` does not.\n",
    "Also in order to understand the meaning of a speech signal, it is usually not necessary to include special characters in the transcription.\n",
    "\n",
    "Let's simply remove all characters that don't contribute to the meaning of a word and cannot really be represented by an acoustic sound and normalize the text."
   ]
  },
  {
   "cell_type": "code",
   "execution_count": 64,
   "metadata": {
    "id": "svKzVJ_hQGK6"
   },
   "outputs": [],
   "source": [
    "import re\n",
    "chars_to_remove_regex = '[\\,\\?\\.\\!\\-\\;\\:\\\"\\“\\%\\‘\\”\\�\\']'\n",
    "\n",
    "def remove_special_characters(batch):\n",
    "    batch[\"sentence\"] = re.sub(chars_to_remove_regex, '', batch[\"sentence\"]).lower()\n",
    "    return batch"
   ]
  },
  {
   "cell_type": "code",
   "execution_count": 65,
   "metadata": {
    "colab": {
     "base_uri": "https://localhost:8080/",
     "height": 81,
     "referenced_widgets": [
      "03920506cf8a4433a636461f14db37ac",
      "11edbfd582954ebf917773407d407761",
      "ba6c71a131164b96a888b0243801c370",
      "d908994959124dd7ad221fdf03ec6a66",
      "05f9b12ea3ed4d0d8a2e58873e351392",
      "65d511c8a83c42748ec9bb82d002f17a",
      "466f8c97cfeb4c729f132ea39cad25b2",
      "c57f4dfdc0714fa5a3a3eadee705fe64",
      "bd1161ab6b7d405abbc031cb4c099032",
      "e4cc2d6a965443268891e889ebf346ac",
      "075164223a614e6bb610b223407e6da7",
      "e274ddf4aee445f7be1e3e71b5752abb",
      "9d4627a0f1b44f4587eab29528087828",
      "7e18baa5483b4c91b436e35f8e672366",
      "7c59acd30b80478a8b560e786957d47c",
      "43e82786d121430bbf56c616a21a0015",
      "e1065b61a55a42d8a09de2a1ad9472cf",
      "f331bce792f94c398f1c3d1096b6ee84",
      "037d3cd1315a4ceb8325854c0d78aec3",
      "2c945b22b08047bba041bf4cbe221c1e",
      "a8c449700b2c4f9293f55f33ddbdfb53",
      "8927e9c273c24a5495579c35ab51c653"
     ]
    },
    "id": "XIHocAuTQbBR",
    "outputId": "e9a8a0b3-a875-457a-b00e-a78eccc093bf"
   },
   "outputs": [
    {
     "name": "stderr",
     "output_type": "stream",
     "text": [
      "Loading cached processed dataset at /home/yellow/.cache/huggingface/datasets/mozilla-foundation___common_voice/as/7.0.0/33e08856cfa0d0665e837bcad73ffd920a0bc713ce8c5fffb55dbdf1c084d5ba/cache-7697c50436d9ab47.arrow\n",
      "Loading cached processed dataset at /home/yellow/.cache/huggingface/datasets/mozilla-foundation___common_voice/as/7.0.0/33e08856cfa0d0665e837bcad73ffd920a0bc713ce8c5fffb55dbdf1c084d5ba/cache-ca07372584140d77.arrow\n"
     ]
    }
   ],
   "source": [
    "common_voice_train = common_voice_train.map(remove_special_characters)\n",
    "common_voice_test = common_voice_test.map(remove_special_characters)"
   ]
  },
  {
   "cell_type": "markdown",
   "metadata": {
    "id": "TxnVS9gIhIma"
   },
   "source": [
    "Let's look at the processed text labels again."
   ]
  },
  {
   "cell_type": "code",
   "execution_count": 66,
   "metadata": {
    "colab": {
     "base_uri": "https://localhost:8080/",
     "height": 363
    },
    "id": "RBDRAAYxRE6n",
    "outputId": "d555587b-3fb8-41b0-f755-8a60424ae020"
   },
   "outputs": [
    {
     "data": {
      "text/html": [
       "<table border=\"1\" class=\"dataframe\">\n",
       "  <thead>\n",
       "    <tr style=\"text-align: right;\">\n",
       "      <th></th>\n",
       "      <th>sentence</th>\n",
       "    </tr>\n",
       "  </thead>\n",
       "  <tbody>\n",
       "    <tr>\n",
       "      <th>0</th>\n",
       "      <td>গাড়ীৰ হেডলাইট ভাঙিছে আৰু অলপ ঘঁহনি খাইছে।</td>\n",
       "    </tr>\n",
       "    <tr>\n",
       "      <th>1</th>\n",
       "      <td>ৰজাই দেখি তেজাই বিনাই কলে শুনা শুনা নৃপতি ৰজা</td>\n",
       "    </tr>\n",
       "    <tr>\n",
       "      <th>2</th>\n",
       "      <td>আৰু তেওঁৰ মনোবাঞ্চা পূৰণ হয়।</td>\n",
       "    </tr>\n",
       "    <tr>\n",
       "      <th>3</th>\n",
       "      <td>ধনৰ বলেৰেই তেওঁ সৰ্ব্বেশ্বৰ পণ্ডিতক ভালকৈ শিক্ষা দিব পাৰিব।</td>\n",
       "    </tr>\n",
       "    <tr>\n",
       "      <th>4</th>\n",
       "      <td>ওচৰতে এটা কুকুৰপোৱালিয়ে হাঁহকেইটামানক খেদাখেদি কৰি কুঁকুৱাই ফুৰিছিল।</td>\n",
       "    </tr>\n",
       "    <tr>\n",
       "      <th>5</th>\n",
       "      <td>তাই জানিলে যে জংকিয়ে আকৌ তাৰ প্ৰণয়িণীক গৈ বিচাৰি উলিয়াব।</td>\n",
       "    </tr>\n",
       "    <tr>\n",
       "      <th>6</th>\n",
       "      <td>এই খিনিতে মানুহ এটা মৰা হলে আমি গম নোপোৱাকৈ থাকিলাহেঁতেননে</td>\n",
       "    </tr>\n",
       "    <tr>\n",
       "      <th>7</th>\n",
       "      <td>সময়ে সুভদ্ৰাৰ ঘৰলৈ আহি থাকে।</td>\n",
       "    </tr>\n",
       "    <tr>\n",
       "      <th>8</th>\n",
       "      <td>তেওঁলোকক দেখিয়েই মণিয়ে তেওঁৰ চেষ্টা যে সফল হল তাক বুজি ললে।</td>\n",
       "    </tr>\n",
       "    <tr>\n",
       "      <th>9</th>\n",
       "      <td>মুখমণ্ডলত কচৰ প্ৰতি আকুলতা আৰু এক বুজাব নোৱাৰা শংকা দেখিলে।</td>\n",
       "    </tr>\n",
       "  </tbody>\n",
       "</table>"
      ],
      "text/plain": [
       "<IPython.core.display.HTML object>"
      ]
     },
     "metadata": {},
     "output_type": "display_data"
    }
   ],
   "source": [
    "show_random_elements(common_voice_train.remove_columns([\"path\",\"audio\"]))"
   ]
  },
  {
   "cell_type": "markdown",
   "metadata": {
    "id": "jwfaptH5RJwA"
   },
   "source": [
    "Good! This looks better. We have removed most special characters from transcriptions and normalized them to lower-case only.\n",
    "\n",
    "Before finalizing the pre-processing, it is always advantageous to consult a native speaker of the target language to see whether the text can be further simplified. \n",
    "For this blog post, [Merve](https://twitter.com/mervenoyann) was kind enough to take a quick look and noted that \"hatted\" characters - like `â` - aren't really used anymore in Turkish and can be replaced by their \"un-hatted\" equivalent, *e.g.* `a`. \n",
    "\n",
    "This means that we should replace a sentence like `\"yargı sistemi hâlâ sağlıksız\"` to `\"yargı sistemi hala sağlıksız\"`.\n",
    "\n",
    "Let's write another short mapping function to further simplify the text labels. Remember - the simler the text labels, the easier it is for the model to learn to predict those labels.\n",
    "\n"
   ]
  },
  {
   "cell_type": "code",
   "execution_count": 67,
   "metadata": {
    "id": "aZcrz6z7lgGm"
   },
   "outputs": [],
   "source": [
    "def replace_hatted_characters(batch):\n",
    "    batch[\"sentence\"] = re.sub('[â]', 'a', batch[\"sentence\"])\n",
    "    batch[\"sentence\"] = re.sub('[î]', 'i', batch[\"sentence\"])\n",
    "    batch[\"sentence\"] = re.sub('[ô]', 'o', batch[\"sentence\"])\n",
    "    batch[\"sentence\"] = re.sub('[û]', 'u', batch[\"sentence\"])\n",
    "    return batch"
   ]
  },
  {
   "cell_type": "code",
   "execution_count": 68,
   "metadata": {
    "colab": {
     "base_uri": "https://localhost:8080/",
     "height": 81,
     "referenced_widgets": [
      "46280dbecf3a467d9bdd703f8cb38a8e",
      "a3610b6dbb7f4dff933d12b135fe5f7d",
      "b5eb923b90aa40589c40ea03706884a1",
      "50d746f8212140359e1c997586520c28",
      "68fc52ac0e444bd3b2e0cb1460a7a301",
      "47e395f773e04b08bdcb2e2cc7f4d4d3",
      "56eca0e68bfe4d61af2b38d7b5d743f8",
      "ccf733114f814e2bb2a131be50088256",
      "cb2948a221cf4451a40f48c35524e463",
      "1b132af387e84ed9a9c2e822976646ca",
      "cf4fda78e5174589b8de6253dfb12082",
      "c29385d218d9489bb2b72974c85f654d",
      "0e0ca96bb1964380b7cb64fec3c17ddb",
      "0388be544f64425990ae4ad81852f13f",
      "79b9ae97c0404fd1b9dac832e8adf587",
      "5230d221e600472f9a0f10f473ab7281",
      "2aa706b41ba648ccbe3869e35b5b0d48",
      "8ee99d65a9c1490db3c0bddac55d4edf",
      "fd61ae1e9af24b1c9777c543be4f7a77",
      "50a3a591e84f4b3ea1fd7f4c52ea3c4f",
      "cc9e383a0522479e879ef193fd0f6be9",
      "26518ed55eb844749b0878dc4ba5ceef"
     ]
    },
    "id": "ieGhhND5mSwI",
    "outputId": "e1ed196f-ed66-4afa-a3e7-d99fc42d91bc"
   },
   "outputs": [
    {
     "name": "stderr",
     "output_type": "stream",
     "text": [
      "Loading cached processed dataset at /home/yellow/.cache/huggingface/datasets/mozilla-foundation___common_voice/as/7.0.0/33e08856cfa0d0665e837bcad73ffd920a0bc713ce8c5fffb55dbdf1c084d5ba/cache-c2fc5fb3e9d3694c.arrow\n",
      "Loading cached processed dataset at /home/yellow/.cache/huggingface/datasets/mozilla-foundation___common_voice/as/7.0.0/33e08856cfa0d0665e837bcad73ffd920a0bc713ce8c5fffb55dbdf1c084d5ba/cache-97e85de6479edf3f.arrow\n"
     ]
    }
   ],
   "source": [
    "common_voice_train = common_voice_train.map(replace_hatted_characters)\n",
    "common_voice_test = common_voice_test.map(replace_hatted_characters)"
   ]
  },
  {
   "cell_type": "markdown",
   "metadata": {
    "id": "3ORHDb2Th2TW"
   },
   "source": [
    "In CTC, it is common to classify speech chunks into letters, so we will do the same here. \n",
    "Let's extract all distinct letters of the training and test data and build our vocabulary from this set of letters.\n",
    "\n",
    "We write a mapping function that concatenates all transcriptions into one long transcription and then transforms the string into a set of chars. \n",
    "It is important to pass the argument `batched=True` to the `map(...)` function so that the mapping function has access to all transcriptions at once."
   ]
  },
  {
   "cell_type": "code",
   "execution_count": 69,
   "metadata": {
    "id": "LwCshNbbeRZR"
   },
   "outputs": [],
   "source": [
    "def extract_all_chars(batch):\n",
    "  all_text = \" \".join(batch[\"sentence\"])\n",
    "  vocab = list(set(all_text))\n",
    "  return {\"vocab\": [vocab], \"all_text\": [all_text]}"
   ]
  },
  {
   "cell_type": "code",
   "execution_count": 70,
   "metadata": {
    "colab": {
     "base_uri": "https://localhost:8080/",
     "height": 81,
     "referenced_widgets": [
      "4d5048c0d0d942b29a80fa9f9d6ccb99",
      "5c647701de364b05ad0397a01d6611d3",
      "9a2111c0ec204f55b1e2ffc548b3caa3",
      "e66a6dcc8f7c44558d19c8be1483a5a0",
      "7f6b71b2e91a459bb2e3f1c403b596a3",
      "25b412c111284dadac3030a33daa061d",
      "ffaa56d525c44508a3c1f0fe88319698",
      "1dca44977362490597f5d7172e87eec5",
      "8f9e4f89e3804d6ea968ba9478bad2de",
      "db26fa04110b4580be44e103aead0704",
      "7cbe23ba47124b9f839d3ce7687019e8",
      "69ba458376f046fd943e9d994bb758b8",
      "64815d1c48ad4ed3b4042189379b9eaa",
      "4bd93970a21b437daa4a7f57c85c5727",
      "427cf0e5b81a459991d66fa20da844bf",
      "c985e18fc9ba4dc3b46bd042a3221316",
      "1a3779a09cdb49b1a448aad1b782e0cd",
      "cde64a08d3924c78aae246f83a991ccf",
      "189a945811ee4066a639c97a1ad0e1a0",
      "cdb5b32f87f8427dadf9d47aa79c4f69",
      "1aedfb75caf044309fb23e7d5295fdfe",
      "f7dc79bfaba747868a6f73957af003d7"
     ]
    },
    "id": "_m6uUjjcfbjH",
    "outputId": "ca6216d2-dab2-4f33-f635-962efeb71664"
   },
   "outputs": [
    {
     "data": {
      "application/vnd.jupyter.widget-view+json": {
       "model_id": "f42ef03c7f5d455f808cb0a4f264e954",
       "version_major": 2,
       "version_minor": 0
      },
      "text/plain": [
       "  0%|          | 0/1 [00:00<?, ?ba/s]"
      ]
     },
     "metadata": {},
     "output_type": "display_data"
    },
    {
     "data": {
      "application/vnd.jupyter.widget-view+json": {
       "model_id": "54ef76de8d5c48debe7bd891a95e9650",
       "version_major": 2,
       "version_minor": 0
      },
      "text/plain": [
       "  0%|          | 0/1 [00:00<?, ?ba/s]"
      ]
     },
     "metadata": {},
     "output_type": "display_data"
    }
   ],
   "source": [
    "vocab_train = common_voice_train.map(extract_all_chars, batched=True, batch_size=-1, keep_in_memory=True, remove_columns=common_voice_train.column_names)\n",
    "vocab_test = common_voice_test.map(extract_all_chars, batched=True, batch_size=-1, keep_in_memory=True, remove_columns=common_voice_test.column_names)"
   ]
  },
  {
   "cell_type": "markdown",
   "metadata": {
    "id": "7oVgE8RZSJNP"
   },
   "source": [
    "Now, we create the union of all distinct letters in the training dataset and test dataset and convert the resulting list into an enumerated dictionary."
   ]
  },
  {
   "cell_type": "code",
   "execution_count": 71,
   "metadata": {
    "id": "aQfneNsmlJI0"
   },
   "outputs": [],
   "source": [
    "vocab_list = list(set(vocab_train[\"vocab\"][0]) | set(vocab_test[\"vocab\"][0]))"
   ]
  },
  {
   "cell_type": "code",
   "execution_count": 72,
   "metadata": {
    "colab": {
     "base_uri": "https://localhost:8080/"
    },
    "id": "_0kRndSvqaKk",
    "outputId": "aa02d532-6cd8-4fb1-c2d0-68f9a2d51b8e"
   },
   "outputs": [
    {
     "data": {
      "text/plain": [
       "{' ': 0,\n",
       " '।': 1,\n",
       " 'ঁ': 2,\n",
       " 'ং': 3,\n",
       " 'ঃ': 4,\n",
       " 'অ': 5,\n",
       " 'আ': 6,\n",
       " 'ই': 7,\n",
       " 'ঈ': 8,\n",
       " 'উ': 9,\n",
       " 'এ': 10,\n",
       " 'ঐ': 11,\n",
       " 'ও': 12,\n",
       " 'ঔ': 13,\n",
       " 'ক': 14,\n",
       " 'খ': 15,\n",
       " 'গ': 16,\n",
       " 'ঘ': 17,\n",
       " 'ঙ': 18,\n",
       " 'চ': 19,\n",
       " 'ছ': 20,\n",
       " 'জ': 21,\n",
       " 'ঝ': 22,\n",
       " 'ঞ': 23,\n",
       " 'ট': 24,\n",
       " 'ঠ': 25,\n",
       " 'ড': 26,\n",
       " 'ঢ': 27,\n",
       " 'ণ': 28,\n",
       " 'ত': 29,\n",
       " 'থ': 30,\n",
       " 'দ': 31,\n",
       " 'ধ': 32,\n",
       " 'ন': 33,\n",
       " 'প': 34,\n",
       " 'ফ': 35,\n",
       " 'ব': 36,\n",
       " 'ভ': 37,\n",
       " 'ম': 38,\n",
       " 'য': 39,\n",
       " 'র': 40,\n",
       " 'ল': 41,\n",
       " 'শ': 42,\n",
       " 'ষ': 43,\n",
       " 'স': 44,\n",
       " 'হ': 45,\n",
       " '়': 46,\n",
       " 'া': 47,\n",
       " 'ি': 48,\n",
       " 'ী': 49,\n",
       " 'ু': 50,\n",
       " 'ূ': 51,\n",
       " 'ৃ': 52,\n",
       " 'ে': 53,\n",
       " 'ৈ': 54,\n",
       " 'ো': 55,\n",
       " 'ৌ': 56,\n",
       " '্': 57,\n",
       " 'ৎ': 58,\n",
       " 'ড়': 59,\n",
       " 'ঢ়': 60,\n",
       " 'য়': 61,\n",
       " 'ৰ': 62,\n",
       " 'ৱ': 63,\n",
       " '’': 64}"
      ]
     },
     "execution_count": 72,
     "metadata": {},
     "output_type": "execute_result"
    }
   ],
   "source": [
    "vocab_dict = {v: k for k, v in enumerate(sorted(vocab_list))}\n",
    "vocab_dict"
   ]
  },
  {
   "cell_type": "markdown",
   "metadata": {
    "id": "JOSzbvs9SXT1"
   },
   "source": [
    "Cool, we see that all letters of the alphabet occur in the dataset (which is not really surprising) and we also extracted the special characters `\"\"` and `'`. Note that we did not exclude those special characters because: \n",
    "\n",
    "The model has to learn to predict when a word is finished or else the model prediction would always be a sequence of chars which would make it impossible to separate words from each other.\n",
    "\n",
    "One should always keep in mind that pre-processing is a very important step before training your model. E.g., we don't want our model to differentiate between `a` and `A` just because we forgot to normalize the data. The difference between `a` and `A` does not depend on the \"sound\" of the letter at all, but more on grammatical rules - *e.g.* use a capitalized letter at the beginning of the sentence. So it is sensible to remove the difference between capitalized and non-capitalized letters so that the model has an easier time learning to transcribe speech. "
   ]
  },
  {
   "cell_type": "markdown",
   "metadata": {
    "id": "b1fBRCn-TRaO"
   },
   "source": [
    "To make it clearer that `\" \"` has its own token class, we give it a more visible character `|`. In addition, we also add an \"unknown\" token so that the model can later deal with characters not encountered in Common Voice's training set. "
   ]
  },
  {
   "cell_type": "code",
   "execution_count": 73,
   "metadata": {
    "id": "npbIbBoLgaFX"
   },
   "outputs": [],
   "source": [
    "vocab_dict[\"|\"] = vocab_dict[\" \"]\n",
    "del vocab_dict[\" \"]"
   ]
  },
  {
   "cell_type": "markdown",
   "metadata": {
    "id": "_9yCWg4Sd0cb"
   },
   "source": [
    "Finally, we also add a padding token that corresponds to CTC's \"*blank token*\". The \"blank token\" is a core component of the CTC algorithm. For more information, please take a look at the \"Alignment\" section [here](https://distill.pub/2017/ctc/)."
   ]
  },
  {
   "cell_type": "code",
   "execution_count": 74,
   "metadata": {
    "colab": {
     "base_uri": "https://localhost:8080/"
    },
    "id": "znF0bNunsjbl",
    "outputId": "4655023d-47d2-4a41-8eb0-6dc0353c8987"
   },
   "outputs": [
    {
     "data": {
      "text/plain": [
       "67"
      ]
     },
     "execution_count": 74,
     "metadata": {},
     "output_type": "execute_result"
    }
   ],
   "source": [
    "vocab_dict[\"[UNK]\"] = len(vocab_dict)\n",
    "vocab_dict[\"[PAD]\"] = len(vocab_dict)\n",
    "len(vocab_dict)"
   ]
  },
  {
   "cell_type": "markdown",
   "metadata": {
    "id": "SFPGfet8U5sL"
   },
   "source": [
    "Cool, now our vocabulary is complete and consists of 39 tokens, which means that the linear layer that we will add on top of the pretrained XLS-R checkpoint will have an output dimension of 39."
   ]
  },
  {
   "cell_type": "markdown",
   "metadata": {
    "id": "1CujRgBNVRaD"
   },
   "source": [
    "Let's now save the vocabulary as a json file."
   ]
  },
  {
   "cell_type": "code",
   "execution_count": 75,
   "metadata": {
    "id": "ehyUoh9vk191"
   },
   "outputs": [],
   "source": [
    "import json\n",
    "with open('vocab.json', 'w') as vocab_file:\n",
    "    json.dump(vocab_dict, vocab_file)"
   ]
  },
  {
   "cell_type": "markdown",
   "metadata": {
    "id": "SHJDaKlIVVim"
   },
   "source": [
    "In a final step, we use the json file to load the vocabulary into an instance of the `Wav2Vec2CTCTokenizer` class."
   ]
  },
  {
   "cell_type": "code",
   "execution_count": 76,
   "metadata": {
    "colab": {
     "base_uri": "https://localhost:8080/"
    },
    "id": "xriFGEWQkO4M",
    "outputId": "165a4f8c-7eca-4fc2-9cc1-27a9bcfffac1"
   },
   "outputs": [
    {
     "name": "stderr",
     "output_type": "stream",
     "text": [
      "Didn't find file ./tokenizer_config.json. We won't load it.\n",
      "Didn't find file ./added_tokens.json. We won't load it.\n",
      "Didn't find file ./special_tokens_map.json. We won't load it.\n",
      "Didn't find file ./tokenizer.json. We won't load it.\n",
      "loading file ./vocab.json\n",
      "loading file None\n",
      "loading file None\n",
      "loading file None\n",
      "loading file None\n",
      "file ./config.json not found\n",
      "Adding <s> to the vocabulary\n",
      "Adding </s> to the vocabulary\n",
      "Special tokens have been added in the vocabulary, make sure the associated word embeddings are fine-tuned or trained.\n"
     ]
    }
   ],
   "source": [
    "from transformers import Wav2Vec2CTCTokenizer\n",
    "\n",
    "tokenizer = Wav2Vec2CTCTokenizer.from_pretrained(\"./\", unk_token=\"[UNK]\", pad_token=\"[PAD]\", word_delimiter_token=\"|\")"
   ]
  },
  {
   "cell_type": "markdown",
   "metadata": {
    "id": "KvL12DrNV4cx"
   },
   "source": [
    "If one wants to re-use the just created tokenizer with the fine-tuned model of this notebook, it is strongly advised to upload the `tokenizer` to the [🤗 Hub](https://huggingface.co/). Let's call the repo to which we will upload the files\n",
    "`\"wav2vec2-large-xlsr-turkish-demo-colab\"`:"
   ]
  },
  {
   "cell_type": "code",
   "execution_count": 77,
   "metadata": {
    "id": "A1XApZBAF2zr"
   },
   "outputs": [],
   "source": [
    "repo_name = \"wav2vec2-large-xls-r-300m-assamese\""
   ]
  },
  {
   "cell_type": "markdown",
   "metadata": {
    "id": "B1BiezWZF16d"
   },
   "source": [
    "and upload the tokenizer to the [🤗 Hub](https://huggingface.co/)."
   ]
  },
  {
   "cell_type": "code",
   "execution_count": 78,
   "metadata": {
    "colab": {
     "base_uri": "https://localhost:8080/",
     "height": 194
    },
    "id": "zytE1175GAKM",
    "outputId": "d254dad5-4e2b-4bda-ec26-0f83ab907a45"
   },
   "outputs": [
    {
     "name": "stderr",
     "output_type": "stream",
     "text": [
      "tokenizer config file saved in wav2vec2-large-xls-r-300m-assamese/tokenizer_config.json\n",
      "Special tokens file saved in wav2vec2-large-xls-r-300m-assamese/special_tokens_map.json\n",
      "added tokens file saved in wav2vec2-large-xls-r-300m-assamese/added_tokens.json\n"
     ]
    },
    {
     "ename": "OSError",
     "evalue": "On branch main\nYour branch is up to date with 'origin/main'.\n\nnothing to commit, working tree clean\n",
     "output_type": "error",
     "traceback": [
      "\u001b[0;31m---------------------------------------------------------------------------\u001b[0m",
      "\u001b[0;31mCalledProcessError\u001b[0m                        Traceback (most recent call last)",
      "\u001b[0;32m~/anaconda3/envs/joy39/lib/python3.9/site-packages/huggingface_hub/repository.py\u001b[0m in \u001b[0;36mgit_commit\u001b[0;34m(self, commit_message)\u001b[0m\n\u001b[1;32m    925\u001b[0m         \u001b[0;32mtry\u001b[0m\u001b[0;34m:\u001b[0m\u001b[0;34m\u001b[0m\u001b[0;34m\u001b[0m\u001b[0m\n\u001b[0;32m--> 926\u001b[0;31m             result = subprocess.run(\n\u001b[0m\u001b[1;32m    927\u001b[0m                 \u001b[0;34m[\u001b[0m\u001b[0;34m\"git\"\u001b[0m\u001b[0;34m,\u001b[0m \u001b[0;34m\"commit\"\u001b[0m\u001b[0;34m,\u001b[0m \u001b[0;34m\"-m\"\u001b[0m\u001b[0;34m,\u001b[0m \u001b[0mcommit_message\u001b[0m\u001b[0;34m,\u001b[0m \u001b[0;34m\"-v\"\u001b[0m\u001b[0;34m]\u001b[0m\u001b[0;34m,\u001b[0m\u001b[0;34m\u001b[0m\u001b[0;34m\u001b[0m\u001b[0m\n",
      "\u001b[0;32m~/anaconda3/envs/joy39/lib/python3.9/subprocess.py\u001b[0m in \u001b[0;36mrun\u001b[0;34m(input, capture_output, timeout, check, *popenargs, **kwargs)\u001b[0m\n\u001b[1;32m    527\u001b[0m         \u001b[0;32mif\u001b[0m \u001b[0mcheck\u001b[0m \u001b[0;32mand\u001b[0m \u001b[0mretcode\u001b[0m\u001b[0;34m:\u001b[0m\u001b[0;34m\u001b[0m\u001b[0;34m\u001b[0m\u001b[0m\n\u001b[0;32m--> 528\u001b[0;31m             raise CalledProcessError(retcode, process.args,\n\u001b[0m\u001b[1;32m    529\u001b[0m                                      output=stdout, stderr=stderr)\n",
      "\u001b[0;31mCalledProcessError\u001b[0m: Command '['git', 'commit', '-m', 'add tokenizer', '-v']' returned non-zero exit status 1.",
      "\nDuring handling of the above exception, another exception occurred:\n",
      "\u001b[0;31mOSError\u001b[0m                                   Traceback (most recent call last)",
      "\u001b[0;32m/tmp/ipykernel_1965976/1675650834.py\u001b[0m in \u001b[0;36m<module>\u001b[0;34m\u001b[0m\n\u001b[0;32m----> 1\u001b[0;31m \u001b[0mtokenizer\u001b[0m\u001b[0;34m.\u001b[0m\u001b[0mpush_to_hub\u001b[0m\u001b[0;34m(\u001b[0m\u001b[0mrepo_name\u001b[0m\u001b[0;34m)\u001b[0m\u001b[0;34m\u001b[0m\u001b[0;34m\u001b[0m\u001b[0m\n\u001b[0m",
      "\u001b[0;32m~/joydeep/transformers/src/transformers/file_utils.py\u001b[0m in \u001b[0;36mpush_to_hub\u001b[0;34m(self, repo_path_or_name, repo_url, use_temp_dir, commit_message, organization, private, use_auth_token, **model_card_kwargs)\u001b[0m\n\u001b[1;32m   2605\u001b[0m             \u001b[0mself\u001b[0m\u001b[0;34m.\u001b[0m\u001b[0mcreate_model_card\u001b[0m\u001b[0;34m(\u001b[0m\u001b[0;34m**\u001b[0m\u001b[0mbase_model_card_args\u001b[0m\u001b[0;34m)\u001b[0m\u001b[0;34m\u001b[0m\u001b[0;34m\u001b[0m\u001b[0m\n\u001b[1;32m   2606\u001b[0m         \u001b[0;31m# Commit and push!\u001b[0m\u001b[0;34m\u001b[0m\u001b[0;34m\u001b[0m\u001b[0m\n\u001b[0;32m-> 2607\u001b[0;31m         \u001b[0murl\u001b[0m \u001b[0;34m=\u001b[0m \u001b[0mself\u001b[0m\u001b[0;34m.\u001b[0m\u001b[0m_push_to_hub\u001b[0m\u001b[0;34m(\u001b[0m\u001b[0mrepo\u001b[0m\u001b[0;34m,\u001b[0m \u001b[0mcommit_message\u001b[0m\u001b[0;34m=\u001b[0m\u001b[0mcommit_message\u001b[0m\u001b[0;34m)\u001b[0m\u001b[0;34m\u001b[0m\u001b[0;34m\u001b[0m\u001b[0m\n\u001b[0m\u001b[1;32m   2608\u001b[0m \u001b[0;34m\u001b[0m\u001b[0m\n\u001b[1;32m   2609\u001b[0m         \u001b[0;31m# Clean up! Clean up! Everybody everywhere!\u001b[0m\u001b[0;34m\u001b[0m\u001b[0;34m\u001b[0m\u001b[0m\n",
      "\u001b[0;32m~/joydeep/transformers/src/transformers/file_utils.py\u001b[0m in \u001b[0;36m_push_to_hub\u001b[0;34m(cls, repo, commit_message)\u001b[0m\n\u001b[1;32m   2685\u001b[0m                 \u001b[0mcommit_message\u001b[0m \u001b[0;34m=\u001b[0m \u001b[0;34m\"add model\"\u001b[0m\u001b[0;34m\u001b[0m\u001b[0;34m\u001b[0m\u001b[0m\n\u001b[1;32m   2686\u001b[0m \u001b[0;34m\u001b[0m\u001b[0m\n\u001b[0;32m-> 2687\u001b[0;31m         \u001b[0;32mreturn\u001b[0m \u001b[0mrepo\u001b[0m\u001b[0;34m.\u001b[0m\u001b[0mpush_to_hub\u001b[0m\u001b[0;34m(\u001b[0m\u001b[0mcommit_message\u001b[0m\u001b[0;34m=\u001b[0m\u001b[0mcommit_message\u001b[0m\u001b[0;34m)\u001b[0m\u001b[0;34m\u001b[0m\u001b[0;34m\u001b[0m\u001b[0m\n\u001b[0m\u001b[1;32m   2688\u001b[0m \u001b[0;34m\u001b[0m\u001b[0m\n\u001b[1;32m   2689\u001b[0m \u001b[0;34m\u001b[0m\u001b[0m\n",
      "\u001b[0;32m~/anaconda3/envs/joy39/lib/python3.9/site-packages/huggingface_hub/repository.py\u001b[0m in \u001b[0;36mpush_to_hub\u001b[0;34m(self, commit_message, blocking, clean_ok, auto_lfs_prune)\u001b[0m\n\u001b[1;32m   1229\u001b[0m             \u001b[0;32mreturn\u001b[0m \u001b[0;32mNone\u001b[0m\u001b[0;34m\u001b[0m\u001b[0;34m\u001b[0m\u001b[0m\n\u001b[1;32m   1230\u001b[0m         \u001b[0mself\u001b[0m\u001b[0;34m.\u001b[0m\u001b[0mgit_add\u001b[0m\u001b[0;34m(\u001b[0m\u001b[0mauto_lfs_track\u001b[0m\u001b[0;34m=\u001b[0m\u001b[0;32mTrue\u001b[0m\u001b[0;34m)\u001b[0m\u001b[0;34m\u001b[0m\u001b[0;34m\u001b[0m\u001b[0m\n\u001b[0;32m-> 1231\u001b[0;31m         \u001b[0mself\u001b[0m\u001b[0;34m.\u001b[0m\u001b[0mgit_commit\u001b[0m\u001b[0;34m(\u001b[0m\u001b[0mcommit_message\u001b[0m\u001b[0;34m)\u001b[0m\u001b[0;34m\u001b[0m\u001b[0;34m\u001b[0m\u001b[0m\n\u001b[0m\u001b[1;32m   1232\u001b[0m         return self.git_push(\n\u001b[1;32m   1233\u001b[0m             \u001b[0mupstream\u001b[0m\u001b[0;34m=\u001b[0m\u001b[0;34mf\"origin {self.current_branch}\"\u001b[0m\u001b[0;34m,\u001b[0m\u001b[0;34m\u001b[0m\u001b[0;34m\u001b[0m\u001b[0m\n",
      "\u001b[0;32m~/anaconda3/envs/joy39/lib/python3.9/site-packages/huggingface_hub/repository.py\u001b[0m in \u001b[0;36mgit_commit\u001b[0;34m(self, commit_message)\u001b[0m\n\u001b[1;32m    937\u001b[0m                 \u001b[0;32mraise\u001b[0m \u001b[0mEnvironmentError\u001b[0m\u001b[0;34m(\u001b[0m\u001b[0mexc\u001b[0m\u001b[0;34m.\u001b[0m\u001b[0mstderr\u001b[0m\u001b[0;34m)\u001b[0m\u001b[0;34m\u001b[0m\u001b[0;34m\u001b[0m\u001b[0m\n\u001b[1;32m    938\u001b[0m             \u001b[0;32melse\u001b[0m\u001b[0;34m:\u001b[0m\u001b[0;34m\u001b[0m\u001b[0;34m\u001b[0m\u001b[0m\n\u001b[0;32m--> 939\u001b[0;31m                 \u001b[0;32mraise\u001b[0m \u001b[0mEnvironmentError\u001b[0m\u001b[0;34m(\u001b[0m\u001b[0mexc\u001b[0m\u001b[0;34m.\u001b[0m\u001b[0mstdout\u001b[0m\u001b[0;34m)\u001b[0m\u001b[0;34m\u001b[0m\u001b[0;34m\u001b[0m\u001b[0m\n\u001b[0m\u001b[1;32m    940\u001b[0m \u001b[0;34m\u001b[0m\u001b[0m\n\u001b[1;32m    941\u001b[0m     def git_push(\n",
      "\u001b[0;31mOSError\u001b[0m: On branch main\nYour branch is up to date with 'origin/main'.\n\nnothing to commit, working tree clean\n"
     ]
    }
   ],
   "source": [
    "tokenizer.push_to_hub(repo_name)"
   ]
  },
  {
   "cell_type": "markdown",
   "metadata": {
    "id": "SwQM8lH_GGuP"
   },
   "source": [
    "Great, you can see the just created repository under `https://huggingface.co/<your-username>/wav2vec2-large-xls-r-300m-tr-colab`"
   ]
  },
  {
   "cell_type": "markdown",
   "metadata": {
    "id": "mYcIiR2FQ96i"
   },
   "source": [
    "### Create `Wav2Vec2FeatureExtractor`"
   ]
  },
  {
   "cell_type": "markdown",
   "metadata": {
    "id": "Y6mDEyW719rx"
   },
   "source": [
    "Speech is a continuous signal and to be treated by computers, it first has to be discretized, which is usually called **sampling**. The sampling rate hereby plays an important role in that it defines how many data points of the speech signal are measured per second. Therefore, sampling with a higher sampling rate results in a better approximation of the *real* speech signal but also necessitates more values per second.\n",
    "\n",
    "A pretrained checkpoint expects its input data to have been sampled more or less from the same distribution as the data it was trained on. The same speech signals sampled at two different rates have a very different distribution, *e.g.*, doubling the sampling rate results in data points being twice as long. Thus, \n",
    "before fine-tuning a pretrained checkpoint of an ASR model, it is crucial to verify that the sampling rate of the data that was used to pretrain the model matches the sampling rate of the dataset used to fine-tune the model.\n",
    "\n",
    "XLS-R was pretrained on audio data of [Babel](http://www.reading.ac.uk/AcaDepts/ll/speechlab/babel/r), \n",
    "[Multilingual LibriSpeech (MLS)](https://huggingface.co/datasets/multilingual_librispeech), [Common Voice](https://huggingface.co/datasets/common_voice), [VoxPopuli](https://arxiv.org/abs/2101.00390), and [VoxLingua107](https://arxiv.org/abs/2011.12998) at a sampling rate of 16kHz. Common Voice, in its original form, has a sampling rate of 48kHz, thus we will have to downsample the fine-tuning data to 16kHz in the following.\n",
    "\n"
   ]
  },
  {
   "cell_type": "markdown",
   "metadata": {
    "id": "KuUbPW7oV-B5"
   },
   "source": [
    "A `Wav2Vec2FeatureExtractor` object requires the following parameters to be instantiated:\n",
    "\n",
    "- `feature_size`: Speech models take a sequence of feature vectors as an input. While the length of this sequence obviously varies, the feature size should not. In the case of Wav2Vec2, the feature size is 1 because the model was trained on the raw speech signal ${}^2$.\n",
    "- `sampling_rate`: The sampling rate at which the model is trained on.\n",
    "- `padding_value`: For batched inference, shorter inputs need to be padded with a specific value\n",
    "- `do_normalize`: Whether the input should be *zero-mean-unit-variance* normalized or not. Usually, speech models perform better when normalizing the input\n",
    "- `return_attention_mask`: Whether the model should make use of an `attention_mask` for batched inference. In general, XLS-R models checkpoints should **always** use the `attention_mask`."
   ]
  },
  {
   "cell_type": "code",
   "execution_count": 79,
   "metadata": {
    "id": "kAR0-2KLkopp"
   },
   "outputs": [],
   "source": [
    "from transformers import Wav2Vec2FeatureExtractor\n",
    "\n",
    "feature_extractor = Wav2Vec2FeatureExtractor(feature_size=1, sampling_rate=16000, padding_value=0.0, do_normalize=True, return_attention_mask=True)"
   ]
  },
  {
   "cell_type": "markdown",
   "metadata": {
    "id": "qUETetgqYC3W"
   },
   "source": [
    "Great, XLS-R's feature extraction pipeline is thereby fully defined!\n",
    "\n",
    "For improved user-friendliness, the feature extractor and tokenizer are *wrapped* into a single `Wav2Vec2Processor` class so that one only needs a `model` and `processor` object."
   ]
  },
  {
   "cell_type": "code",
   "execution_count": 80,
   "metadata": {
    "id": "KYZtoW-tlZgl"
   },
   "outputs": [],
   "source": [
    "from transformers import Wav2Vec2Processor\n",
    "\n",
    "processor = Wav2Vec2Processor(feature_extractor=feature_extractor, tokenizer=tokenizer)"
   ]
  },
  {
   "cell_type": "markdown",
   "metadata": {
    "id": "DrKnYuvDIoOO"
   },
   "source": [
    "Next, we can prepare the dataset."
   ]
  },
  {
   "cell_type": "markdown",
   "metadata": {
    "id": "YFmShnl7RE35"
   },
   "source": [
    "### Preprocess Data\n",
    "\n",
    "So far, we have not looked at the actual values of the speech signal but just the transcription. In addition to `sentence`, our datasets include two more column names `path` and `audio`. `path` states the absolute path of the audio file. Let's take a look.\n"
   ]
  },
  {
   "cell_type": "code",
   "execution_count": 81,
   "metadata": {
    "colab": {
     "base_uri": "https://localhost:8080/",
     "height": 53
    },
    "id": "TTCS7W6XJ9BG",
    "outputId": "84bdee3c-6c78-4679-b651-5d8efffdfd13"
   },
   "outputs": [
    {
     "data": {
      "text/plain": [
       "'cv-corpus-7.0-2021-07-21/as/clips/common_voice_as_22015893.mp3'"
      ]
     },
     "execution_count": 81,
     "metadata": {},
     "output_type": "execute_result"
    }
   ],
   "source": [
    "common_voice_train[0][\"path\"]"
   ]
  },
  {
   "cell_type": "markdown",
   "metadata": {
    "id": "T6ndIjHGFp0W"
   },
   "source": [
    "XLS-R expects the input in the format of a 1-dimensional array of 16 kHz. This means that the audio file has to be loaded and resampled.\n",
    "\n",
    " Thankfully, `datasets` does this automatically by calling the other column `audio`. Let try it out. "
   ]
  },
  {
   "cell_type": "code",
   "execution_count": 82,
   "metadata": {
    "colab": {
     "base_uri": "https://localhost:8080/"
    },
    "id": "qj_z5Zc3GAs9",
    "outputId": "b63c0c63-533a-4eb5-d85a-90f343a657b4"
   },
   "outputs": [
    {
     "data": {
      "text/plain": [
       "{'path': 'cv-corpus-7.0-2021-07-21/as/clips/common_voice_as_22015893.mp3',\n",
       " 'array': array([ 0.0000000e+00,  0.0000000e+00,  0.0000000e+00, ...,\n",
       "        -1.7881393e-06,  5.9604645e-08, -4.1723251e-07], dtype=float32),\n",
       " 'sampling_rate': 48000}"
      ]
     },
     "execution_count": 82,
     "metadata": {},
     "output_type": "execute_result"
    }
   ],
   "source": [
    "common_voice_train[0][\"audio\"]"
   ]
  },
  {
   "cell_type": "markdown",
   "metadata": {
    "id": "WUUTgI1bGHW-"
   },
   "source": [
    "Great, we can see that the audio file has automatically been loaded. This is thanks to the new [`\"Audio\"` feature](https://huggingface.co/docs/datasets/package_reference/main_classes.html?highlight=audio#datasets.Audio) introduced in `datasets == 4.13.3`, which loads and resamples audio files on-the-fly upon calling.\n",
    "\n",
    "In the example above we can see that the audio data is loaded with a sampling rate of 48kHz whereas 16kHz are expected by the model. We can set the audio feature to the correct sampling rate by making use of [`cast_column`](https://huggingface.co/docs/datasets/package_reference/main_classes.html?highlight=cast_column#datasets.DatasetDict.cast_column):"
   ]
  },
  {
   "cell_type": "code",
   "execution_count": 83,
   "metadata": {
    "id": "rrv65aj7G95i"
   },
   "outputs": [],
   "source": [
    "common_voice_train = common_voice_train.cast_column(\"audio\", Audio(sampling_rate=16_000))\n",
    "common_voice_test = common_voice_test.cast_column(\"audio\", Audio(sampling_rate=16_000))"
   ]
  },
  {
   "cell_type": "markdown",
   "metadata": {
    "id": "PcnO4x-NGBEi"
   },
   "source": [
    "Let's take a look at `\"audio\"` again."
   ]
  },
  {
   "cell_type": "code",
   "execution_count": 84,
   "metadata": {
    "colab": {
     "base_uri": "https://localhost:8080/"
    },
    "id": "aKtkc1o_HWHC",
    "outputId": "28562f42-10d2-4f26-d989-923740a7ba4c"
   },
   "outputs": [
    {
     "data": {
      "text/plain": [
       "{'path': 'cv-corpus-7.0-2021-07-21/as/clips/common_voice_as_22015893.mp3',\n",
       " 'array': array([ 0.0000000e+00,  0.0000000e+00,  0.0000000e+00, ...,\n",
       "        -2.8260251e-07, -2.3280159e-06,  3.3119804e-08], dtype=float32),\n",
       " 'sampling_rate': 16000}"
      ]
     },
     "execution_count": 84,
     "metadata": {},
     "output_type": "execute_result"
    }
   ],
   "source": [
    "common_voice_train[0][\"audio\"]"
   ]
  },
  {
   "cell_type": "markdown",
   "metadata": {
    "id": "SOckzFd4Mbzq"
   },
   "source": [
    "This seemed to have worked! Let's listen to a couple of audio files to better understand the dataset and verify that the audio was correctly loaded. \n",
    "\n",
    "**Note**: *You can click the following cell a couple of times to listen to different speech samples.*"
   ]
  },
  {
   "cell_type": "code",
   "execution_count": 85,
   "metadata": {
    "colab": {
     "base_uri": "https://localhost:8080/",
     "height": 93
    },
    "id": "dueM6U7Ev0OA",
    "outputId": "c978fe77-3d1b-4841-d3b8-043e028eedc4"
   },
   "outputs": [
    {
     "name": "stdout",
     "output_type": "stream",
     "text": [
      "সুস্থ শৰীৰতহে মন সবল থাকে আৰু মন সবল থাকিলে অধ্যয়নত মনোযোগ দিব পৰা যায়।\n"
     ]
    },
    {
     "data": {
      "text/html": [
       "\n",
       "                <audio  controls=\"controls\" autoplay=\"autoplay\">\n",
       "                    <source src=\"data:audio/wav;base64,UklGRiRCAwBXQVZFZm10IBAAAAABAAEAgD4AAAB9AAACABAAZGF0YQBCAwAAAAAAAAAAAAAAAAAAAAAAAAAAAAAAAAAAAAAAAAAAAAAAAAAAAAAAAAAAAAAAAAAAAAAAAAAAAAAAAAAAAAAAAAAAAAAAAAAAAAAAAAAAAAAAAAAAAAAAAAAAAAAAAAAAAAAAAAAAAAAAAAAAAAAAAAAAAAAAAAAAAAAAAAAAAAAAAAAAAAAAAAAAAAAAAAAAAAAAAAAAAAAAAAAAAAAAAAAAAAAAAAAAAAAAAAAAAAAAAAAAAAAAAAAAAAAAAAAAAAAAAAAAAAAAAAAAAAAAAAAAAAAAAAAAAAAAAAAAAAAAAAAAAAAAAAAAAAAAAAAAAAAAAAAAAAAAAAAAAAAAAAAAAAAAAAAAAAAAAAAAAAAAAAAAAAAAAAAAAAAAAAAAAAAAAAAAAAAAAAAAAAAAAAAAAAAAAAAAAAAAAAAAAAAAAAAAAAAAAAAAAAAAAAAAAAAAAAAAAAAAAAAAAAAAAAAAAAAAAAAAAAAAAAAAAAAAAAAAAAAAAAAAAAAAAAAAAAAAAAAAAAAAAAAAAAAAAAAAAAAAAAAAAAAAAAAAAAAAAAAAAAAAAAAAAAAAAAAAAAAAAAAAAAAAAAAAAAAAAAAAAAAAAAAAAAAAAAAAAAAAAAAAAAAAAAAAAAAAAAAAAAAAAAAAAAAAAAAAAAAAAAAAAAAAAAAAAAAAAAAAAAAAAAAAAAAAAAAAAAAAAAAAAAAAAAAAAAAAAAAAAAAAAAAAAAAAAAAAAAAAAAAAAAAAAAAAAAAAAAAAAAAAAAAAAAAAAAAAAAAAAAAAAAAAAAAAAAAAAAAAAAAAAAAAAAAAAAAAAAAAAAAAAAAAAAAAAAAAAAAAAAAAAAAAAAAAAAAAAAAAAAAAAAAAAAAAAAAAAAAAAAAAAAAAAAAAAAAAAAAAAAAAAAAAAAAAAAAAAAAAAAAAAAAAAAAAAAAAAAAAAAAAAAAAAAAAAAAAAAAAAAAAAAAAAAAAAAAAAAAAAAAAAAAAAAAAAAAAAAAAAAAAAAAAAAAAAAAAAAAAAAAAAAAAAAAAAAAAAAAAAAAAAAAAAAAAAAAAAAAAAAAAAAAAAAAAAAAAAAAAAAAAAAAAAAAAAAAAAAAAAAAAAAAAAAAAAAAAAAAAAAAAAAAAAAAAAAAAAAAAAAAAAAAAAAAAAAAAAAAAAAAAAAAAAAAAAAAAAAAAAAAAAAAAAAAAAAAAAAAAAAAAAAAAAAAAAAAAAAAAAAAAAAAAAAAAAAAAAAAAAAAAAAAAAAAAAAAAAAAAAAAAAAAAAAAAAAAAAAAAAAAAAAAAAAAAAAAAAAAAAAAAAAAAAAAAAAAAAAAAAAAAAAAAAAAAAAAAAAAAAAAAAAAAAAAAAAAAAAAAAAAAAAAAAAAAAAAAAAAAAAAAAAAAAAAAAAAAAAAAAAAAAAAAAAAAAAAAAAAAAAAAAAAAAAAAAAAAAAAAAAAAAAAAAAAAAAAAAAAAAAAAAAAAAAAAAAAAAAAAAAAAAAAAAAAAAAAAAAAAAAAAAAAAAAAAAAAAAAAAAAAAAAAAAAAAAAAAAAAAAAAAAAAAAAAAAAAAAAAAAAAAAAAAAAAAAAAAAAAAAAAAAAAAAAAAAAAAAAAAAAAAAAAAAAAAAAAAAAAAAAAAAAAAAAAAAAAAAAAAAAAAAAAAAAAAAAAAAAAAAAAAAAAAAAAAAAAAAAAAAAAAAAAAAAAAAAAAAAAAAAAAAAAAAAAAAAAAAAAAAAAAAAAAAAAAAAAAAAAAAAAAAAAAAAAAAAAAAAAAAAAAAAAAAAAAAAAAAAAAAAAAAAAAAAAAAAAAAAAAAAAAAAAAAAAAAAAAAAAAAAAAAAAAAAAAAAAAAAAAAAAAAAAAAAAAAAAAAAAAAAAAAAAAAAAAAAAAAAAAAAAAAAAAAAAAAAAAAAAAAAAAAAAAAAAAAAAAAAAAAAAAAAAAAAAAAAAAAAAAAAAAAAAAAAAAAAAAAAAAAAAAAAAAAAAAAAAAAAAAAAAAAAAAAAAAAAAAAAAAAAAAAAAAAAAAAAAAAAAAAAAAAAAAAAAAAAAAAAAAAAAAAAAAAAAAAAAAAAAAAAAAAAAAAAAAAAAAAAAAAAAAAAAAAAAAAAAAAAAAAAAAAAAAAAAAAAAAAAAAAAAAAAAAAAAAAAAAAAAAAAAAAAAAAAAAAAAAAAAAAAAAAAAAAAAAAAAAAAAAAAAAAAAAAAAAAAAAAAAAAAAAAAAAAAAAAAAAAAAAAAAAAAAAAAAAAAAAAAAAAAAAAAAAAAAAAAAAAAAAAAAAAAAAAAAAAAAAAAAAAAAAAAAAAAAAAAAAAAAAAAAAAAAAAAAAAAAAAAAAAAAAAAAAAAAAAAAAAAAAAAAAAAAAAAAAAAAAAAAAAAAAAAAAAAAAAAAAAAAAAAAAAAAAAAAAAAAAAAAAAAAAAAAAAAAAAAAAAAAAAAAAAAAAAAAAAAAAAAAAAAAAAAAAAAAAAAAAAAAAAAAAAAAAAAAAAAAAAAAAAAAAAAAAAAAAAAAAAAAAAAAAAAAAAAAAAAAAAAAAAAAAAAAAAAAAAAAAAAAAAAAAAAAAAAAAAAAAAAAAAAAAAAAAAAAAAAAAAAAAAAAAAAAAAAAAAAAAAAAAAAAAAAAAAAAAAAAAAAAAAAAAAAAAAAAAAAAAAAAAAAAAAAAAAAAAAAAAAAAAAAAAAAAAAAAAAAAAAAAAAAAAAAAAAAAAAAAAAAAAAAAAAAAAAAAAAAAAAAAAAAAAAAAAAAAAAAAAAAAAAAAAAAAAAAAAAAAAAAAAAAAAAAAAAAAAAAAAAAAAAAAAAAAAAAAAAAAAAAAAAAAAAAAAAAAAAAAAAAAAAAAAAAAAAAAAAAAAAAAAAAAAAAAAAAAAAAAAAAAAAAAAAAAAAAAAAAAAAAAAAAAAAAAAAAAAAAAAAAAAAAAAAAAAAAAAAAAAAAAAAAAAAAAAAAAAAAAAAAAAAAAAAAAAAAAAAAAAAAAAAAAAAAAAAAAAAAAAAAAAAAAAAAAAAAAAAAAAAAAAAAAAAAAAAAAAAAAAAAAAAAAAAAAAAAAAAAAAAAAAAAAAAAAAAAAAAAAAAAAAAAAAAAAAAAAAAAAAAAAAAAAAAAAAAAAAAAAAAAAAAAAAAAAAAAAAAAAAAAAAAAAAAAAAAAAAAAAAAAAAAAAAAAAAAAAAAAAAAAAAAAAAAAAAAAAAAAAAAAAAAAAAAAAAAAAAAAAAAAAAAAAAAAAAAAAAAAAAAAAAAAAAAAAAAAAAAAAAAAAAAAAAAAAAAAAAAAAAAAAAAAAAAAAAAAAAAAAAAAAAAAAAAAAAAAAAAAAAAAAAAAAAAAAAAAAAAAAAAAAAAAAAAAAAAAAAAAAAAAAAAAAAAAAAAAAAAAAAAAAAAAAAAAAAAAAAAAAAAAAAAAAAAAAAAAAAAAAAAAAAAAAAAAAAAAAAAAAAAAAAAAAAAAAAAAAAAAAAAAAAAAAAAAAAAAAAAAAAAAAAAAAAAAAAAAAAAAAAAAAAAAAAAAAAAAAAAAAAAAAAAAAAAAAAAAAAAAAAAAAAAAAAAAAAAAAAAAAAAAAAAAAAAAAAAAAAAAAAAAAAAAAAAAAAAAAAAAAAAAAAAAAAAAAAAAAAAAAAAAAAAAAAAAAAAAAAAAAAAAAAAAAAAAAAAAAAAAAAAAAAAAAAAAAAAAAAAAAAAAAAAAAAAAAAAAAAAAAAAAAAAAAAAAAAAAAAAAAAAAAAAAAAAAAAAAAAAAAAAAAAAAAAAAAAAAAAAAAAAAAAAAAAAAAAAAAAAAAAAAAAAAAAAAAAAAAAAAAAAAAAAAAAAAAAAAAAAAAAAAAAAAAAAAAAAAAAAAAAAAAAAAAAAAAAAAAAAAAAAAAAAAAAAAAAAAAAAAAAAAAAAAAAAAAAAAAAAAAAAAAAAAAAAAAAAAAAAAAAAAAAAAAAAAAAAAAAAAAAAAAAAAAAAAAAAAAAAAAAAAAAAAAAAAAAAAAAAAAAAAAAAAAAAAAAAAAAAAAAAAAAAAAAAAAAAAAAAAAAAAAAAAAAAAAAAAAAAAAAAAAAAAAAAAAAAAAAAAAAAAAAAAAAAAAAAAAAAAAAAAAAAAAAAAAAAAAAAAAAAAAAAAAAAAAAAAAAAAAAAAAAAAAAAAAAAAAAAAAAAAAAAAAAAAAAAAAAAAAAAAAAAAAAAAAAAAAAAAAAAAAAAAAAAAAAAAAAAAAAAAAAAAAAAAAAAAAAAAAAAAAAAAAAAAAAAAAAAAAAAAAAAAAAAAAAAAAAAAAAAAAAAAAAAAAAAAAAAAAAAAAAAAAAAAAAAAAAAAAAAAAAAAAAAAAAAAAAAAAAAAAAAAAAAAAAAAAAAAAAAAAAAAAAAAAAAAAAAAAAAAAAAAAAAAAAAAAAAAAAAAAAAAAAAAAAAAAAAAAAAAAAAAAAAAAAAAAAAAAAAAAAAAAAAAAAAAAAAAAAAAAAAAAAAAAAAAAAAAAAAAAAAAAAAAAAAAAAAAAAAAAAAAAAAAAAAAAAAAAAAAAAAAAAAAAAAAAAAAAAAAAAAAAAAAAAAAAAAAAAAAAAAAAAAAAAAAAAAAAAAAAAAAAAAAAAAAAAAAAAAAAAAAAAAAAAAAAAAAAAAAAAAAAAAAAAAAAAAAAAAAAAAAAAAAAAAAAAAAAAAAAAAAAAAAAAAAAAAAAAAAAAAAAAAAAAAAAAAAAAAAAAAAAAAAAAAAAAAAAAAAAAAAAAAAAAAAAAAAAAAAAAAAAAAAAAAAAAAAAAAAAAAAAAAAAAAAAAAAAAAAAAAAAAAAAAAAAAAAAAAAAAAAAAAAAAAAAAAAAAAAAAAAAAAAAAAAAAAAAAAAAAAAAAAAAAAAAAAAAAAAAAAAAAAAAAAAAAAAAAAAAAAAAAAAAAAAAAAAAAAAAAAAAAAAAAAAAAAAAAAAAAAAAAAAAAAAAAAAAAAAAAAAAAAAAAAAAAAAAAAAAAAAAAAAAAAAAAAAAAAAAAAAAAAAAAAAAAAAAAAAAAAAAAAAAAAAAAAAAAAAAAAAAAAAAAAAAAAAAAAAAAAAAAAAAAAAAAAAAAAAAAAAAAAAAAAAAAAAAAAAAAAAAAAAAAAAAAAAAAAAAAAAAAAAAAAAAAAAAAAAAAAAAAAAAAAAAAAAAAAAAAAAAAAAAAAAAAAAAAAAAAAAAAAAAAAAAAAAAAAAAAAAAAAAAAAAAAAAAAAAAAAAAAAAAAAAAAAAAAAAAAAAAAAAAAAAAAAAAAAAAAAAAAAAAAAAAAAAAAAAAAAAAAAAAAAAAAAAAAAAAAAAAAAAAAAAAAAAAAAAAAAAAAAAAAAAAAAAAAAAAAAAAAAAAAAAAAAAAAAAAAAAAAAAAAAAAAAAAAAAAAAAAAAAAAAAAAAAAAAAAAAAAAAAAAAAAAAAAAAAAAAAAAAAAAAAAAAAAAAAAAAAAAAAAAAAAAAAAAAAAAAAAAAAAAAAAAAAAAAAAAAAAAAAAAAAAAAAAAAAAAAAAAAAAAAAAAAAAAAAAAAAAAAAAAAAAAAAAAAAAAAAAAAAAAAAAAAAAAAAAAAAAAAAAAAAAAAAAAAAAAAAAAAAAAAAAAAAAAAAAAAAAAAAAAAAAAAAAAAAAAAAAAAAAAAAAAAAAAAAAAAAAAAAAAAAAAAAAAAAAAAAAAAAAAAAAAAAAAAAAAAAAAAAAAAAAAAAAAAAAAAAAAAAAAAAAAAAAAAAAAAAAAAAAAAAAAAAAAAAAAAAAAAAAAAAAAAAAAAAAAAAAAAAAAAAAAAAAAAAAAAAAAAAAAAAAAAAAAAAAAAAAAAAAAAAAAAAAAAAAAAAAAAAAAAAAAAAAAAAAAAAAAAAAAAAAAAAAAAAAAAAAAAAAAAAAAAAAAAAAAAAAAAAAAAAAAAAAAAAAAAAAAAAAAAAAAAAAAAAAAAAAAAAAAAAAAAAAAAAAAAAAAAAAAAAAAAAAAAAAAAAAAAAAAAAAAAAAAAAAAAP//AAAGAAcAAAD//wIABAD+//X/9P///w0AEAAHAPn/8v/4/wAAAgAFAAgACAAAAPr/+//+//z/+//+/wMACQAHAAEA/v/+/wAA/f/5//3/BgALAAQA+//5/wAACQALAAIA+v/6//z//f///wIAAgD+/wAACAAMAAgA+//t/+n/8P8DABgAHAARAAMA9P/p/+r//P8SABsADgD8//j/+P/z//j/BQAPABQAAwDt/+n/8/8AAAYADgAWAA4AAADx/+r/7//5/wMAEQATAAkAAAD1//D/9v8AAAEA9v/1/wcAEQAOAAAA8f/5/wMAAQD+//H/7v/+/wcABwAJAAYAAgD///b/7//0//v/AQAOABIAAQD1//T//P8OABIABAD4//b//v8CAAAAAAANABcACwD8//T/7v/v//7/CQATABoADwD3/+L/6v8JABoAEwALAAoA/v/p/+D/7v8KAB8AEgD4/+X/6/8IABIACAD8//z/EwAZAPv/2f/c/wMAGgAVAAAA/v8VABgA///t/+7/AAATAA8A///1//T/9v/9////+v8GABIADgD+//L/AAATABEA/f/2//3/CwAQAP3/6P/p//v/BQAHAAMA/v8LABMAAADi/+L/AgAbABEA+f/t//z/EAAJAPb/6f/3/wgAAQD6//T/AwAaABIAAQDx//b/CQAEAPb/7v/y////AgAAAAEACAALAP7/8/8BAAkA/f/q/+X//f8VAA4A8//m/+//AwAPAA4ABwADAPv/8P/3/wAABQACAPr//v8FAAYA9v/m/+3///8YAB8ADQACAAAAAQAHAAMA+//7//3/BQAMAAgA/f/z////CwAJAPz/7//9/w0AEQAVAAYAAQAAAOb//v8TAP7/DQD8/+j/EQABAPT/DgD6//z/CgD0//7/DgANABUAAwDo/+f/+f8IAAsADgAQAAsAAgDu/+f/CwAkABkAEQD+/+3/8P/r//X/DwAdAA4A8f/i/+P/9/8OABQAFgANAPL/4v/q//3/EgAWAAQA9f/v/+b/4////x0AKAAZAPb/5f/u//z/AAAFABQAGAAFAOn/1P/h/wIAEwAYAAwA/f/+//f/8//9/woAFgANAP7/9P/x//b/8v/o//b/DAAVABUAAgD2////CQATAAoA+//z//D/+P/5//f/AQAFAAEA+//y////EQAIAPz/+P8AABgAFgD2/+D/4f/1/wgABwAAAAAACAAHAPf/7f/3/woAGwAbAAoA+v/4//f/9f/0//L/+/8IABEADgAAAPH/6//3/wwAHQAeAAsA+v/2//T/8f/4/wgAFwASAPv/8P8EABwAFAD///P/+P8OABAA9//p/+//AAAVABMAAQDw/+f/9P8KABsAGwATABIABQD1/+f/3v/5/xoAEQDw/9v/6v8UACgADgDj/9v//P8ZACAADQD4/wEACQDz/9v/0v/n/xQAKgAYAPv/7P/y////CQALAAgABgD8/+//8//+/wQACQD6/+X/7f/+/wwAEQAGAAMACwAMAAAA8f/t//H/+f8BAAAAAQAMAAoA///+/////P8AAAIABQASABMAAgD5//P/7f/2//v/+f8EAAcABAAFAPz/8//5//7/AgALAA4ABwD4/+j/5v/5/xEAFwACAOn/5v/3/wcACAADABEAHwATAO7/yv/O////IQAaAP7/5f/x/wUAAADy//H/DgAtACcAAwDh/+D//P8WACUAHgAIAPT/4//n//X///8NACAAMQAnAPb/0P/S//P/IQA0ACQACgDo/9b/4f/5/xQAJgAkAA0A8f/h/+D/+v8gADUAKgADANn/0v/m//b/BAAPACAAJgARAO//zP/L//P/HQAxAB4A+P/j/93/5f/6/wcADQAKAAMA/P/0//j/AQAPABAA/v/t/+b/6v/+/wEA9f/z//3/GwAqAAwA7v/W/9z/AwAeAB8ADAD6//z/AAD0/9//2f/3/yMAMwAfAPv/5//q//X/AQAFAAcACgADAAAABAABAPv/9//5/wIA///x//f/DQAdABYA///t/+j/5v/n/+//BAAhACgACgDi/9T/3v/y//7/CgAlACMA+//V/9T///8rACcA/f/k/+3/AAAAAPP/9P8OACoAFgDs/9v/5v8DABAACgANABsAJgATAOP/w//S/woAPwA+ABgA7v/Z/+7/CQANAAQA/v8EABAADAD+//X/+P8EAAwAEQAQAAQA/P/2//X/AgAYAB4ACwD0/+b/8P8JAB0AGgANAAMA+P/s/+T/9f8PABQA///p/+//BgARAAEA6v/v/wsAGAAPAAAA7//r/+z/9v8EAA8AFgAFAO3/5v/n//j/CgASABYADQD5/+X/3v/w/w0AGQAMAPv/8//1//z/AAABAA0AFAAEAO//6f/7/wsACQACAAIABAAFAPv/6//v/wIAHAAgABQACAD3/+P/1v/c/wAALAA6ACUA///a/8j/zv/3/yUAOAAuAAYA4f/V/9v/8f8DAA8AGAAPAP7/8//r/+7//v8UAB0ADQD3/+L/3//0/wwAHAAWAAQA+P/n/9v/6P8HACkALQALAOj/4f/3/wkABQD6//T//f8IAAQA/f8AAAsAFgAOAPb/7v/5/wsAFAAGAP3/BQAUABQABAD3//P/9/8AAA8AHwAlABcA/v/m/9j/3//0/xEAKAAjABIA/v/s/+H/4P/1/xcALAAhAPr/3f/j/wAAFgASAAAA+f/4//f/9//9/wkAEwAKAPf/7f/v//n//f/+/wcAFQAZAAkA8v/g/+H/6//0/wcAHgAlAA4A6P/T/+H/AgAXABIAAADx//X/BQAKAAEA+f/4////AwD8//f/+f8CABMAGQAPAAEA9P/s/+z/9/8PAB4AGgAGAPD/6f/w//v/AAAAAAAACAAWABkAAADf/9f/8P8QABwACwD5//v/BAD8/+r/6/8JAC4AKgD6/87/zv/1/xoAIQAQAAIA/f/9/+//2//h/wcAMwA0AAUA2P/M/+f/DQAeABoACgD3/+7/5//r/wEAGAAhABQA9f/f/+j/BAAeACYAEADz//D//f8EAP//+v8JACAAGwAAAOP/5P8BABIAFQAMAAMACgAMAP7/5//e//X/FwAoABoA/P/q/+7/9v/+/wAACgAdACAACQDo/9j/7v8RACEAEAD5//f/AAD6/+3/7f8CABkAFQD+/+j/6P/+/wsABAD0//D/AAANAAcA+f/w//P///8JAAoABAAAAPz/9P/v//H/AgAYABoAAgDj/+L//f8MAAoABQAFAAkA///p/97/9P8eADUAIwD9/9v/2v/y/wgAEgATABEACAD7/+v/4f/s/wkAHwAXAAAA8v/x//j//f/9/wAACgAMAPv/6f/v////CAAJAAkACgABAPn/8v/p//L/AwAMABAAEAAJAPz/7P/h/+P//f8bACIAFgAAAO7/7P/1//r///8HABYAGgACAOr/6/8CACAAJAANAPP/6P/r/+3/AAAgAC4AKQAKAN//yv/Y//7/HgAuACsAEgD2/+r/7f/v//X/CwAdABQAAAD2//r////9//n///8RABkAAwDr/+v/AgAYABMA+v/p/+7/BgAUAAcA8P/n//j/EAAWAAIA6f/q//3/BQD///v/AgACAP3/8P/r//7/DQAKAP7/9P///wsAAwD7//b/+/8GAAUA+P/3/wQAAwD0/+7///8TABMA/f/l/+j///8JAAQA//8AAAMAAQD5//X/AAAOAA4AAADz//b/AgANAAsAAgD+//7////4/+//9/8PACsAKQABANn/1f/r/wIADwANAA0AEAAEAPL/4//o/wMAGQAXAAAA5v/u/wwAGwAQAPj/5//w//7/AgAAAPr/AgAPAA8ABQD2/+//+f8GAAwABQD//wAABgAHAPz/8v/3/wgAFAAPAAQA/P/3//z/CwAQAA0A/v/r/+n/8P8AABAAFgAWAAkA8f/h/+7/AwAPABAACgAIAAoA///z//L/9/8CAAoADAAPAA4ABQD9//H/7v/8/wwAEgAIAPz/8//w//r/BwAMAAMA+v/2//f//f8IABIAEwAHAPf/5//h/+3/BAAXAB4AEgD+/+z/3f/d//f/EgAhABkA/v/o/+f/+P8DAAEAAAAAAAAA/v/z/+//AAAQABAAAQDp/+D/8P8JABoAEgADAPn/6//f/+j/AgAWABwAFAAEAPz/9f/v//f/CgAgACIACADl/9///f8dABwAAADv//f/BAAHAPz//f8RABkACwDw/9n/4f///xMAGgAUAAsABAD1/+b/6P/6/xUAJgAcAAAA5//i//X/CQAKAAQACAAMAAcA9v/u//r/CAAUABUABQD1/+j/5v/4/woAFgAgABgAAADq/9//4//3/xAAIQAiAA0A8v/j/9//6v8AABUAHQATAAAA8v/s//L/AAAMAAoA/v/v/+3/9/8HABgAHAAPAPn/5f/h/+//AAASACMAHwAIAOv/1P/Y//b/FwAoAB8AAQDu/+//+f8AAP3//P8DAAoACwAGAAAA+//4//T/9//+/wEAAgD8//f//f8GAAQA9v/p/+//AwAPAAwABwADAAEA9//k/+T/+/8YACIAEAD4/+r/8P/9/wUAAgD//wIABQAHAAAA9v/4/wMACwAFAPf/8P/8/xIAHQAUAAAA7//q//D///8KAA4ACwAHAAAA+//9//z//P8EAAkADwALAPz/8P/z//7/CAASAA0A/P/u//L/AwAPAA8AAQD5//3/+f/t/+v/+P8OABwAFAAAAPT/+f8AAAAAAQAKABIADAD///j/9//9////AQAKAAkA/f/u/+///v8GAAEA/P/8/wAA/f/t/+r///8XABwABADr/+f/9v8DAAEABAARABcABwDv/+X/8/8LABYADgAEAP3/9v/6/wAA/v///wYAFwAcAAYA7f/t//7/BwAIAP///v8EAAcA/v/u//b/CgAXAAkA7v/l//j/EAANAPn/9P8BAAgA+//r/+3//v8JAAwACQACAAAA9f/g/9j/5f8KACgAJwARAPf/7f/v//L/+v8KABoAGAAHAPT/8v/+/wUABgD///n/AAAHAAQAAwABAAYACgD///H/7f/0/wEADAAQABEABgD3//P/8//2//r///8LABEABQD+//b/8v/8/wMABwAJAAcABgAAAPH/7/8CABQAFwANAAUA///0/+z/7f///xMAGwARAAEA8v/m//D//P8GABMAFAARAAkA/f/7/wAAAgD9//X/8/8AAA0ADgAGAPr/8//1//f/9f/v//L/BgAYABEAAAD0//H/9//5//X//f8PABcAFAAIAPb/8v/9/wYABwAAAPv/AAAFAAYABAD+//b/8f/3/wYADAAFAAcADQALAAMA9v/2/wYADwAKAPz/7v/x////CAAMAAYAAAD+//H/5f/n//H/AgAQABIADQD//+z/5f/q//v/DAAOAAwADAADAP3/+//8/wAA/f/5//z///8EAAUAAgAAAPv/8v/x//b//v8FAAwACwAIAAcACQABAPH/7f/6/wwAFQAPAAcACQAIAP//8//t//X/BgAKAAEA9v/w//v/CgAMAAIA9f/p/+r/+/8OABcADAAAAP///f/3//L/9/8CAAsADQAIAAAA/f/7//j/+v8AAAYACgAHAAIAAgAEAAQA+v/1/wAADAAMAAAA+v///wIAAgD8//n///8GAAUA/v/3//f//f///////P8AAA0AEwAJAPX/7/8AABUAFgAAAPH/+f8RABQA/f/s//X/DQAXAAMA8v/0/wAACgAGAP//+//8//3//P/6//3/BAAIAAwAEAAGAPH/4f/l//7/GgAdAAcA7f/o//T/9//u/+3/AAAWABQAAAD2//j/AgAEAPr/9f/6/wUADAALAAIA+P/1//f/+v/7//7/AAD+//7/AAAGAAsACAD+//D/7P/3/woAFwATAAcAAAD2/+3/7f/4/wUAEQATAAoABAAAAP3/+f/6/wAADAAUAA4AAQD6//7/BQAJAAkACAACAPj/9P/2//3/AQAEAAwACQD5/+j/4v/1/xAAGQAPAAAA/v8FAAQA+//0//f/AAAIAAkAAQD7//v/+v/5//n//v8CAAAA//8BAAUAAwAAAP3//P8BAAIA/f/8/wAACAALAAEA9//6/wMABwADAP//AAABAAIAAQD///v/+f/6//z/AQAKAA4ABgD///3//v/+//v//P8EAAwADQAFAP7/9v/x//X/BAAQAA0AAAD6//n/+v/6//f/+v8BAAIA///5//z/AQACAAQAAAD3//T/9P8AAAwAEgAIAPX/7f/y//3/AgACAAQACQAKAAAA+f/5/wEACgAFAPr/8P/0/wMACwAJAAYAAgD7/+//6v/z/wQAEQAQAAMA9//x//T/AgAQABQACQD7//j//v8FAAwADQAIAP3/9P/x//L/+P///wcADgALAAIA/f/9//////8CAAwADwAHAPn/7v/0/wEAAgD6//j/AAAIAAYAAgABAAUABQD8//T/9P8AAAgAAAD4//r/AgAKAAkAAwD4//f//v8DAAgACgAHAAEA/v/8//r/+//+/wIABQAFAAMA//8AAAQAAwD7//f//P8CAAQA/P/3/wMAGAAaAAAA5//l//v/FQAbAAkA+P/5/wUABQDx/+L/7f8HABcADAD4//f/BAAKAAAA9v/3/wYAFQAOAAAA+P/5/wEABwAGAAEA+f/w//P/AAAMAAwAAAD0//T/+/8AAPv/+f8AAAkADQAHAP3/+P/2//j//v8AAAIAAAD6//n/+v/+/wUABwADAAAA+//1//r/BQAGAP7/+v///wgACAD7/+3/8f8IABkADwD+//X/+v8EAAMA/v8AAAUACQACAPr//v8FAAgABAAAAP3/AAACAAIAAAAAAPz/9P/1////BwAJAAYAAAD8/wEACAAGAP//+v8AAAQA///4//X///8KAAcA+v/0//r/BgAMAAkAAwAAAAAAAAD7//n/AAAIAAwABgD7//j/AAAJAAsABgAAAP7//f/+//z/+f/9/wAA/v/5//f/+v/+//z/+v8BAA4AFgANAPr/7v/0/wUADwADAPX/+P8DAAYA+v/v//X/BQARAAkA9//y//z/BgAHAAAA+f/8/wYADQAIAP//+f/7/wAABwAJAAEA9//3//7/AAD+//f/9//8//7//f/5//n/AQAMABMADAD///f/+/8AAP3/8//3/wEABwADAPr/9v/9/wIA///2//P//f8GAAYAAAD8//r/9f/y//r/BQAJAAkABwAJAAwABAD6//T/9/8BAAcAAgD7//r//v/+//7/AAAAAAEABgAGAAQAAgABAAQABwAGAAAA+f/7/wgAEgAPAAEA+P/1//r//v8AAAUACQAEAP7/+////wQAAAD6//r///8JAAoAAAD8////BAAGAP//9P/z////BwAHAP//+//+/wAAAgD+//X/8v/8/wkADgALAAIA+//8/wEAAwAAAP3/AAAHAAsABQD6//j/AAAFAAEA9//1//3/BgALAAQA+v/7/wEAAgD6/+//9v8JABMADwD9//D/9P/6//7/AAAEAAgACQADAPj/9v/8/wIABgACAPz/9//3//3/CAANAAIA9v/y//z/CQAJAAEAAAAHAAoAAADx//D///8NAA4AAAD5//v//f/7//f/+/8IABQAEAD+//D/7//8/wUABAABAP///P/8//3///8HABAACAD4/+z/7P/3/wIACQALAAsACAD///L/7v/5/woAGAAUAAcAAAD7//j/9f/0//r/BwAPAAoAAAD4//n/AAAEAAUA///5//r//f/+/wAABQAKAAkAAgD///v//P8HABIAFAALAAAA+P/0//f/+/8BAAoACgAAAPr/+v/5//r//P///wQABQAAAPv/AAAHAAkAAAD5//n///8AAP7//f8CAAUAAAD6//b/+P/+//7/+//7//3///8AAP7/+P/2//r/+//8//3/AAAIAAsABAD5/+//8/8AAAkACQAIAA0ACgD8//H/8/8CAAwABwD8//z/BAALAAYA/v/5////BgACAP3/+/8BAAgACAABAPv/9f/4/wAABAAGAAMA/f/8/wAA/v/5//b//P8EAAgABAD+//j/9v/5//3//v8AAAAA//8CAAoACwAGAP//+v///wUABwACAPn//P8KAA8ACQAAAPf/9//+/////P/9/wMACwAHAPn/7f/x/wAACAAHAAEAAwALAAsABAD9////BQAIAAoABgD//wAABwAKAAMA+f/0//n/AwAMAAsAAwD9//z//P/6//n/+v8AAAkACwAFAAAA+//5//3/AgAAAPn/+v8CAA4ADQD7/+3/8P/4/wEABgACAAAAAwAGAAEA9//0//z/BgAKAAMA+P/4/wMACwACAPb/8v/8/wYABAD8//j/+/8BAAEA+//1//b///8HAA0ACQD+//n///8EAAUAAAD7//z/BAAJAAIA+f/0//b///8HAAQA/v/6//3/BAAIAAUA///5//j/+v/6//v/AAACAAMAAwADAP7/9v/z//n/BwARAA8AAgD5//n//f8BAAMAAAAAAAYADwAMAAEA+v///wUAAwAAAP7/AAAGAAYAAQD8//z///8AAAAA//8AAAIA///8//7/BAAHAAUAAgACAAMAAwAAAP7//v/+//7/AAACAAQAAgD+////BAAHAAcAAAD7//7/BAAFAP3/9//9/wAA/v/5//z/BAAGAAEA/f/6//z/AQABAP//BAAHAAIA/v/5//z/AQADAAMAAAD///7/+v/5//7/AgABAP3/9//5//3///8AAP7//v8BAAEA+f/0//v/BQALAAUA+v/2//r///8AAAEAAwACAAAA/////wAAAQAAAP7/AQAFAAIAAAABAAUABwAAAPn/+v8AAAIA/f/5/wAABwABAPb/8f/6/wQACQADAPr//P8CAAMA/v/0//b/AwAKAAEA9f/z//7/CgAPAAgA///9/wIAAwD9//f/+/8BAAYACQADAPz/+v///wIABQAFAAQAAwAEAAgABAD5//L/9/8BAAgABwD9//n/AAAIAAUA/v/4//v/AwAGAAMA/v/+/wEAAgADAAEAAAD/////AAADAAIAAgAHAAkAAwD8//n/AAAHAAcAAwAAAAAAAAABAAEA/v/+/wAABAAHAAUAAAD9//7/AAADAAEA/v8AAAAA+f/x//f/AwAPAAwA/v/2//j//v8AAP//AAAEAAYAAAD2//H/9f/+/wYACAADAAAAAAD///3/+v/7/wEABgAEAAAA/f/6//r/+v/8//7/AgAIAAcAAgAAAAAAAQAAAPj/9v/6//7/BQAGAAAA+f/2//n/+////wIABwAKAAUAAAD+/wAAAAD+//z//v/9/wAABgAHAAMAAQACAAEAAAAAAAAAAAD//wQABwADAPz/9//+/wcACgAFAP7/AAADAAAA/f/8////AwACAP3/+/8AAAUAAwD//wAABQAHAAAA/P/+/wAAAwABAP3//v8BAAYACAAGAAEA/v/9/wEABQAAAPz//v8EAAsADQAEAPn/+P///wIAAAD+/wEABQAHAAIA/P/7////AAD+//7///8AAAEAAAACAAIAAAD8//H/7v/1/wAACwAPAAUA+P/z//f///8BAP7/9//0//r/AQAGAAQA/P/4//v/AAAEAAEA/f///wQACgAIAP7/7v/q//f/AQADAP///P8DAAcAAwD7//L/8v/7/wIAAQAAAAQACQAHAPn/7v/y/wEACwALAAgABQACAAAA/f/4//v//f/9/////v/9////AAADAAUAAQD6//f/+v/9/wIAAgACAAYABQD+//f/9//+/wMAAgABAAgACgAAAPj/+f8DAA8ACQD6//P//f8MAA8AAAD3//z/BwALAAYAAQAAAAEAAwACAAAAAgAMAA8ACAAAAPj/9v/7/wQADAALAAUA///+/wIABQAAAPv/AQAGAAAA/P/+/wIACQAMAAUA+P/y//v/BwANAAgAAAAAAP///v////r/+P/7/wAABgAFAAAA//8BAAUAAwD7//X/8f/2/wQACwAIAAMA/P/1//f/+f/7////AAD7//f/+////wEAAQD9//f/9P/2//v/AgACAAAAAQD6//X/+P/1//T/+f///wQABAD9//v/AQADAP3/+P/6/wAAAwABAP//AgAEAAEA+v/4////AgAFAAYAAgAEAAUAAAD8//3/AgAGAAMAAAD9////AwAKAAoABwACAP7/AAAGAAoABwACAAMAAwACAAEAAAAAAAUACgAHAAIAAgAGAAsACgAAAPT/9/8AAAgABgAAAP3/AAAIAAQA/v/+//7/AAAEAAQABAABAP////8AAAQABQAEAAAAAAAGAAkABgD///j//v8KAA0AAgD6//v/AwAJAAAA9P/6/wkADQABAPT/8//7/wAAAAD6//b/+v8DAAYAAAD5//n/AgAGAP//9v/2/wAACwAIAP7/9//1//v/AgAAAPf/9f/4/wAAAgD7//X/+v8BAAAA+//x/+7/+f8FAAgAAQD2//T//v8CAP3/9P/y//j/AgAHAP//8v/v//T//P8DAAAA9f/2/wAACAAHAP7/9P/6/wcADgAHAP7/AAADAAUABgACAAAABAAGAAIA/f/1//f/AQAKAAoAAgD+/wAABAAEAAQABAADAAAAAAAFAAkADgAPAAYA/P/9/wIABQAGAAEA/v8AAAQAAwAAAAAAAAAAAPv/+/8CAAcACAACAPr/+v8BAAYABQD///7/AAAEAAgAAwAAAAAAAgAGAAkABgAGAAgACgAHAAEAAQAIAAgAAQD+//7//f/9/wEABgAHAAIA/P/7///////+/wAABAAEAAAA//8BAAQAAgD9//7/AAD+//r/+/8EAAUAAAD7//r//v/9//r/+v/8/wAAAAD6//f//v8DAAAA+f/1//r/AAACAPz/8v/y//r//v/4//D/8f/9/wIA+//s/+r/+P8DAAIA+//4//v//f/6//n///8JAA0ACAAAAPv//f8CAAsADAABAPf/9/8BAAQAAAD9//r/AAAFAAMA/v8AAAIAAwAIAA8ACwD+//r/AgARABgADgABAAAACAANAAUA+f/6/wYAEQANAAAA9//7/wcADgALAAAA/f8GABEADgAAAPj/AAAOABEACQD+//f//v8CAP////8AAP///v8BAAgACAD+//b/+v8HAA8ACAD+//3/BQALAAYA/f/3//z/BAAJAAkAAAD3//3/BQAEAPz/+//9/wAA///3//j/AAADAAEA///7//v/AgAEAPv/9P/6/wAAAgD5/+7/8P/+/wYA/v/y/+//+P8BAAAA/P/7//3///8AAP//+v/7//z/+//+/wMAAwD7//X/+P8BAAgAAgD5//n/AAAEAAAA9v/t//H/AAAKAAEA9P/z/wEADAAIAAAA/P///wMABQADAAAA//8AAAAA//////7/+//7//3//v8BAAEA/v/7//7/AgABAP7//f8DAAsADAAAAPH/+P8IAAsABgADAAMABQAFAAEAAAACAAoACwADAAAAAQABAAEA///9/wAAAwAFAAYAAgD+////BgAOAAsAAQD7////AgD///z///8GAAsABAD+/wAABAAGAAMAAAADAAIA/P/6//3/BQAJAAUAAAD8//v/AAAEAAQABQAFAAMAAwAAAPr/+f8AAAcACgAEAPz/+v8AAAcABAD5//r/AgAEAAAA+v/4//z/AgAAAPn/9//4//v//v////v/9f/z//b//f8CAAUAAAD7////AwADAAAA/P/+/wMABAAAAPn/9f/2//r/AAAAAPz//v///wAAAQD+//n/+v/9//3/+//8/wIACAAIAAUAAQAAAAIAAQAAAAAA/v/+/wMAAgD///r/9P/5/wAA///7//v/AQAHAAIA+P/2/wAACgAJAAQAAAAAAAQABAAAAAAAAwAIAAoACAABAPz//v8CAAIAAAD/////BQALAAYAAAD//wEABAAAAAAABAAFAAUAAwADAAMABgAHAAIA/f/9/wEABQACAPr/9v/9/wMAAQD6//f///8JAA0ABQD9////CAAMAAcAAAAAAAgADAAJAAUAAAABAAQAAAD9//n/+/8BAAEA/f/8//7/AAD///z/+P/8/wIABgAIAAUAAAAAAP7//P/8//3////9//7/AAD+//r/+f/8//7//f/5//j//v8AAP3/+//6//3/AAD///7////9//7/AgAAAP3//v/9//z//v/6//r//P/7//v//P///////v/+//z//v8EAAQA/v/8/wAABAABAP3//f///wAAAAABAAAA//8AAAIAAAD9//n/+v8AAAQAAwAAAAAAAgABAAAAAgAGAAgACgAGAAAAAgAHAAgABQD+//3/AQAHAAsACAABAAAAAwADAAAA/f///wcADgAIAAAA/P8AAAQAAQAAAAUACAAGAAIAAAD///z/+v/+/wQACAAGAAAAAAAFAAcAAQD4//b/AAAIAAcABAADAAQABQAEAAQAAQD9//v/AAAGAAUAAAD9//v//P///wAAAAD8//3///////7/9//2//3/AQAAAPr/9v/7/wEAAgD///z//v////v/+P/7/wMABgAAAPf/9//9/wAAAwD9//f/+f///wMAAQD6//X/+/8BAP7/+v/+/wEABAAAAPn/9//5//z//P/3//j/AAADAAcA///3//z/AwAGAAYABQABAAUADAAJAAAA/P/9/wMABwABAP7///8AAAMABwAFAAIAAAD8//7/AwADAAAAAAAAAAQABgABAP//BAALAA0ACQADAAIABwAIAAcABgAGAAcABAD+//3/AAACAAIAAgAHAAcABQADAAEAAAD+//r//f8CAAUABgACAPz/+v8AAAMA///8/wAABAABAAAAAAD+////AQABAP//AAADAAUABAADAAIAAAD6//n//f8CAAQAAAD+/wIABwD///P/8f/2//7/AQAAAPz/+f/8//7/+P/x//D/+v8GAAUA+f/1//z/BQAFAPz/8v/1/wEABQADAP///f////7/+//6//v//v8BAAMABAAAAPn/9v/5/wAAAgD9//n/+//9//3//f/+////AwABAP3/+//5//v//f/+/wAAAAAAAAIABAACAP7//f8BAAkACAAGAAoADAAIAAIAAAD+/wAAAAAAAAEA///+/wAAAAD//wAAAQD8//j//P8BAAUABAAEAAQABAADAP//+//8/wYAEwAQAAQA/v/+/wAAAAAAAAEAAQACAAEAAgADAAEAAAAAAAEAAgAAAP7/AQAHAAkABQD+//r/+v8AAAMA///3//v/CAAPAAYA+f/z//n/AQAHAAUAAAD//wIABgAAAPb/8//4/wAAAwAAAP//AQACAAAA///8//n//P8CAAgACAABAPz//f8CAAYAAAD6//z//f///////f/+////AAAAAPr/+P/8/wAAAAD/////AAAAAP///f///wAA///+/wEAAgAAAPz/+P/8/////v/8//z/+//8///////+////AQAGAAYAAgD8//n//P///wAAAgAAAP//AAADAAAA/P/+/wQACQAEAP//AAACAAAA//8CAAUAAQD7//j//P8AAP///v8AAP////8CAAUABgAGAAYACQAHAAEAAAAAAAYADQALAAUA/v/8/wEAAgAAAAAAAgAEAAEA/v///wAAAQADAAEA/v/9////AAD///3//v8BAP//+v/7/wEABwAFAAEAAAACAAEA/v/+//z//f8CAAUAAwAEAAUAAQD7//v///8CAP//+P/8/wMABAD9//j//f/+//z/AAACAAEA/////wMAAwD+//z/AAAEAAQA/v/6//z/AwAFAAMA///2//b/+/////7//v8EAAMA/v/7//3/AAD9//n/+v/8////AAAAAAEAAAAAAAQAAgD9//f/+f8AAAQABQAAAP//AgADAAAA+v/2//f/AAAHAAIA/P/8/wAAAQD+//3//v8AAAEAAQD+//v//f8CAAYABAD///3//v/+//n/9v/9/wcACQABAPz/AQAHAAYAAwABAAMAAwABAAAAAwAHAAUAAgABAP7//v8AAAAAAAAAAAMABgAAAPr/+//+/wAAAwAFAAUAAgD/////AgABAP//AAABAP//+v///wcACgADAPv///8DAAUABgADAAEAAwAEAAIA+//4/wEACQAHAPz/8//3/wAABgAHAAMAAQABAAAAAAD/////AAAEAAMAAAAAAAAAAAD///7/AQACAAAA/v/8//3/AQAGAAMA+f/y//T//P8AAP///f/9/wAAAAAAAPz/+f/8/wAAAQAAAAAA/v/5//3/AQAAAPv/+f/9/wEAAQD///n/+P/7//z/+//8/wAAAgACAAEAAAD9//n/9//8/wYACgACAPr/+/8BAAUAAwD//wAAAgADAAMAAgAFAAcABQAAAP3//f/7//z/AAAFAAwADAAGAAUABwADAP7/+v/6/wAABgAJAAUAAAABAAYAAQD5//X/+v8CAAYAAwD8//v/AwAHAAMA/P/3//3/BwAJAAMA//8DAAkABQD9//f/9v/9/wEABAAGAAcABAD///3/AAABAAAAAAAAAAcACgAGAP7/9//6/wAAAQD9//f/+/8AAAAA+//5//3/AgAEAAIAAAAAAAIABgAHAAEA/f/9/wIABgD+//X/9/8AAAgABwD7//T/+P8AAAMA/f/0//X//f8CAAEA+v/4/wAABAAAAPX/7//5/wEABwABAPb/+/8FAAQA+//0//b/AAAJAAQA+v/5/wAABAACAPz/+v/9/wAAAgADAAMAAQAAAAAAAAAAAAAAAAD8//z/AgAGAAQAAAD//wAAAAD9//3//P///wYACQAGAAAA/f/+////AAACAAcACwAKAAUA/v/7//3/AQAAAPv//f8FAA8AEQAHAP////8AAAMABQABAP//AAAIAAwACQAAAPv///8CAAMA///4//v/AwADAP//+v/3//z/AAABAP//+v///wUAAwD///v/+f/7////AAD8//v/AAAFAAMA///9/wAABgAJAAIA/P/7/wAAAQAAAP////8AAAMAAwD+//z//P/8//3//f///wAAAAD+//v//P8AAP7/+f/7//7/AAAAAP3///8AAAQABQD+//n//P8AAAAAAAD//wAAAAAAAAAAAAD///z//P/9//3/AAACAAMAAAD9////AgABAAAAAAACAAQAAAD9//3/AAAEAAcAAAD4//b/+v8AAAIAAAAAAAMABAD+//n/+f8BAAUAAgD+//z/AgAJAAgAAAD7//3/AgAFAAAAAAAEAAUABAAAAP3///8HAAoABwABAP7/AAADAAUAAQD+//7/AAADAAgACwAJAAQAAAD/////AAD+////AQABAP//+v/5////BgAFAAAA/v8AAAUABwADAAEABAAHAAIA/f/5//3/AAAAAP///P/+/wAABAABAP7//f/9//7//f/9//7/+//5//z/BAAHAAEA/P/7/wEABAD+//X/8v/5///////+//3//P/+////+//z//P//v8EAAAA+f/7/wAABQACAP7//f///wMABQAAAPz//P/+/wEAAAD+/wAAAAD///7//P/+/wMACAAHAAMA///8//v/+v/9/wAAAQADAAcACQADAPz//P/+/wAAAQD///7//v8BAAQAAgAAAAEAAgAGAAUAAAD7//n//v8DAAYAAwD9//z/AAADAAMABAADAAQAAwAAAP//AAAEAAYAAAD8//3/AQALAA4ACAADAAMABQAGAAEA+v/6/wAAAwACAP7/+/8AAAYABgAAAPz/+/8AAAUAAwAAAPz//v8BAAAA+v/2//r/AgAGAAMA/v/8//r/+//5//P/8//3//7/BQAFAAEAAQABAAAA///9//z/AAADAAcABwAEAAEAAQABAAEA/////wAABAAEAP//+f/4//r//v////v/+v///wEAAwACAAUABgAEAAEA/f/+/wAA///8//r//P/7//j/+P/8/wEABAAEAAMAAAD8//v/+//8/wAABwAHAAAA+//8/wIACAAFAP//+v/8/wMABAD9//X/9f///wkABwD+//b/+v8GAAoABAD///7/AQADAAIA/P/2//r/AAAEAAIA//8CAAkACgADAPz//P8AAAMAAAD5//r//v8DAAUAAAD9/wAABQALAAwACQAIAAoADAAJAAEA+//9/wQAAwD///r/+/8FAAkABgAAAPz/AQACAAAA/v/+/wEABQADAPz/+P/9/wAA///+//7//v/9//z/AAABAP7/+f/7////AgAAAPj/+P///wQABAAAAP7/AQAFAAAA+f/4//7/AgAFAAQA/v/8//7/AAABAAAAAAD//wAAAwABAP//+v/3//j/+f/6//b/9P/2//n//v8AAAAAAAACAAQAAQD+//3///8BAAMAAgD//wAAAAAAAAAA/f///wYACgAGAAAA/v8AAAAA///7//f//P8DAAQAAgADAAcADwAPAAsACAAGAAEA/v/7//v///8CAAAA+f/3//r//P///wEAAwAGAAgABgABAP7//P/9/wAAAAAAAP////8DAAUABAAFAAUABgAHAAUAAAD5//r/AAADAAQAAAD6//r///8DAAYABgAEAAcACgAHAAIA///6//n/+v/7//v//f8AAAAAAAADAAUAAwACAAAAAAACAAEAAgABAP//+v/1//X/+/8AAP//AAAFAAsADwAKAAAA+//8//v/+v/5//n//f/9//n/+v8AAAQAAgD+//n/+/8AAAEA/v/6//n/+f/8//7//P/8//3/AAAFAAYABwAEAAEAAgACAAEA///9//z//P8AAAAA//8AAAEAAQAAAAAA//8AAAUAAwD///v/9//2//r/+//4//f/+P///wgADAAKAAkACgAIAAYAAgD9//f/9/8AAAMAAAD7//f//P8AAAAAAAAAAAAA/////wAAAAAAAP////8AAAEAAQAAAAAAAAABAAAAAAD//wAAAQABAAAAAAAAAAAAAAAAAAAAAAAAAAAAAAAAAP//AAAAAAAAAAAAAAAAAAD/////AAD/////AAAAAP//AAAAAAAAAAAAAAAAAAAAAAAAAAAAAAAAAAAAAAAAAAAAAP//AAAAAAAAAAAAAAAAAAAAAAAAAAAAAAAAAAAAAAAAAAAAAAAAAAAAAAAAAAAAAAAAAAABAAEAAAAAAAAAAAAAAAAAAAAAAAAAAAAAAP//AAAAAAAAAAAAAAAAAAAAAAAAAAAAAAAAAAAAAAAAAAAAAAAAAAD/////AAAAAAEAAAAAAAAAAAAAAAEAAAAAAAAAAAABAAAAAAAAAAAAAAAAAAAAAAD//wAAAAAAAAAAAQAAAAAABQAFAAUABgAHAAUAAQD8//z/AAABAAAA/P/6////BQAHAAUACAAMAAwABgAAAP//AQADAP///f/9///////9//r/+/8AAAYABgAAAAAABAAHAAoABQD9//f/9//4//r/+//5//3/BQAIAAUAAAD+/wIABAAEAAIA///9/wAA///8//v/+f/6/wIABgAHAAYABQAHAAcAAwD+//r/+v/8//z//v/+//v///8BAAAAAAD9/wAABgAHAAYABQAAAPv/+f/3//f/+v/+/wEAAQD+//7/BAAIAAcAAQD8//v//P/6//f/9//4//z//v/+//7//f/9/wIACAAJAAgAAwABAAMABAAAAPj/9f/3//j/+//9//3/AAADAAcABgAAAPv/+f/6//3//P/+//7//v8BAAQAAwAAAAIACAALAAoABQAAAP/////+//r/9v/3//3/AAABAP///f8BAAsAEgARAAsABAAAAAMAAwD8//j//f8CAAgACAADAAAAAgAIAAoACgAFAAAA//////7/+//5//r/AAAGAAcAAwABAAUACgAKAAgABgAGAAEA+//4//L/8P/1//n//v/8//j/+/8AAAYABwAGAAUAAQACAAMAAQAAAAAA//////7//f/9////AgAHAAUAAwABAAAAAAD9//n/9v/4//7//v/7//r//f///wMABwAFAAAAAAAAAAAA/v/6//f/+f/6//j/+//+/wIABgAEAAAAAAACAAEA/f/7//n/+v8AAAAA/f/6//z//v///wQABwAIAAkACAAEAAIAAAD9//v/+//8////AAAAAAAAAAADAAUABQABAAAAAQAAAPz/+//+//3//P/9//v//v8EAAYABgADAAQABwAKAAkAAwD+//7/AAABAP7/+P/4//r/AAADAAIAAwAGAAcAAwD///z//P/+//7///////7/AAAEAAcABgADAAQABQAFAAQAAQD9//3//f/+//3/+v/5//j/+f/9/wAAAAD+/wAAAwACAAEAAAAAAAAAAgACAP7//P8AAAIABAAEAAIABAAIAAYAAQD///3//v///////v/4//T/9f/6////AAAAAAIABQAKAAkABQD///v//P8AAAMAAQD+//7/AgAIAAUA///+/wEABwAIAAAA+f/7//7//f/6//f/9//+/wEA/f/6//z/AAAHAAcAAgAAAP//AgAEAAAA/f/7//7/AAAAAP7/+v/4//z/AAAAAP7///8AAAEA///4//j//v8BAAAAAAADAAMAAQAEAAcACgAKAAgABgAFAAEAAQABAAAA///+//7//f/7//z//f8AAAMABQADAAIAAwAEAAUABAACAAQABQAFAAQAAgABAAIAAwAEAAMAAAAAAP7//f/9//////8AAAAA/v/+/wAAAQAFAAYAAgABAAEAAgAFAAQAAgAAAP/////9//v/+//8////AQAAAP7//f/9//7//f/9//3//v////7//P/8//z//P/9/wAABAAIAAYAAwAAAAAAAQADAAEA///6//n/+f/6//z//P/9/wAAAQACAAQAAQD/////AAD///v/+f/+/wEAAwAEAAQABgAIAAUAAQACAAIAAAD///z/+f/4//v//P/6//f/+v8AAAAAAAD///3//v8CAAQAAAD8//z/AQAGAAEA/f///wAAAAAAAAAAAQAFAAQAAgADAAAA/v8AAAAAAQACAAIAAwABAAEAAwABAAAA/v8AAAEA///9//3/AAADAAEAAAADAAcABQABAAAAAQAFAAUAAgABAAIABAAEAAIAAAD6//j//f8BAAIA///9//7/AAACAAMAAQD///3//P/9/wAAAAD///3//f/+////AAAAAP//AQADAAEA///9//3/+//6//3/AgABAP//AAACAAcABgADAAQAAQD///v//P8AAP///f/+/wAAAAD/////AAAAAAAAAgADAAIAAAABAAMAAAD8//v//v8AAAAA/v/+//7/AQADAAAAAAD///z/+v/7//3//v8AAAAAAgAEAAQAAAD7//r//P8AAP7/+//+/wAAAQAAAP7/AAACAAAA/P/7//7/AAAAAP//AAAFAAUAAQAAAAEAAAD///7/AAAAAPz//f///wAAAwACAAAAAAADAAUABQADAAIABgAIAAQAAAAAAAEAAgAAAAAAAQAAAP3//v8AAAAAAAABAAEAAQABAAAAAwAFAAIAAAABAAIA///9//z//v8DAAAA/P///wAAAAAAAAAA/v/9//7//f8BAAIAAgADAAQAAgD/////AQAAAP7//v8AAAEAAAABAAAA/////wAA/v/6//v/AQAFAAMAAAAAAAIABAAAAP7///8AAP///P///wIAAAAAAAAA/f///wAA/v/+/wAAAgACAAEAAAAAAP///P///wIAAgABAAEAAQADAAMA///9//7/AAD+//j/+P/7//r/+P/5//3/AAAAAPv//P8BAAYABQACAAIABAACAPz/+f/8////+//5//z/AAADAAQA/v/6//3/AwAGAAAA/f///wQABgAAAPv//f8AAAMAAQD9//z/AAADAAEAAAAAAAEABAAEAAEAAgACAP7/+//9/wIABgAGAAEAAAACAAIAAAD+/wAAAwAGAAUAAAAAAAEAAAAAAAAAAQABAAAAAAAAAAIABQAEAAEA///+/wAAAwADAP////8CAAYABQACAAEAAAAAAAAA/f/7//7/AgABAAEAAwAAAP///f/4//j//v8AAP7//v/+////AAAAAP7//f///wAAAQAAAP3///8CAAQAAQD+//z//P8AAAEA/v/9////AgAAAPz///8CAAMAAgD9//v//f8AAAMAAQD9//r//P/8//3/AAD///3/+//6//v//v8AAP7//v/+/wAABQAGAAMAAAABAAQAAwABAAAAAgABAP7///8AAAAABAACAAAAAQADAAEA/v/7//7//////wAAAwAGAAYAAgD///z///8CAAEAAAD8//z/AgAEAAIAAAAAAAAAAQABAAAAAQACAAIABwAHAAAA//8AAAAAAAD///7///8CAAMABAAEAAcABwAEAAMABQAGAAMAAAAAAAAAAAACAAMAAAAAAAAAAAADAAIA/////////f/7//7/AAD8//n/+/8AAAQAAQD9//z///8CAAEAAAAAAAMABwAFAAAA/P/+/wAA///8//r//f8CAAIA/f/4//r//f/9//3//f8AAAAA///7//n//P8AAP////8BAAMAAgAGAAQAAAD+//z/+v/6//n/+f8AAAUAAwABAAEAAAAAAPz/9v/4//z//v8BAAMAAwABAAIAAgAAAAAA///8//z///8AAAIABQAFAAQABQAEAAQAAgAAAAAAAAAAAAAAAQADAAEAAAD//wAAAgAEAAEA/v/9//3///8AAP///P///wAAAwACAAEAAwAEAAUABgACAAEAAQADAAQABQAEAAIAAwACAAAA/v/9/wAAAgAAAAEAAQAAAP7//f/7//z///8AAP////8AAAAAAQABAAAA/////wAAAAD/////AQADAAAAAAAAAAAA/v/8//3//f/+////AQAEAAUAAQD9//3////9//v/+////wIABAAEAAUABQAAAPr/+v/6//3/AAABAAMABQABAP/////+//v/+//8//3/AgAEAAUABQADAAMAAQAAAP3/+/8BAAIAAAAAAP//AgADAP7/+P/7/wAAAgABAAAAAAABAAEAAAD/////AAADAAYABwAEAAEA///+//3/+v/7//7/AAABAAIAAgABAAAA/P/5//n/+v/7////AgADAAMABAADAP///f///wAAAQABAAEABQALAAkABAAAAP3/AAABAP///v///wIABQADAP///v8AAAEAAwAEAAIABgAIAAYAAAD9//z/+f/8/wAAAQAFAAcACAAFAAAA+v/5//z//v/9//7/AQAFAAYABQACAP///P/7//v//v8AAAIABwAJAAcAAwD8//f/+f/8//v/+v/+/wMABwAGAAAA+v/6//v/+//8//z//f8CAAcABAABAAAA//8AAAEAAQADAAUABQABAP///v/9////AAD7//v/AAAAAP3/+f/6//7/AQACAP7//P///wMAAgD8//r/+f/6//3//v/9//v//v8AAAEAAAD+//7///8CAAIAAAABAAUACQAKAAYA///+////AQACAP///P///wMAAgAAAPz/+v/8/wEAAgD+////AQACAAIAAAD8//z/AAACAAQABQADAAIAAAD+//7//f/+/wAAAQAEAAUAAwABAP///P/+//////8AAAMABgAGAAQAAAD9//7//v/9//3///8CAAgACQADAAAAAAD8//n/+////wEAAgAEAAMAAgADAAQAAgD///z//f8AAAAA///8//z///8BAP//+//9////AAAAAAAAAAAAAAEAAAAAAP7//P/+/wAAAwAEAAIAAQAEAAcABgAAAP7//v/9//3//f/8//z//v8AAAAA///+//z///8BAAAAAAD9/wAAAwAEAAAA+//7//7/AAAAAP3/+//9/wAAAAAAAP//AAACAAEAAAAAAAAAAQAEAAQAAQACAAEAAQABAAQABAAAAAAAAAACAAIA///9/wAABQACAAAAAgADAAAAAAD///3//////wAAAgACAAIAAQACAAAA///8//v//v/+/wAA/v/+/wAAAQACAAAA/v/+//z//v/9//z///8AAAEABQAHAAkABgADAAEA///9//n/+P/9/wUACgAGAAQAAQACAAYAAQD7//n//f8BAAIAAwACAAEABAACAPz/+f/5//3/AAAAAAIAAwAAAP3///////n/+P/8//7//v//////AAAEAAQAAQD///3//f8AAAQAAwACAAEAAAABAAQAAQD9//3///8DAAYAAQD7//v//v////7//f///wMABgABAP3/+//6//3//v/6//r//f///wAABQAEAAAA/f/9/////f/7//7/AAABAAAA///+/wAAAgAAAAAAAAAAAAIABAACAAAA/v/9//3////+//r//f8BAAYABgACAAQAAgAAAAAA/v////7//v8AAAAAAQAEAAMAAgADAAMAAAD//wAA/v/+//3/+//+/////v/8/wIACgAGAAAA/f/7//7////9//7/AQAGAAYAAwAAAP7//f/9//r//P8AAAEAAgADAAAAAAAAAPr/9//8//3/AAAEAAYABAABAAEAAAD9//7//f/8//7/AgAGAAcAAgABAAQAAwD///z/+//7//7/AQACAAMABQABAP7/AAAAAAAAAAAAAAAAAQADAAIAAAAAAAAAAAABAAEAAgAEAAEAAAABAP///f////7//v8DAAUA/f/7/wAABAACAAIA///8/wAAAAD+//3//v/8//v//v8BAAMAAgAAAAAA//////7//f/9////AAAAAP7//f8AAP3/+v/8////AQAEAAEA//8BAAMAAAAAAP//AAAEAAIA///+////AgADAAAAAAAAAAEAAQABAAIAAQD///3//f8AAAIA///8//7/AAACAAIAAQACAAAAAAACAAQABAD///z//v/+////AQABAAMABwAGAAMAAAD+/wAAAAD9//z///8AAAAAAQADAAMA///7//z//P/+/wAAAgACAAAAAQAEAAAA/v8AAAMABQACAAMABwAFAAMAAAD//wEAAQAAAP7//P/9/wAAAgAAAPv//f8BAAAA/f/6//z/AAAAAP////8AAAIAAgABAAAA/v///wAAAAAAAAEAAwADAAAA/f/6//v/+//8//7//v8AAAAAAAD+//z//v8AAAIAAwAAAAAAAgACAP//+//7//3//f8AAAEAAgABAAEAAAD9//v//f8AAAAAAAABAAMAAQAAAP3//P/8/wAAAwACAAAAAAACAAEA/f/6//7/AgACAP////8AAAIABAAAAPz/+v/8////AAAAAAIABAACAAAAAAD+//3//P/+/wAAAAAAAAIACAAHAAEAAAACAAEAAAACAAMAAgACAAAA/f/+/wAAAQD///z//f8AAAIA/v/7////AAABAAAA/f/+/wEAAwABAP7//v8CAAcABgABAAAAAQAEAAEA/f/9////AAAAAP////8AAAIAAgACAAEAAAACAAQAAgD///3///////////8AAAEAAQAAAAAAAQAFAAQAAQAAAAAAAwACAP//+P/3//z/AAAAAAEAAAAAAAEABAABAP///v8AAAAA/P/7////AgADAAAA//8AAAAAAAABAAQAAwACAAMAAAD///z/+//9//3//f///wAAAAAAAP3//f8AAAIAAwADAP7//P8AAAEAAAD9//z//f///wAAAwAEAAAAAAAAAAAA///+/wAA///8//z/AAACAAMAAgACAAAA/v8AAAUABgAFAAEAAAABAAQAAwAAAP3/+//8////AAACAAEAAQACAAIAAQAAAAAAAAD///7/AQACAAAA/P/6//z/AAABAAIABAAEAAIAAQAAAP7//f/+//7/AAABAAMABAACAAEAAQD//wAABAAGAAMAAAAAAAIABQAAAPn/+P/7///////+////AgAGAAYAAQD+//7/AAAAAAAA//////7////+//v//v8AAAAAAAAAAAIAAwAAAPr/+//7//3/AQAAAPv//f8CAAIA///8//z/AAADAAIAAAAAAP7//v////7/+//8/wAAAAD/////AAABAAIAAQAAAP/////+//////////3//v8CAAMA///9/wAAAwABAP7//P8AAAEAAAAAAAEA//////7//f8AAAAA//8BAAQAAgD///7///8AAAIAAgAAAAAAAgAFAAQAAAD/////AgABAAAAAgAEAAMAAAD+//7/AAADAAMAAAD+////AwADAAIAAgABAAIAAgADAAIAAAABAAMAAgD//////v/+/////v/8/wAABAAEAAIA///9/////f/+//3//P///wEAAwAAAP7//v8AAAMAAwACAAAA///9//v/+//8//7/AAABAAEAAgABAAMABQACAP7///8CAAMAAAD7//7/AAD+//7//f/+/wEAAAD//wAA/////wIAAwACAAEAAQAAAP//+//5////BAADAAAA/f///wEAAwADAP///P8AAAMABAD///n//P8CAAAA/P/6//3/BAAGAAIA/v/8/wAABQADAP3/+v///wQAAgD8//z///8AAAAAAAD9//v//v8BAAIAAQD//wEAAwABAP7//f8AAAIAAAD8////BQAEAAAA/v/+/wAAAgADAAEA/////wIAAAD9//z/AAADAAQAAQAAAAQACAACAPz//v8DAAYAAwAAAAAAAwAFAAMAAAD//wAABAAHAAMA//8AAAQABgADAAAA/v//////AgABAP3//P8AAAIAAAD9//3/AQACAP3/+//+/wIAAgD9//3//f/+////AQADAAAA//8BAAIA///6//n//v8AAAAAAQABAP//AAABAP///f/9//7/AAAAAP3//P/+/////P/7//z//f///wIAAwD///n/+v8AAAEA/P/5//3//v/8//3///8BAAAA/v8AAAEAAgAAAAAA///8//7/AQACAAAA/v/9//7//v/9/wAAAwAEAAMAAAAAAAAA/v/8//7////+/wEAAwAHAAYAAgABAAIABAADAAAAAQABAAQABAD/////BAAGAAQAAAD//wMABQAHAAQA/v/+/wAAAAAAAP///f8BAAIAAQABAAIABAADAAAA/v/8/wAAAAD/////AAAAAAAAAQD+//v//v8DAAUAAQAAAP7/AAAEAAMA/f/6//3/AAABAAEA/P/9/wAAAQACAAAAAAAAAAAAAAD///7///8AAAAA/////wEAAgACAAAA//8AAAAAAAD/////AAABAAEA/f/8//z/AAACAAAA/f/+/wAABAABAP7/+v/6//v//v////3//v////3//v/+/wEAAwAAAP//AAAEAAEAAAAAAPv//f8BAAEAAAD//wAAAQAAAP//AAAAAAEAAQD///7//P/5//z//////wAAAAABAAEAAAD+//7/AAADAAIAAAAAAAEABAADAAAA/v///wIABAABAAEAAwAEAAYAAgD+/wAAAgACAAAAAAABAAMAAwAAAP7/AQAAAP3//f///wAAAgAEAAIAAQACAAEAAQABAAEA/////wEAAwACAP////8BAAMAAQD9//3/AAAAAAAA///9////AAAEAAMAAAAAAAEABAABAP7/+//9/wAAAAD/////AAAAAAAA/v/+/////P/9/wMABgADAAEAAAD//wAAAAD+//3//f///wAA///9//3//f8AAAEA/f/7//3///8BAP7/+f/7////AAAAAAAAAAAAAAMABAABAP////8CAAMA///5//n//v8AAP3/+/8AAAAAAAAAAAAA/////wAAAQAAAP////8BAAIA/v/5//r/AAABAAAAAAADAAQA/f/5//n/+v/6//v//P/9////AAADAAUAAgAAAAAAAgADAAIAAgACAAAA/f/9//3//P/9/wAAAgAEAAEAAAD//wAAAgAAAAAABAAHAAcABAAAAAAAAAABAAAAAAABAAIAAAABAAMA///6//n//f8CAAEAAAAAAAIAAwACAAAAAAAAAAAAAQAFAAYAAwACAAEAAAD///v//f8BAAAA//8BAAAA//8BAAEAAgAEAAIAAwAFAAIAAQAAAAAAAQD+//7/AAACAAIA/////wAA/v/7//z/AAABAAAA/v/9//3//v/7//3/AAD/////AgAFAAIA/////wAAAAD9//v//P///////f/8//3//f/8//3///8AAAEA//////7//v8AAP///f/9/wAAAgACAAAA/v/+//3//v/8//7/////////AAAAAP3//f/9//z/+//8////AwAEAAIAAgABAAAABAACAAAAAAAAAAIAAgACAAAAAgAGAAQAAgADAAIAAwADAAEAAAAAAAEABAAFAAMAAgABAP7/AAACAAIAAAD///7/AAD/////AAAAAAQAAwAAAAAAAAABAAQAAgD///////8CAAYABwABAAAAAQAAAAAA/f/8/wAAAQAAAAEAAQAAAAEAAAAAAAAA/f///wIABAADAAAAAAD//////v/9/wAAAgAAAAAA/v/7//n/+P/6///////7//z/AAAAAP7//f/+//7//f/+/wAAAQAAAP3//P/9//3//P/6//v/+/8BAAQAAQAAAAEAAAAAAAAA/v/7//v//f/9/////f/9/wAAAAAAAP///f/9/wAAAQD///3/AAAEAAIA/v/+//3/AAADAAIAAAD/////AAABAAEA/v/7//z//f/8//3/AAAAAAAAAwAEAAIAAAABAAMAAwACAAMAAwABAAEAAwABAP7/AAAFAAQAAAABAAQABQAEAAIAAQAAAP3/AAAEAAQAAwAFAAgABgABAP///f///wAAAgAEAAQAAwACAAIAAgAAAAEA///5//r//f8AAAUABwAGAAQAAQAAAAQABgABAP3//v/+//z/AAACAAEAAQAAAAAA///9//7/AAABAAAA/f/+/wAAAgAAAP7///////3/+P/3//r/+v/8/wAA/P/3//n/+f/7//3/9v/3//v/+v/6//v//P/+/wAAAAD9//3/+v/6//7/+//4//j/+v/9//7////+///////+////AAAAAP3//P8AAAQABAACAAAAAgAFAAQAAAD+////AAD///7/AAAEAAYAAQAAAP///////wIAAgABAAMABQAGAAQABAACAAEAAgABAP////////3//v/+/wAABAADAAIAAQABAAAAAwACAAAAAQACAAQAAwACAAEAAAD//wAA//8BAAYABwAEAAIAAwAEAAQAAgACAAAAAAABAAEAAAD9/wAABAADAAEAAAADAAYABQAFAAIAAAAAAAEAAAD+//7/AAADAAMA/v/7//z/AAAEAAQAAAD9////AAD///v//P8AAP/////8//n/+f/9/////v/8//r/+v/6//z/+//3//T/9v/6//3/AAAAAP7//v/+//r/9//1//b/+v/8//z//v///wAA/v/8//v//P/8//n/+/8AAAMAAgACAAIAAQADAAQAAwABAP///f/8//3/AAACAAIAAQAAAAAA//8AAAQABQAFAAMAAQAAAAAAAQADAAIAAQABAAIAAgABAP7//P/+//7/AAAAAAAA//8AAAAAAgADAAAA//8BAAEAAgACAAQABgAGAAYABQABAP///v8AAAIABAAFAAkACAADAAIAAwAEAAUABAAAAAAABQAFAAIAAAAAAAEAAgAGAAYABgAHAAcABQACAAAA///+/////v///wAA//8AAAAA/f/+/wEAAQABAAQAAgAAAP/////9//v/+f/6//v//P/7//r//P/7//r//P/9//v/+v/4//X/+P/6//7/AgAAAPr/9v/3//n/+v/+//7/AAABAAAA/v/5//j/+v/7//r/+P/8/wEAAwAAAAAAAAAAAAAAAQACAAEAAQAEAAUAAAD9//z/+v/5//v///8DAAYABgADAAAAAAAAAPz/+f/7/wEABQAGAAUAAQAAAAAAAQADAAEAAAABAAEAAAD+//3//P///wMAAwADAAIAAgADAAQAAwABAAIABAAGAAQAAQAAAAMABAACAAEAAAAAAAMABAAEAAQABwAKAAgABQACAAAAAgABAAAAAAAAAAAAAgACAAQABAAHAAkABgAEAAMAAgADAAIAAgADAAMAAAD//wEAAgAEAAYABAABAAAAAAD+//3///8AAAAAAAABAAAAAAD//wAAAgABAAAA/f/+/wEA///6//j//f////r/9//4//v//f/9//f/8//5//3/+v/2//b/+P/5//v/+v/7//7/AAD9//f/9v/4//n/+f/5//r/+//7//3//f/8//z//P/6//r/+v/7//z///8CAAAA/P/5//r//f8AAAEAAQAEAAkACQADAP///v8AAAAA/v///wEABQAEAAQAAwAEAAQAAwAEAAYABgAEAAMABAADAAMAAQABAAEAAwAHAAgABAABAAEABgAIAAMAAAAAAAIAAwAEAAQAAgADAAIAAAAAAP//AAABAAEAAAAAAAAAAAAAAAQABAACAAQABQAGAAgACAAHAAcABQACAAAAAAAAAP7/+v/4//v//f////7///8DAAYACAAHAAUABwAHAAQA///+/wAAAgACAAAA///9/wAAAAAAAP///P/8//z/+f/5//v//v/8//r/9//1//j///8CAAIA///+//3//P/6//X/8//3//z//v/7//n/+v/8//n/9f/3//r//v////7//v/9//r/9//3//r//P/7//r/+f/7//3///8AAAIABQAKAAgABAADAAEAAAAAAAAA////////AAADAAQABAAGAAYAAwAAAP3//P/9//3/AAAAAP//AAADAAoADAAHAAkACgAKAAoABgAAAPz/+v/7//3/AAAAAAIABAAFAAgACgAIAAMAAAD9//v/+v/6//7/AQAEAAgACgAOABEADAALAAsABwAGAAQA///9//v/+v/5//f/9P/4/wAAAgAFAAkACgAKAA0ADgAMAAkAAgAAAP///f/8//b/9P/4//z//v/8//3/AQAFAAgABAADAAMABAAEAAAAAQABAAIABQD9//n//f/8//j/9v/2//H/7f/t/+7/8P/z//f/+f8AAAYACQAPABAADAAJAAMA/f/7//X/7v/r/+f/6//u/+7/7//y//j//P/7//z/AAAAAAIAAgAEAAoACwAKAAwACgADAP7/+f/3//X/8P/w//P/9//6/wAABAAGAAcACwALAAgABAD//wAAAQAAAP//AQAEAAcACgAOAA0ADAAKAAIA+f/w/+v/6P/l/+r/7f/4/wgAEQAZACIAJwApACUAGQAPAAQA+f/2//H/6v/t//v/AQABAAAAAgADAAAA/P/7//r///8AAAIADQASABMAFwAYABcAEgAJAP7/7//l/+X/6P/x//v/BAAQABYAGgAaABEABwAAAPT/7v/r/+z/+v8IAA4AGQAiACgAKAAaAA0AAADv/+X/2f/J/8X/zP/X/+D/7f8BABYAJQAsACcAIAAZAA8ABQD7/+7/5//n/+f/7f/v/+3/9v/9//v/+P/r/+L/4v/j/+j/8P/8/wwAHQAlACgAKAAeABEABAD1/+b/1//P/9X/4P/q//r/AgAHAA0ADAACAPX/5f/Z/9X/1//m//z/CQAWACUALQAtACkAHAAQAAgA/P/z/+//7f/v//D/9f/7//r/AAAEAAAA///9//z/AAD+//n/AAAAAP7//v/+/wEACwAUABgAIgAqACUAHQAUAA0ACAABAPr/9v/6/wsAEwASABAADAARABgAEQD///H/6//p/+P/3P/X/9f/4v/q/+//9v8HABwANABCAEsAXQBiAFIANAASAO//0f+5/6b/pf+0/8z/6v8HABsALQA9AD4AMAAeAAsABwAOAAsACwAUABcADwAAAPX/6v/O/7f/qv+T/5L/n/+s/8z/7v8VAEUAYQBxAHEAagBiAEkAJQAKAPr/3f/C/7T/qP+d/4r/i/+V/5n/pf+s/6//uv/P/+r/BQApAFkAiACaAIsAaQBFACEA+P/M/67/nf+Z/6P/sf+5/8f/3f/j/9j/zf/G/8f/z//4/z0AgQC+AO0A+wDvAMoAhAAvAOH/nv91/2X/Xf9n/4z/wv/w/xUARwBeAFIAPwAnAAgA6P/V/9X/6//9/xoAUQCDAKoAyQDqAAsB/wDIAIkASwABAKv/Xv8l/wf/9P7n/vD+Df9Q/5r/0/8XAF0AlQDJAOYA3ADNAL0AmgBoABkAvv+C/0D/Ev8c/zH/cf/A/wIAUgCLAKwAtgCbAGkANgD7/77/ov+e/7X/5/8JACAANAA/ADoAFQDm/7f/mv+Y/5H/jP+e/8X/+v8nAEsAeQCmAMAAxwCsAHgANQDS/3D/IP/g/sz+3P4K/0z/n/8dAKMAFAF7AbkBxwG0AWEB1QAtAHH/v/43/sj9hP12/Z79F/6y/lX/8/+CAAUBXAGEAYcBbAEvAeUApQBvAEIAEQDz//H//P8MABQABADm/7P/e/9W/y7/+v7F/pv+df5r/pP+3v5q/zYAHwEIAtQCYQOVA2cD0gLtAe4A7//5/ij+q/2d/dX9Nf61/kD/1f9PAIoAkwBrACcA7v/Y/+L/CQBkAOAAVwHGAR0CMAIRAssBPwGWAOn/FP8//oz9Av27/Jr8xfxH/ev9zP7R/88AyAGxAkkDdANRA+QCLQI1ASIAKP93/h3+Av4v/qX+VP8lAPAAaQGAATgBpQDo/wf/G/5n/Tj9ZP3F/Xz+Z/9nAGgBFwKSAs8CmQI6ApIBtQAAAHb/C//O/rH+tv7//k7/g/+w//b/SwCdANcAxACQAEkAzf8x/5P+E/7K/cH9A/6M/lz/bgBuASoCuAITAwEDawKWAYsAd/+U/t/9Zf06/ZH9Q/4O//3/yABJAZ4BsQGJATYB4QCEAPv/kv8o/8/+rP6h/sz+Hv+e/0MA5ABpAcYB9QHnAX8B8gBXAIn/qP78/Y/9X/2a/SP+Bv86AFwBhwJnA7kDqgMTAx8C4QBt/yP+G/1i/A78T/wy/W3+x//4AO8BowLWAnECiwF5AGX/hP4J/tj9JP7g/uv/HQEbAu0CUgMQA3MCSgG+/13+GP0c/Kn7ufta/H/93/5TANAB/ALJAyYE7gNWA2wCUgE0AB7/c/4L/tT9H/6W/kz/OAD8AJgB0gGRAQsBHQDO/qP9yvxi/JL8Nv1b/uv/nAEmA1kEPwWSBRoFBQRqAooAzf4q/dT7DfvC+hj79/v4/BH+Ov9cAFsBAAJWAl0CIAKkAQcBcgDp/4j/Ov8A/w3/Zv/Y/0AAowDuACsBPgEFAXAAwv8Z/1/+vf1P/UP9ef3W/W/+Of8+AFkBcAJaA/UDUQQ7BJ4DkQJDAd//Xv7y/Ob7gPu4+3/8xf0o/58ACQL/AmcDOwN0AmMBSQAY/xr+jf1k/Y/9Ov5E/2YAswGVAgYDTQMSA3ECdwE7AA3/Ef44/aH8avyM/E79c/6u/+QA+QHnAmcDVAObAnABNQAD/+b9HP32/Fb9Lf53/9wAYQKxA2IEfQTnA7YCJwFT/3b9Jvxe+wb7ZvtX/L39bv8GAU4CNQO7A8kDVgNhAisBBQAS/3f+K/4x/pn+O//o/08AeQB/AD4AxP8e/6f+V/4w/mj+xv5h/0EAEQHKAWMCnAKkAkgCagFsAGT/ff7X/X39fP30/aj+cP8nAIsAzgDGAFYAwP8e/5P+WP5t/uP+t/+jALMBiQL/Ai0D1gIRAvwAyv+4/vb9hv12/cb9T/4D/9L/cQC2ANwA0ACMAFAAGgDu/+n/+/8OAEMAgQCqANsA8AAKATcBOAFEAT4B5wB1AAUAdf+5/uj9RP3//Of8BP16/Vj+mf8VAXACiQOBBPUE0gQaBL4CBgEt/3P9F/xE+xz7yfsU/b/+jgAUAhoDfAMlA1kCQgHW/3P+Zf3A/Mr8af1g/qX/DgFdAl4DxgO1AzIDPgIJAbP/c/5h/bv8a/xv/O78qv27/gMAIgH9AY4CvQKnAj8CbwGTAMT/Bf+f/nr+jP7r/jv/jf8HAFwAugAlASoB9wC0AFQABgCh/yb/7v7h/t7+6P7s/jX/zP91ACkBnwHaAb0BQgGWAKv/pP7N/X79gf3c/az+pv/NAOkBxQJjA4QD+ALhAXkA//6d/Xz8uvuC+xf8Qv3E/nkAHgJ3A0AEVgScA14C9QBs/wz+Hf2+/PX8lf2O/rP/uQCiATsCTQL5AVcBlQDD//H+Tf7V/Z/9tP0z/hr/NwB6AYoCMgNdAwYDOAIAAaP/Y/54/QH9/Pxj/S3+Nv9qAH0BQwLNAtICfwLzAfwA3f/K/u79d/1n/an9Ov4W/zkAeAFpAvMCFQOrAtQBxgCN/2L+hv0o/UX94P3u/igAXgFMAtYC4gJyArsBzQDe/xj/e/4W/g7+UP69/lv/+f9qANMABgHoAK8ARACr/x7/wP6J/ob+sf7+/pj/PwDaAEwBSgEWAa8ACQBf/7f+K/7K/dT9Of6e/jT/7P+MAAwBZgF4AVUBRAEMAb0AgwBuAIwAtQDUAO8AIwE4AUABYgEIAW4AAAA3/1v+uv3m/Ff8YvyL/Nv8Sf2L/fP9g/7q/ij/Gv/N/ov+Wv77/aL9f/1q/ab9L/7C/nj/eQCgAbsCxANtBMoEBQUNBeEEZgTUA1YD8wKzAn4CTwI6AlUCgQK0ApkC/gFXAWgAC/+o/TP8y/qs+fT4ufjI+Av5jPkL+kD6Zfpi+sT5LPnL+Gb4ePjf+H75sfpm/Cf+/v/OAWgDDgVRBiQHzAc9CLkILAljCYUJtgnzCToKbwpwCiQKeAmnCLkHhQYQBZwDOgLMAJX/Yf7W/Bb7R/ln9zr11PJ98DPuZ+xS64XqLuqY6mvrnOx77pjwzvKv9d74LfzO/4ADMQfrCpQO0hFbFD8WxhfLGAsZshjHF3cWHhWwExASbRC/DugMKwtNCdcGEARaAWf+dvvo+Bf2QvPC8BHuR+tf6OHk6eDq3C7ZJdY61JPTwNQJ2CrdVOTK7Mr1Z/+dCNoQRBg+HqYiJyawKDcqYSsoLJQssiwwLOEqfigRJXwguhpfFMwNKwcRAUT8t/iV9u719/UZ9rX1evSm8W7sjOWt3dXUR8yCxWbAPL6XwNPFqM1+2PDjRO9s+rIDuArWD0ATuhXJF9oZNx12IfQlrivAMBg0mzZQNr8ySS1jJdAblBKoCeoB4fwa+vL5ifwbACcEPgiiCuMKTAhWAg36du9V43fXbcwQw+28+rlIum++D8WVzZ3Xi+FO6y70R/tZAUYGcAoDD1gT7BcfHjsk1SngLzs0XTZEN1E1jzBOKiYiXRnMEGUIGAKe/Zv67/r6/Jr/kQRrCXQMiQ+YEBwOxAmlAqX4pe1f4QPVEMquwK66/rfGt7K7/8Izy3DV4+C96jX0AP2WAwcJzg1IEtwWVRu6IIwmOCtJMMY04DWINfwzaS4XJwcg/BagDXQGZwDw+1r6Hftq/dYAuQUPC1AOZxAtEXINfwZt/gfz8uQE2JXLhr+9t0O0CrO9tUO928bZ0Gncdejb8Tr6MwM9CU4NthOcGZodkCMmKncuQzJANg03qDQfMrwt/iUYHmIXXA/TB8gDcACV/bD+/AFvBGQIEQ7mERsUwBVbFIMOQQY+/NPued/D0fnEV7nIsmawQLDitOG9k8ci0kXeVekC8jD6AgLrB3sNexRVG1UhbCi1L6k0PjiEOoA56jUQMVYqtCHiGMkQywiUAav8Yvn/9g73evmi/DoBlwfSDQsTPBeZGYIYzxJNCkH/UvCn4GnSjcTauZa0MbJQs4K5hMHdya3TLN3A5Nzr/PKr+QIAqwchEdcZ5yLXLNwzbzgXPBc8uziiNIEusybuHxkZ1BEEDIIGFwH8/BL5+vXt9IP1SvhC/ZYDawsoE7UYZBwXG90TjApY/JTpStkLyim7ErSNsn+yL7nbw/rMMtdW4fjnbu1c8on2Jfx8AtIKDRa/H34pjTSuOWs7zT0KOvkyCC+uKFsg3hyKGSAUMhG8DeAHQQJ3/MT2T/Kt7/jwA/Ws+i8EwA1uE5QYExoME9cJfv7H7E7cENC0w/y7ortDveHBV8pp0rrZZ+AI5RHpueyO8I/3Qv+zBwkUkx/LKIQymDiJOag5PDdOMSwsXif1IUsecBvCF50Tag7OB2QArvgE8nXtVev57E3ye/l7AhMMbhLMFQEWjw9hBRX6GuuX3LzSzMmZw//DPMYtydDPidYW2zbgRuVS6RHuxvP0+k0DEAw1FsYfaSbLK60vhy/bLRwsGCiOJM0ifyCGHiodNhoEFgkRmwmSAaT6/vNj7xbv1fHK9tD+6Ad6D4oUFhfXFEgM8AEG9mvmLNlW0K/H+sLHxODGdsnsz6TVPNlG3qLjOeiP7ef0Ev4TB14QExuTI5YoCi5uMcwvEy8UL4IrLikNKaEmuiNKIVscjhVODqsFIf3o9SbwG+4a7xPypfh6ADsHCg5JEmES4Q8YCY3/q/W16XXew9ZTz9PJQsnTyM3IfMw/0HDTpNiY3sHkJOxo9L39tQarDvoXuB+TI5ko+SyWLGYtci++LY8sBS1QKmgm5yLtHHcVxQ2FBf79CPj98wfzlvS/9y/9YQMiCW4NCA8TDwkLRQL8+QDwquJQ2YLS28klxgvHyMVfxyzNzdAr1SXcMOKm6E/w6PdgALAIFxBbGBYfTiMrKK4rUCzHLVovFC8FL50uvCxZKTgkCR4tFswMfgSC/QH3dfND8570Tviq/e0CHgg0C+cL4gsRB+D+J/gw7uLh6dls0uLJ/samxnnFVMg7zWLR8tb33OTiGepg8Bn3hADVB84OwBjwH5okXSsMMN8wCTMfNSo01DIsMsQvsyosJRkfaRYWDcgFwv5b+FP1jvRx9WD4i/xyAWEFEQdTCCwHRgB++fPy6+ZA3DTW280Vxw/HrsZixtzKcs8N0wvYit1b47bpQPDD+LkB5Ag8EtobeSErJxIudTENM0Q2hzdmNpQ13jMjL38opCFMGa0P5wbZ/8f5U/XI8z30EfYM+RP9lAF1BK0FvAYJBDP9R/fR7uzigNqj00jLKMfIxpfFUse8y0vPvdPt2F7eN+UW7HjzkP21BoYOShgLIMckaioHL8YwMDPVNaE2FTdvNsEzDC8GKKwfihaPDJEDBP2c90n0jvMP9PL1VPjU+v39+v96AKcB2v/++UX1fO475LXcBNb6zW7K+MnSyOjKCs8+0uPWD9x94N/m5u1/9Mn9Pwc4D8AYtCGvJ2otrjJTNac3BTpgOik58zb5MmksKCRmG3ESWQmIAQT8sPcf9Xr0v/Qc9hT4jvqm/Yb/aQBBAav+RflZ9Jvs0+Iy3J/V+M5ezR/Ni8xSz5DS0dTq2BPd1eD65nntMPRw/T4GKA6OF3Af/SR+K5MwYjP1NjA59zj5Nyg1vi/fKMMgCBgBEG8IOwJW/p37E/r3+Ur61foi/OH9C/+C//X/2f5Q+yT3fPGQ6SHi/9vW1V3R9M9kz7XPHtLH1BvXY9oE3rfhiOY/7APzy/p0AsUKfxPOGsUhvSgVLq0y6TYmObc5KTltNnIxMyvUI8AbJRTkDKcGUwKt/kv8pPv5+uP6B/y9/BP9tf16/dT7JflY9evvX+nl4q7cAteS0v7P8c7SzkHQwdJf1d3YU93R4erm+ew/8+z51ADdByQP+hWtHG0jWymqLjkzKzacN3E3LjXzMHQrASXdHd4WThCOCrMFpwHr/gD9SvtN+jb6O/qN+kr7KvtW+jP5bfYo8sLtregc45veoNqO11bWgtWN1TnX0tj52oLex+F15Zvqc+9a9Kf67QAcB+8NxRRYG5IhTyc1LN8vGjIoM5ky2C9GLOon8iHOG1AWuRBxC14HyQNeALr9kPuQ+R34X/cP9/P2+/Yr97L2IfUP8wvw8uvM5x/kn+Cn3QzcCNuO2k7bdNzd3QHgm+Kg5TnpIO2V8fb2rPwWA10KXxFDGD8fIyWeKT0tYy++L+ouySxYKfEkGyAfGwkWURH0DCcJxAWXAg0Aj/1w+//52/gz+Oz3Fvgs+BH4tfdW9if0cPEu7pzqYeeB5B/il+B03+He1d5G31Tgt+G743Tm6+kb7u3ylfjW/jcF1AtREtgXCx1QIRwkqybRJ8EnoidXJlok7iG2HmUbuxe4ExsQcAyLCEkFWgKI/1395/u1+tv5n/nf+B74u/dv9hb1g/MW8bzuKOxS6eDmn+S54oXhx+Cf4BPh6eF748XlfOjX69LvkvTS+Un/DQVhCm4PVRQjGCEbsx3XH30hYiIZIzojMCKxIGoeGhuRF64TaQ89C/cGPANQALT9Kvyp+7r6M/qy+hz6Hfm7+GP30/UO9WPzTfHA73DtAut16NvlweST47riZ+Tf5Qfnfeps7anvDfTK94r6//67AowF4glODcgPsxMCFqgXihoOG3MbNB12HNkalxqVGFIVLxNVEFkN3wqfB9gF/wSmAQwAawGm/sT7f/3T+yf41fdt9sjzDfI68DjvLu7R6mbpl+rP51bm7+l76sXqyO7D8JfyNPan95f69/7A/2AC4gZgBzMJogwKDRoPohFIET4T5hS+EvoSqxOYEGQPnQ+kDQ8N5QymCwQMIgu6CBQJHAnaBcAE2AXPAsb/Tv9L/HX5Qff68ybzIfHT7ELtPO6x6tDqk+5R7vrtTfEQ9L/0E/Zd+bb7hvw3/rgAxQIrA3EETQcWCCMIMgkKCioKAgngCBcKuwgJBxEI9gfiBrsHzwfvB7cIAgjKByEI1wjaCG4H8gjhCcwF8gTtBX4Ad/1O/u35g/dZ+Fr1F/Tc9FvzfPNQ9JTzjvR/9W31Tvb195L5B/pr+wn+QP7C/ef/vAAEAEYBvAJ8A7MDrgSjBXUE7wRcBT0EqwXrBHYE1wZ4BEUEDAeVBn0H2gbeCKML/gSLBikLDwOfAg4GvwEAAA3/qv8R/oX5/v3u/Pn19fpW+9/01PfJ+rn38PeB+7f6mvkl+9L6Xfu0+5j8F/9t/m//dwLsAJMBgQT3AGIBqATl/0z/XgMgASH/EAQgBe0BzQSLBn0GgQWXBcwIAQV7AwkG/AP/ALoAQQMr/zf9WAIH/qT6uwCXAB/6g/4ABOD63PoABMT8xPcWAjb+C/fOAIL+Pfjr/jn/ofuo/VL/Gf7W/Wv9vf7R/iD7y/8y/iL6CgR7/w79RAoKBbL/Dgo1CGkAvwWzB5IDjAOVA9kCyf/U/qIASf5a/mIBNwH+/7f/MwEsARn+Q/8qAvz+l/zM/vD9U/ki/Kv9HPks/X79zPuJ/Hn8OwC9+xj9FgLL/bH/Yv/s/YcDwACO+/EEgQWO/OMFtAc4AYUGMAZgAxsCugTBBfX8/wCxBlP9Wft/BJkBqfr+AhQCnPzbAM/+ev2I/0T/Uf4//xn/G//u/pb8NgHA/jL7TwGb/ez6pv+p/in8CADyALD9+P09/+oAjvt2/dUEwvzW/GwEAgFD/9QDcgRlBIkE0AJsBx8EGgFGB6QA5/9ABSv8VvwSBWr78PmVBTL8Zfy+Aof74gFV/1T75AQWAEP8OAS7AlH5mQK4Awj04gBPAg/1+/5L/wv8v/95/eD/hwAG/o8A9f+9AIsBhf92ArkBYwJ2Ay8AIgaABBT+XgYQBWD97QS9BMb7sgMOAlH5AAQRANX53gMH/2D7pQAT/lr9BP4D/0H80PwqAub4PvzOAvP5nf3dAEz+Ff3pAKMBr/rMA20E0/oMAwIFRf1n/3EDmv9HAAQDaP/uAWYBq/66A8P+qf5jBrr+zvyrBRMC7PtbAecDiP5j/YcDVQIE+6EDSgMC/WYEuwDo/5oCzAA6AK/9tQItABf7sf/I/t78O/vh/K8AMfsa/bAA8vwLAbv+7v2OBZH+j/zxAvgAWP6AABYDzQFGAy4BT//iBIT/OPweBhMDn/sLA3UGzPsk/LkIUP66+NQHBgBz+HMDHP99/PYBoP6rA47/7fvuBRn+FPy3A38AEPyI/iQC0/sw/TwBn/0P/dv/oQHo99D/4wXc8xgDVgha84YEKwiU9pgCgQdd/RIAvgQP/7sCmQJ8+3gHUAPk+yQE8P8DAfb+TvusBKj/e/nsAbcDm/tt/jAHx/1m/UEHkP48/jgFlP8O/o8CsQJL+q3/ogZ69/z97Qd79hj8DAai9uf42gbj+UX0mQvd/VDxYQ4IAXPzkwsIBkj3bAbMCWz55wTVCh/5DAU5Bq34IAcZAFz7sQXG+90Bw/8L+tAHOv7o+LkEqf//+Of/nf8A+3IA8v/RAK/8nf5RC4f3x/ylEHL2Pf08C534R/7wA438PP0BBET71fn6Chz3QfjTDcX49vmBB4D/4f32AloFcP/jANEFx/6r/1EFPQB+/wgGn//K/BQIm/sR/UkKnffV/l8FK/hS/6j8dP45Agz5rwIVAmf7QgEDAA8Al/61AJ4CIP2x/rIEpP3t+RMHp/1x+BcHBf1a+/oEqP4O/nICbwGi+5MEmgKt934JYgHE90kLhP6r+eILsv7w+WsH2AOE+WL+3Qhf+nz7Kwei+8v+JgNv/Mr/oALr/hj+RQSMAEH8+gHL/vYAGP0C/CUG3/pK+wMDKP2t/RH9T//x/yf+MACb/rIEV/1v/lQIy/nXAvkEJf5sA80BxAQv/xEEFgLu/0UEFPvMBV3+CvtJBKn5DALo+9v9aAMG+dEDB/3aAKoC7/yrB5P8aAKkBff6YgPo//f9Zf+z/SgChPsS/cADOfoY/GAEK/ls/m0Fefbf/2AE2vo3/SIG/v/R/PcLw/lKBfYK/PS6DTT/Av2pCvr1VQdqAorzbwcYBHrw2gLiCqnsewQ4CfXuigcwBgr2qASGBwH8bAGEBFQCLv10ANAHnPSIBEMEmvGgCKD5hfvOAuX08Qi39oD6CA/m7iQAXQ8P82n+fQ5H+7L4Tw+OAfX1lg6ZAxf2mQiQBbb3WQP7BXT1WQQ8AS/4EATa+54DAfuR/+0GzfWACCX/Xv1VBhj9ygJS/P8FRvy+/CIJYfRiBWD+kPiNB9X0AgOVAUD3cQX8+1wAMf9C/IkINPfYAhwIfvTjCSwASP2cByL9ogeY/TQDmgQf+wYH+/gSBMYCS/QFCfj9RPhSA/7/1P59+6EE4QVX9LUG1grn7RoK0Ajg7lMMDgAq99IHUvoqAan/cPc/CXD7PPPiDTf59vPtDbv2dP1IBvn5fQf5+rwDrwr29uwF6gnl+9n8OA0Z/Sb0lhMH+P3zOhCy+Jb4oQIjBJv3i/mOEVPwmPtIFALvvwFGCs/5uwJHAHQGzvl7AmQK4/C+CkECofOZCsT5R/5YAGD+WgCN9AoKjfpP9eANnPZZ/xsGGfosBwn9mwH/BZ79VQIk/iEKKfnf+soUVvCs/hwNC/XvAIUB3ATB+Pn+HgsI9BEDKgRI/LgB9f4DAzT8kwMm/Rz9nQtX8kQDwg7V6x4E5g+J7cT8ZxDa8o71fxGz9lnyeg+b+qD1fQsB/ib7DQdX/QgAgQbF/BUCBgXc/nEBTAERA9//APsJCHwAAvOaC5ADie2iC10GA+7NCC8Ih/LwBNEHuveHAW8E4/xqAQwA0P/rASj9vwCGAYf8FwB/Ac783/xcAlX+hvq+AsAAEPoMAWwC7Pw4/RECAQYP9m8A5RDD7YwBcxTH64UFmA6l8QkG1AMx/FIExPsoBa4AfvogBxn96v5zA23/TwGH/9MDmf4QAKUDu/xjA3AABvx9BGz8vf26BNL1sAMsAtnyzwmC+8T2sAgY+5T5zQMyA1L2PQK2B/f1xwJ0Buz8YP0ZBpUFIfRxB8wJiO/ICigGpPAYDRX/0ffKCNr8LQA3AKkA+QEy/YMEzP/V/msDrAA6Ad//cwHWATb/7f8+/nMC4/4A98oGmP+98QYJ4ALD74UGXAb98i4B1QSa/Nj7+gCTBvL3iv+CCcX6y/1xBwoBU/pYBpsAEv35BWz5LwVeAh74zwfy/2n8NwBXBm79r/huD0L4M/qEEEz1TQHwCHD2pQUFAdL5pQUi/Xz8EwKT/bj+gv22AHv+w/o2BRj8s/l5CaL5gPrjC5X5Wvu1CcP91fpbB6cD5/ZrBiwF+/W1BVID8/k7Ao0Alf+gAJX9qQSzAI36bwhf/+T6BAcpAOT+zP+vA/QA0/pLBCUBCf5n/UkCBwP89McEIQT28+sEFQFx+CgC5/0u/YIBlf15/3UBef50AMEAPAF3AED+DgXoAD77pAWEAhL7oQESBJz+F/wDBDICHPlAAykE3fjuAcEE/voYAgoCvf4VA0T+wgGXAiz+rv//Atv/3flSBecAJvcpBH0C//em/xkGWPn++QwLq/pw9Y8Pg/tc9aUMgf7A+h8DuAWS/OX6ugyZ/Fj3Tgzu/wb1swfEBAz0zQNDBrn2sABvBXf7bf7eA7z/Xv8HASYBigLZ/T8AbQYR/Bb+RAfb/fP6VAONBeH0EQGAC6/tWAQ6Cu/tBwR+CITzcP6QCpL33/xYCL79hP19Ar4FHfuk/4oIovyp/UMF9wAx+4ECmgNi+fQAsQSK92kDbAPy9jkG1QBb+rsF8QBW/CUEsgHV/FsFcwC6/K4FlADc+6QDBQHw+vcB+ABX+y//TACI/Wv8cQFO/jT75QTD+zf9UAj992X/2wr59jwAvgt19pUAdwr891cBjwYc+RsDQgJP+vUEOP0y/m8E2PtWAGoDbf28/j4Gsvv6/6YGM/qPA9cBi/0WA0v+tACIAZP96/+1/+D/vP3a/AwGs/g6/C8LZfR3/R4LO/af/Q4JFfqE/AEIRfxT/YUHXvtTADoGyvlVBAEDw/hJBrYBCvnIBdEBNPgsBdkCD/nnA1cCjfzeASkB3gCQ/4f/AwPc/yX+WAJIAgX8nQBsBOX6vP5IBET7Tf5EA+v6TP/6AVb6LwEJAtz5EgJWA8j5owFsBPf7m/8TBVz/4vx4Bf0APfsNBZoBRvvSA2MBhfz/AeAAy/4u//ABPADE/OwDp/+Y/X4E6v0RAMwDRP0KATEDAv0RACUEj/xE/uIEQfwR/SkEf/wd/WECGf0p/uIALP70/vL/Mv+L/6YAuP9X/8YBaAB6/xUCBQEMAAsBpgFGAKH/+QEhADn/4AD1AO//wv6KAQQAa/7ZATMAx/7VANAAP/8UAFsBIP+2/5IBtP6+/xgB4/3Y/zUAMP7u//v+v/51/+D+4v/A/kv/pgB5/vj/7QD7/nb/rQAaAbj+wAAIAsL9NQH2Acj+FwF3AE0AygDA/+AARwCt/4gAogAvADIAzgDq/zcA3gD8/50AoQDr/8UAdwDH/wQANAD2/zT/YACd/yX+SgAo/wv+eAAT/xb+cQA6//z+GgBP/7T/4/89ACEA+P9OAI8AUQC3/yoBGwC9/yUBmv8xAJoA7P8HAAwAYQCc/5MAOACR/zQBIQCZ/+0ArgDU/x8BswC4/+gA0/+2AHQA4/7UAAQAu/4JAAAAZf7H/hQA2P4I/9v/5v6O/2L/Wf90ADL/AABkAJn/DQHS/ygAgQFs/3IAtwHe/43/SwGfAGf/DwF0AIn/iwCoABgAIAC7AB0ARAB/AJ8AyP8MAGUB4f6FAAoBVP7RALz/7P5xALj+Wv8bAMf+8v7t/9P+x/6aANz+Lv+DAPz+MAB6AD3/GgCvAHb/DQA+Aab/3f9UACkABwDi/+0AT//I/ywBJ/8qAMAAhv9GAM8AbgDq/9IA7ACU//AACQGA/50AvwCp/wgAjgCL/63/eQD2/n//HQDd/lj/AAAo/+7+cgCL/zL/bQCw//7/TQBDAPv/VgCMAMv/5gD1/z4AEwHn/qEArADj/okAGgBR/zkAWgCy/77/GADp/3IAJADX/10AMQAcAB0AewAKAMH/ugA2AEH/BgBtAFD/bf8VAKf/Nf9k/ygAJv/z/qMAVf8d/+IAfP9t/xkB7v+P//kAQQDW/9gATQBJAH8AFwCzAB0Ax/+5ADUAdP9eAGsAdP8qAEAA+f9XACsAZQAYABwATgBSAF8Ao/8uAIwAuv/i/ycApf99//n/o/9N/6//bP8w/6L/Sf9y/+v/NP+D/yEAn/93/z0AEwCB/0MAVwD1/wAAPwAnALf/NgBYAL3/MAB4ALv/JAByAOL/agBuAPn/awCUAEsAYQBxAC8AewCmACUAawAzANr/dADa/7b/YwDA/5n/zf+n/4//jP+2/4P/q/+J/5L/3v93//f/+v/Y//T/3P82AL//yv9OACMAwv8HAGEAx//Z/1gAGgCg/yUAggCT//r/yQC9/xEAqQDR/7oAiwCe/5sAuQAWAA8AqAASAJL/kwDy/1///v/S/5T/kP/B/6H/gf+d/4f/uP+X/9P/vP+K/3MAxP/E/9AAw/8JALgAAQAvAFwATQAdACsAdwALAOf/bAB9AOz/3P9aAHAA7f8jAIwA9//d/34ALQCT/3cALACZ/zIAvv/g//T/VP/z/wAAI//S/8D/B//A/4//Yv+X/6X/uv/S/5P/rP9mAGT/5P+5AG7/CgBvAN7/bwBZAN//dwBmAPj/cQBIAPj/YQBTAA0ARQB2ACoAAwCWAD0Awf/BAD4Aif+4AG8Ah/9DAGsAsf/P/wIA3P/A/2L/6v++/8D++/+0/7P+AwBg/wX/MQBO/yr/WQCm/4T/hwDD/+T/uwDX/wkA1AASABsAsAAXAD0AdgDu/1IAeQDH/0oAmQB0/14A3gCP/18AtQDd/3AAXwDE/4IAfwC9/0AAigDB/8f/PgCS/9z/6f/+/r3/0v8E/5r/wv8p/7L/GgBU/4n/ZwDQ/4T/jwBRANX/VwCxADgAu//nAJEAZ//GAFUAh/+mAA4AUf+CAH4AIP/8/6EAaf+f/8kA8P8R/6EANQA4/5MAaQBC/zQAqQAb/woAnwC1/o//owAS/+/+SQC1//7+0v8mAH//5/9aAO7/kP8dAMwAhP+z/+IANwDw/3sA9wAOAEEADQHi/zoAowD5/9L/DwBvADj/QwDrAGv+qgBVAc7+JgDWAPX/af8mADIAof80AFj/QQAuAB7/YQDI/wEAh/9S/xgB7f74/gAB/f8c/4L/mQEN/9b+hAJ1/o3/DwLl/bsAZAHm/ScBKQFG/qAArAF9/1n/CgG2AIH/SgBvAOEAyv+e/gsClgAn/Y4BugHS/B4AdALd/RD/YgEv/wUAvf92/4kBj/74/gcDgv74/bQDn/8e/bUCDQJN/Wb/jQNF/1X8LQKTAvr7D/9NBJH+cvyDAgwClftlAKYERPzh/uEElf2F/o0DrP+P/2EAkgBjAQb99P6LAtT8Lvvq/XMAvvro9WcHUgIl898KNwpQ9scGNQ6M/MwBkAxQAJX+RgPo/zIAk/19/jcDXv74+54Bkv/t+sz+Av9I+nL7Z/5p+eL5AAD++wj8dABRASYAewAeCPQDXwAoCicFGgA4Bm8FDwPNAcoBiQXN/YT5wAIM/Uv01v4CAE7zPftRAcH3PPpqAPb+tPzN/9kC3v/XAAUEUAOWAoIDjAYqBBcAwAc9Bpn8WgO1BC39VPwUADoAFPoc+wwAU/4w+V/9SgR//Rj6WQadBGb31AJ5B6X6Uf8BBRIBMP9GAHMDjwKB/I8B/gdQ/VH+pgl6AAT7dgT7AFr8BP/7/E7/xfs/+X0AF/px+WwA0PuP/UkAoP57A7IE4AC5BXIJLgGvANkH/gK7/SgBvgGy/eb6x/x0AHb8Tvn0AywBrPf3ALAB1Pqg/RQCmgFv/TgAHAMn/q/+0gIFARr/LQAyAOn+Qf9bA6kEOgEQBFwFrfz+/f8B3/wB/3n/b/1q/ZX6v/xn/fj67f2KAoj++PsgA1YCqADBBWwHnwdIB0kGKQV6BMgDcwONA0n/s/3K/uP4NPeC+VH3b/jc+NL39/pF/Sj+2QBEBbUFJQQPBnEEJgEnBFkF4AByAe4DswAO/eP8Ef9a/NX66/67+w/5pPkN+av64PkR/7QE+QDbArsIHAcUBWkIsgjcBYoDkwD9/ZX7E/zd/e/9vP/3AIz/HQDeAPsA/AGLAZkAaf1T+4X+n/1B/UQFEwYXA0AFtAMTAzMDiwORBYQB0P2F/uf66/YJ+9j+7PzV+5L9//w4+ij9+QH4AX8BJwRnAhf8ev45Ah3/7v8AA/v/rf3r/kv+uP6mAAUB3v/H/RD7iPwj//X8IABQBYYDOALJA3IDiQK7AmoCkwGs/9L9Uf05/k//wAEOBWgFwgJjAWMCKP4P/Or+HPxa/PP9V/nd+s7+e/3YAMgDJANdBVwCbP9oAaf9BP1h/2v6k/p5/sH7pPsgAFwBAwHTAH7/kQBbAC/+EAMdBLX+3QLEBUf/3f/6BP7/P/sp/aP7ZPla+vn+lgRrBCwG7Qt4B0cBqwW2BLL9S/98AcX+n/5vAB0CYQJTAikE+wIVAAYAb/4K+675LvhZ92T5ffnl+gsAvQEAAwYE6QI9ArsA+/2X+lH6bvsd/Jf9Of8qASEClAGu/nn8Hf1y/q/9CP6LA9EGFwaTBwEK4AmLCDwHpQXYAtH///7v/Sb9jAB+A4gEUwfDBxMFWAJb/v75YPan8s/yW/MN8vv3Av3m/SAFEQmlBlMI0wbEAY//hvvE+Uj3bvOe91X48/UE/isDZwKaBdoGBwUzAH/9tv+k+/74+v+EAo4BqQcPDdQNOw1uDB4LMQVuAND/4ftS+dv9Uf+X/Wj/s/9G/0j9i/rb+0H6C/i4+pP62vlU/HL7aPty+mn2f/jB903zkfUA+Lr5v/yF/10GzAltCIMLIAqUBPYD0AHi/yMBaAJzB6QLQA4YExYUGRRFFNQQqQ3sCKcEjAOB/GT55v1L+uX4z/w4+tf3WfYr8Wztneq36T7qqeh27ODvee+99ND3Fvi3/OH+Qv/u/ZT5QPx4/Dj4RgByBxAHig1yEkUQThI/FdQUVxWbF8kZNBm7FmYUzxONEX8MSwtTCqQEcQH2/0T5uvSL9DrxX+4g75TvbvB+8Cntbu5o7/vnlecS6vLja+Sv50Hljugt7e7xUPmS+uIBjAzVCe8Ngxe7FB4XRxw1GBwY/BgVFkQXMBjCGWwdxhtuGRUYJBP+DcYJJwbsA9kArP7L/Wj6fPc69hD0nvH77YvqyOcF4oXdKNyU1/vUFdZa0+jUI9s53CDj4u+O9U/93wemC8AOfxGzEr4VMRaYFzEcyBz+HT8i0iGCINkkiSZ9IQgiWSS3G1IWZBZ/D3MLowmlBiMIggSvAOABQ/sW9Ajwf+fA3ljV+M1xx8a+VL4wvVW8Ncm80UjbQu/5+LYEMBJoESQY9RzCFCAXqhdmEYkTWhOvFNAawRtJIRwohSjrKm4rPinVJsUgLB3IGOMRVhGvDSoIwAl1Bdz/mP7e9DjsKOYM2EPNWsOOt122B7Xfsnq8WcdH0QbdMehV9lIAAAdiDvsOdxBHEkgNdg0VEAwR3hbZGfQc3yMnJvAo2Cu3KzQuBS6jKQgmFCLBHcoXMhNQEogPbg1qDEcJNweJAZj3QO7w3h/LNbxsrsKhgKAeqDWyhsFX1AHn7PVn/c0FKA4ADNQKWw2lCHIFUgaaBuIJ8w0oFXUeeiL9JrYrwSwGLRAq+ydhKMIl+SLCIKwgjiCmG2gbWxvGEwkRwQ1+AqL4Ne3d3CDK7rjSrI2gs53Kpwaw0sDv2PPmhvacBCIIqAw6C64GzwcU/+b4xQBMABkAnA0xFuYaaCSAKfwqlCzCLJMs0ik8J4koSycxJPokzSQZIuwflBx2Fw4SSA1GBZz5hPC14yfP+L8GtRylv5rjnZSmf7BVwVzaS/FqAcwOtBdiFwoQ8wg+AVH2fPLX9l34oPwpCR8V5B5pKIMwATeeOI41eTFQKzYk6B8nHWsbYB2HIZQjAyRiJKchfBuzFGMLZv0c7XnbTsdGslqiOprllbaZ5apiv2rTXuzoA9QRHhhhHHkZnwk3/R/29Ob44MDnAuxm+HIKERosLUk3yzx7RS8+TDT1MaojfhdoFdoPtQ+GFS0bhiS1K4MvFDF1KlMe5Q2b9/rfnciHskChpJfOlFSXBKRhuDPMq+Ej+WQM7BebHHMeKxnCCcr8RPTh5+zgMOen8AP6swmbG9YnoTAgOGo7VzmtM5MupSjeHkEZmBlkGFUZFh9tIyQmeCZDIYUaThGAANLt5Nx/xxKx56GJl7eRFJeDpya86dPe7xgJ8RoyJqoo7iQvGwIIAvjc7Ljdk9l74fTnIPcYDfYd3i4APGdCNUUEP+Y1iS0aIOEV7RCEDdEQaxZlHNskRChxKBknGh3zDlz+WOf8z6a4rKE6lBCPXY/Wm1Wzjs3p6CQFlRsVKBYtCSq3H8UQvvxm7Njj5tly14jkP/I/AMAVNynzNNs71kADQLo0zSvJJl8YqA3IDoYNgg0TFqIf0iVxKXsqGSUSFwQECO681Qu6uKJZmaGRto4ooDa0W8ce5Sz+3hHaI94pxSu4J2MYdgqE+gXpQ+AK3L3eeOls+BkMJRySKhU53ztjPJ88MTJsKkwjvhb2Ek8QTQ3DFZIbeB/rKD0oHSK+GlcG8e+O2vi8IaYzm7qQKo/EntKyR8fT5CwBChMqJEkufStTJcMXVQcH+f3jPdv53h7aleYhAacLbx8kObQ9YENrSAo+uDTpKH0ZjRE5CNECoQizDNwSvR8yJkMm0iZkH0YLa/bo4L/CmKmtm7GPbI7Zmsur0cQL4Bn3HRFnIv0leyuzJ/UUFwm2++/kMt3x3tDcbegL/TEM9B4CMVY670BaQaI7/TTKKJwbiBMkCxgGWgnKDt8V9h/XJsgoCCcYHYMKffXQ3MW/K6nImdmMLY3omt+q1MNC5KT+Uxd9LPk0XzbvL5sfDw4O+6zmztlJ1WzWV9/G8NAFqRnbLUc+7kRaR3xE7jh4LEsfXRHZCPwDfQQgC2ESWx3fJnwo1yl4IY4LBfn/33a9QqjTmVKM3454nA+wrMuG52ADlBzjKsUyDTVWLPsbFQva+xToFNdw133Zqtqh7+EG6xSwKtw7kEBYRIdA+TbsLO4dpRS2DnQF9gd+DzwSdxzdJTkmWSaBHVUJYvby3ca+lqkunGiQF5IjoPGwAskU5Vb+sBfYKKAvrDVJL54cUA8t/Krkhdpa02/SyN6M66oAHxrCKBI6tUb1Q3FCvTpAKo8fbBKPBvMDvgEoBpAQTBg3I7wq2CmPJfIVY/8c6bLK5q7cnoCQoIwJmZKpucGW4Nb7xxVjKWAygDU2L1Agyw7F/NXqqtt01mbYBN4D7mQBJBMOKII1vjzcQpE8EzQ7LJkbKxFoCqwBcwQFCtkObRyiJqspmC0lKV8YywQR7vXPi7MtoauSdos9lJ6kPbqB1/Pzew4FJZgvADWzMjYhShETAErmItrx1RzQz9qA7Yz9CBSwKHA3mEKrQwFB4zkkKlkeNBQyB1ICaQV1CWYQ4BsmJmYqSir3JvoZmATm8FDZsrz3qOGcB5TdlfCil7bDzzzqzwN9GuAnIi6aLeQhUxJhAgjuO94H2ezVSNrM6yX9UA9sJeozWD0CQl89STeLKxccJRR/CrkCcAZyC1URKByXJnYsAy3cKYgg5Q05+GHjdMqWsqGkupzRmcSgfbEsx1bdgPXADDIbCyNXJnogRxMVBZ32oOZX3M3b8N4a6In5EgywHVctRTj0PUA8ljWwLd8guBNvDeoH9QQoCsARBxqmI78r9y7KK+kjkRU9ARHs6tXFv7iuoKOsnpKhnavHu0LQiubF+2cMNxiMHuYcoBQcCsX9B+7l4onf4txT4QvwQP8JENgiCzI7PAM/xDxvNlcp+hueETkJAQU4BngNTxaVH2sqADAUMHgsOCHtD/f7QOaz0Bm+sq/ip46ni6uMtqXHS9gP6m773Qe9D74ShRD1CWMBevYX67flouKN4l/sLvgQBQAXEyXgLug2FziZNOIuOSVdHLwVJw/wDZoQwxMfG5MiLSfNKroqBCXFGiANyPt/6OPVZMXHuNmw+K5Ls0S8VMid1zPoVPTh/oIIZwnKBXECfvoX8I7ot+QQ5Z3njO+j//QMkxhZKIwwKTLkM8sv+ifXH3QXHBMiECMOlxOnGmYeHyUeKy8qDyfHIfQWKQq9+wLrg9wjzzPCsboct4G2H7yHxETPc90b6VD0pf7GAYYDaAOR/c32ie8s6y3qgenK8Dj9igbPEwEi8igZL0Myoy9uLL8lPR9RGysV6BJ+FREXHRo+IDAlTSaFJdQiChvjD0sEUvak537bT9Cxx+vClcDHwtPHvcz11One4eVM7cH0lfgt+7z7BfnS9dXza/H377X0SfplAGAMIhXlHG0mXCjyKZAqayRGIiofjRiMGSoaGhkRHuogqiFQI8Eg6Rx2FxYO0AUt/V7y1ukw4tvZbtMtznbK5sjGyFrLmc9M1jTe0uN87G30zfUq+rb94/oc+6b79PqP/G39UgNeCisMcxRlHSMesiGPJQ0kbiKkIIMf7B2XGgEcdR2UGkccfB5dGvMWchSiDSsFYP3T9OHriuMT3JHV9880zQDNfczIznvViNqc3sbmLe5s8cP18vmp+Q/53vkq+Rf5/vvjAJMGlAwyFCMcpiCAI/4mbScwJYYj4CDtHdkb7hnUGNoY1xnLGYgZaBkRFoURwwtLA+L6+PKK65Xk795923nYGdVp0w3UJNTP1bbZcN3a443p8O1k9Jz3MfpT/f77efwv/UX7Qf9IAz8GHBCeF50cXCQ2J6Enryf2I5AhsB6oGdsYKhjZFBIVuhV5E3kSLxHIDEkIJgTl/Tf37vBs6rzkf93j1s3TE89hzCbQsdJb1rDfEeaY61rzdfZf+Wv8+ftJ/Vr9T/3QAT8EBAhIEIcUgRiHHoUfIh9rH0odRRyxGzMaMBtnG1YZpxhzFswRMg93DB8IvwXZAgD/2fyl+JHzVfBF6wDmIeKv3D/YbtbW1NLVaNpo3wnmpu1p8tn24Pk4+SD6uvoU+tj9zAEgBT8M2hG4FUAasBuhHD0d9BpbGhQaVhgmGZ8ZixilGA8XEhQ6EhoPNwsHCSAG0gLZAE39ovns9lbxm+wU6uzk7OG94ZPfBeB44cvgj+IV443i4OZs6ZTr4vOc+fD9TwUzCBcK9gxRCwMLNwy0CtEMIBCDEUYW0xncGqYduR0dG84ZeBYZEhgQNQyzCKwHuAO3AQMCdP7B/RP/k/zs+z37R/cJ9NXuI+gq5P7e8Np23DrdW9+F5m3rW/CE9yv6I/wN/9z9Xf4eADb/ggJQBoUH8wtGDlAO3BCrECcQYhK0EkEU3xayFoUX1xfrFNYSfhCnC3MIBQbMAcr/3f79/P38ZfwE+6X68feq9BHyb+0h6o7o++XO5dXnGOnE67rvRvK/9HP3D/i3+F/5nvgI+uT78P3qAhEHzgoaD+EQHRLaEjAR5g9iDjkMwAsjC8kKtAuGDEwNzw3yDekMhwtACo8HegXYA4IB2wCi/3L9Cv18+i/3r/Ui8lfvxu0V62Pq4ek66T/rJe0v8M70hPj2/KD/PgEyAjUAiv/S/Vj7K/yY/HH+ZwKEBcMJKA26DqsQjxCVD5sOeAzPC9kKhAkfCgEKhgmuCTkJoAjGBz8HAweBBQgEkwLY/2v8vfhL9cnxve4Y7WrsHO0m72Lx9vO69nP4i/l3+pj6Jfpd+s/68vpD+/36bvu8+wL7L/x0/c/+JwKuBFoHIgsfDXIOKw9JDr8NIQyMCtEKzgpgC3wMFA2oDCMLnAmRBoQDlQKEAJ7+S/6z/DX7F/n69Uf0z/Et8H3wIPDe8dj0yfXX92/6cPpC+iL6hPgO9wn2gfV+9hX4G/oc/av/vAEYBEEFewU5B6QIRghaCWgK1gmoCiwL3QpJDFYNxw2UDusNHA1YDNwJAggRB8gEQQONAvT/nP2n+3H4+fUF9LjyovLR8rf0SffC+Oj6e/yJ++P5Dfi19H3xPfBL79PvHfMX9uz5uP7VASUFPweKB2AIfAf+Bd8F1AR2BBcGeQeqCeEMNQ91EeASrBK3EW0P1Qv0BwoEl//G+5357PeB9075Wfvs/doA3wFYAuYANv3k+df07e8n7abqPOp27D3v9fIG+I/8qf8cAqUD6AKIARMAcv32+3H7NPuO/PP+uAFVBbkJ1A24EesU7haZF10WRhNZDu0I1AMr/xr8EPvk+3X+HgFqA8YFGAZ3BO8Btf3o+BP1ofEL79zuz+9n8Xz0XfcS+UT6Qvo3+X/3XfVh9JXzBfTf9rv5c/0SAq8FmwhWCooKNgpOCCoGUgV8A0ADvAWmB7cKAA8rEYcSMhMTEfENvwkoBXABKf2H+q/5mPj4+Hb6G/vi+8/80fyN/Dr8nPuV+mn5yPcA9lb05/HK8MPwZ/B08lH2Hvri/p4D+QZQCQQKnQiLBcsBY/6e+4j6tPv7/lMEJwrQDyEVkBdcF4YVsBC6CmAF8f/O+2n62vos/Hb+kwG3A98DfwNzAVT9QPnl9D7x3O7w7bzvZPKj9Vf6yP1D/8kAugBt/qz8O/s6+VH4L/lB+s37x/65AdcDjwWOB1cIdgeYB88HwAa8BvoHagizCB8KKgtzCpgJJwkJBzUEoALHANz9ZPwN/Db6W/lB+tv5pvlY+iD65/k8+Vb4PPi/9jH2vPe198f44vsC/SD+uwCYAXYBywFLAVcAff8S/23/yv+zAPwC3QS/BSwHHQhoBygHJAfvBZ4F8QVGBuQGpgZVB2gHnQT8AigBifzO+cT4gvdJ+Gn6Of0VAKYBWwI/AcT98/k79tfxSe9L8CTyyvR8+nYATgRmBxsJuAcWBQcC2/2S+zj75Pv//nsCDgbaCR4LKgupCtEHfgX2A+kBfgGKAqgDagS7BcYGoQWZBPkDUAFZ/y7/5v3N/PT83PzK+1T6PPnN9//1ivWv9q33PPl4/ET/JwBQATkCIgA0/j39GPvc+VD63vuu/Yb/NwPQBSwGYAjpCJcGGwYTBeQC4wEbAXwBhAEDAecCNQPQARUDtQNgAu8C0AMLA2YC6wFEAUX/Pf3//Jz77/nW+pT78/ri+/r8mfw+/K37TfvN+rH5T/pd+xb7W/2f/xj/CQGoAhQCoAMUBAoE0AUPBRgFOwboAwoDmQJk/1L+0v0a/Af9C/4D/0EClQPYBMoGZAV4BBQE/ABZ/xP/4f1r/jz/6/+zAcsBlwGKAeP+Vfx6+hf33PTS9DX1AfeE+r3+2gKaBRgIagmyB9IFfwOf/9X8M/vK+dP5J/tC/UMAQgJdBNIGmAbuBfsFLwQZAvkAW/9w/iv+Nf56/z4ApgH3A7UETQVXBh8GGQWzA7cBDADn/Zn7Xfq0+Mn3Vvid+Jv5nfut/X3/uADeAUECWgEnAKP+Q/0V/I77fPxL/cj+FQFZAiwDPQNFAosA2v1N+/H5KPmf+Vv85v8JBK4ItgwZD0wPJw5uCykHvgLi/pf7WfkG+YL6ifwY/4QC5gQVBkcGFAXXAiL/vvth+Zv2AfW99UX3BPmJ+0v+BQDUAA8BWADZ/tT8fPuR+nT5F/qX+6z8yv6MAbkDBwXvBdcGrQbsBVIFEwQlA6ICEgIjAmsC9AIpBBYFvAXABtMGUgYMBtkEVwM1AtcA5f8k/7/9Tv2X/CX7Ovtx+oX56/lE+Yr5hfox+vP60Pv++hz7NPu3+XT5Tvmw+B/6ifvS/On/SAKZA5sFDQYDBWUE2AIqARsAQv8tAPcBWgNXBsEJVAtNDdAOWQ6dDcgLeAmIB4MERgIiAZ3+Gv0f/eL7Wfti+2v6avoo+kb5h/np+BH4Wfhk97T25vbx9cL1x/XI9UL3JvjS+YT8Bv5MAJACFAPvA2cEdgPWAgkCXwGTAQMCtwNhBokI5gqtDdEO6w4kD+8N5AtaCtIIMwcMBiYFgQT8AxMDawJDAfr+Xf28+8b4dfan9HLyUPGr8PPvMPCr8GnxD/M+9Gf1gff4+Br62fvD/Dj94/2c/br9Wv7//XH+rf93AGYCzgRlBvYIlAtfDa8P6hBZEYISGxLNEGUQrw6uDHALVwnqB5sGlATGA6kCsAARAAH/8vzq+yn6zff99Vfzu/Ck7mPsA+uB6ijqJusK7avu7fBw80H1pPYD+Kz4BPmX+h78nv3kAMAEZAhlDM0PQhKjE08TfBLkEDkOiQy1CxsLogs2Dc8O3A+mEMwQcQ8lDdoKbQi9BW4DAwLAAGb/e/7k/EL6dPfF81Dv2Opq5vrikuDy3j3f4uCf4qLleOkU7NzuK/Jg9AX3svre/ZgBKAZQCpwOExI/FP0VyhX/E44SlRAZDjYNkQ1XDnQQZRPNFZkXeRjmFy8WFBN1D1EMnwhIBXcDigF1/zP+RPxJ+R/2IfJi7W/oUuN73iLaQdZI1EfUuNRe143c8OFb6GPwFPg9/2IGlAyCEdQUvxasF7gWzBQfE8oQHA42DaoNEw6DDyASnxSvFnQYmBmuGeQY0hdCFtoThBGQD+wM5wmyB14FMgJ9/yL9l/lT9eLwResp5CLcdNTpzLLFj8EGwSrDLsmO0y7gre2E+x8IkBFVFxsaPxl8FUIR+gwFCTMHIAi6CqsO8xNCGZ4d7CDrIgEjryH8H4MdhhrZF3YVIRPgEPUOcQ34C5AK7AkbCaUHPwaJA4v+HPgE8DTlNtnWzWPCtrjDs5myfrUDvjfKt9ip6OD3ZAWlD5oV/hgRGX8V8BFGDtMJqQeuB/YHBgq4DQsRyxRyGHkbPx66H6sgjiG3INAenB0gG58XvxUDFLYRgxBIEIgPRw7yDMQKxAZiALj4gu+940fXTsuvv++11q+YrX2vJbaRwYTQIuHX8rIDRxHVGtkfXSBWHDUVfA3OBXT/y/zQ/TEBLweJDyYYhB9gJfkooSksKBAlrCDhG14XBxSQEdUPsg/FEMwR1BKVFMQVzxUtFdwScg79Bwf/fvMM5kbXEcgNuoSurqamo1+mCa+MvA3OU+Lt9sQJXhlVJMEpmym8JHEcExL/BzgA9Ppm+T78GwKiCTASpRrzIO4kjSZeJQgijh0EGZ4UIBFlDxMPaA/HECMTBxVYFlIXgxcmFoETkA+PCawB1/d47FnfC9Ftwwi38KzEpmClOqlIsvq/mNFt5Q75EQtRGlYlHiu+KxcoLSHeF88NQgW2/pb6hvog/rcD3AoWE9IaRSCNIzEl/yNJIAsckBfpEkUPSA3gDHkNCQ+VEbsT9xTKFfUVixRvETgNvgYd/XPx2uP6067D2LRXqCugQJ6WouSsFb2A0cjn0f1tETUhzCudMLcwVCxuJHUbGRIGCUYCc/64/I39VwGpBukMohNhGckdZiDNIJ8fxRy6GO8U5BFgD/4NPA7sDgcQaREhEpYSgBJ7Ee8PZA3FCL4B4vee6jPaMMiWtuWm75sgmMqb76YFuQXQC+k+AXgWRifAMcE1MzWOMLIo3x8TF5IOQAfqAWH+ifwM/QAA2gQ+C10SwRhzHfYf8R/QHHAX2RGjDMsIfQfmCPULqg/IEwYXTBikF7IVWxKLDbEHQAB89hXqJduIypG5kqmXnVqY75kRo160cssw5Vf/ABd/KUM1RDqVOe8zCStvIX4Y3Q8VCLoC+f4V/HX7WP2bAGUFxQtAEocXmxpdGxsaWxYkEdwMAQrVCHcKOA6LEoQWlhnWGsgZqBYxEpANfgh0Ak773fHr5BTVpMMWshKjQZknl7qd2KuHwJvZvPJnCRAczygdMMEyrTHnLjcroCa6IQQcnhQdDH8Dp/tt9anyX/S++Y4BogpgE1gZbBs0GuQWdRJxDiYNsg7CEQQWaxqIHNIbGxmyFNIPwguvCN4GRAUcARb5B+1Z3PrHYLMtoiKXvpQRnCysgMJy24L07Ao3G7IlVizzLmAuYC1aLF0pniSYHioWvQvqAMX3VvLx8MrzJvuEBI8MvBIYFvcU/xDDDK8JOwnYC3ARYhnqH7EiqyIjH2sXng5WCF4EkQLWA/IF3wQE/kXxiN9VyQWyDaBelgOVjJ1yrwjG/dyQ8kQFBROVG70hYSfqKzcvwDGkMoYvXidXHCIQfAL+9djuBe157rfzbPy2BO8J2wxxDvANqQsUC1oOVBNyGJse+CPaJAMh5hraExMMmgXBA3oG+QmkDK8OFgx7AGjuUdrixASwQaEMnMueAae9tBrHqNmS6U74JgdqFAIfESkDM2A5KDp2N8ExwCaQGCoMhQKD+t71Efb8+Lr75/2/AH8DrwSzBZ4IDAyADpQRshW7GO8ZsBrmGoIZVhaRErMP7wxCCgEK4gvhDHMMtgo+BKv2yOSm0c291KufnyGbIJ4Pp/20l8bz2P/ph/rwCmcZtSX8MCk66j4KP6Y7aDSCKUQdShITCYABxPz5+rr6QftZ/LL9nv+CAdYCmQSVBhsIpAnyC8wO9BFoFXQYgBoDG5AZwxbeE1URLxArEUgSixHrDf8E7fQX4A7K+bQspPya3Jm5n86qk7jXxyvXIOUi85sCThIOIa8uAzn/Pf09aTl6MZkowh+YF80RKw3MB+kCrP4X+uX1CPO88Try6/Nk9pT6kv/YA80I3Q7KE7MXChyvH94hMCMlI4IhEB8qHP8ZuRjZFSIRqQpN/gDrdtXDwJWus6LNnp2hP6qPteTAlM202hjnYvYNCQQb2ypgN8493T69PNo38DKNL3kr1iZOISQX5Alr/gv0ROvg5krlFeXw5vfoWOqB7cfxsPaB/iUHBQ4xFSIcFCCcIhUkgyKiH0od0BoPGbMY6Rb/Em0MoP5n6ojVLsJGslapaKbNp4qtirSiu9jF+dLr4QT18gpmH20wJzyLQXND0UPbQeY/cD4IOroy8SjuGqoKYvwk8XfpyOW/4/PhiODK3vjdoeBm5RPr7/Ok/pAHQQ9EFhkb1h4sItYjtCSdJaElDyUgJJwgbRrEEdQCae0t14zDBrQuq3CnmKYwqbStQrPKu9LHf9Yz6R3/5hNqJU0yGTq6P/pFFEsDTX1M4kj9QaI4OCwvHYQO5wGJ91rw0+pu5AveJNma1rjYAd8F5hHtifTv+2wD6QoXEpMZvyHuKE8t8C4nLlArBigVJaIhrRudD5D7B+NGzP+6dLAKq3+n96T9o8ukKKgxsFi99c5v5Ib6lA1BHK8m8C7rOFZF208UVepTjk2tReA9nzRWKXgdWRG5BYb7RfFm5mPdCdhI1lfYI9wf3xPiVeby7A/3YwN6DlsXIh8OJZUoYyrkKi8rKizHLCIrBSVJF9IBGOru1cfHG78uuNivqqfYop6ijad/sWi+xs1u3xvwc/1tCDwS7Rz0Kjs6fkYITcpMX0gJRXdEzkLdPEcyUCQMFjcJG/0C8qLpr+N+3/Ddsd1F3bfd6d/u5FrtOfdEAGcIsg/WFUYbpx9jIjckSCZ4KOYp/icQH6sOi/oH6H/aG9L1yxTElrpzsoStB60zsTK5EMRg0CrcPuac7yL61galFskoMzmBQ+BG2UWIRPdFDEi0Rvw/UzRaJhMZIA6RBYX+gvcM8Ivp7eRo4cje9t3A30rkdeqh8EH2C/yvAisKCBLPGGIdoSChIwcnkil3J80dOA2l+jrrx+Dq2d3Sdsnuvtq1TLBkr1+zO7vYxUrRfttQ5PTsLvePBJMVlyfNNYQ9pT9FQFxDDEhCSiNHgz7QMl4n0B1UFQANAgXt/On0vu1S5yfi2t7x3bXfHeOq5nHpxex28rz6WwSLDA8SiBbRG9ghMSfMKbcmqBxwDTL94e9+5mPfs9eDzmbFxr2yuIa3TLtdw5bNTdfM3grl+Ott9U0CdBGEIDgs0TK1Nfo34jt0QIVC4T9FOdswiSg+IcAaVBQgDQUFJvyl8/7sW+ge5gXmsOZs59/neuj26lzw7PeL/4sFHAnoCqgNXRL3F24cWhwBFQMIZfqE733o/uM534LYJ9Djx93B3sDcxfrOLdld4Wrm2OmH7tP2fgOHEu4feyilK6MrGiygL6k1HTtdPBc43i+CJmYeeBgoFOcP4wlYAbH3jO9A60Tr5u2C8PXwCu9T7Jjr4e4K9m7+0ATYB1QI2wh4C48QqhbDGggZ2Q9aAjL13uvu5ijkKeD42OnPfccHw7PEdMt31KLcEeJC5cboIe9T+a0G/RTBILgn+Sp9LREyBzmRPw5Csj5pNg0s1SKKHJEY5RSJDz4H6fwq83jsLuqF68XtTu5L7BPpe+f36ZLw1fjp/yAEWgWlBc4HAQ1aFGEbax5RGk0PKAGw9PTse+mH5obg+daOzEbFmcMXx2zNRtRR2gLf9uJK6PjwFP3tCpMXaSDmJPQmlimBLhU1QTqqOrs1tC39JcAgHB21GEMSqQmX/1v2EPAp7QPt6+0C7hnsCun15rLnjOwx9Jj7nQCtAhIDjgR5CSERdxhyHM8a8BIKB1L7JvMM70jsc+cK35HUwMsix2jHx8sW0jPY59zP4IzluOwT9xADqg4DGJkd0yCrJJIqtTHENw06kzc1MhEsIiYpIeEcoheaEAoI2/4g95fyG/Ek8TTxIPDH7fbro+wi8Kj1m/vH/70BmwKgA0IGhwpmD4YTUhVVE5wMBgP8+S/zQe6L6UrjONtV02nNb8poy2PPN9TK2FbdSuJd6HDw5vnqA/ENnRYGHYYicihPLkozVDalNpo0ITFrLMUmSSErHFQW3g49Bo79APe/8/bxhfAK75ns6unW6A7qIu1L8TX1Kfgn+6r+FQLABZMKDxDyFO0XbxYtD/UEtvvK9IHvLuqk4k7Z9NAty43IpsmnzUvS5tbG23rgDOb+7RH4oQOJDxcZYx+aJI4qJDExN8w6fDokN2EyLi2mKPskHCBFGGsOMgSZ+0v2DvPW757sj+lo5p3kweUn6WLtfvF59JT2z/mk/hIECQq9DykUGhcyF2ASTgn3/8H43PLt7J/letyB0ynN68mxyVXMzM/n0l7XU92843jrGPUAALsLlBZlHj0ksSrYMSI4djyGPT07PzeOMrItDymkI6sbPxFoBhL9aPZG8jvvVuy96WDnaeVV5c/nO+tZ7lvxlvSv+Bj+wQP+CIAOlRO/FlEXYBNdCjYAXPgE8krr3eOE20HTVs1gyffGAMjBy8/P9NTC25jiG+r/843/lQuXFn0eXiTBK0k0dzrLPZU+UjybOK80vS8fKiEk3xviETIJNAIk/In33fPc7/TrtOgH5m3lKujW623u9fCH8zH2Y/rs/0gFqwr/D3ETFhUDFDcNAQOC+tXzzex65ZXd5dQRztrJScdtyB7Nf9F81Z7b1+IL6vHyg/3RCCgUKB09I4ApKjEMNyo6UDxuPOM5IDa8MFcqvSQwHusUPAvKAp/6FPRq8I/tzeqf6HzmX+Ua5zPqgOxB7xrz4fZF+7UAyAXiCvQQDBaAGEQXtg+QA6T5nvP77YvnF+DV1vLNKchmxX7Gr8ud0LrTfNg/38jmSfDE+1oHGRIXG3ghwScAME43uTtYPkw+HDstN6gyOixoJZMe7RWDDM0DH/sM9KHwne6a63To/uXc5EDmSOkj7E/vkvOV95r7JAG/Bs8LYBFtFg8avRoTFeYJqP8v+RXzsOua4xbaotAEyk/GE8Z+yc/Mss4a07LaWuLn6ur1bAFtDB8WDh2rI+AsrTXnOig+KD91PME4JjWIL6QoqSHAGHwOaAV7/AT0Mu9m7HPoB+VX47fim+R76F7rM+688jL3i/sLAgUJcQ5LFDAanx2OHrUa0Q/LA/z78vSH7LDkHdw00mHKXsVrwrPDxMdWygfOANaF3nvmx/Cr/IkIJxRfHRkkbCy5NZk7Nz/OQYFAaTxeOOUyvCuzJBQcVBG1B47+ePTC7VTrkugW5ePiqOFq4h3m0enN7C/yv/js/doDzwrWD/sT9xiLHCgeSx0VFj0KbgDn+F7w4OfM3w/WncxOxo7CE8Kkxc/JT81y04rb2uJR6zz21AHVDfgY7iADKJMwBzjiPIVAm0GbPi06FzXDLQMmah7+FAsLwAGe95TuSeqf6IPmCuUw5Mvj7uWf6dLsr/EA+WX/9AOWCLIMJRBKFc4aux2bHcQXWwsV/xX3F/BP6ETg39YLzRHGvcKswmfGl8sgz2rTOtrb4GHonfOkAF8NkBgPIMwlAi4mN2I9FEEWQrE+RTmQNCYviSiHIWEYgw0cBIb7W/Pg7l/tF+s36FXmeeU25wvsgPDA89r33Psj/9QDCAmnDKwQixV7GEgZKxf6DmMDBfpj8mnq5OI221rS8MpuxrnDQ8SEyDnNWdLQ2YvhpOjr8Zz9uQmRFTMfWiVQK/Ay0TgxPME+Wj6YOlA2AjFNKVchlxlkEKEHQwDp9yrwR+xh6qHoOuh26EXo7elJ7ePvz/NF+tX/6ANBCJcLSA5fE1YZ6xyRHW4YLwwv//j1V+5i5yHhdNjAzarF5sAXv4XC6cibzWXSKNkF4L3ocfU9A/cPFhs+Ipkmby2nNu49OUIYQwM/dTizMtcsGSetIf0Y/AxDAuv5mPK57Uzr0uiP5inlzeOs5Hfp2u7+8qv3NPz1/ngBgAR/B8sLqBABE9kTpRTfESEKpACm98vvNumV4sfay9M2zpjIEsblyLrNv9I02fTgsuif8MT4swFmDbYZSiIOKOotOTNmNwM7fTwzOjM12S5cKEQjih2RFPEKfgMB/TD26+94627paulI6S3oY+g36pXsuPBP97T91gHPBGgHvAp2D7cTmBbXGGMYdRHDBZD6IvIE7IjmU99K1jjOQsjrxHXGo8u20KLVpts94mzpPvK0/I0IFxX5Hj8ldCtjMhI4mjx8PyY+7Tg0MpMqZyPKHRIXJA5+BQf9YfSy7gnt4exC7F/qP+cI5hrpjO3c8bj3yv0dAgIGEwoNDnQTjRk6HZ8dphlKDxoCnPiQ8tPrNuOl2IXNo8X5wdjA4sLux4TMutCH1/zfxuhW84f/XwvWFaMdQSMGK3g1Qj1hQOlAxz7HOS00UC6sJyAhFBlEDgsEzvuu84HtyOu06wjqpufR5VvmPusR8TX0T/d4/NABMwcIDZcReBVAGqkdcB7mHLIVuwiF/OHzqeuu4mDZlM+8xwnD/b7vvKTAoMcxznzVat3I5N/t0PlwBhwTkB7sJWkrQzOYO+dAj0NsQ8E/aDqNM3cqWSJPHGwU7wmx/+L1Ze1Q6WzoyudW5x7mBeQT5Vvqs+9N9FD6aQCKBa0Klw54EUMWkRvAHeocTBjKDQoBJfdB74/n/N8B1yXNEMYzwgjAlcEKx6nMNNI72YfgpegF9OAA4QxkGGgh5ibbLPM0IzzwQPJCaUC0Oqs01y2SJmYgJRmgDl4DWflt8I3qLOgC52Dm9uWF5L/j3OZZ7IbxAPcJ/YICGge8CkINmxAIFqgaiRzrG4sWcQsT/3f1fu6i6IzhSdewzMLF0sGBwKvD3snnz6zV/tvr4kbskPhOBeQRhx1KJecpjy9cN7g+R0MRQ/M9/TYgMD4pBSNCHToVSwpd/+n1UO706XXo7ee056XmVuSR5Mvp8vC79hj7uf5zAicHkQv+DvESAhcZGaAZeRiKEssHM/yb8mvrD+Xd3E7TYMzEyB7G+sT+xvTL69Iu23njOOsp9Kj+sgl0FY4gVCiNLf0yhTiUPIE+XT1oOZQ0eS6VJasb9BJyC40EP/2z9E/s7ubX5MDkHOYX5zzn2uii7ATxR/Ub+tj/4AUgC2AOEhA1EssV+BmzHIwbPxTIB+L6A/He6Yzjftxl1J3MZsZqwnzCk8drzwDXYN0C4/jofvFP/ZkKNBfPIEEmySm5LvI0SzpePX08ZTdPMOQomCEdG2UVgA6eBTX8f/Ov7AjpFOhi6P/o/ug36NTo3Ozz8rz4r/3bAZIFKgn8CxUO0BBAFN8WDhj1FiARTwY4+k3wQ+n84xTeo9agz6HKfMfoxoXKQNGy2B7gteat7Gn0k/78CcgVLCCvJgAqVS3kMew24TrkOoU2lzDcKaEhLRlIEgoM1QRT/MDyquq/5jLmbOeK6SHrc+tY7O/va/U9+5AA5ATaCNwMXw/ED2MQzxL9FUgYqRcHEg8IavzI8VTqMuV23//XaNCFynzGHMWax4rNpdWE3Wvjqujo71b64AZcE5YdkSQQKZ0swjDFNZc5CjoXN+gxJyvsIm0atxPgDpgJjAFj963uHOpR6R/qyOoI60frH+w47urxKPe//DkBjAQAB8MIaQp3DOgOIhFREnkRhQ7NCcICrvlS8HHoYuI13dTX8tESzbjKE8tkzknUSNtJ4ibpdvDY+GsCqAx0Fk8f8SZdLPcvMDMNNog3sTYQM/UssCV7HgoYchKQDBkFhfzj9KXvB+127I7sc+w97Avsauzk7ufzxvnJ/uEBYQMXBRIIjAtlDlQQVBFqEXYQZw2KBnz8tvId62TlmOBB257VXdEFzzDOj89R1IbbNONh6rbwLveJ/7kJVxRqHrgmDSxEL80xuTMTNY011zNNLzEoAx9DFZYNXQjlAu/7d/T97QPqyugR6RvqCezs7SHv7vBk9Dz5zv4OBJsHhgnnChQMfw2uD/sREhNcEigPdwgj/wj17utN5argNdyf1nXQq8vNydvLTtEi2Bff6eUe7TP10/3fBpYQ5BqjJNQroC8kMWkyCDSxNL0yMi0UJZkcdxXDD4UJoQFl+azyeu7/6xLqNumA6m7t1O8A8bzys/Zy/DQCLwbZB5IIwwmtC9cNmA9kEDwQFw/RC9wEcfqL71bnPOIX3tHYxNIHztbLU8xvzx3VBN0G5sDu0fay/tsG4g/bGdcjFyz+MKYy7zJ6M+gz2zL8LqMnMB4KFW4NHwdMARf7hfQT7yTrI+j95sLoyexC8Wz0y/Ui96j6VQBaBiYLAg72DtMO1g6JD3QQVhG7EWAQwgtQAiL1vOiq4IPcHtk11ATO/sgNxwHIDMy60xne3eid8u36KQIjChQUbh+YKhAznjYONrY0ODSeM3sxSSwlJLsaKhF8CG8Bnvv79W/wFOsy5o7jReQd6N3tJPN69jn4ffpb/zwGJQ0NEtUTZBMYEqgQsQ/RD9gQCxHiDTQF9PZL58nbSNaZ1L7S4s0rx3rCXcIxx7fQNN226bb0lP2eBCAMNhaFIo4uhTcFO1g5PTZINJAzyjInL3Qm0xnTDK0CH/xs97bys+0+6WXljuLO4k/n3u7+9qX81/4hAB4DWghVD2QWJRomGQsVNBAsDbQMiA0FDkMMxAXY+Hzn09cvz1vN7c1LzBbHMMHTvnnCYMyV2kzpKvb6ALcJ0RHxGRYjii4cORQ/1z76OU81hTOvMnAvFyc0GRsKK/6J9vDyWPBn7BLozuNo4AbgVuR27WT4mgCVBA8Ggwc3CyoRuRfUHI8dpRn9E+QOawtzCQEIIAbZAX74Feqp2hfP+ckKyVDIT8YNwzHBxMOXy03YVucx9SkB4gvaFO4cWCWHLis4LT+JQM481TZEMdYsdCgGIvUXmArU/IbyceyS6DDlvuJY4s3iCePG5MbqzfQm/5MGDQuEDv8RqBWwGWUdnx7+G4oWbRCXCw8IRAUCBJ8CPfwq7uvbdMyKxEDDw8PDw+/C6sEiw9PIqtRC5ev2OAfUFPIeeCVGKuQwXjrsQrlFt0HVOcYxSyqIIqoazRH1Bi/7dPCM6H3jbOB83x7hOOTk5tPpYe9m+KMCywpaEJ4UfBhUG8Ec8h0yHuobkBdaEssMHAf1ARr+9Poh9RXpT9jRyKq+ILpRuiu9lsBGxA/JWtD/247rRPwxDfQckyiAL7Uz7jc7PaxBU0JtPsI3iS+rJW0bpBEBBtD4wO0Z5h3hZN7d3XDfM+O156frdPF/+qAEJg5jFqsbzh3OHrIeJR6XHkwdrBc2EC4JtgH3+qj2bPSi8kvsGt5LzfHARLnrtTK50L9VxfXKANJN2w7pUPkaCUgaZSrYMqs1tThPOyM8HDzMOCMyVivrIpkYMg92BDj2zOom5uLjx+LL423lAOja61PvMPTY/SUJ8xLqG98gxx+/HfsdeB38GzYadRV4DhYHsf4a9/jy1/AV8FPwPOps2ozJdr7Ptzm2o7pKwXHJ2tKK27nl6PLE/2sNwB/ML2Y2HDgfOe84mDdyNA0vdyomJhkepRSWC+z+A/AO57/l6ear55vnM+k17SjwKfM++6gHzRKwG7oizCTtIUQeWBxvG+kZUBakEPoJOAL3+cHzHfDp7VHu4u4z6P/ZyMvnwPG4v7Zfu4bDSc25187hfeyL9+QBHA9rIKguQDYhOuk5UzXZL6IqQiUDIdUcXBaHDokE2fZX6hXkHeNf5TvpwOwU8O3zwPeY/IAEEA4wF5gfCCXNJCgh/B1EGhcVIBF4Di4KtAMP/YH3wvJV7lHstu7n707o0tpxzpLDbrpYuNi+/Mf30I/bJ+c68UT5OgM+Eh4iay2rNI445DbjMLIqUSUTIFYc2Bk7FoYPmwW1+kDwNejy5RnpH+2m8Cz28fv0/psBYgeOD4IXGR7tIRgieh/nGi4VzQ/oCwAJsgZRAwD+dfn89c/yr/Kz9Z3z6+f+2HTL/77ltaK0f7qrw6LO59qs52TyzPtuCBcYtiWKL+s2tTm/Nt8wcyreI38dNxkRF+ITWgxMAib5VvC+6ZHo9+pX7abwC/Zn+k/9jAEjCXwS5RnXHh0itSKxH3Yb/BZjEA0KigZ6A+/+GPp79jn0FfPr8273s/kQ9EXn8tlszZfAxblCvRDE88qB1bfhi+s39F7+jQv+GSkktysoM/gyiyvvJt8ijBquFbEV9xM+EFsKrAGf+brxHuv6607wt/He9NT7GgCDAUsFBAtYEV8X+htcH4QfehqLFK8QgwpHBPoCBgI4/vH6cPhd9bD0dPYR+I/1X+o93DvRjsScufO6L8J5yFjUQ+MN7jL34QCrC0wZgCRHK78y8zT8LeMntiOHG6cVvBUsFKAPBQpmAXX3NPCU7W7wtfVG+bb9nQN1Bp8HZwptDTwRVxcyHJYdERx/F1ESfw0ZB+kBlQDL/3f+x/y/9x7yevDP8A/zY/Wg72jkF9vgzi/AvrpCvmHEttCs4F7sXPXZ/P8DKRAnHQMl3S0ONskzlywWJkMcrhQ2FBkU7RJDEfIJZABK+m7zIe7g8ED1fPdV/JwAYAFyA1wH1QvHEVkWAhltG98ZfxRYEHALPwWJA5gDqAEkAfH/D/xl+p36N/ot+/v28Onn3sDTj8ISuQK7i72MxRvWRePT7FD38AAEDaIZXyLFLJc0jjGrLekpXR3UEwAUWhKXD1gPQArMARD6RfJt8K3zM/WR+vkDkQZkBosK7wxFDmETBBiUGaMZmRf5EyoPiwjuAlP/Av15/ez+HP0t+UH3D/cd9gf2xvih9mvsIuSa2jTJBr/LwlfHr84g3sHp9PCJ+q0CiApzFNAcgibQL1IvQSohJTUaaREUEasPgQ3rDg0MAAZwAsj7KfUO9lT4cPq1AO4ElwVRCd0Mxw0mEcIU5BW9FyAYxBQnEJoJ4AF3/U/7rfl8+iH7avqD+/f7yfkC+gX75fRW6yPj49UPxgrAhME5w0HLBNlY41HsYPeXAX0L4BXnH0IqoS+QLacqJiXdGgQVTxQZEXAOjA60CyIG0gBt+132jfNq9Kr3dPqy/RIDgAe0CjsPJxPLFEoWBRh2Fw8UVg9ACicEnP4e/N364flz+kj7JPsT+5L6E/tL+xD04els4QfS/sGpvzrApr+yzPHcoOTC7xf9vQXGEA4cNCSgLY8wVS3WLK4l4hloFywVlQ4KDogNNggQBKP+OPpL+GnyWvHB99L3K/nPA2YIUQk+EeYV+xXCGCgaOxlkFt8PbQviBs79tfoL/JD4RfjP+5f6+Pny+8/7xfqG80fneN6+0NTATr+6wWLBts0E3Wvjcu5h/KAFbhHMHFUl+y5dMOkrLStkI4YX7hUOFHcNXQ17DXwI+gMN/xX7zfcM89L08vlw+Ln6/wJwBIgGrg4FEpETRBfQF/kW0BPpDHwJdwV0/IP6Ovzy96z32PqC+K747vyF/Vv+2/uU8K3m6tslywrDdsTYw8XJntdO4Bzo+vNz/jkJZhTTHbMokS7vK/IqgieTHJMX2Bd2Ej8OnA7NC1sGVAFv/Zf6QPVv8sD2fveK9e37hgLoAoYHiA+DEugT0hbuGPYWVBEHDvwKWQPY/qL/gvy6+FX5t/h6+Hz6Fvvw+5r47Oz74vLZI8r+wGnD2cP1x7bVMuCJ5xz0FgHTCysXeyFYKt8uQC1aK3wnvR7oGSsZ3xMIDw4OnwmhA00ALfzs95P2Lvav9rP4kfqC/Z4BMAWhCQMP9RLiFdkXSRdLFQISqwwHCN4EZQGE/qj8ZPrO96j27Pey+dD5OPrz+B7wSOX43KzQisUexYrHi8m10qTdTuUn7xj6eQSnD2EYjSC0KC4pMSbQJaggRxqCGi8YfxIGESIOTggSBLT+j/pt+bf0TvJX9vj1KPXe+0gA+AGVCXsQahN0F7MZjxnjF4wSRw7rC24FoAA1ADP7i/bn9y33BPWT9lv3pPU68TTo6d951/HLlcf8yo3MzdHA3crl0uu79pABTApTFPcemSYFKbso8iehI8AdfRtjGWYVEhOYEBQL/wNr/dT52vcL9ab1jPnH+rD7Dv98AKABEgb6ChYPZBJ9FFQWzBWfEagODQ0tCWIGPgWjAQP9LvoG+Jf1zPOT8/TybOz+4T3ad9Hfxn7E4ckBzsjUhuH36qrwA/ryBJsNyBYkITEouCkqKCYmgiEOGw0ZBxltFeIRIRCGCz0F9QAD/tL7w/gg9vv2B/da9RL4R/yW/Y0C/gm9DOwOehJ1EwIT+xFND0wN1gpXBtcDXgFi/ND5wfmB+Mn3avhx9zfzquoT4X7ZTdAwycnKYs6C0G7YF+J85vrsb/jDAnUMwRfKIXAneijZJ7EmxCJqH/0fyx5sGloXdhMrDHsEnv4N+2D4UvUq9bL2YPW29ar5Rfsc/Z0D3wgWC08O/RBhEYYQ5A6SDRUMOAnkBqwEGADT+/T5GfjD9ZD0xPMU8DHoBuBO2VvRkMuNzO7PeNM92+Xj8+hi72v5pwIFCx0V+R2DIrkkVyYdJkQkyCMrJKsijB/nGzsXLhG4CjcFFAGO/Dr4GPa/8xTx/vGB9IL13Pht/okBNgRkCOQK7AuuDXsOng1+DA4L4wjaBasCAACL/cj75/pz+RD3H/Ty7qrn5eCb2hbV2tLX03XWntrF37DkzulI8Bb4TgB7CHAQExegG7Ue1CBFIlgj3COBI/MhWx47GdEUSxC9Ci4HYwUfAsT+DP2Q+rf3NPfR9w/4Ovlw+7v8O/1M/ob/MAA1ADAAJQCv/xb/Sv5u/Yz82vv7+9D7WfrU+AH4Xfa889nxavC77k3uNO+y72zwEvJr85f0o/Y2+cr7u/7eAXoE8gawCdELpA27D18RhBJZE0ITgxLvEVwRNRBTDpgMAAvKCIEG0ARRAw0CswEGAZH/pv7p/cH8wPsV+7r6jvoy+s35ivmc+TX6Qfti/Fv9JP5n/vn9Gv2A/HD8Jvxd+/P6lPp6+bv4a/hc90f2cPbU9s72aPeP+Jj5ifrh+5D9I/8uAb0DowXuBoII4Ql4CtwKXgvfCxYM2AtGCwMKUggSBwsGDwWrBLoEVAQ9AwgCzgDf/0L/e/4l/vz9jP0e/a38bfyq/HH9If6T/hD/Tf/c/vH9Kv2V/PP7aPsx+3X6IPlY+OP3U/cE9xn3YPfl99P4x/lc+hT7I/xA/bD+SQCkARsDcQRaBTcGtAYCB8oHjwiDCPAHYgeEBisF/gOMA1wDSQNvA10DxAIpArgBuQD+/9P/e//v/nX+A/5h/U39p/0L/p3+RP/B/93/9f/Z/4H/Q//x/qL+bf4j/pz96/xB/Hj7w/qG+ob6q/oS+3P7z/tk/Nv8TP1F/qf/9wAYAuwCaAPhA2sE2AQmBZYF1gW5BW4FxATNAzcDHgPEAkgC9AGXAfYANwC//0z/7P7G/oP+GP7I/YD9Rv1m/fL9jf4r/9r/UwCvAPAA9ADdAM4ApgCiAKMAYgApAO3/eP/r/pX+a/5u/pv+yf7f/uv+HP8y/0P/tP9gALYAxwD9ACgBZQHKAQUCBwIvAnwCFwKFAWwBDwGcAIQAmwCAAHcAbwDe/zf/2f6V/ib+vf1L/br8Yvxh/Hb8kPwu/e39ov5j/+b/YADVABkBRAFsAaEB2gGlAUwB3gAvANj/pf+B/4H/kP+v/77/y//f/wsAUgCwACwBkAGgAXkBZgFvAUEB/gAcAWgBegFqAVkBIwHQAIUAVgBEAFcAdABfAFEACQCa/3H/Mv8O/9b+av4Z/sT9nP18/WX90f2Z/ln/FACdAPAAMQFQAXgBuwHvAdsBpgFOAZsA3f9a/wL/tv6v/uX+Dv8w/07/dP/c/4sAHQFnAZ4BtQFtAQ4BAAHcAKEAvgDdALUAhwBjACsA+//V/8b/v/+0/9T/3v/A/6P/d/9G/yn/Gv/t/rP+g/5V/hb++v06/mz+zf6r/1wAyAAZARIB+gAiAVYBjAGDATUBBAGXAPf/if85/yH/R/9E/xn/+/7f/uT+Rf/p/2IAtAAUATYB8gCxAK8AiABoAIgAmQC5AMQAngBfAPj/u/+x/5b/ev+f/8v/vP/P/+X/tv+H/4P/V/8N//r+y/5Z/ub98P1f/rz+UP/p/zwAoADwAOsA9gBOAYYBVwEiAfoAYwDW/6X/Uv8Q/xz/Pv9n/6T/vf/D/ygAqwDwACUBRwFUAUgB9ACpAI4AcwBjAEwAUwCWAMAAmQBiAE4ALQAqAFAAZgB2AIUAhwBWABYA7//R/7z/pv9M/73+W/4V/g7+S/64/lX/i/+W/+T/EgAMAAwAQwByAHgAdQBUAA4Ao/9n/3X/hP+M/2b/Q/9X/4X/2f8zAKAAHgFqAXYBTAHyALUAmgBlAD0ACgDS/9b/6f/q/8//vP+3/83///8iAFoAggCLAIsAhgBbAB0ADADd/47/SP/X/nb+Zf5Y/mL+w/4r/2L/qP8AADEARABqAM0A8gDEAIoAMwD9/73/gv+F/6X/1f/K/5j/lP+c/77/EgBsALoAAQEVAdgAmABhACsAFgD9//b/1/+d/6P/qf+I/2//if/P/xMAPgB6AM8A4QDYAOAA7wDpAJwAUADy/3X/Lv8J/+j+2f7c/vX+J/9h/3f/lv/v/zYAcAC/APQA4ACyAJ0AdABJADkANgA4AD8AMgAYABwAMgBhAKEA1AD1APoAxABcAP7/4f/A/33/bf9o/zj//v75/gf/7P4d/3L/pv8IAEIAUAB4AK0A4QD4AB4BKwHoAJsAWAD0/4T/OP8b/xX/FP8i/xb/Kv9U/3X/qf/S/yMAcQCXAI4ATAAtABoACgATAP7/2P/f/+X/3P/v//X/FgBfAKEA2AC5AGgAHwDe/8z/zP/G/7T/hP9u/3b/f/+K/7H/+/8yAGEAfQBoAHEAowDVAPgA+wD6AMwAiwBXANP/X/8l//P++/4C/wf/HP8k/z7/Sf9V/5///P9AAHAAjgCKAGgATQBWAIAAjQB8AIMAcAAwAA8AAQDr/wIAIQANAPT/3f+5/6b/sf+j/4L/i/+e/5j/nP+Y/53/sv/T/xUAVACcAMUAyQDhAP0ALgFfAYEBeQFHAQABgQD6/5r/Wf8b/wr/Ff8F/xv/If8E/wz/N/+f//3/KgBYAH0AjwB1AGUAaABxAKAAqQCZAIsAeQBWAAoA6P/k/9n/2//P/7D/mv+I/3b/Xf86/0L/Yv90/3H/ZP+E/7//AwBQAJEAxADgANAArgC1ANQA7gDuANIAhQAaAMv/Wv/x/sP+u/78/jL/Pv9I/0X/MP8w/33/sv/j/1UAkQCfALMAyADkAOoAzgDBAMkA3wDrAKkATAABAN7/1f/I/5//Wv9b/1X/JP8Z/y7/Xf9p/37/tf/S/9z/8P/0//j/LgBSAHMAjwBhABkAAAAbADMASQBPAFEAVAAxAA0A4//D/6f/iP99/3//o/+M/2D/b/9z/4v/uP/A/9b/EQA8AFYAbwCMANcALQFBAUUBXQFtAVcBIwH5ALkAYAAQAMb/ev9h/3f/ev93/37/av8z/xn/H/9B/3n/pv/e/xMAIgAFANn/zv/4/0oAtAA1AZYBrgF6ASgB8gCSABUAxv+R/0z/uv4R/qz9iP1x/Z/9LP75/tP/TgCgANoA3QDfAPEA6QDVAB8BQgEiAfEAdgA3AEsATQAWALr/n//C/6H/Z/+i/9n/qf+s/67/5/6Z/tD+VP6c/lT/Mf/I/tD/jf4H+9f+mQEh/xAD0QeHBjEFWgf4BckBRwL6AIj9qf2a/EX5q/lL+TX0zPYB/BL63/zOBIsFPwPmBwYIDANzBBMEvAAvACYBx/+//5wD9QGBAhcGRgNBAdAARP/K+qr59ftz+F/5vPwc/B77mvww/sn4n/sEAW792gHJCHgIawiYDcANKgfoCQ0K1v6o/RkA7vZP9DP7kPgQ9Rz9//7e+e7+vAGG/Hr+cgFx/R7/KwT4AOwA5AUTAzr/NQPuAhP9HgDRAdD8o/19/8n9rvyp/U7+hP00/rD/9f8n/6wAFAO7AYgCHwbuBAwDFgV7BOgAUQHGAUP+bf0b/jP8IPw+/V/9pf7O/+z/MADMACMAGv/W/2n/sf+FAfMAMgHCArECyQEKAgoC7wCsAdUBqgB2ALj/mf14/Jf8aPvQ+2T9Av3Q/Gf+hACcAFcBdQO9A/oC5AIvA10C3AE5ApsBwgDbAKsAl/91/sn9D/3l++D7Kvzi/EP+Qf8tAIL/Vf9UAFIA8/+9AQ8EOwPBAx0FEwQvA3sDMQMEAFX+d/7++2r6GftX+zf7bPtj/C/9Yvzf+xH9oPz8+sv8SP+6/zcBtgMGBBIDVATgBFEEGQVCBXIEXwITAfX/Rf7c/ub+6v1U/pz/Xf4k/XL/Bf86/e7+YADC/jT//wGUAFD/dAEkAi0B8gFnA68COQHdAI0AWv7f/fz/VgBIAKIBTQL3AHYAKgBp/jv/0wBtAEcBYwKXAbsBfQKwAPb/NgGt/3n+3f42/Zv8pv3S/GP8Gv5C/7P/zACXASQBGAEuATEA0f/w/7n/UAC4ANP/awG1At0AjgGfAc/+8f36/TD8gPtQ/dj9x/1g/4MADgAQAbAC8AFQAoEDywGpAP0Apf8//h7+bP5Z/Zr9UgC8/+r+YAAy/xn9Zv4PAJ3/MAHDAr0A3P+yAAAAl/8GAVMBmP/R/5v/AP4S/+3/pf9o/3AAWwHSAIMB9AGvAREAqf7e/Vb87Px//aH8bvw9/vD/CgDKAUsE+wNfAgEDDAI6/zABJAN//yX+CAFu/4n9JwIYBMYBzwNmBLn/2v/vAXb/6f72/+X9m/2Q/y3/NgDFAf//6/6b/0X/Of46AJMBev+x/ygAEv+E/+v/Tf/R/30AXgBkAVMCaQJbAg4Bsv+f/vv8jP1B/oH9iv7B/0EAlgDDAdsBAgH5AoYCEAAuABIA1vzK+h3++/0R/OUA/AID/1/+qQCz/vz7z/6kAMP9B/7VAIX/tf6IAYsD4AOQBJAF3wTVAjgAl/2M+iv5QfoC+5T9V//h/5kALAGyAkECoQORBOMBeP/L/W79X/w6/Ev+5wB2AYQBeQPMAyUD3gJfA8IAHf8QAVP+aP0+/9f+F/7J/rEARQBrAYcDkALLADYADP/U/A/9J/yO+w/9Cf2f/Sf/hQHIAbAC4QUnBQEEoAMQAsP+x/wH/Yr6K/q3+5r8t/2N/jMCaQR0A+oCtwLOAAj+3P/UAfb+jv5IAScAiv9uA1EGWQUTBIsEowAQ/cf+I/7W+4r7lvtZ+T/6CgDOAaACYAaJBtQCxgFvA9IBHwA3ACX9efpS+8P87/27/6sAHgD9/58AbADs/wEB4f8D/k7/4f/wAAQEcwQdAmwBAwEZ/6L+Hf97/j79Ev1v/GX77PyK/m7/T/9C/3cAFAAHAXkDKgMyAucERAYlA/4ChgTBAvsA7v+9/R79/vth+cv6xvxd+4P9lAI9AdP/eATNA0L/hwGbApX+nv7oAVYAtfyt/t3+Rfsz+zv8dP2m/if/GQGQAVYB2QIUA7QCXgIvAmMBJ/+m/s39yfsi/Uj/NP+GAAQERwWnAwwDqQNrA4oByACvAZEB7QCbAJ0BfAFEAd4CXQL6AAUBRAENAAL+D/6g/RX7lfzN/zz/M/5Y/9X+EftO+x//D/9v/R7+Uf0e+7T7Tv2G/W39Sv3j/Hr8hPwU/yABOAEwAUwADgLiAq8BQANVAgAAuf9S/2/9Zv5YAyEBA//bA/cDcgLWBtsIxgTzBToI2QMSAkcEhgNSAwwGAgXmAmADywPNAU7/OP+B/qj8KPtv++n69PgZ+u35Y/jr+Sn7xvtZ/Xb9+vtz+7/5fPfD+KT7pPxI/QX/E/5j/LD9+v0L/NX7BfwK+xv6Xvpd/S7/fAFjBdwHBArlCgQMUw03DBoKPwh0BfoC0AKoAx4CnwEzBvUHzAifDe0OLg4UDxsNvgcnBeUEfv5C+B/4t/Tu73XxffJp8Bn0yPfm9AH0NfeD9uPzcffg+bv2jvWS9kD2RPX19Ir31fl/+bH76v0K/Y78gP6CAAQBlgM8BA0BzgLtBckGwwi8CkAMhwp2CpUN4g38DcYQMxMdEP4NRRGwEsIQyA4ZDm4LIwgMB9gECQO6ApQB1/7Z/AH/av/D/Ff86PlC9S7y2fDy73Psg+p36wTq2+hS7HPvge5e7knyO/Xg9Ff3dfh9+IH6ZPnd+e77cP57ADYBFANpBPMG2QjhB78I4AojCiMLIA08C1gK+A2mD/cL8w14E7oSCRJZE8sRrQ4LDuINmQnfAzoBsgHDAOD+IAERA4ACugM7BtMFWwRbA/j9KPjZ9JvvMuml5WzkL+Nh4zjmRuXw38Li5Oon7rHuOPF+8ljwdfPQ9yH6YgEWCVEM6gx9EJsVNxVSFBkVQRHYDE0NdA1oCEwGUAtGDMkMYRHTE9oVKhaoFTsUchBkDIQIQQZ3Ap/+C/+wAMsA6gGGA9kDlgT3Avb/Nf3v92Hyie7b6/PoC+Uw41rgJt3i3t/gsOFI4GDf2+Hz4zzogO6C9Jn47/sPAOoDeAnGD+YSfhG3EfUSPhGuEUITSBJbEcYSSROtEskUQxlQGrwXOBfNFnUVrhKfD2ENeAksB1kHtAdpBm8FQQb+BA8D8gQTBisCav00+a32zPW59RL01Ozi4wHfbNzi1vzS29Io0XzP2dEB14bcY+Te7ar1h/tyAokJxQ1oEK0RDhKWETwR6hDCEEoRtxHyEsMSHhTIGLEb3hzPHiMfUxyqG1obihbbEM8NAQogBYQDTwPdAr8BQgFcApIDTAS4AlwBAwBO/B75nvfw9HXufuam4APdR9mA1uHThs38yDvLw85J0vnbeehq72v0tvw9BTIMjhLoFq4XJxb5FUgXoBZEFe4WWBj8FVAVbRhFGiEaeBv6G90YARiyGhEaoBUUFOcTtBA5DkUNrgo8B9AGUgYVA68CswQxA+z9evvU+vn2n/Lh7dbkIdjnzwTMbcVgwefDrMXExSHNzdnH4sfrnPmIAm0Ecgr6EGkRxQ/KDwoPEAs5DDISUBPGEzYZvRxOG6Qd1SNRI68flyDzHSwX1xUXGHQWUxLlEQUSnQ4IDK0LfgmFBpAGeAZnA50BDAKj/+b7bvos+KbyhOoP4NrUTc0EyCjCyL/hwMnAzcGtyYvV1+C47PT3v/7HAq0IPw3MDEAMxQ3JC3cGBwbSCfkLtQ86F3wcrx+rJUEquyk0KBUoeiVHHmwXkBSsEocPYQ6AENkRiRHTEicTXBDbDlMOcwp6Bf8CRgCZ+5b3/vUW9PrtG+Tw2KfNTMQCwCi/Bb10u7G+vsSDzVjbn+r+9rgA4QfPClgMNRCYEpQPIQyhCwoL9goKDm8SUxaqGlYf9SKUJAEmzCacJF8gBRzXGAUVpxEMEWIQnQ/JEfAUoxTSEYIQkg+TC/UHYQd6BUYA3Pzj/FH7ZPl8+rn2hegE2vfPfMRbvBe9Ub2MuD650MOD0BLdAe59/u4F6QhZD5ATVhHPESgUuQ3SBXAHgQr6CTINyhTTGTEc9yCsJgEouSWPJDEiqxvZFoIV8hGgDQMOkhAlEnUUSBauFFYRdw9lD38OBwzaCZoFbf4k+9P7y/hk89Xu5eP50cfFnsDKucy1U7k8uyC7KsQM1Pzh9vA9Al0NMhF2FL0WuRQPEdsODgy1BTIAMAIHBzUK/hHsG54fiCJsKeUrfyjbJoEl5h8OGRIVNhOkELsNIw+IE/YTHxTrFwMXtRCKDsoP5A5ODUkMBgk+Acr3uPFM7JbgjtJDyLC7lK0HqiSuobBft4HETNBz3XLwqgHRDLYVMxtNGjAXMRWFEc8M/gmWB64EbwUzDM4T3xfoGm4e+R+HHzgfCB/FHJMYZBXgEjgQfxAVE6QTxRIaE5ET9BLnEsETvxNgEocRtBK7EsEPyQ1KCVj7yeuo39PN1bhOrU+pV6WVpJSsSroEx1zVDuuo/isHRBBlHMobnhMWFCoU/Qp6BSYHZAYNBMQFJQunED4UJxlEHwwguB3HHhYfrhqJF7sXdRU2ETgQTRFIEQYRPhI9EywRjA8sEScRJRAJE8wVhRTxEqcSSw0Y/kHsxN3qy/y1zKduoq+cUptkp5O4ycf92yr0pAU+EJca8yJfI9wdkRncFbcNTQW4AmQCLQFqA+AJYw/EEs8WTBuKHUQdrByvGxkYLRTFEq8QHg5LDxcR2RBdElQU7BJKEQMS1xIqE/QSihLHE4oTsA93DYsJZPp45r3Wa8P9q7+fjJ6VnIie1av+vTvPMOJp+TgOyBhwH9Mm4yVNHSIY2RNdCWQADP8d/04A+gRbCfEOjBa7G8kfdyMuI9ofIhzyF5wTZRBHDvMMzAw4DdgO9xFaE90TxhXUFNkRTxEdECwP1hHnETUNNghV/jrsn9ucznS8o6o8o4mgn5+tqNy5Ocq22oXvUQXlFI4ePCdwKRYhmhhXFA8NwARqA38EXAHtAHYHpg2yEQQYSh6BH2odXhyEGvYUKRCIDosLmghqCgIO+Q9IEekRJhFqELMQNxHyEeIRmw+vDi8QQQ6+ClcIWfuE42DQzb8crG6hn6JQpNWmZbIJxYzX0eks/7ITIh6HIEElKSbEGzIUIBO2CssAHAK7BooH9grCEjIX0xX8FjActhzeGDkXbxSYC2YF0wcQCmMKfA9kFXMWphUSFqQXLBefExUS4xFpDj8MUQ+GEOwLrQiAAmLtyNW+xza356VjoTGj8qQAriy/8dBx4Tj0xQftFU0dFiIXJf8gwRcME4gPlAj/BvkJrwkKCkYOvxLjFOUVGxn/GzAaVRfRFSoRnApxCLcINAebCIYOUxJ4E68UJBUYFWgUaROhExISdQ7yDbkOfgvhBw8Fgfcs33nL6bxvrFui4qNzqDWtG7iAyTLaOek7/ScSuxwTIFIkpCQdHEMU1BKmD28KEgsoD4wQVRGXFfIYuBQqEDATqBRPD4EMKg0iCfwDtAVyCvMMUhGSGOUbChnMFecVsBRpEGcPYhChDcoL7A3EDOkH6ASj+uPiHsx6vYCvhKWopkqsarFvumPJq9qw6mj7Jg5hG2keph6gH4oaJxL/D9sP/gsLC04PURHUEGoTaxd8Fj8S9hKHFdYRNw3HDOAJ6wNhA9MHAAuXDm0UVhgbGLwVThTQE5IREg9gD1gPSA37DAENlQmtBXT+7esL1hfGibalqcOnS6u/r2i5P8cQ1TfjqPPzBUIVlhz4HlshLSCFGaUUCBO0ENgPLBJ9FAEVUBQfFFQU3hBLC5QK5gtjCMEDrQIPAsAAYwPeCnsSsxfqGygftB2EGFIW/xXeEdMN0w3rDVcNfw38CxwIjP+m7QXYp8bItlCp/aWzqYmusLfRxb3Un+Ni8+UD/hH3GFcb0h3WHPwWPhOAEooQxw9lEpUUcRRyE1USKxAxDFIJbwqwCwcJ+AZnB2YFfAPcBiUMwBByFkYbNRyOGQMWrRTJE9gQnw+9ELMPWQ31C78IuwMA/t7xxN7uzPW9c7BvqXOqQbDBuaXF0dLd4NPtEvsKChMVexm7HCQgSB+uGx0apBkSGOsWZhcRGIUWjxOYEX8NsgXxABQBtP8h/Un+7ADFAVEEXwpgEIoV5hpFHogdqhk6FRQSEw+pC5EKpAs3DCYMpAswCtIGHP4r7hLcAszlvHKxhK1Br9i0Qb4CyaTTWN8k7J35WwZkD8YVTRwuIP0fYiDhISchpCCYISQgFhxZF8UQHAjz/6b6A/mR+QX7G/4iAmUFAAklDQkQNhNKFxMZkBg0F4AT4A4SDKUJxAe7COoKqgyoDmoPuQ1dCcb+9O323CjNX765tRe04rUuu9rCdsmUznLUI92z6Bv1/wEFEZEfuynKMHQ1tDTlL/4q4CRyHA8U/wzTBk4Aavpy+MX5Ffw8AJgFqAirCdAKtAqqCJgHhgi8Cd4KvgzQD6ATqhZhGHUZBhlmFk4TehB3DPwHbwNz+l/sPt6q0AbDi7mhtVm1A7mVv+rFF8zl06DdGenx9dkD8hJzIfArRjI3NUMzui3MJzMhqhkbEw4OmgmiBHsAsv+PAL0ADAJcBHAEagO9A9oDUQMOBBsG/QdxCbcLYQ9VE/EVIRc7F/kUGRH0DWALcAhGBvQD8f3k9Afrx998077IN8FrvYy9gcB7xRPMjdMK3BHmq/BF+6IGmhFLGn4gtCR8JvcluSQnI1AgCR0VGzEZzBWvEssQzQ2nCe0GPAXQAqAA1P8v/wH+ff1Q/qn/pQBBAmYFTQjNCQgLWgxKDCoLgQqNCegHbQZKBZMDnQDk/LX4RfNQ7LflVOAF277WldU41vTWOdl53abhHOUx6ePtofGp9B35kf77AmsHnwzSEO4TFBfrGfwbwx0LHzsfZh6XHCcayheFFSATOBGRDzQN2goQCd8GOgRCAtsAeP+L/l3+uf6+/sb+LgCQAd8BJwObBawGegaiBrUFqgK4/lX66fQE7wbq8uVf4nffut0N3STcENsY28fb6Nxs3zDjw+cB7YfyNvgv/sADzQg5Dg8TQhYqGUkccR5JIK0iiSSTJRUmqSUnJO0hNh8XHMIYEBXqEJ0MYgh1BBQBT/5G/Aj70/m1+JD4gvgM+Fn4XvlB+vf6iPtT+6v53PZ+85TvHOvB5iDj1t/V3CLb0tru2gzcs97E4RPl++gZ7WXx7PWN+j//tgOHBzoLKg+tEhwWERqeHRogHyKaI8gjJSMYIlMgGR6vG0YZ9BZRFJ0RbQ80DW0KtQdbBYMCMv+q/LP6o/gx9+P2Kfdv9+n34vi/+an5Bfkl+B32sPK27mvq1OWL4SbeG9xp2/bbs9134N/jH+de6qntW/D08t/1rPii+3z/KQQbCREOOhNfGKYcnx/dIVsjTyNSImch8h+nHaobPBqOGKIW5xRYE3cRzQ6rC2kIsQSnAAv9KfrL9wr2RPUU9Vj1VPa691D5s/pm+1X7CfpP99Xz6+/A6zjo5OVa5IrjzuO65L7lv+bL56PoJ+n56VjrIO2B79vyEPev+7EABQYGC1QPOBPAFrkZ5xurHXsfniDdIPIghCAdH54dRxylGpkYIBZyE24Q7Aw4CXQFvQFy/q77YvmL9yn2aPUP9TH15PV29tj2HfcB91L2+fQZ8wbxt+4J7I/pcue45dPkreTI5P3kjOVW5hznFeip6cXrMO4j8bH0qfj7/JcBkQbsCxIR2xVuGhUeySAZI+AkyCXUJVQlTiSOIg4gNh1oGnYXXBRkEX0OXQshCOQEmwFp/kn7k/hh9oD0YPMC8wDzdPNd9EX15vU59uf1oPSn8h7wRe1i6rrnfeX644nj6+Pg5E/m7eeC6fnqWezG7S7vAvGe89H2mvr5/scDEgmCDokTIRgGHAgfbSHtIm4jRSODIkwhmR+gHb4bvBl7F0sVEhNmEGwNhgpZB8oDdABl/Sz6/vaK9PTy+vGe8SbynPNK9aT2rff991X3EvZD9KXxqu4K7PnpSOgz5w7naefb53HoRun56TLqnOr/6+ftB/AB8/f2Ufu//20Eagk6DpsSrhZkGnUdlh8iIRgiPCLEIccgWB95HUMbDxnLFisUSRGYDtoLlQhDBQcCV/6g+oz3v/Re8tvwS/Ci8GPxhPJO9Av2Lve195331vYV9djyxfBz7tLrdunN53rmT+US5aTllub+5/3pMuxF7o7wKvMY9k75z/zcAEoFvQkpDpgSqBb0Gd0cUB/4INAhJyL6Ib8gAR8rHeYaXxjZFXkT+xA2DpAL4AgNBjEDXwCo/fz6xfgl9/n1WfUm9Yr1gfZn9yb48Phg+Rr5Sfiz9kf0cPFf7lLreehG5uzkYOTB5LrlO+dJ6TrrAO3u7urw4/Lu9Fj3Tvqp/TsBJgVRCVgNSxElFYAYMhtKHewe3R/gH3Yfgx7YHO0a1hhvFtETPRHLDlkMqAnhBlsExQHm/mL8avqP+O324PVC9fn0GfWo9aP2n/dc+Nr4wfjL9072cfQq8ofv/OzW6uToneci5yrn0OcN6a7qe+wY7pTvX/Ew86H0aPbN+Fn7VP4EAj0GrwodD3YTxxeAGyYeHyB+IbUh4iCIH3cd4RpPGOYVjBNMEW8PyA0cDHMKsgi8BjIEVAG8/hj8Qfmf9tH0vvMS8xrz6fMk9Tn2EPee93X3h/YY9UzzJfHP7prsq+o26U/oTeg56VfqpOtc7QnvV/CM8bby0vM09R/3tfn7/PgAswUAC0AQABUrGYAcyh7+H04g5h+7HgAdDhsyGW4XoxU0FCATChLaEGoPqg17C6MIVAWvAc/95/l89uXz9PH88P7w2vGL87X17vfD+fb6Tvuo+tf4D/bR8jXvuOvl6ALnMOYc5vnm0ujh6s7spu5r8N/xA/M69Iz15PbE+HP7mP41AmoG+wqUD8oTgBerGuMcCh6UHpseuB1QHNIaJhlPF5gVChRXEpEQrA6jDG4Kzgf8BA4C1f6e+7T4MvYm9MfycPLw8u/zX/Us98D4uvnv+RH5OveU9G7xC+6B6nrnZuVF5CvkCOW05u/oeuvb7f7v6fFM81D0TvVt9uT3J/ov/fcAkAWqCu8PBRWfGY4dpCCrIoMjPiMGIv0fbR2CGngXuhRnEmsQtA4oDZcL8AkLCL0FCQMRAED9z/rE+C/3OfYH9l72P/d6+MT5APvO+/H7V/vI+TL3E/So8APtsuka53fl6uRS5WbmB+jo6aPr+ewQ7g3vrO+F8B/yJ/S29kz6r/6jAwEJSg5jE9kXcBsrHsUfaCAZIPIeOB0CG4kY+RVnEyARKg9kDfoLwAqXCX8IJgd6BYkDQgG7/jf84/nK9zP2UPUe9Y31XPZh96z4qvkB+sf5gfg79lDz0+9E7ALpOeZp5MjjP+ST5Xfn3umo7DjvPPEK85r04/U/9xb5g/tL/o4BkwUYCo4OzhLUFl8a+Rx8HjUfAh++Hc4beRnjFiYUsxESEA8PZA4NDgIO2Q0ZDb0LygkMB58DKwDU/Kj5DvdX9bv01PRx9a32IPhg+WT66fp7+iH51/aM86bvjevl5yflVuPs4hfkSeYy6YPsze+d8o70t/Uz9kD2U/aw9pz3Yfnz+yz/DwM7B4oL5g/sE24XKRo8HJYd4x1AHd0b8xmuF00VGxM0EbIPmA7LDQQNQQxRC9wJEgjrBWUDugA1/u77wfkC+NX2+vWW9bb1AvZr9gT3ePdl96j2S/U281zwWe276mLokeYL5vjmqejJ6k7t0O/38VbzCfR89KD06PTc9Yb31/m1/HkAGgWoCfQNcRKbFu8ZfxxMHkUf/B6aHcobYhl5FqcTPBFqD/IN0QxCDMML6wrPCXwIlQYVBGoBmP7H+xz5pfbg9O/zhvPF8+f0h/Za+Dr6rvtA/KP71fkD9zLznO5R6vvmluSB4+XjsOV46IPrj+5h8WnzofR39fH1TfYD90T4UPrv/Of/ZANDB0ALFw/aEosWlBn4G+cdtR5IHiAdLBt7GHAVVhKrD30NrQuVCvcJVwnfCHAIxQfgBowF7QM/Al4Abv6C/ND6g/mN+Dr4ZPjF+Hn5RPqs+kL6zPg89svyse5V6qfm6OM/4lniCuS65hXq1O1K8cfzQPW99XX1xvQj9DL0H/Xm9qn5ZP3VAZAGeQtlENkUuRjiG/od8x6vHh8dpBplF5oT8A8CDeoKfAn+CGkJXAp2CzEMgAwzDA0LSgkjB60E8QEV/0j8vvmC96j1a/Ts8xX0zfTr9dX29Pb+9f3zBfEy7TnpAebh4xHj8ONy5g3q8e2y8Qj1L/cA+Nn3Wvfj9lL2bvao92H5pvu//nwCcQZfCqkOLxMxF3caKh0GH3UfuB4lHbYauRe6FFwSlxBUD6YOXQ5WDicObw1VDOYK7QiWBhkEjgHr/gj8VPky94b1gvSN9Iv1Qvdi+W77wvyF/Jn6Zvf38lDtd+e/4lDfaN2i3ZLfa+LZ5WDpMuwb7l/vLPDR8IvxnPKj9Nb36/veAKUGBg2/E1saoSB8Jksroy56MEkw3S3LKRok9BxRFcINqAZhAC77CPfq8/bxofCR71Dvyu+Q8O3xJ/Q69wz7kv/GBFMKzg8NFa0Z5BxnHqYdAxqcExMKgv0p7ybgNdGQw+24OLKdr1SxQbe4wKfM9dnr5931GgNOD5YauiQiLRA0Tzn3Oxo86jnTNRowuSi/INwY4BD1CJABmvrc87rtkuia5AvifOEo4+fmfOwr86H6wgKhCoARZxcsHHUfCyETIdofQB05GZAUwg/LCisGCwI+/l/6ovW9767on9+71KXJcb8/tyWytbH+tsrASs4y35fxiAPhE2chyiunMuY1oTb0NBoxMCwIJrAe6xbTDn8HUAGy+8j38vVt9Qj2Xvdg+cH7of15/6IBiQNbBXAHngm1C6INMg9TEPwQ5hAPEO0OfA1JC/MIMAeKBeED6QKvAq4CrAIbAgEApPvj9LTrIeBM0wXHGb3YtjS1K7luwuPPf+AD8gIDiBI9HjQmBis0LDorlSifJM8gXBx/F1ITpQ5YCi8H+wPEAV8AQ/8O/1P+Nf27/C37iflT+Rb5Q/oW/UkAIgWyCVANSBEhE3gTCRNKEHoNXQpyBi0ESgK4AEIBEAJfA6UFhwYSB9oFawBr+RPvieA40kzEo7gCsvivXrVKwanQauTq+EEL+hsxJwYt7C+vLWEpBCXfHnEaChc4E1wR4Q4dDMgKwgewBOICJgCB/k79Jfvk+r36dPpk/N79iwA7BcMITw2CEVgTbBVJFbISExCRCwgHPQOz/nz8xftW+6v9iQCAA5YHjgn2CQsIQgH897fqztkPyhe7uq8aqyKsjrWhxdPYne+LBV0Y6ycgMPAyQTJaLGMlcR7RFhUSjA6iC/QKZwlKCFQIZwYpBW8EJwL2ALT+Lfum+TL3a/WE9rv36PvwAREHKQ6dE48WeRkUGBIU2Q8uCT0DPv6y+Vb5i/p1/EkBvAXsCcYNFA4PDHEGHPxj7wHfTs1QvsuxvaqmqgWxn78t09LoAgBuFBsl5TDqNEg0ETBJKP4gJho+FMIRkRBCEHsQPQ9dDkMMcwcyA0L+KPkB9hDyfe8U8DbxvfQn+hcAtQjIEBkX5xzKHoIegBysFSAOmgZe/jH5ZvXA8+P2u/rY/2wG0wqZD4cSjxArDdYEDvjg6rPYHcaFuPqsmagZrEy1FMhe3sH07QyJH28spzSYM9cu1Sc+HYIWhhELDVYOABDLEHgSjBBXDqULnwRd/x37ivUy8wHxa+/d8crzIffN/fED7AtvFOQZrB4lIJcd5BnWERUIUAA7+GfzXPLf8k34OP/0BEwMgRFlFNoVhhLaDD0D/PQG55/VP8MRtyOuEasTsFS6oMxh4rr2/QuwHC8nbi2PKzcmXCB4FzsSmRCkDlsRKhWuFuYYLhdpEykQ2wcnABj7hvOI79jtKevL7QLy6fY/APkH1w8hGSod0B5AHqUYwRL5CuAAT/pp9ZzyNvTa9mX8RgT7CbsPFxS4FHMU0BBICMP8VO743ufNMLxhsLKqMKpEsSi/k9LQ6Of9nxD3Hs0nSCviKPwjsR7LGBIWmhY6FzUZIhwJHcQaJhVWDjcHa/7M9h7y1e7K7Xfut++d8rX2sfsDAsMIkA9RFs0bIh7OHDsZpxMNDJgDDfyn9/z1NfZ8+e7+IAWhC3UQixN4FQAUEhDxCZz+8PDz4j/SOsJ2tn6vua+1tdnAA9PR5i354AqdFxkf8SIjIZYdYhrZFSUVuxftGP0bLh92Huob8hV2DU8Grv1s9Qvxke0s7ATtve3r8EX1r/kkAU0IUw74FcQarhsCG4YWLxCnCVYBoPvw+Rj58/oz/3QDoQh3DKkN5Q5DDucKwQecAYz2xOtA4A3RUsMCulW10LY6vTvJ7tq+7Br98gvOFcwbNx7EHNkbxBrjGbYdlyHnImQlfSVEIT4a/Q9BBor9u/T+7zPuou038N7yQPUV+eD7h/8VBZoJFQ6/EkMWxxeYFV4SSA9dCQ8ElgGP/6j/cwG5A0YHBAlYCXcKyQkDCPAFLwOeAC35/e1y5RzZbMlEwMa6Nrlsv+rI19f46SP3uAT5EDQV5RgHGxMaDx19HgEgLCfRKPImkidLIckXOQ+eA9P7E/YS7zHu7e3s6z7uEO+E8Lb2gPrnAD4LkRC/FTMbrRqgGDYVsQ83DBAIxwTKBQ4GTQa7CFQJyAgeCOcF3QSmBJMCoQHfAE36uvC652naPsvUwdK8OLxMwn/M1tpV6or1KwA9Cd8LPg7xEZgTghfFHKohtSiCK1QpGyj3ITYWpQz/A7r7//Vc8gPyC/Il8Z/ytvNe9Lr3hfsBAQQIUAwlEecV6RT2EfkPTgw8CL4FWAUpB94IAgo3DCsNtgq0B8AFVQNDAbgANwEZAqn+vfXv7UDjktFmxa7AVLzlvsLIWNS04vnty/YhAv0GEwnaEIIVsRnTIVImCix1MEYrGyiZJA8XawweBnD8HPYn8+fwzPF38RzxOPSU9aX2NPvw/wwFyQolDvkQUxNXEZ8Onw5xDTAMsw1lD40Q8w8vDXQLrAe8Aar/gf7H/X//if+UABT/xfMl6sXhbNDlw43A6r0ywivLddXa5IDu+/OM/xsFqwbaD6YWGxwSJdQoZixjL4MosyLqHtsS/QhnBIH82vbg9C3yBPJS8l/xhfOd9U72Pvqk/ugB/ga+CoEMsg59DlQNiA6oDl4OwBDwESYRdBDnDUEKlAbcAb/+uf2p/Pb88P07/o/8yPRW67fjZtZkydXGQcavxkjPt9mp4nXrAfLg+acB0QVEDpsZnx9zJTssiS7ALfIpSCS/H7QXdg1KCBQD5fpn9wP3bfRe8zP13vb39zD5Q/uT/QT/xgACA/8EDgeeCK0K7w1KEFQSGRUDFoAUoxInD1kJpQTeAFD8SfoB+837z/3v/3YASf7f9knuS+Xl1x7OScuxyL7KgtKX2Rvi0emo7vb2kP76ApwMUxdkHXwkyyqALGosMymuIwcfCxdODSwIjQKr+gr41ff29PLzA/Wu9C30E/TA9Cn3e/k3/EIBlAXlB18L/w5xEI4SYRXCFasVghWVEoEOmAqZBW0AOfxY+WL4u/jE+Uj7Gv1A/Db22e8X6QndpdPk0aXPRM/Q1fvb5+Ck5/vsRvMA/LcCQgudF3UfHyTPKhwtUipDKFwkEB56GHgRtQqVBoUAs/qv+TL4WfXJ9Y72SvVr9Tj2CvZB94H5KPvr/XgCvgaYCh0PLBNGFuEYghkOGBoWEhJDDDIIPgQ+/6D8//vP+6f8vv1N/yD/8vhs8dPreOGb1dPRcNFmz1/Rqtdw3BPgmuUp7cn1pf6qCA0Ubh0ZI28nsSqTKr0ntCShIYcczhUDEPYKXAU8ALH8Z/ql+BD3bfZM9gv10/P28+DzyvPu9aH5iP0kAmEHZgypEO0TiBYlGJ4X7xXrE9sP0gouB10DzP7N+0z6QPkY+aX5lPoz+r72l/JA7nPmt92Q2RDYStZT1xrcnOCI45bne+2o83v6EgN4DNAUYBslIKgifiK5IIcelBsfGKoU8RCcDcwKgAevBCsDqQGT/1X9vvuC+kb4n/Yc90T39fbM+E77gPxd/qYBUgTaBTwHYAhOCBYHowU3BLkCgAHTALAATwGaAgUEEwXFBVYGVQbeBMUB+/3p+Tv1XvAE7HXogeVp43ziYOJT4yjlzudZ66vuCvJD9vH5c/xg/4YC5gT8BigJPQudDOYNEBDUEfES3hS0FkUXgheSFw0XkBX7EnIQtg3nCQIG7QIAACb9kvvh+iL68/lm+m/6K/py+pf6Wvpx+sz6kPvk/H/+PQA3AmwECgZpBq0FJgRhARb9rvhs9OvvZex16V7msORB5OfjtOS85iTplOxZ8HjzEPeW+iD9nf/aAbgDxwVeBwIJtQtWDmEQ8BLDFXoXQxiJGB0YGRdPFQATiRDCDewKKgiNBVADPwGd/3n+fP2B/OH78PvC+yP7uvqB+k36Mfqw+vz7aP0n/6kB8wMXBWoFSgXkA9MAAP0F+a/0PfCo7ELqDeg75gbmC+b85Z3nG+p97JvvYfPZ9rH5Qvyo/qUAdQKkBDUHrQmYDPAPixINFe0XxBnKGugbKhw5G7MZrRejFCUR+w1rCvAGlQS4Am4APv4A/en7nfrv+d350vm++QL6KPpJ+in7Mfxh/fn+vAB1AqsDbwSjBBAE3QKbACD9W/nB9bzxse286n7ofeYs5YvkoeSr5cLnvuou7vrx5/U7+fP7Xv5aAE4CoQTiBjUJdAwOENgSghVpGEMa9BpeG2kbYhpjGAMWJRPGDywMzgjPBfoCkgCD/gb9R/zF+5T7zvv1+7f7jvtm++P6sfol+wH8Dv1G/qT/uwBWAYoBPAFTAO7++Pxw+oD3GvSE8Gntkers51/mB+as5mzoMuuj7kDysvXH+F77fP0+/8YAFAKGA1EFGwcaCXAL6w2PEC0TaBUEFxUY2hjhGLIXwRWSEwgRwg10CsQHVwVAA7gBtgD8/2f/B/+S/vz9ZP20/Pv7efs6+/b6y/oI+zP7bvse/Mn8kP2o/pv/1v84/8f9TPsR+F30k/At7WDqg+ir57Dno+hu6qPsPu8y8hH1wfdZ+rX8pP5zACQCjAMeBSQHWgl5C9QNhBDxEusUZRYYF0wX6hZ0FUYT7xBhDpELIglAB4AFBgQWA28CqgHxAGQAnP+w/gf+QP0T/Cr7n/ru+XT5mPkA+rj67/tT/X3+Zv8TAPD/vP7w/Jz6WPen85Lw0+0865TpCOke6QLqzOu37dbviPJO9d33Qvqf/P3+IAEWAxIFOgeXCQ0MWA5bEFsSFxQkFc8VLhbnFboU+xLzEGIOrQs7Ce4G7QRhAygCMAGCAPL/e/8q/8n+ZP7j/R79cPzi+zr7y/q2+t/6W/vk+4D8aP1C/sb+zv4r/vD8K/vZ+Db2hPMe8Sjvne3R7Jfs+Ow97sXvZvFm84T1kvex+dr78P0AANwBqAOMBU8HOwlWC2UNWA8qEakSiBPpE9ETMhMqEvIQnw8dDsEMbQvlCVsI6wayBYoEUwNWAn0BgwCo/8n+rf2L/Gz7UfpS+aP4afiu+En5DPok+zD8z/z0/G/8kftd+sb4O/em9Rv0v/KH8dfwifBm8NTws/HH8jb01vVv9/r4jvoZ/GH9rv5EAAsCyQOgBbsHkwkJC0YMJg3EDUIOpw6sDmEOHA6bDcoM6gsKCxoKMQlMCGoHzgZVBswFJwVrBJcDdQITAar/TP77/Mr72fog+pL5LvkF+SL5TPll+Y/5nvl8+Ub5v/gB+DL3Vfau9RD1lvRr9KD0OPXZ9a32sPfI+Pb5L/uD/OH9Pv90ALUB6QLsA98ErQVuBhAHhwfxB0wIwAg1CYcJsgnBCcQJuQm1CckJ5wkACiIK+wl8CfEIWQitB8MG2AXeBJ4DUgILAb7/Uf73/OT7H/uh+lv6VPpl+nr6mvqA+hr6s/k4+YH45Pdn9+72nfY79vr1APY09qH2MPfs98T4t/nf+g/8LP1D/ib/4P91APgAqAE8AskCfAMlBLQEHAWcBRgGbAbrBk8HkAfLB8kH5QcFCOoH3gfhB68HXQcTB58GAwZzBdQE3QPzAiQCGwEWAC3/ff4E/qf9jv2U/bD9y/3P/Qf+Nv4H/pT9J/25/Aj8ZfvT+g/6g/li+Vv5m/kI+m76Evuo+xb8dfzF/Aj9L/1q/Yv9p/0I/lL+h/7d/lP/6f9sAAQBsAEzAr8CVQPcA3QE7ARXBeUFnAY9B3YHnweZB3cHRAetBiUGrAUSBV0EowP1AkMCoQEKAWsA6/+w/23/C//l/pX+G/72/bL9Wf0N/aT8P/z/+9z7q/vF+/37Gfxo/Mz8Gv13/er9J/5K/lv+Of76/bn9dP0M/cT8gPxL/Ef8Nfxk/MH8CP1x/Qz+nv5N/1oAfAGvAtgD2QTCBZIG9gbyBiYHJAf7BtQGZAbZBR8FeQSdA8YCQwKeAWYBTAEHARMBAgHQAL4AVgDC/6n/V/+a/kz+3f0s/cb8cfwM/BD8QvxI/BL98P1R/vj+rv/b/9D/3P9Y/93+ZP5A/Zj8YPxw++b6GPs++nz5M/oY+in5hPqU/Ez9ZP9zAl0EagZACDEJmAoGC0YKhAoFCh8IHAfVBUoDmgFYAFv+Qv3m/HX8u/wO/bL8cf11/hH9of29/5z+Uf/OAUwBowHoAlcBsQCWAWX/af3c/ij+APxu/XT9lPuq/Jn8MfuX/Dz9dvyn/Zz+Pf4f/4n/iv5W/53/3f0I/qD+Rv0A/af9Kf2+/S7/SP86ABwCfAJhA/gE1wTwBLoFOgW5BAwFoQT+AwwEjAMYA3oDHAN8AvkCpQKAAa4BEAHM/+3/bv/I/kj/Iv+X/gH/y/7W/f/95/3x/Of8Ef2u/Nf8Jf1R/R7+b/4Y/ur+k/+k/kb+n/72/fH8f/wk/Gv7B/sz+4L7Kvzh/Pv9T//u//cAWgKrAsAClgNSBCcE7QMmBE4ExgONAhwC7AGZANH/7/+n/wAA2gD8AEIB8QEmAucBZgK7AnQCOANmA1UCOgKSAk4BxP9z//H+z/1V/Hn7Vvuo+kD6RPob+vX6I/wt/MP8tf4vAGEA/ABmAogCrAGdANX/Sv/K/b38uvxJ/LX7nft5+3L7J/w1/Y/9Cf5lABMCNALoA2IGMgfzBrwHTwgjB3IGagbiBZgFbQXwBDsEYQO/ApwBSwDo/8T/cv/8/in/k/+j/x8AkQD+AB4BBAEiAUwANP+9/gP+v/wk/Kn8Rvyl+3X8c/zW+8T7G/ug+jz6PfnG+EL5Eflc+Ij5afrM+dn6c/xc/Mf8MP+6AKsATwJiBFEEkARWBfAErgRmBFYDRwOYA8oCwgKUA5UDTQOgA9cDEgMDA7gDWAPfAhUDNQOtAtoBLAGjAO8AGwF5AJwBugNKAz4CSQNXAzwBUQEmAm4A9P+uAGv/yf0R/S78Ifux+dr3rfeU9w/25/Wv9uX2JvfS99X4k/nw+df6XvxO/Rn+NQAmAqICjgNOBfMF0wRwBA4FGATFA9AEDgWDBYEGzAbgBTkF/wTtA14DngMEBK0ExgRwBGcEOQRCAxcC7AGFAboALwE0AQ8BswEBAdD/OAANAbr/uP5OAUoCUP+A/qT/Kf2h+b75I/qC+BX4vvhL+AT3tPUX9Z70MvPc8gr1UPbV9pb6FP4N/o7/+AJPA+YBvgIVBfwEQANjBCMGZQVwBP4EtgYDBzAGLgecB3gGGwb3BXYFagSqBDEGBAX+A64F1wWhAxUCjALJAk0BiQC4Ad8C4wIPAtYBpAKCAar/HgCU/3T9K/1l/GD5A/jq9+r1ivTo9bX2dPam91T4Hvf19X717/Tc88r0xfcm+bj6Ef7Q/7//kgAcAnEBpAArA9AEaAS6BTwI/AlPCRUIhwmYCdYGOAYsB0AHZQe0ByYIsAj5CLMI8gfAB/gGqAXoBD4D5gEqATwAHQAK/4D+xP/l/nD9AP4a/uP8C/x4/J38iPuU+jn6BfmC9b/ypfIp8Hvtue8o8efwvPJ49KH15PU49iT57fum/dYAfgTpBasFywVBBfwDAgQiBGcEkQanBy4HvAfxBywHhwZWBx4JVwkuCh4NGw4QDXUNzQ0zCwAI1AZ0BS4DQQKLAt0CBwIHAUcB7v+E/Sf9cP1r/Rz9BP0a/nr9w/q2+TH5F/dj9YX0LvNT8hXy9/BV8A3xIfGX8e7yD/PR9Bf4pfjr+cT9LgAkAW0C+gM6BfME3wOPBKcFvQXQBqAInAm+CY0JFwnyB2oGwQUhBkoGHwdvCTkLJQxXDf0Nzwx3CgsI9QSWAcf/KP8C/xYAugHeAosDcwPSAgACkQA8/5j9Cvve+Hr2nvM08kvyYvLu8jf07fNf8hbx1e6c7K7ssu2x777zcffp+vX+UAF6ArID9wN9AwMD3QGGASIDOQSfBS4J9AzhD5wRKhKcEoERoA4HDR8MtgoyCn8KCwvNCkEK+gqICkMIMQeoBvUDfwAA/wD+2vzc/Lv9nf8pAS0BDQEGAHT9HPtg+ET1JfP48Ojv6O9b71LwCPI88snxBPLb8Yzv/u1Y73rwx/Bx8/H3sfpA/N7/vQMJBTQGyQdaCAwIjwYbBhoHJgcICMcKBw0IDrMOug+2ELkQNRDfEGIS7RGdECURixB8Dt4NcQxqCooJOQc9BP8BXP9g/fT7JPrh+Qn7o/oL+mv6tvhQ9gn17fHO7u/tjOsJ6aboWuf+5sLnA+db6P/qluts7vryWPVX+bf+sgH9BJEIPQpQDBYO0Q5bEWkSEhFEEmQScw+8DskOFg2iDKsM+gtLDP4LqQsfDWIN+gzqDUgNWQuBCswIkwbCBVAEsgI+As0AP/9s/lP8yvoV+vv2yfPo8c/tvOlg6PLmtOVR5VblEOYr5YPjcuS35frlROn17obzuvjb/soDjAdYCngNcBDbEGoRsxOaEzYSrxJuEpARVRFhELgPzg6HDdINew11DKMNHg+7DhMOsw0dDTsM+wlWCKMIqwd8BV8EZgM7AUH/EP6V/Cn7avnS93P21vIr71Dt1+lp5ejinODx3SPcz9rP24jeouAZ5v3tsPOU+jMCtgbfCs0OsBDEEqQTkxIyE+kSehBSEBsQXw7LDggP6A1CDtoN2wx1DfYMqAwcDiIOuQ18DkkOLA0sDEsKEAjlBd0CmgDi/v78Ov0u/lD+6v4Q/4D9S/ra9djwQ+s15cPgGN4J2yXZdNns2YzaVdw+4IDlmOpQ8a/5wACWBpwMERF7Ej0TJBQRExwRDxEoEpcS6hItFFEVoRTlEoUR1Q+jDbgMUA2pDXYOZxB4EYoRZhHUEMMPrg1UC6MJlAcTBVkD7wFcAGH/ev73/Tz+iv04/AD7u/cZ8gvsCeXd3PfVN9GGzhHOjM/404TahuBe54PvfPbK/OUCDwiVDAsQuhJgFSMX6RdHGPYXOxZ/E7URVxC1DeoLPQypDG4MNAz9DNENIg1WDdMOtQ4JDnYOzg1vC0EJnwe4BWUD2AGuAWEBggCXANgAHwCW//H+iP1n+yX4KvQw78noY+Jb3IHWaNI90JTPiNHQ1YrbyeLA6r3yxvouAl8IxQ1AEpIVihiAGjcboBv5Gl8ZUxd6FIMR9w5wDEkKCQk7CKQHVwc5B3IHqgesB2AIXwkMCvcKnAucC00LcQoVCYQHpwXoA48CXQGzAMcAHwFvAckBgQHB/2z8cPfa8PzosOCs2HnRVczQybLJPMxY0Z/YiOEK65v0+f1MBj8NMBOKF18aphzTHcsdPx0kHJ4auhh+FmYUbRKVEPoOQA13C8gJNQi8BlcFLgSaA8QDYwQmBQUG8wabBwIIDAiVB8IG2gUTBRoEKQNtAssBLwFRAI7/Xf4X/Br5R/W48F3rcOXT34jaSNbH09LS79Ms10ncDeOp6oHyMfpDATYH5AurD9QSSRVnF2IZAhs8HMQc5Bx0HDMbvBkhGBcWvxNsEeAOGwxLCUoGkANzAYz/Ev5M/dX8lvxp/I78D/1U/YP98v2X/jz/6v+pAEkBDwLAAgQDIgO0AoYB1v9r/f/5Ava28QztpOjn5BPieOAo4AfhIuMM5ivpoOwb8GHzgvZz+Wf8c/99ArYFSwn2DKQQRRRvFxYaPBzRHakesB4xHiEdYhsqGVoWFhPgD7MMsgkXB6EEaAKOAA7/yP2F/HD7ofrk+UL5wvht+H742/iO+az6//tz/eT+KgARAQUB+f9B/mL7p/fY897vHOwa6f7m6eXz5Q/n9uhk6/DtZ/DR8hf1FfcU+VD79v0nAXEE4weACxYPpRLqFakYuhohHNscqhywGzMaPxg5FigU1BGnD6MNdQtmCYYHnwXPA84Brv/M/d/76flU+C33bvZF9r72iPen+BH6cfvC/I39rP0b/XD70vjC9UHyQO6n6p/nYuWO5Mjk7uX355/qe+1H8OPyLvVX91T5Svuy/U8AHwN/Bh0Kpg0lEXIUOBeHGVUbZBzUHJYcmxv+GecXdxWnErYP2Qw6Cu4H5gX8AzkCzABr/yj+2Pxp+0z6CvnR9zP30Pat9in3E/gf+W/63vsS/fT9F/6H/Uj8//nz9lfzoe9F7GDpNece5mrm0Ofr6ZTsfO868qL03Pa7+E/6Hvwm/nEAKgMyBoMJGQ1yEGETKxZvGPYZwxrzGn8achkDGAQWoBMtEcMOhAxnCnYI4AZ5BSEEAgP9Ab0Ab/8x/tL8iPs9+i75zPjA+Ar50/na+v77IP3f/fz9ef0g/Nj50/Y884HvCOwh6QTn8eUS5iznDel26yXuw/Ao8zX14/Zm+Nj5qvvh/WIAQgNpBtcJPA1qECUTWBUKFxgYkxhUGJAXiBY5FaMT4BEcEDYOQAxBCjIIVgbIBFADBwINASMAKv80/jr9H/z8+hD6ffk8+Vz57/nq+gD88/yx/RP+2P3O/Cf7s/ix9XPyDO8u7NrpFuh95wjoV+k364LtFvCb8tf05Pa6+Fr6F/wt/oMABAPYBRIJRAxHDxASWRQlFkkXqxeRFxQXRhZJFfkTZxLmEHAP0g0VDDMKSwiOBuEEKAOmAXUAU/9k/pH9yfz/+y/7tPpC+uL5BPp3+gT7sPs+/Jb8p/wn/Oj64/hW9m/zZvCO7TjrlOm86N7orekb6x/tce/u8Tf0TfZC+Pb5hvsk/dX+nAC8Al4FSggUC+ENjxC7EmwUgRUJFvcVgBXIFJgTShIKEZ0P+w04DHQKvAgCB2gF7gO5AtEBAgFdALL/6P4N/iP9MvxO+6L6RvpX+qr6Efun+1n86fz5/Fr8KftZ+fr2gvTv8TrvDe2C66Pqrept6+Ps3u4s8anzBPYf+OP5SfuS/On9Sf/UALEC0QQTB5wJRQyyDsoQaBKWEzwUMxS6EwcTBRLEEGsP9A1sDOgKYwnqB3gGEwXlA84CygHtACYAeP+s/r/92vzm+xP7efoM+uv59vlV+hD7mfv6+1b8Rfy3+8n6O/k19//0wfK68AnvtO3n7Prsue3x7qbwnfK29Mn2yPiQ+v77Sv2J/rv/CgFlAtsDiQVJBxQJ1wpwDNIN5Q6YDwcQKBDQD0wPmw6rDdYM6QvzCj8KgQncCE4IfQeqBuUF7QTdA78ChQFVAC3/GP4t/V/86/u8+7H79/th/Mf8FP0U/cz8Rfxq+zL6vPgb92P1v/M98v7wBvBz713vpe9t8KHxIvPl9Lz2l/hN+sz7Mv13/qn/3QDvARUDfQTrBV8H6ghXCpILsgxrDd4NJw4aDuMNcg3ODBkMPgs/CkUJdAipB8UG4AUcBWoEuQMEAyMCNQFbAIj/x/75/UL90vyP/Hv8efyG/KP8n/x//FP86vs/+3P6dvk6+PD2t/WG9H3zufI78vrxEvKU8lHzR/Ro9Yn2sPfu+Bn6EfsF/An9FP4t/2EAxAFDA84EhwZDCOYJbguyDKwNVw6uDrMOeQ4BDnIN1wwaDHUL0govCo0JvgjxByQHGwbtBMcDlwJyAWEASf9g/qb9Df27/H/8W/xf/Fj8Z/yU/Jr8g/xr/DT83/tr+7/65PkK+S34HPf69Qf1UvTV85/zpPPZ80T0z/R09Rb2uPaH93z4i/m3+hL8uP2V/5gBtAOsBYYHQQm7CgAM/wyxDUkOjw6jDt8O3w6lDlEOxQ0ODQgMoQrrCC0HWwVrA6cBBwC2/r79A/2o/I38j/yl/Kn8ovyX/FX8yvse+0z6Ofnq92T26/ST8yjy0PCo7/Hus+6U7uvuvO/N8FTyF/Tl9e33Nvpq/G7+gwCMAnMEUgYXCNAJcgsEDX0Ozg8CEfMRmxLwEgQT2xJWEocRWRD3DmwNmguSCXsHgAV6A4ABsP8T/tb8/PtZ++P6vPqx+rj61Pre+sb6kfo/+pz5zvj29/X22vXJ9MLzt/LM8RnxrPCL8J/w7fCg8aTy6fNl9ef2k/g/+sT7X/3p/mAAxQEZA4EE5QVhB9IIDwpTC5EMrg2ADgAPZA+qD7oPgw8jD6IOAg48DUQMRAsoCukImwdGBusEjwN1AoYBpQDk/zX/gf7l/WX9wfz++/v68vke+Sr49/ak9bv0CfQi82jy2/Fz8VPxXvF48bfxVfJm85f02/VR9974nfpb/OL9aP/oAEkCgQOzBNcFxAasB6cIlgkvCqQKLwt5C8QL6wu/C6ALcAsXC7MKOQqDCegIYQiSB7UG3gUOBTMEVAN/AqIBqgC8/w3/Zf64/fP8C/w6+2j6Uvn694v2BPWa8zTynPA+71Hu0O2R7YjtGu4y75rwYvJs9KH2HPm0+y7+qwA1A5wFtQekCXkLFw13DpcPmxB7EQMSLBIPEpgR4RDJDyAOcgyYCoMIlwavBPACngGgAOf/pP/G/yUA1ACbAVUCDQNrA2MDAgMOAn4AH/4U+4n3XfOm7r7p9+Rp4Jzc29k+2FrYd9pb3s7jjOp48hH7aQNLC0ASwhcSHO8eDiAVIEEfXR0dG50YhxWbEr0PlAy5CesGEQR9AQX/Mv0J/BL7Fvvg+/f8D/+fASMEKAcECmcM8A7CEKMRNRKaEcYPBw1mCDcCovo68X7nQ90J0n3I1cC7unG4fLmnvWDGKNIs4G/wtwCDEJUfcCsuNE86QTwfO6E3DTG6KeAhvBjeEJ4JdQLM/dn5Lfaw9FLzSvLs8try9fKa9J31fPcM+xr+ugIPCUEOFBSuGZQc4x4NH2QbnxbHDzsHHwCC+LTxMu/g7Ubu5PGh9Ej38vlV+LP0cO+v5bfblNLvyIrDVcJbxEHN6tm06P/7JQ5zHWgsqDUDOcg5ozSyK3YizxZCDM4Ebv3J+U36jfoW/WIBgQPcBV4HygU3BFwB+PwC+zz5MfcL+Tr8fv9SBagK1w5aExQVwhTyE/EPTQsHCCwDef+z/v392P4UAcYBnwL0AX381vUP7ZLfsdIfx427M7VFtL+3BsPa0tbl9P1aFAknAjnRQ5FG/UWCPvsxKyUtFicJowAo+Dv0YPYd90P5Tv6j/w0AxwC8/Wn7gPll9cD1OPhv+DT9UARdCBoOtxMPFokYNBj/FFETQg7WBsIDeP+Z+d74Efko+Wf8nv7PABEDo/53+Jnyb+Sc1FHJAbz9saWw3LMhv3XRz+VdACQb2C2kP5hMUUytR6k/IzB6IOIRXAQ2/dP3XfT5+AH9+v0pA1YGmATIA1IBSv3W+gv3fvX+90/4bPpuARoGoQmkD6QThxWwFv0UuxJFDw4IkQL+/uX4pPUs92/4z/uvARcGQAoLC6sF5P7C86Dh/9BuwoSz6at+rLyyBMLC1mHuNgqcIXQy9kEGSG9DeD05MgoiWhWKCeX/bvze+Xj64v/HAcUCSQZOBeMBtf91+/73dPZl9KX1LvkG+6D/JgZuCR0NcxHNErETUhNGEFkOzQpPBE8B1/4z+jP6efyj/RcCPga/B+4JPQZ5/MfzI+VQ0ZPDG7c4rOqs5bOTwLLXpu9uCEYkIza6QMRJ+0WCOnAwliDtEMoHYP5O+uf84PzF/6sFAwXPAxEEUv/2+lf4lPQL9fj2G/cr/OUBLQM1B4oLaAuuDEYOuQ3NDjsO/AuNDKgJ4wOgAnH/Gvre+lz8Vf27AksGYAgECxkFsPoG8Qvf4cqMvVywv6hjrT23Lskn49v7jha8L988BUVgSHg/qDOrJ60XRQwNBR3+IP59APf/DQNwBYQCsQCD/lf6pvg794P2xvm0+6H8WgHxA9QCgAQ4BqUFXAeVCUMLsw7HDx4P6Q8DDEEFrAIY/jv4Jvlb++X9EwXmCXoM6Q6zB3H7BfCm20bGxbkcrVin4q/au4jPDezfA94bwjIRPKFAWEG+NR0qaiDAEWkJfwYYAekBkgWoA+ADewSV/5f8yfqJ9n/2ZPhA+Nr7yP+R//wBrgTsAuwDzgY2B3cKag5ND8cRAhJ2DbgKMwXL+z34nvW88SH2i/z+AAoKvA9nD5AN0QGT8DLh1MoGt1Cvcqi/qpm8ys6c5egCrxcuKT44NTrXOLA1qikfIcAbQREgDSkNFAfIBPwEj/6h+gv6//XC9Vr54fp6//gE6wWqB34IZgR+AnAC2f9zASEHjApnDyIVABYOFRgSTwqcAqD6LPLI70bw3vFX+k4ERQs+EuUUJxHSB1j3auXT0mS+m7LNrtGtYrixyorccvNuCaQYKyc9L/wvwjEdLlwm7SNIHpUVGBP4DV0FOQLH/UP3P/Z09UP04vfH+rX8dAHqAu4BugMBA6kANwPHBSEH8gxyElkUqBZ2Fg0SoAxHBRD+Yfki9O7xlfVb+Lz7XgPOCM8KdQyLCzsGw/tD7jfhpNGywby5irZStkHAp9DR4X32VwuHG1goSzDbMr8yfS7mJ1sjVx1TFZ8QOAyhBCT/4fvu9jf0G/Uw9t34E/2JAL8D2wR+A0MDNgLb/7ABlAV7CAEOmhMDFRgVzRNVDn4HxwFE/OL35/Xo9en3tvtL/zYDTwh2CbAH/QYL/wHwoOTd1iDEP7oRt9G0fb0wznreMvOhCFgYGiafLuQvvDAyLu0mmCIGHqoVeg+LCkgDIf3k+EX15PTk9oD5YP41ApsDUQbFBl0DxgJPA+QB7gR7CqEM+A/RE8ASRhB5DSwIuwNzAIT94vy4+x36Wfs2/Mb7cP1dAOQBoAJKA4D/wPRz6Mnbc8s7vs65obkxwKHQFeMG9aIH7hVyH4klEyfhJ2koZSaTJaIkJB9EGJIRRghv/vf3V/Td8p70E/nW/bYANQK6AmoAs/xS+1/8pP7zAq4JCxBPE7YUbhSLEHkL0gemBLsCpgLAAQAA7v5R/MD5rPo0/C//jAS7BhwGpADn8DHgC9JIv8Oz47aJuzrFDtq764n4LgeFEcsYkyAWJaIq0y/GLSArvydOHLcPSwca/6n4Kvfb+G37rf0lAFkCQgEh/3L/af8P/3kBSwTEBbsHxwmxCvIKlguEDFMN1g6tDz0OAwwBCeQDQ/6j+oT4JfjP+5UBJwepCxoMJAkjAjTyGuCj0wTGJroyu+PA98SQ0IDffOmK9IIBXQ06GngkfCvnMbkxiyvyJS0esRPgCxAHywMwAQT+LPwe+1X4Jvcb+Cj4xfnH/GP+IACgACAAVwMmBwMJng3oEmIUoRQyFMUQUAyoCOQFYQQMAhb/fP1K+xX5gfmU+1H+rwATAnABn/iD6Ijb/88kwp297sPXyS7SSeCZ63fzBPzxBDgQUhuWIhIq3C4MK9wkDSCrGE0R0Q0yDDsL9Ag8BPAAYv4U+oX4qvpN/Lj9Gf/t/jX+5vwe/ET/TAQNCOsM5hGgEiARew92DPcJagj/BZMEtQP//+T8EP3d/MD+rwO2BCcDr/8x8sHg39QfyNu9pL/wxQDNmNea4DbpwfPF+9kG7BYGIYQnyC5sLqco8SPcHYsZohg6FbER+A+4CW4BAv2H+a32CvdH+OT5APxw+qD3+viY+pj7uwC6BpUK/g6UEWQR+xHhEA8OPw4XDq0JOAWIAkb+Z/lY93/3E/ko/Pj9vP3W+7zykeTE27fUK8zfy67R/9Vp3CLjmudV7zT3rv1zCTIU0xerG/ke9hzTGjQb0BuVHHAcvxp3GMoTwwzqB38F6wHL/h/+7fvw99r1jPM08azyl/Sq9b75cP0e/ycD5AaJCOALTw5XDrsPLQ86C9YJiwhDBB0DkgQVBJMECgWjAcD8TvTu56Xf9dmo01DTe9Yv1xXajN2I3vjjk+vu8Pb5ZAO2BhQKKg8EEVkTKxlFHjIhqyPpJEwjWCC8HR0b9BgIF7ATyg9yC/AEAf/5+uT2mfTe8xrygPEV8nvx/vLb9rL5Cv6SA0QGiAdvCA8I5AfrBwAIrwnEC0cNCg6wDBMJzAFQ+Jjx/OmS4EXeZ95M2mfaZNzu2fLbo+FY5BvrjfPm9YL59P40AIID6QpKEFkVixvPHkcgwSEIIbYfJCAVH6sbIhn2FXAQbAsvB7ECA/8t+0P3YfWw84jx7fH/85z1OfgH/O7+7wAKAwoFcwbAB24JVQo7C0YNVA2MC/MKlQbN/HD2/PCs5XveAt3d1grTANVO0qzRv9fN2VnelemB7v/ygP3OAUUEvQ0AFZEZCiH+JZwnoilxKcImKCVWJDsigR4HGhUVEw8dCWkEVf/Q+WD2rPP/78PtXO2t7Zvvg/Kk9a35kv3bANwD/AUbCD4KdQvpDDkOPQ7aDnoPMA2xCT0F1v0792DxBuhT4a/fndrX1e7VJtO70brWrNkK3mvn8evv7+74vv0UAkwMxxNlGfghbCZ0J4AqKiskKWspOCn4JSciex3HFyYSFQyWBt0BUPyl99nzYe6b6oHqX+o66zrvC/PX9Ur6sP6mAHwDIgiECqQLNA65D48QoxI7EocPmQ1ACCsAM/sV9O/pduYT5EPcUtkJ2WDU9NTo2OHYet2M5O7mauyx85b3Gv+XCOYOUxaXHbAhaSX9J3EopyhyKCAnjyTTIHwcxBf6EtUNQghyAyL+Bvii853vCezg6zzsFOwq7yPy+/I29hT69fs//0sDXgVhB9gJmgsfDYwOHw96Dq0MMAiCAZH8C/er7mfqYuj04Z3ec95H2RrXidr02kDdlONT52bsbPOb9w/+GAeJDckUqhzoIKokVii6KKIoNCnkJ9glwCPIHxEbghbYEPgKoQXe/5T6hfaf8tPv5u5d7pbuXPBB8j/01PZF+Vj82v8rAmsE/wapCIwKWwwwDS8O9Q3/C3AJMQR7/vX6Z/Sw7RzsCugd4i/hNt6V2Ubbi9xh3MLhheb76OTuQvTQ+HcAeQfkDUQV9hmUHUYhLCLVIikktiNBIzwi3R6MG40XohGgDPwHMQJd/Xn5ePWP8sjwte+871vwXPEc8wH1BffY+bD8Fv/6AfAE6waoCJgK0AvoC4oL2QqDBw0C2v4R+33zYO8k7ozoceS245jf2Nws3ivem9+741DnG+zD8O30MvwKA4sIVRBxFhca/B7aIUci7yPzJJMkKiQYIqwehhscFzoRTgz0B9YCkP42+x73DPT+8s/xHfHw8RHzmvSp9qr4E/uo/e//YAKWBDkGpAcDCQ4K4glaCZAIrwS5/xr9WPiC8djubOwl5xrl4uOG35behuDv35fhc+ZY6a/sHvKn9tL70gJeCU8P7RSiGVkdiR/1IGoiFCNbIxQjzSDeHRobihZjEX4NMwmUBBQBaf1t+eT2afVN9ObzHPTM9Aj2efep+OX51/v3/X3/XAFYA3QEOgbsB0QHgwYCBpkCp/41/JD3lvK78ITtsejj5gDlTuGy4HjhCOFK4yXnbun/7GjyYff1/CYD8gi3DtATyBfkGlAdvR/NIZYiyyLrIZMfQh3xGeMUsxBhDQYJpQTlAO78avkF99303fIf8mTygfK88qrzCPW99pz4dPqD/LH+7ABFA9MEZgXLBdMFvQRDAnv/WP08+jH2vvPO8B7sbOmC5xbk2uKO4xbjHORJ5+Lp2ux08ZL2yPupAecHQw3OEY8WexrpHFsfTiHUIRgimyGCHxodZhqrFgYTpQ9kCwEHbgPU/wj8A/mh9oL0bvNW803zd/Nc9Kn16PZo+Jv6BP0w/38BqwPYBCMFFwVlBMoC4QDt/n78r/kN9z30IvGK7lPsXOoa6U/oH+jd6OPpaOsb7uDw6fOQ+CT90wCXBXYK9Q2rETUVWBcWGXUaGBuUG24bXxrPGHcWChSkESQOVAoAB5sDawAx/X/59vaN9fDzIvNI83nzb/T59Rv3p/jk+vj84/54ALcB4AIwA58CKgJOAXf/wf2u+0v4rvUp9Gvx0O4H7v/st+vf6ynsLeyy7RTwCvLF9KL4OPzh/xQE3Ad8C0cPZBLVFAgXjRhhGe8ZzxnhGKwXAxamE+EQ9A3gCs8H/QQ7AnX/4fy/+hH5v/c59233kPcK+C35GPoI+0/8T/0Y/h7/EQBoAE0A3/9A/6P+dv3A+0n62Pj79lv18vMj8tjwZfCr70Pv6O/P8NPxMPNL9fv3O/q9/AkAEgMwBpcJ/QvkDTEQ3RGfEiwTgBOrE4UTmhIhEWkPpA2pC1wJUgeQBeoDTQJvAOD+B/4t/Ub8sftz+837Jfz8+877u/sf/Kn8a/wd/HX82/yM/Lv7Svue+n/52/jG9zv2yfV39Wj0nfNc86HzKvSG9Cb1g/Yt+Mn5jPtG/Tn/owG9A1AFEwfOCCAKMQuTC/QLwAx4DKoLggsAC0QKmgl3CFoHngbIBa8EwQMtA5wC/gFVAacAfQAsAHn/CP+j/oj+VP6O/QH97PzO/H385ftH+xv7Bvtz+pr5CvnM+Hn4BvjA90z36fZE92H3U/cw+CL54PkJ+1P8XP1q/tT/LAErAm0D5QSTBeYFlwbqBuQGFgf+BpwGoAZ/BucFkgVdBdkEngSbBBoEtgO/A6YDZQMeA7UCdAKMAlQC6AGbASQBtAB6APb/Of8L/xT/xv5o/kD+Kf78/Zr9Lf3z/LX8r/yf/PL7lfuL+yf78vql+kr6p/oL+//6Ifub+yn8jvwG/b/9fP5O/xoAZACcAH0BBwIVAoQCzAJWAwcEvwOZA+wD6APOA2cDTwNHA2QCIAIQAnkBOAHCALYA+QCOAJkAhABHAOcAywAoAGMAkwCzAAYBNACi/3YALwBY/1//NP8b//D+bP4t/sD9q/3a/TX93vxW/az9Df2n/Gn9Ov1C/Q/+n/06/rn/af8n/3//f/9RAIoA7v+sANUA7QDYAZ8ApwAkAkEBvQEdAhsBkwJ/AkgBCQKQAWQByAHPAOQA5gCWAMgAk/9b/wwAq//q/0cAOwBkAOUALQGTAEIBJQLxAHkBewJzALMABgIcACsA/wDa/zYAwf80//P/3P6H/+f/Yv4IAPz/O/+/AJH/Lf8DALr/PgBU/zj/QwAV/17/nv+h/lT/Wf88/3P/1P40/17/Kv+F/8/+Lv8iACP/O/++/4b+Fv9h/8/9j/6i/jr+AP8e/vX+NP9N/jAAJf8q/5cB/P/xAMsBlQAAA/oBCwEOA0wBFQIWAx0ApACFATEAOACV/6X+fP9b/0H+if48/j7+Hv9a/uX9qv6T/v/+Nf82/in/If8I/hX/Zf7R/Zf/dP86/tv+6P9L/+X/6gBt/0YA0AEkAAAAjADM/04AIwAY/4f/7/8eANAALgBj/9z/tACHARMCNwREBUwF/AajBZIFDwh2Bq8FiQXwArcCsAFa/2v/M/4r/OL79/sp+nD72/2l+ff6fv6T+iP9SQB7/QsBcgH9/T0CNAKy/1YDqAIL/9ABbgJY//IADQFf/qr+jP8S/ir9DP8F/sT75v3z/Fj8YP84/vv+jP8Z/tsANP9u/sIB/v6o/18CFf8pAZQErwADAhoGkwGPAmAGlAAOA4MFuf6uAiYDlv7MAqkAsP5kAF39rv0t/o78Nf2N/j79n/yk/0v+Tf61AXb9DP5XAmT+NwCrAtD+9gCLAikA1wG2AdL/IAAi/0j/kf53/tj/F/2g/WUA+v2Z/kMBr/2x/pEAZPxw/5z/Pf1oAQv/AP9MA+7/4wCZBEcCDAK7AgACmAJgAl8BjAE1AVMBcwHk/4//V/6T+3z7m/wp+9n6wPx2/R4AoQOBBwcNLg10DJgNuQk3CCUGof6s/uL6LvLG9XfyP+4y9qj2+/Su+iL8PfoBA7oBCftQB4EFw/+WDA0MlwYdDo0LYgTVB1QFSQCiAW3+ofi09xH3YPWH83j01veZ9bX3Sf5s/m4CVAgaCLcKPQ1wDJwNOA0GCk4H6AQbAJ38pPqZ+CT3tvVY98b2zvaw+lX8Zv2k/5ECFgIXA1wGYAWSBUIHFQecBKcEKwWQAHf/cf5i+TT5Sfml9o/3ZPlO+bT6W/3V/pT/nwHWA94CxgOSBUQDCASDBQsCSQEiAmf/3v69/2b+Df4H/+f+Ov7U/ikA8P9F/7wAdgDy/80BiAH6ACMD/gOSAgIDQwKCALMAlf9O/nv+vf7W/SL+l/5b/nIALAEZAU8BBQB6/6P+K/4O//j+i/6Q/qH/XwA8ACABFgJGAr8BHgJBAZz/8P8Z/3H+C/2m/J3+aP4o/y4BbgKmAr8EywbHBEQF2gQNAXz/of0k/Gz8/fv0+4n84v0z/yP/IgHLAvYCPwQrBOgCpwFsALr9svyS/pn+4P9jAYwAOAAjABUArv9S/3f/rP4c/Y/8Yfxu/Kf9+fy//EP/TQCyASIDSAOwA2kBA//I/m/+J/+S/+L+kP7j/W395v0IAMECAgQzBmsHWwX/BEsFJwILAMv/pvza+jf7kvol/LT+NQBLAQ0DzANsAlkDKgRdArsAqv7p+1z6//lL+tr7XP0u/z0BGAKiA2kE2AO0Ay0CvACDAK7/qP4P/hv+Cf1B/OT+LgBS/58AzQCw/wsAf/8u/3f/n//6/rH9Mv9g/1j/WwLdAucBYQKyA54DqgJpA3YC6P/Y/mv8Y/oL/LD8af3C/0gB3AJdAlsC/QPSArYBSQGy/hr8BvzE+776mf0cAUABlwKABSgFUAQoBkcE+v8r/yH+Dvvu+Yz62PlS+wP+z/7ZADwDOQVVBYoD2gLHASj/Hv2E/Zj9tPzp/cz+7P1f/1QBTQGdAQ4CkgKsAVwAE/+j/Ub/hP4p/R4A1gCLANsBDwJJAXcA7ACGABf/8v+0//r+Uf/h/goBsgI9AkUDpgPdA74DuQHd/1/+NP0q/Gr65vqP/UX/tgDeAV4C4wLEA3MDegHAAH0AYf2O+dD4Lvg6+Hj6svpF+5H+UQEGASQBugQjBVcC3QJNAov/q/8hAUIBeP/EANgCg/8ZAI4DCQK/AYMC/QDw/6//AQArAAYB6AInA7ID8wPTAhYE+gR6A78C+QEwAVIAk/5W/y3/Hv3w/ZX8gfrN+4D80vse/IT+gP4o/Z7+cv2J+7r8m/t0+pX7d/u1+yv9Of1w/PH+KwJOAkAD2ATDA4wBs/8p/x0A1AC1Ac8CLAIqAYACWAMnBH8HPQmkCJgHMgb5AwYCGQL8ATABPQBF/xz/6v56/yYBvQKTAlYBLAFpAFQA+gAqAWsBOf+o/Tv9Qvsi+wf88PuX+XP2KvY/9AvzX/Zd+M35ffvw+3j74flq+gb8XfyQ/Wv+cP28/Cf+8/9pAacEugfTBxoH+waFBbwEdQZhB0oHzwdsByIGNQZuCHQJ7AhVCg4JHQV7BI4E7QKYAgIFlQWOBN8FrQYPBvAFpAWtA5UAcv7v+yH50feu9pX1QPPc8Ubzs/K68lv0V/NJ8yzyO+4i7sfvy+8u8Xr0avUB9ZL4TftH+tr9HQOVAicELQepBgoIuAnUCq0MIQ1cD6EQUA/yELgRUREiEQ0QRRBCDhoNEg5oC0cLiwzYCaIIbgfkBW4FhwN/A+ECvgAcARsAZf4k//f/S/9e/Cj6ofg28wnwLu936rXnjOZ84+vh0OJP5g7oy+fF67PtwOx98Hj0nfaZ+sH/FAHU/ncBhgUbBXwHrQs3DEcMoQ10DiUODxAUFGAURxObFIgTLRHpEQQSExFBEYUQCg8nDbYLIAuNCREI8gXFA5MDbwJ+ARcCiQGoAIv/+Pza+WX3w/VQ8s3snei+5fLijeGO4WbgBOCJ4oTjKeOm5SrqQe+G8/n2Nvuu/10EnQi0CjkL3Q0dEaIPBQ5WD68OsA18DvcOpw9VEu8VnBV5EyAU/hN0Ej8RXw97DrcN5gtkCg4INgc+CEQHKQbjBWoELQMjAub/Cf3O+7768fU78unwmOs85rrk0+AO2yrZvdk52ELXAN3D40PmJO1N9mb4d/s3BAkJzQjFC8oOiAoNB3IJpgmHCe4N6hDcEEsRshMCFkcWvhdUGRsXIhRzEjAQ4w2BDZoNeguVCfgI/gZmBicHNQXYA/cDWAI4AecAwf/J/wsBHgF5/sb6dPgu9IrsM+Yb4Svc6tk52BHVotRm2KXc+OCv50Pu4/OA+xoAGADGA/QIkwigB/QJxwouClkM8g1bDH4N9xAfEN8NNBCsEykUpxTWFZYT2xCWEYwQLg7BD/oPWwt9B6kE5gH9AZADwANLA3gD5QIpASQBqQKtAuYBHQFM/h76Zvgg9pruiedf4qTZTdKT0KfP/c/E0+jX2do34BXpevFc+lIDcgj8DPkP4g4qD5YPsg3UDIEM1AvNCx0NDg8wEB0SwRTnFbIWjRf6FvcUIhPWEK0MdwogCjYI+QciCSAIqAfhBycGSQU9BgYFVwJqAbD/JP0h/mcAiwFEA+ADXwLKAAb9fPWD7yTqb+DC2PLUbs5Jyj7OwdNS2J/hp+7K9/L9lAZfDUsP4BGzFB0T3g8rD5MOsQujChQMlgy8DRkPGA9JEE0RIRAaD30NuApNCeoIiQhmCI4IpwhXCL4HEwcSBx4HRQbjBRAFTAKyAOAAIQDA/zUAAQCTAKYBQQJuA54Cpf+a/QH39Ox76NTiWtpe2AzWdtBq0hHYHdps4KDrc/IR+XoDXwjiCvoRqRRFE9cUThPODqsO7A4CDbIN0Q50DFEKnQogCs4IywgiCW0HYwTFAxcE0gKPA9IFNgYMB70IVgmXCTYJFgjYBvgE+QLJASkBVgAm/0v+Iv60/dH85f37/wL+O/vQ+Vry2+q26cvk9t6Y3+rcSth23PPfIt/i5/rxIvNs+8AF4AONCOYSoxAqEc4YIRbIEmgXwBW+Ea8VABWKDlAPpQ/OCv8K4ArSBZYEOQWwAukB1QNABFQEDAXVBCYFmgZ+B5AHAAcDBvEEJANvAaMAAABi/2b+Gf2Y+7r6sPv8+236W/ku+Dn0eu+V7ezqOeYL5XXkM+EJ4X3kWucd6hbvPvXK+dP9iAOIB3IJ8w3JEccRwRLoFF4UFRSwFTYUoBG2ESMQkgxpC+EJwgWtAwACmf7c/Vn+tf1S/kX/b/8EAZMDiAQlBecGRAfeBqUHuQb+BL0EOAP5ADcA9P5q/Lz62vkm+P32qPaD9KXyofIt8Y/vdO967vztpe+Y8Lbwc/J79AH2yfip+zv9hP+KApoEegaECAIKtAuqDW4O7Q7QD0wPYw4TDuEMxgsrC3kJ3weyBrQEWgOgAkkBygD3APH/ef+RAHcA2P+QAMgAbwASAX4B3QB3AFIAY/9V/rj90vy++8T6rvlX+L32ivXP9OPzF/Ok8kDyJvKs8hP01PWB91r5HvvW/IT+owAUA0kEsgXLB0kI4QizCi8LGwtQDMAMkAtQCwkLqQg/B5wGWAS+AtwBRgAs/8H+V/74/er9Bv7n/eP9Sv6o/rb+eP5s/pT+b/6O/uj+rv6K/s/+YP6B/cv86Psg+736jfom+oP5X/m++ev5V/o8+837ivyJ/Sv+2P69/4AA4wAcAWYBtAHiAa4BnQHcAfoBMQIXAq0BogGGAYcBowErAdsAwgAxAN//DACt/y7/cP9b/8L+0f5F/0f/W/+0/9v/OwCyAMgA+QBOAW0BlAGsAXUBVgFLAfcAhgAcAMn/fv8L/4T+S/5J/lf+pf77/lj/yv8zAIsA5gA7AVUBiQGxAWYBSgFtAQwByAAHAdIAWgAtAP//zv+k/43/gv92/6H/yf+F/zb/Lv8c/8n+hP6O/mH+Mv5Y/iT+3v0i/nz+jf7F/iv/XP/G/2wAzAAAAUYBfwGFAX4BmwGHAU0BVQEGAZAAlAB4AD0AKQAXADUAUgBCAD0AYwBqAGIAkwCVAI8AkACNAPgALgHjAMEAvwDfAMMATgAQAJ3/Pv8v/+z+4/7N/pH+n/6e/sD+1/7O/vD+5v69/q3+sf6W/nT+c/5//q7+1f7g/g3/Lf9V/6b/0/8FADoAWACGAIYAnwDNAKwA0wD7ANkA5QD7AAEB6gD8AEEBKAEIARUB+QAMAT4BQAEZAfwAOQFIARwBNgELAc0A3QCxAGQATwA9AO3/u/+n/3n/cf9M/xX/Jf8x/1P/uf/g/9b/3v/O/8v/4P/W/63/rv/T/57/hP+x/5j/hf+W/53/rf/J/9//8f8pAGcAdAByAHsApQDOANMA9QD0AOEABQEBAQAB1AB/AHAATgArACAADgAyADAA4f/R/+//7//j/9H/qv+I/3v/b/9a/0f/Mv8H/wX/Jf8M//T+L/9L/yf/JP8y/zb/WP+I/5P/pf/U/9n/ov+3/+r/uf+q/6T/Z/9v/27/Sf9A/0L/Vv9g/5D/6v8LAC4AkACzAIwAvgDoALYAxgDNAHoAZgBlADUAFwALAP7/6f8LABkACQA+AEQAMwA+ACwAOgBLAA8A3P/p/9b/pP+r/5n/U/9X/1T/KP9e/6P/qf/H////GgAEABwARAAhACgAQAAiADQAQwACAO///P/a/9T/6v/0/wAA+/8dAGwAhACoANUA7wA3AUwBRQFWATkBNAEkAesA0ACqAIQAWQA0AB0A7v/t/xkAHAD5//P/AAAhADgAGwADAP//7P+8/5b/hv98/2v/S/86/zX/I/8X/y//Rv9L/1z/hf+r/7n/yP+1/6X/w//E/57/lP+w/4v/Yv+S/5L/cf94/4X/pf/o/wQA+/8pAFMASwBbAFwAWgBkAEIATABhADkAPQBYAFYAWABnAGkAewCVAH4AYwByAGMAHgAVABoA5v/e/8n/k/+Y/3v/Rv9c/2z/cv+D/3v/l/+//8v/+f8SAAkAGwArAC0AIgD8/+n/9P/f/8f/xv+w/6v/zf/R/9r/AQD8/wIAQQBBAC0AVwBgADsAPAA+ACQAJQApAA0AJABEABUAHQBJADoASQBlAG0AkQCnAJkAlgCRAH8AXwA0ACIAEQDn/9z/2P+i/43/jv+G/5H/g/+O/7L/u//N/+P/6v/x/w4AFgABAAcACgAKABYACwD1/+r/4v/i/9X/3f/3/9T/xP/u/+3/w//G/9b/wP/b//L/2P/k/wAA/f/5/xgAIQAfAEMAaQCEAJQAoACsALQAtQCfAIsAjAB+AFkAMwAkABAA5f/L/8X/r/+o/67/vP/m/+j/0f/j//f//v8PAAoAAgAWAA8ACAACAO3/4f/X/9n/2f/U/8v/zf/b/9L/tP+l/77/uf+j/6v/n/+S/57/iv98/6P/lf99/6b/vv/A/+H/HgAmADIAYgBlAHoAlACNAI4AlQB8AFgAWQBQADkADwDt/+7/2f+4/73/uv+u/8T/wP/A/9L/z//W/9j/4P/t//D/AgAZABAAAwAcADMAMwA3AEAAWABrAF8AWgBXAEgAPwAqABoAJAAMAN//1//h/9T/pf+e/7H/ov+r/9f/4P/f//j/FAA3AE0AVgBiAGwAfQB7AGEAaQBxAEEAIwAjAAUACQARAPH/8v/o/9H/2v/d/97/2v/M/9L/8P/r/93/8f/o/9f/3v/r//f/+P/1////AAD5//T/8v8FAAQAAwAZABAA/f/r/97/3v/R/7v/vv/A/7H/sv+q/6v/wP/G/87/3//8/wwAFQAqAC8ANAA1AC8APQBMAEkAQgBJAEIAOQAuAAcA9//z/9v/z//K/8T/wv++/7D/qv+v/7D/wP/Q/9j/6v/9/wMAGgA1ACAAFgA1AEEAKAAvAE8APwAyAD4AMgAVABEACwD9/wEA+P/g/9b/6P/h/8n/zv/K/8D/x//e/+f/6P/z//f/BQATABkAKQAzAEgAVgBKAEEARwBXAE4ANwAuACQAFgAHAP//9P/j/8v/y//k/9v/1//o/+//+P///wAA+/8BABwAEAAAABkAHAAPACAAIgATABYAEwANABIAEAACAP7/AwD8//D/6//r/+X/7f/w/93/1f/d/9b/zv/Z/9v/4v/t/+//+P8IAB4AHgAZACwAOwAnADIATQAvABoAGgALAAYA+P/p/+L/0v/Z/93/yP/R/9r/xf/O/93/5v/v/+3///8AAAAADwALAA8AEwAWAA8AEAAQAAAAAQACAAEA+f/u//n/+v/z//T/9v/t/+D/4//q/+P/2v/f/+H/2P/Z/+H/5P/w/wEAAAABABsAFgANACoAPgA2ADYATgBTAEEATABOADcANAAtABUACAD8/+r/3v/R/8v/0P/Q/83/z//I/8b/2f/q//H/7//3//X/+/8XAA8ACgAeACEAHgAuADwALQAhACoAMgAmAB0AFwANABYAEwABAP/////v/9n/6//+/+3/7//v/+X/9v/6/+//CAAjAA8ACQArADsAKQAVAB4AHgAAAPT/9//z/+n/6P/e/8//0P/S/9X/3f/m/93/2P/t//D/8P8AAAUABgAEAAEACwAEAPj/EQADAOL/BAAEAPL/DQAJAPv/CwAAAOf/BgAjAP3/BwAjAPj/8v8WANf/uf87AJ3/4P4RAFwAnP87AIEA7v9KAJ4ASwBzAKoAaACCANAAaABgAKcAFQAJAD4Au/+w/93/Z/9E/4v/Y/8d/2T/hP8p/3v/qP9r/8//7P+1/w8APwD3/yQAXAAPAAsAWQA/ACgARQAaAC4AawBNAEMAXgBfADoAAAAPAE8AGgDy/wQA6f/t/97/v//T/9r/pf+d/9r/sf9m/6T/2P+i/5//zP+2/5H/1v8MAPz/PABoAG4ApQC1AK8AvQDUAMMAvgD2AMUAeAClAG8ANAA0ALr/lf+E/yX/Rf9d/wr/Fv9d/0X/bv/Q/7P/vP81ADYANgCBAEcAUwCVADYAKABdAAwA/v8WAMz/5f8HAMn/3/8PAMr/xf8nAAEA6/81ABkACwBeAEcAEwBJAAwAyv8ZAA4Avv/m/yUAxf+h/w0A3P+u/+n/tf/L/wkA0P+9/7n/4v/C/+f+V//7/wD/dv+PAJL/yv8TAWEAjADQAToBHAEWAkMBEAFpAkIBTgCSAZIAMf8xANr/pP4x/wj/Hf55/s/+Wv40/iz/Y/8p/sT+LgCQ/8T/EQGEAEUAPQHNADUA3wC5ADIApwBtAAUAjgB+APz/QABWALv/2f89ANP/mv/t/7L/Vf+l/6P/U/98/6r/YP9H/5//pf+4/6z/Zv/G//T/3P8rAB0AJwBRACQAbACQAE4AXACBAGMAPwBDAPv/7/8hAMT/5f9JAL//6P+TAA8A//+cAGAANQCfAJEAPwCoAM4AUwB7AJoADwDG/wMA//+f/6v/m/9+/7H/R/9A/w8Axf8l/x4AkQCE////AAExAB8A6wBXAAgAVwAaACcA1P9j/6f/av9M/6n/sP/Z/+T/fP/H/z4AlP9K/93/b/8l/+H/dP8+/3gAZQDD/8EATgGyADsBMwIeAmkCYgMmA/YCUgRpBLUDsgT8BCMERwQaBFED8wIiAgsBewDX/5X+pf0Q/QT8fPs8+5/6xPpd+3z7cPtj/OX9D/7e/vIA/ACOASIEwwP8AkUFJwUUAzEENgR6AZ0BnAFa/4D/p//S/Xj9qP3v/PT8Df3z/K/9Cf74/Uv/JQCL/+wAZQLlAdECBARHA4kD/AR1BJsDegQrBP0CRAOFAnsB0AHwADwAWABi/9z+C/8j/hD9Xv3V/O/6zfqr+mf4BPjS+O32DPah99j2VfU29zD44fbW+C/7bPpf/DsAqADsAfAFUAfTB+gKZgw3C70L7QyLCxEK3Am9CIAGogVvBcIDMQMaBIADCAPKBLgF0gV6B20I4gdMCBoJDQdfBD8E7QC5+mD5f/Qb6VTmf+QX2oDYyNv31FbVUN9z303iUvBD9g/6zgcYEOcSTxxhIoAiFiYEKCUlBSNwIMgbPhdTEnQMQgdrAm79cvkj9kL0cfPl8WDz0PZd99P6DwBvAFoEvgt/DAgO4RMRE74QQhWkFRMQQBDSENMKwwiLCmYFjP54/kH5hujL4HXfb9Aux7bKDsHguRPG18nAyO7XMeW56nf5oQnmEM0ZSCXSKrItsjHfMkkwTy2CKh8ldh0BGEQSVwigADv8o/XM8HXvhux965Xv9vLI9Az6sf+cAicI3Q1GD6IRlhQJFCsTERJyDiILaQcSAij+DvvO9iv0TPXV9er0Jfhs/ZT/ygKICFkJGQj4CZUCEfWU8pPs29w92QnXJspnys3Sjc8H04LhkOe/7a/9UAidDdQY9CBIIjInZCxiK5IouibvIqQbGRUhERQK5//b+Dv1n/GH7tXtYO1c7BvwpPZY+W79UQT8B/UM8RNoFSMWiRqSGnwWiRRrEUMLwwbHA+n+PfpQ+R36Nvmf+bD85vzr/cr/HPQW5kLmud/J0n7UftA3w4zKJ9eZ1Gnb/e1b9e77qwznFVgYrCGSKMkmgyZ4KZUo7yNdIEYc+hT9DoYLgwW0/X345/Ur9JLz5PJw8ef0BPvg+yz+lwQDBlYHRg4GEEwNExHXE9kPrw42D8EL8gjfBksBFvwm+nz3fPSE9Yz4Sfgk+UgAPgM+AbAGPQWU83Tsd+1i3+/UqdYsz0LIzM/41ZXYNuQk8d73TAJPD8cWRh2mJIYnZyawJi8oRiW3H38b5hSqDfwJiQXV/0D7wPfr9Ubzf/KY9Vf0QPP1+W39wvxfAggIKAn3DWITHxKCEXAUmxPpEYURywxOB5EDd/7g+v73HPVo9qr39vf4+8/+kAA9BNz9hu2h5zLnANus0vXTHczkxr3ROdrF3ajpzvdSAPQIXxRBHV8icCe5KUMmaST4JdohyBhqEyIOHQUKAhsDCf1A9/H4Zvh09f/4ufwO+x/8BAB1AfsDpQifCugKXQ2GD9oPuhDuECQPYw3UCz8IqgNWAPL8+/n2+CH4ofic+5/9Kf/oAb4ERwXM+r/q+OUp4FjS/tAW0YrEfsXh0pfUfdv579j59/7XDr4ajB4CJmUrHSlhKLUpgCVFHqIYLxFKCI0E8QJU/bz4mPfa9fX06fZc+UH62frn/f0BUAS9BvAJ2wtgDvcRuRLhEboSYxNaEhcQ7AtJBw8EowAK/Tn6gvge+v/7+PpD/JP+qP7CAWb+OO315Jrlh9nq0irWXsl3xMrWPtom2aDu9vpG+0sMchoRGpAhjCqDJ9QkSiZLI90cOhenEQQKBQNBAWf/TPms9sz3Cfcv+KX7Tfxe/Cz/agL3A+oFzQm0C/MLXw+fEcQPERDYEaoPFgx7CrQHfgMkAaH9Mfgb9wP5V/ke+lP8jv7U/1oCrQT7+i/rQOac35HS0dH80O7Gccpt0yXTdN5F8gP6lwIyERQYlB2IJgoq7yh/JoMj4yF3HSUWfw96B9gB5P8q+8X3ivj09vv1CvlU+hv6qvzIAJkD4gV9CVIM3w3lEHITqRN2FMEU+BHHDnUMrglBB7QEIgAw/LD6dfnm+YP8k/2b/vgAAQHjADP+xPCp4/zfO9j6zrXP2MtLxBDNodhi3O3p7Pmg/14KkBh3HUkiHigDJxMlCCRAIFAcuBWnDJUHFQPg/C76l/jY9Uv2Efiv+PD6Ev3C/bkA9wQKBysJkgzrDtQQ7BJbE9QSKRMSEoYOqAuECCwDnP/k/fr5Mfe991/4ZPld+4b+bwLTAn0CVAOs+efpT+Nm2xbQ/8+jzMLCI8t+1lnV/+FJ9YD7RQgtGSYdtCKDK88rzylYJ+0jniHwGW4R6A3hBWX+cP+T/I72zvdu+fb4P/xe/6//9AECB84JbgkBDDYQdxHXExMVChHgDo4Pmw1PCqcGFAK+/Rn7ZfoE+Mr0gvWo9wv5yfyzAQwE0wQQBn8E3vqe7Cjj4NwS0yLNVM3xxzPGE9I/2i/hiPSuAqQH4hTjIRwl6SnKL1AsqyTAIaMeMBcbEGcKUQPx+6n4l/lB+KL1Ffhc+nv59vxxAn4DjAXdCqwMVg3zEVgUZRMpFQUWIBOSEaEQ/AxgCFQEwv9n+q72rfVI9c70ofbd+YL7U/8jBXcGewfYBVX2TOcq42vY+8sYzBHJJcF6x7DUntyf6p/9ugd+ELcebifoKggvTS4rKEMiAR6TGfISzwuqBTr/bfoS+WX5vvlv+dP5i/uA/egAQgVxB3AIdgpmDMMNzQ9qEeYQaRCrEPcOvgzyC/8J0gVEAXL9bfmQ9Wb1Vfc590b5vP2Y/0UDFAiGCF8HY/1Y6kzh2NpGzMHI7slgwVLEKNHg1nzkf/gfA+4O2RtcIWMo8iziKYwowiPYGlUYlRMYCgAG/gAV+kH5afk++cL7BP2e/tsBvwJ3BOYIzQoZC0gN5A3qC3wMVQ5+DHYKDAozB0MF7QYNBoECyABt/vf6A/sD/bn8e/x0//wBTgLWBFQHqAYgBMP47udY4AfYOcl0xhfHt7+cxdvUidtt6A39owgyEn8feydTKhErLymBJNEbMBQkEM8IrgFv//r5R/TE9rD5ZfoP/wYCtwDFAqIGKQjqCuENmA35DPMMPQzhDMcNjQxXC5gKRAmbCIoHVwSlAEv9DPrD+DD5fPi2+C38RP75/joDMwbZBGEEbv7B7qniiNuB0MnIjMhPx2PHrs+C22bmx/NFBKoRPxpIIygrBCxuKQMnnyBvF5oRbg2uBpoAzv0s+l72D/it/Iz+VP/2APwB6gIDBfUHuQp4DPANNw9eD8QPjRCFD1EOyQ1hCqwGPQZqBFwAEf4K/I/57/mG+xD8yf37/9YCbwaYBeADMwPr9unjadue0x/FgcFVxgDDvsKI0G/dNeYt+HIMMhYlHnwq5C9zLFIr1CjuHFQSTw/HCXoA5/vc+d70mvMg+oH+d/4ZAy8I+AYKCKQMeQwEC1MN7w3JCh0KoAy7DPYKJwtqCvkGdAXRBRwE4QBO/lj8Cfpo+ET5xfo5++b9aAIiBFoFhgfHBKP6Ceyi30DYUs7kxd/Id8jdwwrRB+B34//0QwtFEPMYRicjKPAmtCkoJbEcuRV+EKUMjwXR/7L/9vpD9sj8mgAq/38F5gjJBA0HvgvTCrAKzA0rDpkLegxnD9EOOQ49D5wM5AfhBcsE/QFe/1D9nvkA94r3PPhN+Vj8/f5cAAUDnATdAdf8+fIs5b3b9NMnzMXKgMvjy4rRtNl/40DxL/89DbEYwB2CI3Yn8yMMIxgh2hXjD4wOCAZUAdoAJ/vv+Lb60vrX/gwDMAT7Bx4IsgUqCqsLbwkLDSQNIglWCrQLCAyXDd4M+gr5B/YEzgUCBeIA9P5J/LH4ffnE+nn7AgA/AgcCEwUaBA0B4v6/8arigdvc0KbK8s03y6/KGdQ229Xl//YiBEgRehvxHV8krie+IaUiQCFoE8EMLQu3Af/8v/7P+ob3IvuL/uQA1QR2CCkKGgmuCPcK9ArFCS0LowqWB5kHTQoFC0gKPwuxCRkF3wSfBREDFQJQAVn9IPqB+in7SvsH/Sz+q/4J/+f8j/jo7+fjZdsz1enP0s/v0urVj9nn4AXtSvdSAjITEBy7HGEi3SPZHagcuhqgEiQNhwiwAi4AMv0g+5/9IP6v/2oGVAhfB48K1QmOBpsH0AYUBD0EmgTIBD0GHAhlCpILgQtTDOoLDwrsCbwIJQShANv+ePto+Qj6yPnp+ez7CP7m/aT6avbI7qniC9rP1c/RPdF51PHY1t4A533zzP+pCIUUDh54Hj0fxR8eGZkSHQ72BqoBqv/r/f790v6k/zIDUQZIB9UJggpxB4sGHQZVA0gCiwLyAaACUAVLCBsLsQ5kEcQQeg+zDk8LRQfXBMUAXfvJ94D1xPON82b1B/il+BD4Ifl7+CzzxO396NThH9yA2oPaJ9xq4JXnx++n9/UBRgzPEpkYNBwyG2AaWhjiEnYPYQvMBL4CHwJFAJ8CVQVIBUoH/AiuCP8JUAl6BqMF2gJZ/27/2f56/p4BcgOdBMEIzQqpCvsLvwp6B/EFhwPZANv/ov0J/IL9GP5V/ikAEf/A+u/1q+7D5l7hJ9xl2D3YithI29PisepA9NAAHgoUEu8aoh2THE0ccxcxELsLbgacAd0AaAC/AA0EtQYVCk8PDhEAEe0REg9dCgQIYgNv/ZD7+fmn9/D4MfuH/IT/TQKIAwoF+gWvBtMHhgajBLsEdwL+/hn/Vv5m+hD5EPld9T/yfvFP7THo7+aN5ffj1OXQ6ALtQ/PK91j9iQWpCbEMrRLSEzsRcxGOD/gKiQnqCE0HwgaHBiEHAgguCFoKxAytDTkQsBHLD1wOTwwICIEEuAGa/l38a/yk/VL9YwDxBxAIzATqBon8XeWN2n3SjsAjvNjDecOMyJTa8uoQ+vsMXiCoLr0y1TPfNccsTB45GFMO+f1a+JH3t/Hz8An1ZfeJ/AMEdQtaEz4XdBioGT0WpBD8DB8IwQIu/yT70/YL9Uj0S/Oe9M72gPgm/ML/cQGbAm0CfQE4AVYB+wHyAaoAAP9A/QL8yfqp+iz8LfxC/Lr9GP3M/JD+xP64/icAtQAJANL/ov8X/rz8Nvy/+mH5Fvmk+NL3HPhG+r77zvxXAHcC4wGqA7kFPAUkBlMIIAjYBlkGBAU6AzMCXgGDAaYB9wDWAXECjwGwAtED1AL3AlMDGQIVASgAKP67+4z5gvd59sz1SPQu9Jb0y/NT9Xn4RPog/YMBbgSxBVwHVQmtCQYKygujCx4K0QkoCfsHDQf3BeAEAgQ0BBcF4gQrBCAEZQMpApACDgOsAdUAcwAg/YX5vPij96v1Z/QM80TxBO+a7Wfute+F8Zf1kfl3/LQA+wQmCEILOA2BDesMtgvxCX0HigQFAmUAev/C/7sA0ACrAFUBOgJ8AwAFvAXUBcMEcgJgAIf9Jfp5+KX2O/Q78zny1fH080b2q/j7/G4BJAU0CXcMjQ1cDdAMsQuVCeoGEAV/A8UA0f7J/pX+2f7YABoC/QEiAvkBUAHjACUAhv+M/7b+Iv2m+2z5KvfB9Z70Y/Rc9RH3lvnY+7z9pgCcA50F8wdVCqsKwAlrCQYIYgVqA2QBRf/4/SX9t/x8/M38Jv5+/5kAEwI6A60DvAMiA3ABZv8g/gf9Qfxi/En8e/yD/Tn++/51AC8ChwN0BDsFIwXXA3wCDgH//k/9VPxd+2z64PmR+Rb5Gfkk+sn7Cv7lAI4DXgWUBkoHfgd4BzEHIQbiA20BGP97/JL6YPk/+H/3W/fl9+L4IvrG+6X95P92AroEGgdFCe4J1gmDCaQIYAcJBuIE2wJpACL/xP35+wX7a/rf+en5ffpr+3n88f2Q/y8AhgAzAY4B5wEtAsEB2ADn/zv/1P5t/jP+Pf4z/nf+B/9k//j/ZgBrAM0ATQF6AdUBWwJJAtsBqwFoAfEAfgDq/zb/av6d/Y/9Cv41/pP+Yf8UAN0AzQE4Ai0CfgLkApoCHgK4ATIB0ABsAPz/w/+Y/7f/KABtAGoAGgDE/37/Cv+S/uH91Pzw+5L7Z/tJ+577ZPw0/e39vv6z/54AlQGkAgkDlAJXAmoC+AFBAeEAgAD5/9P/2f95/xP/5/7G/qj+qv4T/1z/Q/9N/0f/Jf9E/7L/RQCqAOwAGAEqAZUBIAJYAlECYwKpAokCPAL5AUoBoQAiAJL/Zf9i/x//vv49/tv96/0//pr+KP+f/9v/UgCyANMAAQHmAHkAPAAAAJf/Z/9i/1v/cv+u/9//GgCOAMoA0gADAe8AxADJAKQAcQATAGz/oP4A/sn9pv2h/ef9GP5b/hj/+/+YAMUA1gAfAVABNQFAAXABWwGBAckBtQG7AQQCGwK+AVgB3wAbAI//Ov/g/mL+x/2K/X/9fv3M/Sr+W/6j/h3/c//B/wQA9v/7/yIAAADa/yEAnADFALUA9wBeAcIBPgJPAtgBTAEJAaEA4f+E/yP/Zf73/fj9FP5E/sn+Ov8b/wj/W/9+/4H/1P/8/+L/BABSAI4AogDjAD4BbgG+AfkB+AH/AfMBowE6Ab0APwAQANX/Of+Y/kT+FP4I/j3+cP5e/mz+4P7d/sH+Kv9B/xL/Lf+N/6v/m/8LAJIA7QBUAaMB/AE2Ak8CTQLwAX4BWQE6Aa0ANADr/07/r/5e/hP+2P3a/eb9Dv5a/q3+7v5Z/8z/+f9zAAABOgGKAdUBAAIUAgEC6wHSAZQBMQHgAJwAEACu/6D/QP/6/i7/Ev/N/gD/V/9v/4z/2v8AAAkA7//I/77/p/+f/3T/Kv8J/x7/P/9K/4v/6v8wAJcAFwFoAX0BjAGrAY8BHgGrAFMA+f+a/x7/nf4X/pT9iv2x/dD9D/5T/sH+Uf/3/50A6wArAcQBMQJFAjYCEQLPAWEBIwEBAasAXwACAIr/M//q/sX+xv7r/hn/SP+O/5b/vP/4/8b/jP98/2f/P/8e//f+sf6i/tn+Bv9b/9T/KwCJAOMAHgF7AdcB+AEQAuEBbAEOAbUAWQAfAN7/Xf8U//f+l/5W/mH+T/5L/qf+D/9V/7n/NgCEANUAQQGgAQsCSAJFAh8CqgEiAckAVgDU/33/Kf/D/pP+s/7q/iH/UP92/8j/KgBcAIkAmABZABQA6P+i/0H//f7Z/sL+y/4M/2j/x/9nAPcAPwGGAbIBwgGxAYIBSwHmADwAif8f/8z+bP4a/uj9+/01/nT+sv4H/4P/1v8LAFIAeACnAOkABQEZATYBSQFcAXwBeAFBAeUAigBuAFcAAQDE/6v/U/8a/zT/OP9e/7////8NAAgAEQAMAP3/5/+g/1H/BP/X/uj+AP8N/z//h//H/0cA6ABeAZcBtwHvAekBwwGVAUEByQAnAKf/L//S/rL+c/4d/vf9Ef49/mX+pf7//lD/gf/M/xMAOwCLAM4A7gAeAUUBSAFDATgBBwG6AGYANQAWAPP/5P/N/7r/xf/X/+j/GQBOAFEAVwBOAAIAxf+o/37/Pf/0/qT+Vv52/sv+7P4w/7D/KgCbAP8AMQFxAbQByQHLAYsBRQEXAboARADb/3X/D/8H/yT/Bv/4/u7+6P4p/5L/2f8IADoAYQCVAMwA3wDRAMQAsgCFAGAAJQDu/+T/1/+7/5b/hf+g/+H//P/y/w8AKQBNAHoAewAzANf/pv9i/yf//v7D/rP+0P73/ib/Zf+l//L/WwC7ABQBcwG/AcABjwFzAToB5QCKABoAq/9C/+/+uv6X/nH+b/6K/pX+wv4R/2D/sP8DAEMAdgCvANMA7wDtANUA4ADqAMUAmwCUAIYAaABXAEsAKAAkACgAAAD7/xsAGgD9/+T/vP+p/6//jf9S/x//EP8r/z//MP8t/1D/bv+j/9z/6f8SAGYAoQC1ALEAvQDEAKQArACwAHYATAAxABUA7v+t/4f/cP9V/2f/cf9b/3T/pf/M/+X//v8kADYAVwCMAKcArACUAHcAewCCAF4AFwD1/w0ACAD3//P/zv/F/9z/2P++/7H/1/8MACAAHgAgAA0AAQAnACwABwDt/+b/8f/y//P///8EABEAGwAkADoASwBaAG8AdgBWACkACQDm/8T/p/9y/yv/CP8J/yj/P/86/1T/fP+n/+n/GgAvADgATQCDAKwAugDSANEAlwBsAGkAZgBiAFcAQgAaAPb/zP+4/7T/l/+U/5D/hf+i/9j/9P/j/9X/0v/L/8v/1//R/7j/uP++/8//2//c//r/HQA0AFQAfwCeAMsAxQCNAHgAVwAiAAUA3v+a/2z/UP8s/x//Ov9Q/1b/av+a/9z/DQApAE8AcAB9AJcAmACBAHcAbQBlAE0ANQAbAO//4v/G/5r/s//F/87/3v/g/+z/8P///xgAHgAXACEAHgAVAA0A/P/g/9H/8//y/8n/xf/i/xYATQBiAHIAoQC5AK0AqAClAJMAcABfADgABADs/8H/jP9y/3n/a/9T/2z/oP+//8r/3//3/wMACwAXABoACgABABwANwBrAJYAfgBPACUAHwADANX/7v8FAPD/3v+v/5n/nf+B/6j/4v/c/93/IgArANX/sv+Z/3//l/++/wAAHwAGAAoAOAAhAPz/OABNAD8AXQCGAIMAWABFACQA9/+w/2H/c/9f/0D/sP/6/yIArQABAe0AtgAnAHf/+v6O/j/+Rv6O/h//CgC3ACIBqAHkAbMBUAHVAGEAEwCj/0P/Rf8i/xT/cP+n//P/pAAEARABNwElAZYA2P8S/1v+FP4F/j3+1/5Y/wUA+QBcAXQBrAEwAaEAZwDf/5X/cv8E/wf/hv+P/7b/hQABATkBjQGQATcBngAOAMD/Lf99/nn+vv7N/iz/4f9cAK4AHgF2AWwBGgHMAKgAVwC9/2f/af82///+UP/A//j/MwByAHQAHQCK/wL/5/7y/vn+ev8pAJsA+wBFAWgBTgHiAM0AswDd/y7/tv4k/hj+gv6//ln/jwAgAR0BbQE0AT0A8P8IAAAAYwCaAIIA+QB/ANP+v/4s/1b+lP4DAEcARf97/QP8nPqH9evyWPumA1wGhxAOHGMaqRPiDOIAWPOK54fhReZ37ODwIf0wCUgLKg1sEKoOMwyZCi0JWwmHBJ77gPdJ8uHoZeby6mfwEPkyBKcOvxYEGEEUshCSCfT+7fhh9mLzJvNn9Xz3pfnU+pj8WAEGBSEHyAtaD0IOcAsXB2UAmfnX84zw/fAG84L2ovw3AmkF0Qe4COcHAQd2BZsDtwIvAcr+Gf0N+6b48/fZ+Mr6B/7cAUUF5wfFCIAHhAWwAi3/1Pyk+3n7PvzM/HD9m/7i/lH+8/6cAAcCPQNeBPkEHwQQApj/Dv1N+8H6iPu3/TEA0QEmA9MDjwKXACv/4/1O/f398/7P/3oAlwDHAOYAZQAOAE4ARgDq/9f/3v9j/5D+gf6//kb+D/5z/sH+Rf/Y/zwA6QDxAGcA2ACtAbUBRAEhAUYB5wD2/z3/1/5+/vn9J/0J/EL6o/hH+HH5Qf1iAxsKIREMFlcWsRN3DRADmvka86buRe7q8Jv0XvpM/0EBdwM9BYsEFQReBMYDKQNTAl4ARP5n/Jz6eflx+Yj6j/yw/1UD2gVIBwUI8QbCBPsC6QC3/q/9Lv24/AT9aP07/W794v0D/tj+MAAnAeoCTQVwBs0GfgZEBA4Btv0N+jz3rvVd9RD3K/rN/ZUBtQQ7B+QI0wj2B2gHiQYRBLwAgf5I/FL5AfhU+Jz5qvwAACMDvgZzCAUIrQd7BgYE3AGt/7D9i/zz+rH5qPqb/DL+9v9FAq8DMQPfAngDigPUAef86Pgw9wXupuRm7Cb4P/05DMYf3iTTIA0Z3gvr/OzsQOPp5mvsffCY+6wFTwcfCE8J2geUBQACUv+t/y79Fvif9pn2NPUP9rH6yP5uAOcDYwjcCLIHXwezBeEC4f/2/dH9ivzZ+4X/ywJYAywFogYqBgEG9QSjA4sDeAHB/qD+gP3d+h768/nq+X37mf2EAEoDJAMPA30EjgLo/tv+Jf///M/8fv7L/Yj88/xB/dj9A/+l/88AdQF7AJIAqQAO/y3/ygDkAA8BbgIpA6kCtAHfAHUAPwDv/0gAoAHqATYBbwKSA4YBewAxAvoCbQQyB4UHagfvB18FvAHk/2P+bf1u/UL96Py2/DH7sPh2+pj/qQJ2CZwSQxHmDIkHdu1MzpDC07XIqk6/y9+Q+GkYOTQjP8dDkzyGK2wfJQ5k+K3vxOmK30/fPOe/8Dj/OQ7yG6AqQDF1LmkrKiPPEGcAk/ca71/oK+pd8O71TP57BxUMHw/GEGMOigyYCzAL0g4WDr8IbgeO9GLM/LUTqfGO4ZFPuYXYYfoyKQJEiU/wU0FBci1UIREEiusW6d7cTMya0YHcduQw948PByUmN7JA8UFLPeIsRxVIAmLu7Na6ybbE8sH7z3HrTAMNH4U7vkVyRe0/UyvmE58CQe7h32Hf2t8x5Ez1OgX8DtEc9SboJU4iARp2Cv75Pt/Du1emp5ePhgaQ/rN+04X12yGoQSRQFlMnSAM4kSJBA/jsU+K90QHHAs8p2n3kZ/ghEpco9TlKRtlJO0EaMLcXF/iy3vjRJMksy73eifMPBa0ZGCgcLQYuVSjZH04X2Ahr++z0r+2J6fnvbvqKBdsRoBo1IdcmuCNxGssSYwFh35C9PqNriwGAj4pbpuvNv/d+G4Y7EE+KTINE0j1/KpoRNf9D7OTYZMqrwbHGtNd36oIFaiiTQCpMl1GNSRM0lxhq+Hjdts8ox1DH7tfz6i36dg4HIEsneSvIK38mNh+XEeABj/ol83jpZezy9yoBdA0WG3UiLifHJ0IfWhMoBIDpHMherB2XRYYBhK+Xe7e728QEiCkdQtNPA1D+RW06dCe/DaD7++uj1/XLJcwH0fjd3PLAC9cnKz5/SUdO60jeNSUb6v6G52TXDM0oz9DcyOnv99sJrhaaIJAqkC3+LK0pzxs7DHgBhPMh6nXurfX6/OAILBIZFzAbHBo9FT4QPQIP58DI2qxqk1WEFIhHnCq7AOHUBuEmxD55Sb1IG0XbOqcmJRSJA/HrG9dCzPbDHMRI1UHvtg0CLylHfVLyUiBCdSb/DzT8N+g33wDfqNzC3E3kKe4a+r4JnRmvJ1swqi5AJmMcNg+GAXb7n/sZ/Oz9bAKMBtMJdg0gENUQwA0oAlXsTtH/tkegoJGFkv6j070N2//6uxdBK+k2rD3wPxc89TDHIgsUjwAe61TdMtfE1GvaCurY/PUN2R1dK14yOjIdLiUnYRwxD54CXvjy72vomuQW55Xs/PJ2/aULMhcCHRIgJCITID8ZdBPzEJcNdgiLBOED/AW/BkMFcwXQACXtEdO+vCOlI5EqjyudA7PtzvXrwgeHIQ8wXDYPQXhGdTz8MOQm7xHY+ELmPdhc0YTT6Nvh7e0ExRTvIGYseyx1JO0eDhgiD5wJagTa/kf7bfWk8MLzsPgZ/bMGShD6Eo8SjBHwD0cPjw76DkYSFBNmD48Nvw4tD8YOHA4pCu/88uOYxsGsopa3iBiMV54BtsnPKOt+BTQbeSofN0ZDEkjUQjc5gitfF2EBIe8446reRt8K5DDumPlJAV0IghITHH4hYiUUKVMoKiFSFoQKCwBf9wHw/O0C8k30N/Vi+7IBZwT/CjUUMBk6Hf0fwhziF6YS8wp5B4MIywVlAdH7eOt20hy6yKN0lNKSpZuirNbEntuo7skCaRXNJEE0w0FLSWlJo0BTMf4ffg3k/GrzE/BF7x/xdvWS+eL7vv2zAXIHwQwnEu0X6xv3HIAafBXxEFoM7AaHBC4FzwTAAygCEf+n/RH+l/5uA4YL2w8zEhUV4hSeEx4UXBOPEAoJNPdQ3mbDI6erkZWLIpLLoTi4B8/440v3rQaCFeEnuDhtQ2hI70UjO1kriBqkDOMD0P6J+3T5ePdM9Onvie3E8Nj3zP/tCPgRlBevGVoZ+hbeFDQTMxCyDcoMHwoQBooD2AB2/uT+hgAyA80H9gqKC54MxQ0ZDm8PVRFkEY4MWv+F6jjSFLnfo3iZV5t+pqO2KMct1+/mCfX0AwsXzSv0PAdHDEmEQ3E3yiexGRMQFApQBVMAy/vo9+jzN/F08gT3SPxtAR8GywlwDFkNEA3KDe8OlA7rDUkOEQ6gDOoKzAjKBqgFvASUBGEGPgiyCNoIeQixB3IHiQdlB3sEz/qB6q/WMMFsrqmj26GvqAa2jcTe0l7i8/AH/24PRyALL4Y63j+JPhI5QTCVJd0c0RbQES0NOQjWAtX92PhY9HnyJPNF9Vv4n/uQ/24EEwhxCuENlxGNE6MUiBW5FQYVXRKnDgwNiQyyClMJhwn0CN8G7gR8BIIF7gX7A93+WfTI4lHNS7knqg+iv6ERqXG2YMVV05nh9PCSAPgPLB98Lao4YT7MPhE7ADRGK50iiBuHFqsRLgs7BMf9mvcv81bx6vFQ9fr4hPrn+wf+if9YAe0E0AlAD8oTchYaGKYYNRcpFVcU/RPJEjoQegyTCBQFNwLWAFoBPALCAMv6b+8o3xLMg7lFq3qkS6XAq2e2wsKIzqza7uiU+VcMvh+vMFM9YEShRBVAhTmbMfIp4SPXHYcWCQ4/BHz6K/NZ72Hv9fIn+GL8kv4u//3+Qv9VAbIFZQsqEcoV7xfWF3cWkhRIE/4SNxNeE0YSPQ84C0QHJQSvAkwCgwFl/s/1F+fA1BzBaq8ZpIag+qN/rXq5C8W+0CTdr+rq+skN9CBKMnw/20bZSAdGTD8kN6QvhyjcIKgYtg/TBZX7QPLP68Dpk+ud70v0sffQ+IH4PPjD+Zf+eQY9D9MWzxtOHeMbUxmSF3gXjBh9GdkYwhVJEJAJwAMhABD+0Ps09r3qA9qExpWzhaVNn/igJqm5tGrAHsy22E7mT/bzCOIbsy2lPDJGnEouS5xHKkF+Oi0zgSpZIQcXcgv8/+v0N+s35TPjC+Qm5wPrLu778M3z9Pbg+woDiAtnFP8bBiGcI90jMyIBIPod2xsNGX4VUBG+DBkIdQNu/xj75fOR6OvZV8mKuJmqYqIQodylXq5UuIvDRNBa3jzu/f+tEjIkWDLxOzpBJEN+Qug/+jv6NoswfSi2HuoTUgml/5r3D/J07+ruPO+p7/vvsfAK8jf0Efj8/fwE4QvJEVQWlxm7Gy8dDx58HhIe1RveFwIT6g11CXsGcwQZAkr9hPOK5CnS5r49rsGjdKCKo/Gqo7N/vFbG+9GI4Arz2AczHPktwDqyQbVENEVYQ9RAPj4sOuMz3Sr4HuMRdgXk+U/wZOpt5/LlcOWH5UPmU+ic60DwSffB/8kHBA9KFYka5h5oIkMlkidiKG0mvCERG8UTYA0/CAoEZAB0+2rysuS+063BsbGxpo2hTqLQp+auLbb0vgXKGdga6gX/oBS0KFA4FkKJR3tJUUjMRZ9CLj5bOGswjyXtGAMMpP859T7ub+q66Dbowedx50XoVOoj7qT04fwNBSEMwBEVFqMZuxxSH8Eh1SNHJEEiER6nGMkS0wwHB1IB6foV8mXlcNWQxEW1v6kGpFKkO6nLsCW5NsL0zNDZCemv+m4Nhx9xL7Y7GEQfSSFLT0plR8hCczyCNJ0qoR6gESQFy/li8OLp6+Ww473iqOK446zmjesa8hr6TAJzCagPzBTHGHIczh8mIpkj2SPuIVgeNxpuFTMQ/ApnBOH6s+2s3HDJTLcUqa+g456wojSqGLNnvL/GC9P44SjzaQUMF38mfzLIOnlAgETGRlFHkUY5RFY/LzcYLCAfIhH7Aur1UOub41Te79o+2aDZGdy54NPnLvGs+wwGrQ+8F8cduCG2I4Ek8CQeJWkk4yI0IL0b4xX9DjQHBf919cnoWNl6yJ+3GanSn0CdAaGDqUW0GMBwzUncEuz9/GoOPB4nK6s0yzp/PmBAt0ABQH8+iTsnNqouoiV4G6AQ0AVJ/K30n+5k6fLkmuHj3zjgs+LD5yDv0vc2AZcK9RKvGaAeuSFEI7QjICODIf0elxsXF4QRPgufBBz9UfNe5nzWTsU+taeocqG8oOWlo675uHPEdtEa4EjwXgFqEi8iQC/LOOM+T0INQ1ZBEj6XOdAzryx9JFob0hF3CGT/lPek8SztwelN5wLmJ+ZI6C7sUvHI9wj/VAZuDRoUyBlGHoEhSCMYJOwjJiLOHgMa5RPqDHYFsf3a9IPpDtuoylq6O6wGo1Cgn6OEq8G1xcDezJ/ayuk3+q4LqhxtKyc3Sj/bQ4tFmkQ3QW885TYuMFEorB8NFo8LIQGX96vvOuo15+jlP+YA6KzqUu7O8gf4SP5mBccM7hOEGrsfwCKjIxgjwyGcH30cnBhQFLcPdQpIBOb8cfPP5t3Wo8WvtTqpRaI7of2kDqwgtc2//swL3Qbv+wGrFDYlFTIHO1ZApkLkQllB9j0KOaoyyCqiIZAXPA1qAzL7HPXi8DXuguxv6znrL+xd7gTyGPcl/dYDgwqQEK0V2xkHHQEfACDkH6QenByeGZQVGxGxDBcIrQIc+7DvYuC5zr+8Vq14o16gNaNequ6zj76LymbY5+dA+RcMQh5/Lcs4nT9JQt1BBD+tOis2mTH1K4YkWhvlEN0Fpvup83juz+sX66DrB+0078jxr/Sc+KX9HgPQCOQO8RQOGp4dMx8oH0YeXxw5GXMVvRHrDRUKsAZCA1r+Tvbe6eTZ4sjpuGus6KXkpQKrQLPkvMPHb9Ss4izy+QKgFFIlKzP3PE1CqkO+QVE9tjf8MdArcSSwGw8SBwhn/qT2ZvGl7tXtDe7x7qrwIPP99Zb5Zv4WBBYKGBDSFakaBh6LHygf0B3UG8UY+BQHEVMNugn3BZkBwftW81LnJNizx3u4saz5pVKlHKrjsha+R8r+1hPkafFE/wYOEB34Kow2oD5vQhBCGT7sNzYxqCpqJFke4BdGEGEHT/5Q9g7wS+wx63PsyO/U83X3RvuT//EDegh6DbISlhezG2wesR+xH+YdgBqgFroSeQ5ZCqcGewKV/J/zAefl1wDIprhUrH6ljqSMqIOwaLv7x2DV0+J98P7+0Q0OHLgo/zJ6Om8+2D7aPH05NTU5MKQqSiQVHZUU1Ar4ANr38e/u6Y3mBeYd6BXs2/CN9k79/gM5CmcQXxZeGzwfrSGYIk8i6B+GG7IW0BHVDEIIbQSwAJz7fvO7513Zk8m7uWWsTaRAonyljq1JuQPHUtUU44jwVf57DFQaiCeJM548oUGbQhNAyTqvM8MrACQEHXsW6Q/ECd8D0v3z9xnzEPDE7iPvHfEJ9IP3vvtuAGsF2QpZEI0VPhr2Hdkf8B9KHp0alhUqENwKNwarAov/0Pt79l/uPOMS1urHGLofrxWpXajZrNG1v8FZz2DdyOp+9/cDORDwG/MmxDAcODc8mz0zPBw4bTKnK4wk4x0eF/wP4QjAAaz6+vOQ7v/qdOkh6s3s7/BJ9lj8RAIRCN0N6BIOF+Ea/B0ZIPUg6B/6HL4YhRPWDYsInQNW/hH4IPDI5SDZZcuhvdGxRaowp6eoIq+WuWXGnNQd4znxFf/sC1oXDyK3K7wzsTl6Pd4+dD16OVwzrCtZIxsbZBPZDG8HmQIK/t35C/ae8jbwTO/6703yQ/aL+2QBNQdsDM8QuBTIF8cZUhsvHJAbUhm7FeMQXgvLBTwAs/pq9GXsnOK91y/Mq8BWt6Sx0a8csme4qcHdzGHZEeas8lX/cgvMFlchmiozMgs4FzwEPqM9BjsLNg4v0yYZHqEVwQ1/BhcAxfpd9mjy8+6w7NbrWuyM7p3yVPjK/j8FRguxEEEVgRidGgkcbhxZGw0ZvhV2EW8MvgZlAIf5pfGA6GXevtMEyUG/0Ldus9iyTrYuvZnGh9Hi3PPnqfI1/WAHBxFCGusiwipmMWM2Zjk9Ovs4ozV9MDoqViM4HEUVyg4DCf8DlP9d+0b3Y/PR71rtXuz97Kfv8PMD+Sn+0QJ8BikJCgveCyUMVwxCDOILMAvoCSkIHAZGA4//DvuT9TTvFujG4BbanNTN0O/OQM9w0QrV0tk43zvlvOtX8iz5DgCrBh8NcRMjGcodhSE0JIAlnSV3JDwimB+aHKEZRBdWFVITCxF4DjgLPAcFAwX/vPux+dr4+fjl+f/6zPuE/Df93P2x/sT/GAG8AhsE5ASRBfkFwgUzBSIEHQI7/1n7RPZ48M7qjOXM4FLdKNvq2cjZ3trQ3HffyeJk5jbqSe6K8kz30/y7AucIYQ+lFSwbqB/OIrQkkyViJY8kkiNPInUgAR7cGrcWzhFpDBAHTwKK/gn8c/qV+SH5yfih+IP4ZPiL+Cj5KfqD+/v8d/5SAE0CBwRxBWQGegZlBTED2v/G+yz38/GY7J3nP+Oe3wbdgtv+2rfbTd1x31DileUx6XbtcPIQ+Cn+QAT2CTIPahN8FtsYihp3GzIcEx3fHcAeYB9aH/Ae0R3LG1sZtBb4E24RAw9cDKcJHgdlBKIBK//t/On6cfmL+C34q/it+fv6v/x9/tH/tgCyAIH/e/12+mr28PE27XvoRuR54C3d9tq62QjZRdmR2m/cC99a4kfmAutp8E32XfxaAhEITg3OEXMVhRg3G40deR8GIUEiKCOHIyUjSSIDITwfTx1MG+8YRhZiEwAQIAwbCCMENwBx/CX5jfbK9CT0ifSt9WH3a/mc+4z9C/8OADAAj/8I/oL7XPiF9AXwVuvK5nnis97L2/7ZJdlO2Zrak9w032/iFOZB6tvuyfMG+XD++wNsCWoO+RIZF6Aajh3uH24hOSKvIqQiKyJcITcguh4CHSobAhl1FpgTXBDNDBsJOgV7AR/+N/sD+XD3yvbS9in3LviP+Rr75vyF/r7/ewB9AID/Tv34+aL1ivAp6+vlM+Fh3dDay9kA2kDbed0Y4NPiqeWa6Jjr2O6V8q72NvspACsFLwoGD2cTfRcWG9cdzx9AIVAi4SIAI8kiLyJAIdYf1x1oG5EYfBUuEpoOOQs9CD8FQwKo/079BPsv+Qr4afeI91P4n/ln+y/9yv4JAHkA4v81/mj7nfcZ8xru7+gq5FTgkN0Z3MzbS9yU3XDfjOHr433mBenr6z/vxfLI9jT72f/TBMMJXw7TErEW9BnFHOYedSCQIR8iISKLIVMgtR6WHO8ZJhd+FOARWg8PDckKYQjKBTsDqgAf/uL7J/o1+eP4LvkV+kv7mvza/eL+gv+A/5r+vfzF+dL1XPGX7NLnvOOk4GveSN063SLewN+U4aHj8eVV6M/qf+2U8Pfzrff5+6QAbgVCCvUOJBOiFswZhByJHv0f3yA+If0gCyC3Hg0dCxvvGAkXNhUqEzkRgA+HDRELeggSBp4D+ACo/sj8D/vQ+Sb51fjF+CP52vle+nj6PfqG+f33g/WI8ijvROtw5wbkQuFX33Te0t4W4OfhW+Qn54bplOu+7RHwZ/ID9Xv4iPzKAF8FFQpdDiUSnBWDGKoaJRxKHSkegB5MHtwdKh0MHLMaGRlUF5QV4RMnEkIQRA5ODF0KUgj5BYYD+gAf/pH7gfnG96H2LfZH9sv2jPdJ+L74sPjb9yf2zPPB8Ebtpuks5kXjQeFM4G7ghOE240jlgue96cfr6u0w8JHyc/Wz+Dn8FgBIBG0IOQy/D9ISUBVFF5sYlRlcGtEaCxsIG8MaMho6GQEYoBYoFbUTVhL3EHIP1g34C6QJEQdXBGoBsf5Z/Ff6zfjR92n3N/c293334fcQ+Nz3MPfd9Rf04PEb7wfsCelP5v7jW+KX4dLhy+JM5GDm3eh26+7tc/AK82f16ffK+sH9xADdAxsHagp/DVUQ5hIAFb0WURicGZsaXxvNG8YbdRvyGgca0BhpF+wVUhSEEosQWQ4RDIcJsgb+A1EBrf5h/Gz63fjX91j3VPdz95H3uve493P33fbr9XX0Y/Lw7zHtb+rk56/lPOSY48jj0eR05o3ot+rJ7Obu4/Ct8ob00/aN+X38yP9XA9sGLwo/DekPLBIWFLsVIhdeGH4ZShq4Gq0aERrkGDUXOhUGE78QnQ7gDIYLOgraCIwHHQZrBJ8CpgCi/sP8CPt3+TP4Tvfp9vj2OPdx92r3Jfds9vT0vPIS8DntY+rw5/TlvuSS5DLlneaD6G7qVewr7rbvBvF58jD0XfYd+Tf8rv+EA0UHrAq/DWAQmhJgFMAV/BYAGLMYKhl4GUwZqRjrF/sW4RWxFGsTSRIrEewPwg5xDdcL+gnfB4YF2gItALX9XftN+cT32fZY9jL2hfb09j33XPcp93D28PTb8lfwa+2C6u3n3uWH5P7jZOR55fjm5+jl6qjsRO7z77HxZvN59S74ZPvf/ocCSAboCTQNAhA/Eg4UahVbFj8X9xdFGGsYZhgfGLMXABc4FoAVshSyE4oSUhHsDy4O6gtUCaUGrwO/ADb+8vsb+tf4+feR94n3pPcG+KX4Avnd+FD4Mfc29YXyeu9D7CbpeOah5KnjaeMV5H7lNefn6IDqJOy87U3vGfFM8wj2Rvnx/PAA0QRrCNYL5Q58EZcTYhUGF3QYlxloGt8aAxvmGncakRl4GEsX8RV+FOcSNBFUD04NDQujCCQGeAMAAcT+vvz++nD5Vvi691L3L/dv98P3+fcM+Nz3/vZQ9ffyL/AF7cbp9uas5DzjyOIp40Hk2+W857npoetQ7c3uYPAm8vLzI/bR+Nv7PP+rAh8GjwncDAEQ2BJGFVIXARlMGhobfRtYG9saVxqQGXkYUhdIFiMVwhM7EoYQnw6XDGQKGgjLBXYDYwGb//P9a/wS+yL6gfkL+e/4+fjb+Kz4Wvh89/D11/My8Rjuuep758HkuuKt4b3hrOI75CbmPOhs6jnsou0o79bwe/J79Cf3Qvqv/WYBQAXdCCQMPg8NEjgUzRU4F2YYJhmKGa0ZoBlXGeQYWhiYF8QW5RXdFKcTJhKKEOEODg39CrYIZwb7A20B6P5z/Ab68fd/9ob1+vQA9XT1+vVH9kX2s/Vh9GHyxe/c7OrpIefq5JTjI+Nx43rkPuZd6GrqYOww7qnvGPGQ8ujzkfW/9136cP3WAHAELwj0C38PqxKKFQsYGBq6G7YcGx0uHd0cNhw9G+oZnxiMF1oWEBXeE6MSSBGoD4oNDAtRCEkFMQIo/z38vfn49932K/YA9m32MfcI+Kf48fi5+MX3K/bZ8//w3O2d6tznz+VI5H/jxuPe5G7mSehH6iLsv+0/76bw/PFY8xH1RPfh+eT8NADkA8sHmwsqD0oS8xQ9FyMZYxrgGhAbAhuDGs8Z7Bj6Fw0XNRZqFW0URRMGEr8QIg8MDbgKOwiiBeICDgBj/RT7NPnX9+j2efau9jb3BvjM+Bv56/ge+HT25vPK8GPtAer75qXkNuPX4kfjaeQm5ubnjOkB60Psa+2D7r/vOPE188X19fij/LMATwUNCqcOFxMNFzYajBwNHogeDR6iHBYbCRrfGDAYShiuGIoZOxogGnYZCRjCFa0S8w7ZCqYGugIP/9L7Qvkm95z18PTT9Dn1Zvb895T52PpA+5/6s/gO9f/vEup24/HcdNdN08HQMtCA0WHUPtjP3PrhOedj7KDxFPem/EACLgh1DrwUsxpJIF8lkinELPguDjDNLxguBiuxJvUgMxoQE74LbgSE/Xb3oPIT77Hsfeuh69Xs/u4n8uT1Evq5/ngDBQg3DNUP4hJaFQMX+xeNGFMYMxcFFTMRwwt2BDT7cPCU5HbYL83UwxK9M7mruJK7DsF0yGbRKNsP5cfuQPh6AYAKTRPnGwIkNitfMTE2IDkjOog5HzcaM9otRCe5H5IXrg5iBQ388fKm6pHjKt7/2j7a5tv43xLmge0f9lv/PAiPEPQX4x2VItQlZifrJ10nZiU9IukdJBi5EG4HHfwK73Pg4tCEwWqz1KcPoM2cip6PpUCxosCj0grmqfkUDMMcOCuiNns/mEWaSCxJSEfMQiQ8izOoKS4fRhR3CWH/YfaK7trnVOL63UfbMtq22h/dr+Gj6Hnx2/tEB7oSvR1XJ5sufjN9NXY0JTG2K6Qk6BwKFaIN3AZlAEn6YPSw7dPlLt080/XH2Lzhsier+6Ydp5msVrdExrzYRe3tAWEVRSZoM2U8HUEhQjRAijvqNDwtwCToG+kSNAp8Alz7QfXt8NjtDuyj60Ps8+0t8L7yNvYj+lb+WAPMCFwOxxOSGH4cBB+KH3we/hvGF50SJg3sB6QDhADP/qH+Tv8JAHAAK/8U+0/0repA3knQOMIbttKt9antq1209sHd04boo/21Eeoi7C/rOEg9GT0qOsE0fC3TJcQd/hX3Dl8IWgNN/4r7hPlq+Hf3Kffh9sz27vYd90r4JPpv/DoAUQW6CjYQWxWiGcYc2x3RHFwaOxYiEfgL0gaNAqX/av5B/9QATALHA7ADVABd+SHvl+FW0RjBE7PEqNajv6WYr+C/ZtQ97LEE5hpDLTU6bkH8Ql4/sTgbMDEmqBw5FCYNpgcGA6L/Yv0S+zP5J/gn90n2xvW+9av28/fY+ZT9HgLIBn0MUxI2Fx8bbB0/Hlsd9RmVFdcQBwuNBSsB1/0Z/Kn7Av38/3gCdgSmBfcC6fvM8QzkCtMwwaaxGKfroaSjta79wILXIfHpCtohqjPgPm1ECESxPfo0lysiIUUXbw/XCe8FXAIdAO3/Kv/v/bz96Pxd+5/5Nvdc9VnzdvGr8q/1y/mwAA0J8REHGr0fTCTOJXkiLR1dFqENkgRS/N/2P/RP8wL20/ugAQwHzgugDZ8JsP+H8jrhbcvotkWn4pzKmeyfzK+Qxqngef1EGRYvRT46RixHCUL9Npgqyx+QFB4LzgXJAiUBSQDaAHAChgEfAMwAt/8P/af7dvqC+eL4H/ku/DoAlASCCzQTcBk5HiohXyIeILQZvxJjCzECW/qF9fXyIPMc9lr86wRmDIsSqBdQF78PawMQ8tLb4sMNrluemJWolO6f97RNzkjsYQsrJvU67EYOS0RIrDx8Li0hVBJhBjz/hvu2+6v8jv+oBEMGDQcOCCcFzwF4/Qj3BfO27lvrY+1u8B32PABzChAWPyBOJq4rfytIJSMe5BJJBpv7rfDJ6r/phup18ZL7RwblEXEZNR5tHcIR5gJu79HT57oRpsaV8JD6lO2jU75L29j7JhyAM2pFzk0oSs1CCjT6INcTowYn/IL6avrQ/VAEDghuDS4QiA2rDFMIoAAM/Kv1DfGH8IDu//EW+gMAKArBFdgdkiVCKRQpUSZbHfgSpggW/HTyRuwK6SXrHfDY+DsFqw/4Fy8eyh5FF2II9/UH34zENq7anXmUfZXPoGG2UNIP8P4OqillPCdHUUd8QBU1oyOBE2sH7fwh+ID4JfzRAm4IMA57E3ITfREaDvEGHQCa+G7wmeyU6urq3vDt+NgDThG8HPAm0y3yLiws6iPIF6EKD/wy8GnowOOa5Wfs5PW9AgwQvBtwI7klJSM1F/oDO++W1e66lqZBmEeTJpjfpdi+mds4+GsWcS3SO7xDikDuN8crWBrEDdIEdPxh/CIAPwW5DZQSoRbOGc0UAQ+PCEz9x/QI7crmX+de6Lntf/oCBccQMx/iKDkvYDBhLJcm4xluCoP+m/EZ58fiVuKr5zrwWPruCNkV9xxAIhgk6ByUDD755OSXy/mxdqH/mWCYr59ls+jNcujIAy8dYy+NOT86RjXaLQ8gIBK4CogF+AJRBNAJEhKeFEUV8RhNFdoMZwbv/TT2BO9d6Bzp8up/7MX12gAtC+kWqSDcKUYuFCv9J2UgtBFrBWL6zu+16WLnfOvT87n7lQf9FF0dDCJFI8IfqRRwAWTtRtjLvoqp+p3EmFGaZ6Z1vDDWmO85CY4f3S3HM94y4i07JakZrRCIDK4KqwoYDsUT8RaPFtcVABOSC8kCHPsN9NvsZ+eT5proCuw98zD+jQpGFgEhUytyMAEuLin3IPIS9gNQ9//t6eca5UTpEvJJ+scEwRChGSAf8h+yHcEXEAim9Hbjfc3ztbKmM5/1nXOjOrKTyqLiM/j3D5UhfymMLbYrzSVAH6IWYRLFEiMR4BKYGEIb3RsuGuEWKxOaCbL/H/tL82XroOoA6xntjfO0+78HnBMdHOQmfy05K+Yn1SC4E/kGPvpC8N7r4ui06+H0zfwjBvAQThiNHbcdVxmQFIYHXvQe5X/SV7wjrhumfqLHpiqyqsW027XuowSTF/Af9yVHKCsktyAQG84VXBfLFs0VrBqAHLkaCRkAFfkPNwdU/AD3i/CL55TlS+f56WHwKvnaBW4ScBruI98qCyl9JdwfpxV5CwoBWPnR9sTz4vPb+rsAsAXwDMQSxhZQF4cTcA+DBv71EebF1SXCwrJFqTOljaleswrDJ9m37GD99g42GkkeYSAxIEgfih1JG+IdBSEQIKkhZCMTHyYZsxJsCtUBJ/j98GXu+Oqk6Y3uvvMI+XMBQQrHEncZLx0GIYohyhupFaIPVweW/1D6tfhJ+XT6rf/SBisLww8mFZ4XKhbOEf8MAgSF837jwtSQwqqzoauGqHCsWrWhw+TXHekN+KQJHBW6Gfoe+CG+IbwhvyEhI3AkTSMeI2UiEh21FqIQfAeM/V/2iPBF6wzprOrG7p70pPsPBLsNlBXlGoofXyEeH+ca/hQGDvEGkwAH/qn9I/3HAK0GIgpFDvMR+BIzEzEPiAiAAmf1zuQc2cjJALl8sZetmK0otijBKdGz5LzxMgC5D/YTtBfcHn4eth5WIsgiECbwJ48kviSiIE8VxA5gBkv6G/W48A7t7e+A8dr0Sf1OAUoGSQ/DEngVVRnYF5wV5hFACgwGSAKw/Jn9kgDoABQFpQlPCoMLjwsoCrkKFAhTA3ICWfxn7rLj9ddlxoe50bL4ry+02bsEyXzcS+mX9JwGpw99EqscVSPSJScrgSxeLuQvgSdPImQgrxMLCp4Hov/X+WD4Uvav+Ij4/vbl/vsCewFPCY0P5g7rEbkSSRChDnUILQV3BlcBBgDBBuIGcgZtC4kLnQrNC5gJtwm5CcQDygFb/nfvbONx2mTJYbxtt22zzbbYvtHHc9gz5gXup/2vCdYM3xd+ItUlWS2bMZ0wLzLdK/4hfB6xExsHbARj/fL0ovU29Jjyd/aR91j7rwIABD8I6Q9qD7kP3RKeDt8KYgpfBv8E3wXgBBYIzApUCacLcgy9CCUJzQhOBXIEdwG//CX3Zuof3zPX28cWvQe9WboZvDrHmdA329nn9PGc/jIIcQ1YGtYkZSbbLZo0AjFNLikr5yGLGeoQ1QegA639F/dQ+S77s/fx+iQBhQH+A8MI5AmGC3UMhQpBCwwKlgQ2BUEHZwMnBC4JywhBCIEKYAopCegHsQf6CXYIVgQHBfIBJ/VB6m3iVNRwxSG/mrwBuSK7EMX6zWLV4OHl70/6iAT1EDsduSWqKlYxEjZaMm4uNS2DJZAb9hXSDtkGawEP/ND5Mfo6+FL5g/67/1UAlwRVBtQFbQe1CIcIggh5CI0J9wrsCTsKnw1sDb0K9wsrDFsISwecCJkHVQX8A/oCEP2x8L3mq96Nz5nBpb1Nuym4fruVxDrNYtR635HupflNAwYTeSHoKLsv8TaFOUU2tDDlLE0nhRwyFEEQkQjP/xf94fsl+MD29vns/Pz8i/4hA4cEqQIfBJsGegXKBPMGiAhrCJ0Iogr+CzsKkAkyCykKLQg9CX4KgglRB0cFPwGo9mzq0+FN1cjGWMGhv3e8b756xCLLPNOH2yPmavNe/4MMcBoaJGUsVTPzNGM08TGeLIUo4iL0GdoUghFXCgMFOwPw/yT9/fyg/KL8Of7M/2cBvAI8A4MEtwXJBfoGfghMCYELCw1wDOoMaA3VCyQK6Ah9CHMIHwbSA8kCzfw+8sHpHOEV1KTIncSLwh++bb60xVDL9s5S2MHlHvFR/PkKEBkfIrgodS+OMwsz6zA9MGsu2yd+IFYcRxf4Dn8IJgZvA8j+9ftc+/X5Jfh79/X3yfnC+3n9sQBFBGwG6wgVDMINEA5xDtAOeg2RCiIJ7gg+B/cEnQNyAgUAHPrx8Vfrv+Ny2ETPgMtOyMTEzsX1yqnPyNSX3Tjol/FT+xIHcBFaGNMe6iT0J9Uo0ihbKK0nAyVlIeUfYB6mGjkXHBUaEloNdQhVBAYAafuz90H12fOD8yr0dPU293D5pPtf/eL+bgDUAa0CEAOiAzkEfQTHBA8FXwXCBeYFPAWiA3wBYf7B+WL02u8E7ALoC+Wl4/DiLOMG5Drlf+gH7YfwMPTL+K38Kv/EAK8CxwTxBaoHOgolDHsO2RGvFMMWIxlFG/IbMxuLGVwX2xSxESQOjAvGCXQH4gQbA8oBRQDg/in+5v2n/WL9Cv25/H78g/yv/Kz8XP3u/hEA/wAQAlwCxwFjALj9BvpT9qjyfe5U6gbn3uRS4zbiaeJW5B/n7Ol47SXyWfZe+bj8SwB3AkEEuAbECLMKWg0mEJ8S0RQnF+wYZBlbGScZfRgGF9cUehIkEJANugq9B08FGgTgAm4B+wABAbQAXgDs/0//xf42/p39Av26/M/8EP1R/Yn90/2W/YT8+PrX+PX1vvKQ74jsy+m153zm9eUZ5k3ndum861XuufHy9Fr3nvkg/FP++v+dAQgEGAcACkAN7RBxFPkX5hqfHLodaR66HYEbChmXFnoTGxAEDQQK/wY9BNsBzf8r/kH9Hv3T/Hb8hvxn/Pn7hfs8+0X7xvt5/BX9Av4Y/9L/FwDI/5j+k/wZ+u32CvN177XsJuoP6G7njuf/54fpg+s57VLv6fFQ9FP2WvjI+jP9if84AjUFWAjACxgPGxIHFYYXRhlXGq8abBp+GbQXIBVEEkoPxwsDCPsE3gLVAEL//v49/0b/af9e/wL/qP4U/jr9jvxe/GH8Tfxc/On8pf32/dv9Q/0u/KL6b/i/9fzybvAG7vXrgOq06a7pQupe6xjtIu9X8bnzA/Y8+HD6kvzR/jIBrQNPBhUJ9gvVDmIRoBOyFUoXTBjHGLYYCRiXFn8U2xGxDl0LIQg0BbAC2ADH/y7//P4Y/0b/TP8d/7P+Iv62/V79AP3R/AL9af3H/Rr+Qv4R/mP9G/xj+l74APaJ8yXx6+4V7dLrHOvI6gXr0uvW7OjtVO8V8dvy5fRH9+P5y/zf/9kCzgWoCD0L5g2OEAATbRXFF6YZyhovG+YaoRlMF4cUZxHJDWQKaQePBEkCzwDI/wT/fv4+/ij++v2x/XP9Ov0S/fb8w/yk/LD8nfxs/En88/tZ+4f6W/nX9z72nvQB83fxJfBH73Xuyu2r7aftwu1S7jXvV/Dr8crz1/U++PH6uv1nACgDAQaKCOcKYQ23D9sR1xOIFdgWrBe7F+QWaxVXE6YQpQ2oCt0HQAUEA0UB0//H/hf+a/3N/HP8LfzA+3L7VftX+3D7u/s3/HX8g/xy/CH8kPu5+qr5e/hC9//1zfTC89nyB/Jm8QLx3fD38DvxnfE/8kPzg/QB9u33aPr6/Gf/BwKeBAQHQAleC4sNog+LEU4TvhTWFYYWhRa+FVAUaRIkEJsN7ApmCBsGAARDAuUAwf+w/uP9UP3E/Dv80/uj+3D7JPvo+r/6mPp2+lH6Pvof+sn5W/nO+BX4SfeB9sP1LPW19F/0EvTC86bzkfNx83vz2POR9JH13PaT+Lr6+Pw3/40BvgPGBb8HgQk1C+EMYg7KDwAR4BFaEmUS+xElEdsPHA4nDB8KAQjxBQIEMQKUADv/MP50/d78XPwA/Mj7hvs0++z6pPpU+hH63vmt+Y75dPlD+Qf5ufhS+OT3gvck98D2efY59v317/Xd9cb18PVN9sL2b/d6+Nv5WvsE/dr+tQCwAqEEbAY1CNgJUAuoDOYNCg8GEMQQNhFQEfYQGBDZDksNXwtdCXwHogXsA3cCVQFnAHn/nv71/VD9ffy6+wL7Kfp2+QD5ofhS+C74JPgV+Bn4JPgh+Bb4/fff98z3w/ep95D3nPfM9/P3D/ha+Nv4avkY+vn6//sW/Wj+7/9ZAaAC9ANGBXMGfQdoCDwJAQq7CmcL/gt/DNUM+gzBDDYMfQuICnAJNgjiBpEFTQQ0AzICJQESABf/MP4w/T38dfus+uj5Ovmv+Fn4HfgB+P/3APgT+Av4DPgd+CL4NPhQ+I/43fgy+ZP56flj+gn7n/sT/I/8XP03/tn+qf+2AKUBVwIZA+YDUgSTBPIENAUxBRoFVwWdBYcFeQWmBboFfwVTBWMFLgWrBHAEUQTSA0YDDwPjAmcC1QGUAU4BsgBKAEoA+v8t/77+1v6U/sf9Zf1W/aL8m/sh++/6Ofpo+Tr5Qvnc+I748/hp+Wb5n/l8+kr7mvtI/JT9S/6d/rz/KwHfATUCMwM4BAIEegMMBEgEvwIkAmUDcQPYAgYEBgbjBrEGbAdACTIJsAfbB14IrgaYBEYEAAQ9AlgAEgAbAEn+wvw8/QP9cfss+xH8DvyH+/P7uPx8/Mf7BfyN/Nn7R/vw+xP8bvtZ+9P76fty+037ovt7++P64vpW+7T7JvwX/a7+TQB5AdgCjgSPBckFKgaNBhsGTAXvBKQECgS8A80DyAPtAxoE9APtAwYExANmAzEDCQO2AlsCRgJHAhMCAAJIAlMCIAIoAiMChAGGAIz/i/4H/br6JPlh+LX2GfU49WL1nvQJ9T72e/bI9vz3YvlJ+hX79Pw//3IAYQFCA9kE6QTOBK0FNAaPBYgFXQbjBYgEiwS+BPUC0QH4AjUDOQIxA08FlAXvBT8IoQmjCWsKOguaCuAIOQfuBSQE2AFBALf/Df/5/eb9yP6D/pj9KP6u/vL8L/sn+9n53/aC9a71EfX882L0w/XQ9fD0PfX/9cf1pvUK9wj5Hfpj+w7+1P+4/4EAPAJQAqsBqAIbBEkEbQS3BRwHogdHCHsJjwm1CDMIRQeuBaEEwAT1BOsEHgYuCCIJOAkXCs0KvglTCL0HugblBJsDHQNOAj8BuwASAHD+afyu+pr4xPWT86jyvPGI8MfwhvIH84ry2/OX9Vr1GvUS90f54PkS+6D9Uf8qAHcBxwKVA2IEEQUHBdkEwwR0BLMDuwLPAkQD/QIlA1YEHwVkBYYGdgeXB7UIXAqXClgKOQtDCz0J3wdMBz8FbAOcAxMDhwHeAXIC9ADB/8H/qf6i/ED72/lm9xr1CPTj8oHxn/G+8gHzO/Nx9EH1/vS59GL1vvay96T4oPtZ/0oAcAAcA68E0gIOAo0DngNoAvgCbgSEBLcERQaSB1wHYAcCCYkJ3geDByoJNQmrB2EITAolCkYJfgmdCS4ISwYvBaIDhQGDAEUAuf+K/93/AwC0/7b+X/0G/CT6J/iF9q70pfPF86Tzb/PZ85X0g/WV9az0ivV89xL3XfYY+Mv5Xfoi+zv8y/2d/7QA5gB1ASQDggRmBIIENwbAB/4H6QdzB18HSAgAByMEtwTkBhMGAgV8B54K0AqoCv0Lggv0CKAH1Qb/A6oBSgJyAp0ABABCAU8B9P4s/Sv9nft++Hf3j/eK9f3zsPXg9ePy9/Je9b7zXvAY8Y3zzvIm8on1SvlU+47+SAKhA4UEqwZ4BlADDwJcA2sCHf9R//cCsQOcAu8E7wdlCJ4ISQlFCVYJ3gk4Cu4JrgkMCy4MVApqCFsJNQnnBV8EiwWpBFICqQKZA+UB1QAFAjwBMv7d/ND8cvrU9iX2cPav9GP05fWF9Vn1Hfe59pz0J/VF9nD1WPX/9ob5Qvzv/Wn/kwEKAxQDigFt/+n+OP+6/Ub8Tv6dAfwCkQO0BUIItwhCCBwIOAeJBkkHlAfsBngIQQxyDUYMzwziDNoJLQahA2gByP9R/0z/xP+PAF0B0wHeAKf/rP61/G76afit9pH10fQ69GP0OvXl9ar2Yfft9pf2PfaX9KP0f/Ur9cP3cvzY/j8B8gT0BSkFEQWnA6gBuQA8AOkALgKUA1cGeAjlCNoJXwrDCEsHGgdmBs8FwQa4B1cIbAknCjgK/Qk6CQYIogYMBCgBw/8i/j78mvy+/eD9zP7K/6z+nfyI+h74RvU+8ovx4vKu8ivzu/X99oT3HfgU+E74dvif+Dz5Ovlf+tr9yf92AMYDBAfXBrgFrQQCA0IBZP+D/iL/qwB2AycGvAdbCoIN6g3nDP8MqwyBCgMIlgbKBdoEFQRNBB8EUAMqBKwE8gKsAtMDuAKoACUA6v9N/tL8Jv0C/Uj7+PqJ+zj5cfah9qT1CvIG8fjxg/Cp7qrvgvHR8dnygvYK+t77y/0AAHoBywEzASsBnQF3AewBHwPWAxkFIwf0B0IHLAcICJsHGAaoBckGIwicCLEJbAxkDrsOdQ83D2MMbQm0BtoCJ//8/KX8If2p/Bj97/+GAcwAqQDaAPD+Qfv/90L1W/LQ8Bvxk/HN8jr1mvaG9u316/QD9MHyY/EL8tTzxfVX+Uj9hwAVBOIGJgiPCAYIYgftBlQF9QPBBOIFBAY+B/cJHgxxDXMOMQ99D+sODQ7oDFULhwqrCcUH/QYTBzkGtAWRBX4ENgM4AuIA0v6d/Fj74Pki90f1iPT78q7x7/Hd8g7zvvLF8wj0NPG57z7wsO4R7sXwU/Py9eL5iP3KAMkCSQPwBL4FFQRyBPUFbAXIBS8HIAjqCQQLsQueDU0OLQ7BDm8Oxg1fDcUMPQwbCygKHArTCN4GWAafBccDNAIAASwAj/9k/sn94/3N/Gz7uvpC+VL3qPUN9JDykfDZ7h/uy+zh6/Ls1+347Uzvh/ED8wP04/WP+Bf7nP1qABMDowVLCNgJNQpKC1IMogsDCzYL7wrBCjMLmAu3C+QLqgz0DK0LgguqDMwLiwq5CuUJbQiTBwkGWgSoAxYDDwJ9AJX/uv8A/j/7kvof+Zb1bvO38c/uG+0u7AHr/eoc693qcOuY61Pr6uu87G/uRPEC9CX4Zv0EAaAE/Ag/C2QMIQ77DrkOWA4rDrINnQyDDFoNRw3iDb4PHBDUD1AQBhDlDpENiwwiDOkKKQl3CJ4HJwZDBYYE6AMqA90BAwGa/wT9Gvv9+JH1fPKh76/slepV6M7mQOc35/fmMOjp6ADpEOr/6gDsXu4J8Rv0Dvgl/N4AngURCU0MFw/vDzwQZBCFDxwPJg+yDqwO5Q6mDm8ONA4eDsUOfw9HEPoQ4xCtEIIP1gxxCiUIhAXVA9kCUgKzArkCdwI4AlQAsf2D+oj1zvDC7B7omOTI4prhdeHd4YTiIOQ05QPmNeiS6l3tbvG79W36Tv+CA5kHAgvhDI0ODBCBEOYQOBFcEegREhLJEZ4RCxHuD+gOJA65DeQNVQ4bD/oPIhDdD28P+Q2BC3sJvQdlBYsDnQLlAS4BPADd/sP8b/lI9Ynw4erW5SHip95i3K/bjtup3JjeZeBw4+LnV+wr8W/26PsgAaoEyQf3CvsLUwyHDZENQA0zDvgO4A80Ec0RgBKsErkRJBEoENYODQ/BD0cQzRECE3QTAhQ1E2QRnA8KDUgKnwfBBHQCVQAS/r78QfuU+Ff2ivO47mTpG+S43qrZ3tUk1CLUw9V82Yfe6ONU6kjxCfcd/A4B6gQ/BwUJsgqCCxIM9gx1DdMN3g4kEO4QrBHMEvMTRBThE7QTBhOnEaAQBxB4D/QOBQ+PD50PNA8lD9AOKg0JC+QIJwbYAsf/hP0R+xv4evWo8r3uyOk75LfeBdpZ1rjTANP21KzYIN344vnpwPAF9+b8NQJYBk4JOQzrDl8QdxHfEoATBhMaEnkRDhENEEgPuw9TED8QaRAHERwRiBAlEGkQLxB3D/YPuxBoEO4P3w95D+QNcgtGCUsHigSoAUr/ovxX+T71nfBy6+PkDN542ILTQc+LzanOsdFe1tncw+Ss7F301/vSAacG6gruDQcQ9hFSE/kThhSuFAsUtBJZEWUQyQ4uDcgMagzuCxcMdwy+DNsM8gw0DfAMLQz5C+wLZAs4C4ILfAssC6gK6gnzCEEH/QSQAn7/Zfs29mLwSupu437cINcn0zvQnc+90XXVWtrH4Cvod+9P9rr8fQJtB5sLHA8kEsoUvhYSGOcYyhinFxsWXhQFEoQPmA31C04K+AhKCNAHIQfQBuAGuAZXBiAGZAauBqgG8AaRB+YH+wcOCNEHEQcZBgMFXAP2ADz+Nvts9+XyRu706c/lA+Ja3wbep91i3nzgvuOE56nrYfDu9O341fyHAMsDwAafCWwMvw5wEOsRGhO3E+QTyBN/E/YSGRIeEQYQqA42DdkLYwrKCD8HzAWFBFADPgLCAZQBSQEnAWEBzgEnAl0CtAL3AskCOAJGAe//FP7O+2z57PZo9BDyBvBf7gPtGOzP6+PrJOyx7KLt7e5O8KzxavOj9dj37/mD/FH/xQEyBKsGAAn1CpgMPw5dD+4PfBCxEIcQLRDED0IPfg66DeUM1guqCpQJtwjWB+wGSAa6BSUFbQSNA8kCzgGfAJz/g/5N/S38Kfs5+iT5//f39sX1PfTS8qLxWPBg783uUu4s7lfu2e6X70rwaPH08mr0FfYr+F76rfwi/4oB1AMJBvQHjgn6CkIMcw1dDjUPLRC9EAcRbBGLETkRxxBBEHYPVw4fDRcMDwuxCW0IWgcIBnwEvQIbAY7/u/0o/OD6iPlh+Gj3gvas9aL0h/OO8p/xrfDp727vKO8075XvQfAn8SbyefMB9XL2B/jC+YP7Pf33/sMAmgJuBCMGxgd0CfwKZgzgDSwPPhA2ERUStRLGEpESYhLeEecQ2A/LDngN2gs8CqYIzQa8BNkC+wDX/rH86Pon+Tr3ifUU9M7ynfGi8OnvM++v7nXuTO407jLuV+7C7lnvLfBS8bbyHfSh9Wj3GvnJ+qL8WP76/6QBUAP6BIkGLgjeCW8L8AxNDogPoRCLEUoSsxLEEoQSABI+ES0QDw/hDW4M7QpkCdkHNgZQBG8CigB+/m38UvpT+H72uPQx8+jxz/AF8H3vKO8W71Lvse8w8AfxBPIk83b03vVi9+L4Sfqq+/r8Pv5w/40AqwHCAuID/AQMBh0HIQgmCSIK9grHC4cMKA2kDcoN0Q2nDSQNggzBC+AK9AnuCN4H5gb6BfIE2QO5AocBQgDn/nn9H/zB+nD5Rvgw91L2kPXc9FD03/N68yHz6fL88lfz4fON9HD1mvbS9/b4HvpV+238Y/1n/mj/aABOARAC+AIMBPwE3AXEBocHNAjPCEwJsAn1CQQKDgoPCtAJdgklCbUILAi9BzoHiwbnBTQFbgSdA6kCkQFlAE7/P/43/Tr8OvtV+pb5uPjQ9yH3g/bw9X31L/UU9Tf1fvXl9YT2Kvfe97f4kfl5+mD7RPxC/Un+Uf9TAFEBVgJOAyME5QSMBQEGXwaxBvEGLQdeB2YHZwdfB0AHNAcHB70GfgYvBuMFoAUyBbkESgSqA+ICIQJNAWQAgP+m/t79EP1C/IL71/pC+qr5CvmP+D34B/gM+Bb4RPjT+Ff5yvly+hv7vPto/P38nf1Y/gv/0P+lAG0BOwL4AowDFQSDBL0E5gQJBTMFRwU7BTwFNQUtBSwFCgXVBJgESgQHBLIDTQMMA8wCawIQAq4BKwGxACwApv9B/8P+K/68/Vn95fyD/C380/ty+wb7vvqj+qH6tvrH+uL6Kft5+7v7A/xR/Kv8HP2e/Tb+1f59/x8AtABAAbsBGwJmAqIC1QIJA0ADfwOnA8cD6APjA9gDzwOnA3oDQgMJA9oCsgKZAmQCGwLRAXEBBAGOACYA0v+H/0j//v7N/qH+af4//vL9n/1e/Qz90vzL/Nb83fzq/P78CP0i/Sn9Ef0g/SD9QP22/Sj+rf40/4//AgBhAI0AyAAAARMBIwFgAZcBxQH9AQ8CLgJOAksCQgI8AjcCKQIkAisCNQJBAhYCvwGJATIBsQBtACgA1v/D/63/f/9x/1H/Kv9B/7z+Jf6y/gb/HP/b/3AAyQAMAe4AygCoADsApP8R/4H+Fv7T/Z79hP15/Wv9Xv1H/TL9Uv2U/e/9Q/7I/pT/FACgAEYBkwHnAS8COQJcAokCmAKyAtkCvwKbAncCHQLEAWYB/QC6AIwAZABCADUAKwAOAAYA6/+6/6T/h/9o/2j/hf+l/9X/3/+8/7r/lv9I/wn/t/50/mP+N/4i/mj+df5j/oT+lv6y/rP+t/7h/gH/Of9x/63/4v8WAGMAlgC4AOEAGgFIAX8BywHxATICVQIoAiUC+AGZAVoBHQHEAHsATAAPAPD/3f+x/3z/OP8D/wH///7y/hr/Xv95/6D/9/8rABIABAAEALv/Z/8D/5j+b/4x/ub91/3n/fv9Cf47/nv+sv77/j7/g//J/xAAagCbANEAMAFVAWsBmgG2AcwBzAGxAYoBRwE2AS4B/wAkAV8BUgFXAWkBfAGuAb4BkgFvAVgB+wCbAGIAHgDF/27/Gf/K/pP+cP45/hj+Hf4G/hH+Kf46/n/+t/7T/gX/F/9L/4j/YP9c/4T/Wv8K/8f+ef7d/V/9af1l/c790/7U//8AUgJpA0gE+AQEBawEdQTwA0EDGgMdAyMDeQPVAykEeQR2BDQEbwNOAjkBzf9h/m/9n/zN+4H7n/uP+8z7Rfwa/ND7qfsJ+3D6Lvr/+fr5Rfr7+tz7+Pxg/qf/4QAJAt0CjAP8A/wD2wOPAw8DsQJwAlwCegKiAvECkQNNBOMEqwV6BtAG9QbmBn4G7QUvBRoEGgOAAvcBpgHJAdIBfAErAWoA3v4H/eb6H/gQ9TXybu/97HDrceoi6hnrwuwS727yLfYY+kz+MALiBS0JtAvxDXUPKhDQEMsQIhC7D+AOwQ36DM4LwQouCkwJqAhLCNkH5QcKCDUI9AiSCRgK4groClcKLglABvsBQ/xH9GDr1+F/12LO2sY1wXW/RsG0xmnQkNzD6nf6RQnzFqsi4Co2MFMy9jCcLWgoECLHG+gUgA5+CZgEaQBn/df6aPmH+Cz4vfm0+wj+DgLOBYIJyA0JESwU0BYWGMgZkRqCGYoYBBYdEaYKHAGF9Tfoxtd7x/S4WqtVoimfHaGHqsq5qc1y5hj/rxaMLQI+d0jOTuVNSki4PzYzMCcqGz0OKAUq/cX0XPB37CXoG+co5obmR+qN7d/zfP0JBV4OsxgXH7gk1yfTJnglMSCaGN4TEg02BqYDewDK/X380viN9cfvW+Sy2orPor9ZtOSsR6c3qfWwRr821bbrLgUmIXA1FUVgUYlTI0+/RcI2vicXFxkGnfuw8vDq3ulQ6kbr5u7T8Uf2nfv2/dYCsQknDaEROxdsGrocrRzbGlEZNRTbDdkKvAYuAoMB3QF9AowDNwOyArD+T/Ri6efc0MrsubitZaQIoUil5LHexvvenflXFyUweEFrTkVT/k5HRUM3myeGF0YHtvtt9KPtheps67Xstu4k8Xj0YflZ/GD/GAaIC9IOLRT+GMgaIRswGjMYQhQMDsYJcgdqAzwBrANHBtsHmwlSCrwIRQGk9BTo+tdNwwuz+qdSoKygeqk4u4zUvO5sC4Yplj6xS0dUw1KNSA06ySi8GJ0IhvmK8o/uQulr6S/srexz7lbwwPKy9+X6vP/pCAAP0hPqGo8e/B5jHi4bjxefEowL8QdFBqkC/wEdBXgHQAl6CkoKMgiQ/xTyxOVm1YrAcrFkp4KgLKM1rlbActq09WsRyC3fQOBK9VBwTQdBnTJ4IqsSxwSd+LTyGfCZ60brH+5o7fjtBPGL8/P40P5+BEkOkRUjGTkfOSHLHfEbrRc1EQoNOQcBA0MDFAFsAAkFJQfHCEQMuguwCQsEFvaX6DfZisKXsf6mnZ0IoGisxL3I2a73lRKBLzNDAUuXTxxKeDtGLV8cIwx7AQT3fvE58vTvge/58ofy6/K/9b/2nvsNAgEGRA7lFSUYHxzHHSEaQxf2ETILYgj+AyMA8QG6AsQDvgjzCysO8w+1DQILhgMg88XkqtUPvyiuV6UMnySjSbBIw0jgsfz8FB4wWEG3RDRGXkCtMf8jshWtCWMDpvtp9+H4IPXc8EbxHe827qnxBvaf/0UKIxFjG+MiTyE+IEodVhSwDacHCQIBAosApf9aBSAHaAaCC+0N4Q0tEBQPCw2EB4T3SOjN2Gy/i6seoleaHJ5Hri7DleGoABoZJjPiQ9ZEmUSCP1wxkyVoGrUPZwqmAnn7Q/mV8ZbpiOhL5tTm8+3F9RUC2g6lFWQetiNHH+kclhp+Et0NYgs9CHsInQZ/BPMGawUlA0YHuQnPCgEOQw6fC/IBb+9f3nLKU7D4n/yZbZlApkK88taW9+IRGya8OitBgzyeO+o0vCi3IUcZLxGPDCsCi/gw83noaeCh4IPhpufk86P/Rw6hGsse6iJ+I+MbFBeyFAUPcwxgDEoL5gpgB4ACzQAy/cj6aP82BIYIFw8YE0USKQci8lTfk8kJru6fuZ2hn1CxScsx4wUADxfgIzUyrjZcMMkwUy/uJ8Il7yA4GEcS7gV396Hvy+S/2/PeD+UJ7Hr4NQTXDVwVAxdaFzgXbhMCE2gW3hWNFLoU2hGLDJcFUv6W+v74e/oyAsAKrBDNFR0YgRJ3AJzoOtXMv3ypgqJxpUer0b1/1b/of/12DuwZUCczLiUvHTVaNzgzZDCAJ/cYKg19/QzthOV83krZ6uDu68zzFQBYDFQT8Rj8Gv4Z1BnGFscTcxXpEsYLIQmQBnEA1/yJ+0P7xf4jBBsKFBEOFHUSwBBYCNbzFd/vzpe7layzqqGtAbaqyL/bW+39AGkPdhvBKcswQzMJODs3cjGfKpcdzQ/FBOH1Z+rs5hniwN9l5j/utPSv/ZwHfw+QFMAYrBwgHZ0aIxlPGL8Tdgu+BmUF//93/Iz/JAFUA3wJlQ2EEIcQuAsQCFv7+uKg0/HG1rKprOKyCbewxAnZJ+j3+JgI9BNJI3wuaTHENuc5RDSmK/YgCRTkB+D7hPFq61/nA+Sz5LLqifBo9f7+tgm8D1IVjho+G8cZyhfdFSkUjA6VCMwIpwdGAr0BCQQ8BAsHTwvuDN4NZQxUCFsBFe/D2JvMiL+Sr8iv3rhsv7vO2eHx7Wr6vAdHFBMjrSzXMc44bzm5MsUp6BwZETgHefv69JbxlepV6Cfqf+qq7//21v2OCIwPPRLnF1cY2xRIF4cWfhF2EB8OKQuACogGuwSXBy0HpQjzDDcMQgtEC08G1/lk5PjRB8k8umyuZbZDwJzHENec4+ftDvwdBmoVPCmBLvMxlTqCNfApFiHSFMIM+QX8+bX1UfKT5ubkC+t56yXx2vw9BXcMjw+1Ds4QSBDbDZsRJhNxD3gPIRAsDb8KjgmFCqsN9Q2KDd8PmQ4SCfQFcP7p6fTVe8wqwdq0o7VWvq7HfNND3QfnNfT9/S0LKR/3KOcrojPCNGctYyanHQAYhBXpCzADRP8i9QPtfO5e7n3vcvf0/KQADQWHBAIEiAeJCZcMnREWEgUSlxQ+E0UPFw61DSwNYQ6UDoEMRgtkCe4ERP+D8qfe99LKzK7AILxqwsvFwcy61yrbSOJW8Gv6hQnSGpcg2iZBL+4ssSkeKTUjciC2HhsUCgpDAgv4SfQc9Xzz9PYI/TP9EP2S/b37/fx+AC4C3wXPCc8IXQgbCygLGwufD98S0hPGFgoXXRREExUPbwhxAYbym+JS23rRYMcDyETIDMhkz+HQKs+o2B7hi+cM+DkETAnyFcwecx4BIyMngCahKScpASJLHt0ZiBFpDU4LIwdpBWEEl//i+Rv19fDZ78zwBfEi9EP5h/rs/GwCKgTjB6EQIBQHF0oe5h6QHNgdHxm3D2EG0PiQ7Wjm+NtD1j/WItLd0CDS0804z2rWLtkc4k/vofNn+9oIrA3ZEp4dYiJ3JZUq1SgqJKoiBh8dGq4YKhcSE7kP2wtCBBb9pvkM96P09/OH9B31ZvQf9MT1uPaN+VoA7QRtCDoPZRNgFKoW6xZBFFUPhQbZ/uj49O/R6cfn/+Jd39rd69iF1uHXkNaN2TTibebe6j30U/o//+cHdA4tE/gY3RyiH5QhGyExIsckMiTfIgsiWx5eGVYU5Q3ZCAkG2gG8/d37kfgf9PzyCPNz8gz1K/lQ+/v+UwSQB44KPQ3kDAoLlAYd/6j5VfQL7cvp9ue34qPf/92r2WjY1Nm/2e3dLeWm6ALtm/TP+cv+lwZ8DE0QHhUAGfoavBxNHmMgsiNmJWIktyL8HwwclhhVFGoPkwyZCUQEZ/86+yX3gvXT9PjzovUv+Or5Cf1vACADJwb8BqEFVgNl/U73VfRR7nbo4eil5nbhZuGo35Pb9t3q34jfWOa+7APuKPS2+mr8AgLvCEQLWQ/XFIIXdhq+HGgdVCD2IuAirCLMIMwcGxouFzwSiw7yCzkIfgSwAHP8s/lI+ML2Fvcx+Xj6fvx2/w0BTQOWBSME+gHN/0L6QvYc9PTtDupm6t3lNOEj4cTdlttD363fv+AV6D7rfuyM82r3JPnfAEQGBQjcDXAS9hMNGMIa/xuNIM8inCE9IlUh/R1nHLYZ6xT+Ea0OMgmlBF0A+vv7+aX4iPbZ9hn5NPrO+7j+uwCfArUD0AHK/y39efdg9Ar0ae/s60PtV+qB5bXkQ+LN4K/kUOaB53ft7u9077Lz5/Yc+P79pwMFBmQK5g7IEGUTQxbgF6sabB2pHfYcQBz7GjYZ0xbDE9sQAw6BCp0GggIl/z39d/vY+Sv6bfu3+978PP98ADgBDgKOAUoAz/4c/KX5vPdI9BLxQe/L697nS+bS5Efju+OA5DzliefJ6UHrGu4P8tj16/lx/rAClAbaCrUOehHoFOsYuRtNHnYgWCAQIOUfgh0iG24Z6RVaEmEPrgorBr4Cvf7p+4v6+vhs+Nb47fgE+qP71Pup+8z7OvsS+tT4XffK9Y/0NPMN8efuPu1s6zfqIOrd6fnpNusp7E7tOe9R8MTx0vRc9+T5x/3YAKID9AeCCzkODhJFFZIXeBqzG+sa3BpnGpsYMRdnFboSzhBsDqAKeAfdBEUC0gDd/6b+E/6t/cH89vu1+i/5y/h/+Fn3ufZ09iH19POR83vyZPFy8UfxgvAc8Lnvf++575vv8e+S8fLyZ/NX9FH2YPju+Sr8lP/aAh0GpQmfDJoPpBKdFB8WaRezF+EX0RcKF6MWxhW0E6kRCQ+AC6cI3gUnAwUC0wCr/kH9rPse+YD3Xfbn9Fz0U/T688DzcfO08lzyivKv8rHyzPIv82bzr/Ml9C70nPQN9h/3o/eW+Gn5Y/rR++D8iv7/AO0C+QSXB6gJgQtWDeAOihA8ESYR3xH9EScRDRFqEJwOzgxMCpEH+gWIBPMChQJXAo4BLAELAM79vvw5/Br7TPof+ez3pveS9gn1ePTN84HzDPSa8wvzl/O+8/zzCvXg9fn2Zfg9+TD6Gvt1+4r8LP6c/48BUAN9BBEGQgdsB6IHLQhYCGIInwhhCEkIjQjfB9MGPQZjBaEELwSmAyIESAWLBZQFtwVKBcAEAgTlAnoCOQL6AAAAWf8z/Qv7cvp5+c730PZm9iL2Hvby9aj1nPY8+Oz4hflw+gL70vud/D39Rv55/xUBbgIYAw8EpgSABMkENQXlBPYE1gUFBrcF5gWsBdwEJwTFAkkBJQEvAeEAjwFNAn8COAM1A2ACJgIZAoEC3QJxApsCewJDAVIAlf64/Hj8xfvC+or6Zfqg+jv7eftv+zn8DP0H/XX9XP0M/dn9lf2L/cf+Uf4T/vH+tv4y/9b/B//M/9kB1gHcAagDrAMRAwgErAIiARkCugBN/zIBZwF+ACICLwKsANwBSwEo/9sAYgF6/6gAvQBs/vT+0P2Q+239Nf0L/O3+bgCy/5gBfwMNAvkChgQnAmgCHgNLAEMA5gD//Yz90/5d/G77c/zP+rf6yPsD+937tP2j/Yb+awAOABMAPgEwAdwA6wC9AegCpwOvA2EDLwReBB8DWQL6AdsBTwLDAl8CLgF3AIcASP9U/R39Ff0j/Tb+ff6Y/l3/ov9fAAEBr//r/7wB1gAeAA8BaAD9/1QBeQDk/o0ANQCK/kUAif/h/fz/yP+R/vL/EP+a/m8Ai/7v/OP+v/4e/oj/vv8YAN0BaQGsAM4BrQEDAgIDawJhA0QEoAK9AsACAAC7/2kApP6I/iH/Tv7d/h0A/P4w/qUA0wAK/z0AkQDK/zkAkv8i/0cAVABC/yv/wP/6/yT/P/7w/nD/XP4x/vn+Gf58/tn+ufyy/kP/1ftq/qT/+/yF/7gAFv4FALABz/7TAEkDxgCxAuwDxAG5A2YDHACnAFgBw/9H/y3/a/7U/gP/Xv50/v7+F/+L/5AAQ/++/tUAVwC3/zoAsv/uAFMCIAESAOQAjwFqAVYBrAD5AKYBegBvAOH/lf0+/9D/xPvh/Cj/i/zx/XL/BP34/qAAk/8DAZEBIwHrArgEZAPRAjwEZQLFAXoCQwBR/37/7/8U/6P9Gf/Y/g3+6P6W/hP/TP9C/w4A7P5K/9gBewDw/9oCVwGBAF0DmQFA/w8BJwILAIX/8wAG/wX/fACC/pH+Jf8H/3n/Rf5w/iH/rf45/z//+f62/7D/3P/YAEgAtQAqAmYBygFZAkMAqgAgAlr/Gf5xAAsAsv4j/8H/qf+2/tf/VQCm/uD/PAC8/oT/4gAqAUz/rf9nAmoA8P69AB0AlP+XAGX/ev59AEUAZ/7G/uX+mv+Z/3D9t/5vANL+5/4EAP7/TABnALcASACp/94B4AFo/zYBTwNXARsA3gHSAbb/sAC+AEr+wv+HAOP9BP7I/mX+Vf7n/bb+q/5V/jUAqv/8/1QCPgHTAR8DrgEqAr0CZwFtAb8CEwHH/0ECBgCb/WcApv5C/U///Px//fn/XvxF/XUAGf1v/j4By/7g/68B8QDuAPwBfgIwAdgBsQJRAcoA8AA0AbsAZQBOAOT+R/+oAMb+OP2U/lz/ov5e/Wb+yP/7/mcAkADx//IB1gH5AW8CsQHmAZIBzAH1AWkAU//C/0AADP8u/oz+c/53/iL++v30/WX9wP7M/kD9cv+mAAP/YgDfAdMAagFzAVIBxQPhAfL/awPDAT3/mgK3ACP+jAHz/4b9Xf/u/n7+DP5//aH+kf39/Iv/3v5N/VYBdwFD/i0CvAJt/8sBpAHf/0cCcwGz/3cBNQAEAP0Bcf4k/tcB6f7r/EwAbv/u/N7/y/8a/Xr/LgB5/iv/+gACAXf/WQGKA1EBnABaAzUCBwCnAtMB5v53AMgAO//B/uP+M/82/vz9cf8S/jT96/9j/zr+vADnAJ7/hwFkAsL/cgDaAjcAQADTAkQAMQAcAiYArP8hAGj/yP/Z/8r+Pv+J/6H+0/8Q/xz+hwBN/1n+mQD7/zf/pAANAVEAwAC7AUsBxwDoASoCrwA3AHsBUwEZ//n/Yv9N/aUAY/+d/BMApv8L/of/b/+O//z/YP///6P/Pf88ASb/Q/6GAsEAof7fAUcBp/+AAfIAvf72/wIBHv8//pr/MQAV/+3/cQF8AKYAqwDd/xEBQwAB/gn/b/+M/vj/oP6N/pwCogBj/yECeADO/+0AqP7Z/UH/m/2V/aT/q/7S/qIA2QFQAmcCIwPzAuQCHwPmAQsBsQCN/0P/Lf8p/l/+bv5g/ej9ff3l+rH85vuC9sH7t/3r+AYBHQbqBDQKzQv/C3oOGAxUCKAGAwMK/qb7cvcI9OL1f/RG87j1I/hB+9z7BP4zAeAAtgJoAz0C1QRBBdEDPgfqB/AFagmaCUAGnwZyBHUAJ/99+w33sPYv9gf1NPZe9yr5dfzt/SAACwMDAyUEAQVOBCAF7gR2BDoEOgQRBKACTALMAUgATf+X/oT8wvpQ+0L6XPkh+8/74Pzx/vD/JAIVBHcEMAULBboEJQRLAhgBhgDx/sT9BP64/er9aP5T/mv/yf81/17/B/+B/ur+//6p/jD/7//8ALQBlwHnAoME8gMLAzEDqAEJ/0n+1fwC+wT7mvpS+jb7pvwE/j7/dgKABF4EVgaVBlEFOgV2A/0Ap/88/7L9Af2d/U/9Zf58/sj90v4q/yX+pP0H/tj9oP71/in+7v+pAUUBqAG3AtcCpQKsAhsCqwEjAsUA1/4//xP/Mf5L/qf+P/8SAC0Aa//W/yABSQCA/z8AG/8o/rv+NP5O/rL/CgCm/yoACAGTAdMB5gHIAm8DBwJ5AfcBDwCm/8L/4vy4/JX9/ftT/Kr+ZQCxAPcAWAK3AmYCHAJ8AXUBpQFcAFX+t/62/z3+Uf3E/if/rP4D/1f/iQCQABIArgAUAIb/Nv+X/mz+Cf+k/9b/XgDi/2X/fwBjAIr/lgDXAH4ABwFcAAEBQQPKAvEBIgOmAl8BGwEdALL/t/9H/pX8O/yw/EX9Qv1e/ff+oP81/67/cQCzAd8BMgCa/5T/Ov4J/bD9jv6r/pH/QQBgALwA1wBUAYUB7QBcAQAB7P9wAJYA6AD2AFoAsQD+AGMBJAEgAU4CbgLkANr/dgBPAF7/m/97APn/uf6l/nD+J/4R/9T/v/8iADUAAP9g/qr+yv5U/3X/iP4q/nL+vf6t/uf++/97ANT/Zv9m/w7/+v6i/iX+yP2g/Tf+hv7b/yYC3wMiBYQFowXgBb4FfAUnBX0E1wOuAuAAiwAaAYQAYACfAEr/hf5r/nT8pftw/GH7uPp9+ov5Svqw+wv9E/91AIEAOgDJ/57/GwDj/6P/l/9L/2P/L/8h/3EAsQGlAS0BqAB0AMYArwFzAkMCuAIrAxICYwJgBAwFFgaQB3gH5AfECE0IawjYCDkH+ARfAg7/Ifys+XH3FfUr89DxPfDh7sDu0e4K7t/ti+457+7vJfII9kv4CfpC/igBkAJzBrgJrQroCxkMgQqPCQ8JpQjXCGQJ5QqWCwoMwQ6BEGgR/BTtFj8V4xQ7FDgRAg9CDeAK0giBBu0D/gFAAP3+IP0w+nT4UvWz7sbpruXr3bHYjNdX0ybRU9bZ2jzfa+nf8kf59gDxBuoJLQzbDNgL1AiqBOoBB/93/bQAcAV/CQoQwhZlGUYctx/aH2UfdR6IGlMVhRAcDGsIfwaAB2AJRgm1CUwLVAssDHwM/glACf8GvP5T9pXweOim3aXWyNGpyonHBsrCy77QE90i51rtt/jJA38Hlwz0EpcRng71DeUHvQBoAIgAw/4aACoCegRtCWINRRHXF+kc9x4nH3UdZBsgGbYVDxJiDmEKGgfaAxkBlwF9A2MEOAYOCbsKSQyZDksO3gpcB/sAsfUV63vittctzjLKZMUkwb7FLMtyz3PcEOvT9Pr/HAsxESwUwxcaGekURRHXDrEGNP+w/gn9CvwQAp4GUAlZEUAXpBekGt0dWxtSGC0X8RIEDqoMzAoTB9sF1gYRBnAELwX5BRcFWwVCBhkGlwaMCOcJwQnQCEsG2//q8zLoVOBe1BHJJ8hKxsLBq8eS0aHXpuRO+GsE0AtyFtIbCRnsF4MX6BEqDVQLjQWg/8f/8QAhAdIESAoFDgMSSRVoFJMTxBXmFNEQARBhEIAN7gqiCqMIIgajBqAFEgFw/zQBwwDP/6wBagO2BGMH0gmtCtMKfArQAkPzHOkG4YXSgMv5y3LGDcUjzA3PGdW15j32mf8LC38UCBdSGNAZyxfeFKITBRCZCXMFtAQaBPECVATyB6UK8Aw4DoENQw6mD9YN3QsDDGULeAo8Cm0I/gfhCzQNjQkmCOsIDQdbBVcFBwQIAxcD3gJbA7kD2QUJCLT/cfIH7FLiYtQr0LnN8caGyGjNQs211ePmkfKe/KAIYQ/9E/cYMBhPFm0YGRfcEvAQDw2OCMMIiwh/BegF5giFCeIIVQgVCBUJKwreCd8IPgiHCHIIfQcACdQLmQvIChEKvgaPBSMIBQgCBiMG8AVrBMkEYgZhBiEHUgbS+8LuNek44cXVsdMQ0qDKlswa07fRxtcs6VvyuPhcB54OXQ9mGCEcuxXeF6AbsBReEJMQhwtYCPQKywmDBrsJEQ0fCnQJgAt4CIYG/AdTBLsAiwPYBK0DLAajCHAIogkcCg0H6gXPB5wG6gONAw8Cmv8AAN4BSgLGAWwC//+B9bzsM+oL4m7ZX9nu1HvPV9W21ynWJOGi7Crx8/umBaMH8w41FjAUhBUGGroXqhZPF60S8hA7EQ4NKQycDHQJ3wkkCm4GMgYYBiED4QLhAd/+rf9GAa4AuQJZBs0GUgfpCBMI+AdQCaQHcwUrBYwDegEIAroDXwNcAkYBjfqL8fLsyuah373d+dlH1CDVb9aY1SDbBeS26vry2/qI/7gGAw6UEJIUChkiGskcIR0FGUMZbBmNFHsS1RATDEEKwQhRBNACGgN6AOX+of5r/LD82f7Y/Wr/NgSiBDoFeAj0B9AGNQgECLYGcQbaBXgEsgM3A70BjwBQ/6r8rPlM9FPtM+rs5pXgJd4J3a/ZldrO3efeFOMM6jXu7fKk+h4A/QRTDFgQPRJKFycaNRqAHIMcJRrsGksZyhMfEtcQgwvsCKkHowJtAOsAwP3N+7r82vqb+g7+M/5q/lgCogP0AzkHCgiFB8wJxAm4B0UI1gdIBTQELwP1APP+cvwB+V/1AfIg76Trrudj5FPh3t+r4GPhKOLM5JzoSeyF8G/1e/pKAMQFLQoaDx8TFhV8F5EZaxlhGY4Z1xcXFtMUghKCEMoOKwx7CXkGMAPUAI/+LPwX+8P6Zfq4+mn7FPzI/fn/eAGCAuMCjgPuBBcF0wQSBR0E5AJkAswAgP7P/OH6Q/hK9dzxqe4g7MTpUujm55Dn9Odq6STrce3N8E70X/ek+kb+tQG7BGwHswrdDbwP5hFwEzITXBNoE5ISNBJtEcQPRQ5vDPUJwAfZBcYDKgIsAYr/qP3B/AH8rfs3/PX7sfuD/EX9uv0Z/pv+W/+r/0//rP7S/dD8jvuT+Tv3R/Vi80bxqe+W7vDtC+5n7rXu5O8R8nX07vaC+WX8hv9dAg4FjgedCeULUA6aD20QihHTEbcRkxFCELQO2A1mDHQK6gg0B5kFkwT6AgkBq/9V/gn9+Pv3+n36nvqZ+on6w/ok+wf8/Pwy/RL9Ff0U/QX95vyj/Ir8c/zf+yL7avqh+UX5IfmR+Bv4Ivgx+F/4rvjt+HT5TPpa+4D8pP3o/kMAwAE1A4sE5QXtBo4HLQiiCLAImwh8CBwIiwcVB2EGhQUfBbUE5gPyAv0BNwGlAO7/FP9m/tP9ev1q/Vz9af23/Qz+N/5a/pL+tf7r/mP/ff9J/yj/2P6e/nb+/P1s/Uf9cP1O/Rz9Bf3d/NX8xfy3/Kz8lvzm/EX9Yf3x/a/+D//G/6cAMgH6AcgCIQOkA04ESwTzA8MDaQMVA8QC3wH0AIoAKQDO/1//3P7O/tj+hf5J/kn+Yv7F/iv/IP8n/4z/uf+f/6H/w//c/83/q/93/2n/uv/r/9X/u/+2/8b/uv9//xX/yv7X/tr+u/6S/lj+P/5l/oX+nv75/mr/rv/r/1IA0gBPAaMBtwHgARUCBQK9AWsBRwFSAVgBUwE/AT4BcwGAAUgB/QCpAFsABACu/0z///4r/07/Cf/j/vD+B/83/2b/hP+1/+z/4P+e/53/+/84ABkA5v/P/+v/HgAbANz/5v9NAHMAbQCTAKcArgDKAMAAswDbAOkAwwCKAGcASQAnADcAJwALABEA7//p/wcAJQBoAJwAkABTACoATQBrAC8Avf9l/z7/Hv/9/t/+3f7s/uP+uf6A/p/+9v4I/wz/K/9Y/4z/s//S//f/NQBzAHcAeQCcAN8AEQHfALcAvwDEAOQA7gC5AHsAhQCkAHcAUQA1AOX/r/+j/5z/vv/4/+//qv+u/wQALQAgAAsADABPAH8AGQCs/8//AQDf/3D/1v6D/rb+7v6t/mX+g/7A/hT/Z/+A/7z/HQB2AL0A0gD4ACYBLAEdARcBMwEgAdkAiABKAJIA+gDOAJEAlgCcAKwAiwAZAM7/z/+y/2H/Ov88/1H/kf+8/8T/DgB4AJwApADHAOsA9gDfALsArwCyAKIARgC//4f/gf9D/8z+af4y/kD+n/7B/qH+3P46/1j/gP+6/xIAjAC3AKcAoADHABMBDwHSALIAoQCGAEwAEwAXADwATwApAPH//v8uADIA+/+u/4L/jf9//17/e/+g/73/zf/G/+v/OQBpAFgAQQBjAKsA7wDvAKEAkAC9AKoAXADo/6T/pf96/wr/pf6q/vr+R/9c/1L/jf/t/xkALABNAH8AtgCtAFoAHgA0AD8A8f+r/6X/pv+V/5D/k/+m//D/EQDt/+3/FQAiABAA7f+q/4T/t//W/5P/TP9W/5n/0v/g/9H/7/9fALgAzgDOAPYAOgEnAd0AnQBaAEUAMwDh/57/lP9q/0H/Yf9i/1v/n/+7/67/4f8yAGkAqgDxAPsA+QAVAfQAuQCqAIcAUAAUANb/tv+5/8X/o/+L/6H/uv/W/8r/mf+b/7D/t/+6/5P/b/9f/0H/UP92/4D/iv+r/+j/IQBPAI0AqwC+AAAB7QCcAHsAUgA0ACAA8P+Z/1j/Yf9e/z//W/91/3L/wP8ZACoASQCDAKAAwwDsAOgAsgCFAHQAPwARAP7/0P+v/5T/af9b/2//if+F/3j/n/+3/6j/uv/d/97/5f8GAAkABAAWACQAMQA5ACoACwAVADcAKwANABwAPQBQAFsAWgA/AB0AJwAdANf/kv9s/2v/b/9S/yv/OP+B/83/9f/6/ykAhwC/AN4A9gDtAM4AqgCEADwA7P/A/5H/W/9L/0f/Uv9k/3L/l//J////CgADAAgAHgA2ADYALwAhACIAMgA8AC0AKAA3ACYAIQA/AD4AMgBLAFQARgBVAGkAVgAgAAMA8f/p//L/tv9w/5T/0P+3/6L/1f8BADQAXgBdAGIAlgDFALEAhwBdADgAOAAYAKn/WP9O/1v/TP8d/yf/T/9e/4H/sP/k/zIAYwBHAEAAgwCFAE0AUAAtAMv/3/8JAKr/jf/K/9b/6P/4/9r//f9qAIYASAAzADoAJAASAPP/v/+a/4z/kf91/1r/lv/V/+L/BQA8AFsAiQC0AHwAVgCTAIQAJgALAAMA4f/q/+P/qv+8//b/2f+w/87/8P/4/wIA9f/R/9L/BgARAOb/7P8HAP7/8v/t/9r/+f8mAA0A1v/L//v/FwATAPv/9/8xAGUAWAAxAA4AEQAwACEA+f+p/3n/vf/b/7H/v//y/wEACgAsAC4AKABBADEAHwAsAA8A2f/U/9n/zv/p//P/4//s/w8ATQB+AHQAYQByAHwAaAA/AAoA3P/O/8D/rv+y/5b/ef+Z/9T/8f/5/w0AFAAwAF0AYgBgAFsARwA1ACcAEwD4//H/AAABAO3/2f/O/9b/4v/3/wMA4//Q/+T/8f/q/+X/2v/W/+D/3v/h/+f/5P/l//L/BAAJAA8AHQAiADIARABDADUAEAACAAkA+P/b/8H/rv+f/6T/r/+N/33/o//D/93///8AAAkASQBnAGUAeQB2AFAASQBKACUACADx/9H/1//t/9T/wf/O/9v/7f8BAA4A9//g/+z/AAD+/+f/4P/b/+b//P8FAAQA/v8XADsAUgBLACAAGAA+AEYAFwD1//H/5P/j//f/5v/b//X/6v/b//P/AADz//z/AwDz/wYAFAD2//P/CwAUACEALgAVAAQAIAAuACwAKQAQAAMAAwAJAAMA3//O/+n/+P/z//7/8f/k/wUAFAAFABYAFwD4/+////8BAP3/AQDu/+j/AgAQAAsA/P8LAB4ADgASABkAAAD7/wAAAwDx/97/2f/C/9j///8FAA4ADAD5/wIAGwAMAOn/7P/z/+X/+/8JAOr/7/8YAB4AFwAUAAcADAAeABAA/v///+r/z//V/8P/rP/L/8n/w//w//T/9v8ZAB8AGgA+ADMABAAZABIA5f/9/wQA4//3//3/7v8CABMACQAVACcAFAAhACIA9//+/wsA5f/f/+P/yf/V//P/8P/6/yEAGAAIADcATwA6ADUAKQAkACwAEgDz/+T/2P/Y/9v/0f/A/8D/z//i//n/AAADABAAEwAUABoAHAAQAAMAAAD+//j/+f/y/+r/AAAXACIANAAxABQAHQA3ADYADwDu/+3/+f/6/+P/2v/c/+D/8P/6/wAA///+/xIAHAAbABwAFgARAAoAEQAdABkABwABAAwABgABAAUA6v/Y//D/9v/j/9P/0f/V/+n/+v/w/+///P8OABkAEAABAAEADgAMAPj/9v/5//3////5/wwADgAKABgAFwAOAA0AEQD+/+v/6//e/9r/1v/D/9P/5//l//D/+f/5/wIAGgAiABIAFAAPAAAADgATAAgAAgAAAPr/AwAUAAUA7f/3/woADAD5/9//5//m/9v/4P/Z/9H/2f/r//P/+/8XABEAAwAgAB8AIQA0ACQAGQARAAgAGwAiAAEA5//+/wgABgAkAAAA4P8NABEA+f/1//X/6v/1/wkA9P/f//P/AgAEAAUA/f/2/w0AGQANABQADAAGAA8AAwAMAB8ACgD1//n/AQADAAAA9v/k/+b/7//x//j/9//p//T/CAALAAoABAAHAB4AGwATACkAKQAKAAEAIAAiAAAA//8EAAcABQD8/+r/5P/y/+//4f/z//3/5//m/+//8f/4//H/5//z//D/AQAZAP7//v8OAAYAGAAeABQACwAMACIADwD7//X/5P/u/+v/3P/Y/9v/4//n//T/9f/s//r/+/8CABQAAwALABwACgAHABoAFQD4/wcAHwADAAQAGQAJAAIAAAD3//3/BADy/+H/9/8GAPv/6f/Y//H/DgD1//L//v/5/wAADwAjABUAAwAQABgAFgAKAAIADgANAAoAAAD3/wAA8v/e/83/3v/1/9b/1P/j/93/9P/4/+v/+f8MABsAEwATAB4AIQAxACIADAAVABgAHQAVAAYAEAASAAkAAAAIABMADwAEAPn///8IAAwA+f/l//r/AQDy//b/8v/1/wAAAgATAAgABAAHAAgAFwAAAAAADQDx/+7/5//f//T/2f/L/9f/5v/9/+P/3/8AAAkA/v/y/wcABQAAABYAHQAcABsAHAAgADMAQQArACAAJwAWABAADwDp/83/vv/N/+X/wv+5/9P/4f/q//f/AAAAAB0AHgAVAE4AUAATAA8AMwBKACUA8P/4/xYAGQABANr/vP/W//r/2v+s/7n/zf/J/9r/4//Z/9H/2P/4/wwACwD0/wEALgAeAAYACwAZAB4A/v/8/yYAIQANACAAKwAaAA0ALQAnAAcA/v/n/wcAGADO/6f/uf/J/7//tf+t/63/5P8BAO7/CAAYAB0AOQA1AGEAbAAlADUASwAyADcADgC8/7v/7P+0/1z/U/9O/0T/Sv8k/+n+DP9D/1T/i//I/+b/FQB3AMIA8QAyAYoByQHNARkCagJeAlcCVQJYAkUCFALfAZ0BdgEsAa8AdAALAHr/Mv+6/jH+zv1s/Qv9u/yV/Eb8Afzz++b7/fsP/B78Tvx3/ND8aP3m/UH+uf5k/wkAvABuAcMBTAIKA1MDhwMDBGEEUwRmBK4ErQS+BK4ESQQ3BEsE/wOQA0cDGwPxAqwCIQKMAVwBIQFvAHf/m/4a/hv9b/sX+qn40fZU9WXzFvEi8DrvKe037JfsiOzx7GXuxO/38XL1V/g1+7D/EARtB20LpQ/7EvcVyBiiGoUbdxyjHCYbgBnSFyIV9hGuDhgLfgd9BIMBFf7y+/H6hfnP+GP5PPpl+zv9Ef/mAEADEwXiBYMGswYIBiME0QCH/cP5iPR672Dq6uRP4A7cKNi01WPUItRH1VPXvNqo3w7lMOtf8sH5SgH5CAAQuBYuHW0ifya9KR0sUS1PLQUsmSm2JgojMh63GA0TZQ2SB70BWvwm97vyiO+c7FXqaulc6VXqkuw17zDybPY9+6D/6wNwCKEMtw/zEZgTExS9E+sRTQ3SCJ4FcP8x9yPxBuu0443esNnj09PRWdIb0VnR4dXa2n7fkea97iv27f66COUPrBa8H0UmPCkzLf4wJzF7MMwvtys3Jz8k/h2+FQ0QDwpmAnX8//au8MDss+pn50DlW+bi533pu+yX8Bb1OfuXAGMEKgqAEJgTExahGE4YQBiUFzgQawmlByEAU/S87dLmN90D2NfSDssKyTPLncquyhLQgtdk3Z/kF++U+AsBLgyAFasbJCWOLU4vWzKfN8o23TNGM7guuyeSIzYdPhOwC38FXf0D9pHw/ep15gPlMOR+4nbjg+c+67/uzvM/+g4BfwZeC8YRzhasGfQcgR27G90c8hkHDzIJtQbc+vDuL+nf3qzUX9HpyTrBwcLpxIDCAsZKzlPUiNwd6G7xFftuCMgTIxtdJMMuizSNN4Y7ID1jOxE6MDZ+LukonCPXGRcQlggaABP4cfGe6hjlk+I+4RnfxN4i4kPmn+l97k71fvzFA8EJHA9vFqcc0B6QIC0iCCHUH0obYRAmCYoEsPdM6jjixtaczEnI4b/tt0C6M700vAjBqsol04fd9ekB9UMB0Q9LG1kjOS3cN5w9Zz+tQapCY0DxPCU3Qi5sJmwfzxSvCJf/qPe87tTmw+Df253ZlNka2W/aud+j5d/qd/G8+dMCaQuTEbgXkh9hJAUm2Cf/JukjdSKSG/8NTQYeABjxyeNb3G3Qh8UTwkm75rM1t/O7lbumwSPO69as4E3vwfsxBwMWKSJUKecyoD25QRBCrET7RARAqTsqNjcrnCH+GqUPcALX+X3xauhs4hfdVdgC2NDZn9qT3cfjyuoC8nL5lQHBCrgTdxrAH84lbiqcK0QrcykyJfogGRq7DLIBovqB7cLeldVfyzLBOb2Vt+ywK7R4uhy8D8JxzuLYbOOG8TD+QgqWGFUkOyxYNVY+3EKNRD5FKET9QDQ8/zTUKugguRgMDqYAVvZS7rzlR9/h2aTUQtQD1xLYSdsy4s/odvAz+cYAqgnZE+sa0R8IJrUq4is4LBQrvyZ+InwdrhAMAvr62fE24fLURM0swjC7Nrlysi2w9bimvf2+S8tm2RjhvO6N/4IJOBbhJjQvjzXNQUxIg0e9SZ1KWERMPrE53S5SIZMYBQ9iAPX0Au7B5EDdxNrE1uzTN9gt3FrdBuQG7XvyVPqVBIcKpBB4GsQfHiG9JeEoBCdXJQUjaB00F/0NDQFe993uX+Kv1qjNxcRpv9i8MLgpt3e9R8M+x5HPFtse5j3yp/4ZCSwUnCAuKqswhjduPQdAj0BdP5w7VTfOMugqDiEpGaARmQek/RL2v++G6mnmseLf4Gni3+RR5kzpKu9T9Yj6EQDyBV8LfxBaFMAWNhmzGjAaCxmsFqQSEA+7CWUAqPiI867rX+Pk3RzYV9Nk0pXQY86f0d3Wu9n03fzk4utk84j7/QGSCMoQfxeTGxog8SSJJ0Io+ieIJpwkXCIuHk8YNhP1DvAJdQQJAMH8+/m49431NPSl9Hz1NPXq9Ab27veY+ef51Pm4+2T+6v5X/nr/KQGrAd4BygF5AVUCAAOtAGH+aP8QANv9mvu7+sP5S/hB9kjzvvDK75PuROuJ6MboMen/5/LnzOmk6/ft7/AZ8wf2JfsU/4kAJgNdB2MKdgxsDoMPoxCKEhMT8RHuEa8SwBH9D/cOzg1WDCsLIAm9BiEG7AVDBOAC7QKzAgEC4QHGAcMBGQLxAX0B1AF9Ar0C9gIWAz0DvAPnA0UDfgKJAYP/3vxk+iP3C/PG79Hs8+hz5QHjreBP36Dfod+T3wfimuUO6ALrt+/K9LT5kf7/AgMIlg0DEggVRhhVHEYfMyCsIKMhNSKBIXAfmBxeGmsY5xSDEOEM1wmuBlkD5f/K/Nz6sflK+HX2VvUN9gX3+vav98r59Psp/m4AxQEmA6kFoAaZBAYDvAKu/2T6kPa/8sntquku5a3f1txM3PTZNNda2Gnb7NxP38jj8OcL7TP0qfnh/cgEuQvUD0EUyxmgHX0gyiM8JScliyZRJ+4kaiIyIYkeoBpMF04T1w69C0MIBAPk/gL9e/r49vL0NvSX87rzm/Rb9f/2NPoo/Vf/LAKiBWoI8Ak0CzwMTQtPCYwH6gNf/vL5nfVy78vpL+Uv4DPcQdpK2AjWcdbx2E3a3ttV4Orl3upQ8AP2Rfv7AY8JrA6YEosYRh4bIZkjcibCJ5Eo/SgEJxgkjSIQIPUa3BWlEbsMrQc8A1r+pfnb9tn0//Ec8FXw0fAJ8bLyKvUJ99/5+P1SAdUD2AbWCcILRw0PDmwMmwnDB2wE7f3E9z3z3e2X59Thk9wP2XjXi9Vy07TTkdbC2Vzcxt+a5cnsAvPd+Gz/gAbSDVQUTRkXHsQjIyjwKX0rcS0GLvIsOCuJKB4lyiEfHUAXVBIgDtUILgMv/8L77PdB9aHzm/Ha8KvxJvEO8fLzY/Yt9+z5G/6mAMsCHwaYCNUJxAvZC1UIVAbpBXgAi/ia9JLwgOnC487eQ9n61rXWndOa0T/VYtnJ2i3e5OQ563Hxsfi6/tQESQ1AFN4XtBwrI8MmFigAKiAr0ip6KlIoyyPYINUedBkOE14PwwvhBjEDw//P+xT6mfn39s/02fU19gX1/fUu+AL5dfqX/er/sQGhBAgH7QeRCUELQgmxBV4ErAFV+2L1YvBD6jPlGuHn2iLWJNYF1tbTaNTs19zasd5h5BrpXO6G9sD9lAJkCXIRqBZcG4QhkCXZJyMr1yzoK9srwyuLKMgkPiI1Hu0YhBTtD4YKRQbtAm7+P/pC+Kv2fvQ/88ryGvJq8rHzV/RA9Un3wfmq/Jz/lwHwA20HnAk/CnIKxwhABnYE9f9c+Mbyee7H5zvhatxW1+3TgtOP0h/RU9Pn19TaXN4N5YfrLPHo+I8ANAaJDbgVaRrPHmglpikxK6ktMC8VLrUtHS3SKDEkviGBHfgW3xFIDXoHKgPx/+H6rfbz9fz0T/Ky8ZvyOvL/8pr1u/aW9/P6k/6kABEDCQY4CBQK7ws5DOQJNQd3BV8BdPqV9Hrv7Oj04hTeSNg01IDTWtL10OjSk9Z42ZHdqOOl6eTvYPeI/s0EsQvKEkcYVx0hI0snhykaLBYu1C0NLTcsginYJXkiHR7EGOETLA+wCXwEuwAV/aj4a/U99PDyN/Hp8CfxTPH/8lj1U/bi9+z7t/9kAYcD+gZBCXoKCgw5C3sHnQUDBEr9x/Wh8fzrx+RP4Efb1tRX02LU2tHR0PzUl9g52wXhLOfP6x/zI/z+AXQHABAFF/oa2CAEJyUpNivRLgIvfC3vLSMsQCd9JBUiFBwUFiQS5gwMByID7P6V+Y32jPVC8yTxGfFP8cDxovN59ZD25fil/BwA5QJOBc4HtgoMDfoNfQ0HC6AHNQU7Adn4p/Ds6xfmad7C2O7TVc+yzovP3c2NzgjU8dh+3Fzirelb8Hf34f4zBbALsxLlF/UbPiHbJWknpShKKyQsFSsfKmsn5SNuIjUfWxgcE7wPfQrVBEoAefu39xb2JPRg8UbwC/E58QvxN/J786j0T/eL+fz6/v45A1IEBAcCDFANEA1UDuwLVQeZBaIAevYa8I7siuSD3GrYjtO3z2nQAtAwzqrRZ9dy2hffe+bB7FzzkftrAn8IHBDyFrobQyFNJscoPCvWLTMvUS8MLuMrHCngJeoh3RvPFO4POwtgA2v8rvhk9E3whe5i7ODq5+xN7zLwn/K+9n36v/5iAzgHKAwjEc0TkBbCGLUXFxarE3ELLwHG+avtat0D1FfMbr81txS1S7EeslS6OcALxl7UgOQ47wH8VA0yGykmUDL9Ooo/U0XGSMhFqUH5PXE2GCx4IucXJQskAKj3Cu565Cjfv9yD2irbI99o4zfqXfQb/UsFWxBmGjIhwid+Lf4vpC+YLe0pxyX/INYYMBDsCv0Es/za9v/xfeqw5V7huNRUyQXHA8Fzt5q28rbOtEW8uce4zjDc3u8+/QgJKRkxJf8sejbeO2k6PDnyN3cyVyyfJjIeIxVCDvwHBAEM+3b3d/Rr8cvvqe6r7gby/fQW9R/41f4/A+sGMQ0ZEqAU1RjpHBEdEhw0HNcZThNBDfcJwQZEAjL+6fxV/N/6G/30/3L7s/iv+uDuvN2Q2nzS0sDyuyu5Ja7msDC94cD2yp3gOvAP/BAOjR6dKOQykjvvPHI7OztHOOYwpSmmItIYIA/cB+X//Pfd8+jvG+kr5o/oI+m/6RjvB/S9+CwC+Qk4DkEXaCHVIzAk6SgrK4wniyNNHoQVgA3hBkr/Rfiu8nzvv++O70juy/Bs9Mf0xfbx9IPmtN2935rVAsjrxrHBNrzhxCbLwc3r3EnwXfxJBucUViQ6Lb8ziDgjNdUy7TTQLdUi8B35FngNGweYAFv6pvdC9cXwoOx27FHvQPCj8EPzQPel/ugGmQqlD0kZSB99IQIkACRUIhchcxzoEjcJLwNA/j/3yvAF7jfuUO9p8Crzn/bq+Rf+nfdC5Xve4N700bvGFMO5uR25scSjyUbQcuJk9K8B/g3+G8oqlzSlOeg6wzb8M74yFyodHksVOAzaA47+RPjZ8gjyHfB07QTwcvIh82n49/16AKMFBQ2FEtUV4hi3HJceVR5WHgkcyxazEn4PMwngAPb7Mvmu9O7xz/KQ9f74X/re/DMB0gG9A+D/gOoy3efdz86Uvs6+YbjGs9jA18mlz87ih/edBCkRVSBFLVUzVjeVOkk1hi11K50k+hYEDgEHMv09+KP22/GA7/Hw1vBl8sX3a/u6/YMDBQq4DVMSJxgVGiAbjh6ZHQcZGhhkFqkPcQnBBIH+kfc/8u7vKu6d7I/v0fTy+Iz9aALgBo8KKQ0oC6j6W+Zg4U3ZzMXAvny7iLLduQ7HKsps2dzy4QCrDKcdVSoMM9Q6mTxrN58x1S2uJ8gcyREJCq0CWPuU9+P0svHI8WDx7vBm9k36xPtRAn4HUAu3E6wYkxolH4ogVB5oG9MXhhSIDhgHEwLn+6T0ivDU7jruze7c8XD3cPyJAUQHhQr1C0APzQ6X/dzmjd8C1+7DYb15uSquA7aUxeTIS9iP8g0C4w5NHkArnDR3OK06kDfnK2MmKiPqFFYIEQPq+rrzF/OU8kjw5PHN9dr2wvohAvADmAZpD6ETnhSHGXQb+BhSGVsZZhTOD+QN1wiQAfD98fqb9R3yZ/Jp8/TzZvdZ/V4CqAdNDBwNVw0MEHIQiAL053Tamdcqxna3UrfFr5yu+8AizKjUYe1rBf4T0yERMIs7rz8uP6c8ojGoJd0gbBYwBtL7TfTD7pbtPuwX7C3vLvJz+BIBbwPQBeUOHhRUFDgYGxtdGkkbeRpSFuMSlA8MCz0Fuv+0+872n/Io8gXy2/F09Of3K/wLA14J3wszDUQPYBCRDS39zOKO1a7PNL4Zshawl6n5rjjBa8sF20P2AQvfGp0p0zQYPzBDf0E2PHcu9SOdHrEO2f6M+CXwqura7G7sjuwb82/6mf9GBCkKEhDLEogTvBTSFRMXxBfLFI0Q4A9sD0YL7gbzA+sAPv4d+yn4m/aC9Rb2pPic++n/lQXTCvUNUQ8FEa0QEQ1rBJTuXdcrzwbFrrRXsciwpK12uTPKbta06jUCKxRBIiMsJzYUPf86nDjgMbgiOhp2EugC8PpE90zvNu6w8I3wE/QE+PH9dAdFCUYKKxJeFBsVPhqUF+0SwhSGE1YPSAwZCCkFSQIC/lb8UvoM9sT0APY99p/3IPw8AFMD0wgsDc8NAg93DzkM1P+Z56zWBdFXwqm1LLZ0sZixbcNm0YTdr/XcCzYaXCcnMjU5NDptON421irjGl4VhAzj/Z/4QPTN7G7u/vK+8yH2hfuYBGYMYA5sEekUHxboGe4aPxfdFZATRxAQDoAIiQSNA4r+Mvpk+Yj3k/bl9jD3i/ht+pL+2wNoB4cLPA77DbYOvg2cCKn8yeWq09jOpsTgt9C22LUVt+DGkteU5Tj6DA4QHpMrGzLaNnQ5XzRpLsUkthRNCwkFq/g18M/tteok7Crz2fZX+JUAkAucD+4RFBdwGMcX9xktGRwULhHpD4oLUgXFAsYCXQDs/W39qPsr+rr6FfrW+c38y//ZAJACPQeFCxgM+QwrDWsHrgAe9sng6dC4yy7Bt7i0ulC7SsC+0P3fF+4dAqsVyCI5K/8yqzcmNHouIym7HDEPNggqADj2RfJX8WHv4PHH+MX9aQLkCdcPiBLhFfQYQhlzGYYZXBYSE7sRVw4RCsoHAAUBAV79aPqW+I73YPcr+Az5Oft2/uIAugPNBs8I0wpTC80HCgII+xjved4F0nPLpsOwvujA8cKUx2DVfeSh8roE6BQyH5Mn+yz5Ld0sXyheHzUVAgz0AuH5+fPW8uHxVPFU9tL84AGeCkwTqBaSGbsceRwwGu0XYxUfEXcMbAq0By8DVgL0AucAGQAmAD79I/uc/Kz9z/wr/dX+Tf/z/90BOAIRAdn/L/yl9cDsUOEu2U3VNM4OyU3M3M5P0jTfPeyA9mIGuBSVGy4igyeeJz0lsyAWGqAS0AmTAlb+K/ox+Hf5r/lh+6UBtgbkCSUPChOhE8gTaBPJEqoSahEpD2MMLAm9B6AHmQZBBasDWQHe/tH8L/xz+yv55Pge+mz4ufZb9872w/QV8uftjeeg36/br9tB19PTxtj+2z/elOn682P4rAIHD2cTWhYMHJAd5RlVF8IVchBYC9IKHAikAiMCCQM7AboChgZkB3YI9AqzC+8L+g1iEE0QJA4qDQ4NUwwwDdsNsgrdB90HzAYkBd4E5ANCAs8A1P5d/Uv8Wvpt+MX1jPHK7ZHpReMh3tvbgdmR1jTXxdtD39vjku3j9KP5SwUAD3gO1RB/FpoUSBI2EywPzglNCa0J4wc7BkMIOwshCrAKbA6KDHoJaQtHCfQDbATGBM4AVP/gAEsBewF4A4cFUgX3BZkJqgreCAIKIwufCC8H8gaZA0X/U/xK+Obxfevn5hLivtuU13PWKdUJ1mPb+OCr5lXvzfeQ/j4G8QwuEPoRIBMlEvIOvAulCf4GwgQ6BZQFGgWmB3sLGw7IEbwUxBTNFAMVfRPXEKoNoAqmB7UD2ADZ/3n+CP6u/tz97f1zAGoCpAPjBFIF9wX+BToErQJfAFz8DvnT9I7uReog5/ziueBe3/TdPuAq5LDmWOt48ef1J/vpADsEHwcwCgELpQq2CjEKCgk2CKEHQgdiB/sHOwkAC6EMGQ7HDx4RvBEzEmMS0hFtEFoONwyfCi0JPwfZBCgC7f9X/tj85fuI+8b6j/l1+Bj4B/mB+Wf4J/hk+B73TPYH9g/0rPLd8ifx1+6W71nx4vAA8D3yvvXV9nn4i/yz/QH96v/vAYUA3gGrBM4DAwP0BGgGzgY7COwKJgz9CqELBg4jDWkLgQw4DBQKHwqlCncJ+gjhCcMJ7AenBq4GAgWFAav/Vv7w+kn4ofcC9lT0mPQ89LDy1vLv8/rz+fO59IL1DfbG9tP3r/hM+Vf6SPuM+/r7z/xT/UX9L/11/aP9zv3D/nf/M//y/5IB6wHoASgDewQJBYUFEAZvBuAGyAdWCLUHhweICGkIOwcvB2EH0QZvBv0FdAVvBQsFIQRqA4ACewHoADAA4P6S/Xr8LPvC+b/4EPhE91r2r/WE9Yz1nPVg9nb3GfhD+Uj7A/1a/vf/eQECAgkCfAKtAvYBYwH3AOD/Hf8p/+j+eP6m/vL++f53/1oAogC4AFABvQG9Ac4BFQKKAuwCBAMiA2IDngMIBFwEWwR0BGIErAMdA00DJwMvAn4BGAFgALX/Lv85/t/86Psy+wf69PjC+L74ifjZ+GL57fkh+438gP1X/nj/jAA0AcQBOwJcAsICPAPwAq4CIwMEAxMCvgGbAbUACAC8/+r+SP4+/vf9jv24/V7+5P4O/27/LwB6AKsATQFRAf8AXgGdAXoBuAHtAesBAgIRAi8CHAIQAlECtAGdAKwAXQDR/hr+7f32/EL8Fvxh+//6u/tT/GD81vwO/ln/GQD4AFoCRgMDBDYFxwXnBWYGVQasBRsFPAQsA2ICcAFmANL/If9k/kf+8f2J/dD9qP0F/SH9af0H/dX8Bv0K/SH9e/34/Xb+5v5t/83/9/9nAPsAHwEOAWUBjQEjARgBegFLAbAAbAAfAJD/Gv98/sr9if1s/Qz9vvza/E/9t/3y/YL+cf9wAIMBaAIpAy4ENAXBBRIGTAYYBpkF6wTvA48CGAEBAA3/BP4M/V78EvwL/A789/s1/Lr8+PxW/er9Bf4L/oX+yP6+/hP/m//c/wwAgADPANkAFAGAAaIBZAFPARoBcAA5AHIAFQB7/07/Gf/D/rL+lv45/iz+Rv4C/s/9Gv6h/vL+Iv+I/0cAOAE6AhwDrANuBBYFDgUiBW8FEQUKBEUDpwJ8AWYAsf/a/vT9Qv3I/JP8y/wP/QT9LP2q/Rf+i/4I/y3/Qf92/4P/l//S//T//f8tAF0AlQDgAPoARAGfAXkBUAFfASgB5QDRAGgA4f+b/0j/A/+z/k3+PP5M/lH+fv6m/r7+UP/6/wwAXAAYAY0B+gFuApoC0wIPA98CrQLDAokC5QFEAb4AFQB1//L+bP7o/YH9b/1b/X796/0K/iL+lf4U/03/g/+//87/0f/K/8v///8PAAMAJgA4AC4AUABwAHIAowCbACoA+v///9j/rf9u/yP/Gv9E/zn/EP8f/zD/S/+H/7D/rv+6/wIAPgAbACIAewCWAMQAFQEaAREBXQGKAXQBgAF7AUsBDwHAAHUAIwDC/3z/Ov8Q//r+1/7T/uP+CP8h/xf/Kf9u/6P/mP+G/37/df+X/6//gv+b//f/BQAVAFoAiQCrAOAADQEHAd4A1ADPAJcAYABMAA8A7v/z/67/bf98/5j/bf9D/1j/av+m/9L/sP/P/zIAgwCeAMQAEgFXAYcBqwHVAdUB2AHMAXcBMgEhAdUARQAHAOb/m/9b/yD//P4F/xX/Bf/w/hD/X/+M/1j/Nf9H/zn/Sf9g/zL/Iv9o/5r/pP/v/y8AKQB2ANIAwgCqAMUAtAB0AGoAQwDl/+D/4/9v/xn/Gv8Q/wv/Fv/9/vH+Hv82/zj/Xv+j/9z/BwAoAHUA2QD7AAABFAEaARsBDAHNAJoAbgApANb/pP+T/5f/e/9f/4r/pf+8/9H/2v/t//z/+//S/7X/sv+U/3v/cP9e/2j/pv/c/wAAQwB9AKsA7wA9ATEBBwEzAREBvwCzAGwADwAAAMb/Uv8w/zP/Df8Q/xD/Bf88/33/lv/V/zgAVACSAOsADgE8AWYBaQFWAVYBOgH2ANUAoABCAAYA5P+v/4P/df9b/2L/i/+G/3//q//c/9z/xP+7/8//1v+s/3r/X/9i/23/ef+J/7L/6v8EAFIAtgDNAPEAHwEWARgBCwG2AFUAFgDT/3z/Pv8E/73+mP6j/rr+2/78/iT/Yf+m//z/MABFAIQAwQDPAN8A8ADuAPcA5wCnAHwAaQA/AP7/vf+R/3f/YP9W/2X/gv+h/7//1//v/xUAKQALAOL/zv+u/3f/Uv8m/wP/Fv9G/2H/lv8GAFsAowAOAVwBaAF3AY8BYQEPAckAagDx/5T/TP/w/rP+nP6F/pH+x/4O/0T/hv/l/y0AbgC3AOoA9gD9AA0BFwEVAfgA2wCoAHcAYwA4ABIA+v/U/5//if+s/63/ov+8/8b/3f8FABgAGAANAAAA+//h/7b/r/+X/2P/UP9P/3P/pP/K/+T/LQCQAMQAEwFDAUIBUgFLAREBzwCGACAAzv94/xX/6v7G/qD+q/64/t3+Lf9r/5f/6P88AGkAlQDEANkA5QDzAOEAxgDCAKwAfQBeAEEALAAKAOT/t/+J/4v/if96/3D/c/+T/7X/yf/q//X/7v8FAAkA5f+5/5H/bf9Y/zT/FP8o/2L/jv+1/wkAYwCtAPMAHwEvATYBMgH/AKwAZwAdALP/Sf8U/+v+wf6w/qX+wf4H/zv/Yv+O/9H/GABAAGoAlgCiAJ8AtwDMAL4AuQCzAIMAbQCBAEoAEgAfAAIAzP/m//v/2P/j/wgAAAD+/yIAGQD4/+z/1f+d/23/Wv84/xn/Cf8F/yf/Zf+9/wQAQACrAA4BVgGVAb0BpAF5AXEBKwGyAFUAAAB6/xr/8P6z/oz+iv6e/rr+8v5L/5D/wv8QAF4AdwCJAMIAwgCyANcAvQCSAK8AoABaAEoAQwAeABgAJwAIAOH/7P/y/+j/6//l/+z/5//R/9j/yf+c/4b/b/9U/1P/Vf9G/zv/X/+Q/7//DQBKAHsAwQD2ABQBLAE1ASAB7ACtAHQAGAC6/4L/Lf/f/s3+x/62/sf+/P4c/0b/mP/a/wIAPABtAHAAeQCaAKkArgCkAJMAfQBnAHMAWwAjAA4ACQD8//L/6//E/7D/yf+2/5L/qP++/7b/tP+y/7H/vv+6/77/xf+2/7z/yv/c//7/HwA6AGEAjwCgAKkAzQDLAL4AxwCkAHUAXAAmAOT/s/9+/0z/H/8H/wD/Ff8o/y//Xv+b/8z/AAA0AGEAkwC8ANEA3gDpANsAvgCnAHgAWABGABoA9//g/87/wv+8/73/sP/B/9T/zv/k//H/9v/0/97/0v/U/83/vf+8/8T/uP+6/8b/3f/+/xgAQwBjAHwAkwCvAMwAyADCALoAlQBdADgAEQDP/43/Zf8//xT/Bf8Q/xH/Gv8//4D/v//o/w0AMQBgAIcAlgCfAKoApQCFAGYAPwAiACAABwDb/87/zf/F/8f/0P/K/8P/1v/g/+H/3//m/+z/3f/h/+T/zf/L/9H/zv/B/8b/5v/z/woAJAAhADsAWgBYAF8AZwBYADsAMAA6ABgA6v/d/8v/sf+p/6D/mf+V/53/wP/N/9//9P/0/xcAMgApACkAPABBADIAOgA6ABoAGAAeAAwAAwANAA0ABwALABoAJAAaACEAKgAdABkAIwAXAP3/AgAEAO3/4f/Y/77/uP/I/8P/tf/H/97/8v8EABAAKQBBAF4AYgBaAGkAYABSAEkALgAVAPH/3v/g/7//pv+t/6r/pf+5/9X/3P/d//n/DQAgAD0APgA0ADYAOAAvACUAIAASAAMA+f/6/+T/z//e/+H/4f/q//n/DQAbACAAFQASACgAMwAnACQAJQAHAOr/6//q/8f/qf+y/6j/lf+d/7H/wf/P//T/FwAoADcARgBTAGQAXABCAD4AOwAbAPz/3f/K/7b/mP+Y/5//nv+m/6//wP/Z//v/EAAVADgAUgBGAEwATgA9AEAAPwA0ACcADAD9//X/4P/Z/9T/yP/Q/9f/1//c/+j/+/8GABYAMABAAEYAQgA4AD8APQAiABkAEwDx/8//w//I/7T/tv/c/9n/0v/n/w0AGwAPACIAQAA/ADgAOAAsABYACgAAAPX/4//b/9L/0P/b/9j/2//y/wcACgAMABIAGgAiACkAJAAbABoAFAAIAAUACAD7/+r/4v/w/+z/2v/q//b/6f/y/w4AFAANABYAMAA5AC0ALgAtACYAHAAFAO//1f/I/8T/uP+5/7//y//h/+7///8dACIAHQAqADIAJwASABYAFgDz/+r/8f/Q/7v/yP/V/9H/4v/+//7/CAAeACgAGQAUABoAEAAGAP3/9//l/9z/4v/i/+X/8f/2//z/AAD9/xAAIAAWABoAJQAfAAcA+f8LAAoA9P/4//j/8P/u/+X/3//d/+f/6f/i//P/+f/x//z/FQAkADcAQgBAAEUASwA0AAgAAAADAOj/v/+6/7j/m/+O/6f/wP/J/+H/BgAkADYASwBnAHIAdgB+AHoAVAAqACIA/v/D/7j/uf+b/5f/tf+z/7H/4v8IAA0AJwBRAFcARQBNAE4ANgArADYAIADy/+f/3v/H/7b/tf+7/7X/vv/T/+H/7P8AABwAKAAxAEcAVgBMADUAMgAzACQACADd/77/vP+p/37/f/+b/6n/vP/U//T/GAA5AFwAcQB3AHoAfwB0AE8ALwAeAAgA1P+2/8b/s/+Q/5b/pf+x/8r/3v/w/wUALgBGADgASABlAFIAPgBBADAACwD///n/3f/C/6j/mv+a/5z/rv/H/87/1//o/wAAFgAQABwAMQAuACsAMwAnAAgA9//3//L/3//U/9X/3f/k/+f/6P/1/wgAFgAdACUAJQAwADMAJgAnAC8AGAD7//j/8P/t/+X/4v/p/+3/AAACAPP/BQAYAA8ACwAIAAYAEwAhABoAEAAhACUAEAAWACEADgD9//7////9///////w/+v///8AAPT/9v/3//n//v8AAP//+v/u//P//P/2/+z/9/8PAAUA+v8dABwA9/8MACcACwD4/wwABwDl/+v/AADl/8v/6/8DAPP/7/8AAAEABQAMAAYA//8GABUAIgApACIALgA4AB8AEgAWAAYA6//i//L/4P/R/+j/z/+s/9X/7f/M/8T/9f8XAAEACAA3ACwADQAjACIACAAHAP//7v/l/+L/4P/d/9r/4P/j/+T/8P/7//3/AQARABcADAALACsALgACAAYAIAADAOr//v/3/8z/yv/p/+z/4v/7/xAADAAiADgALQAuADkANgAlAA8A///8/+v/3P/o/+f/2f/p/wkADAD4/w0AOwAvACQATABPAC8AOgBDABoA9v/0/9//rv+o/7n/qv+j/7j/zP/d/+v/+f8FAA4ALgBUAFsATgBUAG0AVAAiAB8AGQDe/7//1f+//47/ov/E/67/sP/S/9n/2P/2/xwALgA2AEUAVgBXAFcAUwA+ACsAGgABAOX/0//N/8X/uP+7/9r/2P/L/wMAJADt/+z/NQApAPj/HQBIACUABQAnACUA9//3/wEA4//L/9z/3//D/9H/6P/O/83/9v/4/9//9/8gABYABwAvAEsAKgAVADUAOgD6//L/KgARAOH/+//9/8r/tf/C/7r/r//X/+z/4v/5/xwAGQALACgAMwAeACQAPgA7ACkANAA0ABcA+f/p/+T/2//O/9D/4//Y/8X/zv/X/83/vf/K/+j/9v8GACUAKwAiADQAUwBTAEsAVABOAC0AHAARAPP/3P/L/7z/v/+9/6P/rP/R/9v/3v8AACcALQBGAG8AbQBXAGkAegBWADgANAAZAAAA7//X/8L/sv+z/6//n/+x/8n/tv/G/wAAGQAWACIAPgBOADwAOABTAEAAGwAaABkA/f/i/9n/yP+s/6P/tf+8/8P/3P/o//r/AwD8/wQAFgAYABUAGgAmAC0AIQAbACQAFAD7//b/7v/m/+H/7//9//L/7v/3/wAA+P/o//b/BwD+//P//f8MAP7/7P/8//P/1//m/wIACQAWACAAEgALACEAJQARABoAJgAUAPr//P/7/8j/tf/f/+P/w//H/+X/4//D/8z/9f/0//D/CwAzAEQAOgBNAGMAQgAoAEgAQQAdACsANAAMAPP/8f/h/7H/kP+b/5v/of/a//X/3f/u/w4ACAAGAB0ARgBWAFwAfQCIAHAAVABCACUABQD1/+b/0//D/83/vv+X/5X/rP+x/6D/rP/m/xAAFQAvAF4AXQBKAFgAXQBHAEIAQgArABwAHgABANL/xv/A/5b/eP+W/6D/e/+W/9v/1v/A//f/KAASABAARgBXAEYAUwBmAGEAUgBEADIAIgALAPf/6v/S/7f/tP+n/5v/nf+e/7D/t//R/wAAEwAtAFwAZQBfAIkAigBfAF4AYQA9AAgA9P/v/8j/pf+3/73/lv+P/6T/qf+s/7D/x//s/wsAHwAxAEgAWQBTAE4AZgBiAEUAUABSADUAHwAHAOb/xf+j/4f/ev9+/4j/jf+f/7j/vv/O//L/DAARACkAVQBiAF4AZgBnAFIASwBPADUAHwAnACIAAgDz/+r/zP+l/5j/nP+E/3j/of+4/7P/0v/4/wwAIgA3AFQAcgB0AH8AngCWAHAAXABLACYA+P/Y/83/s/+o/7n/p/+S/7D/uP+T/6H/1f/j/+f/EwBOAGMAXQB5AIwAcwB2AHwAWwBHAEsAKgDx/9n/0P+b/1T/UP9v/2n/bf+g/87/6P8EABwALwBCAE4AUwBbAGgAZQBNAEsATAAkAAAA6P/O/8P/vP+v/7D/r/+p/6j/q/+2/7T/tP/k/wYADAAzAFQAWwBpAG8AaQBbAEIAOAAbAO7/6v/h/7f/qf+y/6b/pv+0/7v/0//m/+3/CQAiADAAPgA9AEoAWQBGADEAJgAfABcA/f/q//f/9f/W/9D/3//K/63/uP/P/9D/2v8GACsALgA8AEcALwAtADYAKQAqACsAHgAhABgA+v/q/9H/vf/F/7z/v//c/+v/AQAZABsAEwAPAAgABwANAA0AFQAhACEAHwAYAA8ACwAEAAUABAD8/wAABAD3/+L/3//p/9z/2f/3/wAA+/8QACcALgAsABwAIQAwACcAFgAPAAYA+P/r/9v/zv/I/8f/0v/Y/+P/9v/3//n/BwAGAPj/+P8GABQAEwAHABEAHAAQAAkADAAFAAQAEgAdABkADgADAPz/7//b/9L/yf/N/+z/9v/z/wEAEgARAAwAEQARABUAEAATACsAHwAGAAYA///z/+j/2f/Z/+b/8v/6//f/8//7//z/6v/k//P/+P/8/wIABQAJAAkABwAKAAoADQAXAA8ABwAQABIABQDw/+f/6f/p/+r/7v/3//7/AwAEAAIABQAJAAwACQAFAAoABwD1//X//f/y/+7/9f8BAAoACgAWABwADgAHAAoAAQD5//z//v8BAAQACAAHAP//+f///////f8BAP7/AAAMAAkAAwABAPz//v8AAPX//P8OAA4ADwAQABAADQACAAAA///4/+//8//y//j/BAABAAEACQAMAA4ACAADAAsACwABAP7/8v/m/+X/5f/l/+v/9P/4/wAAAAADAAMA/f8EAAkACQAOABIADgAJAAkABAAAAPz//P8AAAQACwAHAAMACAABAPn/9P/u//H/8//t//D/8v/1//r/+//5////CQAOABMADAAFAAoABAD8//7//v/3//T/9//4//3/AAD///f/9f/4//f/8f/z//z//P/1//j//v/+/wEACwAOAAwADQAOAA0ACwADAAAABAAEAP3/8f/t//P//P/8//7/AAAAAAcACAAJAAwAAQD//wMA/f/3//v/AAD///z/AwAIAA4AEgARAA8ADAANAAoACAAAAP7/AADy//T//f/7//r//v8GAAYABAAIAAwACwAJAAsACgAAAAMAAgD+/wQABwAGAAUABQABAP7//v/5//z//v/4/wAACQALAAIA/P8BAAIA+v/y//P/9v/2//7/AAD3//r/AAAAAP///f/7//z/AwAEAAEAAQAAAAEAAgABAP7/+P/2/wAAAQD5//b/8//1//b/8//v/+//9v/8//7/+//9/wUABwAJAAoACAAJAAsADAAGAAUAAwD7//X/8v/4//v/+P/7//3//v8AAAEAAAD9//7//////wIAAQADAAUAAwAGAAMA/P/7//7//v/4//z//f/8/wAA/f/6//z/AQAFAAYACgAJAAYACwAHAAEAAAD///7/+f/5//3//v/+/wAAAgABAAQAAQABAAIA+//4////AgADAAYACAAKAAoADAALAAMAAgAAAP//AQABAAYACAAGAAQA/v/8//3//v/+//z/AAAHAAUAAgACAAQAAgABAAMAAwACAAMABgAEAAQAAgD9//z/+v/5//j/9P/5////AwADAAAA/////wAAAAAAAP7/+v/7/wAAAQAAAAAAAgAAAP//AAAAAAAAAAAAAP///f////3/9v/5/wAAAAD6//r//f8AAAQACAADAAEAAAAAAAAA/f/8//3//v/+//3///////r/+f/7//n/9v/7/wAAAQADAAQAAQAAAP//+//5//3//v///wYABwADAAEAAQAAAP7//v/8////AwAFAAEAAAABAAIAAgABAP//AAADAAUABgAGAAMAAAAAAAIAAAAFAAkABwAHAAUAAQD6//j//f/+/wAAAgADAAQABAACAAEAAwABAAMAAwABAAMAAgAEAAIAAAAAAAAAAAACAAAAAAAAAAMABwAEAAEAAAAAAAEAAQACAP//+f/+/////f8AAAMAAwAAAAAAAgAAAP///f/7//v/+v/9/wEABQAFAAcABwACAAMAAAD9//3///8DAAAA/v8BAAAA//8BAAAA/v8AAAAAAAAAAAUACQAFAAAA/P/6//z/+//5//j/+v/9////AAD///7/+//8//7//v////7/AQADAAIAAQAAAAAA///+//3/+v/7//z//f////r/9v/3//z//v/9/wAA/////wEA///+////AAABAP///f///wAAAAABAP///P/9//7//v8AAAAA//8BAAYABQACAAAAAAAAAAAAAgABAAEAAwACAAQACAAFAAIAAgD/////AQABAAIAAwAFAAcABwAFAAIAAgAEAAQAAAAAAAQABQADAAIAAwACAP7/+//8//z///////7/BAADAAAAAAACAAAA/f///wIABwADAAAAAAD9//3/AAAAAAAABAABAAAAAwAEAAMAAgD+//3//f/6//z//v/+//7///8AAAEAAAAAAP7//v8AAAAA///8//3//v/8//7////+//7/+/8AAAIABAACAPz//f/9//z//f/9//3/AAD///7/AAD//wAAAAAAAAAAAAABAAAA/v/9//v//P/+//v/+//+/wAA/////wEAAQD+//7/AAAAAP7/AAD///z//v8DAAMA//8AAP7//f8AAAQABAD//wAABAAFAAIA/v8AAAMAAgACAAUABgAFAAMAAwACAAEAAAABAP//+//7/wAABwAGAAEAAAAAAAIAAwAAAP3/AAAGAAgABAAAAP//AAAAAAAAAAD/////AAAAAAIAAQD+//7/AQADAAAA/f/+/wMAAQD//wAAAAACAAMAAgABAAIAAgAFAAYABAABAAAAAQADAAQAAAD9//3//v/9//v//P/+/wAAAQAAAAAAAAD+//7/AAD+//z//P/+/wAA/v/8//z/AAABAAAAAgABAAAAAAABAAAA/v////z//f8BAAEAAAD/////AAADAAEAAAD///v/+////wAA///6//v//////wAAAgAAAP3////+//z/+//8//3///8AAP///v/9//n/+f/+/////f/8//7/AAD///7//v/+///////+/wAAAgACAAQABQAEAAQAAwAFAAIAAgAEAAEAAwAEAAIAAwABAAAAAAD///7//v/+/////////wEABQAFAAQA/////wAAAAABAAAA/P/+/wAAAQABAAAAAAAAAAAAAwAFAAcABgAAAP7/AQACAAAAAAD///7/AQAAAAEAAAD//wAAAQAEAAUAAgABAAIAAAAAAAMAAQACAAMAAgAAAP//AAD9//7/AAAAAP///P///wAA//////3//v////3//v///wAAAAAAAP//AAABAAEA///9//7/AAABAAEAAAAAAAAA+//8//r/+f/8//z///8AAP7/AAAAAAAAAAD7//r/AAACAAEA///+/wAAAAAAAAEA///8//z//v8BAAEAAAACAAEAAgAFAAIAAAAAAAAAAgAAAP//AAABAAAA//8AAP///v8AAAMAAQD9/wAAAAD//////P/8/wAA/v/9////AAAAAAAAAQAEAAQAAgACAAIAAwACAAEAAwACAAAA/v/+/wIABwAFAAEAAAAAAAEABQAEAAMAAQABAAQABAAAAAAAAQABAAAAAQAAAAQAAwAAAAAA///+//3/+v/3//r//////wEAAQD9//z/AAAAAAAAAAAAAAQABgAEAAMAAgACAAIAAAD///7/+//8//3/+//9//7//f/+/////////wAAAgABAP7//f///wAAAAD///3/+////wAA/f/7//7///8AAAAAAAABAAEAAQD///v//f//////AAD+//7///8BAAMAAQAAAAMAAwAAAAAA/f/9////AAAAAAAA/P/7////AQACAAEAAgAFAAQAAQACAAAA/v8AAAAAAAD+//3/AAAAAP//AAD9////AgADAAIA/v///wEAAAAAAP7//P8AAP///v8AAAAAAgAEAAIA/v/6//r///8BAAIAAQD//wAAAQAAAP///v8AAAMAAwAEAAMAAAAAAAEAAQABAAEAAAABAAAAAAACAAMAAgADAAEAAAABAAAAAQABAP//AAAAAAAA/v/+/wAA/v///wEAAAABAAAA/v8AAAIAAgAFAAIA//////7/AAACAAAAAQAEAAQAAwAAAP7//P/5//n/+v/8/wAAAQABAP7//v/+/wAAAgAAAAEAAAD//wAAAAAAAAAAAAAAAAEAAwACAAAAAAAAAP7/AAAAAP7/+f/5//////8AAAAA/f/+//7/AAACAAEAAAABAAAAAgAAAAAAAwAAAPv//P8AAAEAAAABAAAAAAAAAAAAAQAAAAAAAgABAAAAAAD9//z/+v/7/wAAAAAAAAMAAwAAAP7//v8AAAIAAgABAP7/AAADAAMAAwACAAQABQACAAEAAAAAAAMAAQAAAP/////+//v/+//7//z///8CAAUABQAGAAUAAwAEAAQAAwAAAAAAAQACAAAAAAAAAAEAAwADAAQAAgAAAAAA/P/7//3/AAACAAQAAQD+//7///8BAAQAAgAAAAAAAAAAAAAA//////7///8AAP///P/8//v/+v/7//3///8BAP//+//+/wIABAABAAEAAwACAAEA/f/8//3///8CAAMAAwAAAP//AAD+//z///8AAAAAAgAAAP///P/4//r//v/+////AAACAAMAAQD///3//P8AAAQAAQD7//3/AAADAAMAAAD9//3///8CAAAA/P8AAAMAAwACAP///P/+/wAAAAD///////8AAAEAAAD//wAAAAAAAAMAAwADAAUABAACAAAA/f/6//r//v///wAAAwAFAAMAAgAAAP///v/+/wAAAQAAAAEAAAD+////AAAAAAEAAQAAAAIABAAEAAQAAgAAAAAAAAACAAMAAAAAAAAAAQACAAIAAwACAP//AAACAP//AAABAP//AQD9//f/+/8AAAIAAgAAAAAAAQAAAP7//f/7//3//////wAAAQACAAMAAgAAAP////8AAAAA//8AAAAAAQAFAAUA///9//7/AAADAAIA//8AAAEAAQAAAP3///8AAAAAAAD8//3/AQACAP//+v/4//z/AAAAAP////8AAAIAAwAAAPz//f///wEAAAD6//j//f8AAAAAAAD8//z/AwAFAAIAAAD8//3/AAABAAAA//8AAAMABAACAAEAAQAEAAcAAwACAAYABAADAAIAAgAAAAAA/v/8//7/AAACAAQABQAFAAQAAAD///7///8AAP///v////7//f/8//v//P/9/wAAAQAAAP7//v8AAP//////////AQABAAAA/////wIABAAFAAQAAgAAAAAAAAAAAAAAAAAAAAIAAAD+//7//P///wIAAwACAAAA//8CAAIAAAABAAEA/////wEAAAAAAAAAAAAAAAAA///+////AAD9//7/AQAAAAMAAwAAAAEAAwABAAIAAgACAAIA///9//7///8CAAEA/v8AAAIAAgACAAMAAgAAAP///f///wAA/v/9//7////9//3/+//7//v//P/9//z//f/+//7////+//r/9v/4//r//P/9//z///8CAAMAAgD///7/AQABAAMAAgD//wAAAAD+//7/AAAAAAQABAADAAUABQAGAAcAAwABAAAAAwADAP///////wEAAwABAAAAAQD///3//v8AAAAAAAAAAAAA/v/5//b/9//7//7/AAACAAAA/v/5//r///8BAAQABAAEAAMAAAD+/wEAAQAAAAIAAQD+//z/AAACAAIAAQAAAAAAAAD///z//f8BAAMABQAGAAAA/v///////v8CAAUAAgADAAEA/P/8//3/AAADAAYABgADAAEAAAAAAAAAAQAFAAcABwACAP7//P///////P/7//7/AgADAAEAAAAAAAAAAgABAAEAAAD9/wAAAAD9//3/AAD///////8AAAEAAgAAAAAA/v/8////AAAAAP3//v8AAAEAAQABAP3//f8AAP///f/9/wAABQAEAAIAAQD9//r/+P/6//7/AAACAAMAAQAAAP//AAAAAAAAAgAAAP7////+/wAAAgACAAEAAQD9//r/+//5//7/AQAEAAcAAgAAAP7/+//9////AwAFAAAA/v////3//P8AAAMABgAMAAcAAgABAPz//f8AAAIABQADAAAAAAD+////AQAEAAcABwAHAAAA+P/3//v/AgACAAAAAgACAP//+P/4//3/AgAFAAIAAAD///3//f///wAA/f/9/wAAAQAEAAMABQAFAAMAAQAAAAIAAAD//wQABQAFAAAA/v///wAAAAACAAcACAAJAAUA/P/5//j//f8BAAIABgAGAAQAAAD3//b/9//8/wMABgAEAAAA///9//z/+v/9/wAAAAABAAAA//8BAAAA/v/7//v//v8BAAUABAAAAAQABgACAAAAAQAAAAEAAgAAAP7//v8DAAAA+f/8//3/AAAFAAMAAgD///z//P/5//j//f8BAAIA///8//v/+//7////AAD//wAAAAD6//v/+//+/wQABQABAPr/+v/9//z/AAAFAAgACQADAPr/9v/8/wAAAAABAAIAAAD7//r/+f/6/wEABwAHAAIA/P/8//////8BAAUABAAAAPn/9v/6/wMACQAEAAIABQABAP3////+/wAABAAGAAYAAgAAAP7/AAAEAAQABAAEAAQABwABAP7/AAD7//f/+P/1//P/8f/y//f//P/7//r//P/+/wEACgATAB0AIwAjACEAGwASABEAEwAQAAkAAQD5//D/4v/Y/9X/1v/c/+H/3v/Y/8//y//F/77/vv/A/8D/yP/b//P/EwAwAEYAUwBSAEoAOgAcAPn/4v/Y/9D/0f/c/+z/AQAVACMALQAtACcAIgAZAA8AFAAqAEwAbACEAJkAqQChAIsAYwAqAPn/wf+J/1n/Lf8d/yr/O/9a/4T/r//o/x0ARQBmAH0AiACIAHUASQAUAM//if9S/x//EP8g/z3/ff/O/yIAbACgAMIAtAB+AEUADgDS/6L/sf/y/0QApwAWAWkBhQF5AUEByAAjAIX/Cv+0/pT+wP4p/6z/IQCTAOgAyABjAPr/cf/n/o/+q/5A/+3/zADFAUQCFgIoAZz/aP2y+qn4fPfr9hj4Cvv7/qkDRQiHDKIPRxAdDzUMLgdoAX37IvZ78mrww/CZ8233Y/ziAWQGswk5C/QKZwlHBqUCif+g/IP6ivlV+aP5vvmv+Zn5uPhs9372D/aU9hj4zvr5/l8DgQeNC0cOCQ8SDoALxwcrA3r+5Ppl+CD3t/fx+f/8NgC8AxMHCwkPCoYK8QmvCBEHsgXcBMQDXQMBBE0EdgRmBGoDcwHG/WX4DPK46hLjRdw91ynVmNbk2zTlpPHs/4EO3htOJkAscC3HKdYhBxdxCk/+dfQh7aTpX+rv7fnzh/soAzwKmg9RE5sVpRVoFIcSpw+QDGQJbQYyBAECBwDb/mr9RPum+PP0OfDC6frhkNu81frQ+9Ce1Qreduo1+vALRxw5KdIyhDbFMgoqzR1UDoH+X/Ez6KbjXeOb54jvGvieAHEI5Q03EYgSUhKmETAQQQ4sDdILIgmQBsMDdwB3/QX7gfp2+3v9DAGHBM0GxgYbA8H7LfES5BzWTMq9wojAQcWx0SHkuvnKEH0m4jYoQOxBtDz0MF0glg+VAFrzvOqx5wroqOoH7xn0OPhp+mD8Ev9HAeYDegg/DjYTaxY9GTMaWBbvENALvgSe/W34nfX+9Kj0q/Zx+4L+lwA/A9IELQUMBC0DDQSdAygDdgWUB6cIvAghB8MEl/yK7h/jcNUvw5C3jLJfsmm6Esm933T6PhLnKZ49TEZSR69CJTfEJjsVbQYF+xby2e3+7cXunPAO9Jj1XvY/+UH8jwAmByENrBNzGJYXKhaBD4b/s/Xd7bzgi9+q5VLuAADwDYcdHi/CMNIvzyyyG0ANFwDs8F/taesi7sv++wnJEzchICLvHucSrPaz4cjJ9aetmAmTa5H4ome6Odnn/5obnDeRT4RR3E7UR9c0jyLKDpr+wPei7Wzpqu5B7bXsM/G88TzzW/Wv99wAWgjcDGQWCxwCHOobiRXBC9cEQPsy8u7v3O5g76n1efw9AeUGMwy0DngPpA9WDxIPNQ69DLMLlwmIBpkDOgD//ob+8f3aAZAEoQMPA6H7+O6H4TzNxLqXr9qmH6p0uC3LQugiB5ogFziHRUdI/UTaOKIpoxr+CnwBJPx896b4uvoH+tv7Gfti9xj40PZs9oX9Hv8tAc4Lzwy9CnMPvwxLCi4MmQmuDA4RbRAOFb8WCxO4EfULAgWGAIz4QfSR9VD16/cSAL8ILRDsFacZgRqKEWf+puyJ13e5waQ7mrKSFJtErmrFSueAB2ki3DvQRxdLw0mlPXExkySLE+cKgwWr/FD4e/Uz8QPuyOk86YTsQ+7G9hcDZgkqEjsYLBWzFDQOcwHw/iL7YffW/rQDgwozFakWqxltGvAQAQ3XBhr8l/sL+YX23v3SAHQELQ1EEHUTKhQBEAsM6/va6HrcYsNIrVqmjpsHnTiuVb3f2ID5KhGYLO0+mkT6SnJEBjhEMSchhhLDDekDb/ti+IDz1/A17hzrc+0t8ErzW/p6AFgGWQuQC6gMWQ3LCNMHBwrmCCMLSg8MEKAReRHEDhMNuQhEBLgDpwJRAmcFygdaCScNPBBtEccSuhANDacHCfYm4inTGbmZoZ2Zh5ABkq2lsLmc1er4ZRQDL19DB0qITvxJ6jumMtokNRQLDXMDB/nR9QPwwut26wfqnO6F87j33AIWBxkIHQ90C4IFBwh/BGoDqgr7DloWIR7RH2Ui0x69FCsOfgPj+JD33PSN9c/+XgPXCOgR3RODFRMVWQ4mCpj7y+RV2YzEfKh3oXaaoJLaou61JcnS6eUE0B2kNVM9i0VwSHQ6LTaZMIgd3hgMFocIDAU0ASz3O/OM7RfpG+qv5/7qm/Mb9d36QAQ3BGYHfQ8bEB8T2hqaHcofQSFRHl8ZLBC2Bn4ATPgl9BL3rvgg/JsEngrNDRoThBXpEK8NAgdy8YTeItHKtdChbZ8qlmyYsa9MwFnW1vYvDEwhuzNpOc5BH0KtOo8+kDf8KSwssCI3EWAOdQOr81jwnOvW5wfqfOqQ7XfwdfC28g3zhvQI+4YB3goOFmcfmSh7LGcrPCjiHmoVlA36Amn+v/2V+rr9LAKoAWsFFQqhCtAK2wmQCMb+JOsV3znNk6+Upfuhf5ZSoji4kcU/3yn5jwpiHtYnVi7XNi8y0zN9OrUw9i6WMgckjxpKFgAGC/s49V7srOkY57LkR+gw56PnR+8o8ff1JQMiC0kU+iCdJv0q+izWJmMhRxo3D3UJxQTD/p/9MP0z/MX9av6F/9sCGwO2AdIB2fqr6xbhjNWzwKO1erVJrwyzlcWpz+baAvEF/q8F8RIrG3wf9CV8KzAwqjA6Lx4xVCukIJ8dGRazCScHSwOZ+VH3jvXS7ajpUuiC5fTlSut08nD6CQUPEUMZgh4EJGMlwiHIHyAeQxhVFKMUxxAeCksHowNV/VD6sfuR/dv8av+UAyn4/uaL3o7Izaz2prOgSJgaqey92crw4sn6dwk+F58h0SpKMOowQjmJPNMzhzQPMh0hrxm5FN4GSAMYBb4BcALyAmf+4veO7g3mwN0F17HasuGK6Rv7bQskFYch2ClIKr0qQSqFJ5kkVCICIXcbNBPnDsAHRf10+kn6Z/Zm9nD5PPTQ5TLZpMwhtp+lXKXToS6jObknzL/XX+1FADcJVRS+IMsp8S+oN5lBlUGXO/U6gDEGIYQbShPEBd4EiwNI+8f5nfTQ6FvjMN3j1mbZj92d5aP0PwDRCgwWrRoYHjshIiCuIVUj2SGcJC0lAh+hG1QXPQ+RCq8GKAP5ABP85fgx8TTdkc5ewmqro6Etpbqf26YVvjHIH9Pf6LvzwfycDrEb8ia7NKs/jkjYSVlFrkK/OG0sWCkuIacVfxXGEGgDnP269BLjrtpi14zPO9B82bTfOujn9S3/UQSJDDEV3hgpHdol+Ch7J8kr5itlIjgePBwfFDIRXhIjDwMNPwp7Axf7Meqe1gDK7bewpnykBaDhmwupxrNGuajLBN2j6SP/JhMtIW0wlDsgQllEmUCmPkc7MTQ4NE0zPiqWJtIh8BAsA0L6rOoF39jdfNvh2LHdWOPx5InpOPLW97b8hAeFEeoV7h3eJhondieXKyooDCLfIQ4e6RVeE9MRuAq9A+b/7PcL6IjZIs+pvWCtSqthpnuecKjws6i1ZsT62OfiQ/MaC0kaNidON1BCaEbeRzlJukaLPyc9JTy7MtkrdCiAGmsMPATI81Lk5t6+1TrOptBW0ebSANxl5DjsYfefAiENORZgHzIo8iqDLQQztjDPK4ksMih4IKMedxpAEtwLqQPo+C3rFdpqzHW+ya2lp+al0p5zouqsl6+buOfI4tK14LP1UwY2Fr8n7DU5QdNIMU5oUQRP7UxfS1pCvjjdMdkjNhVSDI//RfJf68rked0N2YHWXdU/1ijaJuHK5w/wjPuiA4MKsRM+GO8agCEdJDMjfSbSJ98kKyS7IgUcHhSADSQBXe7S3znSHb94tBeyzaiopfutP65lr6y8csXOzIrfj/HQ/i4QkiFiLvo3U0FaSs1MQk6KU5pPu0XgQa42dyQcHJERJgAR+GLxZ+Rc3czZE9M+0T3UdddI3dDkyu0i95D+qgeuEKQVJxx8I9wkESeRK1kpmSfrKSsk/BpkFmEIjvIc5hXXxsAVuOezoKYdpCOqfqX0ple0dbqMw6TXKucz9aQIfxlDJxA0AD+5SeNPkFP0Wk1bXVU6VYVOwD4sNjkqnRQCB1T7jOi+3BbWlsyryD7Jz8gBzJzRq9eh4Ebp9fEP/V0GWg8YGkEhUyciL00ytjPvNhUzdytdJ3oaVQaE+pPradRYySnC4q/apySqEKG9nc+oAKwBsEHCC9F523XuyACEDWocaCuuN9dB8UrtVDlZjlcjWXBWGkt9RI093yy5H+YWnQbX9x7wKeWT2qzW79LNzl/Ps9L11Urb+OKo6mHyK/taBMsLdxJ5GvkgbCUtK5suTCwMKlUkSRXOCBD/AO1Y3rrXPMmJuy+6bLSrrPmxJ7dBt9PA1c301Fjg8++H+8MGBxRpIMoqqjScP/ZH9EqZTWtQekwoRrZCUjnLK7wjeBq3DDgEHv5n83PrkOe54Inbitu32pbamd7K4ijnb+7a9Qb8bgNXC6sRqBd+Hh4jWCMWI78gdhZRDKIGLvqp6xDmL9xFzIHILccBvQW878K+wLDB5c2/1MrYGeas8iD5tAMbEfYZlCI4LRE1JDp0PqRBkUPlQmA/Sjv1NI0qwyErGzsRDgiyAlj7vPI57onqP+VQ48TjkOOD5Rfqfu7P8pj4bP2pASkIoQ3KEaYYwx2fHB0dUx3cEwQM4wm7/oLw2OsT4z/TOc4yzVrEF8EuxiLGAcauzv7VndlY41LuhfSU/UwJ+hBnGVQktCrSL5s3pzsoPE4+mD6ZOng3rDT+LS0mkB+FF7MOyQcGAfH5CPVG8ajtEezj60br7utW7gnwKfL09WH5ZPwoAMgDKgchC28NzA0NDmILlgWgAUX+hPe/8BfsoOW13jnbctg31cnUSdZP1y7aZN/V47XoTO/89NT5FAA7B7AN3hMdGkofySNfKPMrMC5HL34u9iuuKFYkUB/QGtQVmQ+OCewDkv0R+OP0qfLH8HPwifFJ8iDzCPUj92j4H/kw+mb7i/wP/qj/ggAsATwCfQK2AuEDwwMxAsgA+v6l/Mv6/Ph19iH0V/L37//t3+0w7k7uTe/S8AfygvOh9cz3lPk++4f9HgClAp8FVAgRCpcLrQwvDXEOvg+qD3YPjA+IDhkN3Qu+CUEHcgUsBGYDQAOWA2MEyAUtBysITQmjCvsL7wzKDAUMbwt2CvYIqwdrBi4FaATTAy0D8AIGA+IC6wJGAyoDcAK4AQEBmf+Z/ZL7GvkQ9mXz9vAS7t3r7OoN6pDpIerK6lXrmuxT7srvc/Fa81D1qvcq+pL87/5TASsD/AOPBCEFMAXZBOYEdQUHBtkGGwhwCbEK2AvZDBIOcg9WEPcQchGGEXARNBGjEMEP7g4/DqINWw1VDXoNew0SDXwMuAvLCsQJzQgLCCsHGwbTBDYDewGS/139jPuA+sn5Q/nV+IP4G/j+9mX1tfNz8fHuGu2W6xrqDOnD6DbpBOr66rXrTOxK7Xrue++/8GzyFPQd9qz47foE/YH/5wFBBOkGXQlkC/cMHA6zDrwOgg6zDa4Mlws3CmMJNAkeCS8JignuCV8KKgsSDNYMRw0ADZcMQAxLCzIK4QjmBs4E3wJBASEAd//h/hn+V/2B/G37W/pE+cn3ZvaJ9df0i/Sf9H/0G/S580zzjvLl8YDxBfGu8J/wnfDT8HzxjfLB8y714fZt+Cb6BvxP/R/+4/6X/yEAsQCcAZYCLwPbA8YEbwXkBcIG5QcOCXoK6wtIDZQOgQ8dEGAQMhBrD/0NmwxAC4sJIgjtBmEFDwQrA0ICPwFZAJn/vf4a/rn9JP2R/CX8jPvY+jv6ePnT+K34ffj094T3Svfz9lz2+PUk9lb2jfZ093v4N/kn+gP7oPs6/Lb8BP0p/WP9qf3j/TP+Mf7//Tf+ov4P/9X/EwE5AlgD9AR5BqsH2QiKCZQJewlFCdoIXgjGB/UGDwZIBYcEmAPbAoIC+wFkAQsBvgBeAP3/KAB0AGEArAARAdAALwCP/8T++P1i/aL8DvwC/OP7qvuG+xr7avqr+R759vjn+CP5qfny+S/6avp++q365Poo++D75fz4/fv+2v/AAFUBvQFYAsQCSANJBGEFMQbDBiMHBgeMBv0FeQU4BfcEmAQoBGkDeAJJAfz/FP95/iz+YP75/u//9QCtATkCWgITAhECHwIDAgUCFwIAAqMBQAHkAFEAdf/Y/qD+B/5S/Qj9zvyF/Ez8JvzA+xj7xfrH+rf6rPq8+un6Mft8++77ePwK/bv9cv45/woApwAOAXIB3AE4AnACiwKhAqgCsQLlAukCcAISAuMBUgGTAOf/W//W/mf+qf4i/0X/xv+PAP0ARwGUAaQBlgGmAckB5gHmAegBvAFIAf8ArQBEABUA2P9g/+/+iv7E/e38dPwe/CX8jvz//GP9z/0g/iH+G/48/mn+vv5M/6z/1v8RAD0ALQAAADEAfQC4ACEBWAFSAS8BEQHOAHYAdQBmACgA7v/f/8L/Wv8v/xP/8f4u/3H/gv+5/yYAXQCtAFABuQEAAjsCSQL6AXYBKQHCAEIA+f/E/5n/fv9L/9H+kf6Y/nn+mP7i/v/+HP9K/2D/Of8d/zP/Tv+A/+P/OwA9ADMARgAaAPz/FQAbAEoAlADKAP0A9ADUAJwAOAAAAM3/l/+K/37/gv+M/4X/cf9S/2T/jP+e/5//pP8BAIsA5wAuAY8B6QEDAg4CBALoAeEBtgGFAVUBCgG0ADYAxf+c/5f/tv/w/+n/vf+y/5D/df9g/0//hP+7/9D/0v+z/6X/yf/0/wUAHQAzADIAJQD9/+T/+v8XAEUAfQCXAIoASgD1/7T/W/8J/w7/Gv8M//3+y/6T/k3+HP4v/kv+kf4G/27/s//H/+b//P///wYAFQBbAJcAkwBwAFAARQARANH/pf+D/5n/z//5//3/9/8TAC8AOQAlAAsAIABAACwACwAGAPf/+P8aAB0AJQBzAMwA+QARAR8BAwG4AJAAhQBPADMALwALAPP/z/+Q/2z/dP9p/1T/Z/94/2X/RP9B/2D/gP+r/9b/7f8bAD4AKAAqABYA7P8CACwASgA4AD8AYAA1AC0ALwATABMAEQAbAB4AGgAoABIACgA5AFQAegCqAK0ArgC0AMUAtwCZALQA4AAUARgBDgETAQYBLwErAesAwACMADQAoP89/zP/Rv9t/5j/vf+v/5v/i/95/7f/AAA5AI8A3wAAAcoAiQBbACQAAQDM/5j/g/9y/0n/8v7D/q3+k/6q/qz+sP7g/v3+8/7f/u7+3v65/t7+Hf9H/4f/xP/Z//j/AAD0//P/AwBNAIEAngDEAMUAwACmAG0ARwAyABEA7v/k/8z/sP9+/z7/PP8z/x//P/9f/4b/2f8eAEsAngABAUIBbAGCAakBwgG+AbMBXQEbAfoAmQBOABcA6f/b/9b/2P/C/6b/jv9e/yn/Df/2/vD+JP9b/4n/sf/q/ysARABwAJQAuwDwAPgA4gDYANsAvwC6ALoAiQB5AFUADADQ/4//b/9S/z7/OP/9/tn+6/7m/gn/V/93/7v/DQAjAEAAWABoAKcAAQE+AUoBcQGTAVYB8wCjAFIABwDZ/5j/XP9l/2L/Nf8o/0T/Nv8U/zH/Tf9Z/47/o/+h/9L/DAAhAEAAhQDMAAABLAFeAW4BjAGkAXEBMQHjAGsAAQCo/2L/Nv8N/9X+bf4z/jX+A/7j/TX+o/4E/1H/gv+2/+n/CgAEAAsAcwDQAAwBTAF1AYwBagE0AegAjwBXACcA5/+u/4j/Kv+0/mD+DP67/af92P0R/mX+2f4v/3n/2f8ZAEMAeQC8ABwBhwHhAR8CWQKIAnoCNgL3AcgBlQFKAeMAdQD4/1//wP4q/sf9kv2L/ZH9nv3z/UP+dP7Y/lL/ov8HAGMAlAD3AGsBxgEdAm8CpQKGAlsCQgLGAU8BBQGKAC0A7/9v//3+xP50/vn9qv2k/a792P0m/lP+if4G/3H/vP8qAJ8A9wBRAbsB9gEBAg0CEwICAtoBqgFtATcB+gCeAD4A6/+x/2//GP+w/iv+3P27/Y39pv0E/nf+Bv9k/5X/2P87ALwAGAFsAb8BFAJUAigC9gHMAVsB+QC1AG8AFgDH/6H/Pv/Y/pr+MP7e/bL9if19/av9AP5L/rz+Y//v/zYAhADnACsBiwHsAQ4CKwJLAiQC2wGYARwBnQBbADkAEwDH/2T/+/6j/lX+/v3G/bv95/0w/jr+Rv67/jP/iv/s/1AAuAApAZQB2gEiAlgCbQJUAgoC3gGYAUkB5QBOANP/Zv8f/8f+c/5c/hj+5f3y/fj9Gf5j/qT++v5r/83/DwBIAL0AOwGHAcwBBQJHAmoCSQI4AhwCygF7AQABbgDn/2j/BP+d/o/+i/5H/iX+AP4B/iP+Sf6Y/vX+X/+o/9n/FABxAN4AHAFwAc0BDwJIAkQCHwLdAX8BGAG8AJUAQADk/6n/LP+w/kr++/3D/af9xf3T/ez9Mv6Z/v7+Rv+w/x8AmAAMATABUQGpAeEB0QHVAdwBrQF9AU0BEgHVAJEAPADi/5X/9/4+/v/9zf2j/d79Jf5P/qD+Ev8o/zn/rv///y0AbgDrADYBRQF2AVsBiQG+AYUBdgF0AWUB+wCAADsA0v9q/y7/Af+r/lz+Jv70/fr9IP4t/mT+3/49/2v/rv8CADQAwQBMAT8BdQH3ASYCywGOAZ4BcgFJARsB1QB9AG8APgBh//P++f7F/mL+X/57/k7+gf6f/qT+8/5Q/7z/8v8+ALkA8AD4ACgBgwGxAcEBugFjAS0BJQGkAFwApgB1APf/7f/T/2z/Qv/z/p3+tv6c/nX+sf4I/xv/GP9b/5X/2v9RAJUAlgDxADoBDAEfASEB7QDgAMgAVAACAG8AGwAU/3L/LADU/03/Rv9Y/2z/bv/R/pH+af/3/6v/T/+X/zkASwDz//f/pgBMAewAOgBKAKcAWwBl/8r/1ADZ/7j//QBxANb/LwAGAAEAfP8+/7AAMAAv/9T/z/9PAEr/VP7KAJQBfv+D/S3+ZQL9/1300PwjDVn9vPWsCFYLjP9++qsCdgoaAGD3lwGuBwr+qPfn/nMFfPyY9xEDawU++sf7MQUlAan63P7FBgAAo/mgBK8Eav0V/ocC5gME/gj/MgMuAnQA1f+p/0b/YQJuADX34/9NCdL1lfaKCeH+DveG/5QDWwEN/ED+OAXEAlD7Of/0B1wCv/qGBFEIXv3B/YQHmATc+DkC6ge/93X9NQUq/BL9Sf/n/Qz/Kf0S/P//Wv9x+oH8GAJR/cH6tgMOAgz9cAG3BbwDrP6sA0oI8gAx/n8FCAY8/kL+GATUAQ/7uf+5Aab89P7y/RL/R/66/FgAPfvD/sj/i/vtAc3+QP6MAcD95v8dA+kAIv8EA5wDDADkArQDKAElAUsAtAAO/3L+xwQJA6/53ftqBgoBZvTmAEgJoPcX+xkH7PqJ+6oEK/+V+tP9Mge0AmP3VQCECXn+oPZQBSQFzfgUA0gC9vmeBOEGEP0k/owFagLp/4QBuP5WAUkA+vq7/WP+Pf6xAPL+Gv4CAm0BLf+dAWIAfgC0AAX9DADOAC/+mwD8AJX/CgCrAGf/XP4jAScBxvyC/2cCWP/4ACgAZf/iAW//nQA2AbH/WgENAJr+6v4nAXYBEf/mAFEAmf5vAMf/o/4Z/08BDwFb/Wz/uwLAAOz9u/5uAgsBE/0EAN0Cnf9W/qoAJQGK/4b/CAHFAIv/mwBkAkwAkP0n/7UAf/5m/vYAcwD//9f/rP+zAPIAawF///T+WAFUANj//P9MAPIBD/61/HAC3wCa/doAOQEF/4P/yf9i/jH/pv8w/hkAnwBS/1UCVgH3/bsBYgJw/gMAAQPMAE3+WgDZARsAIv0G/+MC8v6d/WQCqQEo/bv9+gAY/zv+ZwHJAEH+ov+dAcL+Hf2bAJgA8f1x/wECkgGV/24AzAFJAFMAVwHAACoABAAwALD/xf5P//0ADgHK/lj/gAF3/3X+eADf/zT+xP+XAE/+vv4sANcAwwAi/oz/EQJb/+n//AKVAI4ASgIH/4z/xwDw/o3/nv4Y/gYA3v+6/5QAuQCsAIYAZAE1AT7/+v+SACD/lv74/t8AcwCZ/lIBuAG4/5YBgwHQ/0P/cf/pAGoAtf///2v/zf5Y/gT/MAAiAAMAOQBT/4z/YACd/wgAIwAVAM0A5//fAFgCggAhAOEBWQFkAN4AXQCB/4j+7/2d/iz+Kv45/2L+if4QAWQAlP50ABsB5v/j/8MA9AH1ALz/kQDcAPz/yP9yAHAATgBMAD4Ad/+g/eX9w/4p/tv+8v/R/3v/FQAUASIBaAHwAaIBxgChAC4BLgDN/83/6/1k/kMAYAB4/xv/6v8D/3T+8f9EAIj/b/8NAHv/R/9FAQQCaQDx/0gBKQHVAFIBFgAT/yL/C/+c/w0ADAAy/zX+iP+l/9L+owAhASkAl//G/3QBHAHO/7QAPwD7/qIA5QD2/yYBgwDP/z8Ay//IAHQBGQBv/27/p/4u/57/m/6C/6b/0/7I/8f/e/+iAAkBQAB5ANwAUwAaAA4AdwCEAO7/GwBKABgAz/8GABcAdv9fAJwASP8LAEEAm/7A/pz/uf4L/in/HADi/z//JAAbAV7/PQD5ApYBBQG0AjUCzgBkAfMCsQHxAEgD9AISAUAB6wHcAMb+5f4K/yX+Nf6I/ej7fPtq/FX8FPzv/LL9Mv5a/gX/jP/Y/x8ADQCPAI8ARAHVAYkA3P8i/9f+E//l/tz/hv+n/gMA9f9PAOIC2QMEBQAGgQa7CCQJIAkQCysLzApDDJcMKQy2CwAKYAjvBWgDxQFm/qv6Nfhv9Z7xle5A7Zjr5el/6W7pjOlC6ufrKe7c7kvwu/NP9Tz3Lvub/Tb/ngKdBU0GXgdiCroNZw5UD5sR0w99DgQQHw/dDbEOxw5yDBELjwxhDT8MAw0kDy8Ong1VD6kOxAyRDD4M2glGB8wGgQVkAUz+Fvz997jzbvDu7O3oO+ZM40PfXtxx2WnY1Ni62DjbNd4w4N7jV+k572b18PuQAr0HfgsYEksXuhn8Hukgkx8sIIQfqh0XHAYb9BiuFAUShhDzDGcLmQwFC1wJCAvACm0JTAtnC08Kngo/CNIGmQaYA6gCNgGR+1f3ofPX7trqUeYx4kzdu9aA07/RL86QzmHS6tKy1Z7eMuOU5wr0oPs9AWoM1BEqFgYcGx/mI/wjLSNbJh0iCh/9ISQdJBnJGg0W9BEKEq4PZg+IEGQPRg+jDrkMbA3vDBoLAgwrCmgHagdMBH8BIwGR/HP37PNC7Xfmu+AB2qHT8sy0xkrDm8FnwYHFHsxz0svbeeah7xv6MATUDFkU7hizHcYhPCG8IL8hJSBhHpMeqh2bGwAaERk9F2YTtRFREjgQiw8CEnERRhGJE2cUihX8FS0WiReOFTkSGBArC0kFSwCW+uf0pO5d6WDkRtwd1GvOs8lBxHbBIcPgwtTC0MjGz2bWteHz7lL5vwHgCrUTKxjIGtMeDR/5GT8WNBUOEvwOcBDkEWoPvg4bEvkSBRPhFwkceBsfGsQZ2BhgFtIWiRpkGScWTRacFJoQ3Q4HDn4KaQUlAdr7LfXG7/Lqy+XQ3r3W4dE9y5/EWsXUxD/EcMn7y4vPMtl64Yrr5fhuAl8LXxOlFgIaDRy2GpYa8hjcEzURtg5XCv0KoA3KDSsQuRJQE2sV4RdFGkYcrhuCG48b+hhdGFsZNxf5FV4WExREEaYPdQ1FCo4F4wA7/Rj2fe+K7ZrlX9uC1xzQicjQx8TFVsTZxETF4cu90WPX1+cf9JD5qgWmDQcPwhN8GNYZDxjYFV0U+w59CfMJpgplCGUJEg5BD6IPpxXGGZAZthsaHewbpBolGv0ahRktFxMXMBWUErgSIRNkEnQRqw+aDDEIPAIM/Cz1fOzD473aedHRyaLB7Luxu2O657xvxoDMpdUe5TnvEvkZBTUM3BIOGPAYYhuIGkkVWxTREFgJpQgmB+YBzwMYBlkFbQoOD+IRqxfCGUEbrh5aHQ8d/R7hG80Z9Bn8FaMTBxPWD0QPEw+fDGwMGAuyBtAD7P9y93DuYeZU3ADRusguwy28Krg2uoW9ksMXzlnb+OhX8y7+aAnCDD4PMBfNF84UahgYFskOGgzaBw8EYwNtAmUF4wgeCXgOZxR8FCgZzx4NHQodsR7oHE4cEBw4GrEYghUYEqoR/xCpEH0SFhMOEgMQ1w0kC1AFG/+r90vqndufz0HDCLgQsrWwwbGWtBu8lcjJ1A3jXPXYAt0LUxarHG4eGyF2IcYdhRjxEksO0gg+BGkElgS7A1oG2AjxCUQOEhRIGMIakRuZGzkaGxh3F4wWWxTdEqMRLRCsDxwQmhFXE68TYBMxEtIOIQoXBaz+jfQy5wHamM3zvwG0c69Hr4avvrXVwd7MjdkQ6gL5EAYFEXcYsh4JIMscNRz6GEoRtg1sCj4FiAOpAVQBdQWNBkYJiBFZFLoV8Bs3HSwbKRxSG9cY1hZZFNkS3w+ADBgNegweCxUODQ90Dq0R8hJNEqwRbwx5BQr7I+nS2QzN8ryJsmet+qkWr/+2/cBr1J7k4fD3A98PYhOTGxkfdR0YHncZ4BMoEbUJlwbRCNcEiwO6BuoF8wd2C6MMahMXGYoY2RtnHokbARt2Gt8XoxXHECsN8gzICdcHcgr1ClQLNg7RD/sRDhTPEfgNJAaC9QfkftXbxPO2ALApq1CqK7A9uhTK69tL6kf7Fwx4E9kYQh8GIKEe0Bs0FvkRHAsNBHwFQgXwAMMDpAZFBo0KvQ7hEewWkhjtGQEcRBjZFYsX7RSIEWAQOA2LCgIK5QljCioKbwqXDEcNpg1pEGgSWhFKDjEJx/286rXYFcqguByqoKXYpaKpSrRExKLWieee9zkJIxaPHNwiESczJUYgEhqHEvoJtwJ4AMAA+v8JAd0EKghhCrQNGRMsF2kYwRr5G3oYxxVpFQETAxBoDv8MFgwgDFkNsA6DDskOCRDzD/QP0xFEE2ISig9nCcX79Od71bvEiLOfp96jdqYSsAW+NM6r4ITvO/v3CU8Vvhn+H1gm2CUCIdIZ2xAMCC0ANv1m/xEAkAE6CBcNOQ5nEHIS4hOxFYsVxRSuFJESnxAuELkNBQuBCm8Kpgv+DQUPvBD7EvsSRxNfFKwTxBJMEeUM8AUG+fPl69PewSiv8aT1oSGiuazxvoPRcOcm+9EHMRSMGzIbhhwOG98UAxNKDsAEmAGe/s75Gf5wBPAGSA2KE38VUhf6FoUUCBPrD+8MwA0AD08PmxDyEbsR/w8xDmMOhQ//DkEPPBJhE08ScBOsFA0UFhKrDA8Gqvv+5kPTqMWysi+kG6UMqnq0aMeK2ODq5fvYAq4MVxgfF5MWdBxMGTkRTAw/BuD/hvpL+H39sAKpA5IJnBKzFO8TTBfhGZUYrBe8F2QWsxKLDUsLLAuLBxsFdwiUC2MNzBAtFMUWYRcGF+0YfRiPE4oPCgvzAVrz2d+WzQq+1q39oo6haKYosv7DetlL7zz+GwpXGNUd8RlYGREZexOSDfII+wSTASH/KQJaCCQL7Q6xFlwbkRqfF9EThw8qCu4EdgNnBNQEpwcrDRIQeRBgESMS2hK1ErgQYhGzE74R5RC7E1ASFQ/EDboIWwGH9iDj2tDNwSquHqJ5o9Smz7EYx1PaTe2w/7UJ5RIHG7EZWBi+GWIWDhPHD1QJLgY7BNIAdwMVCPUIbQ0zFK8VfhSLE/QRCRCRDEIJTQq4C5YKOgwaD4UOww7JEMcR1xN/FAUTABWfFcwROhEUET8NnQoqBqT95/Kr4RbPxcFts1GoFKn3sGe+/c/F4M7yrwBCBegK1Q+uC8sICguJC80MWA88EjIY5RuSHDogFSClGKcS/wzvAon4cPHO71rz6/dHAIAOWxncHpgk2CVSH1cXuhCdC6UHuQM7Bb0LuA3sDiYU6BOWD8sNtQeU/gP2oecD23TVBMv7wVPEjsZcyDjPPdN11lzbzNz/4vHtv/MM/0kSZR7qJrswRzNaL/cnGx27EkcG6Pg09EX0UvOB9xYAMggHEOEUuBdaGhUXEBJ0EjUQKwvJDHEP+g65EFMR5g7bDA8JSAU5BHcCyQK/BWYFJwUXBHv5h+sR4QPT28Iqu1i6Ermpu8vGidDU1Frdvejc8BX68gWaEiYeASXXKigvZypiI/wechW6CvADJv23+LX2avWG+Ab8qf6GBq8Nzw/iEy8YyRcXFsAVVRVNE+wR5BO5FdUTDxFnEFYOvQjeBbEG1QXTBZIGzwQoAjD3I+cE4EnT87+jvo/AoLunxOnNuNC63OrgW+MO9TL7NQAtGF0iNSUGMwcxeSm6J2EXEA4ADvf9cfo3A0T6dPo6Bff/oQEWC68HvgqbES4NsQ/uFDMRaRPKFjAT8BT4FSsQ4A/7DrYILAlDCWMFUgkeCmEDnwQmAcTvGOVk3LTKccBNvmu8f7/oxJnNcNgW2y7g7+x+8tv5eQmTE28exyrTLG8uBC6OITgYmhKzBZr9zvup98j4Fv2r/dMBSwcmCEILjw9LD8oPeBI/E9cTdxTvE+AUWRUiE9IRMxDHDCQLNArNCEEJMQr0CUgItQT//cDwmOLm2TvNucBFwk7Ey8LdyxfT6tO93ATkPulh+D4DAgvyHGEntybEKtoqCiIcGqcSuQvTBK78H/sC/Yr6cfx2A/EFtgcoDBkOzg28DYQO/BCNEiYSrBPeFdoTExGREMEN+QmLCdQJ8gnACk0LMg33DKcHnwP3/BXtfd/n1tvJEsDHv/3ApcPwyfvPPdVe2sTgnOqX9UsB4w6qGyUmOixZLJoqAyYVHAcUxg7WBsYAev/T/uL+1v/5ATwGZQh1CcwN8Q8XD94R6BStFFIVSxejF40VbhMvE4cQwAuzCw0M1gjrCCUKqAeaBc8CyfzX9N3onNyC0wDJdMHHwFXBdcQfypjPzdcq3SDh7e7n+vAAIBGaHysiligvLTEntiH2GnMSbw5RB+gBdAVIBLoBVwieCjQHlQlsC7sJaApdC9YMCRDgENoRYhUlFc4RghJdEywPiwxqDS0LLQiDCA0IcQbOBE8B8f0Y93nosd2a2HHMJ8MYx93Hv8Sqyz7SzNGn1uLgR+tM9xsEAxMFIH0joCXPKKYiaxpsF8kRegvHB5YDqQLNAuwAPwSQCGUHygieDBoM1Qp/DPsPjxJGEw4WzBiXFjQUShN2EOANmQvfCRsLOgqZBn0HsQiSAx7/Vf7w9nLobuCp2+zNlcS9x+XEIsC1yL7Opc5X2MXi1Oms+GgFDA7zHGIkxiPlKp8qxh4bHckbZBAwDZoNngZvBXsHZgNsA4YFOQKGAwcI6AXJBTkMsg7wDW0RQBRZErYRpxKmEJUO8Q1rDGgMqAzYCZUJIQtZBjoBUAAG+NzogeB92ufM+8LxxEbF/cADxrXPEdEM1JbhEe4o9m0DVhSuH9EjwSW9J5ckeBs9Fm4VsA8rCTUJ7AgbBEkBEQNVBW8EbwNzBwwKLwbDBq0Nng77DCsSPhZjE/AQtRHmED0NcQtIDXMNFgtdC5oMrAqbBxsF0AEe+gztxeI33KjP+MN4xBrFk8DexErNtM240aHf+Olj8lID6RKGGkEkIyxjKcsntClgIika5xljFO4KhAkJB83/Hv+2AMX9+/1AAS4B7gGJBeUGgQc/C08OjA6LEJ4T0BKUEUATIBJNDsgNxg26CvYIOQkNB9wCUf9k+XPtiOHv2hrSccYexNbHqMYmyHnQkdUH2r7kme8k+nMItBShHUwmdijVJGkkJCJPGasU5RQGD4cHkgazBAH/YP7AAcMB8AF2BQoHTwamB+cJWAsEDmgRdROhFB0VOhSgEqkQwA1wCxAL/glpB3EHHgmCBvAB2P/Z+dPs6uI43s3UscnbyKbMncmAx7DOLNUV1vPc2evO9nH9Lgo5GQUeaR0hI5snVyE5G0ccphmMETYOPw7PCnUHfgcVB10FtwSMBFAE/gSsBd4FowfTCv0MWg5LEHASvhOVE5cS+BEpEbkPnw78DIkKUQn6B5ADKf6B+dbxCefZ3rXY288Gye/Jz8sDykzMFdTW2F7cd+bg8kT7fwSYESAb5x1hIJskHyV4IZofNyAXHrwYjBQSEkcOsQmjBzYHmwUWBKgDaQJ4AKf/JABqASwDJAUrB/UIFgqpCtwKagr1CQgKDgnmBhEG/gV7BN0CFwLn/3H7tPVC78PodeJP3eXagtru2vHbh9zk3O/eIuI+5efp4PCK94j81wAJBcQILwtcDeEQQBRrFj0YVBnlGeIaChsCGmMZcxjFFSsSiw7LCvYG2gNTAn4BdAApACsAJv8W/gj+Cf6w/Sz+Tf8aADkB+wK2BDMGVwfxB6MH0AXoAkb/mPqs9Wbxde1u6dPl7+IT4Ffdz9t025Lb0tyx38XiieVp6R/uPvJ49gX85wEcB2kMzxGdFgYbCx95ItkkkyUvJZ0jVSBhHLAY6RT+EBMONgzECbQGdgQ9Apf+HftK+YL3cvVK9WP2lfYf91L5Sfsk/GD9+/54/+j+hv6d/UD70vjp9pXzLO8p7D/pNOVL4mThDeHt4Efi3uRK58npbu3F8Zb1l/nQ/sYD0AdUDFAR1xX2Gd4dvCCeIRohOCBlHkobixi0FmIUvBH4DxQOBgsnCNsF0gI9/4n8wfoB+aH3g/cj+MT4qPmx+nf7avzK/Zf+r/4i/4n/df7o+zL5S/Yc8p3tSupb51DkdeL84Vbh4+B14vHkAOfU6fHtGPK/9SL6Pv/cA84Irw72EyEYEBz0Ht0f6h+mH5ceAx2tG7kaXhlNF90UGxLKDucKHQeqAz8AE/2q+vX4gveG9lH2gvbW9s33M/k8+sz7Uv41AEABTQKDAtgADP4M+yH3GvKt7WfqE+fO4yjix+E74Yvhl+O05Z/n1urC7v3xiPWB+ob/GQSSCToPVBOJFtoZ1xsIHK8c2x2KHbUc3BxMHPwZPhdTFH4QMwx6CDoF2wH//gT9FfsD+YL3tPYh9hX2G/eO+PL5H/wa/2gBsQKtAysEQwOXACD9hflC9cjwIu0U6iTn3uSy4/jiiuJJ4z3lXeeP6dPs1PBU9BT4GP3WAdkFvQqED34SLhVwGFQa3BrnG/4c+RwoHAYbahngFrwTgBD3DIwJ5gZxBIkBFP+f/fz7Bfrk+Kn48Pi7+f/6pfxe/u3/lQHkAmsDyAOqAwMCVv9U/G74yfNB7wHrFufY43ThA+CN3xXguuEe5N3mOuo07iby9PUs+pf+fAIYBtIJPA0yEA0T/xWxGMUaXBxiHWwdPRxjGhUYIBU3ErQPMA2/CrkIywaYBKwCAAEX/4b9tvw1/Nv74Ptb/Eb9h/67/9IAwQE+AuQBWADj/dr6N/cH8+juVOv85wnlBuPZ4UvhteFU43Tlw+f/6v3uufJh9p762f6GAl4GDgrVDJ8PHBNBFnkYpRqXHCcdkRyIG3MZkhYwFPsRfg9CDUYLNQkjByEFIQMrAXz/Yv6I/ZT8Dfwj/Db8kPyW/Zb+kP/AAIUBYgGGAO7+Xfwf+Xn1qvH97WjqIeeg5MXiauEW4ffhtOMe5jPpzOyE8Dr09Pdo+8n+kwJxBscJAQ2pECIU5RYSGakagRuWGwgb2BkvGJUW7hTqEsoQoQ5UDNkJcgdPBVEDogFdAD//NP5+/R79v/x5/LT8SP3c/Zj+Sv+J/3v/9/5m/ef6Cfi49NLw7Ox46UrmhOO94VTh6OE848HlG+mm7GrwMvSU97X6Lf7XAQoFRAgVDH8PIxLoFFwXixg7GRkaRRq9GTAZThjEFjIVuBNfEXsOKQwxCs4HjgX4AzACawB0/6f+bP1u/DH8IPwY/Hj8TP0L/qf+SP8R/5b9jvs5+dX1kfFi7ZHp+eXr4vvgKOBx4N3hWeSZ51PrS+8O8772lvo5/m4BhQTeBy0LJg70EJYTwBWPFzIZPRqYGp0aPxogGWsXeRX6EiAQnQ0iC4QIdwbABMwCBgGi/0n+4vzf+0H77/ry+jv71fuH/Hv9mP4c/7f+wP0f/HD57fX48ePtG+ry5kzkJ+Je4QLiI+MF5QLoUuuc7lXyO/bj+WP9vAAABPwGfgkFDKIOyBDpEmQVehfaGOsZxBrJGu4ZxRgeF/AUrRJPELcNIgu4CIEGdgRgAj4AaP7p/J/71/p8+nb6Ifsx/IT9zv5e/3//VP82/rn7efgD9e/wVOxW6CXlGOIg4NjfSOB64TLknOfX6pTu8/L29nL6MP6wATkEzAZ6CfAKZwz3D6YTMxaaGaodoyCEISwh5CBZH6obtxdRFDQQbAvwBg8D8/8q/bD6qfnb+Xj6+vvz/f3/1AKQBfcGyQdBCB0H+wNv/9r5Z/M07OXkX97i2C/UktAWz63PdNEj1T7bTOKL6YLx2flqASYI2w44FecZ7xynH8Ih7SGpIDkf+R0yHFIZFRYDE40PBQsMBisCR/9d/Ef67/ks+qP6efzx/iQBfAQmCfAMUQ8TEjEVihazFSoUdBLCDjoHhf2t9JPr0N9U1OXMn8fKwWq9xL2ewdTFtsvi1Sbi0+2n+WkFURB/GlsirCcoLLsuPy7nKxIoxCL5HG4XtxJqDtUJdAYhBAkBiP5W/U38Zvxm/ev9d/+oAmAFjAcXC+MP3BM1Fn4YChvIGxoa3hbpElYOKwap+XTugOVE2ZvLV8N0v1a77Le5uMm9/cPOysfUjOFV75v95ApGF0kjWCwSMis2KjfeNE8xLSv0IfMYcxEVCpMCY/3Z+636F/nG+Wn7wvwv/0gBoAIUBlAKGQz/DaAS3BaSGL8aHh4ZH3AeHh5XGooTZw4eBjn2zefc3r3RS8GsuXy48bMJsZa23L0Kw7LMm9rI5j70YAUfE7scySd1MP8yvDSjNSsxAytJJskdOxHOCKQE+fww9WL1B/gx9zT4kfxgAGMEewjWCj8OSBNIFYkU5BVmGGYY8xfPGNQY/hhCGcwUGg65CqkCbPCr4QnbQs3pun23cby+t5y0usBIzHzNo9Xe6Nz0rPoIClUajx7OIlEtuDDBLMksZS1KJgAcwRSdDa4DoPol9kn1w/RG9Hv4GAHkBX0HQA7GFaEVLBRvF4wYtRT3EskUsxTGEgsTBxUnFuwULRHZDVQJqvuq6XTfZdXZwua3P7ygvem4qr9kzmfTVdaF5rP23vqzBFUY2h9YHqsnfjEbLU0olStUKRIeQRUWD3oE9flU9EnvQOwY78vyMPaP/ZAF5QpzEKYVFRiuGZobOhuDGPsXoBh1FZsSRxQRFcQTNBM6EYcNYgZP90rnc9wPzku9dLhgvCS8+7yTx4nS59Yj39bt0vi4Am4RdhvQHlclYyoEJ8gkrCcSJiEewBeBE9cJYfwm9TLyjOzo6TPutfNz+Fj9CQRFDVES/xJCGMkdEhtUF2MYSBccEvIPQxHzEEMROROQEEAMdAj6+oro0N0J0U++u7fvu0G67bkUxmPRB9Q43czuXPn1AHkQkh1ZIZ0lQytBLHArGCuNKKAkMyCnFwwMhgP8/PXzlu2B7hXwMvHL93z/tAOACvkSIhXlFHUYVBrKFtETVBSJE4UQuA9rEeEStxKxEH4OOAln+kTp7d4o0aC907ajvBm8HrmQwy/SAdbk2pfsfPwVA48OcB6VI3EiRye0KzooySS6JqMl6ByHFOYOLAVV+sf1tfL37RvuWfN895n5av4CCFQPQRBKEwcagxuPGAQXaxbOFK8RWA8rEHYRURFCERIQ5Al9/Kvt5uIR09m+n7mBvzS847hAxVrS79Oa2Zvq2fcb/5QM4xk9HG0eryU2Js4hDyRDKMckUx0eGJkSngiU/dD3yPUs8jbvBvJl9/f4A/skBPQMJQ9PExEbsRzhGVEZjhf7Eu0Prw4NDrMOTg+fDkIOTApE/GTtG+ZP2InC27towom/SroWxPPQftRB2xPq/fTr/kUOGBfLGIMgJihVJick9Sa+J4Ejbh1nFxARBAoSAq36ufYd9NXwFfLn9UD23PqVBaAJAgpXEtUZEBjJF2ocjhv9FTUUWhMKEMwP5xAeDg8NcQs+/drro+Su2CHDhLx9xAjCn7tsxOfO182y0gDkdPAE+sgMgButHRkiISkBKK0lwigrKkEnDyNYHIsSpQmBAtr60PU89ajzm/Fp88/0lPW/+3ADQwigDpcVWhhlGekacBpoGI4X3BZ3FH8SjRGpDnQL1QgPAPbyqeoB4dfPs8QAxX7Dxr69wUzKSM+y04Hd8ug09J0B0AwyFG0cqCLLI/YkBye1Jk4l6yIlHUAWkhD3CFYAovzr+jz2hvQ99/T2KfYd+6gAKAP0B5IOwhHeE+sWDhe1FXIW2hU2E8YSPRJsDoQLCgnw//3z6u2/5gLYWc6vzxjPaMnzyWPRKdZF2HneXOhx8nv8ZQXNDKMUsRtwHyIhUCNUJnonnyT1H2gchhj2EGgIOASmAXH8jvgd+Ij36fZc+AD7mv30AAkFgAevCNgKQQykC6oLWwwfDMcLjAujCvcIPQcdBWIAIvrn9ezxQ+t/5d7jO+O34HneGd8t4VPif+Mx50PtH/Ou93H8agINCA8Mng9rE1IWBxiEGBEXFRWtEzkR9w3bC28Kggh3BvME/AMiA3sCSgL9AdMB/QF/AeIA6wDOANcAZwGiATsC3wPyBL4EnAQFBSMESAEc/0r+TPxt+a/3X/aV9NHycfGH8B7wVvDS8OfwLvFw8p3zFvQi9XD34PmL+z/9lv9+ATUCFQPABI8FggWlBjMIMghBCIcJUwoBCrEJ8wnJCbsIBwjPB+0GGgYRBroFCgW6BIoEMgTHA2oD6wI4AkoB0v8W/rn8lPs8+i757Pi7+CL4E/h2+E34Ufix+FT49ff/93/3H/eq92z4DPng+Q379fsl/In8XP3x/ZP+bv8RALIAagEXAvUC+wMnBSYGrQb9BgQHwwaRBk4G1wW4BewFwAUYBcgEGQUgBcQEqASUBPQDvgI2Ac//nf5q/XX82vtR+8n6afrv+U/5NvmE+XT5UfnD+Vj6pfoZ+8X7dPwc/Zr95v0X/lT+jv6B/nL+4f5k/3f/tf9YAAUBigHXARsCSgIkAsoBaAEIAfQACwEAASsBqwE3ArsCQgP9A7gE3wTSBMUEIQToAsIB3gD3/yf/mP46/gP+Bv7l/Xv9i/0W/lb+X/7O/mT/qv+5/8D/3f8EABwACgDX/5b/X/8b/5L+Ef7o/fj9+v3m/ST+sP79/gb/Jv9k/2H/Lv8z/33/3P81AKAABAFmAeABUALZApQDVwTDBLMEawTlAy4DagKXAfcAvQB/AOn/d/9f/yj/0f68/vn+Q/9z/8v/LwBWAGwAjQCrAKcAmAB6ACcAsP8c/33+zv1I/Qj92PzW/An9bv3k/R7+Y/7f/i7/Pv9s/5n/mv+y/8P/vf/W/xYAggDgAEcBAAKiAsMCnQJxAukBEAFsAAYAnP9J/0D/Nf/9/tf+7/4b/1P/zf9jANAAGAFXAXIBZwFgAVQBMQH3AJ8A/P8h/3L+y/0a/cT81/wV/VL9lP3w/T3+bP6U/sv+Ev9g/6j/xf/c/+b/xP+s/8X/IgCmAEYB7QFoAroCuQJyAgsChAE0ASYBCgHgANAAxAB9ADsARgCDANAANQHUAUACTwJTAloCPALbAZQBfAE8AcAAEgBM/5n+8P0p/ZX8o/z5/B/9Qf2A/bv93v34/TH+hv73/nf/4P8aAEEAfwCcAIcAnQAQAZ4B8QEhAk0CNgK6ASABtQB4AEIAGgAcADQAGgDt/wIAUgDQAE4BtAE0ArQCvgKAAn8CagIDApEBJgGpAAsAUv+L/uH9Uv3N/G/8Q/xX/Jn85fwp/X396P0u/mn+3f5+/w0AXwB3AIUAhgBEANr/mP+Y/7f/1f/V/8D/nP9V//P+tv64/uf+J/96/+v/QQB7AL4AHwF7AcEBIgKpAhgDEgPcArkCcgIMArUBgQFTAQsBmADo/1L/0/41/rf9cf1l/Xf9of3Z/Rj+ev7U/hH/UP/a/4EAvACqAJoAnwBnAOX/rv/h/xEAAAD3/yoAFQCd/0X/PP9Y/4z/3v8ZAFUAkACZALAA7ABCAagBCAJDAmwCkQJzAjQCEAICAuIBnAF7AXcBGgFoAM7/V//I/kD+4/2q/az93v3z/fz9Qf6v/hr/bv/F/0AAyQDqAMgA0gDCAGMAEQD1/+//1v97/zr/O/8N/5D+Vf6T/uD+8/4r/9X/KwAcADcAcwCjAN8AVwHDAdsB4QH5AeYBkAFKAUIBKgHEAGcAOwDf/1n/2f51/k3+KP75/Qb+S/6T/rT+3v4n/17/qf8RAHsAzwAJAWYBngFFAdAAoQBeAP3/pP9E//r+r/5K/v/92/3x/RX+MP6X/g7/V/+i/xIAmADPAAABdQHAAdAB4QEDAvQBmgE1ARwBAgGsAHcAXABDAPf/kv9m/1j/Uf9K/1r/kf+Q/2j/nf/m/8//xf8sAKQAyADFABoBZgE6AfcAvwCDACgA1f/C/5z/Mv/a/q3+Zv4E/un9JP5//uX+VP+q//z/PgBkALsADQFNAZMBzAHnAdIBqgGIAUIB3gCpAJMAWgAKAMz/mv9g/w7/5P7i/gX/Rf9p/4b/pv/b/xcAMQA2AHUA1wDvAAQBOgETAboAewA8APz/rv9l/0b/B/+L/h3+2f3Y/df94f1C/sr+Tv+g/+r/VgCFAJwA4AAnAUwBOwFBAV8BFwGXAGwARQDr/7P/rf+V/03/Jf8q/zD/Jf8n/2T/n/+5/9X/8P8WAFcAjQCpAOcANAFCAUYBVAFGASIB6gC8AHUAAwCi/2L/Ev+c/jr+Bf77/Rj+Rv59/t3+Qv+H/7//6f8eAFwAiQCXAKUAwADCAMkA2wDaAPIAEgH+AO0AFwFAAQ8BuQCnAG8A5P90/zr/7P53/jD+Hv4a/h/+Zv4A/6n/YwA9ATECAQOEAxoEgwReBAgEcgODAmoBTwBH/wv+6vxA/Kj7Tftf+5P7E/yt/EH93v1x/lD/EgCaAGcBBgJVAo4CqgKuAogCWwIqAsQBSwHeAHgAAwBx/xP/7v6d/l/+l/7Y/uX+LP+V/9T/IQB/ANwALAFpAbsB3QHKAagBQAHIAFQAx/8t/2/+1v1//VH9XP2H/fv9gP7b/m3/AQBaAMwATAGLAacBpgFkAScB/wCgABkAnv89/+/+ov5u/l7+Wv50/pf+tf4E/3T/0P8UAIgACAFTAZoBtwGjAakBqgGAAUMBHAHoALgAzgCkAFEAMgD//77/Uv/z/r3+Yv4x/gb+zf3V/en9CP53/vX+dP8QAJcA7wBGAcAB4wGjAZwBlgE2AegAzQCKAE8AHgDB/37/Sf8g/wb/0v7X/vH+Dv9//9L/GgCVAPwAaQGYAZ0BvAGhAY4BdQE4ASoB9wC1AJQALwDO/5b/P//i/n7+NP75/an9kP2i/cv9H/58/uz+mf9HAMsARwGVAdEB/QHjAcEBpgFxATEB4wCfAGMABQDB/4j/E/+8/qD+c/5l/pv+zv4E/2v/3v8kAGsAvADmAAIBHwE0AS0BFwEKAdwAqwCTAGcAJQDk/6v/Zf8W/9j+j/5m/mH+VP5k/ob+yf4n/3r/xv/7/zQAZgBzAJsAvwDLANsA5QDwAPUA+gDrAMEAjQAjAND/lv9C/x//A//n/vT+//4Q/x//Vv+u/9b/AAA0AGEAoQDxADUBPgFrAacBXgEuASIBugBwAC0Av/9e/wb/2/61/oL+gf6T/qb+wf7b/iT/if/M/woAYgC9AAMBTwGRAbUB3AHjAboBfQEwAdsAdwAQALv/Wf8F/9n+ov57/pf+vv7I/uz+Lf99/9n/LgCVAPYAQwFuAYcBnwGKAWsBTgEDAbkAYwAEAMX/ff86//H+u/6u/oP+d/5//mD+dP6l/sH+7f5C/6r/CACHAPsARAGgAe4BGQIhAgsC5gGMATYB4wBgAPX/l/81//7+0v6S/nn+jv6P/pL+oP7F/iD/b/+2//r/IwBjAJoAqQCmAKoAswCWAHcAWgA2ADoAIgD1/+L/vf+h/4z/ev9y/2b/bP9i/1//iv+r/8P/5v8FABoAKQBQAHQAkACuAK4AngCSAJcAnACAAGYARwAMAN7/rf+F/3X/Zf9n/2L/ZP+F/5v/wf/z/xYAMwBTAHgAlgC5ANwA3wDQAK4AbwA7AAcAxv+R/2j/Vv9E/z7/bP+r/9//AwAnAD0AQgBMAEwASwBCADIAQgBSAFoAiACjAKsAsQCMAG0APgAAAOL/wf+R/3L/aP9c/2j/f/+F/5b/vP/R/9H/AAA0AEoAewCkALwAywDJAMUAoQB8AFIA+v+x/2f/IP8N//b++P4h/1P/iv+5//f/HgA+AFsAQAAsACAA+v/n/9r/zf/M/9T/7v8CABQAPwBiAGwAcwBtAEwAMgAZAO3/zv+w/4//ef90/4j/lf+k/8z/6f/9/xIAIQApACwANQAiAAAAAAD8//T/4//Q/+D/5f/j//v/DQAFAAYAFwAPAAQADQAPAAcABwAKAAMA8P/j/9//z//K/9P/1//c//n/IgA4AEwAYQBsAG8AaABcAEMAKQAmABwA+f/w//b/7v/4//z/8//u/9//0v/U/9j/1//b/+X/+v8OABsAKwBBAFQAUAA7ACcAKQA3AC4AHwAZACEAJwAfABgADAD4/+D/wv+q/4z/dv+R/6j/rv/L//L/GQA6AFYAYgBdAGQAWwBDAD8APwAwACEAGAADAO3/5P/P/7X/rf+o/6v/sP++/9z/8f8HABkAKgA2ACMAFQAFAOT/1v/S/8r/zP/Y/+3/AAALABUAFAAUABUABQDu/+L/3f/P/8j/0P/U/9L/3v/7/wAA7P/r//f/8f/3/wgABwARACkAOAA0AC0AKwAYAAMA+v/j/8n/yP/L/8v/zv/W/+j/8v/4/wkAFAARABYAJAAjABsAIAAwAC0AKQArABoAEQALAP//6//j/+r/2f/M/9n/3v/T/8z/2f/Z/83/1f/h/+b/9v/3/wAAEAAcADIAOQBEAEsAQQBGAE4ARAA6ADEAJAAdAB4AFgAGAPv/9f/3//P/5//t//n//f8PABkAIwA5AEAAPAA9ADgALAAdAAoA/v/p/9P/0v/J/6//qf+5/8L/vP+7/8n/x//F/8j/uv+4/7z/zP/d/+z/CAAkADcAUgBpAGsAagByAHwAcABYAFMARwAwADAAOwAxACUAQQBQAE0AVQBkAGYAYgB2AHIAVgBAACUAAQDt/+L/u/+Q/4//m/+B/3b/g/97/3L/fP+C/2v/YP9u/3D/YP9G/zn/OP8//z//Pf9J/1f/d/+e/67/vv/o/xUAOgBpAIMAoADJAPQAIgEzAVABbgGFAZwBlwGPAZMBggFtAVUBKQH3AM0AqABwADQA/f+9/4n/Wf8w/wz/2f6t/or+ff5l/j3+HP4J/vv96P3b/b79t/3S/ef98P0G/kX+i/7o/lf/s/8UAH4A7ABRAZsB4wEqAmwCkwKyAuEC7QLrAv8CAgPoAtACxgKdAlgCKwL4AacBWQEOAbgAWAAGAKr/Of/Z/oH+MP7m/aT9Zv0v/Qv97fzP/ML8wfzK/O/8D/0s/V/9nP3T/Rb+dP7O/i3/iP/g/08AwgA2AZkB7wFjAskCCQNZA6wD2AP2AwoEFQQTBP4D6APJA4wDSAMSA9ECegIHAq4BYwH6AJEAJgC2/0D/vf5D/sP9JP2N/AT8fPsE+4P66/l7+TT58/iy+Ij4g/h7+HT4k/jH+N34HfmZ+TH6w/p1+8j8Mv6R/4kBkQN7BYIHRwnFCgkMGw3IDQoOJg7jDUsNlwzRC9YKrAmjCIIHTQZBBTkEQgNDAlYBoQDW/xH/TP5s/bj86/v1+hD6Efn+9+/24fXg9OPzCfNs8vDxr/G88RLymvJM80X0ePXQ9kr47Pmg+0/9Iv8FAcwCkQRKBucHXwmyCuwLxgxoDQMOYA6EDm0OLw7YDVoNtAweDH8LkwqzCfwIHggoB1YGfAV9BG0DTgIRAbf/Lv5z/Kv6v/iu9pb0gfJv8Iru3+xz62rqwOl46arpfOra64Dteu/y8ab0lfe3+q/9owCUA1oGBwl1C5YNgg8fEWsSVBPEE/ATuxMYEwgSpxA1D4MNrQv6CV8I3QaCBWMEiQPsAmgC/AHNAaQBewFNAeAAYwDH/6/+L/1a+/j4IfYR867vJuzG6LPlVeO34d7gNuGm4vLkLugo7KbwfPVg+lD/EwRWCDwMvA+aEugUqRb4F9oYGhn3GIEYkBdMFsIU5xLwEMoOggx/Co0InQYTBfgD4gIlAh0CDwIRAnoC4AIsA1YDJwNmAv0A5/4Q/Gb4x/PS7ujpkeSY39HbydjT1r7WQ9gi24vfHuV363ryxfnWAIoHlw3OEhcXShqvHBEeRR7DHYsckRolGFcVMxIHD90Ljwh0BbsCIQCo/Yz7Uvql+Rv5s/lD+xf9zf8KAzUGZQkeDFUOBRCkEGEQkg/lDWkLdgjxBNgAMPz09l7xjuuX5fLfJ9tH15bUttOT1NnWzNo94IbmXu2J9Jn7XAJ+CMINdhI+FvoYDxsmHD4coRtGGlgYshWXErEPqgxYCasGkARbArUAi/9//tb9F/2X/Mn82Pwd/Yf+LQDnAUsEtgYACdgK5gvRDBMNIQxKC6YKSAnNB6MGNQUMAw8APPyZ99Lx8upH5Abe+tem037RA9GD0grWldtp4nvpQ/Gu+ToB3QduDgAUHxiCG7cdkR5pHiYdMhuhGFUVGxIOD7YLpAgCBmUDIAED/+n8iPuC+qf51Pmw+t37Bv7DAF8DEQaSCK8KgAx4Dc4NDw7SDXMNTA3RDGkMAgyyCqEIzwV2AZb7hfRc7InjudrH0kPMt8fpxd3Ga8p30HTY4uH16/712//GCEMQtRbIG1kf6CEnIwojQCJpIH4dVBqsFqYSuA7OClEHHQTjADb+4vtn+YL3bPa09cD13fb3+BH8nP9dA3MHDwvMDagPgRBwEFYPuw0gDGAK+Qg/CAMI0wcEB7gFnAP//jj47PDV5/HcgNPly4XFfMJNw3vHFM862Pzide8S+g4DWQxmEwoYdhzUHyEi6SNOJEskviOxINkcrBm8FPgOFwsIB3wCif/a/FD6ivgv9r70+vTQ9JX1pfgg/L3/IQRYCJYLzg32DiUPbg7lDC0L3QneCA0IyweDCDwJRAlUCWIIqgW5ATv7SPNA68Xgmda4zwvJ9sQbxtrIjs6815DgOOty9uX9MQa2DocS9hZRHDoe0iAsI7si2iPvIn4e7Bx2GXgSLg8NCzoEvwC2/ML3C/bf8kvwLPJB8uTy8fcZ+/79YwNMBs4IMgzRDPoNrQ+/DjcPdBBND1YPzA9pDhkOOA1qClUIrgS4/lj4u+8X5qfcB9KuyVbE+b9gwBDFA8uP1JbfH+oA9mL/2wZEEEAWwxmOIPMkeiYbKtUq8SixJ2QiTBzGFxoP7QeHBFn9+/fI9kPyie8j8Nztae4U8ufy8/Zu/Q0A2wSsCrULGA7/ENAPMxA6EYcPtA/nDwwOPA6ODfMK+Ar8CU8GlwQKAuX7fPVO7iXljNsM0rfKiMYOxEjFGcun0kvbPeWG77n4rP9tBtsNJhPZF3Ae/COlJ78q8CsmKxwo+iHPG7UVcg2UBgYCjfxW+ET2vvNw8l/y7PGX8632qfjw+24ARAPDBXAIwAnBCuMLjAyZDekOpQ8iEHkQFBCEDpMMTwuSCQYHbAXVA6wALvzf9XTuNebU20rSVMwSx0jEmMewzBvS1tpN5GPsXPRk+5AC0QpHEdIXgiDnJpUq1S0BLtkqUyZvH9cXPBGtCT4DzP+9+3f30/Wt9MLy4fFS8ufzN/aJ+Or7DAALA0sF5wfyCeYKLQwxDqIPYhCsEVcSDRFZD3UNpQoqCHMGPQWMBC0DkgGJ/3z5PfGN6kPhWdUAzhPKXMaHxsTKz9Ca2OTfkOfQ8ev5ov8qCc8TRhrNIOIpATBWMNYu8S1qKckfeBdoEt0LhgR2AOP+m/wN+TH3uveF9q3zc/R+99v3Ifjx+xMAYAGGAl8GOgqKC5ENtREqFHEUwxQwFJ4RFw5pCkQHCgVhA9ICSgP5AkMBrP0q91nvguZb23LR1MuKx7nENMdBzOjQmteQ397mJe8R+AQBaQujFWAe4iasLbMw/zAdL/QqJiUhHrgXwxKADZUIYgVPAtn+4Ps/+fn2U/Vf9F70ZfWg9vL3D/p4/HH+xQAcBH8HnAr3DfwQxhKEEygTZRGfDoELnwj/BS4EkwMLAy8CRwFC/zz7qfUc783nC+A12XnUd9EG0K3Q/dJo1gXbHODH5U/thfWJ/bcGFxCvFyceyiOtJtImKiZeJOEgIx3FGYoWlROuEO4Nmgv4CMEF9AKNAMn9ZPvO+Sv4zfZc9mH2x/bf94D52/sp/0sC/gQZCLQKtAvZC60LrQrnCEgHowZVBtkFEgbgBsoGpAUkBEEBjPw992fxFutw5bjgudwh2rHY29du2P3Z4tt438DkeupT8Vr57QCpB64NahImFZwW/BehGKQYNRklGq4a4BqlGqYZCxiQFXgSSw+8C/sHfwTsAFb9a/ox+JX2qvWU9Yz2U/h1+r/8Df8WAdQCCgSCBDUFEwZABsAGBAj/CNMJBAu9C4YLqwr0CBcG+QGh/MD2E/ED67zk2d9K3PzYldYm1trWZdjU27jgaOb+7NnzaPouANMEyAgRDHYOyRB+E0IWEhm4GwMe0B+0IIAgbR9rHYAaEhcHE3cO9wl7BeYA5PzZ+Yz39fVQ9Yr1BPbM9hD4MflS+rb75/wP/lf/XABsAcwCDgQyBZ8GMwipCecKtwvEC7IKOAh3BI3/kvkb85DsR+YP4Q3d+Nli2DfY6djc2ibeI+Kr5u/rfPHL9rL7TAB7BP4HVQu6DgESeBXhGMMbVR45IO0gwSDJH+sdgBuiGBkVLxFKDVwJQQU3AdL9Nvsi+bn3Kfca90/3z/ds+Ar56fn7+uf74vxF/rH/4wArAnADsgQlBq8H9gjYCWcKMArSCE4GnQLf/WL4vfJr7YHoj+S64YHfFN5j3Qndc93C3pzge+OP5z7sS/HJ9lj8RQG8BRIK8w2AEToV2xgbHAgfKSFdIsUi3yGzHxAdzhnjFfgRDA4rCpAGOgNIALP9XPuG+Tn4R/fG9rX2BfeM9xD4xvi4+a36uPvo/EP+zP9QAecCqwRrBuIH8gitCaAJtggUB24EAAHg/CL4UvOa7gTqJeYP4zvgI94p3dHcP93+3t/hteVr6rDvNPWc+tL/4QRuCaEN9hH0FZsZ7xyGH4MhviL2IlkiFCEZH1ccARlKFUIRQQ13Cd4FtwInAAD+CPxx+iD57vdO9w/3+vZ491f4QPlL+nv7m/zH/QP/PADKAXEDAQW7BmEIawnKCXUJ4wcSBTkBW/zS9kDx0uu25nPi5N702yvag9my2QLbsd2M4T/mm+tj8Uv3Nv3DAskHkwwNESoV+xh7HIsf3SFfI+ojeiMnItQfyxxJGVUVJRHgDKcIlgTtAK79yPqd+AT3rfXs9P70XfXw9R33avjI+YD7K/2J/rz/5QAQAhgDEgQ3BZkGNQiuCdcKhQtfCyIKqwf5Axn/g/mm88ztJehB42zfO9zw2c3Ywtjm2WDcDOCn5ETqX/Bz9nb8KQKHB2QMuBDKFHQYuRutHh4h1CKzI6kjkiKlIBkexBrOFokS7A3/CAUEaf9b+wz4wfV19Af0YPRm9cX2IPhg+bH6+fv//Az+Pf9iAIYBsAL7A1kFtQYoCHoJdQoKC/IK3AnZB7gERQAM+0n1Gu8k6ezjht8b3M7ZcNgf2PXY09rX3f3h/Oa+7Bjzivml/4oFDgvADxIUGhiGG5oeUSFJI2IkcSRsI1ohHB4uGgYWWhFlDLAHHQPo/ln7Tfjw9WH0iPN48xD0J/XH9rT4nPpn/Cz+1f8vAVoCcwNWBAcFpwXwBQMGkgZnBxcI8QiqCcQJAQnaBj0DVP5c+AHyfutR5U/gW9x02crXHNei13DZQdxx4AHmhuzk8377uwKjCQUQhhUtGu4d0iAEI0MkfiS8I+IhJx+/G6UXKxPCDnMKLwYTAnH+I/sA+Kb1SvSd89zzSfWj94r6mv24AN4DcwYdCFAJDAofCuUJbAmgCLgH4gYvBngFvAQkBFgD7wGV/8H7ivZf8C/pi+HN2oHVqdGpz4PP6tD/02/Ys90g5Ojra/Ru/cAGiA9OFw8eRyOLJnEoLyltKIAm9SPNIMQcZhgdFGwPhAodBvsB0/1A+on3I/U1817yevJ186b1+fgp/cEBJAYbCnINrg+REG0QqQ9QDo0MogqTCJUG7gRxA/8B7ABmAKz/Dv74+4T4cPIi65XjFtvw0orNo8pLyUDK3M3n0nPYYN/65+nwHfpYBFkO8xa5Hj4ldimNK9crEirVJg8jTx7gGCkU7Q9uC6oHGAV9AvD/p/7G/en7N/pt+Tr48fZe9zX5gfta/94E7AkFDgwS2BQSFfATMRImD7ML4AjSBSoDMgJAAQ0A0wAkAlYBWwAkAAf8LPMq65fjMdjUzQbKK8hUxojJzs8c1PjYa+CD51Tuf/cLAn0MORelIEknvCz4LzIueCqmJ3QiGhtUFs8SFw1rCJoGegN1/zv+qP22+/r6G/v9+aP5rfoI+1T8NQBOBEYI2g2nEoIUrBUpFj0TWg6ZCvkGuwL8/wT/Z/46/uv+qP80AJgAOgAt/zn8bPUF7Vflm9uL0FrKksj6xjTIJc4x1CbZP+Cp6BzwIPgpAo8M1RUbHhclTiovLa8soCn7Jfgg7BnYE6MP7Ap+BmwExgIfAIn+/P22/Gv7tvqi+fv4ffne+Qr7fP6AAngGrwutEHITJRUWFocU9BB4DRIKIgYWA10B2P/7/iP/Uf+9/2kAPQCG/+L8svVx7JjjjNirzBTGhsRZxEDHls6L1kzd6OTy7P3zhfu2BMEO0xjwIXkpjy9FMgkwSivpJakeOhadD80KTwYrA8QBRQCh/gz+0P2X/aH9Nv1u/dX+5f4//goAgQKqA5YGbQt3DgMQWhJlE9AQ9AzjCVwG8gFx/s78YvyW/Jv9uP//AXsDeQTEBJoCefzr833r/+Gk1gjO5MraybrJsMz80UzXTNwp4nHpcfEj+mQEmA9zGSQh+Sc/LeIttiquJ6IjZByRFUER/Ay4CF0G/gT3AtUAh/+v/kr9k/vr+j777vpK+qD7LP7d/70C5wfiCxoOZxEbFAcTOxAzDjwLkQbMAsgAR/95/sX+//9wAnsErQReBS0Fgf4f9CjsOeKS09LJF8g6xtLEJ8rC0W/W8duD48rqxfLf+/kFQxIwHcojsioUMfEvsioiKAwkRBs/FEoRQA3GByQFhQR+AlMA/v9HACYAm/8d/2X/Hv94/Tj9ZP8pAaQCxAbbC+QNbA41ENIPgQsZCGQGDwOg/0P+gP30/GL9Q/4AALACOAScBPgE6QE++e/vTucU23XPjspQyIfGT8mkzmTSgNfq3knlhuxs934CfQxvGN0iTCgtLbww5y3xKI8lnR9DGAgUxRC8DIAKvAnBBxEFUgOTAWf/E/7E/Ff7ZfsY+2j5qvms+9L8fv/aBEcJ/AtKD90RoxBUDfYKYQjqBG4C6AA9APkARwEqARIDOQX0BGkEnwMB/h307+pS4dnU+8o7x8HFwsUtyUnOudMJ2s3ggOj58R38cQbYEfMcsCTtKeAucDDULIIokCQMHiYX0BIdDzkL1AiVB70FiwPyAWQA1f6M/f376PoT++D6mPqU/Hv/uAEmBbQJxwxfDhYQihAoDhsLzQjxBa4CfACA/3r/CwC2ADkCQATKBKwDqwHB/FfzCulF4DjWY8xJyDzILshPyrHPD9Xf2WPg7OjT8c/6SQVuEMIZKSFfJ9oryS2zLJYpHyanIYUbfRbRE7AQoAyLCpsJPQYVAkcAd/62+ln4YPiB9x/2LPed+Wf7Fv7HApUHUQurDnYRhxJ0EQYPPwxeCWsG8gPdAr4CZgJbAmsDNARDA+wBAABo+onxqOhc35zUXszWyGvHqceKysLOVtON2HbeJuYn8Iz6PwV0EYAcxiOZKbsu1C+MLWorhiheI+sdSBn9FKgQ/gsjCOgFMANO/x/9gvxJ+jb3ZPaP9h71WvSZ9nL5b/u4/psDzAeACpMMFQ4ADvsLdgnIBw8GrwMtAlcChALKAcUBIQOABEcF5AXQBYcDw/0y9XTsfONn2QHSQ89ZzbvLdM2i0N3SYdbc3Dfliu45+TUFDRHmGiYitickLNAtPiytKpMp0CW2IFoduRkjFBcP0AuHCFkEvABd/sf7Tfhq9ezz3/IS8vvyMPan+cz8eAG9BmEKUA1jELUR6hCfD+INSQt2CBcGmwQDBI0DWQN8BMYFcgWiBEsDc/5q9nTuJOYg3KDTv85xy4jJAMqJy0jOjNOJ2T3gZOoc9qQAzgunF5QgUiZWK8Iusi7aLCkraCgrJLwfHBtcFuwR0wzCB3EEDQG5/Oj5PPg89SryO/En8QHxSfJc9Qn5Vf16Av4Gmgo0DhERHhK3Ea4Q8w6VDB4KlwdNBbYDewKAAWABvAGXAeUA/f6Y+vjzWexc5I3cMNYL0q3PfM4HzunN/M460vHWsN3i58zzgv9uCzwWCh67I+snRSoZK58qMSlGJ6EkziCNHPcYYhUCERQNNArNBtUCwv/a/DP5yPVi88vx0vAK8d/yxvVp+aD9mgFVBe4IHQv8C44MHgyHCtEIPQeOBbUDVALEAfAAGACrANgB4wFQAc0AWP4W+WLz1O3l5v3fbtvy1z/UctFt0AXR8NKk1gjdpuUC79r44QLNCyITThloHtIhxSNQJWUmQCZMJSYkgCIdIOQcZhnyFfoRmg0QCXEEff8m+pH1T/L279fuhe9K8XvzHvbm+Nn7Df/yATgEQQb6B8EI5QjXCEIIYwcNBwMHgQYNBmsGxAYuBtoEqgLk/nb5IfNt7OPlROCK26zX4NTA0o7RCNIP1LzXnN1/5Ynu6/cGASYJFRALFp0a1B2ZIAEjtiQgJvcm2yZaJvAk6SEvHnwaExb3ECMMOgf8Aev8M/gK9KDwXu6A7b7t+e778G/zXfaI+Uf8df5XAAECRQMgBL8EVwUFBooG8AZcB8AHJAhyCF0IlQfgBQsDG/8r+of0o+6n6P3iHd4e2iTXT9UI1XXWG9kP3YriHulD8Lf3Ov9jBuYMQxIaFvQYWxtOHeIeciDrIQkjkiPhIvUgax5bG8EX1hOWD/0KQgaTARH9Avno9dbzlfIN8n3y3PN29U/3hvnM++b9m//hANYBggLnAiwDZQOsAxMEewQOBacFKgZzBvcFkARRAjH/9/ru9bPwguuU5gziD94C25fZztkw2+Dd9OEb5wXtXfOa+Xz/BwXXCY0NeBD6EhkV7Ba8GIAa/xs5HeUdvR0pHVEcvhqJGPkVwRLrDs8KggZDAnn+Vfvv+E33Nvas9cL1WPY09y34WPmX+tP72PyL/ST+pv4q/3b/xv93AC4BAQLqAoYD0QOtA6ECrwAx/gL7Lvcf8xXvKOtp5xHkcuH539bf0uDn4j/mkOpB7zX0Tvkk/qECsQYhCgUNlA/ZEekTrRUkF4YYnhkpGjwa8RlVGVwY6RbbFGkSzw/PDIgJZQaRAx0BG/9Z/dL78fqN+kn6UPqX+gD7j/vv+wH8B/wj/Fr8pfwM/aH9aP5M/zQADgG8AR4C/wE6Ae//Jv7t+2/5nPaB81/wUO1/6lboCOeY5h7njeiM6vPs2O8E80H2qPkw/ZsA3APZBkkJZgt3DTwPmRDjERkTDBTYFFEVZxVOFfIUFhS3EigRcQ9pDT4LHAnvBqQEPQLl/+T9Q/zx+gH6fPkx+Q75FPkY+Tv5l/k8+g/7zPuG/EL9C/7F/iv/bP+x/7X/WP+//uX99vwC/Mb6Rvm19wT2VfTw8rTxsPA28FDwufBf8Xfy5fOO9YP3mfnA+/b9DgD0AbQDZgXuBj8Igwm3CvILMw1CDh0PvA8WEDEQAxCID9UOFQ5WDVwMCgukCS4InAYSBYAD7gGcAGL/Jf4t/V78m/v9+rH6tvrA+tL6Avs1+3b7ufvm+zT8j/zG/O/88/zM/HX83/sW+z36bfmn+Of3I/eN9jj2G/Yb9iT2d/YV98v3m/ia+bb67vs0/Vn+ef+WAMAB+wIzBGsFkwa2B8EIkwlFCgwLxwtKDKAM1gztDLoMRAy1C/kKAArMCGIH+wWgBDoD9wHeAOH//f40/qT9Sf0A/bj8hPxv/HH8a/xK/Cf8JPxU/GH8M/wV/Or7pftX+9T6Lvq3+XP5Gvmp+G34Vvgy+BL4/fcN+Fj4y/hM+e75r/qA+1D8JP0T/gj/DgAUAfEBvAKgA4kEFgVaBcEFTwbUBi4HXQetBx8ITQg0CPgHlwc8B+UGcAbrBWUF+gSXBBEEbQPCAkgC8QGYAT4B1wCHAEEA3v9g/+f+bf4l/g/+yv1//V39Kv27/FP8/vuQ+0P7FPvG+pT6mvpp+gz60fmJ+V/5YvlU+V35tvle+hX7wPt4/FH9Sv42//z/tgCJAW8CJQOQA9oDMwR3BIkEjASGBHkEdwROBBoE9AOoA4ADiwNtAxUDzAKjAmoCTgI6Ar8BrAEVAtUBiwGhAYYBYwF8AUsBxQCEAJoAUADn/woA0f+M/6//Nf+U/rD+mP47/hP+uP2j/Z39KP3X/Hj8+PsC/BX86fvv+z/8Bf2H/Wj9uv0g/r/+Mv+5/hz/Yv9C/7//mf9b/73/9v9IAKcARACQAC4B9wCjALEAdAGPAaQB5QG+AXMCkgJRAvAC3QJxAlwDvwPiAk0CvQGxAbcBeADf/r3+Nv8u/gH9P/2U/Zv9sv1i/T7+b//9/j7/SADAAEgBZQEyAd8BRgKfAXkB0wH7AG4A2AAs/wf+wf7g/c782/xO/fj8x/z7/Mv8lv3+/Vv95f1q/wEADQBdAGgB/AEJAp0CrwKlAi8DfwOOAysDWgK4AqUCWgLRAVoAswFfAhwBqgB7AHoAhwA8ANf+3f63/8z/AwBD/yP/0P/5//j/yP7D/pMAxQBmAL4AQQHJAT4C+wH1AG8BYQKKAYUBYwHAAB8BqAAtAPP+fP7d/nH+Vv7T/FX8gv2R/Tj8Efsn/Kr9xf2P/FT9gP9S/7L/DACa/wgBggHOAaYBZgHjARIBQQPFARj/ZgH3AIkB3P96/kwBQgBM/9n/8v6+/zP/dP5pABf+Tv8GALH+KAE1/wL/6wG9//z+QQI8/+v+zQENAU8AIP8CAJEBuAJt/gv9AQPMAbf/ev4X/88Dgf+k/gcC6P1X/14AKP87AHz+Vf4NAEEDIv/R+/oBcgBgAOIAT/3tAQkCdgG6Atn/QQFHAj0DqQDD/78BYABnAj0Ahv5KAOP/GgD8/mgAYP+//vkBY/8L/+T/b/+V/4L+7AC/APf9aP9dAnYCIv6x/pQBGAL4Aqz9xv+MBb0APgB7/4r/nALT/cb8PgGyAFX8ef3mAG3+Fv6E/U/8vgCY/7P6hP9RAZn9/v9n/1H/hgFy/9UA7gAsAKACbwEwAKcAzACPAVMBZv+k/m8BbgFc/zYASv/n/rwATwCD/ur+EQDp/q4ANQHj/cb+qf8yARIAjv2XAAwAkwDAAFwATgGt/u0B1AHD/zkBsv9mAdsAYACWAcb+FwDaAKr+VgCa/jr+zQDe/jD+Ff8gAIv+KP5MAD3+b/8AANP8BAFbAGf9oQEC/8gAdwER/u0CWgG5/2MBowGyAeL/NAB4AYIBEQCB/zwBfAG2//z///8B/6b/xP8B/g/+4P/r/aX+s//S/kb+8f0LAWAAFf98/0EB2QJ2AE8BagHWAKgCOQGh/1wBigF3AJAAVQErAHj/YAEx/wD/BACF/r//ff89/8r+Q/+oAH3/C/+n/7cAmAAVAI0AAQAjAX4BSv/T/1oBIgCb/xAAmwBoAfz/zf+WAEYAcQB//8n/Sv9c/xMBsP/y/U//DAAC//X+GP6I/m//xv+///P+9P9v/8UAZAHz/ycAJADLAdoBif+o/8kBJgEJAI8Asf/z/0YAnf+y/1//Bv+X/5T+kf6+/6r+NP4d/4//4/6R/jX/2v/I/8r/xACQACgAxAAdATUBfAG3ANEAjAHlAHwATABWAFkApwAsAJD/+P+B/9r/gwCH/5D+Kf+k/3z/P/6R/Tn/y/9M/2b+uv4+AFQAgwBcAFEAgQHWAeYAzACbAb4B9QHPASEBTAFWAR0BEAGcAA8AXQBEALn+bf4N/yb/hf64/Uj+Zf6g/uX+Cv5I/yEAhP/R/5X/RgD2AIYAOgGXAQ4BLwHuAYABMgGkAUMBOQEnAcYAQQDR/83/Qf9G/0n/kv4n/sf+cf/X/gr/B//D/q//cP+7/jX/PQD2/9T/kgApAMr/bAD0AJEA1QDbAMkAdAGNAEcAOAErAT8ANAA/AM3/IwAv/63+Z/8W/9H+hv6a/oj+t/6p/yf/4f78/iv/kgB1AHz/FwA+AaUBEwF3AEIB5gG8AWcBsQAcAdgAFwA5AAwAbv/b/nn/lf8A/5T+uv6N/8j/bf8a/4D/tP8PACkAgf/t/5oAaACCAK8A1v80AIwBaQFpAEoA/wDBAL4AWgAv//r/ngDS/7r/AADA//X/oQBaAKn/xP8xAHkATABJ/yT/dACtAHP/K/9HAGYAqP+7/6D/xf8jAHD/Sv++/5b/lf/D/6H/8v85AC8ArACWAL8AOgEWAf4AqADNAM0AiAC6AGoA6//q/93/qv+d/0r/GP9Q/6L/Qv+E/r7+Ev8T/+H+2v7Q/iX///+A//7+yf9DAAEA3v/Y//b/SgB/ANsAqQB+AAkBAgELAe4AXwCqANEAQQDv/0EAHgCW/xwAIgB5/xz/RP++/5T/Qf+6/sD+pP8+/2X+7P6N/2P/kv/J/77/2/8oAGUAdwCKALgADAE6ASEBxwCiAKQA7P/V/wMAbv9F/zL/eP82/4f+xv5J/0z/6/5W/zwA7QDKAeYBcQLDA64DgQNIBI4EdwRMBDgE6gMhAwUDOgJFATUBAQAM//3+Iv4N/av8cfzo+2v7LvvN+nD61/rg+qb6HPtg+637PPwx/Hb85f2P/mj+Av/1/5gABQGQASAC0wJvA3gDzwNhBE4EZASJBEQEBgTJA5gDUwNkA2IDAwNLA6ADwQNUBBEF0wWlBicHLAeDB+EH7AayBRUFuAN0ARr/FPwV+f/2kfP27/ftVuvs6C3oyedF5wfoCOrK7LrwPPS4+DH/EQSSCDMOVRKuFSYZGhtQHC0daxz2GmEZhha4EmIPnwtmB1sEiQFx/sr8cvzU+7T7dvxw/fb+mgDqAZADuAUCB/8HOwk5CdMHkQTU/1P6ovJw6C3eXdVmzcrGScK5wBzDlsdHzUfWq+CQ6sH2nQMCDuIXryFCKeUu6jJSNF409zLuLnAqdCUOHpsWRBD1CPUBcvwx9y7zlvBY7rjt1+4R8Mzyhvd3+/T/5AUlCtoNQRLwFCMW7hYhFkcUbBKfDmIKEAjhBDMBc/+h/TD7eflz9rzyY++B6HTgL9uD1PPMrsmkyMbIr8xy0cbX4eLH7Pz0QQHFC1cSuhvRIskkGymhK2kppSkQKCciqh97HMkURhDbDK4FEwFr/nj59vYR9r3zD/R79Sf1YPfo+hj8dP5sAi4EAgadCRcLCwwSDu0NYA3VDAQKnAcFBnACSP+p/lT9Mfza/TX/9v+tASkBmP6a+030Wura4ora99A2zCbLmMq4zeHToNp743HsxvQ8/84I7g+GGHkg0iTHKLgr/SqYKEslxSCFHJgXhhE1Da4JXgSx/038Hfiv9Afz9fHO8ZryiPRq+G78cv+OAxsIEAsFDgsRwBJLFOYUrhOVEgoQ6ApIB1QEQ/9y/DD8t/p8+jj7XPlC9xP0zutM49DcZNNdyzvJncc8yADPQtZK3v7pmPNX/EsIGhEKFyoffySDJpsp/inLJjEkLyCAGiQXTROkDQALowkDBiQDbwEW/g37XflC93D2XveD+CT7PP8+AjUFcgn0CxQNNQ9vED4QXBCXD28NhguGCJMEFgJa/6z8Af3t/QD+BgAAAfL+ov0s+UHvvOZ63nvTesyeyZHGacjxzhLV291H6LzwV/t7Bl4NihWOHjciwSX8KcIoNyaxJOMfKhsdGLESkw6dDMkH4wOAAvP9fPmB+Mz12vJw8z70vvVW+Tj8VQDeBYsISAt4D2YQDRA1EScQ4wxaCpAHaAQUASj9Nvv6+hr67/rg/av/SgEuA5oCy//y+aPwt+eA3mLTI8wUysfI98pO0i7akOJq7OT1Y/8mCBEP2RZ/HkAi7CTbJ/4mZyPvH4gbrBaPEhAPGg2tC8cIEgeuBiYD/v6E/Un72/gt+VH6APw5/w4C6ARMCJQJNwqiDGcNbQxaDVEN1gqJCaoHuQNvAbD/H/2K/dH+6f6dAVgDBwEe/1X6wu+w5tXdb9EKytjHvMSvxl3O3dSu3aXpGvPi/HYHSQ9tFxkfkiIvJZYnrCXdIaMebRmvE7YPBQydCOMGmQUhBLMDlgJhAJP/cP74+9f74fx4/Lj9sQBpAkIE6Aa6CLAKRQxSDC4NiA00C0QJmwdcA0P/Nv1S+rn3KPii+fr6kv1DADIBDQFg/pP30u+N587cadSs0OTMxMuT0GvW8dzI5YLud/d+AP0HaxDQGJ8dRiIKJ2AnfiWqIysgaBtaFhoSag8NDHIIVQcWBsECLQCF/hn83fk2+VL65vsh/TMAowTtBm4ISQsNDccMZw21DuMNegzrC1oKgQdiBBoBRv5w/B/7T/vx/O/92/7i/xX+tvgP8gnqyd8R1jfPb8oByADKq8+51rne6Oeg8TD6iwHlCN8PmhV1GskegCEXImAh/x8wHakYjRSKEU0OlgtXCvkIGQd6BW8D/gCE/h/88Pop+9z73/1jAW0EGwfyCd0LjAyLDGUM4gvNCoIJ+wcNBqMDywCF/vL8BftE+lP7fPyc/tUAswC2/3j8B/Wp7T/l8tkl0wvQD8yUzdHTjtiC4Afr+/Fc+a8BIwdyDS8U2xezG3UfRCAwIAsftxuBGF4VshEdD0wNoAuXCrIJTAgDBjcD9wDu/sf8Ofx3/dL++ACZBHkHtwgpCi0LHgrnCFYI/AabBaYEBQNaAdf/df1e+935TPgV+D75Z/rF++z8Hfzu+HvzH+wj5EvcqtV10QnQ29Ht1rXdGeU07dP0KvtzAZQHRQzVED0WOxq8HP4eHx/lHK0ayxd0E/kPAw7RDKcMzAxzDKIL2gkqB4UEiQFk/jH9vv2M/qoALwRsBqwHpAlKChoJYgjdB78G3AXRBEgDwQF//0f9Gvxu+sL4KPmX+pH7xfzD/bX8x/h58xvuuOZQ3m3Z09Y61JPVmdrY3n3kXOx48sL3z/3GAs8HQA3SEGoUVRhtGW0Z2hm9F2sU1BLYEG4O6w3uDXENmQ0tDWMLqglnB48EzgJ2AUsAQAFBA3kEhwYGCeQJVQoLC0gKwAghCM4GQASIAuYAHP40/DL7UPk9+Hz4dPgd+eH5A/lv93T0nu/t6o7lnN8f3CTadNnE28ne5OIH6ertLPPX+WP9IAHwB0QLWA2PEoMU1hP1FVgWgROyEpkS9xBiEPcQ2BB0EJoQ9A/vDb0LMwmNBv4EhwNtAo4D0QScBRUIpgmACXoKcAquCEoIbQceBRkE8AKTAFr/W/6D/JH7TvvB+rH6KPuB+vz4t/fX9CfwYuw06MbicOCX3y/dHd6v4WfjJ+cu7XDwVvSE+iv+dAFfBkcJbAvwDtgQbhHwEm4TDhOaE1ITCRLyEboRPxCmDwMPuQwXCxsKvAfKBf8EhgPTAoIDZgOhAxgFTwUWBRMG+wUVBUMFiQTpAm8CiAHV/yb/D/5l/DH8r/sm+qX5/vgl99f1ivTo8U/vX+2C67LpT+jx5ynowOik6jDtF++18Vv1L/gN+6n+TgF8A4sG+Ah2CkYMYw3kDQ8P3A/UDy0QgxBgEJ0QcBB3D8cOFg71DO0L2ApnCX8IPQjZB38HPQcABxAH/gZZBu0FhAVXBKwDPAN0Afb/ZP+3/Qz8xfuy+iX55fhG+M326/Xa9O/yT/Ek8NXur+3+7MPs7ux17Wbuhe/O8HnyfPSX9rX4t/ph/Bv+yv/OALgB3QKRA3MEHwY/BxgI9Al3CxkMXA1/DmsOqw6ZD44P5A4AD88OiA3KDHIMxQr4CIoIsQcpBpYFJgXkA/4ChQIjAXD/dP5m/ej75vpk+rL5LPkd+dr4P/jU91T3jfYh9gX2n/VZ9X71ZPVg9bz1rvWS9Rz2sfZr96v4mvmC+gD8NP31/eL+f//y//gAzgEwAuACqwNEBB8F0gX0BXAGfgdFCMUInwlOCokKFQuFC/wKQAryCVsJmQgZCE8HUwbPBV4FdQRuA3UCbQGIAOD/3f51/Zr8M/x0+5765/kg+a34j/hF+Nf3iPdr9433uvfS9/r3GPhV+Nb4Ofmg+UX61fp0+1T88vxf/er9IP4S/kb+Sv7M/Zf9xP3R/Sn+2f4+/5r/nADUAbICnAOuBJUFggaNBwgI9QcUCEYICwiUBz4H1AZ2BnsGbwbpBW0FVwX8BEsErQPHAtQBVAHTABMAa//K/lD+Ev6p/Sn9v/xo/Eb8PvwE/Nf70Puh+4v7fvs4+yf7VPt6+8/7Tfyg/B39sP2t/Yb9wP2g/R39G/0J/aT8BP2w/Zj9of17/vr+Lf8DAMgA/wCtAcgCNQM1A30DqgNtA0QDLgPKAnsCpwLoAtQCwALhAuECvgKHAgwCowFvASkB8wDRAIQARgBSABQAnP+C/3P/G/8M/0D/GP/2/gn/+P65/oj+Xv44/jz+Xf6//gb//f4l/2z/MP/K/rn+W/7U/d399v2H/W793P3W/cX9Uf7E/un+vP/iAG4B/wHcAkYDaQO9A74DTAMLAwADywKWAm4CGwLcAb8BZAH0ALYAegA+ABMA6f+0/6P/sf+Z/3H/bv+Z/87/+f8gAEkAXQCNAMYAnQBNADIAIAD7/+P/t/93/3b/jv97/0T/Av/h/uX+zv6Q/lr+Pv4s/iX+Bf6+/bf9/f0k/mP+5/5J/7b/ZgDqABoBagHfAR8CMQIPAsYBgAFRASkBzgAzAMX/yP+5/1b/DP/u/rX+rP7L/n/+J/5n/sT+pf6P/vT+Pv9Y/7H/EgAvADkAeQClAHoAZgCgAKkAaAB0ALwAqwBlAGsAdwAuAAAA/P+5/1//Tv8z/8L+af5i/lj+LP5F/ob+m/7c/nz/DQBHAKcAUwHXASACeQLNAt4C2wLbAqgCKALBAZMBRwHvALcAgAAsAPP/tP9Z/wj/mP41/iH+If4N/ij+YP6I/tr+Xv+J/5P/GACDAJgA8QBSAUgBWAGoAYsBPwFJATMB0QCoAKsAbAACANT/m/8d/8f+h/4c/sz91f3j/eT9N/6S/qb+9/6S/wgAZADDACkBoAE4Aq8CqQJ/An8CegI0ArcBTgH/AMAAngBYAPL/qP9r/x3/xf5p/gD+uf3I/e799P0M/jn+Xv6V/un+I/9J/6T/HABvAKkA8gAWARoBMAExAdoAgwCGAHYAOQAMAOj/n/9p/1D/EP+6/ov+jf6K/mr+Vv6K/sr+8/4c/z7/Wv+r/1YAxgDbADMB2AERAgQCBQLXAYoBVAEnAaUAPQBKAEkA8//T//H/w/+X/6H/kP9R/yH/G/8q/wv/7f4f/yr/4f64/tj+7f4b/47/5/8XAJIALgFNAVkBrwHWAc0B2gHtAc8BpAGbAYkBQAHhAJYAQADl/5T/ZP87/wn/7/4H/zP/Kf8u/3b/uv/6/4YA9wD4ACoBsAHcAaoBrwGiAUIB4wDMAJQAQwAoAPX/nP9H/xv/4/56/jX+O/44/hv+Lv5T/k7+RP58/rP+rf67/iP/lf/O/xoAfQCcAJMAwQDaAIUARgBRAEsAMQA3ACwA8f/O/7//pf9s/zj/Nv9F/0X/aP+j/47/jP/j/y0AMQBCAI4AzwAlAX0BigF0AYkBiwFIAfUAmwBKABwA///j/9r/0f+2/5//mv+E/zf/E/8c//T+3f4B/yL/Gv8p/0f/OP8s/1L/e/+l/xcAawBqAHYAlgCaAJgAlABXACwAKQArAE0AVAAsAAoACQAMANj/qv+g/4H/cf+Y/6z/kv+I/5P/tP/8/04AcgByALQANwF8AYYBlwGNAWwBYQE7AQsB9QDaAMcAwADBAJUAUwAmAAwAAgDr/63/df95/27/Vv9J/yv/Av/1/hf/PP9o/5v/3P8dAE4AWwBRADsAIgAsABIAyf+Y/5f/n/+G/2//b/9i/z3/Of9D/0j/cv+i/7P/t/+4/8z/6f/4/xcAMwBCAG0AoADEAPYAEQELAfcAxAC/ALsAZwA1AD8AOQAUAN//z//p//T/7//S/6b/ov+t/6H/n/+w/57/a/9Z/1v/XP9c/2//jv+r/9X/+P8NACEAMgAsABYA/v/j/8v/pf+C/4T/lf9w/2j/n/+n/53/nf+a/53/r//N/+X/9/8iAE8ATABcAHsAjwCmALUA7wBIAVwBNwEvATABHAHpAK8AfAAmAAgAEwDn/8z/2P+7/4v/fv9m/0D/Mv9Q/13/Wf+L/7T/zP/s//X/+P8dADkAPQB6ALYA5QAYAQoB2ACqAIAAQQD8/87/q/+N/4T/g/9n/1D/Sv8l/wb/E/8g/x7/UP+V/8D/8v8cAD0AQwBLAHoApgDIAPwAIwE1AVABQAEUAfkAswBUAC8AKQAgAAgA6f/R/7v/of90/0T/K/8w/yf/J/9L/1f/Vv9z/4//iv+h/8f/2f/o/yQAZABvAJYArwCTAIAAgwBaACMAAADQ/7r/tP+k/4r/fv9n/0b/PP83/y3/H/89/13/c/+c/6P/uP/7/ykAQwBhAGgAkQDiAAYBCAEDAQcBEQEIAdAAeABHADQADwDl/87/vf+u/53/c/9L/zn/KP8K/wj/Lf9G/2X/lf+q/8X/8/8PADEATgBrAKAAyQDTANgA7wD8AMMAcABLACMA6//R/8b/tv+z/6z/mv+P/4H/dP9m/2P/bv+A/6v/5f8XAD8AZwCFAI0AnAC3AM0A7wAbASIBIAEpASUB9wCkAGYARQAgAPv/2/+q/5n/of+G/3H/Vf81/zb/M/83/1r/d/+O/6P/r//X//v/BwAYABsAQgCFAJkAkwCVAKAAlwBtADkADQDh/8T/tP+U/4X/bv9D/yP/Kf84/yj/Jf8t/0j/d/+d/7f/0//x/wsAQgBnAGUAZgCIALcAxQC4AKgAjACGAIwAVgAfAAIA4v/S/7r/m/+R/3n/Zv9g/0n/S/9S/1b/a/+D/6P/xf/g/wAAIQAwAD4ASQBcAHIAhgClALEArACYAH0AZgBYAEkAHwAFABAADADx/+P/0v+r/5X/l/+G/3n/jf+m/8r/5f/3/wgACQAgADoAPABTAHMAlQCzALEAtwDDAKQAhQCAAHgAVgAoAB8ALAAhAAMA3f/C/73/t/+V/23/bf+I/5D/lf+m/6j/sf/W//P/8f/z/xkARABOAFYAdQCOAJIAeABYAGAAWQA3ACcAFgALAAAA5f/T/73/qP+i/5v/mP+J/3T/hP+r/7n/sv/B/+n/CQAeAC4ANABHAF8AagB0AHsAeABjAE4ARAA/ACwABwDv/+X/7f/l/8H/pf+U/5L/lP+A/3D/eP+M/6j/pf+T/6b/tv/E/9T/3f/3/xIAMABGAEUARABCAC0AHQAYABAADQACAPr/8P/t/+r/zv+z/6j/qv+0/8P/yP/N/+X/9P/5/+7/7v8GABsAKQA1AEcAaACDAHYAdwB+AHQAbABdAFcATwA+ADkAKwAXAA4A7//R/83/u/+u/7v/x//D/7T/uP/Q/9r/2//g/+r///8ZACUAKwA7AE0AXgBnAGYAZwBbAEwASABBADMAFgD9//f/6//n/93/uf+f/5n/qf+4/6n/p/+5/9D/6v/m/+P/+P8LAB4AJwA7AFcAVwBUAGQAZQBHAC0ALgA5ACwAGgAZABcAAgDu/+P/zP+z/6n/t//H/8z/2f/a/8//zv/T/9z/2f/h//3/AwARADEARAA6ABUAEwAbAAAAAwAZABMAAgADABsAAgDM/8r/0f+1/5n/nP+7/73/sf+z/7P/uf+4/8D/0P/U/93/8v8SACkAKAAtADgAPQA8ADUANAA0ADcAQAA9ADUAHAAJAAMA9f/n/9X/0//i/+b/3v/a/9r/1f/W/9z/7P/y////HwAtADQAQwBKAE0ATwBZAF8AYgBsAGcAZABhAFIAOwAeABAACgABAPH/3v/V/9r/2f/G/7T/sf+//8b/0P/c/+n//f8DABcAJQAoADQAPABJAFEAUwBeAGQAYwBgAE0AKQAQAA0ABQD1/+z/2v/B/7X/uf+z/5//kf+O/5n/qP+9/83/0P/d/+z/+P8AAA8AGQAgADMAQQBCAEIARAAyACQAJwARAPr/9v/y/+r/0v/C/8H/rP+Z/5j/j/+Q/53/o/+t/7b/x//i/+////8aADAALwAxAEsAZABnAFYATABaAFsAPwAyACEACgAFAO//1P/S/8n/p/+e/6f/mf+Q/5//rv+q/7j/4f/y/9//8v8wAEMAOgBAAFcAcAB6AHQAXQBMAE4AUwAzAP3/8P8GAPb/yP/A/73/nf+G/5v/sf+C/23/v//7/9D/v/8KADUAFQASAF8AhwBeAG4AwgDFAH4AhQCxAIcAQgBHAGkAMwDm//z/EgC//3v/o/+o/0r/QP+S/2b/Ff9T/8X/if/d/k//NgDx/47/SQDxAGoAKQANAZIB2QA+AOMAJwFKACgAyQB7AJ//iv/5/+b/XP9V/6z/Z/8G/27/2P+Z/4T/0f/j/53/nv8oAEQArf98/+3/8/9z/3j/+v/J/zv/of9eADAAqf8pAMwAOQD7/7wADAFyACIAsQDUADcAFwCHAEoAmv+a/9v/k/8H/+T+Bv/c/qf+6f5D/yn/Yv82AKUAtAAGAZQB6wHNAbIBvQGNASMBqgBQAOf/M/+b/kv+2f1I/Qz92/xr/DH8OfxV/F/8QPxO/KT8+fwz/XD9sP32/Vv+xP7+/h//af+5/+f/KwCCALIADQHUAVsCpQJWAwkEoQRSBZcFqAUUBlYGIgb+BdEFQwVyBJcDIAOWAkwBMgCb/3b+Cf1b/Mv7mPpB+Vv45Pcs9z726/Xs9ZP1RPV89fH1evYa9+j30vih+bP6Fvx4/c3+x/+QANkBXQN2BEsFUwZqBzgI6gh+CSkK0ArBCpsK4grmCnIK5wmOCSgJJQj9BnoGygWMBMYDYgNfAiwBsQAgAA//5v2u/IP7L/q4+CD3+/S58gLxX+9e7bbrrurl6Ybp8+ne6hDsye0F8OLyCfbf+Af8GgAIBDYHdQrgDd4QahPrFccXmhh+GUAa2Bn4GC4YhRYWFN4Rcg9cDFEJxwYbBEkBG/9y/bv7GPpR+Qj5l/h1+G34XPiM+I74LviH99r1QPNS8afvZOzU6JvmmOMe4APfYd7A3NDccd7j36niI+d56y7wBPYG/FUCIAlVDz8VEBvXHzckbSgKKzksPS1TLb0rvykzJx8jlR4RGpcU7A4BCpcE1/4W+qj1YvFe7hnsH+o96Q3pbulu6yvuefCt8+z3l/tP/6gDdwfACq4NkQ/iEOYRUhGlDycOuQoBBaQAify69Xbv1Op25F3eWdss2IrU5dNI1E/UIteP23bfLOUs7GvyzvlEAnEJgxAOGOAd8iKOKCQsri1oL+IvRy5tLMUpayW9IJwbaxWBD9AJagOP/X74UPMv74PsBepD6ODnGeg76ZvrXO6g8bb1yfnx/Y0C4gbjCmAOxxDcEhwUjBO6EuAQxwvWBlYDsfwr9d3wiupF4infFd2X18bVddeM1r7XXd3r4Evk0OuM8tH35f/JB5UNoxRfG7UfWSTDKO0qpCyYLSQsdyqmKHYk7R/ZG8wVeQ+HCpEETv7T+R71MPCM7Z3rdOnx6Ejp0emp6zvuCvF79An40fs5AIAEYwj9C9kODBFHEiQSiBFVD0oKcwUMAf35v/Ki7ezmP99i22vYrdNW0tzToNNB1Y3aCN/549HrTPMO+jwCSwp2Eb8YKB+hJG0pSyyVLskwazClLhQtdClEJBQgARvTE38NxweoAFj6z/XA8BPs5ulC6CnmIObF5xjpWevq7k/yvfX2+c/+FgPHBv0Kkg7eEEET/RSKFGATwhFIDZoHBwOg/Kz0+O4R6Xbhdtxh2U7VUtOC1F3Vxdbe2mvfOeQM62byMPlXAJwHlw5pFasbPSHcJeUoEivkLP4s3yuIKnkn/SJsHjkZWROqDSYIQgKJ/IP3CvN/78DsturJ6TXpZOkz6w7tJ+/X8kD2Evl4/eIBCwUrCSENJw9rEUkTsxLQESUQPQsKBkkBG/rr8pXt1+br3yPcYthV1JTTDdSM1HvXwNvJ3znl3eun8sH6wAKwCV8RKxiVHf8jLil+KwMuuC9+LlQtDCwfKG8j6B4SGeMSIg0BByEBkvs59i3ytO5/6xfqw+lZ6VXqf+xM7jPxYfWy+Cz8rAA4BH0HswvADmIQchKFE48SkRFJDyoK1wSq/6L4gfHr64/lFt8S29LXZtTp0mbTbdTg1gvbm9+75MrqfvGr+BcAlAfjDoAVYBvsIH8luih2Kx4t0yzEKycq3CZ3ItQdmBivEuEMPAdtAc/70vbU8l3vfez96nzqiOqg68TtF/D78r/2Wvrr/fkBtQXhCEYMFw/MEFsSCxMhEl0Qmw0XCZUDwv0v92Hw9+nm44reZtpj12XVvdRc1TDXPtpX3nfjS+mA7032WP0NBAQLBxIPGJ8d8iL6JsIpwCthLL4rdyoyKIok6B/NGkwVtg8jCpgEd/+8+qH2NfMw8B7uKu3a7FftqO5d8KzysvXk+Cf8j//BArQFZwixCrcMHw6sDrMO2g3wC3gJJAaXAbH8rPfv8Xfs7+eZ4ybgCt5k3LDbgNwA3jDgnuOG58Xrw/AC9mb75wAYBiELBxA6FBcYlxvDHRMfACDYH+Yenh1VGy0YERW+EfgNgApEB+0D+wCV/n78w/pa+YL4ZPiP+B35JfpM+4r88P1C/14AaQFcAiIDmwMEBFYEMATmA6kD7wK0AWYAl/5C/MT5HPdq9L7xX+9W7dXr9+qI6qbqS+uE7DfuGPA/8pr01vYp+c77Pv59AOYCUwW8BxQKGwzCDSYPDBCQEN8QnRAYEIQPkQ5xDWIMIgu1CXgIMgfkBeUEOQStAzgD/QLiAsYCswKuAm0C9QGXARQBZADM/1H/0f5Q/gT+vf17/YP9g/1m/YT9i/1Y/UT9B/2C/B78xfsD+w76Svlt+H33v/b19Sr1jfQW9LnzafM381Xzo/Pe8170PPU39m331Pg8+uD71f3Z//MBHAQWBv0Hxgk/C3IMkA1zDh8Pqw/YDwsQOBDnD4MPFQ9JDooNzQyzC6YKowlDCNUGnAU6BKwCXAEjANb+wP35/EP8qvtQ+xv73/qO+k76HPrf+Zb5bPkZ+ZX4JfiH97729fUs9XT0zPMf86zyffJi8m/ypfL+8o/zWvRJ9Wv23vd6+Tv7Iv0s/1cBdAOSBZoHbAkiC8MMKg51D64QtRFxEt4SJBMnE9oSSBJBEe0Piw4IDWILtQn5Bz4G0gR/AwECeAAp/+39ovyG+5P6tPkJ+Zb4J/jZ97z3vvfW99j3zvfT97D3ZPcH93z2zPUn9Wv0hfO28hXyuPGg8bLx/vF78h3zGvRW9Zz2/vd5+QP7wPyl/qMAuQLGBLQGjgh1CkYM6A1RD4gQihFiEg8TcROKE1kT5xIwEk8RVhAjD8MNXgzeChYJZQfmBT8EjwL2AFj/yf2i/JL7b/qP+eT4U/jg95r3gPeh99f3Bfge+BP4EfgV+PH3fPfY9jj2rPUN9Vf02POE8zXz8PLx8j/zxPN99ED1DvYT91P4pvkf+6b8MP7m/7sBpAN/BVAHHwntCpkMGw54D4oQchEkEnYSnhKkElQS1xE2EVsQaw9LDusMdQv5CW0IwQb5BEsDqgEDAG/+5fxs+yH6Afn+9xb3TvbH9V31+PSt9G30GPTq88jzW/P68sLyffI38g7yB/II8jzywPJa8xX0FfU39nP38Ph5+vb7mv1b/yQBDwMWBQQH+wjxCrkMfw45ELIRzxKvE2MU6RQmFQMVlhThExATGRLvEI8P+w1KDHYKoQjSBt0E7gISASH/V/3Q+3n6PvkB+Or2JfZ/9fr0nPRB9AL06/PZ88vzxfOu86jzwvO3853znvOR84jzs/PW8wT0iPQW9cT1xPb490H5o/ob/IT9Bf+tAEUC2gOABRYHowg8CrALAg1JDmsPQRDfEFkRiRGPEWsRAxFVEJUP1g7qDdEMmQtPCgAJqQc5BsoEfAMbArsAeP88/iX9HPwR+xb6SPmO+NX3M/ex9jv2xfVh9fz0nPRR9B709fPC85rzh/Oc88vzA/Rb9Mj0bvVI9iv3MPhS+XL6tvsf/XP+0f9AAZgCEgScBf8GSwiMCbgK1gvaDJwNMw6tDgkPNA89DxAPuw5kDt4NPQ2IDJoLpAq3CZAIUwcsBu0EpwOMAmQBNQAt/y/+Nf1I/GP7fPq7+Rn5g/jy90T3rvYu9qr1OfWm9Af0oPNR8wzz7vLh8uHy/vJa8+jze/Qv9RX2F/c/+HL5yPo2/Kf9L//GAFICzgNNBaIG8QcpCT8KRQsUDLwMTQ25DewNCg4MDssNiw1BDdYMVgy3CwMLQgpoCW0IfAd+BnkFcQRgA38CpwHEANz/7/4M/jr9e/y6+wf7Qfpv+bD4/PdG93n2rPX09FL0uPMp87byR/IE8vbx8/EL8mLy8/Kq85j0svXn9kD43fmW+079Iv/7ANkCnQRIBv0HkQneChQMNA0EDqgOKQ9XD1oPNw/jDoQOAA5RDYQMlAu3CtIJtAiPB3gGaQVYBFADVgJjAXgAmP/B/uL9CP0o/FD7g/q8+e34Cvg+92X2j/XD9Mzz7fJF8pfxBfGc8E7wPfBN8JLwE/HJ8dXyDvR49R335vjf+ur89/78APIC7ATeBqcIPQqmC9YM1w2aDhsPXA9YDyoP1g5zDuoNIQ1XDJULwQrzCRkJOAh5B8UGIwaQBegEUgTNAzADoAL+ATIBawCZ/5z+d/1A/AH7svk5+LX2KPWM8yHysfA87/rt5uz661/rM+sm61Xr8Ovx7GbuIvAZ8lz04fak+Y/8ef9cAi4F3weBCvYMEA/gEFUSXxP8EzMUABRWE3wSdBEaEKcOJw2kCzgKxghzB1QGPwU7BHADygIhAp8BTQERAdAAeAANAKT/N/9n/kP96PtC+m74Vfbr81TxvO4e7Jnpb+eN5QzkFOPH4jXjOeTg5U/oX+vf7uvySvf1+/4A5wXFCpEP4hPgF34bUh5nIMIhHSK/IZsggR7FG2gYrRTaEOEM7wh9BY8C6//p/Yz8qvtp+6j7Sfxe/ZX+1v9wAQ4DXwR4BQoG6AU7BdMDfwEt/vT5KfXB79np1uMf3vDYldSh0STQHdDS0T7VMdpq4HznEe8V9yv/HQfGDrEV9BuOIS8myCkuLCktwSwmKzYoECQaH1IZExPbDMYGBwH/+7D3JvS28STwdO/g7ynxavOi9of66/6eA1YI9AwqEWMUuRYGGP4XPBeZFbQSXQ/EC44HPgOc/kX5sPMd7Yjl89271ZPNAsd6wSC+mL6nwZrHKNFc3OjobPaaAvINRhjPHz0mzyvsLp8xHzR+NFo0QzNcL5EqcSTUG1ATmAoQAaj5d/OS7anqA+ls52To7ukh67LukfJV9qD83QK6CCQQCxZkGqMenR87Hn4cnRfAEUcNjgfOApIA3/0v/Nv7bvlB9iPyO+po4f/Xd8wSw128/rYBt/u7Y8PWzybf7e0Q/gINaxi0IuwpcS2sMOEx/zAuMdgvyCyhKlMm1h/2GUISiwmrAoL7NfWo8W3uk+wa7TntIu6u8GXyKvWW+V/9iQL0CFQOIhSLGV8cSx59HmMbvBfrEiQMlQbHAQf9tfqg+Yn4+/jf+P/2cfTq7sDmEt6R0wfJXcFSu8K4LbwTw/3NQN0O7VD9Zw0AGt4jKysqLl4vhy9OLX8r+im0Jt8jziBVG40VXw+JB4AAV/po9Mjwne4a7d/tLu8N8JXyMvVN90/71v9bBHIKbhCwFZ4aSh3yHTEdWRkOFKAOkAclAdn87PjV9gz3hPe6+A76tvnz95PzA+xG477YO81FxFy9LLkdu7PBzcuA2vzqYPttC7cYyCLvKRAtBS4GLvUrzyl+KNMl5iJbIN4bJBZMEGYJXwKK/IX3AvRP8m/xGfK188f0q/Yq+QX7A/4tAiEGFgvCEJUVwxmcHGodmBx5GYYUBw9xCKwBh/xb+E/1jPQr9WX2FvhQ+Rz5r/Zi8dfpQOC+1AbKacHcugm56ry5xOnQ5OCa8QICKBH2HH0l1SquLL0sjiv3KPMmFiXSIdoewRthFmMQlgp6A9v8+Pew8yzxi/Cy8GryrvSo9s35AP1p/xwDSAfEClYP9BM5F1MaMxzTG0UatRZTEaQLrwSP/WT46vPV8Mvw0PGw8yX3efkQ+vL4JvS87GPjzdcxzaTE/b3QvB/Bzsh/1Vbl0fTNBEMTpx2OJRMqCStBK9wpGSefJXEjJCDkHUEamhR1DzcJ9gFz/G/3N/Oy8SPxs/Fq9O/2nfmL/YYAVgN2B84KAQ43EmYV/RdRGowagxlYF90SvQ0TCD8BuPtx95fzTPLM8pbz6fVK+NP4/fc/9E/tvuT72bbOj8UWvm667bxaw8bNzNy07Ir8YQzuGCQi3yi/K5ksnCygKq8oHCf4I/kgzx0dGCMSPAyjBAv+Fvky9H7x8/DW8IjyUPWY99/6VP7sAJ8ETAjxCrIOWBKrFE8X6xh/GKkXRBXbEEQMmwY0AFD76PZj86Hy7fL98+b2X/l5+rf6EfiO8q/rhuJ62OjPc8jswzHExMcUz4raVefA9LECgA7qF2YfeiNqJV8mTCXBI5AiVCA1Hn4cThm6FUYSOg0RCKsDq/59+q73C/Wv88TzLPSu9fz3MPpj/fcACQTDB3cLXQ6HEQAU+BR6FYcUzxG7DpAKZgXeAHb8iPh+9kj14PT29ff2fvfH9xT2avKr7QDncN+N2BbSbc0JzDfNkdFD2bHije09+RQExQ3jFVEbzx7BIMogBCCyHqkc+Rp+GaAX7RUhFKsRDA9fDCkJ2wWUAk7/p/yJ+iD5nPir+Ij5X/up/ToAKgP3BZMIDgvyDPgNLA5zDd4LwAkeByIEKgF8/nv8O/uW+o36Avu5+2v8rvwR/Ij6Fvi89KjwBOxU5xjjpd9+3fbc1N1P4IbksemN79T1nfusAAAFNAh3CtgLWgzADDsNxg20DvoPXBHUEhEUohSHFKwTDRLQDyoNSwpvB/4EDgOvAc4AdgCbAMAAHQG1AfMBIwJVAjkCFgLPAUIBqwDp/wz/cv7J/RT9z/ye/KT8H/1z/cr9VP5v/mr+Rv5L/f37k/q6+Nv2E/Up85TxWPBp7yfvPe+T74nwqvG18iP0aPVH9m33mfiy+TP75/zY/lEBBQTZBtcJhgzyDioRsxKpEygU6hMkEzIS5BBBD74NMAyxCpYJpQjXBzIHhQYBBmkFewSHA1QC1gB+/zH+vPyq+wf7lPq1+i77xPt5/B79gv2S/Uj9fPxl+x76wvil97T2CPbc9fX1JvaC9tf2BvcK9732T/bL9Sz12vS99LH0T/Vr9rD3lPm++wb+nwAyA7wFPwhwClUMAw4gD9cPWBA/EMUPJQ8/DkUNNgwXCyMKZAmrCPoHWgeHBrIF0AScA0IC3gCE/1j+hf3s/Jj8nPy+/Oz8Af3W/Gf8u/vX+sz5xfje9/z2UvYo9hj2EPZX9qL2yvYL9z73Ofcn9xD3+fby9v32P/es90j4R/mD+vL7rP2Q/50BywPbBc0HngkZC0IMGw2RDckNtA1dDfMMXwy6Cx8LaAqtCQMJRAhtB5QGrwW2BLQDvgLzAS4BbADp/3v/Jf8b/xD/4v7D/or+Df6I/ef8/fsN+zj6f/nt+Hj4RvhC+Cj4Q/ie+Mf43fj1+MP4oviL+CH45/fJ96n38Pdw+Aj5Bfo6+3n8Hf69/0QBDAOUBAEGawdoCC0J1QknClMKeQpDCvQJtgk3CbsILQhkB74GFQY4BXEEugPwAjcCnQH5AIgAPgDi/8D/pf+F/4//ev9A/xz/5f5p/vn9lP0U/bX8i/x9/Hn8hfy5/Ov8AP0c/QD9u/yM/EL80ftS++36lfpI+hj6BvoS+kD6r/o6+//7Af3q/fr+OwBPAVECLAPKA2YEwwTwBB8FEgX0BPUE0wSwBKcEaAQYBOQDhAP0AlECnAHvAEYAsv9T/wP/5f4b/1f/lf8CAFEAZAB0AFkAHgDl/5v/W/8+/z3/Zv+6/+r/DQBDAEgALQAAAJD/Bv+d/hv+lf1M/fL8jfxV/Dv8Ofw3/Er8gPzK/D/90/1q/vj+rP9qAPkAhAHyASMCJQItAjIC/QHLAacBhwF/AYcBlAGNAXMBQwELAbkAWQD4/4H/Uf9s/37/y/9TALgAKwGoAdcB0wGuAWwBHgHOAI4AcwB/AKEA2wAGASABPgEjAeoAnwAiAKb/Pf/l/nz+I/76/c79wv3G/cf93P0E/kb+ff7C/hz/ev/r/1YAywAxAXUBkwF/AVgBDQGFAAAAiv8J/8P+of6N/qz+wv7U/u3+5f7L/qz+fv5m/nf+jf7n/oD/AACVADUBowHyAREC+QHDAXsBNQHoAKwAkQCHAI8AsQDHAKwAngCiAGsAGgDW/3b/H//r/rj+bf5K/ln+Q/5S/nX+f/64/vT+Qf+Y/+P/UQDOADwBpwETAkwCXgJpAiMCxgGAAQUBlABAAAgACwAJAP3//P8BAOP/o/9b/wz/yv6N/oL+rv73/lb/xP9LAL8AEAFYAXABXQFFARoB/wDeALcAqwCnAMIAzwDEALsApQB7AEYAFAC//3D/Sf8W//r+9/7i/u3+AP8B/x//OP9I/3P/qf/e/yUAgQDuAEYBfwHJAe8B3AGfAU4B/ACFABYA1f+9/7r/xf/o/wkAGAAPAO7/pf9H/+v+jf5h/l3+U/50/sr+GP9d/63/2//j/wMADAAEAA8ACwAhADYAVQCQAKEApwCWAG0AVQAcAMX/dP9G/zX/If9A/2b/af+R/73/w/+p/5D/b/9P/1//c/+2/yYAigD9AGsBvAHbAcIBcQH7AJQAHgC3/3D/Rf9i/5f/2v8OACAARwBFACEA7/+d/1//L/8X/xD/H/9Y/5b/4v8qAFcAiwC2AKwAnACqAK4ApgCyAMQA0QDnAOgA1QC6AIEANwDw/6T/Xf9D/y//IP9B/2b/hP+c/6T/lf99/3//ev95/6v/AQBvAO8AdgHhASMCUAJMAgAClwEgAZMALADa/5b/gP+A/5z/tP/Q/+H/0P+2/3T/Pv8I/8X+qP6K/on+tv7o/iP/YP+k/+f/GQBFAFoAbACQAK0AxwDkAPEA+QALAfMAvgCCAEEABQC5/2//Lv8W/yb/KP86/1L/XP9m/3D/Z/9O/0j/aP+L/8X/KACQAPQASQGGAZYBqAF9Ae4AhQAmAMn/ef85/xP/Cv86/2n/gP99/37/gP9v/2L/Qf8j/yT/MP9M/37/ov/M//7/LwBkAJEAuQDQANsA2wDwAPgA8QDlALsAqwCIAFgAJwDT/5D/Y/88/xT//P4M/yj/Q/9w/5//uf/E/9H/y//R/+X/4v8gAG4AqwAWAXwBwQHVAcgBqwFoAfYAggATALf/c/89/zL/L/9G/3j/lv+n/7r/yf/K/8X/sP+p/7T/xP/S/9z/AAAsAFQAdgCIAI0AnQCzAJwAdwByAF0ARQA0AAsA+v/Y/5//Yv8z/xn/5v7j/vr++/4r/3b/p//J//D//f8cAEYAPwBPAG8AmgDuADABbwGIAYABiQFQAQcBrAAiALL/V/8i/wL/6v7Y/uj+JP9N/2v/Zf9X/1L/Rf9Y/1f/TP93/8H/EABUAIoAqADXAPgA4wDaALsAhABhAEAAGgDW/7v/p/9f/zz/Ff/t/tj+y/7c/vH+C/8f/1T/nP/S/wgAMQBrAKUAvwDuABgBIwFAAV4BbQFsAVkBRQEbAdwAjAA3ANb/Y/8X/+3+z/7C/tf+8v4i/3b/lP+o/8D/s/+s/6//pv+s/+P/FgBGAJoA7AAhAU4BbwF2AWYBOAHyALYAZgD4/63/U//y/sj+rf6p/q3+xP75/i7/av+a/73/5v8KADEAUgB2AKAAvgD/ACQBKgFVAVoBRwE0ARcB6AC3AIMALgDi/43/Ff+1/ob+Sf4a/ib+Kf5Q/rH+8v4Z/1b/i/+u/9T/4f/f//j/EQAcADgAbQCcALoA5wAdAUABVwFjAVUBKwEFAekApgBRAAAAu/+Y/2z/Sv85/yT/H/8Z/xT/FP8A/wH/Cf8L/zP/Yf+d/9b//v85AHUAowC0ALAAvQDYANgAxgCpAIYAVwAcAOP/mP9e/zb/DP/1/vr+//4I/xz/Hv8O/wv/GP8M/xH/IP8p/1z/k//E/wwAVgCcAPMANQFnAZ0BzAHWAbUBmwF4ASQBwQBcAPL/qv9z/zj/H/8a/w3/I/9j/5//0v8IAE8AngDuADABcQGvAc4B/gEgAicCJQIGAucBxQF4ARIBoAAPAIb/AP9n/ur9iv1J/T39X/2e/ez9Y/7a/j3/n//e/xMAJQAxADgAHAAgAAYA/P8TACYAVACHANsAOAGaAe4BDQIuAi4CDALNAV8BBwG2AGEAOwAkABMAPgCDAK4A8QBTAZ4B4QEGAv4B7AHGAYkBNgG8AB4Ai/8V/4r+8v1v/df8MfyS+8P64fn1+NL3m/aB9Z70AfS688/zYPSh9Wv3fvng+3L+BwGgAwcG8QeECawKQwuWC4YLEguCCrsJswjKBw0HLAaCBRQFqwSoBPYEdAUrBggHAAgECf0JhQqaCk4KYAnuBxAGywNkASP/G/1x+yr6DPkA+JL2gfSu8bPtuegu42Dd9tfb06zR39Ei1YvbsuQk8Nr82QlIFvsg8CjjLYUvzS2bKUcjkBuoE/gLMQUCAGL8Lfpq+br5lPrv+179gv6s/6YAYwFiAosDvgRDBgkIqwkwC5gMYw2PDUINDAw0CgEIKQUoAn//9/za+pH50/ie+LH4oPgh+I/2lvM972XpRuLf2t3THs7ByobKLM6s1XPgKe6m/Q8NWBtMJ5gvyTPzM18wzCluIVYYxg+OCAwDx/97/nT+af/0AFwCFANIAyoDagKLAfwAewAvAC0ARQBRACQAi//s/nX+7/3i/Zz+sP8uATQDBQVDBu4GwQa6BRcENwKBAH7/dP9DAPwBGwSOBeMFTwTI/1z4g+6t4v/VTMoPwYO7B7smwJXKqtkV7BsA2hNOJeQy3zuiP/Q9Gzg1L9kj9hcaDX4D1vu/9ufz4PJz8zP1tfem+on9ZwBZA6kFTgfRCJMJPwm9CPUHggYvBWkE1AOqAyAEswRwBe0FjQWtBPoCPgBy/dj6Y/gv99b3zvko/bQBSgbsCbELowoTBs79ifI65RjXI8o1wLm6vrqRwAbM8ttU7qUBGBRRIz0umzT+NeoyyyzLJNkbFhOOC7gFXQFH/ob8ofsk+y372fsK/YH+dgAbA6cFqwdZCR4Kggn6Bx8G8gPMAXwAQwD/AFUCKwT9BbgGGwZ5BKsBqf12+Qv2s/Pj8lL05/fL/G8CWQgvDZYP8Q7aChMD1Pdm6jPcrM7Pwy+9/rugwJTKJdm+6gv9cg5aHfsnNi53MMwufCrKJCoetBfiEXwMuwd3A2X/DPyc+c73hfcG+Zb7K/+DA9QHXQvODQUP4w6iDboLwAkTCMgGGgYgBmUGTAb1BTsFbQPSAAP+//oZ+Az2IfWI9YT30fpG/z8EeAhgC0EMsQk+A2r5zexY3ujP0sOfu3+4o7saxajTueUw+RAMhByEKLovhzLXMNIrWSU0HtkWVBDGChQGWQJG/xv9/fue+2z8pP6yAR4FvggCDDYO6w5BDowMygmxBkAEqgLuASECSgOXBEkFTAV+BMkCLwBZ/fr6EPnZ9//3Vvk8++r9bwEKBRMISwolC58JMQWj/RPzWuZ82EnLFcEHuz267r+Jy3LbLu6YAUoTsyGhK7YwpDH1Lo4p9SIjHCkVSg7rBwMCpvxF+Ir11vQj9oD56v6RBaoLVxB/EykUERJ4DnsKdgYjA88BgQLcA04F9Qa5B5AGPwS6Afz+B/wB+r75Cvop+in70fzB/aj+yAAvAygFBgcACJ8GfgF6+ATtjd+m0CLEAL2pujy+d8m52dLrrP4iELEdZSY+KowqfijyI5MeZxrqFSkQ4grXBbb/5vk59rP0mPUq+f3+dwaVDbUSIxYOF14Uvw8MC2gGVgIIAPL//ADzAQcD+QO8A4wCcgH7AL8AagDiAPAB8QH6AFYAtf+p/pD+VgD/AjIFaQbxBQsCKvlw7D3eLc9PwRq5KbhZvffIkNrp7pcCfBOHIMUobyuuKTkmsSGHG7oVPxESDNoF/P+3+gT2sPJN8qb1ZPtwAsIKqRKPFwMZyxc7FJUOgwgiBKgBjwDvALoCVQSABN8D1wJNAb7/Ef+N/8AA4QGfAgcDUAJXAF3+dv11/X/+EwH6A0AF1wMI/+r17ugw2hvMEME1u9C7+8Loz2HgHfKMA2MSWB0HJWwpiiqkKTcn4yL5HMIVbw3XBMr8Ofab8nPyOfXp+pkCIgpkEMcUnBbiFQcTGA9UC9gH7wRtA5MCkQGjANH/8/5P/nv+rP+wAQcEMQbEB/YHgwYjBIMBxv6s/FD8ef18/xMCOwQmBDUBp/u+8r/mDNpZzs/Ej7/Uv0vFrM+j3Vjt+/1TDVsZ4SJ0KY4rrirpJzsigxoyEpMJswGD+wv3IvUQ9qH4v/yAAiAInwyCECATtBO0EnIQRw24CR4GGwMZAcr//P7O/gP/Iv9W/x8AOQFgAqADYgQyBHgDWwLdAIz/wf7V/iEAQAJzBDAGRga6A7r+6/Yd7L7fTdM1yMbAh77FwaDK5NdR52335QbwE/UdKCVNKZkqTyl7JdIfvxhNEPMHxgC++uD2C/b29/b7QwHbBskLVA80Ed8RpBGhEFYP8Q3YCxgJNAbMAmL/Nf37+1b7/fvX/fr/KgIiBFsFyQX7BG4DjwLUAfQATwGsAoADBgSpBIsEPQPiAF/9zfdU7zXkBtjQzOnDVL8SwZzI8NMj4v3x6wCiDTgYdCDUJVcoKSiPJbEgJxk4EOIHJAC6+bL2x/aP+A78kAD2BOUILQzsDgoRDhINEpIR/w/rDEoJXQVDAR7+0Pza/OP9u/+oATwDGgSHBNwEbgQAA8EBCAH5/2H/EgA6AXIC7ANaBUcG+gWsAzf/0PeI7M/ectH/xVS+Db0owtzL4thy5xH2GARpELoacyOuKX0sKyy8KMwhbBgeDgkE6fu09mL0BvXT9377e/9nAy8HAQuSDncRqxP+FKcUjRJnD3AL4gaAAmP/+/1+/WL96/28/t/+uf5n/3oAywDtAKgBRgKnAhEDggP0A7MD6wIVA8QDZQP+AZz+4Pau6hncxM2PwgW9T74IxjbSj99q7Cf58gQ2DyQZpyLjKdct5y1iKV0hLBcCDGsC0fur9yX2NfdD+cT74/4MAqEFDwo0DmcRzhORFDITkRBLDXsJtwWXAokA8/8SAEQA7wBnARABCQG6AQ4CvwEtASEABv9u/m7+bv/0AMABcQLLA6IExAT9Ay8AG/jp69LcHc5Ew9G9ur7pxYHQI9yg6Fj1+wHGDpEaXySQK4EujywiJ0cfyBWvDGYFCADs/NP7wvvS/LL+ZADXAogG+wnsDJQPrxD6D1kO/QtwCUkH+wS+Ao0BwADs////VQD4/8f/rP8R/83+9v7I/p7+x/60/tz+3v8DAeUB5wLMA2sEPgU2BZcCc/zQ8UvjpdRDybfCecIeyNLQN9q043ztmPg8BasR8xz9JYgq8ilAJvogfhoeFIQOygl2BhEEBQIOAdoASQCBAEoCqAQgB5YJHAuXC8ILIQsrCuMJZwkqCDcHaAb6BMsDxwJ4AdQApwAAAHj//P6H/fP7QvtM+2X8pv7rAKUC+wO2BH8F0wYZBzkEsvya7+beNc/gw7m+o8Bwx8rPu9j74fTrpfjAB5gWTyMPLMYuAywpJqIeIRcTESQMNAhFBUgCFf8Y/Zb8dP2dAHEF4QmqDBMNFQtyCK4G5QVXBpMHCAj8BiwFAQOdALT+Wv2I/Gz8vfwr/Yv9W/04/Az7FPt9/Oj+ugHgA7UEtgTWBNkF2ge9CXsJvwXL/WHxYuI31LLJdMQlxdnKndNS3ezlo+3K9jgC0A5SG7klMyuTKvokCR3vFfwQlw1DCzwJaQb/Aj0A8P6P/8gBJQQSBtoH7wjICGcIyAhqCRUK0gonC+QKpAnpBnEDnQCU/kn9GP2H/ZL92vz9+2r7jvuP/Mz98f5bAPoBhAP5BTYJcQvKC2oKPQfWASz68e+E45zWHsuBw0TCUMflz8jZseMG7b32oQGODYcZFyOwJ1gn4COhHsYYehP/DgALUAe+A4kAh/6V/ez8Yv2d/4oClgVuCDsK+AowCysLiwsrDMgLLwooCN8FhgOhATgA+P5O/fP6ifgM97v27Par91T5a/u7/XkAjgOgBmwJXwtIDJwMAgyfCfsEiv2j8hLlQ9eAy6vDmsFdxS3NEtdd4Wfry/UzAYwNEhoRJYwsUS9JLaUnRSDCGB4SkAzIB0wDD/+K+0H5jPjx+Xj96wEwBt0JbAyQDaINLg2WDKsLEwqwB/oEXgLp/zn+kP17/XH9Of3n/I38F/wv+yz67/mu+kn8uv6nAT4E3AWWBusGOQdsBzEH/gWbApL7EvHO5M7YJM+jyRbJpswO0/Dag+Mr7TP4BgTAD6QabiO4KA0qBijFIwceNhcfEK8JHQQ2/2n7SvkG+Vj6BP0AAdAFXwpJDWQOOg7nDKcK8QdqBT0DVgH5/1r/dP/g/ygAfgDsAOcAXwD5/83/Pv9S/rz9y/1O/g//OwACAiwEEAb/BmIGRgKB+O7pTNomzRDFHcTpySHT49vh4vvpTfMi/3gM5Rn6JMUqryrmJrshKRxmFhkR4Qz7CIEE7/9b/B/6RPl6+nP+VgRoCagLyAv1CiIJywZhBUYFKAXjA8wB6f+z/rP9+vxu/dn++P9wAOIADgH+/6D9GPuv+av5zPoL/e7/WAJLAxcD4QLUAlwCEwGm/tX5hvHX5i7cwdMHz63Or9K22Z/hV+m68dH7EQcgEvgbwSNmKBUpSCa1IUAc+hWUDyYK7QWGAjIAYv82AD4CkwTmBi4JewoTCs4IigdVBh4F5wOzApIBeQBu/0z/yQD0ApYEfgWSBSwEjgFJ/27+8/7L/ykAfgAjAQgCjwOUBaQFOgAt9Gnjz9HPwwi90b44xz3Sg9yD5ZLu1vgJBTQTUCG/K+4vey1NJvIcdxPqC6cH8wXMBDoDDgFP/h387ftO/voCjggRDVQPCA9jDLII1AVIBJEDRANtAlcAdf3C+oX5RPpS/Gn+t//F/y7+Efz2+g/7/PuB/VT/9QBOAsUDjwW1B4UJxwk8CBgFewAG+5/1R/AS6pjietor04TO4c3d0dTZmONP7Xn2Bf9FB+MP0BioILclBidPJKMe8heQEUsMlwg1BlcEhQLkANf/DADCASAEOAa3B4sIdAiyB1IHmweaB2sGSwRVAncBFgIUBMgGCQl5CcwHcgXTA7oCaQFFAPP/RABTAc8DHwecB+8AT/IT393L2rxrto66rcW10Z7bPuRm7Yv4igYuF/EnBDTTNwI0Jyv/HhkShQgkBPMCRgLsAJz+i/s1+UP6XADPCcoSshhdGqUXGxKODBkJwAcEB3UFsQLu/mj6NPY49MH0h/YO+bD7sPzU+9r6yPpJ/PL/XQSjB9sIrwfiBEAC0QBjAL4ANwFmACP+kfvX+Nb1RPME8c7tCOlV46zdc9k32KfaNOBM55/u8/Vw/TEFPw0JFTkbXR4bHgEbNxYvEbsMLQlCBnsDHQEdAK0AOQIZBQoJbAw2D0ESUxTaE4ARdw7oCoAHgAUIBcsEugO4AgADQwSvBTMHNgmkC7kNrA4PDkAJUfte5DHL67UYqO6lFbCPvx/NXNcu4JHqTPmFDPIhfDUmQcNB/jlXLawdMg8sBk8BBv73+9f5gfYG9C715PqvBLAPvhcDG/oY/hH+CSIFAAPCAV8B6QCE/v/6hfjC97/4FfvA/ef/jwDq/jH8dfrp+X/6vfxY/xUALP+k/h//YgCbAvoE5QVlBDEBY/4i/cX8wPw6/bv8Zvlv9Ojv0Ose6O3lkOXw5fHlnOXZ5UnnI+o37/r2jf+YBrwLWg8nEXYRCRIpE0ATpxGqDrwKdwbiAv8ADgG/AmsF3giNDHwP+hECFJUU0BOgEtcQ4A3UCsEIFAdvBWUEMgQ/BPkDkAO2A18FcwhXCwYNlQzxBS31Cd6Ax0q0OKhaqY+1TMRr0hXgsuvH9q0FcBj7KmM57D/+PNAyuyQgFjAL1gWCA7QBAABg/UP5bfb294f9DQXCDFQSVRM5EKULQwdCBLUDtQRfBTcFFATFAQr/1PxU+9H6afvo+8772/sZ/AT8Jvwp/T3+Bf8XAPUACwHMACcAxP5A/Uv81fvo+1r8bPw6/BL8+Pv6+7L7pfpp+AD1IPH27WXrk+hb5uHkJ+Ph4lfmf+zu82/8MgTYCY4OtxKPFbMXsBiWFiwSrQ1hCW4FUAMEA08DOQQCBnoIhAuMDvgQMRP3FOMUnRNIEtsPuQzfCo8JEgdMBFUCtgAKAAYBfAKYBPEHuApLDL4MVQdi9zLhwMrrtUGpWKuCth3CSs4i2/rlwvJIBXgZDCu5Nxw8vTjtMRko8huUEh4MXgW4ACX/WPwd+JP28vch+z8BPwjADEYOuQyJCecH0gerBzAIfwgbBlkCeP+f/AT6UPnH+Wr68PrC+mH6Tvpf+kL7QP1e/vD9z/3j/bn98v6BAZ4CZgG0/3P+Uf06/VH/rgGlAeH/z/3H+or3XvZo9nP1TvP373brxeb34ivhPOKg5VXqIvCW9vL8WwPVCWUPnROFFjQYZhiUFoMTZBC3DCgIogTeA6wE3QVuCLsLOA0SDYUNSw5QDqgO3Q+LECoQFw9nDS0LhQhbBsUFagZCB8wH4Qh1ChoL7go7CaEB8fDg2y3IxbbCrHWv0rjVwMDIJtOw3cfqAf/QFSApOjbsOpg4XDK2KIMeARn9E/EKrARaACz3JPCn8bP0MvhZAdkIOwliCfgJXwhyCXMNJA9XDz4ORglRBDQBzPxB+pb7lPp198/3Effb8mfz5PdN+XD7ugD2AUn/k/+1AMT/+wDJA/kDnwIvAR//hf0h/T39Mf5B/37+6vwJ+6v36vQQ9KvytfA17z3s8udU5WbkW+SY53DtfvLm94T+tgPLB9oMExE7EwgVWxWfExMS4g9ZDC8KMwlQB8kGHwm3Cl8L5Q1dD4gO1Q5OD40OHw+7EIcQOQ9aDaIJpQYEBrwFDga2BkkGAQenCc8LHA1aCt375uNLzLS2gKcDqFKyf7uFxFnOWNbn4ez2jxCaKC47dkN1QZg46SvwIPoZvRO6DfwH0/6d8+7sPOv77DD1sgC7BwMLXwz2CVsHrAhvC4IN/w5VDdkIBwXIAMX9GP+SAE0ApgBh/4L6KfYd9GfyoPLW9PD1eva+98/52f3xAkwHsApgC6kIZwX3AnEA5v4G/0H+5fvS+XX4/fdn+Jz5UvtB+6/4gvWk8gbv+Oua7HntUexw7WLvP+8N8Xz2j/sNAFwG5QqODHkPahLvE4wVaBajFYkTcRAkDVkL9woYCjQKYAvdCmMK5QtHDREOHhAcEpAR4g/jDeIKQAlsCVAJfQn6CL8G7gWgB5EJkAu8C7kCBvDw2tDEwrEnqySun7MBvA/Ffssf1VfnG/5sFogtNTtLPl87ODRxLAAngiK+HEwUSAg9++fxauy761byefo//wED3gT/AnACnQbNCk8NcRCMECAMUgiZBl0FfAVjB9wH9wTTALP8wfgP9qr14PYN9032kPYK92j3VPmK/aEBVQMdBcoGMgWeA/EEXQUbBHsESAOn/az4q/Tn7wjuD+7/7Obr4+mJ5pPkI+T05DPpu+7q8mL5HQBPAv4F9wsLDWgOvRPzEzARXBOyEuMM+gsDDK0G5QSlBy8HvAeRC4QMUgyjDboNCA5nD4QPOBBDEQYPowxFDMUJsgdmCfMJBgmKCa0JUglhCeQI4QaP/vrsDNqJyLy17q3NtPe5tb71ygfSHtVo5jr++g/cJKA3CzkhNEAyRyusJI8k0CAxGCwP0gIL96Xx2O//8cr4wPzx/BP+F/2i+/j+XAMpB10LpwziCjsJuwfeBloIFQkPCC4HwAPa/jj8Hfoa+B748Peb9Q/0IvSL9C/3ovv4/joBGAJLAZ0BkQOOBSEIqAn9Bi8Cvv2N+Kf0j/Rz9N/xSO/J60TmGOMv45fi9eJd5r/ovepM8DT23frvAb8IQwxnELITVBMmFKsVLhRpE4gTTBDODEoLmwi8BokHRwglCbMK0gvTDLMNdg4hEE4R8RBFES0RFA8aDu4NHAzFCrYKvgnSCKIJvQlCB5UB9PVo5avTK8O1uCq1e7WKuba+FMNlyqvWS+eL+3sQpCEpLakyBzOwMq0xvC6PLfYpSh/oFLsLDv8N9wP3C/WF8zb33Pas8mfzgPUt9nH79wJhBtMIfQsGC4gKKAw8DQgORA7eC3sIagXCAQz/1v1m+xL40PUZ88TwsfEC9O71c/gq+/H8h/6KAbwEjgZPCBwJRgeFBPUBwf4t+0/4gPXn8WDuOOtR6DPmGuVv5cvmYugH63vuuPEb9qP7QACCBMAIVQtTDfEPiRGlEnEUnxTqEhASFhGSDowNkg2AC/YJCgqTCGkH5Ag0CrkKLQwxDfsMHQ3ADfENvw27DVQNCAwZC3sLXgwWDEcK3wUW/C/vlOI21ejJbMRxwQW/xL9LwhvFoszD2YToT/hYCKgUbhy9IiYoQSxlMDAzxDIHLycoDSCXF1IPOQnQBJsAd/xf+Pzz6+/X7dbtIO/w8QL2lvkv/BL/zQFbBN8Hcgt/DvEQzxEPEQkP8gukCM8F1QJu/338cfmz9QLz0/EA8ZPx9fPY9WT3QvoB/QP/xwFaBNkE/AOyAjAA5fx++on44/UW82bwee2z6s/onOhZ6RPqIOyn7lrwQvNB9+T6uf4aA2YH/Qq5DmoSqRSOFkgY/hiyGe0Z/xjMF4gV3BGwDhsMQAlSBxsGFAQ+AoQByABjAFkBZQKVA7gFUwfACLcKvwuTDD8OAQ+dDt8NKQpsAov5Ye974wzavtOxzbbJ0cj1x0DIjMwA04LauORO8Fj6lgOUDWUWwx3rJb0s0S81MSox+S1uKbAlFSGdGk0U3A2HBe39vPhz8y/vbu1N69roauh26XPrS+9x9Ln4Q/x9AEkEiQezC1sPHxEwEi0SGRCzDcULbQnVBkEEIQEa/Zf5RPfq9HXzc/Ms8/ryU/NL82DzI/Qk9RL2+/a898n3ZvfE9rr1xfQD9JLz6PPK9K318PY9+Ln40vnU+0v9Nf8hAikEzQWOCOYKdgwRDyASERQ8FtAYdxkEGcwYTxf/FK8TOxKuDxoNZwrhBmMDLwHQ/7b+u/44/8r+t/6c/0QApAHdAygF5AWmBf4C9v48+qT0Ne/56g3nn+JX3/Dc7dmk2MLZL9sA3jrj3egn7tX0RfyHAk0J0xC4Foob5B+RIpAjByQcJOciviAtHpMa8BU0EcwM9AcMAxL/FPsp9470mvIF8b7wWfE98rPztPWe9+T5I/3p/yEClwTuBQ8GYwZyBpAFWQUbBskF0AQFBD0Cov+m/Tr8Yfoh+az4PPdE9ejzbfIT8ePwVvGj8Sfy5vIK80DzKfQD9eD19/Yw+F75Ovoa+wX87vzs/Rn/hQCBAXICSATIBeAGxwhiCi0LjwybDnQPBBBRERgRJhAIED0Pmg1VDU8NXAvbCd0IUgZDBOIDygJPASYBUQEmAPj/ZAEhAV8BsQLUAiICsAErARj/FP2L+zr4bPS58Yvuf+vr6bPodecc58rnS+iV6WLsY+/C8rj2SPod/UMAHgN3BTAIsQr6DL0OMhDHEJ4Q6hBgELkPfw9YDvcMggsLCn0ITAfvBrgFBgXSBHEDbAK7AdsADwCd/5X/mv5E/pf+1/3h/aX+Qv/N/5QAOQFnAP7/nf+M/kL+X/7F/eb81fvz+ZP4afc/9/f2GveW95v2pfah9jr2EvcX+Kf4X/lj+Rb6TvqX+hX89Put/Bv9S/29/df9Qf8HACIB2AJ0A/gE3AXiBvEIJQkLC1YLCgs1DKQKQAyIC0wLcAyxCTQK0gfFBpUG4QOdBYgDyQKBBJ8BmANtAo0CfATxAK0EYQInAWYDYv9ZAcj+sv0C/lD5lfqw9yH2fPdK9Nz1vfS98+f09PLx9I309PRR93D2ePhO+Qf6I/xQ/Hj+if93AAUCbQJQBFEEiwX4BjwGUQctB6AGCgePB8wHmghXCU4JzQkfCWIJxAiPB+sIRwj9BoYHRAeGBYgEfQZ2BDIBigWDAdz+WgIK/13+If3x/qv63viQ/HH2lvf1+KP23/am9kP36vUT9q/4YPZM91b5AfdT+T/4G/me+S34YPuG+fz5Ufy/+/b8W/7B/4n/0AAwBOICKAUeCAEHeAekCcsJfgbgClIKXwdOC7YKMgleB4YKfgYgA3sIMwKOARYD9QGh/xMAGAPt/FoAxAI+/UIBHQIJ/o8AKgBB/qH9xv8z/OD7Lv92+Y37jP3r9zf6X/yD9zv5xPuQ+N72svs7+Mn0MvyQ+C734vxu+0D6jf1A/wv+xP5EA6z+ygAKBPH+oQSxAfsC3AKlAfgEVv/bBVAChwEXBjgBygQKAoYFWQN7Az4HGALWBdwEJwUeBLoFmwVoAgYFCwUu/+gDMgNk/PEC3f0O/T79g/15/bP5wwD2+bf70P/K+RUAG/7l/2r/m/9fAZf7XgI7/KP8rv9M+cD9H/o9+537BPpC/Jz76Ps6/Fz+av1F/6MAugDfAYoBgAR7AZMFowUPA9wIhQKSBUoF7AJnBVABMwU+AHX/lwMO/Oj+QgLW+9z/hgJs/F8CIAHz/mkCTQD8AKIA3AEpAEcB8gCY/s8Bqv1b/50Bnft9AVH/Jfz9/4D97Py+/Hf/3vsO/cb/mvvs/TD+A/6j/C8AP//a/IICsf5r/SUCRP/z/IMC7P8t/TQCZwCG/n7/QgIV/03++wW4/YwB0ARX/sAEoQG/AoYDPwNXA6cCwgV9ADEEeQUp/74E1wNP/a4DAADK+yoCLftT/jn9e/tDAH/4VALz/EP9cQTV/JIDvQBoAr4AmgGlAvb9IgL7/4H8PACU/iz5+gF3+Rv98v89+UUBGfyG/YkASf6//qcCVACIAI0FNAGVA0UFEQI+BLEDaAIbA7oBUAHiAEH/Lv+y/pH9qv1C/1n8Pf/h/gD86gGZ/KD/xgHY/MoCxv9S/tgC3v3//yYB4f8n/7wBCADH/VgDdv0f/2gCIftYAXf+s/yQAWb8lABo/coApv7G/kMDTf2jAiwB7f2ZAof+2/6OAtP8BgHX/0X+xQAA/4MAUgCZAK4BNABjAQ0B5gAEALACh/+fAKUChf5bAT4CSv9jAEcEVf3NARUD1vsVA7//HPwbBCP71f8RARn7SgJq/ZL/ZgDj/u8AKAACALUC9/0wAiwBHvxMBM/9v/6mAvb9Dv/l/4P+iP0h//D+T/59/sQAtPyU/38ApvwkAh0ANgC5AeYCdgB+AtYDX/94BHABWAFHAxcBhACfARIAVP70AAH+Vf49AJH/aPyFAqD9g/yKA937sf8SAsn+s/+fAQD/nf8aAH8BbP9dAJADaf7NAEsDMP66AJoClf1VAeX/sP5kAO39PgDv/iX+BwCe/+z9XgHN/u79HgHC/IoAqv4u/78A1f4w/4oBHP74/1UDiP0gA8oAhwCDAJL/ugLv/HMCHwJa/KMEhP+C/tsCA//y/zUB8f8AAJP/gQBD/sn+ggDD+/4APv7W/QgBKP+x/jQAwAFk/HgD2AD3/FoGMv7o/2MDyf0zANYBW/+y/5ICNP4xAKAAr/3P/60AYv0HAF0AHv2v//j+zP6S/f4BQv7m/v8Dr/zdA+f/sQEcAiEBOAS7/qIFIf/aAi0ALAEoAIb/AgFc/qkAFf6/AGj83AER+14CNf16/lcCNfugA9X72gGs/jgAeQF9/5kCBgAfAsoAjgE+AAECfv+EAZz/2v+1ACP9DgIL/OgBL/0eANj/5fyxAs36RwKZ/Wf/mv8a/0H/b/7KAHz9GgHG/t8BPv+dAVkBif+EAhYAKAJA/6EDUv9QARUCNf+QAn79kwPt/QUAUgKp/OgBSP1CAIj+Ff3vAXv7GABCAFv81wE6/p8ARQBF/4YD3fysA/sAHv7fBOz8iwIAAN3+CwP/+0wDJf4i/hMD6PoIA+H9of7LAgj7cQOL/W/+SQPb+nQDKP9o/oIDxP3vAr/+xQAIA4j9VQTYABn/aQNA/2MAxwBrADwArP97AcH+Qv7QAKT+av2QAHr/p/1t/30Awf12/noBo/7D/lkCPwCj/t8CigDD/l4CrwC7/+gASQERAJr/DwElAPX+mADw/1n/VwCM/6D/Bv9//2P/zf7s/7D/3f4gABgAhP6EAFUAT/9RAY4ACQBgAYoABwBjAYUAZwDIAP4AHgDR/4EBQP8qANYAbP+HANP/OACz/+D/7P85/4D/0P9u/3T/8//0/oH/G/8HAD//MAD2ADv/PQFyAPj/agCBAPz/+v+JACQANf/f/xEAX/6e/4X/4P5c/8L/6/9F/0QARAAQ/1sAwgBy/7sAygDc/88AjwD9//n/WwD4/xwA1QCB/0QAIACl/2cAlQBUAJsAMQHG/04AYACg/8X/YQCC/yb/lP/g/u7++/68/2T/c/8OAAMA6P/qAE8A8P9IAXcANgD1AIIA4//4ALEAXP9JAF8AJP9yACoAX/+0/5P/+/63/iAAM/9L/zIAVf+5/8r/4P+j/xcA8gAEAJsAyADa/7kAAAF2AAAAmwBfADT/vAD4/xf/gAAlAJX/cAD1AC0AsgBnAYQA8v/TAZsAz/+vAXAAiv83ACQA//5w/z4Av/5e/jr/IP6U/bX+a/4Y/vv+/P7A/vn+M/9b/1L/jf+J/83/UwDJ/yoBLQEbAAoCcwGwALYBlwEfAFsAXgFi/z//xwDf/oH+ZwBa/7L+NwBSAFX/XgCxAIb/GwAnAED/OP9//83+s/5d/8X+rv5R//v+bP6d/8j/Uf9nAO4AdQCvAX0CkQFsApkCegI5AigDcgOLAgAEVQN9AqcC0wLwAewADwJAAMT+lP/l/U38Gv3J/IT7aPsu/Ib7H/ui/CL8Afy+/Ff9gf2u/Qn/X/9U/6QANQFKAV0C2gIEA5MCHgPGAi4B1wGAAX4AXwAeAG//N/8OAFoAxQBkAdECHgOeA2oEJwSUBOME2wTUA1UEkAP9AY4CDgKzAEUBkwFuABQAhQAhAJP+3/4i/gf8DPv5+db3K/bw9eHz8PKv8hzxkPLO83/0ffej+hr8Cf+EAucDVQakCWMLWwsJDRYN/wsyDKwL2gqDCQQJSQeGBSIFWQTIA6kDZwMEA/YC6wKlAxsE8wQHBsUFfAVKBR8FTASRBKoDlQEUAcL+1Pu9+uD4ofT78SnvCOga4n/g8tpL1pPZDdlJ2HveHuXi6BPxPP27AvQIfxKhFh4YOhyAHswc7htlG/cXchNiEbUOnQscCQQITAeEBOAESwbOBfcGcAr9CkMKxQycDFUKlQpFCvIGQQU6BFgAtf2r/AD7tvmV+bv53fkr+vf61/sL/QT+T/8RASMBpwEwAoIByv6n+wf4W/D36c7kCd4q2UjX3dXk1B3Ybt0g46HrX/WT/eAEzAv1EHEUEhj1Gj8bLhtJGQIVuRIKEP0L0grDCR0G+AT1BHUDKgSGBhwIbAjTCdcKCwp3Co8KVwpECScHwQVUA8MBGAIcAgcCPQLyAVgAYf8J/7D+bAB3AegB3gJHAs8BFgJGAmoAhP66+hfx9+gC4TnXzdLo0fHQc9Kt2HTeIeQi8X79VgZ/EmQaPBuSHMYdIRorF8kW4BD7CuMHawIYALcBRAMCBioJ9wn0CpUM4AxLDywRrg/EDhcMAwe8BKADDwKxAjMDOgLRAd0ARgDbAeYBzQFwA8UAlf1K/jf9NPzt/mQB4wENAjUDAAOr/uT76vgQ7onjFd1d0rLJOcqUytfLJ9XF3vbo4fccBboSdh6CIo8mdiYzHrEakBdDDWoIvAUe/P74Qvs3+bH9BwYwCAUN0hKeEsUUsRdgFUEUchJoDI8IAAURAAz/Jv6j+xn8iPxW+/H8KQAaAcMCHgYeBuYEiAU/BGsCMQO3AyAE/wXfBTEFzgXCAWj9xfvA8d3lQOBt1M/Ie8pBy+rKrtZ+4X/nt/Q3AhEMqBdIIMojiiNEHZYWMRGMB6kBjgB5+iT3U/o5+xX+oAYfDeoQQxUgF58WhhX6Eu4Qhw20B3gEBAJC/hL+RQCk/z7/xABM/5z9Lf9sAFgB6gJ3A0YCWgBg/13//f8AAY0BhACq/oj9Bvz8+wH+MP2S+nr3C+504lHd4daMz5/TS9hI1yDh9u1n8sr+Aw47EU8V5RpHFzcUCBPBDN0IrAS+/eb9f/4f/T0EEwoSCQsOfhJAEEQTvhbbE0kSBBCYCkMHkQSTAiUDBgJzAIYB/AAUAO8CJQWoBXwHBwlgCMMGdgbLBUEDPQH7/7X97fv3+5v8Rf6Z/nH8rPrJ9LbpZ+Ps3lnVw9In1ovSN9S43yDm0u73/mMIpg/uF0cYfRikGA0S7A6uCyUBEv2D/B/3LPnR/jn/MAR/C9sOgBTyGfkaORu4GLQS1A0MCf4D5QHj/+37TfqQ+nr5rvtvAasD9gS4B70G0gSjBQkF0wMJA+7/9/wC+2L5XvsC/1kAogK3BIQCSwA1/hT3b+3k5Cbaws9EzS3PO9IF27jmk+7K9isD0wyEEgoZaByyF3ARFA4nCJABeABXAAP9mvzoANYDuwYpDhEVLhchGc0auxfsEsgPuAt3Bv0C7ACY/ob8PPx6/dL+jQDHA1UHJAlcCnYLbQrsB/cFJwTFAVn/sf33/BX8vvzJ/1AB6gHSAl8ArPtX9SzrfeJ422fSes8A0n3S0thG5J3rqvTdANUJZBEsF0MZLhhmEWIKsgb//yr89/4j/vr8EAH5AgcGZw5BFR8bsx8mHsEamxbHDtUJzgcEA+3/eP8+/GT53vq3/AT/vAPRB44JSAr9Cn0KdAjgBjEF/wDb/SP9o/o9+Vb66/j593f6NPwY/yQCDADU+ibw1+BR10fRZs2C1CXcSt0Y4//nbupG91kHwROIIK4jYhzoFK4JAQA5AIgA0P+dAmkBnf6sAToGRQzOFdccpyD1ImcgpRo3FVgN/QMG/3r8B/pX+4X96Pt4+k37ffy3ADEHngvdDV0MFgcSAgT+OPuR/EH/3P6o/Vf8G/lJ9yn6FP5XAFUDnQPl/eT3xPB35F7bTNgA1E3UOtzS4FTlyu+n9+39wwiIEfgVTBn7F1gSLQt1A4L/f/62/RcACANDA+8FgwpkDUsSWhgZG2sbpRk1FfgPOAsuB0wEGAJPAF7/F//h/mv+Nf/lAPIBiQO5BFYEbwQrBeoEIwRRAxgCugDC/6cAnwFHALgAYQJ+ADL/0/4o+DPuH+aN3BPToM7gzXTPqtMi3PToT/Qx/xgOfRjCGqkdIx7nFgcRmw2ABXb9bPlc9h32H/q4/1sGNQ2jEkYYqRzkHJccrhulFc8OUwtaBuoAi/+8/ST6TPl3+k787/+7AxEGNAeMBhoFUwRFA2QCrALrAQP/RPyA+a32GvdO+Z36/Pza/7oAjABk/0X7XvNk6D/f5dlx1IrS69at2vreDOlI9HT/aQyaFj8c3RyWGM4UpRD7CV8GOwPl/Nz5hPoq/FMAlQUsC+gQKxTnFvwZDRknFkET1wzLBV0CIwDV/b79OP5c/IL7b/2G/1cCXwa+COkIKAhxBpQFQwSwAOT+3f1w+ov4wfkD+az4uf2oAdEAXgB2/afx+uXt3ybYPtMO1krZ7ds34dDoKPRh/wMJBBe3HgobWRtJGn8P8gknCWMCAf0v/Ab8ev7HAcQGMA70EFgSFxdEGN4VrhWDEykMXwVQAab9Wfr6+VP7DPss+xH+RQGQAikEYgbOBbECJAEgAYb/GP51/iT9xvl0+HX5Ovq4+lL8WP78/Sb8CvxS+7P4O/fL9BfwMeve5R7jduOd4zDnxe3j8Sb4EgEhB94NchSvFqAXxBWXEGUNPwppBv0F2wSSAQYCYwR8BnULOhBeEdkRGREnDjsNCA3AClkJdgd6Ak//q//c/w8BGASlBZUFFAb/BbgEFwSUAwQDiwK0ANv+Y/56/tn/3AAu/i/3K+tS3kHV2c2IzD3SXNVW2r/jXenz8yQEoA3HGAAi0BywGa8YjQ7zC2INwwQDAXwA4Pqc/ukFzgiYEUAXTxUuGIcZQhb8F7gWsA6kCOAB9frq+RD7IPyq/VP98/wl/vH/xgNiB6IHpQZkBH0AUv0a+wD6zviK9tz1FvaU9Y/3Cvuh/B3+yf5m/tf+Tv5c/DT6Rvbl8azw9e/777Dys/Ij8T/zsvOV8mf2PviL9rr46voD/AwAAgPQBD8HewZtBrcIjwg5CZQLQgrNB3sI2gj4CKYLGw55Dk0Owg1/DH4LvAqTCgELNwr2CBYJMwn2CHoJ0QkzCbIHEwcfB/UFawVTBScDsQBm/wD8Z/eM8uTpLeHn2vvTwc890HnRU9U23kvnP/C5+7EGSw+tFpQbghsWGEQVkRHGC/MHVATD/Rf5mfiM+e/8WgM/CVwNJhCeEn0VjRYMFj4V8hFpDKgH8QNlAIn9/PtO+6j6uvqE/LX+RwDZAXcCFQJVAmoCTQF7AIn/Efzo+Bn4+fZY9iP3lPjU+Sj5nPmk/FL9xf2rAAIATf12/Av6M/jw93D18fMW9KXy6PJp9Sv3g/nN+079FgCtAYEBoAJXAk4AbgDfALsAygFVAo0CUgNgAy8EZQa4B7MI+An2CXMJgQnUCTEKZgppCoAKhwrMCY8JCQo/Ct8KMwtZCt4IaAfGBkgHvAdsB9YG3wULBQEFIAVcA/v+OPmF8PblJt8m2tTUwtTh1gbW99nl4+/rlvVUAnsKMRClFgIadRvdG7AYIhWZEWAKowTWAb386fmc/Ij+QACnBWMKbA0bEZ8T1hRdFZsTRhDgDP4HIwMbAcn/sP3r/ET9l/y+/HX+xf4z/qT+Wv5B/Sf9UfxR+7z7qfu1+0b87PtU/In9o/2w/VL90/sP+wv7svrt+Z34rPYE9bf02vR29YX35Pcy97f4nPjD+LT8n/4F/xUBlAAn/1YASAAPAMkAD/8B/hH/Xv+GABwDCATWBIAH6QimCZ0LRgxKC8MKugmRB4wGagYGBlAGkQZ0Bm4H7Qh8CgEMxAubCZ4HhAZsBTQF8gWfBQcEiwLMAZoBBgGw/9j92vaQ6wDkVtzq1OHVZddb1tna1t/P5djz1QBQC4YX/RuYG9cekh7VGjoZ2xO4CX4B3/sS+Of3Ufq2/PX+fwGgBE8Jsw5CEgYUihRGEjQOHAthCKEE9gFjAJX9OfuJ+i368Pqo/Fj9DP5k/nr9uv3a/Qv92P1l/jj95PyS/G37GvxK/eX93f5g/nL9hv20/Bz8wvyd+zn5Cfiw9iT1WvXh9nD3Ofez+Ff60fr8/JH/8/9sAEcBqADz/x8AEACg/yr/jP4m/oP/IAJkBLYGowdDB04IgQndCcYK9gqGCXMIuQeCBtoFRQbgBqwG2AZEB7EGEwcQCNIHVgdnBm0ELwM5A/sCuwLSAgUC8ABcABoAagBy/xr8/PfW8MznoOO64JHcSd2P3trdbOIV6gHyMvxkBEQKBRCKEjcUrxZRFR0SQhCyDCUI9QVYBGICJwLYArQDtwWtB8AI3wmKCsQKoQsQDLAK3wf4BK0CdwFCAsMCUAEAAFX+gfwc/U3+zP3q/LD7y/nG+HL51vpk+6H7v/ul+m76kfst/O38Kv3z+yj7W/s9+6P7F/3B/Gv6bfnI+FP3uviK+jP5Rfkh+n75bvs7/tP+twAHA40CuQIvBJ8DMAObBHoE3QIYA4wDYgO8BNUF1gXyBQkGRAapBvgGvAYJBk4FYQTTA6QEAgZmBpcG/gb4BnwHpQi3CP0GBwW7A8cCuwLHAuEBXgD4/T/8r/xN/dr8Evv/9jLxY+wr6pDoNOcc5zPm5uVd6QHuN/M7+tz/SgQNCTUMKQ+yET0RQhAjDzAMKAo9CRcHLgVIBJUDhQPRA1EEawVXBsAGcwe2BzYHGAelBsoFNAViBPgDygOvAm8BswDt/3X//f4+/R/7fvnY99n22vae9kn2Qvdp+Jz4tvmJ+1T8Tv2l/sP++f0F/aj8QfzU+gr6wvmI+LD33Peg9433ePhQ+V36n/u4/Gr+wf9jAK8BLwNmBE4G1QcnCNoIRwn9CHwJuQn5CEwIUQdRBuoFaAVjBasFLwU6BeYFIgbhBu4HDQggCJcI0ghGCRIJEgf0BLcD4QKtAosC+gCy/oH9lvx5+/X6svnB9k/zaO+b6hDnIOb45UzmVee55wLpeO2U84X53P7+Am4GXAo1DqcQnhFGEZ8PvA1wDKgKfghEB80FrQOjApAC7QIYBPUExQSABKQE4wQkBQ8FVwTyA28E7ASnBLsD1wJTAkMCFAIpAav/nf3K+w77pvr1+Z35UPkr+B73evf9+Lb6GPyn/Pb75fpl+9D8Gv3A/Hj8qfuP+h76O/qd+lH7Vvwx/b386fsf/NP8w/3M/oD/r/9g/7n/IwHTAR0CjgOhBKUEJgUVBsEGtwe1CNoIBwjoBqwGPAe4B7AHCAcFBiYFUwVZBkAHIQiGCPEHRAeBBnsFCgWoBLwDFQMmAoIAT/9l/qb9ff0g/QL8LPrV9wb1F/Lw70ruvOzF6yHrI+rt6Tbs8O+t88j3V/uk/V4A9APxBsoIAwrTCtcKcApHCgoKlQkcCUcIQAelBqsGJgdIB/0G8AYcB7cHUggdCMoHkAdEB2YHYgeMBqkFcwV8BUIF4wSVBNUDSQIWAYkAe//b/dj73fg59RPyhPCz75Lt0+re6Annd+UE5rjoCusA7a7wYPSn9kn6gP+vA9MGuAn8C/MMKA0hDv0OeQ67DWgN4AyZCyoKmAkKCUYIuAh2CQAJUQiPCD8JkwkQCuYKyQq7CUQJPgkjCGkGeAVOBK4B+/4H/bL6cvh097/2PvXd88XzP/SB9Dn1f/Z992b42vk5+7L7pvsD/Mf8Mf0z/Sn9gfwf+2v6jPpO+sr5lPlK+ez4nvmE+0P9Yv6x/1QBvQJABBYGcQcICC4IBQhoBysG0QTkA8cCWQFtAAgA4f8FAJUAiAFhAksDoASWBTsGdQefCPUIyAiECEMI7AfFB3sHeQZ9BccEAQSNA9UCQgGr/0X+zPwo+zj5VPdV9W3zI/KE8NHuWe5E7jru5e7B7/3wjPLJ86X1Dvh/+sb95wDxAugEvwZgCDcKkwtxDI0MlwsYC9MK1wkYCRkIkAbWBYIFnAWqBgQHvgbyBgIHfQeACPcILQnOCMgHSQemBrsFIgXHA1ECcAEzAGX/uv7E/G36VfiT9mr13vPG8Vjvl+wE68Hq0epI643rq+tS7JftkfDG9Eb4Nfsw/Tr+fQC6A4cGtAhzCSgJJgnkCWELIQx5C7sK/AmiCYIKVwtcC4EKxwjAB8gH6QdCCPsHYwZBBaMFaQbNBqoG0AXHBEoEiATxBIQEUwMXAvoAKQCw/1H/4/7o/aD8xfvZ+qL5Wvi+9qL0PPKC8Lnv7O4J7oPtP+1v7dzu2PHa9AD3lfkn/In+swGaBCUHCQmLCXIKbwtnC6ULcgsrCioJJwihB7MHggZJBXUE9QKcAh8DGAMcA7wChAJvAwsEhASkBesFygU5BjMGxQXNBF4DgAIrAVT/hf7E/YD86/u5+1D7Cfv9+nD7GfwO/NL7lPuW+mT5cPih9/z2C/Yh9bz0hfQA9Vb2QPet9zr4Lfkg+2f9E//u/67/fP94ACsCxANpBIkE2gQsBU0G7QcxCIYHIAchB30HygfzB3MH5QUXBZIFywXeBdIFTQU6BZEFUgZPB9IGVQVmBNIDqQPLAzgD5AHw//r9bP1C/bT8GPx9+tD46/cL99T2X/aG9CzzmfLp8enxLvIi8j3y+fIz9Zf35vjV+v38h/7PAFsDbAXMBi0HDQg1CUEJhwn1Cf4I6wd2BxQH5wY3BnIF1QS8A34DAwRDBI4EoQShBAkFTAW2Bb8GAwfABuUGnAYfBoEFbARdA+4BDADA/pD9zPtN+s/4DPew9aX01PO48prxj/GH8QDxI/Ft8ZfxgvII9KD1svbF9xj6wvzZ/gABJQO7BCwGswe0CAUJIwlkCWEJ3ggxCGAHyQbTBuQGmQY5BuQFvQXCBbQFxwXZBZoFmgWnBUQFBgXZBDgESgOQAvoBRgG6ADIAYP9N/nX9Ev3A/DH88Pqa+dz4I/h097H2N/V785PyjvIB83vzfvN88/LzRPVZ93D5TPuw/Bb+CwBAAoQETwYlB6UHrwjRCXUKswocCusIDQjAB4MHxwboBe4E3wOJA5kDfgNtA3YDzQNIBJkEAgU2Bb8EUQRvBKAEaQTAAwkDDAIEAeIAywDX/27+Jv1b/Nb7bPup+gb5wvbx9Gn0bvQ/9PXzs/OJ883z9PS19nb4Gfqz+/z8Av6O/5EBQQMyBKcEOQUWBiAHDAg+CIcH3wa1BpwGcAa5BYQEYwOrAogCZAL/AdIBywHEARACrQJnA+IDyAOOA3cDhwPXA98DXQOgAvYBjgFjARwBUwAX/+z9Ff1U/If7Y/rB+BP36/WB9VT1E/W/9ED0KfQw9Rr38vhP+mL7Tvxv/SP/NQHtAsoDMwS/BJ4FowaDBwQI2AdaBzgHNgcnB/kGYAZ2BVIEiQN5A2ADAgOHAjUCTQKuAikDOAPGAjkCwAG2AdsBqgEaAUgAif8n/xL/8v6W/iD+kf32/Jn8P/xQ+/T52Pg6+DP4pvid+MH3B/dG95r4W/rA+038dvxO/RL/RQHMAgYD9QJ1A2QEYgUPBgcGggUlBfYE8wQRBfAEmAQ/BOYDjwOOA9oD8wPJA3oDSAOZA+UDlgP+AmECFAIWAv0BhAGVAM//ff9i/w3/E/4F/Zz8ovyL/Bv8G/uu+eb4Jvlz+Uf51/hj+Ez4xvjD+cf6e/sh/PD8HP6I/9AAuwHmAbQBHALkAoQD3gOOA74CjQI2A/IDHQR0A6QCaAK5Al8DywNJAzQCugH1ASQCKQIkAtwBlAF9AVQBPwFCARABxgCPAFQAOQBCAAIAW/+l/hL+q/15/SX9fPzk+5z7YfsT+7X6UfpJ+sT6SPuB+4L7tftX/Db9Hf62/gX/dv9tANoB+wJqA5kD1wMaBG8E1AToBIcEHASzAzUD0wKUAlkC4QFEAQsBLwFfAaMBvQF+AVoBtAEnAjgC+wHUAeQB4wHZAYoByAAQAJv/bv8e/1/+ov0X/b38dvwI/Gv7svpD+mv6z/oC+xT7K/t1+yj8Lv0l/sD+Gv98/xgA0QCPASkCVAIJAqsB3wGEAu4C/AKdAu4BqwHzASYCEgLNAWQBKAFcAc4BHwL/AaMBeQGQAa4B2AH1AbQBIAG6AIUAQwAXAKj/7v5S/iD+Ev6x/Sb9kPwp/PT7+PtC/DL89/sT/CH8Pvyv/CH9Pf02/bj9df7l/kj/ef9i/43/aAB4AcsBxgHtARUCiAJIA8QDjAMgA/YC9QJZA84DzANYA6oCWwKbAs0CmwIhAoUBGQEbAR4BqgADAHr/Jv8j/wz/qP5Y/h7+7f3p/Sz+af53/mz+HP7s/TL+l/6g/jj+r/18/an9Af5f/k3+AP4R/of+FP+W////HABEAKoA8wAzAXIBiwGXAZIBnQHtAVkCbwIkAukBDAJ/AgADEgO0AlMCQQJaAiUCsAEdAXEA6/+4/6n/Yf/9/q/+ZP5I/kv+U/5//p/+hf43/gX+Mf5y/oH+Nv69/Zb9Dv7G/v7+rf5T/h3+aP5Y/9j/gP///rb+4f6Y/z8AOwDm/67/2P+NAHUB8gHaAWwBNAG2AV4CcwJAAuABWQFKAZcBhAFSAUEBzwA/AEUAvADTAEQAtf9+/3n/kv/L/4n/uf57/sf+w/7M/hv/Dv/A/tz+T/+C/4X/iP83/9X+uv7X/t3+Y/41/oX+lf6o/tr+yv7O/nn/TQBzAF8AgwClAOkAWQGbAWIBAgEtAYsBowHNAd8BmAFpAcwBQwJQAkgC+wGHAYUBsAGrAWMB+gCgAFwAVwBRAP//tf+n/5r/cv9e/1H/IP8T/wf/if5A/mb+kP6W/kn+Kf5f/qL+xf6n/qn+3/5J/6r/cP8c/0P/k//I/+r/5v/d/xMAjwDzAOsA4QAcAVcBUAFMAXEBXAFJAUUBDAH8AEYBigFUAdIAoADYAAkBBgHaAJEAQgATACoAGwDi/6D/Jv+5/p/+7P4e/9P+kv6P/qf+4v4z/0f/If8K/xj/Tf94/2T/K/8B//L+Nf+H/3f/cf+Y/5n/iP+3/xQASABPADIADwAYAEUAZQBWAEkAUQBcAG8AbwBnAGMAbwCMAJ8AuADBAJEAaQBrAHEAgAByAEsALAAYADQAWQBiAFEAGQAGAP3/6P/9/wAA5v+0/5X/nv+a/7n/0P+v/6j/zv/4/+//4f8aAD0AKgAbAP//8P8MADYAHAC9/7r/DwA3AD8AVgBQACUAPACJALEAsgCdAHIAJQARAFQAWAAVAAAA6P+z/7//EQAfAMr/rv++/8//HgBnAEQA1v+9/x4AUgBKAEEABwDC/+j/TQBUAP7/tv+f/7T/3//3/93/oP+Z/9T/7v/b/+L/+v/h/+P/EQAAANr/7P/+/+///v8fAB8AJAAyAAIA3P8HAD8ATAAVALv/l/+o/87/3P+k/3H/bP9r/3X/nv/J/8n/tv++/9///v8fACQA7P/B/8//4P/s//X/4f/G/8//+P8fADIALwAZAAwAFQAhADkAOgAiABMABgAOACcARQBTAEkARQAoAAAAEwA8ADgAAwDi/9n/vP/B/97/1f/M/97/6//8/0UAkgB/AD0ANwBmAHoAbAA/AOj/wv/l//r/6f/U/+X/8f/m/wIAIgAxAE4ATgA1ACkAOABAADUAMQAgABsAJAAmAB0ADwA1AF4ATgA+ACQABgAKABAAAQDT/6//oP+R/5z/sP+//7z/nv+b/63/1v8BAP3/4v/B/8b/9f8GAA0ADQDy/+H/6P8UACwAGwAEANz/zP/n/xYAKAD6/8j/vv/P/+T//v/+/+L/4v8IAB4AHAAfABQAEAAOAA0ACQDw/wMAFwAcACsADQAEABMAEQARAAIA9f/s/+v/7//P/7L/rv+p/7v/uf+0/83/zv/e//v/CgAVABUAJwAiAA8AFwARAPz/9v8DAAcA/P/7/+z/6/8SACMADQDe/8b/6P8QABoA/P/h/+r/AgAZABUACwAUABYAFAAZAC8ATAA4AAoA7f/+/z8ASQAWAPH/4/8AADYASwA5ACYAGwAKAAwAJwAoAAoA8f/k/+b/9v///+f/4P/6/wAABgANABQAHAAZAB8AKQAoACMAGQAGAPn/AwAHAOr/3//w//D/7f/x//j/+v8DABYACQD2//z/CwATABcAIgAXAAAABwANAAMAAgD3/+b/3//k//b/9//s/+r/7v/+/w0ABgDz/+3/7//2//j/4f/h//b/6v/c/9P/1P/1/wEA7P/W/93/AgAhACIACQD+/xAACQD2/+z/7f/8/wAAAADp/+P/BAD9/+b/8P/2//v/+f/l/9n/5P/1//b/5f/b/+3/+f/t//L///8QACQAGQAHAAIADwAfABQABQD3/+z/6P/r/wEABwAFAAsA/f8AACIAKwAkABoAFQAOABAAJwApABgAAgDw//f/DwAsACcA9//V/+n/EAAtAC8AGwAHAAUAFwAiAB8AJwApAA4A9P/x/w0AJwAYAPj/2f/d//z/CgAAAPP//v8WACEAJQAkAB4AEgAEAAIAEQAZABQABgDu/+v/9v8DABgAFQAEAPv/8P///xsAHgAQAPz/9f/1//r////1/+3/4//d/+L/6P/z//b/6v/o//f/CAADAO3/4//r//7/AwD4/+z/6//1//j/9v/+/wMA/f/v/+L/6v/9//v/5f/W/9v/6f/x/+//8P/7//7//P/6//n/CAAOAP3/8//9/w4ADwAAAOz/4f/k/+7/9f/9/wEAAAD3//b/AAAQABoAFAAGAAEACQAUACMAHgAJAP3/8P/w/woAGQAGAPL/6f/q//v/EwASAAMA/f8AABAAIgAsACkAEgACAAoAEwAXABEAAgD1//L//v8HAAUACwAOAAAAAAANABcAGwAgAA4A8v/+/xcAHAAWABEABAD2//z/EQAXAA8ABQD8////DQAZABAA8//x/wMABQAKABAABQD6//f/9//7/wIACwABAPP//P8KAA8ABQD5/+3/6v/1/wkAEgAEAP//8v/n//P//v/8//L/8P/1//X/9P/z/+v/6v/s/+3/8v/0//f/9//y/+n/5v/0//3///////f/9//7//z/AQABAPX/5P/i//X/BgAIAPv/2//U//D/DQAaABAAAAD5/wEACgAQABEABgD9//T/7v/6/xIAEgD8/+z/7P/3/woAGQARAAUABwAGAAMACAANAAIA8//4/wEAAAACAAUA/P/z//n/AgAAAAQADgAGAP7///8JAAwACAAMAAgA/P/+/woAEQATAAwAAQD8/wcAFAATAAsABAABAP//AgAIAAwADgAGAAAA/v8FABMADwAEAAAA+f8BAAwACAAEAP//AQAEAAYACgAKAAoAAAD7////AQAGAAAA9f/z//b///8CAP7/9P/q/+///f8DAAUAAQD///X/7v/7/wUABwAEAPn/8f/4/wMAAwD1/+f/4//n//L/+P/9//n/8//2//z/AAACAAEA/////wcACwAGAAcAAwD6//j/9//4///////2//D/9f/9//z/+v/z/+//8v/5//7/AAABAPf/9P/9/wEABgAFAP///v8AAAkABwD8//b/9v/+/wMA///+//f/9f8AAAIAAAD9//n/9//5/wQABgAHAAMA+P/5/wAACwASAAgAAgAAAAQADwAQAA0ABgAAAAEAAQABAAgACgAIAAUABAABAAQACgAEAAAAAAD//wgADwAOAAkA/P/6////BQAMAAcA/P/3//z/BQAKAAIA9f/w//f/AAALAAwABgAFAAAA//8EAAcABQAAAPr/+v8AAAUAAQD6//b/9v/9/wAA+//5//r//P////7/AQAAAPv/+P/1//r//f8FAAkAAAD7//r/AQAFAAAA+//y/+7/9/8DAAMA+P/v/+r/7f/6/wEA/////wAABAAEAAAABAAAAPr/+//6//r//f8AAPr/8v/x//X/+f/5//v/+f/3//r/AQADAAAAAAD+//z//v8HAAwABwAJAAcAAAABAAYABQADAP7/+/8AAAgAEQALAAEA/v/9/wAAAwAGAAYACAAGAAAAAAAAAAYABgABAAQABQAGAAYABgABAP//AgAFAAEA+f/6//z/+//9//r/+//7//z//P/7//z/AAADAAAAAgAEAAEAAAAAAAQABgAIAAIA/f8AAAEAAwADAAIA/f/5//z/AAABAP7//v8AAAAAAQABAAMABAADAAMAAwACAAIA//8BAAYABQACAPv/+v/9//7/AAD+//v/+f/7//3/+v/8//3//v8AAAAA/P/3//v//v/8//7//v/8//3/+v/6////AAACAAEA//8CAAQABgAGAAcACAADAAEAAAD6//r///8DAAUABgACAAEABAADAAAA//8BAP//+v/6//f/9//4//f//P8AAP//AQAFAAQAAgAAAAAAAQD//////////wEA/f/5//3/AAD+/wAAAQD//wEAAgABAAIA/f/9/wAAAAAAAPr//P8DAAIAAgD///3/BAADAAAAAAAAAAEAAwAAAAAA/v/+///////+/wEABQAFAAIA/P/6////AAAAAP3/+//8////AAAAAAAA/f/9/wUABQACAAMAAwACAAIAAgABAAEAAAABAAEAAAACAAEAAgAEAAAA/f8CAAUABAABAP///v/4//j////9//z/AgAGAAUABgAEAAAA/v8AAAIAAgAEAAAA+//9//z/+v/5//n/+P/5//v//v8AAP3//v/+//r/+v///wMAAQD/////AwAJAAkABAABAAYADAALAAIAAAACAAAA///8//r//P/7//z/+//9////AAABAAAA/f/7/wIABAAAAAAA//////7//P/8//v//f8AAAIABAACAP7/+//7//z////+//n//f8BAAEAAwACAP//AQADAAIABwAKAAgAAwD+//z/+//6//r/+////wIAAgACAAIAAgABAP7//P/+/wMAAQD9/////v/+/wAAAQACAAAAAQACAAMABwAHAAQABQAFAAMABAAHAAYAAwABAAAAAAAAAAEA///+/wEAAwABAAAA/f///wAAAAAEAAIA/P/9//3//f8AAP//+/8AAAEA/////wEABgAEAAAA///9//j/9//5//z/+//4//3/AgACAAEA/v/6//3/AwACAAAAAAABAAIAAAAAAAUAAgD/////AAAGAAUAAQAAAAAAAAD9//r/+f///wEA/f/6////AQACAP7//f////z//f/9//7/AAD9//3//v/8//v/+//8//3//v//////AAAAAAAAAgD///n/+////wMABAABAAQABgADAAMABQAFAAYABAACAAMABAACAAAA/v/9/wAAAQD//wAAAAAAAAEAAgABAP7//v8AAP///f///wAA/v8AAAAA//8AAAQAAAD6//r//v8AAAEAAAD+////AAABAAAA/v///wAAAAADAAQAAgABAAIAAgAAAP//BAAEAAAAAAD///3///8BAAAA/v8AAAQABwAJAAcAAAD9//7//v/9//3///8AAAMABQACAAAA/v/+//3//f8CAAMAAAAAAP7//P/9//7/+v/5//7/AAABAAEAAwAEAAIAAQAAAP7/AAABAAAAAAACAAEA/v/8//z//P/9/wAAAAAAAAEA/f/8/////v/+//r/+f/+////AAAAAAAAAQD/////AAD9//z/AAABAAMAAgAAAAQACAAFAAEA//8AAAMAAAABAAIAAwAEAAMAAQACAAQAAgACAAQAAwABAP///v8AAAAAAAACAAEAAAAAAAIA/v/+/wAA/f/9/wAAAAAAAAEAAwAAAAIAAQD9//7////9//3/AAACAAAAAAD///v/+P/6/wAAAgACAAIAAAACAAIAAAD//wAAAAAAAAMABgAFAAUAAwABAAAAAAABAAEAAAAAAAAAAAAAAP7//f/+////AQADAAAA/f//////+//5//j/+v///wAAAAAAAAAAAAD7//r///8BAAEAAAABAAIAAAD/////AAABAAIAAgADAAYABgADAAAA/f/9/wAAAgACAAIAAQAAAP//AAACAAAA////////AAABAAEA/v/4//3/AAD//wAAAgACAAIAAgACAAEAAAAAAAEAAwACAAAAAAAAAAAA/P/7////AAAAAAEAAAABAAAAAQABAPv/+v/+////AAD///3/+v/4//z///8AAAAA/v8AAAIAAQD+/wAAAAD////////9/wAAAwABAP///f/8//z//v////3//v//////AAD//wAAAQAAAAMABAADAAUABQADAAIAAgACAAIAAAD//wEAAQABAAAAAAAAAP7//v///wAAAQD///7//////wAA/v/8//3//f8BAAMAAQD///z//P/+//7/AAACAAMAAwACAAUACAADAAAAAAAAAAUABQAAAAEAAQACAAUAAAD7//3//v8AAP7//v8DAAQAAAD+//n//P8CAAEAAAAEAAYAAwADAAcABwAEAAEAAAAAAAIAAgAAAAMABAD+//z//v/8//v//v8AAAIAAgAAAP/////6//j/+f/5//v/+//7//3/AAACAAMA///+/////f/+//3//v8BAAAAAAABAAIAAQD7//n//f8BAAIAAAD8//v/AAAFAAMAAAD9////AQAAAAAAAQADAAEA/v/+/wAAAgABAAEAAQABAAEAAAAAAAAAAQAAAAAAAwADAAAAAAAAAP3/+////wQAAQABAAMAAwADAAEAAAACAAMABAACAP//AAABAAAA+//4//3/AAD//wAAAAD//wEABAAFAAYABQABAAAAAAABAAIAAQAAAAAAAgACAAMABQADAP3/+v/8/wAAAAD8//3/AwABAP7//f/4//n//f/+/wAAAgAFAAUA/f/6//r/+/8AAAAAAQAFAAMAAwADAAIAAgAAAP//AAABAAAA/v/9/wEAAQD9//z/+//8//3//////wAAAgABAP7///////3/+v/4//v/AAAAAP///v8AAP//AAAAAP3/AAACAAIAAQABAAEAAQACAAEA/v/9/////v///wEAAQACAAMAAgADAAAA/v8AAAAAAAAAAAAAAQADAAQAAQABAAQAAAD7//z//v///wAAAAABAAMAAAD+/wAAAAD9//v//f8CAAIAAAAAAAIABgAEAAAA/v///wEAAgAAAP7/AAABAAAA//8AAAQAAgD+//z//v8AAAAA//8BAAIAAAABAAIAAAAAAAIABQAFAAIA/f8AAAMAAAD+/wMABAACAAIA/v/8////AAACAAEA//8AAAAAAQADAAIAAAAAAAIAAgD///7///8BAAMAAQD//////v/8//v//P/8//z//P8AAAIAAQAAAP//AAAAAAAAAAD//wAAAgAAAPv/9//4//3/AAAAAAIAAwADAAMABQABAPv/9f/7/wQABQADAP///v8DAAUAAwAAAP7/+////wAA/v8AAAAA////////AAD+//7/AAABAAMAAgABAAUABAD+//v//f///wEABAACAAAAAAAAAP//AAAAAP//AAABAAEAAAD9//v//P/9////AAAAAAAAAgAGAAYAAwD///z/+//+/wAAAQAFAAYAAQAAAAEAAgACAAIAAgACAAIAAgABAAIAAAD9//n//f8BAAIAAQAAAP//AAAAAAEABAAEAAUAAQD+////AAD///3//v8BAAMAAAD+////AgABAAAA///+/wAAAAD+//3/AAAAAAAAAAAAAAIABAACAAEAAQAAAAQAAwABAAAA/f//////AAABAAAA///+/wAAAgABAAAA///9/wAAAQD9//7//P/9//3/+/8AAAIAAAD+//n/9v/6//z/+//9/wAA/////wAA//////z/+v///wIAAwAFAAQAAQD///z/+v/8/wAAAgAEAAQABQAAAP3/AAACAAAA/v///wUACQADAP3//P8AAAAA/P/7//3/AAACAAEAAAAAAAAAAQD9//r//v8CAAMAAgAEAAEA/P/8/wAAAAAAAAEAAAAFAAcABQACAAAAAAAAAAIAAAAAAAMABAADAAIA/v/8/wAAAAD9///////+//z//v/+////AAD///z///8BAAAAAAABAAIAAwADAAIAAgADAAAA/P/9//7/AAABAP7///8CAAQABQACAAAA/v/+/wAA/v8BAAUAAwAAAAAAAgAFAAUAAwABAAEABAABAPr/+P/9//7/AAAAAP3/AAADAAEA///6//n/+/8AAAUABQACAP7//f//////AAAAAP///v8BAAQAAAAAAAAA/v/9////+//2//z/AQABAP7//f8CAAIA/v/8//n//f/+//7///8AAAUABQACAAAAAAAAAAAAAAD/////AAABAAMABQACAAAA/v/+/wIABAABAPz/AAAEAAMAAQD7//v//v/8//3///8BAAIAAwACAP///v8AAAAA//8AAAAAAAAAAAEAAAD////////+//7/+//6////AQADAAIAAwADAAIAAgD//wAAAgAAAP//AgACAAIABAAEAAIAAAABAAQABAADAAEAAAAAAP7/AAABAAAA//8AAAMABwAGAAMAAAABAAIAAAD//////v/7//z//f/+/wAAAQADAAcABQABAAAAAAD+/////P/7//7////+//////8AAAEAAAD+////AAAAAAAA/v/+/////v8AAPz/+P/7//7//v/9/wEAAwAAAAAAAAD///7//P/4//j/+//+/////f8AAAEAAQABAAAA//8AAAAA/v8AAP3//P/9//z//P8AAP////8DAAYABgAEAAIAAAACAAIA///+/wAAAQAFAAYAAgAAAAEAAwABAAAA/v/9/wAAAAAAAAAAAQAAAP3////+//v/+////wMABwADAAAAAwADAAAA/v////////8CAAMAAQAAAAEAAwAFAAIAAAABAAMAAgABAP3//f8BAAAAAAD///3/AAAEAAUAAgAAAAAAAAABAAYABgAFAAIAAQAAAAEAAAD9//7/AAACAAMAAgABAAEAAAD+/wAAAAD//wEAAAD//wEAAAD7//7/AAAAAP//AAACAAMAAgD9//r/+v/5//j/+f/7//3/AAAAAP3//v8CAAIAAAAAAP7//v8BAAEAAAACAAAA/P////7//v8CAAIAAQABAAMAAgD///r/+P/6//3//v///wEAAQABAAIA/////wEAAQD9//z//f/8//3///8AAAEA/v/9/wAAAwADAAAA/////wAAAQAAAAAAAQD///7/AAD//wAABgAGAAMABgAIAAYAAQD+//r/+////////v8AAAEABgAGAAMAAgABAAAAAAAAAP///v///wAAAgAAAP//AAAAAAUABAAAAAMABQAFAAQAAAD///7//f/9////AgADAAQABgAEAAIA/////wEA///9/wAAAgADAAEA/v/+//z/+f/9/wAAAAAEAAUABQAFAAEAAAAAAAAA/////wAAAAD+////AAAAAP3/+f/4//r//v8AAP///v/9//z/+v/5//v//f8AAAAA//8AAAIABAAAAP3/AAD///z//f8AAAEAAQACAAIAAgAAAAAAAQACAAEAAAD/////AAAAAAAA/v/9/wAA/v/4//r//f/+/wAAAAD//wAAAQD+//z/+//6/wAABQACAAAAAAAAAAAA/f/8////AQAEAAEA//8AAAEAAAAAAP3/+//9/wAABQAGAAEAAAACAAMAAQD+//3//f8AAAIAAgABAAQABwABAP7/AAACAAQAAwAAAAEAAgADAAMAAAD9//z//f8AAAQABgAFAAQABAADAAQAAgD///3//f8AAAQAAQAAAAMABQABAAAAAAD/////AAABAAAAAAABAAAAAAAEAAAA//8AAAAAAgAAAP//AAD8//r///8AAP//AAD8//3/AAACAAMA///8//7/+//7//n/+v8AAAAAAQAAAP//AQAAAPv/+//9//3//P/9//3////+//z/AAAAAAAAAQABAAMAAQD//wAAAAAAAAEA/v/7////AQAAAP///P/9/wEAAQAAAP7//f/+/////v///wAA/f/+////AAABAP7//f8AAP3//f8BAAQABQAEAAEA//8AAAIAAAD+/wAABQALAAsABgACAAAAAgAFAAMAAAAAAAMABAABAP///P/+////AAAAAAAAAgADAAIAAgAAAAAAAAD///7/AQAEAAIAAgADAAAAAAADAAMAAQABAAIAAgAAAPr/+f/9/wAAAwABAAEAAwADAAAAAAACAAEAAgAAAP//AAD///7//v/+//3//f/+//7//v8AAAAAAAACAAAA/f/+////AAAAAP////8AAAEAAwADAAAA//8AAP7////+//z//f///wAA///8//v/+v/5//j/+f/9/wEAAAAAAAEAAAD7//j/+P/6//7//////wAA///8//3///8CAAMAAwABAAEAAwACAAEAAgAAAP//AAD///7/AQACAAAAAAAAAAAAAAD+//3//P/+/wAAAAD//wAAAgABAAAAAAAAAAAAAAAAAAAAAAABAAIAAgAAAP7///8BAAIAAwABAAIABQAHAAMA/f/9/wAAAQACAAMAAwADAAMAAAD//wAAAAAAAAEAAgAAAAAAAAD//wAA///8//3/AAADAAQABQADAAEAAQAAAAEAAwACAAIAAQABAAEA/v/8//3//P///wAAAgAEAAQABAABAPz/+f/+//3/+//9/wAAAAD/////AAD+//3//f8CAAYABAACAAEA/////wAA/f/7//r//f8BAAMAAwAAAP7//f/9//7//v/8//3/AAAAAAAA/v/7//z//f/8//3/AAACAAMAAgAAAP7///8AAPz//P8BAAMABAAFAAEA///9//v//P8BAAMAAgABAAAAAgABAPz/+////wAAAAAAAAAAAAD///7/+//6//v///8DAAIA//8AAAEAAwAEAAEAAAD//wIABAADAAAA/v///wIAAAAAAAAAAAADAAcABQACAAAAAAABAAAAAAD//wEAAgAEAAQAAAAAAAYACAAFAAAA//8AAAAAAgAAAP3/////////AQACAAAAAAAAAAMABQABAP7//f/9//v//v8BAAQABAADAAIAAgABAAAA/P/9////AQAEAAIAAQAAAP3//f/8//r//P/8//r//f8AAAEAAgAAAP/////8//v//f8AAAIAAAD///3//P/+/wAAAAABAAMAAwAFAAQAAAD///3/9//4//v///8CAAEAAAAAAP3/+v/8/wAAAAD//wAAAgAAAP7//f////7//P/8/wAABAACAAIAAwADAAIA///7//z///8BAP7/+////wAA/f/8//v///8DAAIAAAD//wEAAQAAAAAA//8AAAAAAAAAAAMABAACAAIAAgAAAP//AAACAAYABAD//wAAAwAHAAYAAQAAAP///v8AAAEAAgAAAAAAAQD/////AQABAAYABwAFAAEA//8AAP//////////AgAFAAUAAwAAAPz/+//7//3//v///wEABAAFAAEA/v/9//3//f/9////AwAEAAQABAABAP7/+P/5////AQABAAAAAwAEAAMAAgD+//7/AAD///7/AAABAAMAAAD+//z/+v/7//r//P8BAAEAAAAAAAAA///8//v///8CAAAA/v8AAAAA/f/6//n//P/9//3//f8AAAQAAwD///v/+f/6//r/+P/6//7///8AAAAAAQAAAP///f/9////AQADAAQAAQD+//7///////7/AAACAAQABwAGAAMAAQAAAAAAAAD///////8BAAMAAQAAAAAAAQACAAUAAwADAAQAAgACAAIAAwAGAAAA/f8AAAAAAwADAAEAAwADAAAA/v///wAAAAAAAP//AAACAAIA///9//7//f/8//3///8CAAgABwABAAAAAAD+////AAAAAAEAAQAAAAEAAAD7//r//P///wAA//8BAAQAAwABAP7/+//6//z/AQAEAAEAAgAAAP/////9//v//f8AAAAAAAAAAP7/+//7//3//P/7//3//v8AAAMAAAD9//z/+//7//r//f8AAAAAAQD9//r//f/+////AAAAAAEAAgAAAP3/+//7//v/+//+/wEAAAD//wAAAAAAAAAAAAAAAAAAAAAAAAAAAAAAAAAAAAAAAAAAAAAAAAAAAAAAAAAAAAAAAAAAAAAAAAAAAAAAAAAAAAAAAAAAAAAAAAAAAAAAAAAAAAAAAAAAAAAAAAAAAAAAAAAAAAAAAAAAAAAAAAAAAAAAAAAAAAAAAAAAAAAAAAAAAAAAAAAAAAAAAAAAAAAAAAAAAAAAAAAAAAAAAAAAAAAAAAAAAAAAAAAAAAAAAAAAAAAAAAAAAAAAAAAAAAAAAAAAAAAAAAAAAAAAAAAAAAAAAAAAAAAAAAAAAAAAAAAAAAAAAAAAAAAAAAAAAAAAAAAAAAAAAAAAAAAAAAAAAAAAAAAAAAAAAAAAAAAAAAAAAAAAAAAAAAAAAAAAAQABAAAAAAAAAAAAAAAAAAAAAAAAAAAAAQAAAAAAAAAAAAEAAAAAAAEA///+//3///8DAAIAAwADAAEAAQD/////AAABAAIAAgACAAMAAwAAAPz/+//8/wAAAQABAAMAAAD+//7/AAABAAIAAQAAAAAAAAAAAAMABgAFAAIABAADAAIAAQACAAMABQAHAAUAAwABAAAAAAADAAEA/////wAAAwAFAAEA/v8AAAMAAQABAAAAAAADAAEAAAD+/////f///wEAAQAAAAIAAgACAAIA/v/+//7///8DAAEA//8AAAAAAAD/////AgADAAAA/f/9//3//f/9//7/AgAAAP///v/6//z///////3/+//9//3//P/9/wAAAAD+//3/AAAAAAAA/f/9//3///8AAP///P8AAAEAAAAAAAEAAAD9//r/+v/9/wAA//8AAAAAAQACAP3/+f/6//3/AAABAAAAAAD///3/+//7//z//f///wEAAQAAAP///f///wAAAQACAAMABgAFAAIAAAD//wAAAwAFAAMAAgACAAIAAgAAAP///f///wEAAQACAAEAAAABAAAA///9//3/AAABAAUABQACAAAAAAD+//v/+/8AAAQABgAFAAQAAAABAAAA/P/8////AgABAP7//v///wAAAAAAAAEAAwAEAAMAAwAAAAAA/v/9////AAAAAAAA/v8AAAMABAAEAAEAAQADAAAAAAABAAAA/v///wEAAgAAAAAAAAD//wAAAQAAAP3//v8AAAIAAgABAP7/+//7//v/+////wIABgAIAAYAAgD///7//v/7//7/AQADAAQAAQD9//r/+f/7//n/+v8AAAAAAAD///7//v/+//3//P/+//7/AAD///7/AAD9//r/+//7////AAAAAAAA/v///wAA///9////AQAAAP//AAABAAIAAAAAAAQABQAEAAIAAAAAAAQABAABAP////8BAAUABgAHAAQA//8AAAEAAAACAAAAAgAHAAYAAgD+//7/AAAAAAAAAAACAAMAAAD9//3/AQAFAAMAAgACAAQAAwAAAP7/+//+/wAAAQAFAAQA/f/4//n//v8AAAIAAQACAAMAAAD///3//f/9//7//f/+/wAAAAAAAAAAAAACAAIAAQABAAEAAgABAAIABAACAP7//P/9/wAABAABAP7//v///wQABgAFAAIA/f///wAA//8AAP//AwAGAAAA/P/+/wEAAgAAAP3//P////////////3//P/9/wAAAAD6//j/+/8CAAUAAQD///3//f/7//v//v/+/wAAAAD8//n/9v/4//v//P///wEAAgADAAMAAAD7//j//P8CAAUAAgAAAAAAAQD+//z///8CAAIAAAAAAAMAAwAAAPr/+/8AAAAAAQABAAEABQAIAAgABAAAAP///v8BAAUABgADAAAA/v/+//////8BAAQABQAFAAUABAAFAAMAAQAAAAAAAwAFAAEA/v/+////AAAAAAAAAwAFAAQAAwADAAAA/P/9//7/AAADAAMAAQAAAAEAAQABAAIAAwACAAEAAAD///////8AAAMABAABAP//AAACAAIAAgAAAAEABAAFAAMAAAD///7/+//6//r/+//8//7/AAAAAAAA/f/5//v/+v/4//3////9//z//P/9//z/+//8////AQADAAIAAAD9//v//P/8//3/+//+/wAAAAAAAAAAAgABAP///v8AAAEAAgAAAPv//f/8//7//v/8//7/AAABAAMAAwAEAAIA/f/8/wAAAQABAAEAAAAAAP////8BAAEA/////wIABQAEAP7/+//8/wAAAAD+////AAABAAMABAADAAAAAQAFAAcABAACAAEAAAAAAAAAAAAAAAAAAQACAAQABAADAAIAAAD///3//v/+/wAAAQD//wAAAwACAAAAAQADAAQABAAFAAYABQADAP///f///////v/9/wAAAgAAAP7//f8AAAIAAgAAAAAAAAD+//3//f/+//7///8AAAMAAwABAP//////////AAABAAAA/P/5//r/+//6//j/+///////AAABAAAAAQABAP7/+//6//z//P/8//7//v/8//n/+v/9////AQAEAAQABAAEAAEAAAAAAPz//P/9//7/AAACAAIAAAAAAAAA/f/7//7/AAACAAEA/v/6//j/+v8AAAAA/v/9/wAABwAIAAMAAAD//wAAAQD///3//P/9//z/AAADAAIAAAAAAAAAAgADAAAAAQABAP7//P/+/wEAAQAAAP//AwADAAIAAwAGAAgABwAFAAYABAAEAAIAAgAFAAYAAgAAAP//AAADAAMAAwABAAAAAAABAAEAAAAAAP3//v8BAAIAAAD///3//f/+/wAAAQACAAEAAAADAAEA/f/7//7//v/9//7/AAAAAAAAAAAAAAAA///9//7/AAABAP////8AAAEAAAD+////AAD///////////7//P/8/wAAAgAAAP7//v8AAAAAAAD//wAAAAD//wAAAQAAAPr/+v/9/wEAAQD/////AAAAAP7//v/+/////v///wAAAAAAAP3/+f/5//r//v8BAAQABAAEAAAA+//6//r//P/9/wAAAQACAAIAAQABAAMABAADAAMAAwAEAAUABAACAP7//f/8//z///8AAAEAAAACAAcABQACAP3/+//9////AgAEAAMAAQACAAUAAgAAAP7/AAAGAAYABQAFAAMAAQAAAP7//v8AAAQABQADAAQAAQAAAAMAAgAAAP7//v8AAAAAAAAAAP//AAD///3//v//////AAACAAEA///8//3//v////7//f/+/wAAAQAAAAAAAAAAAP7/+//7////AAAAAP///v/8//3/AAAAAAEAAgAAAAAAAQAAAP7//f///wAAAgABAP7//f/9//7//v////////////3/+//9////AAD////////+////AAAAAP///P/7//r/+//9////AAABAAAA/v/+/wAAAQAAAP///v8AAAAAAQD///7/AQAGAAQAAQAAAAEAAAAAAP///v/9//z//v8AAAIAAQAAAAEAAgACAAIAAwADAAEAAAD+//z//P/+/wAAAQAAAP7//P///wEAAAABAAUABgAGAAQAAgADAAIAAgABAAAAAAACAAMABAADAAEAAAABAAAAAAAAAAAAAAABAAEA//////7///8AAAAAAAAAAAAAAwADAAEAAAD+//7///8AAAAAAAABAAIABAAEAAEAAQABAAMAAwAAAP7//f/+//3//v///wAAAQAEAAIA///9//7/AQACAAAA///+//3/+//6//n/+f/+//////8AAAAA/P/6//v//f/9//z//v8BAAAAAAAAAP7//v///wAAAQABAAMAAwABAP7//P/9/////v/8/////v/+/wMAAwAAAAEAAQADAAQAAQAAAAAAAQAAAP7//f/+/wAAAQACAAMAAwAFAAQAAgABAP7//P/+/wAAAQAAAP//AAABAAIA/////wAAAgABAAIAAgABAAIAAwABAAAAAAABAAEAAgABAAAAAAACAAYABAABAAEAAAAAAAAAAAAEAAQABAAEAAIAAgACAAEAAwABAAAAAAAAAAIAAAD+//////8AAAAA/////wAAAgADAAEA/////wAAAAD///7//v/////////9//z//f/+/wAAAgAAAP////8AAAEAAAD+//3//v/+//3//P/8//3/AAAAAP7//P/6//z/AAABAAAA/f/8/wAAAgAAAP7/+////wAA/f/+////AAAAAP7//P/6//z/AAAAAAEAAAAAAAAAAAAAAP7///8AAAAAAAD///7//v/9//z//v8AAAUABgACAAIAAwACAAAA/v/9//z//P8AAAEAAAABAAAAAAACAAUABgACAAAAAQABAAMAAwAAAP///f8AAAEAAAD//wAAAwAFAAYABQABAAAAAgAFAAQAAQD/////AAADAAEAAQADAAIAAAAAAAIAAgADAAUAAgAAAAAAAAD/////AAD//wAAAAABAAIABAAAAP//AQAAAP///v/+//////////7//P///wEAAAAAAAEAAgADAAIAAQABAAEAAAAAAAEAAQABAAIAAwAAAP7/AAAAAAEAAQAAAAAAAAD9//z//f/+/wAAAAD/////AQABAAAA/f/+//7//P/8//3///////7/+f/3//r//v////3//f///wAAAQD///3/AAABAAEAAAAAAAAA//8AAAAAAQABAAAA///9//7/AAAAAP//AAAAAAAAAAD//wAA//8AAAQAAwAAAP//AQAFAAUAAgAAAAEABQAEAAAAAAACAAIAAAAAAAAAAQABAAAAAAAAAAEAAQACAAEAAQAAAAAAAQADAAEA/v///wAAAAACAAIAAgACAAEAAwABAP//AQACAAAAAAABAAAAAQADAAMAAAAAAP///v8BAAQAAgABAAAA/v///wEAAQD+//v//f8BAAQAAwABAAAAAQADAP//+//9/wAAAAD/////AQADAAAA/////wAAAAD///////8AAP//AAAAAP3//P/9//7/AQACAP////8AAP///v//////AQACAP///f/8//7//v/8//z/AAAAAAAA///7//z///////r/+P/5//3//v/8//3///8AAAAA///8//v//f////////////3/AAABAAAA///9////AAD8//3/AQAFAAgACAAFAAEAAQACAAAAAAABAAQABwAGAAIAAAABAAMAAAAAAAIAAgADAAMAAQAAAAIAAwAAAP7//v8BAAMAAgABAAEAAgACAAMAAAAAAAAAAQACAAEAAAAAAAAAAAD///7/AAACAAMAAQABAAMAAAD+////AAABAAEA/////wEABAACAAAAAAAAAAEAAgD///3//v8AAAAAAAAAAAIAAQABAAAA//8AAAAA///+//z/+//9/////v/8//z/AAACAAIAAQD+//3////8//v//f/9//7///8AAAIAAQAAAP//AAAAAP7//f/+////AAAAAAEAAAD///7//v8AAAEAAAAAAAAAAAAAAAEAAAD8//v//f///wAAAAAAAAAAAAAAAP3/+//6//7/AAAAAAAAAAABAAMAAwAAAP3///8BAAEAAAD+/wAABQAGAAIA/////wAABAACAAEAAgACAAEA/v/9/wAAAQAAAAAA/v/+/wEABAAEAAIAAAABAAIAAgAAAAAAAQABAAMAAwAEAAQAAwABAP7///8AAAAAAAAAAAMAAwAGAAYAAgAAAAAA/v/+/wAAAAAAAAAAAAAAAP7//P/+/wEAAQD+////AAACAAAAAAACAAEAAwAAAPv/+v/8/wAAAAD/////AAAAAAEA///6//7/AQAAAP///f8AAAAA/v/9//z///8AAAAA/v////7/AAAEAAIAAAD+//v//f/9//3//P/9//7////8//3/AAD9//z/+//8//7//v8AAAAA/f///////v8AAP3//P8AAAMAAQD///r/+/////7///////7/AAAAAP3///8BAAIAAgD///r/+//+/wAAAAABAAIAAQACAAAA//8AAAUABgADAAEAAwAFAAQAAAD/////AgAFAAMAAgAEAAYABgADAP///f8AAAIAAwACAAIAAgACAAQABQAFAAIAAAAAAAAAAAACAAIABAADAP///v///wEAAAD9//v///8DAAQAAAD6//v//f/7//r/+v/+/wAAAAAAAP//AAACAAIA/f/6//7/AAD///v//f8AAAIAAQD///3/AAACAAEA///9/wAAAwADAAIA///+//7//v8AAP///v8CAAQAAgABAAAA/v///////f/7//7/AAABAAEAAAD//wAAAAD///3//f8BAAUAAwD///7/AAABAP//+//7////AgACAP7///8DAAIA///8//v//P////7//P8AAAAAAAD+//3/AAAAAP7//f/8//v///8BAAEAAAAAAAAAAAAAAP////8DAAUAAwADAAMAAwADAAEAAAAAAAMAAgD//wAAAQACAAMAAwACAAEAAAAAAAAAAgAFAAMAAAD//wAAAAACAAIA//8AAAEAAgACAAAAAAABAAAA/v/+/wAA//8AAAEAAwAEAAIAAAD/////AAAAAP//AAADAAIAAQABAAEAAAD9//3///8BAAYABgADAAEAAAABAAEA/v/7//z//P/+////AAAAAAAA/P/7//z//v8AAAEAAAAAAAMAAgAAAP///f/7//v//P/7//3/AAD//wAAAQD///7//v/+////+//2//r///8CAAIA/v/8//7//f/4//n//v8AAAAAAAACAAQAAgD+//z/+//7//3///8BAAMAAQAAAP///v/9//v//f8BAAEAAAADAAQAAQABAAEAAgADAAAA/////wEABQADAAAA/v8AAAIAAQD///z/+//7/wAABQAGAAYAAwD//wAAAAD8//v//f8AAAMAAwACAAQABAADAAAA/P/+/wEAAwACAAAAAAAEAAQAAAD///7//v8AAAQAAgAAAAEABAAIAAMAAAAAAAAAAQAAAAAAAQACAAMAAAD9//v//f8AAAAA/v8AAAUABAD///v//P8AAAAAAAAAAAAAAAABAAQABAAAAP///f/8//3//v////////8CAAAA/v///wAAAAAAAP///v8AAAEA/v///wAAAAAAAP/////8//z/AAABAAAAAAD+/wAAAQAAAAAAAQD9//3/AQACAAEA///8//r//v8EAAAA/v////7/AAAAAP3//P8AAAMAAwAAAAAAAQABAP///f/9////AgAAAP3//////wAAAQAAAAAAAgACAAAA/v8BAAEA/////wAAAgACAAAA/P/7//7/AAAEAAUAAgABAAIAAgABAAAAAAABAAMABwAHAAEA/v///wMABQADAAAAAwACAAAA//8AAAIAAgABAAIAAwADAAMAAwACAAAA///+/wAAAAAAAAAA/f/+/wAAAQADAAEA///9////AwAGAAEA+f/4//3////+//3//v8AAAAAAAAAAP///v/+/////f/9/wAAAQACAAAA/v/9//7//f/9//3//f/9/wIAAQAAAAIAAAD8//3/+v/7/wAAAQAAAAIAAAAAAP7//f/+/wAAAQACAP///f/8//3/AgADAAAA/P/6//7/AAAAAAAAAAABAAIA/v/9/////////wAAAgADAAMAAAAAAAAAAAAAAAAAAAAAAP3//v8AAAAA/v/9////AgADAP7/+/8AAAQABAAAAP7//P/9/wEAAQD9/wAABAAEAAQAAQD9/wEABQAFAAMAAAAAAAYABgADAAAA//8AAAIAAQAAAAEABAAEAAAAAAABAAIAAAD+//3//v/+////AAADAAUAAwABAP////8BAAMABAABAPz//P/+//3///8BAAIAAgAAAP//AgADAAIAAAD8//7//////wAAAAAAAAAAAAAAAAAAAAAAAP7/+v/4//3/BAAEAAAA/P/5//3/AAAAAAAAAgAAAAAAAAD+//7///8AAAAA//8BAAEAAAABAAMAAwABAP7/+f///wMAAQAAAAAAAQACAAAA/f/7//v//P/7////AQD//wAAAAD9//3//v8AAAMAAQD9//z//f/+////AAABAAUABAAAAP7/AQAEAAUAAwABAAAAAQABAP//AAADAAQAAgD///7//f8AAAQAAwABAAAA//8AAAAA/v/+/wAABAAFAAQAAQD//wAAAAAAAAEAAQAAAP//AAAAAAAAAwACAAAAAAAAAAAABAAFAAUAAwAEAAMAAgABAAIAAQAAAAIABAAEAAMAAAABAAUAAgD//////f8AAAEA/v/6//v///////7/+v/2//n//v/+////AAABAAEAAAD9//z//v/9//z//f/+/wAAAwADAAEAAAD+//7///8AAAEAAQAAAP///f/8//3//f/7//3/AQADAAEAAAD9//3////8//v//P/+/wAAAAD8//z/AAACAAEAAAAAAAEAAQAAAPv/+////wEAAgABAAIABwAIAAcAAwAAAAAAAgACAAIAAAD9//7/AAD///7//f8AAAQABAABAAAA/////wEAAwAAAPv/+//9/wAAAgAEAAMABAADAAIAAgD///z//v8BAAEAAQAAAAAAAAADAAEA/v/+//7/AAACAAMAAQABAAAA/v/+/wAA//8AAAIAAAABAAQAAwAAAP//AAABAAIAAgAAAAAA//8AAAMAAwAAAP//AAAFAAUAAAD9////AAACAAMAAwADAAIAAQD///n/9//6//7/AAABAAAA/v/+//7/+v/8/////v/+//z//f///wAA/f/6//z/+//9/////f/+/wMABwACAPz//P///wAAAAD8//v//v8AAAAAAAAAAAEAAAAAAAIAAAD//wAAAAAAAAAA/v8AAAYABQAAAAAAAAAEAAcABQAAAP//AAADAAEAAAACAAEABAADAP///P/8////AAADAAIAAAD+//7/AAAAAAAA//8AAAAAAAD+//z//v8AAAAAAQAAAPz//P///wQABgACAP7/+////wEAAAABAAAAAAADAAYAAwABAAAAAAD+//3//f/+/wEABgADAAAAAgABAP///f/8////AQABAAAAAgABAAAA/v/9//3///8CAAQABAAEAAQAAgD///3///8AAP///v8AAAEAAAD+//7//v8AAAMAAQD//wAAAwAGAAYAAAD7//v///8AAAEAAAD9//7/AgAEAAAAAAAAAAAAAgABAP//AAABAAEAAgAAAP7//f///wAAAAAAAAEAAQACAAIA/f/7/////v/8////AQACAAAAAgABAP7//f/8//3///////3///8DAAIA///7//n//P////3//f8AAAMAAgABAAEA///7//v//v/9//7//P/7/wAABAADAAAA/v///wAAAgAAAP3///8BAAMA/v/6////AgACAAAAAAAAAAIAAwAAAP7//v8BAAIAAAABAAIAAgACAAMABQADAAIA///+/wAAAwAEAAMAAQACAAQAAwAAAAAA/////wAAAgADAAIAAgADAAEAAAAAAP7/+////wIAAwAEAAMAAAAAAP7//f/+//z//f8BAAMAAgAAAPz/+f/9/wAA/v/7//3/AAABAAIAAwAAAP/////9//3/AAAAAAAAAQABAAEAAgAAAAAAAQABAAAAAQADAAUAAwABAAAAAgABAAAAAAAFAAIA/////wAAAAAAAAAAAAABAAAA/v////v/+//+//////8AAAEA///8//z///8BAP7//P/+/wEAAQD///z//v8BAAIAAAD7//v//v/+/wAAAwACAAAAAQAEAAIAAAAAAAAAAAAAAAEAAAABAAEAAAD9//z/AAAAAAAAAAAAAAMAAwAAAAAAAAD+//v//v8BAAMABAACAAIABQAFAAIA/f/6//r/+//+/wAAAgADAAQABAADAAAA/v8AAAIAAgABAAEAAgADAAIAAAAAAAAA/v///wEAAwACAAEABAADAAAAAAAAAP7///8BAP////8CAAMAAgAAAP7//v8AAAMAAAD+//7////+/////f/4//v//v8BAAQAAAD6/wAABgADAAAA//8BAAMAAAD+//3/+//8/wAAAgAAAP///P/8/wAAAAD///3///8AAAIABAABAPz/+v/6//3/AAAAAP///v/+/wAAAQD9//r/+v///wIAAwABAAAAAAAAAP//AAABAAAAAAACAAUABAACAAAA/////wAAAAD9//7/AgAGAAQA/v/8//3///8BAAQAAwD/////AwAFAP7/+f/7////AAAAAP3//f/+/wIAAQD9//v/AAABAAIAAgABAAIAAwAEAAIA///+/wEAAwABAAAAAAACAAMAAQAAAP7//f///wAAAgABAAAA//8AAAEABAADAAAAAAABAAUABQD+//v/AAAFAAMAAAD//wAAAgACAAMAAAD9//7/AAAFAAIA/f/7////BAADAAAA/v///wEAAAAAAP///v/9//7/AgADAAEA///8//z/AAACAAEA/f8AAAIAAgABAAAA/f/8//3/AQADAP7//P/+/wEAAwD+//f/9v/6////AAABAAMABAAEAAIAAwADAAAAAAACAAMAAwACAP//+v/5////AgAAAAAA//////7//f////7//v8BAAAA//////7/AAACAAEAAAAAAAAAAQACAAAAAgADAAAA///9//z/////////AgACAAMAAgD///z//v8AAP7/AAABAAEAAgADAAcABgD///3/AAABAAIAAwAAAAAA/v/8/wAAAQAAAP3/+/8AAAYABwAEAAAAAAAEAAQAAgAAAAAAAQAGAAYAAAD9//3//v////3/+//8//z/AgADAP///P/9/wAA//8AAAAA/f8AAAIAAgD+//7/AAD9//r//f8AAAEA/////wAAAAD+/////v///wAAAAAAAAAA//8BAAAA/f/+/wAAAgAHAAUAAQAAAAAAAgAEAAIAAAABAAEA//8AAP///f/8//r//v8BAAEA/v/8//3/AAAFAAUAAQD/////BgAIAAMA///9/wAAAQAAAP////8AAAMAAgD9//r//P/9//7//v8AAAIAAwADAAEA///8/wAAAAD///3///8CAAEA///9//7//f/9//3//f8AAAMAAAAAAP///v/+//z/+v/8/wAAAQABAAMABAAEAAQAAgAAAAAAAAAAAAIAAwACAAAAAAAAAAIAAQAAAAAAAAAAAAIAAQAAAP3//P/9/wAAAAAAAAAAAAACAAAA/P/9/wAAAwACAP////8BAAYABwABAP3//f8CAAUAAwD9//j/+/8AAAIAAQD///3/AAACAAEA///+/wAAAwAHAAYABAAAAPv//P///wEAAgACAAMAAwABAAAAAAAAAAAAAAD+/wEABQADAAAA/P/6//v//f/9////AgACAAEAAAAAAAIAAwAAAPz//P8AAAIAAQAAAP3//v///////f/+//7/AAACAAIAAgABAAAA///+//7///8AAP7//v////7//f/+//7//f/9////AQADAAQAAgABAAIAAwAAAAAAAAABAAMAAwACAAEAAQD///z/+v/8/wAAAQAAAP7///8BAAEA///6//r//v8CAAMAAAABAAIAAQAAAAEAAAAAAAIAAQABAAEAAAADAAMAAAD//wAA//8AAAMAAwABAAAA/v////7/AAAAAAAAAQAEAAQAAQD//wAAAwADAAMAAQD///7///8DAAIA/P/4//j/+v/+/wIAAwABAP//AAACAAIA///9//v//v8AAAEAAQAAAP7//f8AAAQAAgD//////f/+/wAAAQABAP///v/9//3///8AAAAA/v/6//z/AAAAAAAA/P/6//7/AwADAAAA/f/+/wEAAwACAAAA/f///wAAAQADAAMAAAABAAMAAQAAAP3///////3///8AAAAAAAAAAPz/+//+/wMABAD+//z///8BAAIAAQD/////AAADAAUAAgABAAAA//8AAP7//v////3//P/8////AAAAAAAAAAAAAAAAAAABAAEAAAD/////AgAFAAQAAQD//wAAAgAEAAMA/v/9/wAAAAAAAAAAAAD///7//f///wEAAAD+//7/AAABAAIAAQAAAAIABQACAAEAAQD//wEAAQAAAAAAAAACAAMAAQAAAP///v/+////AAD/////AQACAAAAAQAAAP7/AAAAAAAAAAD//wAABQAGAAMA///8/wAABAACAP///P/9/wEAAAD8//v///8DAAMA///8//7/AAAAAP7//v/+//7/AQABAAAAAAD////////9////BAAGAAMAAAD+/wAABQAFAPz/+v/9////AAABAAEAAAD///7///8AAAAA/v/+/wAAAQAEAAQAAAD///7/AAABAAAA/f8AAAMAAQABAAIAAgADAAAA/f/+///////9//z//v8AAAIAAwAAAPv///8CAAQABAABAAAA//8AAAIAAwACAAIAAAD//wQABQAAAP7/AQAEAAEAAAABAAAAAAAAAP3/+v///wAA/P/7//3/AAADAAEAAgAEAAAA/f/6//z/AQACAAAA/v///wEAAAD9//z//P/+/wAAAAABAAIAAQADAAAAAAAAAAAAAAD+////AAAAAAMABQABAP7/AQAHAAYAAgD///v//f8AAAEA/v/5//7/AgAEAAQAAAD//wAA/v/+//z//v8AAP/////9////AwACAP3/+v/5//v/AQAFAAEA/v/6//v/AAAEAAIA/f/5//v//f8AAAIABQAEAAAA//8BAAMAAAD+/////P/8////AQADAAIAAAAAAAAAAwAEAAEA/v/9////AwACAAAA+//7//////8AAP///v8AAAAAAwAEAAMAAAD9//7/AAABAAEAAAAAAP3//v8AAAEAAgAAAP3/AAACAAMAAwABAP3/+f/6/wEABQABAP7/AAAEAAUAAAD9//7/AAACAAAA/v8AAAMAAgAAAP7///8AAAAA///+/wEAAgADAAMAAQADAAUAAgABAAMAAQD//wAAAAD//wAAAQACAAQAAQACAAUABQAEAAMAAAAAAAAAAQACAP//AAAAAAAAAAAAAP7///8AAP7/AAD///3///////v/+//9////AAD///z//f//////AAD/////AQD/////AAD///3//P/+/wAAAgABAP///f/+/wIABQADAAEAAwACAAAA/f/9/wMABAACAAAA/v8AAAMAAAABAAIAAQACAAAA/////wEAAQAAAP7/AAABAAAAAAAAAAAAAAAAAP///f///wAA/v/7//3///////z/+f/+/wEAAQD+//r/AAAFAAIAAAAAAAIAAwACAP///f/7//v///8AAAIABQADAAIAAQAAAAAAAgACAAEAAQAFAAgABQAAAAAAAQABAAAAAAADAAUAAQD+/wAAAgADAAEA/f/8//7/AAADAAQABAACAAAAAAADAAUABAADAAIAAAD//wAA//8AAP///v8AAAAAAAACAAIAAQAAAP7///8BAAAA///9//7/AQAAAP7//P/5//z/AAAAAP7//P/8/wAAAQD///3//f/+//z/9//3//7/AAAAAP///f///wEAAgACAAEA///+//z//v8AAP///f/9//7/AQADAAIAAQAAAAAABQAEAAAAAgAAAP//AAD//wAA/////wAAAAABAAIAAgAAAAEAAQAAAAQAAgAAAP7/+f/7/wAAAQACAAAAAQACAAIAAAD+/////v/+//////8AAAEA/P/7//3/AQAEAAAA/v8AAAEAAwAFAAUAAgAAAAAA//8AAAEAAQABAAAAAQAAAAAABAACAP//AAACAAIABQAGAAIAAAD+//7/AAACAAIAAAAAAAEAAwAFAAcABQABAP///f///wEA///8//7/AAADAAAA+//8////AAAAAP/////+////AAAAAAAAAQAAAP3//P/9//7//P///wAA/v/+//3//v8AAAAAAAD///7/AAAAAAAAAAAAAAAAAQD///r/+v/9/wAAAwAAAP7/AAAAAPz/+f/8/wAA///9//7//v/9//3//v///wAAAQD//wAAAAAAAAAA/v8AAAAAAAD//wAAAQACAAEA/////wAAAAAAAP//AAABAAUABAAAAP3/AAADAAIAAAD//wMABwAJAAYA///9////AQACAP///P/8/wAABQAFAAMAAAAAAAAAAAAAAAAAAQAAAAAA/v/8//3//f/7//3//////wIAAwACAAQABAAAAP7//v///////f/8//3///8AAAEAAAAAAAAA//8BAAYABQAAAAAAAgABAP7//f/9/wAAAgAAAAEAAgABAAIAAQAAAP////8AAP7/+v/7//7//v/+//3/+//8/wAAAAD///7/AAADAAMAAAD8//z//v/9//7//f/8//7//f/9////AAAAAP///f/+//7/AAABAAAA///+//3//f8AAAMAAgAAAP///v8AAAEAAAAAAP3//f8AAAEAAAD///z//f8AAAAA/////wAAAAAAAAAAAAAAAAAA/P/7//7/AAABAAIAAAAAAAEAAQACAAAAAAD9////AwADAAEAAQABAAEAAgACAAAA//8AAAUABgADAAAAAAACAAMAAAD7//r//v8AAAAA/f///wIAAwACAAAAAAABAAEAAQACAAAA//8AAAEAAAABAAEA///9////AgAGAAYABQABAAAAAQADAAQAAAD+//7//f/9/wAAAwADAAAA/////wAABAAFAAIAAAD//wAAAwADAAEA/v/8/wAAAgACAAAA/v///wAAAgABAAAAAAAAAP///f/8//z////+//3//P/7//z///8BAAIAAAD8//z/AAABAAEA///7//r//f8AAAAAAAD//////v8AAAIAAQABAAIAAAD9////AwAGAAEA/P/7////AwACAP///v8AAAIABQAEAAAAAAABAAAAAAD///3///8AAP///v/8//7/AAABAAAA//8AAAEAAgAAAP//AgACAAAAAAAAAAAAAQAAAP//AAD//wAAAAAAAAIAAQACAAEA///+//7//////wAAAQABAAIAAwACAAAA//8BAAIAAgAEAAIAAQAFAAUAAAD///3//v8CAAIAAQD///3/AQAFAAIAAAD//wAAAQAAAAAA/f/6//3//////wAA/v/7//3/AAACAAMAAgABAAAA///+//z///8CAAIA//8AAAYABQAAAP3//P///wAA///+//z//f8AAP3/+v/5//n//f8AAPz/+v/8/wAAAgD+//v//f///wAA/P/6//z///////3//P///wEAAgACAAAA/v/9////AAD/////AAD///3/+//7////AAD///7//v///wEAAgAAAP3//f/+////AQAEAAMAAAD+//7/AAAAAAAAAAAAAAEAAAABAAMAAQAAAP3//f8DAAUAAwACAAEAAAAAAP//AAABAAAAAAD/////AgACAAEAAQD/////AgAEAAYABAABAAAAAAAAAAEAAwADAAEAAAAAAAAAAAABAAIAAAD+////AAACAAYAAgAAAP///v8AAAIAAQABAAAAAQACAAAA//8AAAAAAAAAAAAAAAABAAIAAwABAP7//v8AAAEAAQD///3/AAABAAMAAgD+//3//v8AAAIAAAAAAAAA///9//v//f/////////+//7///8AAAAA///8//z//f///wAAAAAAAAEAAAD+//v//f8AAP///v/+//7/AAABAAAA/v/9//z//P8AAAEA///9//7/AAAAAAEAAAD///3//f/+//3//v8AAAAAAAD/////AAACAAIAAAD+////AAAFAAYAAwACAAEAAAAAAP//AAAGAAcABQACAAEAAwAEAAMA///9/wAAAQADAAYABQADAAIAAgACAAEAAAAAAAAAAAADAAUABQACAP///////wAAAwADAAMAAAD9//3///8AAP///v/8//z//v8AAAEAAQAAAAAAAAAAAAAAAAAAAAAA///9//7//f8AAAQAAgAAAAAAAgABAAAAAAAAAAAAAQABAAEA///7//n/+//+////AAD+//7/AAD///3//f/+////AAD///z//f8BAAMAAAD8//r//f8BAAEA/f/9//////////7//P/8//7//f/9//z/+//9/wAAAAD+//7//v/+///////9//3/AAABAAEAAAAAAP7//v8BAAMAAgAAAP//AAAAAAAAAAD//////v/9//3/AAACAAUAAwACAAEAAQADAAIAAQABAAIABQAGAAUAAQAAAAAAAAAAAP//AAADAAMAAgABAAAAAAAAAAAA/v/+/wAAAgACAAEAAgABAAAA/////wAABQAGAAIAAQAEAAMAAQD///7///8AAAEAAQACAAMAAQAAAP//AAABAAIAAgAAAAAAAAAAAAAA///9/wAAAwABAAEAAAD///7/AAABAAAAAQAEAAMAAAD//wAA///+//7//v///wAAAAAAAP7//v////3//v////z//P/////////+//7//v/+//7//v///wAAAAD///////////7//P/7//3//v/+//3//P/+/wAAAAD+//7//v/9////AAD///3/AAAAAP////8AAAEAAQD+//3//f8AAAMAAwACAAAAAQADAAEAAAD+//7/AQADAAIAAAAAAAEAAwABAAAAAgACAAMAAwADAAIAAQACAAAAAgABAAAAAAABAAEAAgACAAMAAAD+/wAAAAAAAAEAAQAAAP//AAACAAIAAQAAAP////8AAAIAAQAAAAEAAgAAAP/////+//7/AAD///7///8AAAEAAAAAAAAAAAACAAMAAQAAAAEAAAAAAAAAAQAAAP7//v///wAAAAAAAP///f/8////AAD+//7//v///wEAAQD///3//v///wAA/v/7//z//v8AAAEAAQAAAP///v/+//7//v///////////wAA///+///////+//3//f///wAA//8AAAAA/v/+//3//P/9////AAACAAEAAwAFAAQAAQAAAAAA//8AAAAAAAAAAAAAAAAAAAEAAQAAAAAAAAABAAEAAAAAAP///P/8//3///8AAAAA//8AAAAAAAACAAMAAQAAAAAAAAAAAAEAAwAEAAEAAQA=\" type=\"audio/wav\" />\n",
       "                    Your browser does not support the audio element.\n",
       "                </audio>\n",
       "              "
      ],
      "text/plain": [
       "<IPython.lib.display.Audio object>"
      ]
     },
     "execution_count": 85,
     "metadata": {},
     "output_type": "execute_result"
    }
   ],
   "source": [
    "import IPython.display as ipd\n",
    "import numpy as np\n",
    "import random\n",
    "\n",
    "rand_int = random.randint(0, len(common_voice_train)-1)\n",
    "\n",
    "print(common_voice_train[rand_int][\"sentence\"])\n",
    "ipd.Audio(data=common_voice_train[rand_int][\"audio\"][\"array\"], autoplay=True, rate=16000)"
   ]
  },
  {
   "cell_type": "markdown",
   "metadata": {
    "id": "gY8m3vARHYTa"
   },
   "source": [
    "It seems like the data is now correctly loaded and resampled. "
   ]
  },
  {
   "cell_type": "markdown",
   "metadata": {
    "id": "1MaL9J2dNVtG"
   },
   "source": [
    "It can be heard, that the speakers change along with their speaking rate, accent, and background environment, etc. Overall, the recordings sound acceptably clear though, which is to be expected from a crowd-sourced read speech corpus.\n",
    "\n",
    "Let's do a final check that the data is correctly prepared, by printing the shape of the speech input, its transcription, and the corresponding sampling rate.\n",
    "\n",
    "**Note**: *You can click the following cell a couple of times to verify multiple samples.*"
   ]
  },
  {
   "cell_type": "code",
   "execution_count": 86,
   "metadata": {
    "colab": {
     "base_uri": "https://localhost:8080/"
    },
    "id": "1Po2g7YPuRTx",
    "outputId": "dbc0f148-8bdb-4583-eec6-5cef990b17f5"
   },
   "outputs": [
    {
     "name": "stdout",
     "output_type": "stream",
     "text": [
      "Target text: চোৰে ভাবিলে কোনটো গৰু ভাল কোনটো বেয়া এন্ধাৰেমুন্ধাৰে কেনেকৈ চিনিম।\n",
      "Input array shape: (71808,)\n",
      "Sampling rate: 16000\n"
     ]
    }
   ],
   "source": [
    "rand_int = random.randint(0, len(common_voice_train)-1)\n",
    "\n",
    "print(\"Target text:\", common_voice_train[rand_int][\"sentence\"])\n",
    "print(\"Input array shape:\", common_voice_train[rand_int][\"audio\"][\"array\"].shape)\n",
    "print(\"Sampling rate:\", common_voice_train[rand_int][\"audio\"][\"sampling_rate\"])"
   ]
  },
  {
   "cell_type": "markdown",
   "metadata": {
    "id": "M9teZcSwOBJ4"
   },
   "source": [
    "Good! Everything looks fine - the data is a 1-dimensional array, the sampling rate always corresponds to 16kHz, and the target text is normalized."
   ]
  },
  {
   "cell_type": "markdown",
   "metadata": {
    "id": "k3Pbn5WvOYZF"
   },
   "source": [
    "Finally, we can leverage `Wav2Vec2Processor` to process the data to the format expected by `Wav2Vec2ForCTC` for training. To do so let's make use of Dataset's [`map(...)`](https://huggingface.co/docs/datasets/package_reference/main_classes.html?highlight=map#datasets.DatasetDict.map) function.\n",
    "\n",
    "First, we load and resample the audio data, simply by calling `batch[\"audio\"]`.\n",
    "Second, we extract the `input_values` from the loaded audio file. In our case, the `Wav2Vec2Processor` only normalizes the data. For other speech models, however, this step can include more complex feature extraction, such as [Log-Mel feature extraction](https://en.wikipedia.org/wiki/Mel-frequency_cepstrum). \n",
    "Third, we encode the transcriptions to label ids.\n",
    "\n",
    "**Note**: This mapping function is a good example of how the `Wav2Vec2Processor` class should be used. In \"normal\" context, calling `processor(...)` is redirected to `Wav2Vec2FeatureExtractor`'s call method. When wrapping the processor into the `as_target_processor` context, however, the same method is redirected to `Wav2Vec2CTCTokenizer`'s call method.\n",
    "For more information please check the [docs](https://huggingface.co/transformers/master/model_doc/wav2vec2.html#transformers.Wav2Vec2Processor.__call__)."
   ]
  },
  {
   "cell_type": "code",
   "execution_count": 87,
   "metadata": {
    "id": "eJY7I0XAwe9p"
   },
   "outputs": [],
   "source": [
    "def prepare_dataset(batch):\n",
    "    audio = batch[\"audio\"]\n",
    "\n",
    "    # batched output is \"un-batched\"\n",
    "    batch[\"input_values\"] = processor(audio[\"array\"], sampling_rate=audio[\"sampling_rate\"]).input_values[0]\n",
    "    batch[\"input_length\"] = len(batch[\"input_values\"])\n",
    "    \n",
    "    with processor.as_target_processor():\n",
    "        batch[\"labels\"] = processor(batch[\"sentence\"]).input_ids\n",
    "    return batch"
   ]
  },
  {
   "cell_type": "markdown",
   "metadata": {
    "id": "q6Pg_WR3OGAP"
   },
   "source": [
    "Let's apply the data preparation function to all examples."
   ]
  },
  {
   "cell_type": "code",
   "execution_count": 88,
   "metadata": {
    "colab": {
     "base_uri": "https://localhost:8080/",
     "height": 81,
     "referenced_widgets": [
      "450ec5a9ec1642ac836219b60d6faa0e",
      "d164217ca0554788871a56dc1507d533",
      "70abed9bc4cc40f790886d11fc44b949",
      "f0deb25d77994209956cdca5841cbbca",
      "27aaed02e9a24a8b95c5f9d5b31b3283",
      "37c1fbcdc1ed4ae192c5f390dbd5ee07",
      "863504bb906e4613bde0c4229aac4d55",
      "bb9c61d9ee7c4a558df2a366e33c7488",
      "381227f82d564b8c96282e7604551520",
      "2f25f244299c4dc8ad7c6768f9379241",
      "fb856bb1d925424ca2e46ebcb3fe4515",
      "ffb0593aacdd437493fe498481554720",
      "752b9a685bf6480ab238b58be90ca9c7",
      "f0d301e1b36c4a93a754b16dd64cf271",
      "05ed1b6eeb514331933cc5c331bc451d",
      "23139c5e26f042be9fb47fff343f00c6",
      "b07ada6eda9a46a4b70a3bbd7f228a51",
      "6e7ded46ec5f48d0a0f8fc3993b95029",
      "13ca2373ead540bca4a9c65866c40caf",
      "21df6340377c41778ca3430c905dbbc2",
      "84637685599d42f7acfb052e1e27a502",
      "a270405804554935ab4b1e14411fd4da"
     ]
    },
    "id": "-np9xYK-wl8q",
    "outputId": "7a92c5d7-9467-4840-f1a8-420fdc43d8c3"
   },
   "outputs": [
    {
     "data": {
      "application/vnd.jupyter.widget-view+json": {
       "model_id": "f8b1240de4974f2398d81897b31fd27c",
       "version_major": 2,
       "version_minor": 0
      },
      "text/plain": [
       "  0%|          | 0/624 [00:00<?, ?ex/s]"
      ]
     },
     "metadata": {},
     "output_type": "display_data"
    },
    {
     "data": {
      "application/vnd.jupyter.widget-view+json": {
       "model_id": "144efdf215be4d6fb01dd45b25188f63",
       "version_major": 2,
       "version_minor": 0
      },
      "text/plain": [
       "  0%|          | 0/281 [00:00<?, ?ex/s]"
      ]
     },
     "metadata": {},
     "output_type": "display_data"
    }
   ],
   "source": [
    "common_voice_train = common_voice_train.map(prepare_dataset, remove_columns=common_voice_train.column_names)\n",
    "common_voice_test = common_voice_test.map(prepare_dataset, remove_columns=common_voice_test.column_names)"
   ]
  },
  {
   "cell_type": "markdown",
   "metadata": {
    "id": "nKcEWHvKI1by"
   },
   "source": [
    "**Note**: Currently `datasets` make use of [`torchaudio`](https://pytorch.org/audio/stable/index.html) and [`librosa`](https://librosa.org/doc/latest/index.html) for audio loading and resampling. If you wish to implement your own costumized data loading/sampling, feel free to just make use of the `\"path\"` column instead and disregard the `\"audio\"` column."
   ]
  },
  {
   "cell_type": "markdown",
   "metadata": {
    "id": "24CxHd5ewI4T"
   },
   "source": [
    "Long input sequences require a lot of memory. XLS-R is based on `self-attention` the memory requirement scales quadratically with the input length for long input sequences (*cf.* with [this](https://www.reddit.com/r/MachineLearning/comments/genjvb/d_why_is_the_maximum_input_sequence_length_of/) reddit post). In case this demo crashes with an \"Out-of-memory\" error for you, you might want to uncomment the following lines to filter all sequences that are longer than 5 seconds for training."
   ]
  },
  {
   "cell_type": "code",
   "execution_count": 89,
   "metadata": {
    "colab": {
     "base_uri": "https://localhost:8080/",
     "height": 49,
     "referenced_widgets": [
      "4b81a11fe6584f86a5869c50e99189e3",
      "74b1c9a1e99c4258bdab57a6be1e1d2c",
      "3b1b94d937d4417a9e4256d0cde34e1c",
      "ca08a45ec3fd4c288a570c27fec01ccd",
      "39dd4009c36142a39417af0b286a9088",
      "28f658e3df0b44a58c05249311b6b80a",
      "0eb09a90f412434bae53a435cf2ada18",
      "0fcfa443d82f43069a8868fa777c9d68",
      "8f9dbce347da430a9ca789710b69cfff",
      "54acbd3a36ca469eabd479bed8322d63",
      "2adbe51852c64a3aaab734bd2b170b34"
     ]
    },
    "id": "tdHfbUJ_09iA",
    "outputId": "0d84a435-0ca3-45b1-b9fa-eb4465995c8b"
   },
   "outputs": [
    {
     "data": {
      "application/vnd.jupyter.widget-view+json": {
       "model_id": "43807fbf5f494f5baefb67c49c8e27c2",
       "version_major": 2,
       "version_minor": 0
      },
      "text/plain": [
       "  0%|          | 0/1 [00:00<?, ?ba/s]"
      ]
     },
     "metadata": {},
     "output_type": "display_data"
    }
   ],
   "source": [
    "max_input_length_in_sec = 5.0\n",
    "common_voice_train = common_voice_train.filter(lambda x: x < max_input_length_in_sec * processor.feature_extractor.sampling_rate, input_columns=[\"input_length\"])"
   ]
  },
  {
   "cell_type": "markdown",
   "metadata": {
    "id": "1ZWDCCKqwcfS"
   },
   "source": [
    "Awesome, now we are ready to start training!"
   ]
  },
  {
   "cell_type": "markdown",
   "metadata": {
    "id": "gYlQkKVoRUos"
   },
   "source": [
    "## Training\n",
    "\n",
    "The data is processed so that we are ready to start setting up the training pipeline. We will make use of 🤗's [Trainer](https://huggingface.co/transformers/master/main_classes/trainer.html?highlight=trainer) for which we essentially need to do the following:\n",
    "\n",
    "- Define a data collator. In contrast to most NLP models, XLS-R has a much larger input length than output length. *E.g.*, a sample of input length 50000 has an output length of no more than 100. Given the large input sizes, it is much more efficient to pad the training batches dynamically meaning that all training samples should only be padded to the longest sample in their batch and not the overall longest sample. Therefore, fine-tuning XLS-R requires a special padding data collator, which we will define below\n",
    "\n",
    "- Evaluation metric. During training, the model should be evaluated on the word error rate. We should define a `compute_metrics` function accordingly\n",
    "\n",
    "- Load a pretrained checkpoint. We need to load a pretrained checkpoint and configure it correctly for training.\n",
    "\n",
    "- Define the training configuration.\n",
    "\n",
    "After having fine-tuned the model, we will correctly evaluate it on the test data and verify that it has indeed learned to correctly transcribe speech."
   ]
  },
  {
   "cell_type": "markdown",
   "metadata": {
    "id": "Slk403unUS91"
   },
   "source": [
    "### Set-up Trainer\n",
    "\n",
    "Let's start by defining the data collator. The code for the data collator was copied from [this example](https://github.com/huggingface/transformers/blob/7e61d56a45c19284cfda0cee8995fb552f6b1f4e/examples/pytorch/speech-recognition/run_speech_recognition_ctc.py#L219).\n",
    "\n",
    "Without going into too many details, in contrast to the common data collators, this data collator treats the `input_values` and `labels` differently and thus applies to separate padding functions on them (again making use of XLS-R processor's context manager). This is necessary because in speech input and output are of different modalities meaning that they should not be treated by the same padding function.\n",
    "Analogous to the common data collators, the padding tokens in the labels with `-100` so that those tokens are **not** taken into account when computing the loss."
   ]
  },
  {
   "cell_type": "code",
   "execution_count": 90,
   "metadata": {
    "id": "tborvC9hx88e"
   },
   "outputs": [],
   "source": [
    "import torch\n",
    "\n",
    "from dataclasses import dataclass, field\n",
    "from typing import Any, Dict, List, Optional, Union\n",
    "\n",
    "@dataclass\n",
    "class DataCollatorCTCWithPadding:\n",
    "    \"\"\"\n",
    "    Data collator that will dynamically pad the inputs received.\n",
    "    Args:\n",
    "        processor (:class:`~transformers.Wav2Vec2Processor`)\n",
    "            The processor used for proccessing the data.\n",
    "        padding (:obj:`bool`, :obj:`str` or :class:`~transformers.tokenization_utils_base.PaddingStrategy`, `optional`, defaults to :obj:`True`):\n",
    "            Select a strategy to pad the returned sequences (according to the model's padding side and padding index)\n",
    "            among:\n",
    "            * :obj:`True` or :obj:`'longest'`: Pad to the longest sequence in the batch (or no padding if only a single\n",
    "              sequence if provided).\n",
    "            * :obj:`'max_length'`: Pad to a maximum length specified with the argument :obj:`max_length` or to the\n",
    "              maximum acceptable input length for the model if that argument is not provided.\n",
    "            * :obj:`False` or :obj:`'do_not_pad'` (default): No padding (i.e., can output a batch with sequences of\n",
    "              different lengths).\n",
    "    \"\"\"\n",
    "\n",
    "    processor: Wav2Vec2Processor\n",
    "    padding: Union[bool, str] = True\n",
    "\n",
    "    def __call__(self, features: List[Dict[str, Union[List[int], torch.Tensor]]]) -> Dict[str, torch.Tensor]:\n",
    "        # split inputs and labels since they have to be of different lenghts and need\n",
    "        # different padding methods\n",
    "        input_features = [{\"input_values\": feature[\"input_values\"]} for feature in features]\n",
    "        label_features = [{\"input_ids\": feature[\"labels\"]} for feature in features]\n",
    "\n",
    "        batch = self.processor.pad(\n",
    "            input_features,\n",
    "            padding=self.padding,\n",
    "            return_tensors=\"pt\",\n",
    "        )\n",
    "        with self.processor.as_target_processor():\n",
    "            labels_batch = self.processor.pad(\n",
    "                label_features,\n",
    "                padding=self.padding,\n",
    "                return_tensors=\"pt\",\n",
    "            )\n",
    "\n",
    "        # replace padding with -100 to ignore loss correctly\n",
    "        labels = labels_batch[\"input_ids\"].masked_fill(labels_batch.attention_mask.ne(1), -100)\n",
    "\n",
    "        batch[\"labels\"] = labels\n",
    "\n",
    "        return batch"
   ]
  },
  {
   "cell_type": "code",
   "execution_count": 91,
   "metadata": {
    "id": "lbQf5GuZyQ4_"
   },
   "outputs": [],
   "source": [
    "data_collator = DataCollatorCTCWithPadding(processor=processor, padding=True)"
   ]
  },
  {
   "cell_type": "markdown",
   "metadata": {
    "id": "xO-Zdj-5cxXp"
   },
   "source": [
    "Next, the evaluation metric is defined. As mentioned earlier, the \n",
    "predominant metric in ASR is the word error rate (WER), hence we will use it in this notebook as well."
   ]
  },
  {
   "cell_type": "code",
   "execution_count": 92,
   "metadata": {
    "colab": {
     "base_uri": "https://localhost:8080/",
     "height": 49,
     "referenced_widgets": [
      "35fb92a13fcf44918d979d9fb6b99d52",
      "0c93c50c05ec42d685304b60dc1771d9",
      "0614948db2a444ceb7a64c39b32766d5",
      "a7921a558ee2413d840c51e41b70d0f6",
      "efc4b787c1c14c8c9271fca9e7145445",
      "02331eae038e4f1d9ea6d3d16c23c283",
      "e887dd2f1a7a40daa4571914f9b1c4dc",
      "20b3fd9cd2d247e2b45513b249b1ab76",
      "bed1d2bd7aae43e9bcf7e3aabd908230",
      "0b6f92986c524d709e1420f3ab5fc2b2",
      "c53c6964330c4347b1deb35f130858c1"
     ]
    },
    "id": "9Xsux2gmyXso",
    "outputId": "08cbcec6-0b3e-43d1-966f-bd6eb4a5a7f1"
   },
   "outputs": [],
   "source": [
    "wer_metric = load_metric(\"wer\")"
   ]
  },
  {
   "cell_type": "markdown",
   "metadata": {
    "id": "E1qZU5p-deqB"
   },
   "source": [
    "The model will return a sequence of logit vectors:\n",
    "$\\mathbf{y}_1, \\ldots, \\mathbf{y}_m$ with $\\mathbf{y}_1 = f_{\\theta}(x_1, \\ldots, x_n)[0]$ and $n >> m$.\n",
    "\n",
    "A logit vector $\\mathbf{y}_1$ contains the log-odds for each word in the vocabulary we defined earlier, thus $\\text{len}(\\mathbf{y}_i) =$ `config.vocab_size`. We are interested in the most likely prediction of the model and thus take the `argmax(...)` of the logits. Also, we transform the encoded labels back to the original string by replacing `-100` with the `pad_token_id` and decoding the ids while making sure that consecutive tokens are **not** grouped to the same token in CTC style ${}^1$."
   ]
  },
  {
   "cell_type": "code",
   "execution_count": 93,
   "metadata": {
    "id": "1XZ-kjweyTy_"
   },
   "outputs": [],
   "source": [
    "def compute_metrics(pred):\n",
    "    pred_logits = pred.predictions\n",
    "    pred_ids = np.argmax(pred_logits, axis=-1)\n",
    "\n",
    "    pred.label_ids[pred.label_ids == -100] = processor.tokenizer.pad_token_id\n",
    "\n",
    "    pred_str = processor.batch_decode(pred_ids)\n",
    "    # we do not want to group tokens when computing the metrics\n",
    "    label_str = processor.batch_decode(pred.label_ids, group_tokens=False)\n",
    "\n",
    "    wer = wer_metric.compute(predictions=pred_str, references=label_str)\n",
    "\n",
    "    return {\"wer\": wer}"
   ]
  },
  {
   "cell_type": "markdown",
   "metadata": {
    "id": "Xmgrx4bRwLIH"
   },
   "source": [
    "Now, we can load the pretrained checkpoint of [Wav2Vec2-XLS-R-300M](https://huggingface.co/facebook/wav2vec2-xls-r-300m). The tokenizer's `pad_token_id` must be to define the model's `pad_token_id` or in the case of `Wav2Vec2ForCTC` also CTC's *blank token* ${}^2$. To save GPU memory, we enable PyTorch's [gradient checkpointing](https://pytorch.org/docs/stable/checkpoint.html) and also set the loss reduction to \"*mean*\".\n",
    "\n",
    "Because the dataset is quite small (~6h of training data) and because Common Voice is quite noisy, fine-tuning Facebook's [wav2vec2-xls-r-300m checkpoint](https://huggingface.co/facebook/wav2vec2-xls-r-300m) seems to require some hyper-parameter tuning. Therefore, I had to play around a bit with different values for dropout, [SpecAugment](https://arxiv.org/abs/1904.08779)'s masking dropout rate, layer dropout, and the learning rate until training seemed to be stable enough. \n",
    "\n",
    "**Note**: When using this notebook to train XLS-R on another language of Common Voice those hyper-parameter settings might not work very well. Feel free to adapt those depending on your use case. "
   ]
  },
  {
   "cell_type": "code",
   "execution_count": 94,
   "metadata": {
    "colab": {
     "base_uri": "https://localhost:8080/",
     "height": 188,
     "referenced_widgets": [
      "5922f1b92a2946adb3edc0d27074344f",
      "6e8f1b0b2b4a4c20aadf13f9897f1b1d",
      "4bb4751496354eb3a886ee835f78e236",
      "18cdb3b7996e4fa496d7730ee651866e",
      "62844d4666e6402abc148d12c2505038",
      "bd0f54413c4b46c9a55dc198c52600b1",
      "f1985d593a5d4e828615b2de008e5b10",
      "d9676175afcc4be889cb4e4bdc1ae3d8",
      "c540f5ff38454abb946ef1879a09efc0",
      "66bd790626264ae9a64ed7b18c848f7f",
      "b442918645ee4ec097fbf60f13b680cc",
      "fdbc431cf6df4062ab03d0a65acd0843",
      "e4c23b5f491340bba207a4e02d169c63",
      "c5c03fd63fd547f4a3107c3f044f7a0e",
      "3421c6a382d4401cb3c9104fadd37e78",
      "7ed798c347be480d8a715c58ed033108",
      "53ddefeab32744cf83455f17422f0975",
      "2208d40aae5d438193def42fe87231d4",
      "4f137f3263044a30b9ae0e1c5adc73f1",
      "ad8d2e9369c64fab92fbf4a42ae1b7f3",
      "db3930e0cd76449fac09a593ad73824c",
      "453f6c4ffd8c410ba00c02e24889e513"
     ]
    },
    "id": "e7cqAWIayn6w",
    "outputId": "b0e256e9-026d-4c79-fc28-81eb2f5bf28f"
   },
   "outputs": [
    {
     "name": "stderr",
     "output_type": "stream",
     "text": [
      "loading configuration file https://huggingface.co/facebook/wav2vec2-xls-r-300m/resolve/main/config.json from cache at /home/yellow/.cache/huggingface/transformers/dabc27df63e37bd2a7a221c7774e35f36a280fbdf917cf54cadfc7df8c786f6f.a3e4c3c967d9985881e0ae550a5f6f668f897db5ab2e0802f9b97973b15970e6\n",
      "Model config Wav2Vec2Config {\n",
      "  \"activation_dropout\": 0.0,\n",
      "  \"adapter_kernel_size\": 3,\n",
      "  \"adapter_stride\": 2,\n",
      "  \"add_adapter\": false,\n",
      "  \"apply_spec_augment\": true,\n",
      "  \"architectures\": [\n",
      "    \"Wav2Vec2ForPreTraining\"\n",
      "  ],\n",
      "  \"attention_dropout\": 0.0,\n",
      "  \"bos_token_id\": 1,\n",
      "  \"classifier_proj_size\": 256,\n",
      "  \"codevector_dim\": 768,\n",
      "  \"contrastive_logits_temperature\": 0.1,\n",
      "  \"conv_bias\": true,\n",
      "  \"conv_dim\": [\n",
      "    512,\n",
      "    512,\n",
      "    512,\n",
      "    512,\n",
      "    512,\n",
      "    512,\n",
      "    512\n",
      "  ],\n",
      "  \"conv_kernel\": [\n",
      "    10,\n",
      "    3,\n",
      "    3,\n",
      "    3,\n",
      "    3,\n",
      "    2,\n",
      "    2\n",
      "  ],\n",
      "  \"conv_stride\": [\n",
      "    5,\n",
      "    2,\n",
      "    2,\n",
      "    2,\n",
      "    2,\n",
      "    2,\n",
      "    2\n",
      "  ],\n",
      "  \"ctc_loss_reduction\": \"mean\",\n",
      "  \"ctc_zero_infinity\": false,\n",
      "  \"diversity_loss_weight\": 0.1,\n",
      "  \"do_stable_layer_norm\": true,\n",
      "  \"eos_token_id\": 2,\n",
      "  \"feat_extract_activation\": \"gelu\",\n",
      "  \"feat_extract_dropout\": 0.0,\n",
      "  \"feat_extract_norm\": \"layer\",\n",
      "  \"feat_proj_dropout\": 0.0,\n",
      "  \"feat_quantizer_dropout\": 0.0,\n",
      "  \"final_dropout\": 0.0,\n",
      "  \"gradient_checkpointing\": false,\n",
      "  \"hidden_act\": \"gelu\",\n",
      "  \"hidden_dropout\": 0.0,\n",
      "  \"hidden_size\": 1024,\n",
      "  \"initializer_range\": 0.02,\n",
      "  \"intermediate_size\": 4096,\n",
      "  \"layer_norm_eps\": 1e-05,\n",
      "  \"layerdrop\": 0.0,\n",
      "  \"mask_feature_length\": 10,\n",
      "  \"mask_feature_min_masks\": 0,\n",
      "  \"mask_feature_prob\": 0.0,\n",
      "  \"mask_time_length\": 10,\n",
      "  \"mask_time_min_masks\": 2,\n",
      "  \"mask_time_prob\": 0.05,\n",
      "  \"model_type\": \"wav2vec2\",\n",
      "  \"num_adapter_layers\": 3,\n",
      "  \"num_attention_heads\": 16,\n",
      "  \"num_codevector_groups\": 2,\n",
      "  \"num_codevectors_per_group\": 320,\n",
      "  \"num_conv_pos_embedding_groups\": 16,\n",
      "  \"num_conv_pos_embeddings\": 128,\n",
      "  \"num_feat_extract_layers\": 7,\n",
      "  \"num_hidden_layers\": 24,\n",
      "  \"num_negatives\": 100,\n",
      "  \"output_hidden_size\": 1024,\n",
      "  \"pad_token_id\": 66,\n",
      "  \"proj_codevector_dim\": 768,\n",
      "  \"tdnn_dilation\": [\n",
      "    1,\n",
      "    2,\n",
      "    3,\n",
      "    1,\n",
      "    1\n",
      "  ],\n",
      "  \"tdnn_dim\": [\n",
      "    512,\n",
      "    512,\n",
      "    512,\n",
      "    512,\n",
      "    1500\n",
      "  ],\n",
      "  \"tdnn_kernel\": [\n",
      "    5,\n",
      "    3,\n",
      "    3,\n",
      "    1,\n",
      "    1\n",
      "  ],\n",
      "  \"torch_dtype\": \"float32\",\n",
      "  \"transformers_version\": \"4.16.0.dev0\",\n",
      "  \"use_weighted_layer_sum\": false,\n",
      "  \"vocab_size\": 69,\n",
      "  \"xvector_output_dim\": 512\n",
      "}\n",
      "\n",
      "loading weights file https://huggingface.co/facebook/wav2vec2-xls-r-300m/resolve/main/pytorch_model.bin from cache at /home/yellow/.cache/huggingface/transformers/1e6a6507f3b689035cd4b247e2a37c154e27f39143f31357a49b4e38baeccc36.1edb32803799e27ed554eb7dd935f6745b1a0b17b0ea256442fe24db6eb546cd\n",
      "Some weights of the model checkpoint at facebook/wav2vec2-xls-r-300m were not used when initializing Wav2Vec2ForCTC: ['quantizer.weight_proj.weight', 'project_hid.weight', 'project_q.bias', 'quantizer.codevectors', 'project_q.weight', 'quantizer.weight_proj.bias', 'project_hid.bias']\n",
      "- This IS expected if you are initializing Wav2Vec2ForCTC from the checkpoint of a model trained on another task or with another architecture (e.g. initializing a BertForSequenceClassification model from a BertForPreTraining model).\n",
      "- This IS NOT expected if you are initializing Wav2Vec2ForCTC from the checkpoint of a model that you expect to be exactly identical (initializing a BertForSequenceClassification model from a BertForSequenceClassification model).\n",
      "Some weights of Wav2Vec2ForCTC were not initialized from the model checkpoint at facebook/wav2vec2-xls-r-300m and are newly initialized: ['lm_head.bias', 'lm_head.weight']\n",
      "You should probably TRAIN this model on a down-stream task to be able to use it for predictions and inference.\n"
     ]
    }
   ],
   "source": [
    "from transformers import Wav2Vec2ForCTC\n",
    "\n",
    "model = Wav2Vec2ForCTC.from_pretrained(\n",
    "    \"facebook/wav2vec2-xls-r-300m\", \n",
    "    attention_dropout=0.0,\n",
    "    hidden_dropout=0.0,\n",
    "    feat_proj_dropout=0.0,\n",
    "    mask_time_prob=0.05,\n",
    "    layerdrop=0.0,\n",
    "    ctc_loss_reduction=\"mean\", \n",
    "    pad_token_id=processor.tokenizer.pad_token_id,\n",
    "    vocab_size=len(processor.tokenizer),\n",
    ")"
   ]
  },
  {
   "cell_type": "markdown",
   "metadata": {
    "id": "1DwR3XLSzGDD"
   },
   "source": [
    "The first component of XLS-R consists of a stack of CNN layers that are used to extract acoustically meaningful - but contextually independent - features from the raw speech signal. This part of the model has already been sufficiently trained during pretraining and as stated in the [paper](https://arxiv.org/pdf/2006.13979.pdf) does not need to be fine-tuned anymore. \n",
    "Thus, we can set the `requires_grad` to `False` for all parameters of the *feature extraction* part."
   ]
  },
  {
   "cell_type": "code",
   "execution_count": 95,
   "metadata": {
    "id": "oGI8zObtZ3V0"
   },
   "outputs": [
    {
     "name": "stderr",
     "output_type": "stream",
     "text": [
      "/home/yellow/joydeep/transformers/src/transformers/models/wav2vec2/modeling_wav2vec2.py:1680: FutureWarning: The method `freeze_feature_extractor` is deprecated and will be removed in Transformers v5.Please use the equivalent `freeze_feature_encoder` method instead.\n",
      "  warnings.warn(\n"
     ]
    }
   ],
   "source": [
    "model.freeze_feature_extractor()"
   ]
  },
  {
   "cell_type": "markdown",
   "metadata": {
    "id": "lD4aGhQM0K-D"
   },
   "source": [
    "In a final step, we define all parameters related to training. \n",
    "To give more explanation on some of the parameters:\n",
    "- `group_by_length` makes training more efficient by grouping training samples of similar input length into one batch. This can significantly speed up training time by heavily reducing the overall number of useless padding tokens that are passed through the model\n",
    "- `learning_rate` and `weight_decay` were heuristically tuned until fine-tuning has become stable. Note that those parameters strongly depend on the Common Voice dataset and might be suboptimal for other speech datasets.\n",
    "\n",
    "For more explanations on other parameters, one can take a look at the [docs](https://huggingface.co/transformers/master/main_classes/trainer.html?highlight=trainer#trainingarguments).\n",
    "\n",
    "During training, a checkpoint will be uploaded asynchronously to the hub every 400 training steps. It allows you to also play around with the demo widget even while your model is still training.\n",
    "\n",
    "**Note**: If one does not want to upload the model checkpoints to the hub, simply set `push_to_hub=False`."
   ]
  },
  {
   "cell_type": "code",
   "execution_count": 96,
   "metadata": {
    "id": "KbeKSV7uzGPP"
   },
   "outputs": [
    {
     "name": "stderr",
     "output_type": "stream",
     "text": [
      "PyTorch: setting up devices\n",
      "The default value for the training argument `--report_to` will change in v5 (from all installed integrations to none). In v5, you will need to use `--report_to all` to get the same behavior as now. You should start updating your code and make this info disappear :-).\n"
     ]
    }
   ],
   "source": [
    "from transformers import TrainingArguments\n",
    "\n",
    "training_args = TrainingArguments(\n",
    "  output_dir=repo_name,\n",
    "  group_by_length=True,\n",
    "  per_device_train_batch_size=16,\n",
    "  gradient_accumulation_steps=2,\n",
    "  evaluation_strategy=\"steps\",\n",
    "  num_train_epochs=400,\n",
    "  gradient_checkpointing=True,\n",
    "  fp16=True,\n",
    "  save_steps=400,\n",
    "  eval_steps=400,\n",
    "  logging_steps=400,\n",
    "  learning_rate=3e-4,\n",
    "  warmup_steps=500,\n",
    "  save_total_limit=2,\n",
    "  push_to_hub=True,\n",
    ")"
   ]
  },
  {
   "cell_type": "markdown",
   "metadata": {
    "id": "OsW-WZcL1ZtN"
   },
   "source": [
    "Now, all instances can be passed to Trainer and we are ready to start training!"
   ]
  },
  {
   "cell_type": "code",
   "execution_count": 97,
   "metadata": {
    "colab": {
     "base_uri": "https://localhost:8080/"
    },
    "id": "rY7vBmFCPFgC",
    "outputId": "d4ef4509-3fd1-474d-c862-c26e75c98da7"
   },
   "outputs": [
    {
     "name": "stderr",
     "output_type": "stream",
     "text": [
      "/home/yellow/anaconda3/envs/joy39/lib/python3.9/site-packages/huggingface_hub/hf_api.py:715: FutureWarning: `create_repo` now takes `token` as an optional positional argument. Be sure to adapt your code!\n",
      "  warnings.warn(\n",
      "/home/yellow/joydeep/wav2vec2-large-xls-r-300m-assamese is already a clone of https://huggingface.co/infinitejoy/wav2vec2-large-xls-r-300m-assamese. Make sure you pull the latest changes with `repo.git_pull()`.\n",
      "Using amp half precision backend\n"
     ]
    }
   ],
   "source": [
    "from transformers import Trainer\n",
    "\n",
    "trainer = Trainer(\n",
    "    model=model,\n",
    "    data_collator=data_collator,\n",
    "    args=training_args,\n",
    "    compute_metrics=compute_metrics,\n",
    "    train_dataset=common_voice_train,\n",
    "    eval_dataset=common_voice_test,\n",
    "    tokenizer=processor.feature_extractor,\n",
    ")"
   ]
  },
  {
   "cell_type": "markdown",
   "metadata": {
    "id": "UoXBx1JAA0DX"
   },
   "source": [
    "\n",
    "\n",
    "---\n",
    "\n",
    "${}^1$ To allow models to become independent of the speaker rate, in CTC, consecutive tokens that are identical are simply grouped as a single token. However, the encoded labels should not be grouped when decoding since they don't correspond to the predicted tokens of the model, which is why the `group_tokens=False` parameter has to be passed. If we wouldn't pass this parameter a word like `\"hello\"` would incorrectly be encoded, and decoded as `\"helo\"`.\n",
    "\n",
    "${}^2$ The blank token allows the model to predict a word, such as `\"hello\"` by forcing it to insert the blank token between the two l's. A CTC-conform prediction of `\"hello\"` of our model would be `[PAD] [PAD] \"h\" \"e\" \"e\" \"l\" \"l\" [PAD] \"l\" \"o\" \"o\" [PAD]`."
   ]
  },
  {
   "cell_type": "markdown",
   "metadata": {
    "id": "rpvZHM1xReIW"
   },
   "source": [
    "### Training"
   ]
  },
  {
   "cell_type": "markdown",
   "metadata": {
    "id": "j-3oKSzZ1hGq"
   },
   "source": [
    "Training will take multiple hours depending on the GPU allocated to this notebook. While the trained model yields somewhat satisfying results on *Common Voice*'s test data of Turkish, it is by no means an optimally fine-tuned model. The purpose of this notebook is just to demonstrate how to fine-tune XLS-R on an ASR dataset.\n",
    "\n",
    "In case you want to use this google colab to fine-tune your model, you should make sure that your training doesn't stop due to inactivity. A simple hack to prevent this is to paste the following code into the console of this tab (*right mouse click -> inspect -> Console tab and insert code*)."
   ]
  },
  {
   "cell_type": "markdown",
   "metadata": {
    "id": "VYYAvgkW4P0m"
   },
   "source": [
    "```javascript\n",
    "function ConnectButton(){\n",
    "    console.log(\"Connect pushed\"); \n",
    "    document.querySelector(\"#top-toolbar > colab-connect-button\").shadowRoot.querySelector(\"#connect\").click() \n",
    "}\n",
    "setInterval(ConnectButton,60000);\n",
    "```"
   ]
  },
  {
   "cell_type": "markdown",
   "metadata": {
    "id": "7bGgLV2r0yvZ"
   },
   "source": [
    "Depending on what GPU was allocated to your google colab it might be possible that you are seeing an `\"out-of-memory\"` error here. In this case, it's probably best to reduce `per_device_train_batch_size` to 8 or even less and increase [`gradient_accumulation`](https://huggingface.co/transformers/master/main_classes/trainer.html#trainingarguments)."
   ]
  },
  {
   "cell_type": "code",
   "execution_count": 98,
   "metadata": {
    "colab": {
     "background_save": true,
     "base_uri": "https://localhost:8080/",
     "height": 304
    },
    "id": "9fRr9TG5pGBl",
    "outputId": "582ecad1-9dd7-47f7-d883-137ece3c5ca7"
   },
   "outputs": [
    {
     "name": "stderr",
     "output_type": "stream",
     "text": [
      "The following columns in the training set  don't have a corresponding argument in `Wav2Vec2ForCTC.forward` and have been ignored: input_length.\n",
      "/home/yellow/joydeep/transformers/src/transformers/optimization.py:306: FutureWarning: This implementation of AdamW is deprecated and will be removed in a future version. Use thePyTorch implementation torch.optim.AdamW instead, or set `no_deprecation_warning=True` to disable this warning\n",
      "  warnings.warn(\n",
      "***** Running training *****\n",
      "  Num examples = 400\n",
      "  Num Epochs = 400\n",
      "  Instantaneous batch size per device = 16\n",
      "  Total train batch size (w. parallel, distributed & accumulation) = 32\n",
      "  Gradient Accumulation steps = 2\n",
      "  Total optimization steps = 4800\n"
     ]
    },
    {
     "data": {
      "text/html": [
       "\n",
       "    <div>\n",
       "      \n",
       "      <progress value='4800' max='4800' style='width:300px; height:20px; vertical-align: middle;'></progress>\n",
       "      [4800/4800 1:49:12, Epoch 399/400]\n",
       "    </div>\n",
       "    <table border=\"1\" class=\"dataframe\">\n",
       "  <thead>\n",
       " <tr style=\"text-align: left;\">\n",
       "      <th>Step</th>\n",
       "      <th>Training Loss</th>\n",
       "      <th>Validation Loss</th>\n",
       "      <th>Wer</th>\n",
       "    </tr>\n",
       "  </thead>\n",
       "  <tbody>\n",
       "    <tr>\n",
       "      <td>400</td>\n",
       "      <td>5.278600</td>\n",
       "      <td>1.584065</td>\n",
       "      <td>0.915512</td>\n",
       "    </tr>\n",
       "    <tr>\n",
       "      <td>800</td>\n",
       "      <td>0.416900</td>\n",
       "      <td>1.658865</td>\n",
       "      <td>0.805096</td>\n",
       "    </tr>\n",
       "    <tr>\n",
       "      <td>1200</td>\n",
       "      <td>0.145300</td>\n",
       "      <td>1.882352</td>\n",
       "      <td>0.820742</td>\n",
       "    </tr>\n",
       "    <tr>\n",
       "      <td>1600</td>\n",
       "      <td>0.077400</td>\n",
       "      <td>1.881240</td>\n",
       "      <td>0.810907</td>\n",
       "    </tr>\n",
       "    <tr>\n",
       "      <td>2000</td>\n",
       "      <td>0.046500</td>\n",
       "      <td>2.159748</td>\n",
       "      <td>0.804202</td>\n",
       "    </tr>\n",
       "    <tr>\n",
       "      <td>2400</td>\n",
       "      <td>0.028500</td>\n",
       "      <td>1.992871</td>\n",
       "      <td>0.803308</td>\n",
       "    </tr>\n",
       "    <tr>\n",
       "      <td>2800</td>\n",
       "      <td>0.019000</td>\n",
       "      <td>2.201436</td>\n",
       "      <td>0.802861</td>\n",
       "    </tr>\n",
       "    <tr>\n",
       "      <td>3200</td>\n",
       "      <td>0.012400</td>\n",
       "      <td>2.165218</td>\n",
       "      <td>0.793920</td>\n",
       "    </tr>\n",
       "    <tr>\n",
       "      <td>3600</td>\n",
       "      <td>0.008400</td>\n",
       "      <td>2.253643</td>\n",
       "      <td>0.796603</td>\n",
       "    </tr>\n",
       "    <tr>\n",
       "      <td>4000</td>\n",
       "      <td>0.006400</td>\n",
       "      <td>2.265880</td>\n",
       "      <td>0.790344</td>\n",
       "    </tr>\n",
       "    <tr>\n",
       "      <td>4400</td>\n",
       "      <td>0.004500</td>\n",
       "      <td>2.293935</td>\n",
       "      <td>0.797050</td>\n",
       "    </tr>\n",
       "    <tr>\n",
       "      <td>4800</td>\n",
       "      <td>0.003300</td>\n",
       "      <td>2.288851</td>\n",
       "      <td>0.784086</td>\n",
       "    </tr>\n",
       "  </tbody>\n",
       "</table><p>"
      ],
      "text/plain": [
       "<IPython.core.display.HTML object>"
      ]
     },
     "metadata": {},
     "output_type": "display_data"
    },
    {
     "name": "stderr",
     "output_type": "stream",
     "text": [
      "The following columns in the evaluation set  don't have a corresponding argument in `Wav2Vec2ForCTC.forward` and have been ignored: input_length.\n",
      "***** Running Evaluation *****\n",
      "  Num examples = 281\n",
      "  Batch size = 8\n",
      "Saving model checkpoint to wav2vec2-large-xls-r-300m-assamese/checkpoint-400\n",
      "Configuration saved in wav2vec2-large-xls-r-300m-assamese/checkpoint-400/config.json\n",
      "Model weights saved in wav2vec2-large-xls-r-300m-assamese/checkpoint-400/pytorch_model.bin\n",
      "Configuration saved in wav2vec2-large-xls-r-300m-assamese/checkpoint-400/preprocessor_config.json\n",
      "Configuration saved in wav2vec2-large-xls-r-300m-assamese/preprocessor_config.json\n",
      "The following columns in the evaluation set  don't have a corresponding argument in `Wav2Vec2ForCTC.forward` and have been ignored: input_length.\n",
      "***** Running Evaluation *****\n",
      "  Num examples = 281\n",
      "  Batch size = 8\n",
      "Saving model checkpoint to wav2vec2-large-xls-r-300m-assamese/checkpoint-800\n",
      "Configuration saved in wav2vec2-large-xls-r-300m-assamese/checkpoint-800/config.json\n",
      "Model weights saved in wav2vec2-large-xls-r-300m-assamese/checkpoint-800/pytorch_model.bin\n",
      "Configuration saved in wav2vec2-large-xls-r-300m-assamese/checkpoint-800/preprocessor_config.json\n",
      "Configuration saved in wav2vec2-large-xls-r-300m-assamese/preprocessor_config.json\n",
      "Deleting older checkpoint [wav2vec2-large-xls-r-300m-assamese/checkpoint-2400] due to args.save_total_limit\n",
      "The following columns in the evaluation set  don't have a corresponding argument in `Wav2Vec2ForCTC.forward` and have been ignored: input_length.\n",
      "***** Running Evaluation *****\n",
      "  Num examples = 281\n",
      "  Batch size = 8\n",
      "Saving model checkpoint to wav2vec2-large-xls-r-300m-assamese/checkpoint-1200\n",
      "Configuration saved in wav2vec2-large-xls-r-300m-assamese/checkpoint-1200/config.json\n",
      "Model weights saved in wav2vec2-large-xls-r-300m-assamese/checkpoint-1200/pytorch_model.bin\n",
      "Configuration saved in wav2vec2-large-xls-r-300m-assamese/checkpoint-1200/preprocessor_config.json\n",
      "Configuration saved in wav2vec2-large-xls-r-300m-assamese/preprocessor_config.json\n",
      "Deleting older checkpoint [wav2vec2-large-xls-r-300m-assamese/checkpoint-400] due to args.save_total_limit\n",
      "The following columns in the evaluation set  don't have a corresponding argument in `Wav2Vec2ForCTC.forward` and have been ignored: input_length.\n",
      "***** Running Evaluation *****\n",
      "  Num examples = 281\n",
      "  Batch size = 8\n",
      "Saving model checkpoint to wav2vec2-large-xls-r-300m-assamese/checkpoint-1600\n",
      "Configuration saved in wav2vec2-large-xls-r-300m-assamese/checkpoint-1600/config.json\n",
      "Model weights saved in wav2vec2-large-xls-r-300m-assamese/checkpoint-1600/pytorch_model.bin\n",
      "Configuration saved in wav2vec2-large-xls-r-300m-assamese/checkpoint-1600/preprocessor_config.json\n",
      "Configuration saved in wav2vec2-large-xls-r-300m-assamese/preprocessor_config.json\n",
      "Deleting older checkpoint [wav2vec2-large-xls-r-300m-assamese/checkpoint-800] due to args.save_total_limit\n",
      "The following columns in the evaluation set  don't have a corresponding argument in `Wav2Vec2ForCTC.forward` and have been ignored: input_length.\n",
      "***** Running Evaluation *****\n",
      "  Num examples = 281\n",
      "  Batch size = 8\n",
      "Saving model checkpoint to wav2vec2-large-xls-r-300m-assamese/checkpoint-2000\n",
      "Configuration saved in wav2vec2-large-xls-r-300m-assamese/checkpoint-2000/config.json\n",
      "Model weights saved in wav2vec2-large-xls-r-300m-assamese/checkpoint-2000/pytorch_model.bin\n",
      "Configuration saved in wav2vec2-large-xls-r-300m-assamese/checkpoint-2000/preprocessor_config.json\n",
      "Configuration saved in wav2vec2-large-xls-r-300m-assamese/preprocessor_config.json\n",
      "Deleting older checkpoint [wav2vec2-large-xls-r-300m-assamese/checkpoint-1200] due to args.save_total_limit\n",
      "The following columns in the evaluation set  don't have a corresponding argument in `Wav2Vec2ForCTC.forward` and have been ignored: input_length.\n",
      "***** Running Evaluation *****\n",
      "  Num examples = 281\n",
      "  Batch size = 8\n",
      "Saving model checkpoint to wav2vec2-large-xls-r-300m-assamese/checkpoint-2400\n",
      "Configuration saved in wav2vec2-large-xls-r-300m-assamese/checkpoint-2400/config.json\n",
      "Model weights saved in wav2vec2-large-xls-r-300m-assamese/checkpoint-2400/pytorch_model.bin\n",
      "Configuration saved in wav2vec2-large-xls-r-300m-assamese/checkpoint-2400/preprocessor_config.json\n",
      "Configuration saved in wav2vec2-large-xls-r-300m-assamese/preprocessor_config.json\n",
      "Deleting older checkpoint [wav2vec2-large-xls-r-300m-assamese/checkpoint-1600] due to args.save_total_limit\n",
      "The following columns in the evaluation set  don't have a corresponding argument in `Wav2Vec2ForCTC.forward` and have been ignored: input_length.\n",
      "***** Running Evaluation *****\n",
      "  Num examples = 281\n",
      "  Batch size = 8\n",
      "Saving model checkpoint to wav2vec2-large-xls-r-300m-assamese/checkpoint-2800\n",
      "Configuration saved in wav2vec2-large-xls-r-300m-assamese/checkpoint-2800/config.json\n",
      "Model weights saved in wav2vec2-large-xls-r-300m-assamese/checkpoint-2800/pytorch_model.bin\n",
      "Configuration saved in wav2vec2-large-xls-r-300m-assamese/checkpoint-2800/preprocessor_config.json\n",
      "Configuration saved in wav2vec2-large-xls-r-300m-assamese/preprocessor_config.json\n",
      "Deleting older checkpoint [wav2vec2-large-xls-r-300m-assamese/checkpoint-2000] due to args.save_total_limit\n",
      "The following columns in the evaluation set  don't have a corresponding argument in `Wav2Vec2ForCTC.forward` and have been ignored: input_length.\n",
      "***** Running Evaluation *****\n",
      "  Num examples = 281\n",
      "  Batch size = 8\n",
      "Saving model checkpoint to wav2vec2-large-xls-r-300m-assamese/checkpoint-3200\n",
      "Configuration saved in wav2vec2-large-xls-r-300m-assamese/checkpoint-3200/config.json\n",
      "Model weights saved in wav2vec2-large-xls-r-300m-assamese/checkpoint-3200/pytorch_model.bin\n",
      "Configuration saved in wav2vec2-large-xls-r-300m-assamese/checkpoint-3200/preprocessor_config.json\n",
      "Configuration saved in wav2vec2-large-xls-r-300m-assamese/preprocessor_config.json\n",
      "Deleting older checkpoint [wav2vec2-large-xls-r-300m-assamese/checkpoint-2400] due to args.save_total_limit\n",
      "The following columns in the evaluation set  don't have a corresponding argument in `Wav2Vec2ForCTC.forward` and have been ignored: input_length.\n",
      "***** Running Evaluation *****\n",
      "  Num examples = 281\n",
      "  Batch size = 8\n",
      "Saving model checkpoint to wav2vec2-large-xls-r-300m-assamese/checkpoint-3600\n",
      "Configuration saved in wav2vec2-large-xls-r-300m-assamese/checkpoint-3600/config.json\n",
      "Model weights saved in wav2vec2-large-xls-r-300m-assamese/checkpoint-3600/pytorch_model.bin\n",
      "Configuration saved in wav2vec2-large-xls-r-300m-assamese/checkpoint-3600/preprocessor_config.json\n",
      "Configuration saved in wav2vec2-large-xls-r-300m-assamese/preprocessor_config.json\n",
      "Deleting older checkpoint [wav2vec2-large-xls-r-300m-assamese/checkpoint-2800] due to args.save_total_limit\n",
      "The following columns in the evaluation set  don't have a corresponding argument in `Wav2Vec2ForCTC.forward` and have been ignored: input_length.\n",
      "***** Running Evaluation *****\n",
      "  Num examples = 281\n",
      "  Batch size = 8\n",
      "Saving model checkpoint to wav2vec2-large-xls-r-300m-assamese/checkpoint-4000\n",
      "Configuration saved in wav2vec2-large-xls-r-300m-assamese/checkpoint-4000/config.json\n",
      "Model weights saved in wav2vec2-large-xls-r-300m-assamese/checkpoint-4000/pytorch_model.bin\n",
      "Configuration saved in wav2vec2-large-xls-r-300m-assamese/checkpoint-4000/preprocessor_config.json\n",
      "Configuration saved in wav2vec2-large-xls-r-300m-assamese/preprocessor_config.json\n",
      "Deleting older checkpoint [wav2vec2-large-xls-r-300m-assamese/checkpoint-3200] due to args.save_total_limit\n",
      "The following columns in the evaluation set  don't have a corresponding argument in `Wav2Vec2ForCTC.forward` and have been ignored: input_length.\n",
      "***** Running Evaluation *****\n",
      "  Num examples = 281\n",
      "  Batch size = 8\n",
      "Saving model checkpoint to wav2vec2-large-xls-r-300m-assamese/checkpoint-4400\n",
      "Configuration saved in wav2vec2-large-xls-r-300m-assamese/checkpoint-4400/config.json\n",
      "Model weights saved in wav2vec2-large-xls-r-300m-assamese/checkpoint-4400/pytorch_model.bin\n",
      "Configuration saved in wav2vec2-large-xls-r-300m-assamese/checkpoint-4400/preprocessor_config.json\n",
      "Configuration saved in wav2vec2-large-xls-r-300m-assamese/preprocessor_config.json\n",
      "Deleting older checkpoint [wav2vec2-large-xls-r-300m-assamese/checkpoint-3600] due to args.save_total_limit\n",
      "The following columns in the evaluation set  don't have a corresponding argument in `Wav2Vec2ForCTC.forward` and have been ignored: input_length.\n",
      "***** Running Evaluation *****\n",
      "  Num examples = 281\n",
      "  Batch size = 8\n",
      "Saving model checkpoint to wav2vec2-large-xls-r-300m-assamese/checkpoint-4800\n",
      "Configuration saved in wav2vec2-large-xls-r-300m-assamese/checkpoint-4800/config.json\n",
      "Model weights saved in wav2vec2-large-xls-r-300m-assamese/checkpoint-4800/pytorch_model.bin\n",
      "Configuration saved in wav2vec2-large-xls-r-300m-assamese/checkpoint-4800/preprocessor_config.json\n",
      "Configuration saved in wav2vec2-large-xls-r-300m-assamese/preprocessor_config.json\n",
      "Deleting older checkpoint [wav2vec2-large-xls-r-300m-assamese/checkpoint-4000] due to args.save_total_limit\n",
      "\n",
      "\n",
      "Training completed. Do not forget to share your model on huggingface.co/models =)\n",
      "\n",
      "\n"
     ]
    },
    {
     "data": {
      "text/plain": [
       "TrainOutput(global_step=4800, training_loss=0.5039274749159813, metrics={'train_runtime': 6554.046, 'train_samples_per_second': 24.412, 'train_steps_per_second': 0.732, 'total_flos': 1.8915874884062024e+19, 'train_loss': 0.5039274749159813, 'epoch': 399.96})"
      ]
     },
     "execution_count": 98,
     "metadata": {},
     "output_type": "execute_result"
    }
   ],
   "source": [
    "trainer.train()"
   ]
  },
  {
   "cell_type": "markdown",
   "metadata": {
    "id": "a9q4mgMZplr_"
   },
   "source": [
    "The training loss and validation WER go down nicely."
   ]
  },
  {
   "cell_type": "markdown",
   "metadata": {
    "id": "4Ya7WEy0pd13"
   },
   "source": [
    "You can now upload the result of the training to the 🤗 Hub, just execute this instruction:"
   ]
  },
  {
   "cell_type": "code",
   "execution_count": 99,
   "metadata": {
    "colab": {
     "background_save": true,
     "referenced_widgets": [
      "2d2f71d2c70d466cb9a0d3317fb3095e",
      "2e894a5b95cb489db8b27c6617fd9533"
     ]
    },
    "id": "ArG1Thf6NBWm",
    "outputId": "62ef1c3d-786c-4e25-f9c5-4020e71aa298"
   },
   "outputs": [
    {
     "name": "stderr",
     "output_type": "stream",
     "text": [
      "Saving model checkpoint to wav2vec2-large-xls-r-300m-assamese\n",
      "Configuration saved in wav2vec2-large-xls-r-300m-assamese/config.json\n",
      "Model weights saved in wav2vec2-large-xls-r-300m-assamese/pytorch_model.bin\n",
      "Configuration saved in wav2vec2-large-xls-r-300m-assamese/preprocessor_config.json\n",
      "Several commits (2) will be pushed upstream.\n",
      "The progress bars may be unreliable.\n"
     ]
    },
    {
     "data": {
      "application/vnd.jupyter.widget-view+json": {
       "model_id": "935bb275a0614d9fb694c7374197324b",
       "version_major": 2,
       "version_minor": 0
      },
      "text/plain": [
       "Upload file pytorch_model.bin:   0%|          | 32.0k/1.18G [00:00<?, ?B/s]"
      ]
     },
     "metadata": {},
     "output_type": "display_data"
    },
    {
     "data": {
      "application/vnd.jupyter.widget-view+json": {
       "model_id": "b9dd9a3577ba4e21b3c6f47bd46558db",
       "version_major": 2,
       "version_minor": 0
      },
      "text/plain": [
       "Upload file runs/Jan19_14-33-09_Yellow/events.out.tfevents.1642583005.Yellow.1965976.2: 100%|##########| 10.6k…"
      ]
     },
     "metadata": {},
     "output_type": "display_data"
    },
    {
     "name": "stderr",
     "output_type": "stream",
     "text": [
      "remote: error: cannot lock ref 'refs/heads/main': is at 067edf27bf2d8881446acbe5646f554e1e142c02 but expected fe405d5f35eafcf396edf289f132a0c70f2c333f        \n",
      "To https://huggingface.co/infinitejoy/wav2vec2-large-xls-r-300m-assamese\n",
      " ! [remote rejected] main -> main (failed to update ref)\n",
      "error: failed to push some refs to 'https://user:evJMvulKWlvGRzNgNjxjCmOgRkFTzPOMtQntvhcGuzEuxNyvVtvlnodNtLznqXKcmbqmqaeAvllOCkjoiJOXQzTVjFOJHflQDzykjonNdCjaXLutNWzcbKlhtdhpXyrh@huggingface.co/infinitejoy/wav2vec2-large-xls-r-300m-assamese'\n",
      "\n"
     ]
    },
    {
     "ename": "OSError",
     "evalue": "remote: error: cannot lock ref 'refs/heads/main': is at 067edf27bf2d8881446acbe5646f554e1e142c02 but expected fe405d5f35eafcf396edf289f132a0c70f2c333f        \nTo https://huggingface.co/infinitejoy/wav2vec2-large-xls-r-300m-assamese\n ! [remote rejected] main -> main (failed to update ref)\nerror: failed to push some refs to 'https://user:evJMvulKWlvGRzNgNjxjCmOgRkFTzPOMtQntvhcGuzEuxNyvVtvlnodNtLznqXKcmbqmqaeAvllOCkjoiJOXQzTVjFOJHflQDzykjonNdCjaXLutNWzcbKlhtdhpXyrh@huggingface.co/infinitejoy/wav2vec2-large-xls-r-300m-assamese'\n",
     "output_type": "error",
     "traceback": [
      "\u001b[0;31m---------------------------------------------------------------------------\u001b[0m",
      "\u001b[0;31mCalledProcessError\u001b[0m                        Traceback (most recent call last)",
      "\u001b[0;32m~/anaconda3/envs/joy39/lib/python3.9/site-packages/huggingface_hub/repository.py\u001b[0m in \u001b[0;36mgit_push\u001b[0;34m(self, upstream, blocking, auto_lfs_prune)\u001b[0m\n\u001b[1;32m    998\u001b[0m                     \u001b[0;32mif\u001b[0m \u001b[0mreturn_code\u001b[0m\u001b[0;34m:\u001b[0m\u001b[0;34m\u001b[0m\u001b[0;34m\u001b[0m\u001b[0m\n\u001b[0;32m--> 999\u001b[0;31m                         raise subprocess.CalledProcessError(\n\u001b[0m\u001b[1;32m   1000\u001b[0m                             \u001b[0mreturn_code\u001b[0m\u001b[0;34m,\u001b[0m \u001b[0mprocess\u001b[0m\u001b[0;34m.\u001b[0m\u001b[0margs\u001b[0m\u001b[0;34m,\u001b[0m \u001b[0moutput\u001b[0m\u001b[0;34m=\u001b[0m\u001b[0mstdout\u001b[0m\u001b[0;34m,\u001b[0m \u001b[0mstderr\u001b[0m\u001b[0;34m=\u001b[0m\u001b[0mstderr\u001b[0m\u001b[0;34m\u001b[0m\u001b[0;34m\u001b[0m\u001b[0m\n",
      "\u001b[0;31mCalledProcessError\u001b[0m: Command '['git', 'push', '--set-upstream', 'origin', 'main']' returned non-zero exit status 1.",
      "\nDuring handling of the above exception, another exception occurred:\n",
      "\u001b[0;31mOSError\u001b[0m                                   Traceback (most recent call last)",
      "\u001b[0;32m/tmp/ipykernel_1965976/2973243753.py\u001b[0m in \u001b[0;36m<module>\u001b[0;34m\u001b[0m\n\u001b[0;32m----> 1\u001b[0;31m \u001b[0mtrainer\u001b[0m\u001b[0;34m.\u001b[0m\u001b[0mpush_to_hub\u001b[0m\u001b[0;34m(\u001b[0m\u001b[0mcommit_message\u001b[0m\u001b[0;34m=\u001b[0m\u001b[0;34m\"common voice 7 model\"\u001b[0m\u001b[0;34m)\u001b[0m\u001b[0;34m\u001b[0m\u001b[0;34m\u001b[0m\u001b[0m\n\u001b[0m",
      "\u001b[0;32m~/joydeep/transformers/src/transformers/trainer.py\u001b[0m in \u001b[0;36mpush_to_hub\u001b[0;34m(self, commit_message, blocking, **kwargs)\u001b[0m\n\u001b[1;32m   2777\u001b[0m             \u001b[0;32mreturn\u001b[0m\u001b[0;34m\u001b[0m\u001b[0;34m\u001b[0m\u001b[0m\n\u001b[1;32m   2778\u001b[0m \u001b[0;34m\u001b[0m\u001b[0m\n\u001b[0;32m-> 2779\u001b[0;31m         git_head_commit_url = self.repo.push_to_hub(\n\u001b[0m\u001b[1;32m   2780\u001b[0m             \u001b[0mcommit_message\u001b[0m\u001b[0;34m=\u001b[0m\u001b[0mcommit_message\u001b[0m\u001b[0;34m,\u001b[0m \u001b[0mblocking\u001b[0m\u001b[0;34m=\u001b[0m\u001b[0mblocking\u001b[0m\u001b[0;34m,\u001b[0m \u001b[0mauto_lfs_prune\u001b[0m\u001b[0;34m=\u001b[0m\u001b[0;32mTrue\u001b[0m\u001b[0;34m\u001b[0m\u001b[0;34m\u001b[0m\u001b[0m\n\u001b[1;32m   2781\u001b[0m         )\n",
      "\u001b[0;32m~/anaconda3/envs/joy39/lib/python3.9/site-packages/huggingface_hub/repository.py\u001b[0m in \u001b[0;36mpush_to_hub\u001b[0;34m(self, commit_message, blocking, clean_ok, auto_lfs_prune)\u001b[0m\n\u001b[1;32m   1230\u001b[0m         \u001b[0mself\u001b[0m\u001b[0;34m.\u001b[0m\u001b[0mgit_add\u001b[0m\u001b[0;34m(\u001b[0m\u001b[0mauto_lfs_track\u001b[0m\u001b[0;34m=\u001b[0m\u001b[0;32mTrue\u001b[0m\u001b[0;34m)\u001b[0m\u001b[0;34m\u001b[0m\u001b[0;34m\u001b[0m\u001b[0m\n\u001b[1;32m   1231\u001b[0m         \u001b[0mself\u001b[0m\u001b[0;34m.\u001b[0m\u001b[0mgit_commit\u001b[0m\u001b[0;34m(\u001b[0m\u001b[0mcommit_message\u001b[0m\u001b[0;34m)\u001b[0m\u001b[0;34m\u001b[0m\u001b[0;34m\u001b[0m\u001b[0m\n\u001b[0;32m-> 1232\u001b[0;31m         return self.git_push(\n\u001b[0m\u001b[1;32m   1233\u001b[0m             \u001b[0mupstream\u001b[0m\u001b[0;34m=\u001b[0m\u001b[0;34mf\"origin {self.current_branch}\"\u001b[0m\u001b[0;34m,\u001b[0m\u001b[0;34m\u001b[0m\u001b[0;34m\u001b[0m\u001b[0m\n\u001b[1;32m   1234\u001b[0m             \u001b[0mblocking\u001b[0m\u001b[0;34m=\u001b[0m\u001b[0mblocking\u001b[0m\u001b[0;34m,\u001b[0m\u001b[0;34m\u001b[0m\u001b[0;34m\u001b[0m\u001b[0m\n",
      "\u001b[0;32m~/anaconda3/envs/joy39/lib/python3.9/site-packages/huggingface_hub/repository.py\u001b[0m in \u001b[0;36mgit_push\u001b[0;34m(self, upstream, blocking, auto_lfs_prune)\u001b[0m\n\u001b[1;32m   1002\u001b[0m \u001b[0;34m\u001b[0m\u001b[0m\n\u001b[1;32m   1003\u001b[0m         \u001b[0;32mexcept\u001b[0m \u001b[0msubprocess\u001b[0m\u001b[0;34m.\u001b[0m\u001b[0mCalledProcessError\u001b[0m \u001b[0;32mas\u001b[0m \u001b[0mexc\u001b[0m\u001b[0;34m:\u001b[0m\u001b[0;34m\u001b[0m\u001b[0;34m\u001b[0m\u001b[0m\n\u001b[0;32m-> 1004\u001b[0;31m             \u001b[0;32mraise\u001b[0m \u001b[0mEnvironmentError\u001b[0m\u001b[0;34m(\u001b[0m\u001b[0mexc\u001b[0m\u001b[0;34m.\u001b[0m\u001b[0mstderr\u001b[0m\u001b[0;34m)\u001b[0m\u001b[0;34m\u001b[0m\u001b[0;34m\u001b[0m\u001b[0m\n\u001b[0m\u001b[1;32m   1005\u001b[0m \u001b[0;34m\u001b[0m\u001b[0m\n\u001b[1;32m   1006\u001b[0m         \u001b[0;32mif\u001b[0m \u001b[0;32mnot\u001b[0m \u001b[0mblocking\u001b[0m\u001b[0;34m:\u001b[0m\u001b[0;34m\u001b[0m\u001b[0;34m\u001b[0m\u001b[0m\n",
      "\u001b[0;31mOSError\u001b[0m: remote: error: cannot lock ref 'refs/heads/main': is at 067edf27bf2d8881446acbe5646f554e1e142c02 but expected fe405d5f35eafcf396edf289f132a0c70f2c333f        \nTo https://huggingface.co/infinitejoy/wav2vec2-large-xls-r-300m-assamese\n ! [remote rejected] main -> main (failed to update ref)\nerror: failed to push some refs to 'https://user:evJMvulKWlvGRzNgNjxjCmOgRkFTzPOMtQntvhcGuzEuxNyvVtvlnodNtLznqXKcmbqmqaeAvllOCkjoiJOXQzTVjFOJHflQDzykjonNdCjaXLutNWzcbKlhtdhpXyrh@huggingface.co/infinitejoy/wav2vec2-large-xls-r-300m-assamese'\n"
     ]
    }
   ],
   "source": [
    "trainer.push_to_hub(commit_message=\"common voice 7 model\")"
   ]
  },
  {
   "cell_type": "markdown",
   "metadata": {
    "id": "RHIVc44_fY2N"
   },
   "source": [
    "You can now share this model with all your friends, family, favorite pets: they can all load it with the identifier \"your-username/the-name-you-picked\" so for instance:"
   ]
  },
  {
   "cell_type": "markdown",
   "metadata": {
    "id": "5lWWIKyBpx1h"
   },
   "source": [
    "```python\n",
    "from transformers import AutoModelForCTC, Wav2Vec2Processor\n",
    "\n",
    "model = AutoModelForCTC.from_pretrained(\"patrickvonplaten/wav2vec2-large-xls-r-300m-tr-colab\")\n",
    "processor = Wav2Vec2Processor.from_pretrained(\"patrickvonplaten/wav2vec2-large-xls-r-300m-tr-colab\")\n",
    "```"
   ]
  },
  {
   "cell_type": "markdown",
   "metadata": {
    "id": "pmi1cX0fRBit"
   },
   "source": [
    "For more examples of how XLS-R can be fine-tuned, please take a look at the [official speech recognition examples](https://github.com/huggingface/transformers/tree/master/examples/pytorch/speech-recognition#examples)."
   ]
  },
  {
   "cell_type": "markdown",
   "metadata": {
    "id": "L8b8Qkoy3KyS"
   },
   "source": [
    "### Evaluation\n",
    "\n",
    "As a final check, let's load the model and verify that it indeed has learned to transcribe Turkish speech.\n",
    "\n",
    "Let's first load the pretrained checkpoint."
   ]
  },
  {
   "cell_type": "code",
   "execution_count": 101,
   "metadata": {
    "colab": {
     "background_save": true
    },
    "id": "R351I9IQp_9D",
    "outputId": "f2a2ee99-7db6-4962-e140-0107054102d3"
   },
   "outputs": [
    {
     "name": "stderr",
     "output_type": "stream",
     "text": [
      "loading configuration file wav2vec2-large-xls-r-300m-assamese/config.json\n",
      "Model config Wav2Vec2Config {\n",
      "  \"_name_or_path\": \"facebook/wav2vec2-xls-r-300m\",\n",
      "  \"activation_dropout\": 0.0,\n",
      "  \"apply_spec_augment\": true,\n",
      "  \"architectures\": [\n",
      "    \"Wav2Vec2ForCTC\"\n",
      "  ],\n",
      "  \"attention_dropout\": 0.0,\n",
      "  \"bos_token_id\": 1,\n",
      "  \"classifier_proj_size\": 256,\n",
      "  \"codevector_dim\": 768,\n",
      "  \"contrastive_logits_temperature\": 0.1,\n",
      "  \"conv_bias\": true,\n",
      "  \"conv_dim\": [\n",
      "    512,\n",
      "    512,\n",
      "    512,\n",
      "    512,\n",
      "    512,\n",
      "    512,\n",
      "    512\n",
      "  ],\n",
      "  \"conv_kernel\": [\n",
      "    10,\n",
      "    3,\n",
      "    3,\n",
      "    3,\n",
      "    3,\n",
      "    2,\n",
      "    2\n",
      "  ],\n",
      "  \"conv_stride\": [\n",
      "    5,\n",
      "    2,\n",
      "    2,\n",
      "    2,\n",
      "    2,\n",
      "    2,\n",
      "    2\n",
      "  ],\n",
      "  \"ctc_loss_reduction\": \"mean\",\n",
      "  \"ctc_zero_infinity\": false,\n",
      "  \"diversity_loss_weight\": 0.1,\n",
      "  \"do_stable_layer_norm\": true,\n",
      "  \"eos_token_id\": 2,\n",
      "  \"feat_extract_activation\": \"gelu\",\n",
      "  \"feat_extract_dropout\": 0.0,\n",
      "  \"feat_extract_norm\": \"layer\",\n",
      "  \"feat_proj_dropout\": 0.0,\n",
      "  \"feat_quantizer_dropout\": 0.0,\n",
      "  \"final_dropout\": 0.0,\n",
      "  \"gradient_checkpointing\": false,\n",
      "  \"hidden_act\": \"gelu\",\n",
      "  \"hidden_dropout\": 0.0,\n",
      "  \"hidden_size\": 1024,\n",
      "  \"initializer_range\": 0.02,\n",
      "  \"intermediate_size\": 4096,\n",
      "  \"layer_norm_eps\": 1e-05,\n",
      "  \"layerdrop\": 0.0,\n",
      "  \"mask_feature_length\": 10,\n",
      "  \"mask_feature_prob\": 0.0,\n",
      "  \"mask_time_length\": 10,\n",
      "  \"mask_time_prob\": 0.05,\n",
      "  \"model_type\": \"wav2vec2\",\n",
      "  \"num_attention_heads\": 16,\n",
      "  \"num_codevector_groups\": 2,\n",
      "  \"num_codevectors_per_group\": 320,\n",
      "  \"num_conv_pos_embedding_groups\": 16,\n",
      "  \"num_conv_pos_embeddings\": 128,\n",
      "  \"num_feat_extract_layers\": 7,\n",
      "  \"num_hidden_layers\": 24,\n",
      "  \"num_negatives\": 100,\n",
      "  \"pad_token_id\": 64,\n",
      "  \"proj_codevector_dim\": 768,\n",
      "  \"torch_dtype\": \"float32\",\n",
      "  \"transformers_version\": \"4.11.3\",\n",
      "  \"use_weighted_layer_sum\": false,\n",
      "  \"vocab_size\": 67\n",
      "}\n",
      "\n",
      "loading weights file wav2vec2-large-xls-r-300m-assamese/pytorch_model.bin\n",
      "All model checkpoint weights were used when initializing Wav2Vec2ForCTC.\n",
      "\n",
      "All the weights of Wav2Vec2ForCTC were initialized from the model checkpoint at wav2vec2-large-xls-r-300m-assamese.\n",
      "If your task is similar to the task the model of the checkpoint was trained on, you can already use Wav2Vec2ForCTC for predictions without further training.\n",
      "loading feature extractor configuration file wav2vec2-large-xls-r-300m-assamese/preprocessor_config.json\n",
      "Feature extractor Wav2Vec2FeatureExtractor {\n",
      "  \"do_normalize\": true,\n",
      "  \"feature_extractor_type\": \"Wav2Vec2FeatureExtractor\",\n",
      "  \"feature_size\": 1,\n",
      "  \"padding_side\": \"right\",\n",
      "  \"padding_value\": 0.0,\n",
      "  \"return_attention_mask\": true,\n",
      "  \"sampling_rate\": 16000\n",
      "}\n",
      "\n",
      "Didn't find file wav2vec2-large-xls-r-300m-assamese/tokenizer.json. We won't load it.\n",
      "loading file wav2vec2-large-xls-r-300m-assamese/vocab.json\n",
      "loading file wav2vec2-large-xls-r-300m-assamese/tokenizer_config.json\n",
      "loading file wav2vec2-large-xls-r-300m-assamese/added_tokens.json\n",
      "loading file wav2vec2-large-xls-r-300m-assamese/special_tokens_map.json\n",
      "loading file None\n",
      "Adding <s> to the vocabulary\n",
      "Adding </s> to the vocabulary\n"
     ]
    }
   ],
   "source": [
    "model = Wav2Vec2ForCTC.from_pretrained(repo_name).to(\"cuda\")\n",
    "processor = Wav2Vec2Processor.from_pretrained(repo_name)"
   ]
  },
  {
   "cell_type": "markdown",
   "metadata": {
    "id": "jD7TZ1YS3S_K"
   },
   "source": [
    "\n",
    "Now, we will just take the first example of the test set, run it through the model and take the `argmax(...)` of the logits to retrieve the predicted token ids."
   ]
  },
  {
   "cell_type": "code",
   "execution_count": 102,
   "metadata": {
    "colab": {
     "background_save": true
    },
    "id": "pax07TnL3WZn",
    "outputId": "867787ff-0cb7-41e9-f926-96f7b53e7134"
   },
   "outputs": [
    {
     "name": "stderr",
     "output_type": "stream",
     "text": [
      "It is strongly recommended to pass the ``sampling_rate`` argument to this function.Failing to do so can result in silent errors that might be hard to debug.\n"
     ]
    }
   ],
   "source": [
    "input_dict = processor(common_voice_test[0][\"input_values\"], return_tensors=\"pt\", padding=True)\n",
    "\n",
    "logits = model(input_dict.input_values.to(\"cuda\")).logits\n",
    "\n",
    "pred_ids = torch.argmax(logits, dim=-1)[0]"
   ]
  },
  {
   "cell_type": "markdown",
   "metadata": {
    "id": "7nkzSQu53Zs2"
   },
   "source": [
    "We adapted `common_voice_test` quite a bit so that the dataset instance does not contain the original sentence label anymore. Thus, we re-use the original dataset to get the label of the first example."
   ]
  },
  {
   "cell_type": "code",
   "execution_count": 105,
   "metadata": {
    "colab": {
     "background_save": true,
     "referenced_widgets": [
      "54097a6c744849128d7cc3da8aad6609",
      "b8827ecbec9e44f09216f62c1ee12840",
      "8728bb32478240b7abe576375b01e640",
      "19b8a530352a423794395979e6415bea",
      "5fc8ec04870e4bb7b63b20844c355ab6"
     ]
    },
    "id": "fe2AE-2xqKHx",
    "outputId": "1d8321b3-4f41-4d71-e74e-f33f32a7b261"
   },
   "outputs": [
    {
     "name": "stderr",
     "output_type": "stream",
     "text": [
      "Using custom data configuration as-ac779bf2c9f7c09b\n"
     ]
    },
    {
     "name": "stdout",
     "output_type": "stream",
     "text": [
      "Downloading and preparing dataset common_voice/as (download: 21.20 MiB, generated: 262.87 KiB, post-processed: Unknown size, total: 21.45 MiB) to /home/yellow/.cache/huggingface/datasets/common_voice/as-ac779bf2c9f7c09b/6.1.0/f7a9d973839b7706e9e281c19b7e512f31badf3c0fdbd21c671f3c4bf9acf3b9...\n"
     ]
    },
    {
     "data": {
      "application/vnd.jupyter.widget-view+json": {
       "model_id": "",
       "version_major": 2,
       "version_minor": 0
      },
      "text/plain": [
       "0 examples [00:00, ? examples/s]"
      ]
     },
     "metadata": {},
     "output_type": "display_data"
    },
    {
     "data": {
      "application/vnd.jupyter.widget-view+json": {
       "model_id": "",
       "version_major": 2,
       "version_minor": 0
      },
      "text/plain": [
       "0 examples [00:00, ? examples/s]"
      ]
     },
     "metadata": {},
     "output_type": "display_data"
    },
    {
     "data": {
      "application/vnd.jupyter.widget-view+json": {
       "model_id": "",
       "version_major": 2,
       "version_minor": 0
      },
      "text/plain": [
       "0 examples [00:00, ? examples/s]"
      ]
     },
     "metadata": {},
     "output_type": "display_data"
    },
    {
     "data": {
      "application/vnd.jupyter.widget-view+json": {
       "model_id": "",
       "version_major": 2,
       "version_minor": 0
      },
      "text/plain": [
       "0 examples [00:00, ? examples/s]"
      ]
     },
     "metadata": {},
     "output_type": "display_data"
    },
    {
     "data": {
      "application/vnd.jupyter.widget-view+json": {
       "model_id": "",
       "version_major": 2,
       "version_minor": 0
      },
      "text/plain": [
       "0 examples [00:00, ? examples/s]"
      ]
     },
     "metadata": {},
     "output_type": "display_data"
    },
    {
     "name": "stdout",
     "output_type": "stream",
     "text": [
      "Dataset common_voice downloaded and prepared to /home/yellow/.cache/huggingface/datasets/common_voice/as-ac779bf2c9f7c09b/6.1.0/f7a9d973839b7706e9e281c19b7e512f31badf3c0fdbd21c671f3c4bf9acf3b9. Subsequent calls will reuse this data.\n"
     ]
    }
   ],
   "source": [
    "common_voice_test_transcription = load_dataset(\n",
    "    \"common_voice\", \"as\", data_dir=\"./cv-corpus-6.1-2020-12-11\", split=\"test\")"
   ]
  },
  {
   "cell_type": "markdown",
   "metadata": {
    "id": "epu8kCQZ3h70"
   },
   "source": [
    "\n",
    "Finally, we can decode the example."
   ]
  },
  {
   "cell_type": "code",
   "execution_count": 106,
   "metadata": {
    "colab": {
     "background_save": true
    },
    "id": "K4xWqmk_qMn0",
    "outputId": "d9e40b3c-f02a-48a1-d081-6d7e8b37dcaf"
   },
   "outputs": [
    {
     "name": "stdout",
     "output_type": "stream",
     "text": [
      "Prediction:\n",
      "এেইমৰ ৰামৰ এজন ভালল ্পকনো গাময়।\n",
      "\n",
      "Reference:\n",
      "তেওঁ ৰামৰ এজন ভাল অনুগামী।\n"
     ]
    }
   ],
   "source": [
    "print(\"Prediction:\")\n",
    "print(processor.decode(pred_ids))\n",
    "\n",
    "print(\"\\nReference:\")\n",
    "print(common_voice_test_transcription[0][\"sentence\"].lower())"
   ]
  },
  {
   "cell_type": "markdown",
   "metadata": {
    "id": "HwhyoMml3oOT"
   },
   "source": [
    "Alright! The transcription can definitely be recognized from our prediction, but it is not perfect yet. Training the model a bit longer, spending more time on the data preprocessing, and especially using a language model for decoding would certainly improve the model's overall performance.\n",
    "\n",
    "For a demonstration model on a low-resource language, the results are quite acceptable however 🤗."
   ]
  }
 ],
 "metadata": {
  "accelerator": "GPU",
  "colab": {
   "collapsed_sections": [],
   "machine_shape": "hm",
   "name": "Copy of Fine-Tune XLS-R on Common Voice turkish.ipynb",
   "provenance": [],
   "toc_visible": true
  },
  "kernelspec": {
   "display_name": "joy39",
   "language": "python",
   "name": "joy39"
  },
  "language_info": {
   "codemirror_mode": {
    "name": "ipython",
    "version": 3
   },
   "file_extension": ".py",
   "mimetype": "text/x-python",
   "name": "python",
   "nbconvert_exporter": "python",
   "pygments_lexer": "ipython3",
   "version": "3.9.7"
  },
  "widgets": {
   "application/vnd.jupyter.widget-state+json": {
    "01478ed12a3046b8aceb4c21ffea576b": {
     "model_module": "@jupyter-widgets/controls",
     "model_module_version": "1.5.0",
     "model_name": "DescriptionStyleModel",
     "state": {
      "_model_module": "@jupyter-widgets/controls",
      "_model_module_version": "1.5.0",
      "_model_name": "DescriptionStyleModel",
      "_view_count": null,
      "_view_module": "@jupyter-widgets/base",
      "_view_module_version": "1.2.0",
      "_view_name": "StyleView",
      "description_width": ""
     }
    },
    "02331eae038e4f1d9ea6d3d16c23c283": {
     "model_module": "@jupyter-widgets/controls",
     "model_module_version": "1.5.0",
     "model_name": "DescriptionStyleModel",
     "state": {
      "_model_module": "@jupyter-widgets/controls",
      "_model_module_version": "1.5.0",
      "_model_name": "DescriptionStyleModel",
      "_view_count": null,
      "_view_module": "@jupyter-widgets/base",
      "_view_module_version": "1.2.0",
      "_view_name": "StyleView",
      "description_width": ""
     }
    },
    "037d3cd1315a4ceb8325854c0d78aec3": {
     "model_module": "@jupyter-widgets/controls",
     "model_module_version": "1.5.0",
     "model_name": "ProgressStyleModel",
     "state": {
      "_model_module": "@jupyter-widgets/controls",
      "_model_module_version": "1.5.0",
      "_model_name": "ProgressStyleModel",
      "_view_count": null,
      "_view_module": "@jupyter-widgets/base",
      "_view_module_version": "1.2.0",
      "_view_name": "StyleView",
      "bar_color": null,
      "description_width": ""
     }
    },
    "0388be544f64425990ae4ad81852f13f": {
     "model_module": "@jupyter-widgets/controls",
     "model_module_version": "1.5.0",
     "model_name": "HTMLModel",
     "state": {
      "_dom_classes": [],
      "_model_module": "@jupyter-widgets/controls",
      "_model_module_version": "1.5.0",
      "_model_name": "HTMLModel",
      "_view_count": null,
      "_view_module": "@jupyter-widgets/controls",
      "_view_module_version": "1.5.0",
      "_view_name": "HTMLView",
      "description": "",
      "description_tooltip": null,
      "layout": "IPY_MODEL_8ee99d65a9c1490db3c0bddac55d4edf",
      "placeholder": "​",
      "style": "IPY_MODEL_2aa706b41ba648ccbe3869e35b5b0d48",
      "value": "100%"
     }
    },
    "03920506cf8a4433a636461f14db37ac": {
     "model_module": "@jupyter-widgets/controls",
     "model_module_version": "1.5.0",
     "model_name": "HBoxModel",
     "state": {
      "_dom_classes": [],
      "_model_module": "@jupyter-widgets/controls",
      "_model_module_version": "1.5.0",
      "_model_name": "HBoxModel",
      "_view_count": null,
      "_view_module": "@jupyter-widgets/controls",
      "_view_module_version": "1.5.0",
      "_view_name": "HBoxView",
      "box_style": "",
      "children": [
       "IPY_MODEL_ba6c71a131164b96a888b0243801c370",
       "IPY_MODEL_d908994959124dd7ad221fdf03ec6a66",
       "IPY_MODEL_05f9b12ea3ed4d0d8a2e58873e351392"
      ],
      "layout": "IPY_MODEL_11edbfd582954ebf917773407d407761"
     }
    },
    "05ed1b6eeb514331933cc5c331bc451d": {
     "model_module": "@jupyter-widgets/controls",
     "model_module_version": "1.5.0",
     "model_name": "FloatProgressModel",
     "state": {
      "_dom_classes": [],
      "_model_module": "@jupyter-widgets/controls",
      "_model_module_version": "1.5.0",
      "_model_name": "FloatProgressModel",
      "_view_count": null,
      "_view_module": "@jupyter-widgets/controls",
      "_view_module_version": "1.5.0",
      "_view_name": "ProgressView",
      "bar_style": "success",
      "description": "",
      "description_tooltip": null,
      "layout": "IPY_MODEL_21df6340377c41778ca3430c905dbbc2",
      "max": 1647,
      "min": 0,
      "orientation": "horizontal",
      "style": "IPY_MODEL_13ca2373ead540bca4a9c65866c40caf",
      "value": 1647
     }
    },
    "05f9b12ea3ed4d0d8a2e58873e351392": {
     "model_module": "@jupyter-widgets/controls",
     "model_module_version": "1.5.0",
     "model_name": "HTMLModel",
     "state": {
      "_dom_classes": [],
      "_model_module": "@jupyter-widgets/controls",
      "_model_module_version": "1.5.0",
      "_model_name": "HTMLModel",
      "_view_count": null,
      "_view_module": "@jupyter-widgets/controls",
      "_view_module_version": "1.5.0",
      "_view_name": "HTMLView",
      "description": "",
      "description_tooltip": null,
      "layout": "IPY_MODEL_075164223a614e6bb610b223407e6da7",
      "placeholder": "​",
      "style": "IPY_MODEL_e4cc2d6a965443268891e889ebf346ac",
      "value": " 3478/3478 [00:00&lt;00:00, 5656.46ex/s]"
     }
    },
    "0614948db2a444ceb7a64c39b32766d5": {
     "model_module": "@jupyter-widgets/controls",
     "model_module_version": "1.5.0",
     "model_name": "HTMLModel",
     "state": {
      "_dom_classes": [],
      "_model_module": "@jupyter-widgets/controls",
      "_model_module_version": "1.5.0",
      "_model_name": "HTMLModel",
      "_view_count": null,
      "_view_module": "@jupyter-widgets/controls",
      "_view_module_version": "1.5.0",
      "_view_name": "HTMLView",
      "description": "",
      "description_tooltip": null,
      "layout": "IPY_MODEL_e887dd2f1a7a40daa4571914f9b1c4dc",
      "placeholder": "​",
      "style": "IPY_MODEL_02331eae038e4f1d9ea6d3d16c23c283",
      "value": "Downloading: "
     }
    },
    "075164223a614e6bb610b223407e6da7": {
     "model_module": "@jupyter-widgets/base",
     "model_module_version": "1.2.0",
     "model_name": "LayoutModel",
     "state": {
      "_model_module": "@jupyter-widgets/base",
      "_model_module_version": "1.2.0",
      "_model_name": "LayoutModel",
      "_view_count": null,
      "_view_module": "@jupyter-widgets/base",
      "_view_module_version": "1.2.0",
      "_view_name": "LayoutView",
      "align_content": null,
      "align_items": null,
      "align_self": null,
      "border": null,
      "bottom": null,
      "display": null,
      "flex": null,
      "flex_flow": null,
      "grid_area": null,
      "grid_auto_columns": null,
      "grid_auto_flow": null,
      "grid_auto_rows": null,
      "grid_column": null,
      "grid_gap": null,
      "grid_row": null,
      "grid_template_areas": null,
      "grid_template_columns": null,
      "grid_template_rows": null,
      "height": null,
      "justify_content": null,
      "justify_items": null,
      "left": null,
      "margin": null,
      "max_height": null,
      "max_width": null,
      "min_height": null,
      "min_width": null,
      "object_fit": null,
      "object_position": null,
      "order": null,
      "overflow": null,
      "overflow_x": null,
      "overflow_y": null,
      "padding": null,
      "right": null,
      "top": null,
      "visibility": null,
      "width": null
     }
    },
    "0b51fb65273042c78591c8798e9ef012": {
     "model_module": "@jupyter-widgets/controls",
     "model_module_version": "1.5.0",
     "model_name": "DescriptionStyleModel",
     "state": {
      "_model_module": "@jupyter-widgets/controls",
      "_model_module_version": "1.5.0",
      "_model_name": "DescriptionStyleModel",
      "_view_count": null,
      "_view_module": "@jupyter-widgets/base",
      "_view_module_version": "1.2.0",
      "_view_name": "StyleView",
      "description_width": ""
     }
    },
    "0b6f92986c524d709e1420f3ab5fc2b2": {
     "model_module": "@jupyter-widgets/controls",
     "model_module_version": "1.5.0",
     "model_name": "DescriptionStyleModel",
     "state": {
      "_model_module": "@jupyter-widgets/controls",
      "_model_module_version": "1.5.0",
      "_model_name": "DescriptionStyleModel",
      "_view_count": null,
      "_view_module": "@jupyter-widgets/base",
      "_view_module_version": "1.2.0",
      "_view_name": "StyleView",
      "description_width": ""
     }
    },
    "0c25b9b7db834289b3de290008a0209c": {
     "model_module": "@jupyter-widgets/base",
     "model_module_version": "1.2.0",
     "model_name": "LayoutModel",
     "state": {
      "_model_module": "@jupyter-widgets/base",
      "_model_module_version": "1.2.0",
      "_model_name": "LayoutModel",
      "_view_count": null,
      "_view_module": "@jupyter-widgets/base",
      "_view_module_version": "1.2.0",
      "_view_name": "LayoutView",
      "align_content": null,
      "align_items": null,
      "align_self": null,
      "border": null,
      "bottom": null,
      "display": null,
      "flex": null,
      "flex_flow": null,
      "grid_area": null,
      "grid_auto_columns": null,
      "grid_auto_flow": null,
      "grid_auto_rows": null,
      "grid_column": null,
      "grid_gap": null,
      "grid_row": null,
      "grid_template_areas": null,
      "grid_template_columns": null,
      "grid_template_rows": null,
      "height": null,
      "justify_content": null,
      "justify_items": null,
      "left": null,
      "margin": null,
      "max_height": null,
      "max_width": null,
      "min_height": null,
      "min_width": null,
      "object_fit": null,
      "object_position": null,
      "order": null,
      "overflow": null,
      "overflow_x": null,
      "overflow_y": null,
      "padding": null,
      "right": null,
      "top": null,
      "visibility": null,
      "width": null
     }
    },
    "0c93c50c05ec42d685304b60dc1771d9": {
     "model_module": "@jupyter-widgets/base",
     "model_module_version": "1.2.0",
     "model_name": "LayoutModel",
     "state": {
      "_model_module": "@jupyter-widgets/base",
      "_model_module_version": "1.2.0",
      "_model_name": "LayoutModel",
      "_view_count": null,
      "_view_module": "@jupyter-widgets/base",
      "_view_module_version": "1.2.0",
      "_view_name": "LayoutView",
      "align_content": null,
      "align_items": null,
      "align_self": null,
      "border": null,
      "bottom": null,
      "display": null,
      "flex": null,
      "flex_flow": null,
      "grid_area": null,
      "grid_auto_columns": null,
      "grid_auto_flow": null,
      "grid_auto_rows": null,
      "grid_column": null,
      "grid_gap": null,
      "grid_row": null,
      "grid_template_areas": null,
      "grid_template_columns": null,
      "grid_template_rows": null,
      "height": null,
      "justify_content": null,
      "justify_items": null,
      "left": null,
      "margin": null,
      "max_height": null,
      "max_width": null,
      "min_height": null,
      "min_width": null,
      "object_fit": null,
      "object_position": null,
      "order": null,
      "overflow": null,
      "overflow_x": null,
      "overflow_y": null,
      "padding": null,
      "right": null,
      "top": null,
      "visibility": null,
      "width": null
     }
    },
    "0cdc994b08f64017817d5427068d40bc": {
     "model_module": "@jupyter-widgets/controls",
     "model_module_version": "1.5.0",
     "model_name": "DescriptionStyleModel",
     "state": {
      "_model_module": "@jupyter-widgets/controls",
      "_model_module_version": "1.5.0",
      "_model_name": "DescriptionStyleModel",
      "_view_count": null,
      "_view_module": "@jupyter-widgets/base",
      "_view_module_version": "1.2.0",
      "_view_name": "StyleView",
      "description_width": ""
     }
    },
    "0e0ca96bb1964380b7cb64fec3c17ddb": {
     "model_module": "@jupyter-widgets/base",
     "model_module_version": "1.2.0",
     "model_name": "LayoutModel",
     "state": {
      "_model_module": "@jupyter-widgets/base",
      "_model_module_version": "1.2.0",
      "_model_name": "LayoutModel",
      "_view_count": null,
      "_view_module": "@jupyter-widgets/base",
      "_view_module_version": "1.2.0",
      "_view_name": "LayoutView",
      "align_content": null,
      "align_items": null,
      "align_self": null,
      "border": null,
      "bottom": null,
      "display": null,
      "flex": null,
      "flex_flow": null,
      "grid_area": null,
      "grid_auto_columns": null,
      "grid_auto_flow": null,
      "grid_auto_rows": null,
      "grid_column": null,
      "grid_gap": null,
      "grid_row": null,
      "grid_template_areas": null,
      "grid_template_columns": null,
      "grid_template_rows": null,
      "height": null,
      "justify_content": null,
      "justify_items": null,
      "left": null,
      "margin": null,
      "max_height": null,
      "max_width": null,
      "min_height": null,
      "min_width": null,
      "object_fit": null,
      "object_position": null,
      "order": null,
      "overflow": null,
      "overflow_x": null,
      "overflow_y": null,
      "padding": null,
      "right": null,
      "top": null,
      "visibility": null,
      "width": null
     }
    },
    "0e8e2b30e0f34c4b998ad0e5caac9f8b": {
     "model_module": "@jupyter-widgets/controls",
     "model_module_version": "1.5.0",
     "model_name": "FloatProgressModel",
     "state": {
      "_dom_classes": [],
      "_model_module": "@jupyter-widgets/controls",
      "_model_module_version": "1.5.0",
      "_model_name": "FloatProgressModel",
      "_view_count": null,
      "_view_module": "@jupyter-widgets/controls",
      "_view_module_version": "1.5.0",
      "_view_name": "ProgressView",
      "bar_style": "info",
      "description": "",
      "description_tooltip": null,
      "layout": "IPY_MODEL_47d9f81a081c497bb190f7ce2d7edbd2",
      "max": 1,
      "min": 0,
      "orientation": "horizontal",
      "style": "IPY_MODEL_6018a1af9aaa4f8c9e7136f5eab4145c",
      "value": 1
     }
    },
    "0eb09a90f412434bae53a435cf2ada18": {
     "model_module": "@jupyter-widgets/base",
     "model_module_version": "1.2.0",
     "model_name": "LayoutModel",
     "state": {
      "_model_module": "@jupyter-widgets/base",
      "_model_module_version": "1.2.0",
      "_model_name": "LayoutModel",
      "_view_count": null,
      "_view_module": "@jupyter-widgets/base",
      "_view_module_version": "1.2.0",
      "_view_name": "LayoutView",
      "align_content": null,
      "align_items": null,
      "align_self": null,
      "border": null,
      "bottom": null,
      "display": null,
      "flex": null,
      "flex_flow": null,
      "grid_area": null,
      "grid_auto_columns": null,
      "grid_auto_flow": null,
      "grid_auto_rows": null,
      "grid_column": null,
      "grid_gap": null,
      "grid_row": null,
      "grid_template_areas": null,
      "grid_template_columns": null,
      "grid_template_rows": null,
      "height": null,
      "justify_content": null,
      "justify_items": null,
      "left": null,
      "margin": null,
      "max_height": null,
      "max_width": null,
      "min_height": null,
      "min_width": null,
      "object_fit": null,
      "object_position": null,
      "order": null,
      "overflow": null,
      "overflow_x": null,
      "overflow_y": null,
      "padding": null,
      "right": null,
      "top": null,
      "visibility": null,
      "width": null
     }
    },
    "0fcfa443d82f43069a8868fa777c9d68": {
     "model_module": "@jupyter-widgets/controls",
     "model_module_version": "1.5.0",
     "model_name": "ProgressStyleModel",
     "state": {
      "_model_module": "@jupyter-widgets/controls",
      "_model_module_version": "1.5.0",
      "_model_name": "ProgressStyleModel",
      "_view_count": null,
      "_view_module": "@jupyter-widgets/base",
      "_view_module_version": "1.2.0",
      "_view_name": "StyleView",
      "bar_color": null,
      "description_width": ""
     }
    },
    "115ca8cac4ae4507952bde08280b87bb": {
     "model_module": "@jupyter-widgets/controls",
     "model_module_version": "1.5.0",
     "model_name": "HTMLModel",
     "state": {
      "_dom_classes": [],
      "_model_module": "@jupyter-widgets/controls",
      "_model_module_version": "1.5.0",
      "_model_name": "HTMLModel",
      "_view_count": null,
      "_view_module": "@jupyter-widgets/controls",
      "_view_module_version": "1.5.0",
      "_view_name": "HTMLView",
      "description": "",
      "description_tooltip": null,
      "layout": "IPY_MODEL_8eff6d0cd1994cd7add0eba00a19b96a",
      "placeholder": "​",
      "style": "IPY_MODEL_01478ed12a3046b8aceb4c21ffea576b",
      "value": "Downloading: 100%"
     }
    },
    "11edbfd582954ebf917773407d407761": {
     "model_module": "@jupyter-widgets/base",
     "model_module_version": "1.2.0",
     "model_name": "LayoutModel",
     "state": {
      "_model_module": "@jupyter-widgets/base",
      "_model_module_version": "1.2.0",
      "_model_name": "LayoutModel",
      "_view_count": null,
      "_view_module": "@jupyter-widgets/base",
      "_view_module_version": "1.2.0",
      "_view_name": "LayoutView",
      "align_content": null,
      "align_items": null,
      "align_self": null,
      "border": null,
      "bottom": null,
      "display": null,
      "flex": null,
      "flex_flow": null,
      "grid_area": null,
      "grid_auto_columns": null,
      "grid_auto_flow": null,
      "grid_auto_rows": null,
      "grid_column": null,
      "grid_gap": null,
      "grid_row": null,
      "grid_template_areas": null,
      "grid_template_columns": null,
      "grid_template_rows": null,
      "height": null,
      "justify_content": null,
      "justify_items": null,
      "left": null,
      "margin": null,
      "max_height": null,
      "max_width": null,
      "min_height": null,
      "min_width": null,
      "object_fit": null,
      "object_position": null,
      "order": null,
      "overflow": null,
      "overflow_x": null,
      "overflow_y": null,
      "padding": null,
      "right": null,
      "top": null,
      "visibility": null,
      "width": null
     }
    },
    "13b345a8fd21497bbe6b05ea9129a866": {
     "model_module": "@jupyter-widgets/base",
     "model_module_version": "1.2.0",
     "model_name": "LayoutModel",
     "state": {
      "_model_module": "@jupyter-widgets/base",
      "_model_module_version": "1.2.0",
      "_model_name": "LayoutModel",
      "_view_count": null,
      "_view_module": "@jupyter-widgets/base",
      "_view_module_version": "1.2.0",
      "_view_name": "LayoutView",
      "align_content": null,
      "align_items": null,
      "align_self": null,
      "border": null,
      "bottom": null,
      "display": null,
      "flex": null,
      "flex_flow": null,
      "grid_area": null,
      "grid_auto_columns": null,
      "grid_auto_flow": null,
      "grid_auto_rows": null,
      "grid_column": null,
      "grid_gap": null,
      "grid_row": null,
      "grid_template_areas": null,
      "grid_template_columns": null,
      "grid_template_rows": null,
      "height": null,
      "justify_content": null,
      "justify_items": null,
      "left": null,
      "margin": null,
      "max_height": null,
      "max_width": null,
      "min_height": null,
      "min_width": null,
      "object_fit": null,
      "object_position": null,
      "order": null,
      "overflow": null,
      "overflow_x": null,
      "overflow_y": null,
      "padding": null,
      "right": null,
      "top": null,
      "visibility": null,
      "width": null
     }
    },
    "13ca2373ead540bca4a9c65866c40caf": {
     "model_module": "@jupyter-widgets/controls",
     "model_module_version": "1.5.0",
     "model_name": "ProgressStyleModel",
     "state": {
      "_model_module": "@jupyter-widgets/controls",
      "_model_module_version": "1.5.0",
      "_model_name": "ProgressStyleModel",
      "_view_count": null,
      "_view_module": "@jupyter-widgets/base",
      "_view_module_version": "1.2.0",
      "_view_name": "StyleView",
      "bar_color": null,
      "description_width": ""
     }
    },
    "152e195b9fc444f890784dfad7e031ad": {
     "model_module": "@jupyter-widgets/controls",
     "model_module_version": "1.5.0",
     "model_name": "HTMLModel",
     "state": {
      "_dom_classes": [],
      "_model_module": "@jupyter-widgets/controls",
      "_model_module_version": "1.5.0",
      "_model_name": "HTMLModel",
      "_view_count": null,
      "_view_module": "@jupyter-widgets/controls",
      "_view_module_version": "1.5.0",
      "_view_name": "HTMLView",
      "description": "",
      "description_tooltip": null,
      "layout": "IPY_MODEL_98cf04b2c3c74c9bbb53d7724db164c5",
      "placeholder": "​",
      "style": "IPY_MODEL_b6d7e1ee711246689ad210eab59955dd",
      "value": ""
     }
    },
    "16b2f41aedef47c294c4b4a0cd4c5299": {
     "model_module": "@jupyter-widgets/base",
     "model_module_version": "1.2.0",
     "model_name": "LayoutModel",
     "state": {
      "_model_module": "@jupyter-widgets/base",
      "_model_module_version": "1.2.0",
      "_model_name": "LayoutModel",
      "_view_count": null,
      "_view_module": "@jupyter-widgets/base",
      "_view_module_version": "1.2.0",
      "_view_name": "LayoutView",
      "align_content": null,
      "align_items": null,
      "align_self": null,
      "border": null,
      "bottom": null,
      "display": null,
      "flex": null,
      "flex_flow": null,
      "grid_area": null,
      "grid_auto_columns": null,
      "grid_auto_flow": null,
      "grid_auto_rows": null,
      "grid_column": null,
      "grid_gap": null,
      "grid_row": null,
      "grid_template_areas": null,
      "grid_template_columns": null,
      "grid_template_rows": null,
      "height": null,
      "justify_content": null,
      "justify_items": null,
      "left": null,
      "margin": null,
      "max_height": null,
      "max_width": null,
      "min_height": null,
      "min_width": null,
      "object_fit": null,
      "object_position": null,
      "order": null,
      "overflow": null,
      "overflow_x": null,
      "overflow_y": null,
      "padding": null,
      "right": null,
      "top": null,
      "visibility": null,
      "width": null
     }
    },
    "189a945811ee4066a639c97a1ad0e1a0": {
     "model_module": "@jupyter-widgets/controls",
     "model_module_version": "1.5.0",
     "model_name": "ProgressStyleModel",
     "state": {
      "_model_module": "@jupyter-widgets/controls",
      "_model_module_version": "1.5.0",
      "_model_name": "ProgressStyleModel",
      "_view_count": null,
      "_view_module": "@jupyter-widgets/base",
      "_view_module_version": "1.2.0",
      "_view_name": "StyleView",
      "bar_color": null,
      "description_width": ""
     }
    },
    "18cdb3b7996e4fa496d7730ee651866e": {
     "model_module": "@jupyter-widgets/controls",
     "model_module_version": "1.5.0",
     "model_name": "FloatProgressModel",
     "state": {
      "_dom_classes": [],
      "_model_module": "@jupyter-widgets/controls",
      "_model_module_version": "1.5.0",
      "_model_name": "FloatProgressModel",
      "_view_count": null,
      "_view_module": "@jupyter-widgets/controls",
      "_view_module_version": "1.5.0",
      "_view_name": "ProgressView",
      "bar_style": "success",
      "description": "",
      "description_tooltip": null,
      "layout": "IPY_MODEL_c540f5ff38454abb946ef1879a09efc0",
      "max": 1568,
      "min": 0,
      "orientation": "horizontal",
      "style": "IPY_MODEL_d9676175afcc4be889cb4e4bdc1ae3d8",
      "value": 1568
     }
    },
    "1a3779a09cdb49b1a448aad1b782e0cd": {
     "model_module": "@jupyter-widgets/controls",
     "model_module_version": "1.5.0",
     "model_name": "DescriptionStyleModel",
     "state": {
      "_model_module": "@jupyter-widgets/controls",
      "_model_module_version": "1.5.0",
      "_model_name": "DescriptionStyleModel",
      "_view_count": null,
      "_view_module": "@jupyter-widgets/base",
      "_view_module_version": "1.2.0",
      "_view_name": "StyleView",
      "description_width": ""
     }
    },
    "1aedfb75caf044309fb23e7d5295fdfe": {
     "model_module": "@jupyter-widgets/controls",
     "model_module_version": "1.5.0",
     "model_name": "DescriptionStyleModel",
     "state": {
      "_model_module": "@jupyter-widgets/controls",
      "_model_module_version": "1.5.0",
      "_model_name": "DescriptionStyleModel",
      "_view_count": null,
      "_view_module": "@jupyter-widgets/base",
      "_view_module_version": "1.2.0",
      "_view_name": "StyleView",
      "description_width": ""
     }
    },
    "1b132af387e84ed9a9c2e822976646ca": {
     "model_module": "@jupyter-widgets/controls",
     "model_module_version": "1.5.0",
     "model_name": "DescriptionStyleModel",
     "state": {
      "_model_module": "@jupyter-widgets/controls",
      "_model_module_version": "1.5.0",
      "_model_name": "DescriptionStyleModel",
      "_view_count": null,
      "_view_module": "@jupyter-widgets/base",
      "_view_module_version": "1.2.0",
      "_view_name": "StyleView",
      "description_width": ""
     }
    },
    "1dca44977362490597f5d7172e87eec5": {
     "model_module": "@jupyter-widgets/controls",
     "model_module_version": "1.5.0",
     "model_name": "ProgressStyleModel",
     "state": {
      "_model_module": "@jupyter-widgets/controls",
      "_model_module_version": "1.5.0",
      "_model_name": "ProgressStyleModel",
      "_view_count": null,
      "_view_module": "@jupyter-widgets/base",
      "_view_module_version": "1.2.0",
      "_view_name": "StyleView",
      "bar_color": null,
      "description_width": ""
     }
    },
    "20b3fd9cd2d247e2b45513b249b1ab76": {
     "model_module": "@jupyter-widgets/controls",
     "model_module_version": "1.5.0",
     "model_name": "ProgressStyleModel",
     "state": {
      "_model_module": "@jupyter-widgets/controls",
      "_model_module_version": "1.5.0",
      "_model_name": "ProgressStyleModel",
      "_view_count": null,
      "_view_module": "@jupyter-widgets/base",
      "_view_module_version": "1.2.0",
      "_view_name": "StyleView",
      "bar_color": null,
      "description_width": ""
     }
    },
    "21df6340377c41778ca3430c905dbbc2": {
     "model_module": "@jupyter-widgets/base",
     "model_module_version": "1.2.0",
     "model_name": "LayoutModel",
     "state": {
      "_model_module": "@jupyter-widgets/base",
      "_model_module_version": "1.2.0",
      "_model_name": "LayoutModel",
      "_view_count": null,
      "_view_module": "@jupyter-widgets/base",
      "_view_module_version": "1.2.0",
      "_view_name": "LayoutView",
      "align_content": null,
      "align_items": null,
      "align_self": null,
      "border": null,
      "bottom": null,
      "display": null,
      "flex": null,
      "flex_flow": null,
      "grid_area": null,
      "grid_auto_columns": null,
      "grid_auto_flow": null,
      "grid_auto_rows": null,
      "grid_column": null,
      "grid_gap": null,
      "grid_row": null,
      "grid_template_areas": null,
      "grid_template_columns": null,
      "grid_template_rows": null,
      "height": null,
      "justify_content": null,
      "justify_items": null,
      "left": null,
      "margin": null,
      "max_height": null,
      "max_width": null,
      "min_height": null,
      "min_width": null,
      "object_fit": null,
      "object_position": null,
      "order": null,
      "overflow": null,
      "overflow_x": null,
      "overflow_y": null,
      "padding": null,
      "right": null,
      "top": null,
      "visibility": null,
      "width": null
     }
    },
    "2208d40aae5d438193def42fe87231d4": {
     "model_module": "@jupyter-widgets/base",
     "model_module_version": "1.2.0",
     "model_name": "LayoutModel",
     "state": {
      "_model_module": "@jupyter-widgets/base",
      "_model_module_version": "1.2.0",
      "_model_name": "LayoutModel",
      "_view_count": null,
      "_view_module": "@jupyter-widgets/base",
      "_view_module_version": "1.2.0",
      "_view_name": "LayoutView",
      "align_content": null,
      "align_items": null,
      "align_self": null,
      "border": null,
      "bottom": null,
      "display": null,
      "flex": null,
      "flex_flow": null,
      "grid_area": null,
      "grid_auto_columns": null,
      "grid_auto_flow": null,
      "grid_auto_rows": null,
      "grid_column": null,
      "grid_gap": null,
      "grid_row": null,
      "grid_template_areas": null,
      "grid_template_columns": null,
      "grid_template_rows": null,
      "height": null,
      "justify_content": null,
      "justify_items": null,
      "left": null,
      "margin": null,
      "max_height": null,
      "max_width": null,
      "min_height": null,
      "min_width": null,
      "object_fit": null,
      "object_position": null,
      "order": null,
      "overflow": null,
      "overflow_x": null,
      "overflow_y": null,
      "padding": null,
      "right": null,
      "top": null,
      "visibility": null,
      "width": null
     }
    },
    "23139c5e26f042be9fb47fff343f00c6": {
     "model_module": "@jupyter-widgets/controls",
     "model_module_version": "1.5.0",
     "model_name": "HTMLModel",
     "state": {
      "_dom_classes": [],
      "_model_module": "@jupyter-widgets/controls",
      "_model_module_version": "1.5.0",
      "_model_name": "HTMLModel",
      "_view_count": null,
      "_view_module": "@jupyter-widgets/controls",
      "_view_module_version": "1.5.0",
      "_view_name": "HTMLView",
      "description": "",
      "description_tooltip": null,
      "layout": "IPY_MODEL_a270405804554935ab4b1e14411fd4da",
      "placeholder": "​",
      "style": "IPY_MODEL_84637685599d42f7acfb052e1e27a502",
      "value": " 1647/1647 [00:21&lt;00:00, 85.65ex/s]"
     }
    },
    "23abd714a89d433ca22227d6de4ed59f": {
     "model_module": "@jupyter-widgets/controls",
     "model_module_version": "1.5.0",
     "model_name": "DescriptionStyleModel",
     "state": {
      "_model_module": "@jupyter-widgets/controls",
      "_model_module_version": "1.5.0",
      "_model_name": "DescriptionStyleModel",
      "_view_count": null,
      "_view_module": "@jupyter-widgets/base",
      "_view_module_version": "1.2.0",
      "_view_name": "StyleView",
      "description_width": ""
     }
    },
    "25b412c111284dadac3030a33daa061d": {
     "model_module": "@jupyter-widgets/controls",
     "model_module_version": "1.5.0",
     "model_name": "DescriptionStyleModel",
     "state": {
      "_model_module": "@jupyter-widgets/controls",
      "_model_module_version": "1.5.0",
      "_model_name": "DescriptionStyleModel",
      "_view_count": null,
      "_view_module": "@jupyter-widgets/base",
      "_view_module_version": "1.2.0",
      "_view_name": "StyleView",
      "description_width": ""
     }
    },
    "25f0e7344e4248d7b5bcd8eed9b38590": {
     "model_module": "@jupyter-widgets/base",
     "model_module_version": "1.2.0",
     "model_name": "LayoutModel",
     "state": {
      "_model_module": "@jupyter-widgets/base",
      "_model_module_version": "1.2.0",
      "_model_name": "LayoutModel",
      "_view_count": null,
      "_view_module": "@jupyter-widgets/base",
      "_view_module_version": "1.2.0",
      "_view_name": "LayoutView",
      "align_content": null,
      "align_items": null,
      "align_self": null,
      "border": null,
      "bottom": null,
      "display": null,
      "flex": null,
      "flex_flow": null,
      "grid_area": null,
      "grid_auto_columns": null,
      "grid_auto_flow": null,
      "grid_auto_rows": null,
      "grid_column": null,
      "grid_gap": null,
      "grid_row": null,
      "grid_template_areas": null,
      "grid_template_columns": null,
      "grid_template_rows": null,
      "height": null,
      "justify_content": null,
      "justify_items": null,
      "left": null,
      "margin": null,
      "max_height": null,
      "max_width": null,
      "min_height": null,
      "min_width": null,
      "object_fit": null,
      "object_position": null,
      "order": null,
      "overflow": null,
      "overflow_x": null,
      "overflow_y": null,
      "padding": null,
      "right": null,
      "top": null,
      "visibility": null,
      "width": null
     }
    },
    "26518ed55eb844749b0878dc4ba5ceef": {
     "model_module": "@jupyter-widgets/base",
     "model_module_version": "1.2.0",
     "model_name": "LayoutModel",
     "state": {
      "_model_module": "@jupyter-widgets/base",
      "_model_module_version": "1.2.0",
      "_model_name": "LayoutModel",
      "_view_count": null,
      "_view_module": "@jupyter-widgets/base",
      "_view_module_version": "1.2.0",
      "_view_name": "LayoutView",
      "align_content": null,
      "align_items": null,
      "align_self": null,
      "border": null,
      "bottom": null,
      "display": null,
      "flex": null,
      "flex_flow": null,
      "grid_area": null,
      "grid_auto_columns": null,
      "grid_auto_flow": null,
      "grid_auto_rows": null,
      "grid_column": null,
      "grid_gap": null,
      "grid_row": null,
      "grid_template_areas": null,
      "grid_template_columns": null,
      "grid_template_rows": null,
      "height": null,
      "justify_content": null,
      "justify_items": null,
      "left": null,
      "margin": null,
      "max_height": null,
      "max_width": null,
      "min_height": null,
      "min_width": null,
      "object_fit": null,
      "object_position": null,
      "order": null,
      "overflow": null,
      "overflow_x": null,
      "overflow_y": null,
      "padding": null,
      "right": null,
      "top": null,
      "visibility": null,
      "width": null
     }
    },
    "2710c068456f4c58bc4c9924e3e265b2": {
     "model_module": "@jupyter-widgets/controls",
     "model_module_version": "1.5.0",
     "model_name": "HBoxModel",
     "state": {
      "_dom_classes": [],
      "_model_module": "@jupyter-widgets/controls",
      "_model_module_version": "1.5.0",
      "_model_name": "HBoxModel",
      "_view_count": null,
      "_view_module": "@jupyter-widgets/controls",
      "_view_module_version": "1.5.0",
      "_view_name": "HBoxView",
      "box_style": "",
      "children": [
       "IPY_MODEL_aa2600dffb084b8290cb4414d1e50f5c",
       "IPY_MODEL_674e232e13f64a7fa7596157a3e3307c",
       "IPY_MODEL_3d6604e6fe0543ffb9ff2a8a0d1d87c3"
      ],
      "layout": "IPY_MODEL_13b345a8fd21497bbe6b05ea9129a866"
     }
    },
    "27aaed02e9a24a8b95c5f9d5b31b3283": {
     "model_module": "@jupyter-widgets/controls",
     "model_module_version": "1.5.0",
     "model_name": "HTMLModel",
     "state": {
      "_dom_classes": [],
      "_model_module": "@jupyter-widgets/controls",
      "_model_module_version": "1.5.0",
      "_model_name": "HTMLModel",
      "_view_count": null,
      "_view_module": "@jupyter-widgets/controls",
      "_view_module_version": "1.5.0",
      "_view_name": "HTMLView",
      "description": "",
      "description_tooltip": null,
      "layout": "IPY_MODEL_fb856bb1d925424ca2e46ebcb3fe4515",
      "placeholder": "​",
      "style": "IPY_MODEL_2f25f244299c4dc8ad7c6768f9379241",
      "value": " 3478/3478 [00:40&lt;00:00, 86.67ex/s]"
     }
    },
    "28f658e3df0b44a58c05249311b6b80a": {
     "model_module": "@jupyter-widgets/controls",
     "model_module_version": "1.5.0",
     "model_name": "DescriptionStyleModel",
     "state": {
      "_model_module": "@jupyter-widgets/controls",
      "_model_module_version": "1.5.0",
      "_model_name": "DescriptionStyleModel",
      "_view_count": null,
      "_view_module": "@jupyter-widgets/base",
      "_view_module_version": "1.2.0",
      "_view_name": "StyleView",
      "description_width": ""
     }
    },
    "2aa706b41ba648ccbe3869e35b5b0d48": {
     "model_module": "@jupyter-widgets/controls",
     "model_module_version": "1.5.0",
     "model_name": "DescriptionStyleModel",
     "state": {
      "_model_module": "@jupyter-widgets/controls",
      "_model_module_version": "1.5.0",
      "_model_name": "DescriptionStyleModel",
      "_view_count": null,
      "_view_module": "@jupyter-widgets/base",
      "_view_module_version": "1.2.0",
      "_view_name": "StyleView",
      "description_width": ""
     }
    },
    "2acff7822c834a40bebe6e8b99eb0830": {
     "model_module": "@jupyter-widgets/base",
     "model_module_version": "1.2.0",
     "model_name": "LayoutModel",
     "state": {
      "_model_module": "@jupyter-widgets/base",
      "_model_module_version": "1.2.0",
      "_model_name": "LayoutModel",
      "_view_count": null,
      "_view_module": "@jupyter-widgets/base",
      "_view_module_version": "1.2.0",
      "_view_name": "LayoutView",
      "align_content": null,
      "align_items": null,
      "align_self": null,
      "border": null,
      "bottom": null,
      "display": null,
      "flex": null,
      "flex_flow": null,
      "grid_area": null,
      "grid_auto_columns": null,
      "grid_auto_flow": null,
      "grid_auto_rows": null,
      "grid_column": null,
      "grid_gap": null,
      "grid_row": null,
      "grid_template_areas": null,
      "grid_template_columns": null,
      "grid_template_rows": null,
      "height": null,
      "justify_content": null,
      "justify_items": null,
      "left": null,
      "margin": null,
      "max_height": null,
      "max_width": null,
      "min_height": null,
      "min_width": null,
      "object_fit": null,
      "object_position": null,
      "order": null,
      "overflow": null,
      "overflow_x": null,
      "overflow_y": null,
      "padding": null,
      "right": null,
      "top": null,
      "visibility": null,
      "width": null
     }
    },
    "2adbe51852c64a3aaab734bd2b170b34": {
     "model_module": "@jupyter-widgets/base",
     "model_module_version": "1.2.0",
     "model_name": "LayoutModel",
     "state": {
      "_model_module": "@jupyter-widgets/base",
      "_model_module_version": "1.2.0",
      "_model_name": "LayoutModel",
      "_view_count": null,
      "_view_module": "@jupyter-widgets/base",
      "_view_module_version": "1.2.0",
      "_view_name": "LayoutView",
      "align_content": null,
      "align_items": null,
      "align_self": null,
      "border": null,
      "bottom": null,
      "display": null,
      "flex": null,
      "flex_flow": null,
      "grid_area": null,
      "grid_auto_columns": null,
      "grid_auto_flow": null,
      "grid_auto_rows": null,
      "grid_column": null,
      "grid_gap": null,
      "grid_row": null,
      "grid_template_areas": null,
      "grid_template_columns": null,
      "grid_template_rows": null,
      "height": null,
      "justify_content": null,
      "justify_items": null,
      "left": null,
      "margin": null,
      "max_height": null,
      "max_width": null,
      "min_height": null,
      "min_width": null,
      "object_fit": null,
      "object_position": null,
      "order": null,
      "overflow": null,
      "overflow_x": null,
      "overflow_y": null,
      "padding": null,
      "right": null,
      "top": null,
      "visibility": null,
      "width": null
     }
    },
    "2c945b22b08047bba041bf4cbe221c1e": {
     "model_module": "@jupyter-widgets/base",
     "model_module_version": "1.2.0",
     "model_name": "LayoutModel",
     "state": {
      "_model_module": "@jupyter-widgets/base",
      "_model_module_version": "1.2.0",
      "_model_name": "LayoutModel",
      "_view_count": null,
      "_view_module": "@jupyter-widgets/base",
      "_view_module_version": "1.2.0",
      "_view_name": "LayoutView",
      "align_content": null,
      "align_items": null,
      "align_self": null,
      "border": null,
      "bottom": null,
      "display": null,
      "flex": null,
      "flex_flow": null,
      "grid_area": null,
      "grid_auto_columns": null,
      "grid_auto_flow": null,
      "grid_auto_rows": null,
      "grid_column": null,
      "grid_gap": null,
      "grid_row": null,
      "grid_template_areas": null,
      "grid_template_columns": null,
      "grid_template_rows": null,
      "height": null,
      "justify_content": null,
      "justify_items": null,
      "left": null,
      "margin": null,
      "max_height": null,
      "max_width": null,
      "min_height": null,
      "min_width": null,
      "object_fit": null,
      "object_position": null,
      "order": null,
      "overflow": null,
      "overflow_x": null,
      "overflow_y": null,
      "padding": null,
      "right": null,
      "top": null,
      "visibility": null,
      "width": null
     }
    },
    "2ca753c2ae5e4d58b6a973c04033ab54": {
     "model_module": "@jupyter-widgets/controls",
     "model_module_version": "1.5.0",
     "model_name": "FloatProgressModel",
     "state": {
      "_dom_classes": [],
      "_model_module": "@jupyter-widgets/controls",
      "_model_module_version": "1.5.0",
      "_model_name": "FloatProgressModel",
      "_view_count": null,
      "_view_module": "@jupyter-widgets/controls",
      "_view_module_version": "1.5.0",
      "_view_name": "ProgressView",
      "bar_style": "success",
      "description": "",
      "description_tooltip": null,
      "layout": "IPY_MODEL_16b2f41aedef47c294c4b4a0cd4c5299",
      "max": 10151,
      "min": 0,
      "orientation": "horizontal",
      "style": "IPY_MODEL_d283f07ab9e64c6eb75ea86d1a88285d",
      "value": 10151
     }
    },
    "2d867a22eb4441c3b235e5795294910b": {
     "model_module": "@jupyter-widgets/controls",
     "model_module_version": "1.5.0",
     "model_name": "HTMLModel",
     "state": {
      "_dom_classes": [],
      "_model_module": "@jupyter-widgets/controls",
      "_model_module_version": "1.5.0",
      "_model_name": "HTMLModel",
      "_view_count": null,
      "_view_module": "@jupyter-widgets/controls",
      "_view_module_version": "1.5.0",
      "_view_name": "HTMLView",
      "description": "",
      "description_tooltip": null,
      "layout": "IPY_MODEL_9ef16d6e61774f9293cab62e10e78b9e",
      "placeholder": "​",
      "style": "IPY_MODEL_3e7b70f46ef14affa9427f301f8123a4",
      "value": "<center>\n<img src=https://huggingface.co/front/assets/huggingface_logo-noborder.svg alt='Hugging Face'>\n<br>\n<b>The AI community building the future</b>\n<br>\nImmediately click login after typing your password or it might be stored in plain text in this notebook file.\n</center>"
     }
    },
    "2e1df5f9e6ca414aa3b1db1f5814883d": {
     "model_module": "@jupyter-widgets/controls",
     "model_module_version": "1.5.0",
     "model_name": "DescriptionStyleModel",
     "state": {
      "_model_module": "@jupyter-widgets/controls",
      "_model_module_version": "1.5.0",
      "_model_name": "DescriptionStyleModel",
      "_view_count": null,
      "_view_module": "@jupyter-widgets/base",
      "_view_module_version": "1.2.0",
      "_view_name": "StyleView",
      "description_width": ""
     }
    },
    "2e78540e71874f9d8974aa9737d6f855": {
     "model_module": "@jupyter-widgets/controls",
     "model_module_version": "1.5.0",
     "model_name": "HBoxModel",
     "state": {
      "_dom_classes": [],
      "_model_module": "@jupyter-widgets/controls",
      "_model_module_version": "1.5.0",
      "_model_name": "HBoxModel",
      "_view_count": null,
      "_view_module": "@jupyter-widgets/controls",
      "_view_module_version": "1.5.0",
      "_view_name": "HBoxView",
      "box_style": "",
      "children": [
       "IPY_MODEL_dc92d2150ff34cf8868be72b5161ce39",
       "IPY_MODEL_5f426b29b69d4faa98a03ce6cf1d976a",
       "IPY_MODEL_5c07db5d7f1e4292948b69ce50fa8767"
      ],
      "layout": "IPY_MODEL_55bd1ae2dff7497981d2ce84b8747df1"
     }
    },
    "2ebccf2d38b944118cd29685e7136ad9": {
     "model_module": "@jupyter-widgets/base",
     "model_module_version": "1.2.0",
     "model_name": "LayoutModel",
     "state": {
      "_model_module": "@jupyter-widgets/base",
      "_model_module_version": "1.2.0",
      "_model_name": "LayoutModel",
      "_view_count": null,
      "_view_module": "@jupyter-widgets/base",
      "_view_module_version": "1.2.0",
      "_view_name": "LayoutView",
      "align_content": null,
      "align_items": null,
      "align_self": null,
      "border": null,
      "bottom": null,
      "display": null,
      "flex": null,
      "flex_flow": null,
      "grid_area": null,
      "grid_auto_columns": null,
      "grid_auto_flow": null,
      "grid_auto_rows": null,
      "grid_column": null,
      "grid_gap": null,
      "grid_row": null,
      "grid_template_areas": null,
      "grid_template_columns": null,
      "grid_template_rows": null,
      "height": null,
      "justify_content": null,
      "justify_items": null,
      "left": null,
      "margin": null,
      "max_height": null,
      "max_width": null,
      "min_height": null,
      "min_width": null,
      "object_fit": null,
      "object_position": null,
      "order": null,
      "overflow": null,
      "overflow_x": null,
      "overflow_y": null,
      "padding": null,
      "right": null,
      "top": null,
      "visibility": null,
      "width": null
     }
    },
    "2f25f244299c4dc8ad7c6768f9379241": {
     "model_module": "@jupyter-widgets/controls",
     "model_module_version": "1.5.0",
     "model_name": "DescriptionStyleModel",
     "state": {
      "_model_module": "@jupyter-widgets/controls",
      "_model_module_version": "1.5.0",
      "_model_name": "DescriptionStyleModel",
      "_view_count": null,
      "_view_module": "@jupyter-widgets/base",
      "_view_module_version": "1.2.0",
      "_view_name": "StyleView",
      "description_width": ""
     }
    },
    "3049d293a6be4e8ca9575a5edf4ffa74": {
     "model_module": "@jupyter-widgets/controls",
     "model_module_version": "1.5.0",
     "model_name": "DescriptionStyleModel",
     "state": {
      "_model_module": "@jupyter-widgets/controls",
      "_model_module_version": "1.5.0",
      "_model_name": "DescriptionStyleModel",
      "_view_count": null,
      "_view_module": "@jupyter-widgets/base",
      "_view_module_version": "1.2.0",
      "_view_name": "StyleView",
      "description_width": ""
     }
    },
    "31f004c514484072a6e536cd56ea69fd": {
     "model_module": "@jupyter-widgets/controls",
     "model_module_version": "1.5.0",
     "model_name": "HTMLModel",
     "state": {
      "_dom_classes": [],
      "_model_module": "@jupyter-widgets/controls",
      "_model_module_version": "1.5.0",
      "_model_name": "HTMLModel",
      "_view_count": null,
      "_view_module": "@jupyter-widgets/controls",
      "_view_module_version": "1.5.0",
      "_view_name": "HTMLView",
      "description": "",
      "description_tooltip": null,
      "layout": "IPY_MODEL_3ee785b6d3cb4d9993b2e4fa38585b3d",
      "placeholder": "​",
      "style": "IPY_MODEL_2e1df5f9e6ca414aa3b1db1f5814883d",
      "value": "Downloading: "
     }
    },
    "3421c6a382d4401cb3c9104fadd37e78": {
     "model_module": "@jupyter-widgets/controls",
     "model_module_version": "1.5.0",
     "model_name": "FloatProgressModel",
     "state": {
      "_dom_classes": [],
      "_model_module": "@jupyter-widgets/controls",
      "_model_module_version": "1.5.0",
      "_model_name": "FloatProgressModel",
      "_view_count": null,
      "_view_module": "@jupyter-widgets/controls",
      "_view_module_version": "1.5.0",
      "_view_name": "ProgressView",
      "bar_style": "success",
      "description": "",
      "description_tooltip": null,
      "layout": "IPY_MODEL_ad8d2e9369c64fab92fbf4a42ae1b7f3",
      "max": 1269737156,
      "min": 0,
      "orientation": "horizontal",
      "style": "IPY_MODEL_4f137f3263044a30b9ae0e1c5adc73f1",
      "value": 1269737156
     }
    },
    "35fb92a13fcf44918d979d9fb6b99d52": {
     "model_module": "@jupyter-widgets/controls",
     "model_module_version": "1.5.0",
     "model_name": "HBoxModel",
     "state": {
      "_dom_classes": [],
      "_model_module": "@jupyter-widgets/controls",
      "_model_module_version": "1.5.0",
      "_model_name": "HBoxModel",
      "_view_count": null,
      "_view_module": "@jupyter-widgets/controls",
      "_view_module_version": "1.5.0",
      "_view_name": "HBoxView",
      "box_style": "",
      "children": [
       "IPY_MODEL_0614948db2a444ceb7a64c39b32766d5",
       "IPY_MODEL_a7921a558ee2413d840c51e41b70d0f6",
       "IPY_MODEL_efc4b787c1c14c8c9271fca9e7145445"
      ],
      "layout": "IPY_MODEL_0c93c50c05ec42d685304b60dc1771d9"
     }
    },
    "36c2a7a649324a308621a582ef5babc6": {
     "model_module": "@jupyter-widgets/controls",
     "model_module_version": "1.5.0",
     "model_name": "ProgressStyleModel",
     "state": {
      "_model_module": "@jupyter-widgets/controls",
      "_model_module_version": "1.5.0",
      "_model_name": "ProgressStyleModel",
      "_view_count": null,
      "_view_module": "@jupyter-widgets/base",
      "_view_module_version": "1.2.0",
      "_view_name": "StyleView",
      "bar_color": null,
      "description_width": ""
     }
    },
    "37c1fbcdc1ed4ae192c5f390dbd5ee07": {
     "model_module": "@jupyter-widgets/controls",
     "model_module_version": "1.5.0",
     "model_name": "DescriptionStyleModel",
     "state": {
      "_model_module": "@jupyter-widgets/controls",
      "_model_module_version": "1.5.0",
      "_model_name": "DescriptionStyleModel",
      "_view_count": null,
      "_view_module": "@jupyter-widgets/base",
      "_view_module_version": "1.2.0",
      "_view_name": "StyleView",
      "description_width": ""
     }
    },
    "381227f82d564b8c96282e7604551520": {
     "model_module": "@jupyter-widgets/base",
     "model_module_version": "1.2.0",
     "model_name": "LayoutModel",
     "state": {
      "_model_module": "@jupyter-widgets/base",
      "_model_module_version": "1.2.0",
      "_model_name": "LayoutModel",
      "_view_count": null,
      "_view_module": "@jupyter-widgets/base",
      "_view_module_version": "1.2.0",
      "_view_name": "LayoutView",
      "align_content": null,
      "align_items": null,
      "align_self": null,
      "border": null,
      "bottom": null,
      "display": null,
      "flex": null,
      "flex_flow": null,
      "grid_area": null,
      "grid_auto_columns": null,
      "grid_auto_flow": null,
      "grid_auto_rows": null,
      "grid_column": null,
      "grid_gap": null,
      "grid_row": null,
      "grid_template_areas": null,
      "grid_template_columns": null,
      "grid_template_rows": null,
      "height": null,
      "justify_content": null,
      "justify_items": null,
      "left": null,
      "margin": null,
      "max_height": null,
      "max_width": null,
      "min_height": null,
      "min_width": null,
      "object_fit": null,
      "object_position": null,
      "order": null,
      "overflow": null,
      "overflow_x": null,
      "overflow_y": null,
      "padding": null,
      "right": null,
      "top": null,
      "visibility": null,
      "width": null
     }
    },
    "38deeb43d3cb4df088469814a8f5d465": {
     "model_module": "@jupyter-widgets/controls",
     "model_module_version": "1.5.0",
     "model_name": "DescriptionStyleModel",
     "state": {
      "_model_module": "@jupyter-widgets/controls",
      "_model_module_version": "1.5.0",
      "_model_name": "DescriptionStyleModel",
      "_view_count": null,
      "_view_module": "@jupyter-widgets/base",
      "_view_module_version": "1.2.0",
      "_view_name": "StyleView",
      "description_width": ""
     }
    },
    "39a5e2f9da294c7fa7d5948b7eb0a77c": {
     "model_module": "@jupyter-widgets/controls",
     "model_module_version": "1.5.0",
     "model_name": "PasswordModel",
     "state": {
      "_dom_classes": [],
      "_model_module": "@jupyter-widgets/controls",
      "_model_module_version": "1.5.0",
      "_model_name": "PasswordModel",
      "_view_count": null,
      "_view_module": "@jupyter-widgets/controls",
      "_view_module_version": "1.5.0",
      "_view_name": "PasswordView",
      "continuous_update": true,
      "description": "Password:",
      "description_tooltip": null,
      "disabled": false,
      "layout": "IPY_MODEL_ff006623c533492691441d43b91eae51",
      "placeholder": "​",
      "style": "IPY_MODEL_0b51fb65273042c78591c8798e9ef012",
      "value": ""
     }
    },
    "39dd4009c36142a39417af0b286a9088": {
     "model_module": "@jupyter-widgets/controls",
     "model_module_version": "1.5.0",
     "model_name": "HTMLModel",
     "state": {
      "_dom_classes": [],
      "_model_module": "@jupyter-widgets/controls",
      "_model_module_version": "1.5.0",
      "_model_name": "HTMLModel",
      "_view_count": null,
      "_view_module": "@jupyter-widgets/controls",
      "_view_module_version": "1.5.0",
      "_view_name": "HTMLView",
      "description": "",
      "description_tooltip": null,
      "layout": "IPY_MODEL_2adbe51852c64a3aaab734bd2b170b34",
      "placeholder": "​",
      "style": "IPY_MODEL_54acbd3a36ca469eabd479bed8322d63",
      "value": " 4/4 [00:00&lt;00:00, 74.66ba/s]"
     }
    },
    "3b1b94d937d4417a9e4256d0cde34e1c": {
     "model_module": "@jupyter-widgets/controls",
     "model_module_version": "1.5.0",
     "model_name": "HTMLModel",
     "state": {
      "_dom_classes": [],
      "_model_module": "@jupyter-widgets/controls",
      "_model_module_version": "1.5.0",
      "_model_name": "HTMLModel",
      "_view_count": null,
      "_view_module": "@jupyter-widgets/controls",
      "_view_module_version": "1.5.0",
      "_view_name": "HTMLView",
      "description": "",
      "description_tooltip": null,
      "layout": "IPY_MODEL_0eb09a90f412434bae53a435cf2ada18",
      "placeholder": "​",
      "style": "IPY_MODEL_28f658e3df0b44a58c05249311b6b80a",
      "value": "100%"
     }
    },
    "3d6604e6fe0543ffb9ff2a8a0d1d87c3": {
     "model_module": "@jupyter-widgets/controls",
     "model_module_version": "1.5.0",
     "model_name": "HTMLModel",
     "state": {
      "_dom_classes": [],
      "_model_module": "@jupyter-widgets/controls",
      "_model_module_version": "1.5.0",
      "_model_name": "HTMLModel",
      "_view_count": null,
      "_view_module": "@jupyter-widgets/controls",
      "_view_module_version": "1.5.0",
      "_view_name": "HTMLView",
      "description": "",
      "description_tooltip": null,
      "layout": "IPY_MODEL_978e13b9ee954040a03c85ec124a8d1c",
      "placeholder": "​",
      "style": "IPY_MODEL_ae6c6c5e85bf4e25b9f0d120de051cba",
      "value": " 1423/0 [00:00&lt;00:00, 7861.61 examples/s]"
     }
    },
    "3e4e8f55d23b430eb6ac401bacd868d9": {
     "model_module": "@jupyter-widgets/controls",
     "model_module_version": "1.5.0",
     "model_name": "HTMLModel",
     "state": {
      "_dom_classes": [],
      "_model_module": "@jupyter-widgets/controls",
      "_model_module_version": "1.5.0",
      "_model_name": "HTMLModel",
      "_view_count": null,
      "_view_module": "@jupyter-widgets/controls",
      "_view_module_version": "1.5.0",
      "_view_name": "HTMLView",
      "description": "",
      "description_tooltip": null,
      "layout": "IPY_MODEL_b7ac1f52b03b466e989977ec9da82cec",
      "placeholder": "​",
      "style": "IPY_MODEL_6408250914ea44938320c2b443a635f6",
      "value": " 621M/621M [00:43&lt;00:00, 15.8MB/s]"
     }
    },
    "3e688b3e8a344f6cbb944ef741c95e83": {
     "model_module": "@jupyter-widgets/controls",
     "model_module_version": "1.5.0",
     "model_name": "VBoxModel",
     "state": {
      "_dom_classes": [],
      "_model_module": "@jupyter-widgets/controls",
      "_model_module_version": "1.5.0",
      "_model_name": "VBoxModel",
      "_view_count": null,
      "_view_module": "@jupyter-widgets/controls",
      "_view_module_version": "1.5.0",
      "_view_name": "VBoxView",
      "box_style": "",
      "children": [
       "IPY_MODEL_2d867a22eb4441c3b235e5795294910b",
       "IPY_MODEL_9a0a1825f7b14b2d8699d1ee7b28c3f9",
       "IPY_MODEL_a61ec362d6254d7c99972821779126bb"
      ],
      "layout": "IPY_MODEL_de6f408e141441a8b1ac24ab0f044c67"
     }
    },
    "3e7b70f46ef14affa9427f301f8123a4": {
     "model_module": "@jupyter-widgets/controls",
     "model_module_version": "1.5.0",
     "model_name": "DescriptionStyleModel",
     "state": {
      "_model_module": "@jupyter-widgets/controls",
      "_model_module_version": "1.5.0",
      "_model_name": "DescriptionStyleModel",
      "_view_count": null,
      "_view_module": "@jupyter-widgets/base",
      "_view_module_version": "1.2.0",
      "_view_name": "StyleView",
      "description_width": ""
     }
    },
    "3ee785b6d3cb4d9993b2e4fa38585b3d": {
     "model_module": "@jupyter-widgets/base",
     "model_module_version": "1.2.0",
     "model_name": "LayoutModel",
     "state": {
      "_model_module": "@jupyter-widgets/base",
      "_model_module_version": "1.2.0",
      "_model_name": "LayoutModel",
      "_view_count": null,
      "_view_module": "@jupyter-widgets/base",
      "_view_module_version": "1.2.0",
      "_view_name": "LayoutView",
      "align_content": null,
      "align_items": null,
      "align_self": null,
      "border": null,
      "bottom": null,
      "display": null,
      "flex": null,
      "flex_flow": null,
      "grid_area": null,
      "grid_auto_columns": null,
      "grid_auto_flow": null,
      "grid_auto_rows": null,
      "grid_column": null,
      "grid_gap": null,
      "grid_row": null,
      "grid_template_areas": null,
      "grid_template_columns": null,
      "grid_template_rows": null,
      "height": null,
      "justify_content": null,
      "justify_items": null,
      "left": null,
      "margin": null,
      "max_height": null,
      "max_width": null,
      "min_height": null,
      "min_width": null,
      "object_fit": null,
      "object_position": null,
      "order": null,
      "overflow": null,
      "overflow_x": null,
      "overflow_y": null,
      "padding": null,
      "right": null,
      "top": null,
      "visibility": null,
      "width": null
     }
    },
    "423ccfd33adb403c99261b89eb43cafb": {
     "model_module": "@jupyter-widgets/controls",
     "model_module_version": "1.5.0",
     "model_name": "DescriptionStyleModel",
     "state": {
      "_model_module": "@jupyter-widgets/controls",
      "_model_module_version": "1.5.0",
      "_model_name": "DescriptionStyleModel",
      "_view_count": null,
      "_view_module": "@jupyter-widgets/base",
      "_view_module_version": "1.2.0",
      "_view_name": "StyleView",
      "description_width": ""
     }
    },
    "427cf0e5b81a459991d66fa20da844bf": {
     "model_module": "@jupyter-widgets/controls",
     "model_module_version": "1.5.0",
     "model_name": "FloatProgressModel",
     "state": {
      "_dom_classes": [],
      "_model_module": "@jupyter-widgets/controls",
      "_model_module_version": "1.5.0",
      "_model_name": "FloatProgressModel",
      "_view_count": null,
      "_view_module": "@jupyter-widgets/controls",
      "_view_module_version": "1.5.0",
      "_view_name": "ProgressView",
      "bar_style": "success",
      "description": "",
      "description_tooltip": null,
      "layout": "IPY_MODEL_cdb5b32f87f8427dadf9d47aa79c4f69",
      "max": 1,
      "min": 0,
      "orientation": "horizontal",
      "style": "IPY_MODEL_189a945811ee4066a639c97a1ad0e1a0",
      "value": 1
     }
    },
    "42cac6fc5e8143c0b690ae98b035394b": {
     "model_module": "@jupyter-widgets/controls",
     "model_module_version": "1.5.0",
     "model_name": "HBoxModel",
     "state": {
      "_dom_classes": [],
      "_model_module": "@jupyter-widgets/controls",
      "_model_module_version": "1.5.0",
      "_model_name": "HBoxModel",
      "_view_count": null,
      "_view_module": "@jupyter-widgets/controls",
      "_view_module_version": "1.5.0",
      "_view_name": "HBoxView",
      "box_style": "",
      "children": [
       "IPY_MODEL_152e195b9fc444f890784dfad7e031ad",
       "IPY_MODEL_7edebd0d60b84459a542354614902616",
       "IPY_MODEL_8b44d0e96ea94b3d933b2ebdc8628954"
      ],
      "layout": "IPY_MODEL_62e72459c9194b068983d0e234695e1b"
     }
    },
    "43e82786d121430bbf56c616a21a0015": {
     "model_module": "@jupyter-widgets/controls",
     "model_module_version": "1.5.0",
     "model_name": "HTMLModel",
     "state": {
      "_dom_classes": [],
      "_model_module": "@jupyter-widgets/controls",
      "_model_module_version": "1.5.0",
      "_model_name": "HTMLModel",
      "_view_count": null,
      "_view_module": "@jupyter-widgets/controls",
      "_view_module_version": "1.5.0",
      "_view_name": "HTMLView",
      "description": "",
      "description_tooltip": null,
      "layout": "IPY_MODEL_8927e9c273c24a5495579c35ab51c653",
      "placeholder": "​",
      "style": "IPY_MODEL_a8c449700b2c4f9293f55f33ddbdfb53",
      "value": " 1647/1647 [00:00&lt;00:00, 5674.22ex/s]"
     }
    },
    "450ec5a9ec1642ac836219b60d6faa0e": {
     "model_module": "@jupyter-widgets/controls",
     "model_module_version": "1.5.0",
     "model_name": "HBoxModel",
     "state": {
      "_dom_classes": [],
      "_model_module": "@jupyter-widgets/controls",
      "_model_module_version": "1.5.0",
      "_model_name": "HBoxModel",
      "_view_count": null,
      "_view_module": "@jupyter-widgets/controls",
      "_view_module_version": "1.5.0",
      "_view_name": "HBoxView",
      "box_style": "",
      "children": [
       "IPY_MODEL_70abed9bc4cc40f790886d11fc44b949",
       "IPY_MODEL_f0deb25d77994209956cdca5841cbbca",
       "IPY_MODEL_27aaed02e9a24a8b95c5f9d5b31b3283"
      ],
      "layout": "IPY_MODEL_d164217ca0554788871a56dc1507d533"
     }
    },
    "4518dc2b61674962a0e59d99f71a7ec2": {
     "model_module": "@jupyter-widgets/controls",
     "model_module_version": "1.5.0",
     "model_name": "FloatProgressModel",
     "state": {
      "_dom_classes": [],
      "_model_module": "@jupyter-widgets/controls",
      "_model_module_version": "1.5.0",
      "_model_name": "FloatProgressModel",
      "_view_count": null,
      "_view_module": "@jupyter-widgets/controls",
      "_view_module_version": "1.5.0",
      "_view_name": "ProgressView",
      "bar_style": "info",
      "description": "",
      "description_tooltip": null,
      "layout": "IPY_MODEL_ca295aa3717d4e05a32c9610f42c78e5",
      "max": 1,
      "min": 0,
      "orientation": "horizontal",
      "style": "IPY_MODEL_7ddaf8d04e5e4a708683b2df96e08485",
      "value": 1
     }
    },
    "453f6c4ffd8c410ba00c02e24889e513": {
     "model_module": "@jupyter-widgets/base",
     "model_module_version": "1.2.0",
     "model_name": "LayoutModel",
     "state": {
      "_model_module": "@jupyter-widgets/base",
      "_model_module_version": "1.2.0",
      "_model_name": "LayoutModel",
      "_view_count": null,
      "_view_module": "@jupyter-widgets/base",
      "_view_module_version": "1.2.0",
      "_view_name": "LayoutView",
      "align_content": null,
      "align_items": null,
      "align_self": null,
      "border": null,
      "bottom": null,
      "display": null,
      "flex": null,
      "flex_flow": null,
      "grid_area": null,
      "grid_auto_columns": null,
      "grid_auto_flow": null,
      "grid_auto_rows": null,
      "grid_column": null,
      "grid_gap": null,
      "grid_row": null,
      "grid_template_areas": null,
      "grid_template_columns": null,
      "grid_template_rows": null,
      "height": null,
      "justify_content": null,
      "justify_items": null,
      "left": null,
      "margin": null,
      "max_height": null,
      "max_width": null,
      "min_height": null,
      "min_width": null,
      "object_fit": null,
      "object_position": null,
      "order": null,
      "overflow": null,
      "overflow_x": null,
      "overflow_y": null,
      "padding": null,
      "right": null,
      "top": null,
      "visibility": null,
      "width": null
     }
    },
    "46280dbecf3a467d9bdd703f8cb38a8e": {
     "model_module": "@jupyter-widgets/controls",
     "model_module_version": "1.5.0",
     "model_name": "HBoxModel",
     "state": {
      "_dom_classes": [],
      "_model_module": "@jupyter-widgets/controls",
      "_model_module_version": "1.5.0",
      "_model_name": "HBoxModel",
      "_view_count": null,
      "_view_module": "@jupyter-widgets/controls",
      "_view_module_version": "1.5.0",
      "_view_name": "HBoxView",
      "box_style": "",
      "children": [
       "IPY_MODEL_b5eb923b90aa40589c40ea03706884a1",
       "IPY_MODEL_50d746f8212140359e1c997586520c28",
       "IPY_MODEL_68fc52ac0e444bd3b2e0cb1460a7a301"
      ],
      "layout": "IPY_MODEL_a3610b6dbb7f4dff933d12b135fe5f7d"
     }
    },
    "466f8c97cfeb4c729f132ea39cad25b2": {
     "model_module": "@jupyter-widgets/base",
     "model_module_version": "1.2.0",
     "model_name": "LayoutModel",
     "state": {
      "_model_module": "@jupyter-widgets/base",
      "_model_module_version": "1.2.0",
      "_model_name": "LayoutModel",
      "_view_count": null,
      "_view_module": "@jupyter-widgets/base",
      "_view_module_version": "1.2.0",
      "_view_name": "LayoutView",
      "align_content": null,
      "align_items": null,
      "align_self": null,
      "border": null,
      "bottom": null,
      "display": null,
      "flex": null,
      "flex_flow": null,
      "grid_area": null,
      "grid_auto_columns": null,
      "grid_auto_flow": null,
      "grid_auto_rows": null,
      "grid_column": null,
      "grid_gap": null,
      "grid_row": null,
      "grid_template_areas": null,
      "grid_template_columns": null,
      "grid_template_rows": null,
      "height": null,
      "justify_content": null,
      "justify_items": null,
      "left": null,
      "margin": null,
      "max_height": null,
      "max_width": null,
      "min_height": null,
      "min_width": null,
      "object_fit": null,
      "object_position": null,
      "order": null,
      "overflow": null,
      "overflow_x": null,
      "overflow_y": null,
      "padding": null,
      "right": null,
      "top": null,
      "visibility": null,
      "width": null
     }
    },
    "47d9f81a081c497bb190f7ce2d7edbd2": {
     "model_module": "@jupyter-widgets/base",
     "model_module_version": "1.2.0",
     "model_name": "LayoutModel",
     "state": {
      "_model_module": "@jupyter-widgets/base",
      "_model_module_version": "1.2.0",
      "_model_name": "LayoutModel",
      "_view_count": null,
      "_view_module": "@jupyter-widgets/base",
      "_view_module_version": "1.2.0",
      "_view_name": "LayoutView",
      "align_content": null,
      "align_items": null,
      "align_self": null,
      "border": null,
      "bottom": null,
      "display": null,
      "flex": null,
      "flex_flow": null,
      "grid_area": null,
      "grid_auto_columns": null,
      "grid_auto_flow": null,
      "grid_auto_rows": null,
      "grid_column": null,
      "grid_gap": null,
      "grid_row": null,
      "grid_template_areas": null,
      "grid_template_columns": null,
      "grid_template_rows": null,
      "height": null,
      "justify_content": null,
      "justify_items": null,
      "left": null,
      "margin": null,
      "max_height": null,
      "max_width": null,
      "min_height": null,
      "min_width": null,
      "object_fit": null,
      "object_position": null,
      "order": null,
      "overflow": null,
      "overflow_x": null,
      "overflow_y": null,
      "padding": null,
      "right": null,
      "top": null,
      "visibility": null,
      "width": "20px"
     }
    },
    "47e395f773e04b08bdcb2e2cc7f4d4d3": {
     "model_module": "@jupyter-widgets/controls",
     "model_module_version": "1.5.0",
     "model_name": "DescriptionStyleModel",
     "state": {
      "_model_module": "@jupyter-widgets/controls",
      "_model_module_version": "1.5.0",
      "_model_name": "DescriptionStyleModel",
      "_view_count": null,
      "_view_module": "@jupyter-widgets/base",
      "_view_module_version": "1.2.0",
      "_view_name": "StyleView",
      "description_width": ""
     }
    },
    "493cd4a4fedc4ed9927b0e58111fe027": {
     "model_module": "@jupyter-widgets/controls",
     "model_module_version": "1.5.0",
     "model_name": "DescriptionStyleModel",
     "state": {
      "_model_module": "@jupyter-widgets/controls",
      "_model_module_version": "1.5.0",
      "_model_name": "DescriptionStyleModel",
      "_view_count": null,
      "_view_module": "@jupyter-widgets/base",
      "_view_module_version": "1.2.0",
      "_view_name": "StyleView",
      "description_width": ""
     }
    },
    "499e2d25e5df4e3a9f1271ec70243097": {
     "model_module": "@jupyter-widgets/controls",
     "model_module_version": "1.5.0",
     "model_name": "HTMLModel",
     "state": {
      "_dom_classes": [],
      "_model_module": "@jupyter-widgets/controls",
      "_model_module_version": "1.5.0",
      "_model_name": "HTMLModel",
      "_view_count": null,
      "_view_module": "@jupyter-widgets/controls",
      "_view_module_version": "1.5.0",
      "_view_name": "HTMLView",
      "description": "",
      "description_tooltip": null,
      "layout": "IPY_MODEL_a4d71ab69f1d45f489e2af6609cda1ea",
      "placeholder": "​",
      "style": "IPY_MODEL_423ccfd33adb403c99261b89eb43cafb",
      "value": " 1284/0 [00:00&lt;00:00, 7178.45 examples/s]"
     }
    },
    "4b81a11fe6584f86a5869c50e99189e3": {
     "model_module": "@jupyter-widgets/controls",
     "model_module_version": "1.5.0",
     "model_name": "HBoxModel",
     "state": {
      "_dom_classes": [],
      "_model_module": "@jupyter-widgets/controls",
      "_model_module_version": "1.5.0",
      "_model_name": "HBoxModel",
      "_view_count": null,
      "_view_module": "@jupyter-widgets/controls",
      "_view_module_version": "1.5.0",
      "_view_name": "HBoxView",
      "box_style": "",
      "children": [
       "IPY_MODEL_3b1b94d937d4417a9e4256d0cde34e1c",
       "IPY_MODEL_ca08a45ec3fd4c288a570c27fec01ccd",
       "IPY_MODEL_39dd4009c36142a39417af0b286a9088"
      ],
      "layout": "IPY_MODEL_74b1c9a1e99c4258bdab57a6be1e1d2c"
     }
    },
    "4bb4751496354eb3a886ee835f78e236": {
     "model_module": "@jupyter-widgets/controls",
     "model_module_version": "1.5.0",
     "model_name": "HTMLModel",
     "state": {
      "_dom_classes": [],
      "_model_module": "@jupyter-widgets/controls",
      "_model_module_version": "1.5.0",
      "_model_name": "HTMLModel",
      "_view_count": null,
      "_view_module": "@jupyter-widgets/controls",
      "_view_module_version": "1.5.0",
      "_view_name": "HTMLView",
      "description": "",
      "description_tooltip": null,
      "layout": "IPY_MODEL_f1985d593a5d4e828615b2de008e5b10",
      "placeholder": "​",
      "style": "IPY_MODEL_bd0f54413c4b46c9a55dc198c52600b1",
      "value": "Downloading: 100%"
     }
    },
    "4bd93970a21b437daa4a7f57c85c5727": {
     "model_module": "@jupyter-widgets/controls",
     "model_module_version": "1.5.0",
     "model_name": "HTMLModel",
     "state": {
      "_dom_classes": [],
      "_model_module": "@jupyter-widgets/controls",
      "_model_module_version": "1.5.0",
      "_model_name": "HTMLModel",
      "_view_count": null,
      "_view_module": "@jupyter-widgets/controls",
      "_view_module_version": "1.5.0",
      "_view_name": "HTMLView",
      "description": "",
      "description_tooltip": null,
      "layout": "IPY_MODEL_cde64a08d3924c78aae246f83a991ccf",
      "placeholder": "​",
      "style": "IPY_MODEL_1a3779a09cdb49b1a448aad1b782e0cd",
      "value": "100%"
     }
    },
    "4d5048c0d0d942b29a80fa9f9d6ccb99": {
     "model_module": "@jupyter-widgets/controls",
     "model_module_version": "1.5.0",
     "model_name": "HBoxModel",
     "state": {
      "_dom_classes": [],
      "_model_module": "@jupyter-widgets/controls",
      "_model_module_version": "1.5.0",
      "_model_name": "HBoxModel",
      "_view_count": null,
      "_view_module": "@jupyter-widgets/controls",
      "_view_module_version": "1.5.0",
      "_view_name": "HBoxView",
      "box_style": "",
      "children": [
       "IPY_MODEL_9a2111c0ec204f55b1e2ffc548b3caa3",
       "IPY_MODEL_e66a6dcc8f7c44558d19c8be1483a5a0",
       "IPY_MODEL_7f6b71b2e91a459bb2e3f1c403b596a3"
      ],
      "layout": "IPY_MODEL_5c647701de364b05ad0397a01d6611d3"
     }
    },
    "4f137f3263044a30b9ae0e1c5adc73f1": {
     "model_module": "@jupyter-widgets/controls",
     "model_module_version": "1.5.0",
     "model_name": "ProgressStyleModel",
     "state": {
      "_model_module": "@jupyter-widgets/controls",
      "_model_module_version": "1.5.0",
      "_model_name": "ProgressStyleModel",
      "_view_count": null,
      "_view_module": "@jupyter-widgets/base",
      "_view_module_version": "1.2.0",
      "_view_name": "StyleView",
      "bar_color": null,
      "description_width": ""
     }
    },
    "4f3e42bbe82246fe897c0309d20ee620": {
     "model_module": "@jupyter-widgets/base",
     "model_module_version": "1.2.0",
     "model_name": "LayoutModel",
     "state": {
      "_model_module": "@jupyter-widgets/base",
      "_model_module_version": "1.2.0",
      "_model_name": "LayoutModel",
      "_view_count": null,
      "_view_module": "@jupyter-widgets/base",
      "_view_module_version": "1.2.0",
      "_view_name": "LayoutView",
      "align_content": null,
      "align_items": null,
      "align_self": null,
      "border": null,
      "bottom": null,
      "display": null,
      "flex": null,
      "flex_flow": null,
      "grid_area": null,
      "grid_auto_columns": null,
      "grid_auto_flow": null,
      "grid_auto_rows": null,
      "grid_column": null,
      "grid_gap": null,
      "grid_row": null,
      "grid_template_areas": null,
      "grid_template_columns": null,
      "grid_template_rows": null,
      "height": null,
      "justify_content": null,
      "justify_items": null,
      "left": null,
      "margin": null,
      "max_height": null,
      "max_width": null,
      "min_height": null,
      "min_width": null,
      "object_fit": null,
      "object_position": null,
      "order": null,
      "overflow": null,
      "overflow_x": null,
      "overflow_y": null,
      "padding": null,
      "right": null,
      "top": null,
      "visibility": null,
      "width": "20px"
     }
    },
    "50452d42bb7c460e92643f0045aecf6e": {
     "model_module": "@jupyter-widgets/controls",
     "model_module_version": "1.5.0",
     "model_name": "ProgressStyleModel",
     "state": {
      "_model_module": "@jupyter-widgets/controls",
      "_model_module_version": "1.5.0",
      "_model_name": "ProgressStyleModel",
      "_view_count": null,
      "_view_module": "@jupyter-widgets/base",
      "_view_module_version": "1.2.0",
      "_view_name": "StyleView",
      "bar_color": null,
      "description_width": ""
     }
    },
    "50a3a591e84f4b3ea1fd7f4c52ea3c4f": {
     "model_module": "@jupyter-widgets/base",
     "model_module_version": "1.2.0",
     "model_name": "LayoutModel",
     "state": {
      "_model_module": "@jupyter-widgets/base",
      "_model_module_version": "1.2.0",
      "_model_name": "LayoutModel",
      "_view_count": null,
      "_view_module": "@jupyter-widgets/base",
      "_view_module_version": "1.2.0",
      "_view_name": "LayoutView",
      "align_content": null,
      "align_items": null,
      "align_self": null,
      "border": null,
      "bottom": null,
      "display": null,
      "flex": null,
      "flex_flow": null,
      "grid_area": null,
      "grid_auto_columns": null,
      "grid_auto_flow": null,
      "grid_auto_rows": null,
      "grid_column": null,
      "grid_gap": null,
      "grid_row": null,
      "grid_template_areas": null,
      "grid_template_columns": null,
      "grid_template_rows": null,
      "height": null,
      "justify_content": null,
      "justify_items": null,
      "left": null,
      "margin": null,
      "max_height": null,
      "max_width": null,
      "min_height": null,
      "min_width": null,
      "object_fit": null,
      "object_position": null,
      "order": null,
      "overflow": null,
      "overflow_x": null,
      "overflow_y": null,
      "padding": null,
      "right": null,
      "top": null,
      "visibility": null,
      "width": null
     }
    },
    "50d746f8212140359e1c997586520c28": {
     "model_module": "@jupyter-widgets/controls",
     "model_module_version": "1.5.0",
     "model_name": "FloatProgressModel",
     "state": {
      "_dom_classes": [],
      "_model_module": "@jupyter-widgets/controls",
      "_model_module_version": "1.5.0",
      "_model_name": "FloatProgressModel",
      "_view_count": null,
      "_view_module": "@jupyter-widgets/controls",
      "_view_module_version": "1.5.0",
      "_view_name": "ProgressView",
      "bar_style": "success",
      "description": "",
      "description_tooltip": null,
      "layout": "IPY_MODEL_cb2948a221cf4451a40f48c35524e463",
      "max": 3478,
      "min": 0,
      "orientation": "horizontal",
      "style": "IPY_MODEL_ccf733114f814e2bb2a131be50088256",
      "value": 3478
     }
    },
    "5230d221e600472f9a0f10f473ab7281": {
     "model_module": "@jupyter-widgets/controls",
     "model_module_version": "1.5.0",
     "model_name": "HTMLModel",
     "state": {
      "_dom_classes": [],
      "_model_module": "@jupyter-widgets/controls",
      "_model_module_version": "1.5.0",
      "_model_name": "HTMLModel",
      "_view_count": null,
      "_view_module": "@jupyter-widgets/controls",
      "_view_module_version": "1.5.0",
      "_view_name": "HTMLView",
      "description": "",
      "description_tooltip": null,
      "layout": "IPY_MODEL_26518ed55eb844749b0878dc4ba5ceef",
      "placeholder": "​",
      "style": "IPY_MODEL_cc9e383a0522479e879ef193fd0f6be9",
      "value": " 1647/1647 [00:00&lt;00:00, 5263.45ex/s]"
     }
    },
    "529c35cb376d4073b76ee5b44458216f": {
     "model_module": "@jupyter-widgets/controls",
     "model_module_version": "1.5.0",
     "model_name": "DescriptionStyleModel",
     "state": {
      "_model_module": "@jupyter-widgets/controls",
      "_model_module_version": "1.5.0",
      "_model_name": "DescriptionStyleModel",
      "_view_count": null,
      "_view_module": "@jupyter-widgets/base",
      "_view_module_version": "1.2.0",
      "_view_name": "StyleView",
      "description_width": ""
     }
    },
    "5316b04eb6454f0c97f4a2ad6914aae4": {
     "model_module": "@jupyter-widgets/controls",
     "model_module_version": "1.5.0",
     "model_name": "HTMLModel",
     "state": {
      "_dom_classes": [],
      "_model_module": "@jupyter-widgets/controls",
      "_model_module_version": "1.5.0",
      "_model_name": "HTMLModel",
      "_view_count": null,
      "_view_module": "@jupyter-widgets/controls",
      "_view_module_version": "1.5.0",
      "_view_name": "HTMLView",
      "description": "",
      "description_tooltip": null,
      "layout": "IPY_MODEL_d9e69dc9962c4519a7ac0cbc7928769b",
      "placeholder": "​",
      "style": "IPY_MODEL_38deeb43d3cb4df088469814a8f5d465",
      "value": ""
     }
    },
    "53ddefeab32744cf83455f17422f0975": {
     "model_module": "@jupyter-widgets/controls",
     "model_module_version": "1.5.0",
     "model_name": "DescriptionStyleModel",
     "state": {
      "_model_module": "@jupyter-widgets/controls",
      "_model_module_version": "1.5.0",
      "_model_name": "DescriptionStyleModel",
      "_view_count": null,
      "_view_module": "@jupyter-widgets/base",
      "_view_module_version": "1.2.0",
      "_view_name": "StyleView",
      "description_width": ""
     }
    },
    "544eebac204648b589d11e2c2e6ea2f6": {
     "model_module": "@jupyter-widgets/controls",
     "model_module_version": "1.5.0",
     "model_name": "HTMLModel",
     "state": {
      "_dom_classes": [],
      "_model_module": "@jupyter-widgets/controls",
      "_model_module_version": "1.5.0",
      "_model_name": "HTMLModel",
      "_view_count": null,
      "_view_module": "@jupyter-widgets/controls",
      "_view_module_version": "1.5.0",
      "_view_name": "HTMLView",
      "description": "",
      "description_tooltip": null,
      "layout": "IPY_MODEL_7a1a92b8ce77494986c31db4403392fa",
      "placeholder": "​",
      "style": "IPY_MODEL_493cd4a4fedc4ed9927b0e58111fe027",
      "value": ""
     }
    },
    "54acbd3a36ca469eabd479bed8322d63": {
     "model_module": "@jupyter-widgets/controls",
     "model_module_version": "1.5.0",
     "model_name": "DescriptionStyleModel",
     "state": {
      "_model_module": "@jupyter-widgets/controls",
      "_model_module_version": "1.5.0",
      "_model_name": "DescriptionStyleModel",
      "_view_count": null,
      "_view_module": "@jupyter-widgets/base",
      "_view_module_version": "1.2.0",
      "_view_name": "StyleView",
      "description_width": ""
     }
    },
    "55888091ab6d49e1b965f3a9dace684b": {
     "model_module": "@jupyter-widgets/base",
     "model_module_version": "1.2.0",
     "model_name": "LayoutModel",
     "state": {
      "_model_module": "@jupyter-widgets/base",
      "_model_module_version": "1.2.0",
      "_model_name": "LayoutModel",
      "_view_count": null,
      "_view_module": "@jupyter-widgets/base",
      "_view_module_version": "1.2.0",
      "_view_name": "LayoutView",
      "align_content": null,
      "align_items": null,
      "align_self": null,
      "border": null,
      "bottom": null,
      "display": null,
      "flex": null,
      "flex_flow": null,
      "grid_area": null,
      "grid_auto_columns": null,
      "grid_auto_flow": null,
      "grid_auto_rows": null,
      "grid_column": null,
      "grid_gap": null,
      "grid_row": null,
      "grid_template_areas": null,
      "grid_template_columns": null,
      "grid_template_rows": null,
      "height": null,
      "justify_content": null,
      "justify_items": null,
      "left": null,
      "margin": null,
      "max_height": null,
      "max_width": null,
      "min_height": null,
      "min_width": null,
      "object_fit": null,
      "object_position": null,
      "order": null,
      "overflow": null,
      "overflow_x": null,
      "overflow_y": null,
      "padding": null,
      "right": null,
      "top": null,
      "visibility": null,
      "width": null
     }
    },
    "55bd1ae2dff7497981d2ce84b8747df1": {
     "model_module": "@jupyter-widgets/base",
     "model_module_version": "1.2.0",
     "model_name": "LayoutModel",
     "state": {
      "_model_module": "@jupyter-widgets/base",
      "_model_module_version": "1.2.0",
      "_model_name": "LayoutModel",
      "_view_count": null,
      "_view_module": "@jupyter-widgets/base",
      "_view_module_version": "1.2.0",
      "_view_name": "LayoutView",
      "align_content": null,
      "align_items": null,
      "align_self": null,
      "border": null,
      "bottom": null,
      "display": null,
      "flex": null,
      "flex_flow": null,
      "grid_area": null,
      "grid_auto_columns": null,
      "grid_auto_flow": null,
      "grid_auto_rows": null,
      "grid_column": null,
      "grid_gap": null,
      "grid_row": null,
      "grid_template_areas": null,
      "grid_template_columns": null,
      "grid_template_rows": null,
      "height": null,
      "justify_content": null,
      "justify_items": null,
      "left": null,
      "margin": null,
      "max_height": null,
      "max_width": null,
      "min_height": null,
      "min_width": null,
      "object_fit": null,
      "object_position": null,
      "order": null,
      "overflow": null,
      "overflow_x": null,
      "overflow_y": null,
      "padding": null,
      "right": null,
      "top": null,
      "visibility": null,
      "width": null
     }
    },
    "56eca0e68bfe4d61af2b38d7b5d743f8": {
     "model_module": "@jupyter-widgets/base",
     "model_module_version": "1.2.0",
     "model_name": "LayoutModel",
     "state": {
      "_model_module": "@jupyter-widgets/base",
      "_model_module_version": "1.2.0",
      "_model_name": "LayoutModel",
      "_view_count": null,
      "_view_module": "@jupyter-widgets/base",
      "_view_module_version": "1.2.0",
      "_view_name": "LayoutView",
      "align_content": null,
      "align_items": null,
      "align_self": null,
      "border": null,
      "bottom": null,
      "display": null,
      "flex": null,
      "flex_flow": null,
      "grid_area": null,
      "grid_auto_columns": null,
      "grid_auto_flow": null,
      "grid_auto_rows": null,
      "grid_column": null,
      "grid_gap": null,
      "grid_row": null,
      "grid_template_areas": null,
      "grid_template_columns": null,
      "grid_template_rows": null,
      "height": null,
      "justify_content": null,
      "justify_items": null,
      "left": null,
      "margin": null,
      "max_height": null,
      "max_width": null,
      "min_height": null,
      "min_width": null,
      "object_fit": null,
      "object_position": null,
      "order": null,
      "overflow": null,
      "overflow_x": null,
      "overflow_y": null,
      "padding": null,
      "right": null,
      "top": null,
      "visibility": null,
      "width": null
     }
    },
    "57f5395740d8448d89f499969e34d4ed": {
     "model_module": "@jupyter-widgets/controls",
     "model_module_version": "1.5.0",
     "model_name": "TextModel",
     "state": {
      "_dom_classes": [],
      "_model_module": "@jupyter-widgets/controls",
      "_model_module_version": "1.5.0",
      "_model_name": "TextModel",
      "_view_count": null,
      "_view_module": "@jupyter-widgets/controls",
      "_view_module_version": "1.5.0",
      "_view_name": "TextView",
      "continuous_update": true,
      "description": "Username:",
      "description_tooltip": null,
      "disabled": false,
      "layout": "IPY_MODEL_2ebccf2d38b944118cd29685e7136ad9",
      "placeholder": "​",
      "style": "IPY_MODEL_3049d293a6be4e8ca9575a5edf4ffa74",
      "value": "infinitejoy"
     }
    },
    "5922f1b92a2946adb3edc0d27074344f": {
     "model_module": "@jupyter-widgets/controls",
     "model_module_version": "1.5.0",
     "model_name": "HBoxModel",
     "state": {
      "_dom_classes": [],
      "_model_module": "@jupyter-widgets/controls",
      "_model_module_version": "1.5.0",
      "_model_name": "HBoxModel",
      "_view_count": null,
      "_view_module": "@jupyter-widgets/controls",
      "_view_module_version": "1.5.0",
      "_view_name": "HBoxView",
      "box_style": "",
      "children": [
       "IPY_MODEL_4bb4751496354eb3a886ee835f78e236",
       "IPY_MODEL_18cdb3b7996e4fa496d7730ee651866e",
       "IPY_MODEL_62844d4666e6402abc148d12c2505038"
      ],
      "layout": "IPY_MODEL_6e8f1b0b2b4a4c20aadf13f9897f1b1d"
     }
    },
    "5c07db5d7f1e4292948b69ce50fa8767": {
     "model_module": "@jupyter-widgets/controls",
     "model_module_version": "1.5.0",
     "model_name": "HTMLModel",
     "state": {
      "_dom_classes": [],
      "_model_module": "@jupyter-widgets/controls",
      "_model_module_version": "1.5.0",
      "_model_name": "HTMLModel",
      "_view_count": null,
      "_view_module": "@jupyter-widgets/controls",
      "_view_module_version": "1.5.0",
      "_view_name": "HTMLView",
      "description": "",
      "description_tooltip": null,
      "layout": "IPY_MODEL_f495666b4f3d4a81a3aa1ba5683dba6c",
      "placeholder": "​",
      "style": "IPY_MODEL_da8caad82f0b42c58df182462334467c",
      "value": " 1378/0 [00:00&lt;00:00, 7549.57 examples/s]"
     }
    },
    "5c647701de364b05ad0397a01d6611d3": {
     "model_module": "@jupyter-widgets/base",
     "model_module_version": "1.2.0",
     "model_name": "LayoutModel",
     "state": {
      "_model_module": "@jupyter-widgets/base",
      "_model_module_version": "1.2.0",
      "_model_name": "LayoutModel",
      "_view_count": null,
      "_view_module": "@jupyter-widgets/base",
      "_view_module_version": "1.2.0",
      "_view_name": "LayoutView",
      "align_content": null,
      "align_items": null,
      "align_self": null,
      "border": null,
      "bottom": null,
      "display": null,
      "flex": null,
      "flex_flow": null,
      "grid_area": null,
      "grid_auto_columns": null,
      "grid_auto_flow": null,
      "grid_auto_rows": null,
      "grid_column": null,
      "grid_gap": null,
      "grid_row": null,
      "grid_template_areas": null,
      "grid_template_columns": null,
      "grid_template_rows": null,
      "height": null,
      "justify_content": null,
      "justify_items": null,
      "left": null,
      "margin": null,
      "max_height": null,
      "max_width": null,
      "min_height": null,
      "min_width": null,
      "object_fit": null,
      "object_position": null,
      "order": null,
      "overflow": null,
      "overflow_x": null,
      "overflow_y": null,
      "padding": null,
      "right": null,
      "top": null,
      "visibility": null,
      "width": null
     }
    },
    "5f426b29b69d4faa98a03ce6cf1d976a": {
     "model_module": "@jupyter-widgets/controls",
     "model_module_version": "1.5.0",
     "model_name": "FloatProgressModel",
     "state": {
      "_dom_classes": [],
      "_model_module": "@jupyter-widgets/controls",
      "_model_module_version": "1.5.0",
      "_model_name": "FloatProgressModel",
      "_view_count": null,
      "_view_module": "@jupyter-widgets/controls",
      "_view_module_version": "1.5.0",
      "_view_name": "ProgressView",
      "bar_style": "info",
      "description": "",
      "description_tooltip": null,
      "layout": "IPY_MODEL_7c0765ffb8964e23842d7f81c8a1026b",
      "max": 1,
      "min": 0,
      "orientation": "horizontal",
      "style": "IPY_MODEL_f18986a72cc44208b8d182dcf069742d",
      "value": 1
     }
    },
    "5faac7eafb6b46d3b3a67b2436f009d0": {
     "model_module": "@jupyter-widgets/base",
     "model_module_version": "1.2.0",
     "model_name": "LayoutModel",
     "state": {
      "_model_module": "@jupyter-widgets/base",
      "_model_module_version": "1.2.0",
      "_model_name": "LayoutModel",
      "_view_count": null,
      "_view_module": "@jupyter-widgets/base",
      "_view_module_version": "1.2.0",
      "_view_name": "LayoutView",
      "align_content": null,
      "align_items": null,
      "align_self": null,
      "border": null,
      "bottom": null,
      "display": null,
      "flex": null,
      "flex_flow": null,
      "grid_area": null,
      "grid_auto_columns": null,
      "grid_auto_flow": null,
      "grid_auto_rows": null,
      "grid_column": null,
      "grid_gap": null,
      "grid_row": null,
      "grid_template_areas": null,
      "grid_template_columns": null,
      "grid_template_rows": null,
      "height": null,
      "justify_content": null,
      "justify_items": null,
      "left": null,
      "margin": null,
      "max_height": null,
      "max_width": null,
      "min_height": null,
      "min_width": null,
      "object_fit": null,
      "object_position": null,
      "order": null,
      "overflow": null,
      "overflow_x": null,
      "overflow_y": null,
      "padding": null,
      "right": null,
      "top": null,
      "visibility": null,
      "width": null
     }
    },
    "6018a1af9aaa4f8c9e7136f5eab4145c": {
     "model_module": "@jupyter-widgets/controls",
     "model_module_version": "1.5.0",
     "model_name": "ProgressStyleModel",
     "state": {
      "_model_module": "@jupyter-widgets/controls",
      "_model_module_version": "1.5.0",
      "_model_name": "ProgressStyleModel",
      "_view_count": null,
      "_view_module": "@jupyter-widgets/base",
      "_view_module_version": "1.2.0",
      "_view_name": "StyleView",
      "bar_color": null,
      "description_width": ""
     }
    },
    "62844d4666e6402abc148d12c2505038": {
     "model_module": "@jupyter-widgets/controls",
     "model_module_version": "1.5.0",
     "model_name": "HTMLModel",
     "state": {
      "_dom_classes": [],
      "_model_module": "@jupyter-widgets/controls",
      "_model_module_version": "1.5.0",
      "_model_name": "HTMLModel",
      "_view_count": null,
      "_view_module": "@jupyter-widgets/controls",
      "_view_module_version": "1.5.0",
      "_view_name": "HTMLView",
      "description": "",
      "description_tooltip": null,
      "layout": "IPY_MODEL_b442918645ee4ec097fbf60f13b680cc",
      "placeholder": "​",
      "style": "IPY_MODEL_66bd790626264ae9a64ed7b18c848f7f",
      "value": " 1.53k/1.53k [00:00&lt;00:00, 38.7kB/s]"
     }
    },
    "62e72459c9194b068983d0e234695e1b": {
     "model_module": "@jupyter-widgets/base",
     "model_module_version": "1.2.0",
     "model_name": "LayoutModel",
     "state": {
      "_model_module": "@jupyter-widgets/base",
      "_model_module_version": "1.2.0",
      "_model_name": "LayoutModel",
      "_view_count": null,
      "_view_module": "@jupyter-widgets/base",
      "_view_module_version": "1.2.0",
      "_view_name": "LayoutView",
      "align_content": null,
      "align_items": null,
      "align_self": null,
      "border": null,
      "bottom": null,
      "display": null,
      "flex": null,
      "flex_flow": null,
      "grid_area": null,
      "grid_auto_columns": null,
      "grid_auto_flow": null,
      "grid_auto_rows": null,
      "grid_column": null,
      "grid_gap": null,
      "grid_row": null,
      "grid_template_areas": null,
      "grid_template_columns": null,
      "grid_template_rows": null,
      "height": null,
      "justify_content": null,
      "justify_items": null,
      "left": null,
      "margin": null,
      "max_height": null,
      "max_width": null,
      "min_height": null,
      "min_width": null,
      "object_fit": null,
      "object_position": null,
      "order": null,
      "overflow": null,
      "overflow_x": null,
      "overflow_y": null,
      "padding": null,
      "right": null,
      "top": null,
      "visibility": null,
      "width": null
     }
    },
    "6408250914ea44938320c2b443a635f6": {
     "model_module": "@jupyter-widgets/controls",
     "model_module_version": "1.5.0",
     "model_name": "DescriptionStyleModel",
     "state": {
      "_model_module": "@jupyter-widgets/controls",
      "_model_module_version": "1.5.0",
      "_model_name": "DescriptionStyleModel",
      "_view_count": null,
      "_view_module": "@jupyter-widgets/base",
      "_view_module_version": "1.2.0",
      "_view_name": "StyleView",
      "description_width": ""
     }
    },
    "64815d1c48ad4ed3b4042189379b9eaa": {
     "model_module": "@jupyter-widgets/base",
     "model_module_version": "1.2.0",
     "model_name": "LayoutModel",
     "state": {
      "_model_module": "@jupyter-widgets/base",
      "_model_module_version": "1.2.0",
      "_model_name": "LayoutModel",
      "_view_count": null,
      "_view_module": "@jupyter-widgets/base",
      "_view_module_version": "1.2.0",
      "_view_name": "LayoutView",
      "align_content": null,
      "align_items": null,
      "align_self": null,
      "border": null,
      "bottom": null,
      "display": null,
      "flex": null,
      "flex_flow": null,
      "grid_area": null,
      "grid_auto_columns": null,
      "grid_auto_flow": null,
      "grid_auto_rows": null,
      "grid_column": null,
      "grid_gap": null,
      "grid_row": null,
      "grid_template_areas": null,
      "grid_template_columns": null,
      "grid_template_rows": null,
      "height": null,
      "justify_content": null,
      "justify_items": null,
      "left": null,
      "margin": null,
      "max_height": null,
      "max_width": null,
      "min_height": null,
      "min_width": null,
      "object_fit": null,
      "object_position": null,
      "order": null,
      "overflow": null,
      "overflow_x": null,
      "overflow_y": null,
      "padding": null,
      "right": null,
      "top": null,
      "visibility": null,
      "width": null
     }
    },
    "65d511c8a83c42748ec9bb82d002f17a": {
     "model_module": "@jupyter-widgets/controls",
     "model_module_version": "1.5.0",
     "model_name": "DescriptionStyleModel",
     "state": {
      "_model_module": "@jupyter-widgets/controls",
      "_model_module_version": "1.5.0",
      "_model_name": "DescriptionStyleModel",
      "_view_count": null,
      "_view_module": "@jupyter-widgets/base",
      "_view_module_version": "1.2.0",
      "_view_name": "StyleView",
      "description_width": ""
     }
    },
    "66bd790626264ae9a64ed7b18c848f7f": {
     "model_module": "@jupyter-widgets/controls",
     "model_module_version": "1.5.0",
     "model_name": "DescriptionStyleModel",
     "state": {
      "_model_module": "@jupyter-widgets/controls",
      "_model_module_version": "1.5.0",
      "_model_name": "DescriptionStyleModel",
      "_view_count": null,
      "_view_module": "@jupyter-widgets/base",
      "_view_module_version": "1.2.0",
      "_view_name": "StyleView",
      "description_width": ""
     }
    },
    "674e232e13f64a7fa7596157a3e3307c": {
     "model_module": "@jupyter-widgets/controls",
     "model_module_version": "1.5.0",
     "model_name": "FloatProgressModel",
     "state": {
      "_dom_classes": [],
      "_model_module": "@jupyter-widgets/controls",
      "_model_module_version": "1.5.0",
      "_model_name": "FloatProgressModel",
      "_view_count": null,
      "_view_module": "@jupyter-widgets/controls",
      "_view_module_version": "1.5.0",
      "_view_name": "ProgressView",
      "bar_style": "info",
      "description": "",
      "description_tooltip": null,
      "layout": "IPY_MODEL_4f3e42bbe82246fe897c0309d20ee620",
      "max": 1,
      "min": 0,
      "orientation": "horizontal",
      "style": "IPY_MODEL_50452d42bb7c460e92643f0045aecf6e",
      "value": 1
     }
    },
    "68fc52ac0e444bd3b2e0cb1460a7a301": {
     "model_module": "@jupyter-widgets/controls",
     "model_module_version": "1.5.0",
     "model_name": "HTMLModel",
     "state": {
      "_dom_classes": [],
      "_model_module": "@jupyter-widgets/controls",
      "_model_module_version": "1.5.0",
      "_model_name": "HTMLModel",
      "_view_count": null,
      "_view_module": "@jupyter-widgets/controls",
      "_view_module_version": "1.5.0",
      "_view_name": "HTMLView",
      "description": "",
      "description_tooltip": null,
      "layout": "IPY_MODEL_cf4fda78e5174589b8de6253dfb12082",
      "placeholder": "​",
      "style": "IPY_MODEL_1b132af387e84ed9a9c2e822976646ca",
      "value": " 3478/3478 [00:00&lt;00:00, 5490.03ex/s]"
     }
    },
    "69ba458376f046fd943e9d994bb758b8": {
     "model_module": "@jupyter-widgets/controls",
     "model_module_version": "1.5.0",
     "model_name": "HBoxModel",
     "state": {
      "_dom_classes": [],
      "_model_module": "@jupyter-widgets/controls",
      "_model_module_version": "1.5.0",
      "_model_name": "HBoxModel",
      "_view_count": null,
      "_view_module": "@jupyter-widgets/controls",
      "_view_module_version": "1.5.0",
      "_view_name": "HBoxView",
      "box_style": "",
      "children": [
       "IPY_MODEL_4bd93970a21b437daa4a7f57c85c5727",
       "IPY_MODEL_427cf0e5b81a459991d66fa20da844bf",
       "IPY_MODEL_c985e18fc9ba4dc3b46bd042a3221316"
      ],
      "layout": "IPY_MODEL_64815d1c48ad4ed3b4042189379b9eaa"
     }
    },
    "6e7ded46ec5f48d0a0f8fc3993b95029": {
     "model_module": "@jupyter-widgets/base",
     "model_module_version": "1.2.0",
     "model_name": "LayoutModel",
     "state": {
      "_model_module": "@jupyter-widgets/base",
      "_model_module_version": "1.2.0",
      "_model_name": "LayoutModel",
      "_view_count": null,
      "_view_module": "@jupyter-widgets/base",
      "_view_module_version": "1.2.0",
      "_view_name": "LayoutView",
      "align_content": null,
      "align_items": null,
      "align_self": null,
      "border": null,
      "bottom": null,
      "display": null,
      "flex": null,
      "flex_flow": null,
      "grid_area": null,
      "grid_auto_columns": null,
      "grid_auto_flow": null,
      "grid_auto_rows": null,
      "grid_column": null,
      "grid_gap": null,
      "grid_row": null,
      "grid_template_areas": null,
      "grid_template_columns": null,
      "grid_template_rows": null,
      "height": null,
      "justify_content": null,
      "justify_items": null,
      "left": null,
      "margin": null,
      "max_height": null,
      "max_width": null,
      "min_height": null,
      "min_width": null,
      "object_fit": null,
      "object_position": null,
      "order": null,
      "overflow": null,
      "overflow_x": null,
      "overflow_y": null,
      "padding": null,
      "right": null,
      "top": null,
      "visibility": null,
      "width": null
     }
    },
    "6e8f1b0b2b4a4c20aadf13f9897f1b1d": {
     "model_module": "@jupyter-widgets/base",
     "model_module_version": "1.2.0",
     "model_name": "LayoutModel",
     "state": {
      "_model_module": "@jupyter-widgets/base",
      "_model_module_version": "1.2.0",
      "_model_name": "LayoutModel",
      "_view_count": null,
      "_view_module": "@jupyter-widgets/base",
      "_view_module_version": "1.2.0",
      "_view_name": "LayoutView",
      "align_content": null,
      "align_items": null,
      "align_self": null,
      "border": null,
      "bottom": null,
      "display": null,
      "flex": null,
      "flex_flow": null,
      "grid_area": null,
      "grid_auto_columns": null,
      "grid_auto_flow": null,
      "grid_auto_rows": null,
      "grid_column": null,
      "grid_gap": null,
      "grid_row": null,
      "grid_template_areas": null,
      "grid_template_columns": null,
      "grid_template_rows": null,
      "height": null,
      "justify_content": null,
      "justify_items": null,
      "left": null,
      "margin": null,
      "max_height": null,
      "max_width": null,
      "min_height": null,
      "min_width": null,
      "object_fit": null,
      "object_position": null,
      "order": null,
      "overflow": null,
      "overflow_x": null,
      "overflow_y": null,
      "padding": null,
      "right": null,
      "top": null,
      "visibility": null,
      "width": null
     }
    },
    "70abed9bc4cc40f790886d11fc44b949": {
     "model_module": "@jupyter-widgets/controls",
     "model_module_version": "1.5.0",
     "model_name": "HTMLModel",
     "state": {
      "_dom_classes": [],
      "_model_module": "@jupyter-widgets/controls",
      "_model_module_version": "1.5.0",
      "_model_name": "HTMLModel",
      "_view_count": null,
      "_view_module": "@jupyter-widgets/controls",
      "_view_module_version": "1.5.0",
      "_view_name": "HTMLView",
      "description": "",
      "description_tooltip": null,
      "layout": "IPY_MODEL_863504bb906e4613bde0c4229aac4d55",
      "placeholder": "​",
      "style": "IPY_MODEL_37c1fbcdc1ed4ae192c5f390dbd5ee07",
      "value": "100%"
     }
    },
    "723f8611930546719c115d22b9633155": {
     "model_module": "@jupyter-widgets/controls",
     "model_module_version": "1.5.0",
     "model_name": "ProgressStyleModel",
     "state": {
      "_model_module": "@jupyter-widgets/controls",
      "_model_module_version": "1.5.0",
      "_model_name": "ProgressStyleModel",
      "_view_count": null,
      "_view_module": "@jupyter-widgets/base",
      "_view_module_version": "1.2.0",
      "_view_name": "StyleView",
      "bar_color": null,
      "description_width": ""
     }
    },
    "74b1c9a1e99c4258bdab57a6be1e1d2c": {
     "model_module": "@jupyter-widgets/base",
     "model_module_version": "1.2.0",
     "model_name": "LayoutModel",
     "state": {
      "_model_module": "@jupyter-widgets/base",
      "_model_module_version": "1.2.0",
      "_model_name": "LayoutModel",
      "_view_count": null,
      "_view_module": "@jupyter-widgets/base",
      "_view_module_version": "1.2.0",
      "_view_name": "LayoutView",
      "align_content": null,
      "align_items": null,
      "align_self": null,
      "border": null,
      "bottom": null,
      "display": null,
      "flex": null,
      "flex_flow": null,
      "grid_area": null,
      "grid_auto_columns": null,
      "grid_auto_flow": null,
      "grid_auto_rows": null,
      "grid_column": null,
      "grid_gap": null,
      "grid_row": null,
      "grid_template_areas": null,
      "grid_template_columns": null,
      "grid_template_rows": null,
      "height": null,
      "justify_content": null,
      "justify_items": null,
      "left": null,
      "margin": null,
      "max_height": null,
      "max_width": null,
      "min_height": null,
      "min_width": null,
      "object_fit": null,
      "object_position": null,
      "order": null,
      "overflow": null,
      "overflow_x": null,
      "overflow_y": null,
      "padding": null,
      "right": null,
      "top": null,
      "visibility": null,
      "width": null
     }
    },
    "752b9a685bf6480ab238b58be90ca9c7": {
     "model_module": "@jupyter-widgets/base",
     "model_module_version": "1.2.0",
     "model_name": "LayoutModel",
     "state": {
      "_model_module": "@jupyter-widgets/base",
      "_model_module_version": "1.2.0",
      "_model_name": "LayoutModel",
      "_view_count": null,
      "_view_module": "@jupyter-widgets/base",
      "_view_module_version": "1.2.0",
      "_view_name": "LayoutView",
      "align_content": null,
      "align_items": null,
      "align_self": null,
      "border": null,
      "bottom": null,
      "display": null,
      "flex": null,
      "flex_flow": null,
      "grid_area": null,
      "grid_auto_columns": null,
      "grid_auto_flow": null,
      "grid_auto_rows": null,
      "grid_column": null,
      "grid_gap": null,
      "grid_row": null,
      "grid_template_areas": null,
      "grid_template_columns": null,
      "grid_template_rows": null,
      "height": null,
      "justify_content": null,
      "justify_items": null,
      "left": null,
      "margin": null,
      "max_height": null,
      "max_width": null,
      "min_height": null,
      "min_width": null,
      "object_fit": null,
      "object_position": null,
      "order": null,
      "overflow": null,
      "overflow_x": null,
      "overflow_y": null,
      "padding": null,
      "right": null,
      "top": null,
      "visibility": null,
      "width": null
     }
    },
    "792b4c299fc84011b767b130dc63d7cd": {
     "model_module": "@jupyter-widgets/controls",
     "model_module_version": "1.5.0",
     "model_name": "DescriptionStyleModel",
     "state": {
      "_model_module": "@jupyter-widgets/controls",
      "_model_module_version": "1.5.0",
      "_model_name": "DescriptionStyleModel",
      "_view_count": null,
      "_view_module": "@jupyter-widgets/base",
      "_view_module_version": "1.2.0",
      "_view_name": "StyleView",
      "description_width": ""
     }
    },
    "792e987bfb8647dca118eabe6cc16c37": {
     "model_module": "@jupyter-widgets/controls",
     "model_module_version": "1.5.0",
     "model_name": "HBoxModel",
     "state": {
      "_dom_classes": [],
      "_model_module": "@jupyter-widgets/controls",
      "_model_module_version": "1.5.0",
      "_model_name": "HBoxModel",
      "_view_count": null,
      "_view_module": "@jupyter-widgets/controls",
      "_view_module_version": "1.5.0",
      "_view_name": "HBoxView",
      "box_style": "",
      "children": [
       "IPY_MODEL_31f004c514484072a6e536cd56ea69fd",
       "IPY_MODEL_ab48fd800900422096d2348994a7ed4f",
       "IPY_MODEL_a9ca0a0ff7024869b2848711456eca49"
      ],
      "layout": "IPY_MODEL_c90e42275a8c41dd9c319eb79dd869b2"
     }
    },
    "79b9ae97c0404fd1b9dac832e8adf587": {
     "model_module": "@jupyter-widgets/controls",
     "model_module_version": "1.5.0",
     "model_name": "FloatProgressModel",
     "state": {
      "_dom_classes": [],
      "_model_module": "@jupyter-widgets/controls",
      "_model_module_version": "1.5.0",
      "_model_name": "FloatProgressModel",
      "_view_count": null,
      "_view_module": "@jupyter-widgets/controls",
      "_view_module_version": "1.5.0",
      "_view_name": "ProgressView",
      "bar_style": "success",
      "description": "",
      "description_tooltip": null,
      "layout": "IPY_MODEL_50a3a591e84f4b3ea1fd7f4c52ea3c4f",
      "max": 1647,
      "min": 0,
      "orientation": "horizontal",
      "style": "IPY_MODEL_fd61ae1e9af24b1c9777c543be4f7a77",
      "value": 1647
     }
    },
    "7a1a92b8ce77494986c31db4403392fa": {
     "model_module": "@jupyter-widgets/base",
     "model_module_version": "1.2.0",
     "model_name": "LayoutModel",
     "state": {
      "_model_module": "@jupyter-widgets/base",
      "_model_module_version": "1.2.0",
      "_model_name": "LayoutModel",
      "_view_count": null,
      "_view_module": "@jupyter-widgets/base",
      "_view_module_version": "1.2.0",
      "_view_name": "LayoutView",
      "align_content": null,
      "align_items": null,
      "align_self": null,
      "border": null,
      "bottom": null,
      "display": null,
      "flex": null,
      "flex_flow": null,
      "grid_area": null,
      "grid_auto_columns": null,
      "grid_auto_flow": null,
      "grid_auto_rows": null,
      "grid_column": null,
      "grid_gap": null,
      "grid_row": null,
      "grid_template_areas": null,
      "grid_template_columns": null,
      "grid_template_rows": null,
      "height": null,
      "justify_content": null,
      "justify_items": null,
      "left": null,
      "margin": null,
      "max_height": null,
      "max_width": null,
      "min_height": null,
      "min_width": null,
      "object_fit": null,
      "object_position": null,
      "order": null,
      "overflow": null,
      "overflow_x": null,
      "overflow_y": null,
      "padding": null,
      "right": null,
      "top": null,
      "visibility": null,
      "width": null
     }
    },
    "7c0765ffb8964e23842d7f81c8a1026b": {
     "model_module": "@jupyter-widgets/base",
     "model_module_version": "1.2.0",
     "model_name": "LayoutModel",
     "state": {
      "_model_module": "@jupyter-widgets/base",
      "_model_module_version": "1.2.0",
      "_model_name": "LayoutModel",
      "_view_count": null,
      "_view_module": "@jupyter-widgets/base",
      "_view_module_version": "1.2.0",
      "_view_name": "LayoutView",
      "align_content": null,
      "align_items": null,
      "align_self": null,
      "border": null,
      "bottom": null,
      "display": null,
      "flex": null,
      "flex_flow": null,
      "grid_area": null,
      "grid_auto_columns": null,
      "grid_auto_flow": null,
      "grid_auto_rows": null,
      "grid_column": null,
      "grid_gap": null,
      "grid_row": null,
      "grid_template_areas": null,
      "grid_template_columns": null,
      "grid_template_rows": null,
      "height": null,
      "justify_content": null,
      "justify_items": null,
      "left": null,
      "margin": null,
      "max_height": null,
      "max_width": null,
      "min_height": null,
      "min_width": null,
      "object_fit": null,
      "object_position": null,
      "order": null,
      "overflow": null,
      "overflow_x": null,
      "overflow_y": null,
      "padding": null,
      "right": null,
      "top": null,
      "visibility": null,
      "width": "20px"
     }
    },
    "7c59acd30b80478a8b560e786957d47c": {
     "model_module": "@jupyter-widgets/controls",
     "model_module_version": "1.5.0",
     "model_name": "FloatProgressModel",
     "state": {
      "_dom_classes": [],
      "_model_module": "@jupyter-widgets/controls",
      "_model_module_version": "1.5.0",
      "_model_name": "FloatProgressModel",
      "_view_count": null,
      "_view_module": "@jupyter-widgets/controls",
      "_view_module_version": "1.5.0",
      "_view_name": "ProgressView",
      "bar_style": "success",
      "description": "",
      "description_tooltip": null,
      "layout": "IPY_MODEL_2c945b22b08047bba041bf4cbe221c1e",
      "max": 1647,
      "min": 0,
      "orientation": "horizontal",
      "style": "IPY_MODEL_037d3cd1315a4ceb8325854c0d78aec3",
      "value": 1647
     }
    },
    "7cbe23ba47124b9f839d3ce7687019e8": {
     "model_module": "@jupyter-widgets/base",
     "model_module_version": "1.2.0",
     "model_name": "LayoutModel",
     "state": {
      "_model_module": "@jupyter-widgets/base",
      "_model_module_version": "1.2.0",
      "_model_name": "LayoutModel",
      "_view_count": null,
      "_view_module": "@jupyter-widgets/base",
      "_view_module_version": "1.2.0",
      "_view_name": "LayoutView",
      "align_content": null,
      "align_items": null,
      "align_self": null,
      "border": null,
      "bottom": null,
      "display": null,
      "flex": null,
      "flex_flow": null,
      "grid_area": null,
      "grid_auto_columns": null,
      "grid_auto_flow": null,
      "grid_auto_rows": null,
      "grid_column": null,
      "grid_gap": null,
      "grid_row": null,
      "grid_template_areas": null,
      "grid_template_columns": null,
      "grid_template_rows": null,
      "height": null,
      "justify_content": null,
      "justify_items": null,
      "left": null,
      "margin": null,
      "max_height": null,
      "max_width": null,
      "min_height": null,
      "min_width": null,
      "object_fit": null,
      "object_position": null,
      "order": null,
      "overflow": null,
      "overflow_x": null,
      "overflow_y": null,
      "padding": null,
      "right": null,
      "top": null,
      "visibility": null,
      "width": null
     }
    },
    "7ddaf8d04e5e4a708683b2df96e08485": {
     "model_module": "@jupyter-widgets/controls",
     "model_module_version": "1.5.0",
     "model_name": "ProgressStyleModel",
     "state": {
      "_model_module": "@jupyter-widgets/controls",
      "_model_module_version": "1.5.0",
      "_model_name": "ProgressStyleModel",
      "_view_count": null,
      "_view_module": "@jupyter-widgets/base",
      "_view_module_version": "1.2.0",
      "_view_name": "StyleView",
      "bar_color": null,
      "description_width": ""
     }
    },
    "7e18baa5483b4c91b436e35f8e672366": {
     "model_module": "@jupyter-widgets/controls",
     "model_module_version": "1.5.0",
     "model_name": "HTMLModel",
     "state": {
      "_dom_classes": [],
      "_model_module": "@jupyter-widgets/controls",
      "_model_module_version": "1.5.0",
      "_model_name": "HTMLModel",
      "_view_count": null,
      "_view_module": "@jupyter-widgets/controls",
      "_view_module_version": "1.5.0",
      "_view_name": "HTMLView",
      "description": "",
      "description_tooltip": null,
      "layout": "IPY_MODEL_f331bce792f94c398f1c3d1096b6ee84",
      "placeholder": "​",
      "style": "IPY_MODEL_e1065b61a55a42d8a09de2a1ad9472cf",
      "value": "100%"
     }
    },
    "7ed798c347be480d8a715c58ed033108": {
     "model_module": "@jupyter-widgets/controls",
     "model_module_version": "1.5.0",
     "model_name": "HTMLModel",
     "state": {
      "_dom_classes": [],
      "_model_module": "@jupyter-widgets/controls",
      "_model_module_version": "1.5.0",
      "_model_name": "HTMLModel",
      "_view_count": null,
      "_view_module": "@jupyter-widgets/controls",
      "_view_module_version": "1.5.0",
      "_view_name": "HTMLView",
      "description": "",
      "description_tooltip": null,
      "layout": "IPY_MODEL_453f6c4ffd8c410ba00c02e24889e513",
      "placeholder": "​",
      "style": "IPY_MODEL_db3930e0cd76449fac09a593ad73824c",
      "value": " 1.18G/1.18G [00:39&lt;00:00, 33.4MB/s]"
     }
    },
    "7edebd0d60b84459a542354614902616": {
     "model_module": "@jupyter-widgets/controls",
     "model_module_version": "1.5.0",
     "model_name": "FloatProgressModel",
     "state": {
      "_dom_classes": [],
      "_model_module": "@jupyter-widgets/controls",
      "_model_module_version": "1.5.0",
      "_model_name": "FloatProgressModel",
      "_view_count": null,
      "_view_module": "@jupyter-widgets/controls",
      "_view_module_version": "1.5.0",
      "_view_name": "ProgressView",
      "bar_style": "info",
      "description": "",
      "description_tooltip": null,
      "layout": "IPY_MODEL_f9d2274cb2a043929e6d56e579f8968e",
      "max": 1,
      "min": 0,
      "orientation": "horizontal",
      "style": "IPY_MODEL_723f8611930546719c115d22b9633155",
      "value": 1
     }
    },
    "7f6b71b2e91a459bb2e3f1c403b596a3": {
     "model_module": "@jupyter-widgets/controls",
     "model_module_version": "1.5.0",
     "model_name": "HTMLModel",
     "state": {
      "_dom_classes": [],
      "_model_module": "@jupyter-widgets/controls",
      "_model_module_version": "1.5.0",
      "_model_name": "HTMLModel",
      "_view_count": null,
      "_view_module": "@jupyter-widgets/controls",
      "_view_module_version": "1.5.0",
      "_view_name": "HTMLView",
      "description": "",
      "description_tooltip": null,
      "layout": "IPY_MODEL_7cbe23ba47124b9f839d3ce7687019e8",
      "placeholder": "​",
      "style": "IPY_MODEL_db26fa04110b4580be44e103aead0704",
      "value": " 1/1 [00:00&lt;00:00, 12.46ba/s]"
     }
    },
    "81061024c3914a94b9e6742bec8c81c8": {
     "model_module": "@jupyter-widgets/controls",
     "model_module_version": "1.5.0",
     "model_name": "HTMLModel",
     "state": {
      "_dom_classes": [],
      "_model_module": "@jupyter-widgets/controls",
      "_model_module_version": "1.5.0",
      "_model_name": "HTMLModel",
      "_view_count": null,
      "_view_module": "@jupyter-widgets/controls",
      "_view_module_version": "1.5.0",
      "_view_name": "HTMLView",
      "description": "",
      "description_tooltip": null,
      "layout": "IPY_MODEL_b181f53b2d45444c9952b15b31499891",
      "placeholder": "​",
      "style": "IPY_MODEL_bfbcfbaba1dd4480b54f34284a0b5f22",
      "value": "Downloading: "
     }
    },
    "81db12ef7ecd4a6f80fd73a9fb50a474": {
     "model_module": "@jupyter-widgets/controls",
     "model_module_version": "1.5.0",
     "model_name": "HBoxModel",
     "state": {
      "_dom_classes": [],
      "_model_module": "@jupyter-widgets/controls",
      "_model_module_version": "1.5.0",
      "_model_name": "HBoxModel",
      "_view_count": null,
      "_view_module": "@jupyter-widgets/controls",
      "_view_module_version": "1.5.0",
      "_view_name": "HBoxView",
      "box_style": "",
      "children": [
       "IPY_MODEL_5316b04eb6454f0c97f4a2ad6914aae4",
       "IPY_MODEL_4518dc2b61674962a0e59d99f71a7ec2",
       "IPY_MODEL_499e2d25e5df4e3a9f1271ec70243097"
      ],
      "layout": "IPY_MODEL_979d08b1ffdc4261bfb4ec415ab719e3"
     }
    },
    "84637685599d42f7acfb052e1e27a502": {
     "model_module": "@jupyter-widgets/controls",
     "model_module_version": "1.5.0",
     "model_name": "DescriptionStyleModel",
     "state": {
      "_model_module": "@jupyter-widgets/controls",
      "_model_module_version": "1.5.0",
      "_model_name": "DescriptionStyleModel",
      "_view_count": null,
      "_view_module": "@jupyter-widgets/base",
      "_view_module_version": "1.2.0",
      "_view_name": "StyleView",
      "description_width": ""
     }
    },
    "863504bb906e4613bde0c4229aac4d55": {
     "model_module": "@jupyter-widgets/base",
     "model_module_version": "1.2.0",
     "model_name": "LayoutModel",
     "state": {
      "_model_module": "@jupyter-widgets/base",
      "_model_module_version": "1.2.0",
      "_model_name": "LayoutModel",
      "_view_count": null,
      "_view_module": "@jupyter-widgets/base",
      "_view_module_version": "1.2.0",
      "_view_name": "LayoutView",
      "align_content": null,
      "align_items": null,
      "align_self": null,
      "border": null,
      "bottom": null,
      "display": null,
      "flex": null,
      "flex_flow": null,
      "grid_area": null,
      "grid_auto_columns": null,
      "grid_auto_flow": null,
      "grid_auto_rows": null,
      "grid_column": null,
      "grid_gap": null,
      "grid_row": null,
      "grid_template_areas": null,
      "grid_template_columns": null,
      "grid_template_rows": null,
      "height": null,
      "justify_content": null,
      "justify_items": null,
      "left": null,
      "margin": null,
      "max_height": null,
      "max_width": null,
      "min_height": null,
      "min_width": null,
      "object_fit": null,
      "object_position": null,
      "order": null,
      "overflow": null,
      "overflow_x": null,
      "overflow_y": null,
      "padding": null,
      "right": null,
      "top": null,
      "visibility": null,
      "width": null
     }
    },
    "8927e9c273c24a5495579c35ab51c653": {
     "model_module": "@jupyter-widgets/base",
     "model_module_version": "1.2.0",
     "model_name": "LayoutModel",
     "state": {
      "_model_module": "@jupyter-widgets/base",
      "_model_module_version": "1.2.0",
      "_model_name": "LayoutModel",
      "_view_count": null,
      "_view_module": "@jupyter-widgets/base",
      "_view_module_version": "1.2.0",
      "_view_name": "LayoutView",
      "align_content": null,
      "align_items": null,
      "align_self": null,
      "border": null,
      "bottom": null,
      "display": null,
      "flex": null,
      "flex_flow": null,
      "grid_area": null,
      "grid_auto_columns": null,
      "grid_auto_flow": null,
      "grid_auto_rows": null,
      "grid_column": null,
      "grid_gap": null,
      "grid_row": null,
      "grid_template_areas": null,
      "grid_template_columns": null,
      "grid_template_rows": null,
      "height": null,
      "justify_content": null,
      "justify_items": null,
      "left": null,
      "margin": null,
      "max_height": null,
      "max_width": null,
      "min_height": null,
      "min_width": null,
      "object_fit": null,
      "object_position": null,
      "order": null,
      "overflow": null,
      "overflow_x": null,
      "overflow_y": null,
      "padding": null,
      "right": null,
      "top": null,
      "visibility": null,
      "width": null
     }
    },
    "8b44d0e96ea94b3d933b2ebdc8628954": {
     "model_module": "@jupyter-widgets/controls",
     "model_module_version": "1.5.0",
     "model_name": "HTMLModel",
     "state": {
      "_dom_classes": [],
      "_model_module": "@jupyter-widgets/controls",
      "_model_module_version": "1.5.0",
      "_model_name": "HTMLModel",
      "_view_count": null,
      "_view_module": "@jupyter-widgets/controls",
      "_view_module_version": "1.5.0",
      "_view_name": "HTMLView",
      "description": "",
      "description_tooltip": null,
      "layout": "IPY_MODEL_9a737cd41cbf47f3afb8d9995302e587",
      "placeholder": "​",
      "style": "IPY_MODEL_cbcb2296eb644b419e8f5a165e65ae8d",
      "value": " 1431/0 [00:00&lt;00:00, 7906.21 examples/s]"
     }
    },
    "8ee99d65a9c1490db3c0bddac55d4edf": {
     "model_module": "@jupyter-widgets/base",
     "model_module_version": "1.2.0",
     "model_name": "LayoutModel",
     "state": {
      "_model_module": "@jupyter-widgets/base",
      "_model_module_version": "1.2.0",
      "_model_name": "LayoutModel",
      "_view_count": null,
      "_view_module": "@jupyter-widgets/base",
      "_view_module_version": "1.2.0",
      "_view_name": "LayoutView",
      "align_content": null,
      "align_items": null,
      "align_self": null,
      "border": null,
      "bottom": null,
      "display": null,
      "flex": null,
      "flex_flow": null,
      "grid_area": null,
      "grid_auto_columns": null,
      "grid_auto_flow": null,
      "grid_auto_rows": null,
      "grid_column": null,
      "grid_gap": null,
      "grid_row": null,
      "grid_template_areas": null,
      "grid_template_columns": null,
      "grid_template_rows": null,
      "height": null,
      "justify_content": null,
      "justify_items": null,
      "left": null,
      "margin": null,
      "max_height": null,
      "max_width": null,
      "min_height": null,
      "min_width": null,
      "object_fit": null,
      "object_position": null,
      "order": null,
      "overflow": null,
      "overflow_x": null,
      "overflow_y": null,
      "padding": null,
      "right": null,
      "top": null,
      "visibility": null,
      "width": null
     }
    },
    "8eff6d0cd1994cd7add0eba00a19b96a": {
     "model_module": "@jupyter-widgets/base",
     "model_module_version": "1.2.0",
     "model_name": "LayoutModel",
     "state": {
      "_model_module": "@jupyter-widgets/base",
      "_model_module_version": "1.2.0",
      "_model_name": "LayoutModel",
      "_view_count": null,
      "_view_module": "@jupyter-widgets/base",
      "_view_module_version": "1.2.0",
      "_view_name": "LayoutView",
      "align_content": null,
      "align_items": null,
      "align_self": null,
      "border": null,
      "bottom": null,
      "display": null,
      "flex": null,
      "flex_flow": null,
      "grid_area": null,
      "grid_auto_columns": null,
      "grid_auto_flow": null,
      "grid_auto_rows": null,
      "grid_column": null,
      "grid_gap": null,
      "grid_row": null,
      "grid_template_areas": null,
      "grid_template_columns": null,
      "grid_template_rows": null,
      "height": null,
      "justify_content": null,
      "justify_items": null,
      "left": null,
      "margin": null,
      "max_height": null,
      "max_width": null,
      "min_height": null,
      "min_width": null,
      "object_fit": null,
      "object_position": null,
      "order": null,
      "overflow": null,
      "overflow_x": null,
      "overflow_y": null,
      "padding": null,
      "right": null,
      "top": null,
      "visibility": null,
      "width": null
     }
    },
    "8f9dbce347da430a9ca789710b69cfff": {
     "model_module": "@jupyter-widgets/base",
     "model_module_version": "1.2.0",
     "model_name": "LayoutModel",
     "state": {
      "_model_module": "@jupyter-widgets/base",
      "_model_module_version": "1.2.0",
      "_model_name": "LayoutModel",
      "_view_count": null,
      "_view_module": "@jupyter-widgets/base",
      "_view_module_version": "1.2.0",
      "_view_name": "LayoutView",
      "align_content": null,
      "align_items": null,
      "align_self": null,
      "border": null,
      "bottom": null,
      "display": null,
      "flex": null,
      "flex_flow": null,
      "grid_area": null,
      "grid_auto_columns": null,
      "grid_auto_flow": null,
      "grid_auto_rows": null,
      "grid_column": null,
      "grid_gap": null,
      "grid_row": null,
      "grid_template_areas": null,
      "grid_template_columns": null,
      "grid_template_rows": null,
      "height": null,
      "justify_content": null,
      "justify_items": null,
      "left": null,
      "margin": null,
      "max_height": null,
      "max_width": null,
      "min_height": null,
      "min_width": null,
      "object_fit": null,
      "object_position": null,
      "order": null,
      "overflow": null,
      "overflow_x": null,
      "overflow_y": null,
      "padding": null,
      "right": null,
      "top": null,
      "visibility": null,
      "width": null
     }
    },
    "8f9e4f89e3804d6ea968ba9478bad2de": {
     "model_module": "@jupyter-widgets/base",
     "model_module_version": "1.2.0",
     "model_name": "LayoutModel",
     "state": {
      "_model_module": "@jupyter-widgets/base",
      "_model_module_version": "1.2.0",
      "_model_name": "LayoutModel",
      "_view_count": null,
      "_view_module": "@jupyter-widgets/base",
      "_view_module_version": "1.2.0",
      "_view_name": "LayoutView",
      "align_content": null,
      "align_items": null,
      "align_self": null,
      "border": null,
      "bottom": null,
      "display": null,
      "flex": null,
      "flex_flow": null,
      "grid_area": null,
      "grid_auto_columns": null,
      "grid_auto_flow": null,
      "grid_auto_rows": null,
      "grid_column": null,
      "grid_gap": null,
      "grid_row": null,
      "grid_template_areas": null,
      "grid_template_columns": null,
      "grid_template_rows": null,
      "height": null,
      "justify_content": null,
      "justify_items": null,
      "left": null,
      "margin": null,
      "max_height": null,
      "max_width": null,
      "min_height": null,
      "min_width": null,
      "object_fit": null,
      "object_position": null,
      "order": null,
      "overflow": null,
      "overflow_x": null,
      "overflow_y": null,
      "padding": null,
      "right": null,
      "top": null,
      "visibility": null,
      "width": null
     }
    },
    "95c6db1f4f5f453c944859ca8643f62b": {
     "model_module": "@jupyter-widgets/controls",
     "model_module_version": "1.5.0",
     "model_name": "HTMLModel",
     "state": {
      "_dom_classes": [],
      "_model_module": "@jupyter-widgets/controls",
      "_model_module_version": "1.5.0",
      "_model_name": "HTMLModel",
      "_view_count": null,
      "_view_module": "@jupyter-widgets/controls",
      "_view_module_version": "1.5.0",
      "_view_name": "HTMLView",
      "description": "",
      "description_tooltip": null,
      "layout": "IPY_MODEL_d04f00cc232d4bd99e565df3df5777af",
      "placeholder": "​",
      "style": "IPY_MODEL_23abd714a89d433ca22227d6de4ed59f",
      "value": " 154/0 [00:00&lt;00:00, 1539.62 examples/s]"
     }
    },
    "961fd7fc9f374476820434f25f68675d": {
     "model_module": "@jupyter-widgets/base",
     "model_module_version": "1.2.0",
     "model_name": "LayoutModel",
     "state": {
      "_model_module": "@jupyter-widgets/base",
      "_model_module_version": "1.2.0",
      "_model_name": "LayoutModel",
      "_view_count": null,
      "_view_module": "@jupyter-widgets/base",
      "_view_module_version": "1.2.0",
      "_view_name": "LayoutView",
      "align_content": null,
      "align_items": null,
      "align_self": null,
      "border": null,
      "bottom": null,
      "display": null,
      "flex": null,
      "flex_flow": null,
      "grid_area": null,
      "grid_auto_columns": null,
      "grid_auto_flow": null,
      "grid_auto_rows": null,
      "grid_column": null,
      "grid_gap": null,
      "grid_row": null,
      "grid_template_areas": null,
      "grid_template_columns": null,
      "grid_template_rows": null,
      "height": null,
      "justify_content": null,
      "justify_items": null,
      "left": null,
      "margin": null,
      "max_height": null,
      "max_width": null,
      "min_height": null,
      "min_width": null,
      "object_fit": null,
      "object_position": null,
      "order": null,
      "overflow": null,
      "overflow_x": null,
      "overflow_y": null,
      "padding": null,
      "right": null,
      "top": null,
      "visibility": null,
      "width": null
     }
    },
    "978e13b9ee954040a03c85ec124a8d1c": {
     "model_module": "@jupyter-widgets/base",
     "model_module_version": "1.2.0",
     "model_name": "LayoutModel",
     "state": {
      "_model_module": "@jupyter-widgets/base",
      "_model_module_version": "1.2.0",
      "_model_name": "LayoutModel",
      "_view_count": null,
      "_view_module": "@jupyter-widgets/base",
      "_view_module_version": "1.2.0",
      "_view_name": "LayoutView",
      "align_content": null,
      "align_items": null,
      "align_self": null,
      "border": null,
      "bottom": null,
      "display": null,
      "flex": null,
      "flex_flow": null,
      "grid_area": null,
      "grid_auto_columns": null,
      "grid_auto_flow": null,
      "grid_auto_rows": null,
      "grid_column": null,
      "grid_gap": null,
      "grid_row": null,
      "grid_template_areas": null,
      "grid_template_columns": null,
      "grid_template_rows": null,
      "height": null,
      "justify_content": null,
      "justify_items": null,
      "left": null,
      "margin": null,
      "max_height": null,
      "max_width": null,
      "min_height": null,
      "min_width": null,
      "object_fit": null,
      "object_position": null,
      "order": null,
      "overflow": null,
      "overflow_x": null,
      "overflow_y": null,
      "padding": null,
      "right": null,
      "top": null,
      "visibility": null,
      "width": null
     }
    },
    "979d08b1ffdc4261bfb4ec415ab719e3": {
     "model_module": "@jupyter-widgets/base",
     "model_module_version": "1.2.0",
     "model_name": "LayoutModel",
     "state": {
      "_model_module": "@jupyter-widgets/base",
      "_model_module_version": "1.2.0",
      "_model_name": "LayoutModel",
      "_view_count": null,
      "_view_module": "@jupyter-widgets/base",
      "_view_module_version": "1.2.0",
      "_view_name": "LayoutView",
      "align_content": null,
      "align_items": null,
      "align_self": null,
      "border": null,
      "bottom": null,
      "display": null,
      "flex": null,
      "flex_flow": null,
      "grid_area": null,
      "grid_auto_columns": null,
      "grid_auto_flow": null,
      "grid_auto_rows": null,
      "grid_column": null,
      "grid_gap": null,
      "grid_row": null,
      "grid_template_areas": null,
      "grid_template_columns": null,
      "grid_template_rows": null,
      "height": null,
      "justify_content": null,
      "justify_items": null,
      "left": null,
      "margin": null,
      "max_height": null,
      "max_width": null,
      "min_height": null,
      "min_width": null,
      "object_fit": null,
      "object_position": null,
      "order": null,
      "overflow": null,
      "overflow_x": null,
      "overflow_y": null,
      "padding": null,
      "right": null,
      "top": null,
      "visibility": null,
      "width": null
     }
    },
    "98cf04b2c3c74c9bbb53d7724db164c5": {
     "model_module": "@jupyter-widgets/base",
     "model_module_version": "1.2.0",
     "model_name": "LayoutModel",
     "state": {
      "_model_module": "@jupyter-widgets/base",
      "_model_module_version": "1.2.0",
      "_model_name": "LayoutModel",
      "_view_count": null,
      "_view_module": "@jupyter-widgets/base",
      "_view_module_version": "1.2.0",
      "_view_name": "LayoutView",
      "align_content": null,
      "align_items": null,
      "align_self": null,
      "border": null,
      "bottom": null,
      "display": null,
      "flex": null,
      "flex_flow": null,
      "grid_area": null,
      "grid_auto_columns": null,
      "grid_auto_flow": null,
      "grid_auto_rows": null,
      "grid_column": null,
      "grid_gap": null,
      "grid_row": null,
      "grid_template_areas": null,
      "grid_template_columns": null,
      "grid_template_rows": null,
      "height": null,
      "justify_content": null,
      "justify_items": null,
      "left": null,
      "margin": null,
      "max_height": null,
      "max_width": null,
      "min_height": null,
      "min_width": null,
      "object_fit": null,
      "object_position": null,
      "order": null,
      "overflow": null,
      "overflow_x": null,
      "overflow_y": null,
      "padding": null,
      "right": null,
      "top": null,
      "visibility": null,
      "width": null
     }
    },
    "9a0a1825f7b14b2d8699d1ee7b28c3f9": {
     "model_module": "@jupyter-widgets/controls",
     "model_module_version": "1.5.0",
     "model_name": "HBoxModel",
     "state": {
      "_dom_classes": [],
      "_model_module": "@jupyter-widgets/controls",
      "_model_module_version": "1.5.0",
      "_model_name": "HBoxModel",
      "_view_count": null,
      "_view_module": "@jupyter-widgets/controls",
      "_view_module_version": "1.5.0",
      "_view_name": "HBoxView",
      "box_style": "",
      "children": [
       "IPY_MODEL_57f5395740d8448d89f499969e34d4ed",
       "IPY_MODEL_39a5e2f9da294c7fa7d5948b7eb0a77c"
      ],
      "layout": "IPY_MODEL_55888091ab6d49e1b965f3a9dace684b"
     }
    },
    "9a2111c0ec204f55b1e2ffc548b3caa3": {
     "model_module": "@jupyter-widgets/controls",
     "model_module_version": "1.5.0",
     "model_name": "HTMLModel",
     "state": {
      "_dom_classes": [],
      "_model_module": "@jupyter-widgets/controls",
      "_model_module_version": "1.5.0",
      "_model_name": "HTMLModel",
      "_view_count": null,
      "_view_module": "@jupyter-widgets/controls",
      "_view_module_version": "1.5.0",
      "_view_name": "HTMLView",
      "description": "",
      "description_tooltip": null,
      "layout": "IPY_MODEL_ffaa56d525c44508a3c1f0fe88319698",
      "placeholder": "​",
      "style": "IPY_MODEL_25b412c111284dadac3030a33daa061d",
      "value": "100%"
     }
    },
    "9a737cd41cbf47f3afb8d9995302e587": {
     "model_module": "@jupyter-widgets/base",
     "model_module_version": "1.2.0",
     "model_name": "LayoutModel",
     "state": {
      "_model_module": "@jupyter-widgets/base",
      "_model_module_version": "1.2.0",
      "_model_name": "LayoutModel",
      "_view_count": null,
      "_view_module": "@jupyter-widgets/base",
      "_view_module_version": "1.2.0",
      "_view_name": "LayoutView",
      "align_content": null,
      "align_items": null,
      "align_self": null,
      "border": null,
      "bottom": null,
      "display": null,
      "flex": null,
      "flex_flow": null,
      "grid_area": null,
      "grid_auto_columns": null,
      "grid_auto_flow": null,
      "grid_auto_rows": null,
      "grid_column": null,
      "grid_gap": null,
      "grid_row": null,
      "grid_template_areas": null,
      "grid_template_columns": null,
      "grid_template_rows": null,
      "height": null,
      "justify_content": null,
      "justify_items": null,
      "left": null,
      "margin": null,
      "max_height": null,
      "max_width": null,
      "min_height": null,
      "min_width": null,
      "object_fit": null,
      "object_position": null,
      "order": null,
      "overflow": null,
      "overflow_x": null,
      "overflow_y": null,
      "padding": null,
      "right": null,
      "top": null,
      "visibility": null,
      "width": null
     }
    },
    "9d4627a0f1b44f4587eab29528087828": {
     "model_module": "@jupyter-widgets/base",
     "model_module_version": "1.2.0",
     "model_name": "LayoutModel",
     "state": {
      "_model_module": "@jupyter-widgets/base",
      "_model_module_version": "1.2.0",
      "_model_name": "LayoutModel",
      "_view_count": null,
      "_view_module": "@jupyter-widgets/base",
      "_view_module_version": "1.2.0",
      "_view_name": "LayoutView",
      "align_content": null,
      "align_items": null,
      "align_self": null,
      "border": null,
      "bottom": null,
      "display": null,
      "flex": null,
      "flex_flow": null,
      "grid_area": null,
      "grid_auto_columns": null,
      "grid_auto_flow": null,
      "grid_auto_rows": null,
      "grid_column": null,
      "grid_gap": null,
      "grid_row": null,
      "grid_template_areas": null,
      "grid_template_columns": null,
      "grid_template_rows": null,
      "height": null,
      "justify_content": null,
      "justify_items": null,
      "left": null,
      "margin": null,
      "max_height": null,
      "max_width": null,
      "min_height": null,
      "min_width": null,
      "object_fit": null,
      "object_position": null,
      "order": null,
      "overflow": null,
      "overflow_x": null,
      "overflow_y": null,
      "padding": null,
      "right": null,
      "top": null,
      "visibility": null,
      "width": null
     }
    },
    "9deebbc6d0404212b430d49bf83f6e79": {
     "model_module": "@jupyter-widgets/controls",
     "model_module_version": "1.5.0",
     "model_name": "FloatProgressModel",
     "state": {
      "_dom_classes": [],
      "_model_module": "@jupyter-widgets/controls",
      "_model_module_version": "1.5.0",
      "_model_name": "FloatProgressModel",
      "_view_count": null,
      "_view_module": "@jupyter-widgets/controls",
      "_view_module_version": "1.5.0",
      "_view_name": "ProgressView",
      "bar_style": "success",
      "description": "",
      "description_tooltip": null,
      "layout": "IPY_MODEL_25f0e7344e4248d7b5bcd8eed9b38590",
      "max": 620848700,
      "min": 0,
      "orientation": "horizontal",
      "style": "IPY_MODEL_cf2c234713874fd68f1fe6a3d51e51ac",
      "value": 620848700
     }
    },
    "9ef16d6e61774f9293cab62e10e78b9e": {
     "model_module": "@jupyter-widgets/base",
     "model_module_version": "1.2.0",
     "model_name": "LayoutModel",
     "state": {
      "_model_module": "@jupyter-widgets/base",
      "_model_module_version": "1.2.0",
      "_model_name": "LayoutModel",
      "_view_count": null,
      "_view_module": "@jupyter-widgets/base",
      "_view_module_version": "1.2.0",
      "_view_name": "LayoutView",
      "align_content": null,
      "align_items": null,
      "align_self": null,
      "border": null,
      "bottom": null,
      "display": null,
      "flex": null,
      "flex_flow": null,
      "grid_area": null,
      "grid_auto_columns": null,
      "grid_auto_flow": null,
      "grid_auto_rows": null,
      "grid_column": null,
      "grid_gap": null,
      "grid_row": null,
      "grid_template_areas": null,
      "grid_template_columns": null,
      "grid_template_rows": null,
      "height": null,
      "justify_content": null,
      "justify_items": null,
      "left": null,
      "margin": null,
      "max_height": null,
      "max_width": null,
      "min_height": null,
      "min_width": null,
      "object_fit": null,
      "object_position": null,
      "order": null,
      "overflow": null,
      "overflow_x": null,
      "overflow_y": null,
      "padding": null,
      "right": null,
      "top": null,
      "visibility": null,
      "width": null
     }
    },
    "a270405804554935ab4b1e14411fd4da": {
     "model_module": "@jupyter-widgets/base",
     "model_module_version": "1.2.0",
     "model_name": "LayoutModel",
     "state": {
      "_model_module": "@jupyter-widgets/base",
      "_model_module_version": "1.2.0",
      "_model_name": "LayoutModel",
      "_view_count": null,
      "_view_module": "@jupyter-widgets/base",
      "_view_module_version": "1.2.0",
      "_view_name": "LayoutView",
      "align_content": null,
      "align_items": null,
      "align_self": null,
      "border": null,
      "bottom": null,
      "display": null,
      "flex": null,
      "flex_flow": null,
      "grid_area": null,
      "grid_auto_columns": null,
      "grid_auto_flow": null,
      "grid_auto_rows": null,
      "grid_column": null,
      "grid_gap": null,
      "grid_row": null,
      "grid_template_areas": null,
      "grid_template_columns": null,
      "grid_template_rows": null,
      "height": null,
      "justify_content": null,
      "justify_items": null,
      "left": null,
      "margin": null,
      "max_height": null,
      "max_width": null,
      "min_height": null,
      "min_width": null,
      "object_fit": null,
      "object_position": null,
      "order": null,
      "overflow": null,
      "overflow_x": null,
      "overflow_y": null,
      "padding": null,
      "right": null,
      "top": null,
      "visibility": null,
      "width": null
     }
    },
    "a3610b6dbb7f4dff933d12b135fe5f7d": {
     "model_module": "@jupyter-widgets/base",
     "model_module_version": "1.2.0",
     "model_name": "LayoutModel",
     "state": {
      "_model_module": "@jupyter-widgets/base",
      "_model_module_version": "1.2.0",
      "_model_name": "LayoutModel",
      "_view_count": null,
      "_view_module": "@jupyter-widgets/base",
      "_view_module_version": "1.2.0",
      "_view_name": "LayoutView",
      "align_content": null,
      "align_items": null,
      "align_self": null,
      "border": null,
      "bottom": null,
      "display": null,
      "flex": null,
      "flex_flow": null,
      "grid_area": null,
      "grid_auto_columns": null,
      "grid_auto_flow": null,
      "grid_auto_rows": null,
      "grid_column": null,
      "grid_gap": null,
      "grid_row": null,
      "grid_template_areas": null,
      "grid_template_columns": null,
      "grid_template_rows": null,
      "height": null,
      "justify_content": null,
      "justify_items": null,
      "left": null,
      "margin": null,
      "max_height": null,
      "max_width": null,
      "min_height": null,
      "min_width": null,
      "object_fit": null,
      "object_position": null,
      "order": null,
      "overflow": null,
      "overflow_x": null,
      "overflow_y": null,
      "padding": null,
      "right": null,
      "top": null,
      "visibility": null,
      "width": null
     }
    },
    "a4d71ab69f1d45f489e2af6609cda1ea": {
     "model_module": "@jupyter-widgets/base",
     "model_module_version": "1.2.0",
     "model_name": "LayoutModel",
     "state": {
      "_model_module": "@jupyter-widgets/base",
      "_model_module_version": "1.2.0",
      "_model_name": "LayoutModel",
      "_view_count": null,
      "_view_module": "@jupyter-widgets/base",
      "_view_module_version": "1.2.0",
      "_view_name": "LayoutView",
      "align_content": null,
      "align_items": null,
      "align_self": null,
      "border": null,
      "bottom": null,
      "display": null,
      "flex": null,
      "flex_flow": null,
      "grid_area": null,
      "grid_auto_columns": null,
      "grid_auto_flow": null,
      "grid_auto_rows": null,
      "grid_column": null,
      "grid_gap": null,
      "grid_row": null,
      "grid_template_areas": null,
      "grid_template_columns": null,
      "grid_template_rows": null,
      "height": null,
      "justify_content": null,
      "justify_items": null,
      "left": null,
      "margin": null,
      "max_height": null,
      "max_width": null,
      "min_height": null,
      "min_width": null,
      "object_fit": null,
      "object_position": null,
      "order": null,
      "overflow": null,
      "overflow_x": null,
      "overflow_y": null,
      "padding": null,
      "right": null,
      "top": null,
      "visibility": null,
      "width": null
     }
    },
    "a61ec362d6254d7c99972821779126bb": {
     "model_module": "@jupyter-widgets/controls",
     "model_module_version": "1.5.0",
     "model_name": "ButtonModel",
     "state": {
      "_dom_classes": [],
      "_model_module": "@jupyter-widgets/controls",
      "_model_module_version": "1.5.0",
      "_model_name": "ButtonModel",
      "_view_count": null,
      "_view_module": "@jupyter-widgets/controls",
      "_view_module_version": "1.5.0",
      "_view_name": "ButtonView",
      "button_style": "",
      "description": "Login",
      "disabled": false,
      "icon": "",
      "layout": "IPY_MODEL_5faac7eafb6b46d3b3a67b2436f009d0",
      "style": "IPY_MODEL_c7cb9c0ad241456eaf930e27f0dc5e2b",
      "tooltip": ""
     }
    },
    "a7921a558ee2413d840c51e41b70d0f6": {
     "model_module": "@jupyter-widgets/controls",
     "model_module_version": "1.5.0",
     "model_name": "FloatProgressModel",
     "state": {
      "_dom_classes": [],
      "_model_module": "@jupyter-widgets/controls",
      "_model_module_version": "1.5.0",
      "_model_name": "FloatProgressModel",
      "_view_count": null,
      "_view_module": "@jupyter-widgets/controls",
      "_view_module_version": "1.5.0",
      "_view_name": "ProgressView",
      "bar_style": "success",
      "description": "",
      "description_tooltip": null,
      "layout": "IPY_MODEL_bed1d2bd7aae43e9bcf7e3aabd908230",
      "max": 1947,
      "min": 0,
      "orientation": "horizontal",
      "style": "IPY_MODEL_20b3fd9cd2d247e2b45513b249b1ab76",
      "value": 1947
     }
    },
    "a8c449700b2c4f9293f55f33ddbdfb53": {
     "model_module": "@jupyter-widgets/controls",
     "model_module_version": "1.5.0",
     "model_name": "DescriptionStyleModel",
     "state": {
      "_model_module": "@jupyter-widgets/controls",
      "_model_module_version": "1.5.0",
      "_model_name": "DescriptionStyleModel",
      "_view_count": null,
      "_view_module": "@jupyter-widgets/base",
      "_view_module_version": "1.2.0",
      "_view_name": "StyleView",
      "description_width": ""
     }
    },
    "a9ca0a0ff7024869b2848711456eca49": {
     "model_module": "@jupyter-widgets/controls",
     "model_module_version": "1.5.0",
     "model_name": "HTMLModel",
     "state": {
      "_dom_classes": [],
      "_model_module": "@jupyter-widgets/controls",
      "_model_module_version": "1.5.0",
      "_model_name": "HTMLModel",
      "_view_count": null,
      "_view_module": "@jupyter-widgets/controls",
      "_view_module_version": "1.5.0",
      "_view_name": "HTMLView",
      "description": "",
      "description_tooltip": null,
      "layout": "IPY_MODEL_0c25b9b7db834289b3de290008a0209c",
      "placeholder": "​",
      "style": "IPY_MODEL_529c35cb376d4073b76ee5b44458216f",
      "value": " 22.5k/? [00:00&lt;00:00, 428kB/s]"
     }
    },
    "aa2600dffb084b8290cb4414d1e50f5c": {
     "model_module": "@jupyter-widgets/controls",
     "model_module_version": "1.5.0",
     "model_name": "HTMLModel",
     "state": {
      "_dom_classes": [],
      "_model_module": "@jupyter-widgets/controls",
      "_model_module_version": "1.5.0",
      "_model_name": "HTMLModel",
      "_view_count": null,
      "_view_module": "@jupyter-widgets/controls",
      "_view_module_version": "1.5.0",
      "_view_name": "HTMLView",
      "description": "",
      "description_tooltip": null,
      "layout": "IPY_MODEL_2acff7822c834a40bebe6e8b99eb0830",
      "placeholder": "​",
      "style": "IPY_MODEL_e78c45c8191a438f8d8886dbfe265c2d",
      "value": ""
     }
    },
    "ab48fd800900422096d2348994a7ed4f": {
     "model_module": "@jupyter-widgets/controls",
     "model_module_version": "1.5.0",
     "model_name": "FloatProgressModel",
     "state": {
      "_dom_classes": [],
      "_model_module": "@jupyter-widgets/controls",
      "_model_module_version": "1.5.0",
      "_model_name": "FloatProgressModel",
      "_view_count": null,
      "_view_module": "@jupyter-widgets/controls",
      "_view_module_version": "1.5.0",
      "_view_name": "ProgressView",
      "bar_style": "success",
      "description": "",
      "description_tooltip": null,
      "layout": "IPY_MODEL_c3f39fc6dda546c089a7d5d01c1e34ee",
      "max": 4444,
      "min": 0,
      "orientation": "horizontal",
      "style": "IPY_MODEL_36c2a7a649324a308621a582ef5babc6",
      "value": 4444
     }
    },
    "ac4f852a824d4c1d883aaf537566ffa3": {
     "model_module": "@jupyter-widgets/base",
     "model_module_version": "1.2.0",
     "model_name": "LayoutModel",
     "state": {
      "_model_module": "@jupyter-widgets/base",
      "_model_module_version": "1.2.0",
      "_model_name": "LayoutModel",
      "_view_count": null,
      "_view_module": "@jupyter-widgets/base",
      "_view_module_version": "1.2.0",
      "_view_name": "LayoutView",
      "align_content": null,
      "align_items": null,
      "align_self": null,
      "border": null,
      "bottom": null,
      "display": null,
      "flex": null,
      "flex_flow": null,
      "grid_area": null,
      "grid_auto_columns": null,
      "grid_auto_flow": null,
      "grid_auto_rows": null,
      "grid_column": null,
      "grid_gap": null,
      "grid_row": null,
      "grid_template_areas": null,
      "grid_template_columns": null,
      "grid_template_rows": null,
      "height": null,
      "justify_content": null,
      "justify_items": null,
      "left": null,
      "margin": null,
      "max_height": null,
      "max_width": null,
      "min_height": null,
      "min_width": null,
      "object_fit": null,
      "object_position": null,
      "order": null,
      "overflow": null,
      "overflow_x": null,
      "overflow_y": null,
      "padding": null,
      "right": null,
      "top": null,
      "visibility": null,
      "width": null
     }
    },
    "ad8d2e9369c64fab92fbf4a42ae1b7f3": {
     "model_module": "@jupyter-widgets/base",
     "model_module_version": "1.2.0",
     "model_name": "LayoutModel",
     "state": {
      "_model_module": "@jupyter-widgets/base",
      "_model_module_version": "1.2.0",
      "_model_name": "LayoutModel",
      "_view_count": null,
      "_view_module": "@jupyter-widgets/base",
      "_view_module_version": "1.2.0",
      "_view_name": "LayoutView",
      "align_content": null,
      "align_items": null,
      "align_self": null,
      "border": null,
      "bottom": null,
      "display": null,
      "flex": null,
      "flex_flow": null,
      "grid_area": null,
      "grid_auto_columns": null,
      "grid_auto_flow": null,
      "grid_auto_rows": null,
      "grid_column": null,
      "grid_gap": null,
      "grid_row": null,
      "grid_template_areas": null,
      "grid_template_columns": null,
      "grid_template_rows": null,
      "height": null,
      "justify_content": null,
      "justify_items": null,
      "left": null,
      "margin": null,
      "max_height": null,
      "max_width": null,
      "min_height": null,
      "min_width": null,
      "object_fit": null,
      "object_position": null,
      "order": null,
      "overflow": null,
      "overflow_x": null,
      "overflow_y": null,
      "padding": null,
      "right": null,
      "top": null,
      "visibility": null,
      "width": null
     }
    },
    "ae6c6c5e85bf4e25b9f0d120de051cba": {
     "model_module": "@jupyter-widgets/controls",
     "model_module_version": "1.5.0",
     "model_name": "DescriptionStyleModel",
     "state": {
      "_model_module": "@jupyter-widgets/controls",
      "_model_module_version": "1.5.0",
      "_model_name": "DescriptionStyleModel",
      "_view_count": null,
      "_view_module": "@jupyter-widgets/base",
      "_view_module_version": "1.2.0",
      "_view_name": "StyleView",
      "description_width": ""
     }
    },
    "b07ada6eda9a46a4b70a3bbd7f228a51": {
     "model_module": "@jupyter-widgets/controls",
     "model_module_version": "1.5.0",
     "model_name": "DescriptionStyleModel",
     "state": {
      "_model_module": "@jupyter-widgets/controls",
      "_model_module_version": "1.5.0",
      "_model_name": "DescriptionStyleModel",
      "_view_count": null,
      "_view_module": "@jupyter-widgets/base",
      "_view_module_version": "1.2.0",
      "_view_name": "StyleView",
      "description_width": ""
     }
    },
    "b181f53b2d45444c9952b15b31499891": {
     "model_module": "@jupyter-widgets/base",
     "model_module_version": "1.2.0",
     "model_name": "LayoutModel",
     "state": {
      "_model_module": "@jupyter-widgets/base",
      "_model_module_version": "1.2.0",
      "_model_name": "LayoutModel",
      "_view_count": null,
      "_view_module": "@jupyter-widgets/base",
      "_view_module_version": "1.2.0",
      "_view_name": "LayoutView",
      "align_content": null,
      "align_items": null,
      "align_self": null,
      "border": null,
      "bottom": null,
      "display": null,
      "flex": null,
      "flex_flow": null,
      "grid_area": null,
      "grid_auto_columns": null,
      "grid_auto_flow": null,
      "grid_auto_rows": null,
      "grid_column": null,
      "grid_gap": null,
      "grid_row": null,
      "grid_template_areas": null,
      "grid_template_columns": null,
      "grid_template_rows": null,
      "height": null,
      "justify_content": null,
      "justify_items": null,
      "left": null,
      "margin": null,
      "max_height": null,
      "max_width": null,
      "min_height": null,
      "min_width": null,
      "object_fit": null,
      "object_position": null,
      "order": null,
      "overflow": null,
      "overflow_x": null,
      "overflow_y": null,
      "padding": null,
      "right": null,
      "top": null,
      "visibility": null,
      "width": null
     }
    },
    "b442918645ee4ec097fbf60f13b680cc": {
     "model_module": "@jupyter-widgets/base",
     "model_module_version": "1.2.0",
     "model_name": "LayoutModel",
     "state": {
      "_model_module": "@jupyter-widgets/base",
      "_model_module_version": "1.2.0",
      "_model_name": "LayoutModel",
      "_view_count": null,
      "_view_module": "@jupyter-widgets/base",
      "_view_module_version": "1.2.0",
      "_view_name": "LayoutView",
      "align_content": null,
      "align_items": null,
      "align_self": null,
      "border": null,
      "bottom": null,
      "display": null,
      "flex": null,
      "flex_flow": null,
      "grid_area": null,
      "grid_auto_columns": null,
      "grid_auto_flow": null,
      "grid_auto_rows": null,
      "grid_column": null,
      "grid_gap": null,
      "grid_row": null,
      "grid_template_areas": null,
      "grid_template_columns": null,
      "grid_template_rows": null,
      "height": null,
      "justify_content": null,
      "justify_items": null,
      "left": null,
      "margin": null,
      "max_height": null,
      "max_width": null,
      "min_height": null,
      "min_width": null,
      "object_fit": null,
      "object_position": null,
      "order": null,
      "overflow": null,
      "overflow_x": null,
      "overflow_y": null,
      "padding": null,
      "right": null,
      "top": null,
      "visibility": null,
      "width": null
     }
    },
    "b5eb923b90aa40589c40ea03706884a1": {
     "model_module": "@jupyter-widgets/controls",
     "model_module_version": "1.5.0",
     "model_name": "HTMLModel",
     "state": {
      "_dom_classes": [],
      "_model_module": "@jupyter-widgets/controls",
      "_model_module_version": "1.5.0",
      "_model_name": "HTMLModel",
      "_view_count": null,
      "_view_module": "@jupyter-widgets/controls",
      "_view_module_version": "1.5.0",
      "_view_name": "HTMLView",
      "description": "",
      "description_tooltip": null,
      "layout": "IPY_MODEL_56eca0e68bfe4d61af2b38d7b5d743f8",
      "placeholder": "​",
      "style": "IPY_MODEL_47e395f773e04b08bdcb2e2cc7f4d4d3",
      "value": "100%"
     }
    },
    "b6d7e1ee711246689ad210eab59955dd": {
     "model_module": "@jupyter-widgets/controls",
     "model_module_version": "1.5.0",
     "model_name": "DescriptionStyleModel",
     "state": {
      "_model_module": "@jupyter-widgets/controls",
      "_model_module_version": "1.5.0",
      "_model_name": "DescriptionStyleModel",
      "_view_count": null,
      "_view_module": "@jupyter-widgets/base",
      "_view_module_version": "1.2.0",
      "_view_name": "StyleView",
      "description_width": ""
     }
    },
    "b7ac1f52b03b466e989977ec9da82cec": {
     "model_module": "@jupyter-widgets/base",
     "model_module_version": "1.2.0",
     "model_name": "LayoutModel",
     "state": {
      "_model_module": "@jupyter-widgets/base",
      "_model_module_version": "1.2.0",
      "_model_name": "LayoutModel",
      "_view_count": null,
      "_view_module": "@jupyter-widgets/base",
      "_view_module_version": "1.2.0",
      "_view_name": "LayoutView",
      "align_content": null,
      "align_items": null,
      "align_self": null,
      "border": null,
      "bottom": null,
      "display": null,
      "flex": null,
      "flex_flow": null,
      "grid_area": null,
      "grid_auto_columns": null,
      "grid_auto_flow": null,
      "grid_auto_rows": null,
      "grid_column": null,
      "grid_gap": null,
      "grid_row": null,
      "grid_template_areas": null,
      "grid_template_columns": null,
      "grid_template_rows": null,
      "height": null,
      "justify_content": null,
      "justify_items": null,
      "left": null,
      "margin": null,
      "max_height": null,
      "max_width": null,
      "min_height": null,
      "min_width": null,
      "object_fit": null,
      "object_position": null,
      "order": null,
      "overflow": null,
      "overflow_x": null,
      "overflow_y": null,
      "padding": null,
      "right": null,
      "top": null,
      "visibility": null,
      "width": null
     }
    },
    "ba6c71a131164b96a888b0243801c370": {
     "model_module": "@jupyter-widgets/controls",
     "model_module_version": "1.5.0",
     "model_name": "HTMLModel",
     "state": {
      "_dom_classes": [],
      "_model_module": "@jupyter-widgets/controls",
      "_model_module_version": "1.5.0",
      "_model_name": "HTMLModel",
      "_view_count": null,
      "_view_module": "@jupyter-widgets/controls",
      "_view_module_version": "1.5.0",
      "_view_name": "HTMLView",
      "description": "",
      "description_tooltip": null,
      "layout": "IPY_MODEL_466f8c97cfeb4c729f132ea39cad25b2",
      "placeholder": "​",
      "style": "IPY_MODEL_65d511c8a83c42748ec9bb82d002f17a",
      "value": "100%"
     }
    },
    "bb9c61d9ee7c4a558df2a366e33c7488": {
     "model_module": "@jupyter-widgets/controls",
     "model_module_version": "1.5.0",
     "model_name": "ProgressStyleModel",
     "state": {
      "_model_module": "@jupyter-widgets/controls",
      "_model_module_version": "1.5.0",
      "_model_name": "ProgressStyleModel",
      "_view_count": null,
      "_view_module": "@jupyter-widgets/base",
      "_view_module_version": "1.2.0",
      "_view_name": "StyleView",
      "bar_color": null,
      "description_width": ""
     }
    },
    "bd0f54413c4b46c9a55dc198c52600b1": {
     "model_module": "@jupyter-widgets/controls",
     "model_module_version": "1.5.0",
     "model_name": "DescriptionStyleModel",
     "state": {
      "_model_module": "@jupyter-widgets/controls",
      "_model_module_version": "1.5.0",
      "_model_name": "DescriptionStyleModel",
      "_view_count": null,
      "_view_module": "@jupyter-widgets/base",
      "_view_module_version": "1.2.0",
      "_view_name": "StyleView",
      "description_width": ""
     }
    },
    "bd1161ab6b7d405abbc031cb4c099032": {
     "model_module": "@jupyter-widgets/base",
     "model_module_version": "1.2.0",
     "model_name": "LayoutModel",
     "state": {
      "_model_module": "@jupyter-widgets/base",
      "_model_module_version": "1.2.0",
      "_model_name": "LayoutModel",
      "_view_count": null,
      "_view_module": "@jupyter-widgets/base",
      "_view_module_version": "1.2.0",
      "_view_name": "LayoutView",
      "align_content": null,
      "align_items": null,
      "align_self": null,
      "border": null,
      "bottom": null,
      "display": null,
      "flex": null,
      "flex_flow": null,
      "grid_area": null,
      "grid_auto_columns": null,
      "grid_auto_flow": null,
      "grid_auto_rows": null,
      "grid_column": null,
      "grid_gap": null,
      "grid_row": null,
      "grid_template_areas": null,
      "grid_template_columns": null,
      "grid_template_rows": null,
      "height": null,
      "justify_content": null,
      "justify_items": null,
      "left": null,
      "margin": null,
      "max_height": null,
      "max_width": null,
      "min_height": null,
      "min_width": null,
      "object_fit": null,
      "object_position": null,
      "order": null,
      "overflow": null,
      "overflow_x": null,
      "overflow_y": null,
      "padding": null,
      "right": null,
      "top": null,
      "visibility": null,
      "width": null
     }
    },
    "be9f8b0951e94b04bb03f5123403167e": {
     "model_module": "@jupyter-widgets/base",
     "model_module_version": "1.2.0",
     "model_name": "LayoutModel",
     "state": {
      "_model_module": "@jupyter-widgets/base",
      "_model_module_version": "1.2.0",
      "_model_name": "LayoutModel",
      "_view_count": null,
      "_view_module": "@jupyter-widgets/base",
      "_view_module_version": "1.2.0",
      "_view_name": "LayoutView",
      "align_content": null,
      "align_items": null,
      "align_self": null,
      "border": null,
      "bottom": null,
      "display": null,
      "flex": null,
      "flex_flow": null,
      "grid_area": null,
      "grid_auto_columns": null,
      "grid_auto_flow": null,
      "grid_auto_rows": null,
      "grid_column": null,
      "grid_gap": null,
      "grid_row": null,
      "grid_template_areas": null,
      "grid_template_columns": null,
      "grid_template_rows": null,
      "height": null,
      "justify_content": null,
      "justify_items": null,
      "left": null,
      "margin": null,
      "max_height": null,
      "max_width": null,
      "min_height": null,
      "min_width": null,
      "object_fit": null,
      "object_position": null,
      "order": null,
      "overflow": null,
      "overflow_x": null,
      "overflow_y": null,
      "padding": null,
      "right": null,
      "top": null,
      "visibility": null,
      "width": null
     }
    },
    "bebe1a3e84aa4ec6b3e0f1e3f59e74cc": {
     "model_module": "@jupyter-widgets/controls",
     "model_module_version": "1.5.0",
     "model_name": "HTMLModel",
     "state": {
      "_dom_classes": [],
      "_model_module": "@jupyter-widgets/controls",
      "_model_module_version": "1.5.0",
      "_model_name": "HTMLModel",
      "_view_count": null,
      "_view_module": "@jupyter-widgets/controls",
      "_view_module_version": "1.5.0",
      "_view_name": "HTMLView",
      "description": "",
      "description_tooltip": null,
      "layout": "IPY_MODEL_e3ce3525324846c39f4d1afc79a0b983",
      "placeholder": "​",
      "style": "IPY_MODEL_0cdc994b08f64017817d5427068d40bc",
      "value": " 161k/? [00:00&lt;00:00, 3.88MB/s]"
     }
    },
    "bed1d2bd7aae43e9bcf7e3aabd908230": {
     "model_module": "@jupyter-widgets/base",
     "model_module_version": "1.2.0",
     "model_name": "LayoutModel",
     "state": {
      "_model_module": "@jupyter-widgets/base",
      "_model_module_version": "1.2.0",
      "_model_name": "LayoutModel",
      "_view_count": null,
      "_view_module": "@jupyter-widgets/base",
      "_view_module_version": "1.2.0",
      "_view_name": "LayoutView",
      "align_content": null,
      "align_items": null,
      "align_self": null,
      "border": null,
      "bottom": null,
      "display": null,
      "flex": null,
      "flex_flow": null,
      "grid_area": null,
      "grid_auto_columns": null,
      "grid_auto_flow": null,
      "grid_auto_rows": null,
      "grid_column": null,
      "grid_gap": null,
      "grid_row": null,
      "grid_template_areas": null,
      "grid_template_columns": null,
      "grid_template_rows": null,
      "height": null,
      "justify_content": null,
      "justify_items": null,
      "left": null,
      "margin": null,
      "max_height": null,
      "max_width": null,
      "min_height": null,
      "min_width": null,
      "object_fit": null,
      "object_position": null,
      "order": null,
      "overflow": null,
      "overflow_x": null,
      "overflow_y": null,
      "padding": null,
      "right": null,
      "top": null,
      "visibility": null,
      "width": null
     }
    },
    "bfbcfbaba1dd4480b54f34284a0b5f22": {
     "model_module": "@jupyter-widgets/controls",
     "model_module_version": "1.5.0",
     "model_name": "DescriptionStyleModel",
     "state": {
      "_model_module": "@jupyter-widgets/controls",
      "_model_module_version": "1.5.0",
      "_model_name": "DescriptionStyleModel",
      "_view_count": null,
      "_view_module": "@jupyter-widgets/base",
      "_view_module_version": "1.2.0",
      "_view_name": "StyleView",
      "description_width": ""
     }
    },
    "c29385d218d9489bb2b72974c85f654d": {
     "model_module": "@jupyter-widgets/controls",
     "model_module_version": "1.5.0",
     "model_name": "HBoxModel",
     "state": {
      "_dom_classes": [],
      "_model_module": "@jupyter-widgets/controls",
      "_model_module_version": "1.5.0",
      "_model_name": "HBoxModel",
      "_view_count": null,
      "_view_module": "@jupyter-widgets/controls",
      "_view_module_version": "1.5.0",
      "_view_name": "HBoxView",
      "box_style": "",
      "children": [
       "IPY_MODEL_0388be544f64425990ae4ad81852f13f",
       "IPY_MODEL_79b9ae97c0404fd1b9dac832e8adf587",
       "IPY_MODEL_5230d221e600472f9a0f10f473ab7281"
      ],
      "layout": "IPY_MODEL_0e0ca96bb1964380b7cb64fec3c17ddb"
     }
    },
    "c3f39fc6dda546c089a7d5d01c1e34ee": {
     "model_module": "@jupyter-widgets/base",
     "model_module_version": "1.2.0",
     "model_name": "LayoutModel",
     "state": {
      "_model_module": "@jupyter-widgets/base",
      "_model_module_version": "1.2.0",
      "_model_name": "LayoutModel",
      "_view_count": null,
      "_view_module": "@jupyter-widgets/base",
      "_view_module_version": "1.2.0",
      "_view_name": "LayoutView",
      "align_content": null,
      "align_items": null,
      "align_self": null,
      "border": null,
      "bottom": null,
      "display": null,
      "flex": null,
      "flex_flow": null,
      "grid_area": null,
      "grid_auto_columns": null,
      "grid_auto_flow": null,
      "grid_auto_rows": null,
      "grid_column": null,
      "grid_gap": null,
      "grid_row": null,
      "grid_template_areas": null,
      "grid_template_columns": null,
      "grid_template_rows": null,
      "height": null,
      "justify_content": null,
      "justify_items": null,
      "left": null,
      "margin": null,
      "max_height": null,
      "max_width": null,
      "min_height": null,
      "min_width": null,
      "object_fit": null,
      "object_position": null,
      "order": null,
      "overflow": null,
      "overflow_x": null,
      "overflow_y": null,
      "padding": null,
      "right": null,
      "top": null,
      "visibility": null,
      "width": null
     }
    },
    "c427769823ce4de2945c058d2f970b85": {
     "model_module": "@jupyter-widgets/controls",
     "model_module_version": "1.5.0",
     "model_name": "HBoxModel",
     "state": {
      "_dom_classes": [],
      "_model_module": "@jupyter-widgets/controls",
      "_model_module_version": "1.5.0",
      "_model_name": "HBoxModel",
      "_view_count": null,
      "_view_module": "@jupyter-widgets/controls",
      "_view_module_version": "1.5.0",
      "_view_name": "HBoxView",
      "box_style": "",
      "children": [
       "IPY_MODEL_115ca8cac4ae4507952bde08280b87bb",
       "IPY_MODEL_9deebbc6d0404212b430d49bf83f6e79",
       "IPY_MODEL_3e4e8f55d23b430eb6ac401bacd868d9"
      ],
      "layout": "IPY_MODEL_dbddbf70958b49f193e58fa585345cd5"
     }
    },
    "c53c6964330c4347b1deb35f130858c1": {
     "model_module": "@jupyter-widgets/base",
     "model_module_version": "1.2.0",
     "model_name": "LayoutModel",
     "state": {
      "_model_module": "@jupyter-widgets/base",
      "_model_module_version": "1.2.0",
      "_model_name": "LayoutModel",
      "_view_count": null,
      "_view_module": "@jupyter-widgets/base",
      "_view_module_version": "1.2.0",
      "_view_name": "LayoutView",
      "align_content": null,
      "align_items": null,
      "align_self": null,
      "border": null,
      "bottom": null,
      "display": null,
      "flex": null,
      "flex_flow": null,
      "grid_area": null,
      "grid_auto_columns": null,
      "grid_auto_flow": null,
      "grid_auto_rows": null,
      "grid_column": null,
      "grid_gap": null,
      "grid_row": null,
      "grid_template_areas": null,
      "grid_template_columns": null,
      "grid_template_rows": null,
      "height": null,
      "justify_content": null,
      "justify_items": null,
      "left": null,
      "margin": null,
      "max_height": null,
      "max_width": null,
      "min_height": null,
      "min_width": null,
      "object_fit": null,
      "object_position": null,
      "order": null,
      "overflow": null,
      "overflow_x": null,
      "overflow_y": null,
      "padding": null,
      "right": null,
      "top": null,
      "visibility": null,
      "width": null
     }
    },
    "c540f5ff38454abb946ef1879a09efc0": {
     "model_module": "@jupyter-widgets/base",
     "model_module_version": "1.2.0",
     "model_name": "LayoutModel",
     "state": {
      "_model_module": "@jupyter-widgets/base",
      "_model_module_version": "1.2.0",
      "_model_name": "LayoutModel",
      "_view_count": null,
      "_view_module": "@jupyter-widgets/base",
      "_view_module_version": "1.2.0",
      "_view_name": "LayoutView",
      "align_content": null,
      "align_items": null,
      "align_self": null,
      "border": null,
      "bottom": null,
      "display": null,
      "flex": null,
      "flex_flow": null,
      "grid_area": null,
      "grid_auto_columns": null,
      "grid_auto_flow": null,
      "grid_auto_rows": null,
      "grid_column": null,
      "grid_gap": null,
      "grid_row": null,
      "grid_template_areas": null,
      "grid_template_columns": null,
      "grid_template_rows": null,
      "height": null,
      "justify_content": null,
      "justify_items": null,
      "left": null,
      "margin": null,
      "max_height": null,
      "max_width": null,
      "min_height": null,
      "min_width": null,
      "object_fit": null,
      "object_position": null,
      "order": null,
      "overflow": null,
      "overflow_x": null,
      "overflow_y": null,
      "padding": null,
      "right": null,
      "top": null,
      "visibility": null,
      "width": null
     }
    },
    "c57f4dfdc0714fa5a3a3eadee705fe64": {
     "model_module": "@jupyter-widgets/controls",
     "model_module_version": "1.5.0",
     "model_name": "ProgressStyleModel",
     "state": {
      "_model_module": "@jupyter-widgets/controls",
      "_model_module_version": "1.5.0",
      "_model_name": "ProgressStyleModel",
      "_view_count": null,
      "_view_module": "@jupyter-widgets/base",
      "_view_module_version": "1.2.0",
      "_view_name": "StyleView",
      "bar_color": null,
      "description_width": ""
     }
    },
    "c5c03fd63fd547f4a3107c3f044f7a0e": {
     "model_module": "@jupyter-widgets/controls",
     "model_module_version": "1.5.0",
     "model_name": "HTMLModel",
     "state": {
      "_dom_classes": [],
      "_model_module": "@jupyter-widgets/controls",
      "_model_module_version": "1.5.0",
      "_model_name": "HTMLModel",
      "_view_count": null,
      "_view_module": "@jupyter-widgets/controls",
      "_view_module_version": "1.5.0",
      "_view_name": "HTMLView",
      "description": "",
      "description_tooltip": null,
      "layout": "IPY_MODEL_2208d40aae5d438193def42fe87231d4",
      "placeholder": "​",
      "style": "IPY_MODEL_53ddefeab32744cf83455f17422f0975",
      "value": "Downloading: 100%"
     }
    },
    "c767d955455440bea918d6d1b13d7886": {
     "model_module": "@jupyter-widgets/controls",
     "model_module_version": "1.5.0",
     "model_name": "HBoxModel",
     "state": {
      "_dom_classes": [],
      "_model_module": "@jupyter-widgets/controls",
      "_model_module_version": "1.5.0",
      "_model_name": "HBoxModel",
      "_view_count": null,
      "_view_module": "@jupyter-widgets/controls",
      "_view_module_version": "1.5.0",
      "_view_name": "HBoxView",
      "box_style": "",
      "children": [
       "IPY_MODEL_81061024c3914a94b9e6742bec8c81c8",
       "IPY_MODEL_2ca753c2ae5e4d58b6a973c04033ab54",
       "IPY_MODEL_bebe1a3e84aa4ec6b3e0f1e3f59e74cc"
      ],
      "layout": "IPY_MODEL_ac4f852a824d4c1d883aaf537566ffa3"
     }
    },
    "c7cb9c0ad241456eaf930e27f0dc5e2b": {
     "model_module": "@jupyter-widgets/controls",
     "model_module_version": "1.5.0",
     "model_name": "ButtonStyleModel",
     "state": {
      "_model_module": "@jupyter-widgets/controls",
      "_model_module_version": "1.5.0",
      "_model_name": "ButtonStyleModel",
      "_view_count": null,
      "_view_module": "@jupyter-widgets/base",
      "_view_module_version": "1.2.0",
      "_view_name": "StyleView",
      "button_color": null,
      "font_weight": ""
     }
    },
    "c90e42275a8c41dd9c319eb79dd869b2": {
     "model_module": "@jupyter-widgets/base",
     "model_module_version": "1.2.0",
     "model_name": "LayoutModel",
     "state": {
      "_model_module": "@jupyter-widgets/base",
      "_model_module_version": "1.2.0",
      "_model_name": "LayoutModel",
      "_view_count": null,
      "_view_module": "@jupyter-widgets/base",
      "_view_module_version": "1.2.0",
      "_view_name": "LayoutView",
      "align_content": null,
      "align_items": null,
      "align_self": null,
      "border": null,
      "bottom": null,
      "display": null,
      "flex": null,
      "flex_flow": null,
      "grid_area": null,
      "grid_auto_columns": null,
      "grid_auto_flow": null,
      "grid_auto_rows": null,
      "grid_column": null,
      "grid_gap": null,
      "grid_row": null,
      "grid_template_areas": null,
      "grid_template_columns": null,
      "grid_template_rows": null,
      "height": null,
      "justify_content": null,
      "justify_items": null,
      "left": null,
      "margin": null,
      "max_height": null,
      "max_width": null,
      "min_height": null,
      "min_width": null,
      "object_fit": null,
      "object_position": null,
      "order": null,
      "overflow": null,
      "overflow_x": null,
      "overflow_y": null,
      "padding": null,
      "right": null,
      "top": null,
      "visibility": null,
      "width": null
     }
    },
    "c985e18fc9ba4dc3b46bd042a3221316": {
     "model_module": "@jupyter-widgets/controls",
     "model_module_version": "1.5.0",
     "model_name": "HTMLModel",
     "state": {
      "_dom_classes": [],
      "_model_module": "@jupyter-widgets/controls",
      "_model_module_version": "1.5.0",
      "_model_name": "HTMLModel",
      "_view_count": null,
      "_view_module": "@jupyter-widgets/controls",
      "_view_module_version": "1.5.0",
      "_view_name": "HTMLView",
      "description": "",
      "description_tooltip": null,
      "layout": "IPY_MODEL_f7dc79bfaba747868a6f73957af003d7",
      "placeholder": "​",
      "style": "IPY_MODEL_1aedfb75caf044309fb23e7d5295fdfe",
      "value": " 1/1 [00:00&lt;00:00, 18.45ba/s]"
     }
    },
    "ca08a45ec3fd4c288a570c27fec01ccd": {
     "model_module": "@jupyter-widgets/controls",
     "model_module_version": "1.5.0",
     "model_name": "FloatProgressModel",
     "state": {
      "_dom_classes": [],
      "_model_module": "@jupyter-widgets/controls",
      "_model_module_version": "1.5.0",
      "_model_name": "FloatProgressModel",
      "_view_count": null,
      "_view_module": "@jupyter-widgets/controls",
      "_view_module_version": "1.5.0",
      "_view_name": "ProgressView",
      "bar_style": "success",
      "description": "",
      "description_tooltip": null,
      "layout": "IPY_MODEL_8f9dbce347da430a9ca789710b69cfff",
      "max": 4,
      "min": 0,
      "orientation": "horizontal",
      "style": "IPY_MODEL_0fcfa443d82f43069a8868fa777c9d68",
      "value": 4
     }
    },
    "ca295aa3717d4e05a32c9610f42c78e5": {
     "model_module": "@jupyter-widgets/base",
     "model_module_version": "1.2.0",
     "model_name": "LayoutModel",
     "state": {
      "_model_module": "@jupyter-widgets/base",
      "_model_module_version": "1.2.0",
      "_model_name": "LayoutModel",
      "_view_count": null,
      "_view_module": "@jupyter-widgets/base",
      "_view_module_version": "1.2.0",
      "_view_name": "LayoutView",
      "align_content": null,
      "align_items": null,
      "align_self": null,
      "border": null,
      "bottom": null,
      "display": null,
      "flex": null,
      "flex_flow": null,
      "grid_area": null,
      "grid_auto_columns": null,
      "grid_auto_flow": null,
      "grid_auto_rows": null,
      "grid_column": null,
      "grid_gap": null,
      "grid_row": null,
      "grid_template_areas": null,
      "grid_template_columns": null,
      "grid_template_rows": null,
      "height": null,
      "justify_content": null,
      "justify_items": null,
      "left": null,
      "margin": null,
      "max_height": null,
      "max_width": null,
      "min_height": null,
      "min_width": null,
      "object_fit": null,
      "object_position": null,
      "order": null,
      "overflow": null,
      "overflow_x": null,
      "overflow_y": null,
      "padding": null,
      "right": null,
      "top": null,
      "visibility": null,
      "width": "20px"
     }
    },
    "cb2948a221cf4451a40f48c35524e463": {
     "model_module": "@jupyter-widgets/base",
     "model_module_version": "1.2.0",
     "model_name": "LayoutModel",
     "state": {
      "_model_module": "@jupyter-widgets/base",
      "_model_module_version": "1.2.0",
      "_model_name": "LayoutModel",
      "_view_count": null,
      "_view_module": "@jupyter-widgets/base",
      "_view_module_version": "1.2.0",
      "_view_name": "LayoutView",
      "align_content": null,
      "align_items": null,
      "align_self": null,
      "border": null,
      "bottom": null,
      "display": null,
      "flex": null,
      "flex_flow": null,
      "grid_area": null,
      "grid_auto_columns": null,
      "grid_auto_flow": null,
      "grid_auto_rows": null,
      "grid_column": null,
      "grid_gap": null,
      "grid_row": null,
      "grid_template_areas": null,
      "grid_template_columns": null,
      "grid_template_rows": null,
      "height": null,
      "justify_content": null,
      "justify_items": null,
      "left": null,
      "margin": null,
      "max_height": null,
      "max_width": null,
      "min_height": null,
      "min_width": null,
      "object_fit": null,
      "object_position": null,
      "order": null,
      "overflow": null,
      "overflow_x": null,
      "overflow_y": null,
      "padding": null,
      "right": null,
      "top": null,
      "visibility": null,
      "width": null
     }
    },
    "cbcb2296eb644b419e8f5a165e65ae8d": {
     "model_module": "@jupyter-widgets/controls",
     "model_module_version": "1.5.0",
     "model_name": "DescriptionStyleModel",
     "state": {
      "_model_module": "@jupyter-widgets/controls",
      "_model_module_version": "1.5.0",
      "_model_name": "DescriptionStyleModel",
      "_view_count": null,
      "_view_module": "@jupyter-widgets/base",
      "_view_module_version": "1.2.0",
      "_view_name": "StyleView",
      "description_width": ""
     }
    },
    "cc9e383a0522479e879ef193fd0f6be9": {
     "model_module": "@jupyter-widgets/controls",
     "model_module_version": "1.5.0",
     "model_name": "DescriptionStyleModel",
     "state": {
      "_model_module": "@jupyter-widgets/controls",
      "_model_module_version": "1.5.0",
      "_model_name": "DescriptionStyleModel",
      "_view_count": null,
      "_view_module": "@jupyter-widgets/base",
      "_view_module_version": "1.2.0",
      "_view_name": "StyleView",
      "description_width": ""
     }
    },
    "ccf733114f814e2bb2a131be50088256": {
     "model_module": "@jupyter-widgets/controls",
     "model_module_version": "1.5.0",
     "model_name": "ProgressStyleModel",
     "state": {
      "_model_module": "@jupyter-widgets/controls",
      "_model_module_version": "1.5.0",
      "_model_name": "ProgressStyleModel",
      "_view_count": null,
      "_view_module": "@jupyter-widgets/base",
      "_view_module_version": "1.2.0",
      "_view_name": "StyleView",
      "bar_color": null,
      "description_width": ""
     }
    },
    "cdb5b32f87f8427dadf9d47aa79c4f69": {
     "model_module": "@jupyter-widgets/base",
     "model_module_version": "1.2.0",
     "model_name": "LayoutModel",
     "state": {
      "_model_module": "@jupyter-widgets/base",
      "_model_module_version": "1.2.0",
      "_model_name": "LayoutModel",
      "_view_count": null,
      "_view_module": "@jupyter-widgets/base",
      "_view_module_version": "1.2.0",
      "_view_name": "LayoutView",
      "align_content": null,
      "align_items": null,
      "align_self": null,
      "border": null,
      "bottom": null,
      "display": null,
      "flex": null,
      "flex_flow": null,
      "grid_area": null,
      "grid_auto_columns": null,
      "grid_auto_flow": null,
      "grid_auto_rows": null,
      "grid_column": null,
      "grid_gap": null,
      "grid_row": null,
      "grid_template_areas": null,
      "grid_template_columns": null,
      "grid_template_rows": null,
      "height": null,
      "justify_content": null,
      "justify_items": null,
      "left": null,
      "margin": null,
      "max_height": null,
      "max_width": null,
      "min_height": null,
      "min_width": null,
      "object_fit": null,
      "object_position": null,
      "order": null,
      "overflow": null,
      "overflow_x": null,
      "overflow_y": null,
      "padding": null,
      "right": null,
      "top": null,
      "visibility": null,
      "width": null
     }
    },
    "cde64a08d3924c78aae246f83a991ccf": {
     "model_module": "@jupyter-widgets/base",
     "model_module_version": "1.2.0",
     "model_name": "LayoutModel",
     "state": {
      "_model_module": "@jupyter-widgets/base",
      "_model_module_version": "1.2.0",
      "_model_name": "LayoutModel",
      "_view_count": null,
      "_view_module": "@jupyter-widgets/base",
      "_view_module_version": "1.2.0",
      "_view_name": "LayoutView",
      "align_content": null,
      "align_items": null,
      "align_self": null,
      "border": null,
      "bottom": null,
      "display": null,
      "flex": null,
      "flex_flow": null,
      "grid_area": null,
      "grid_auto_columns": null,
      "grid_auto_flow": null,
      "grid_auto_rows": null,
      "grid_column": null,
      "grid_gap": null,
      "grid_row": null,
      "grid_template_areas": null,
      "grid_template_columns": null,
      "grid_template_rows": null,
      "height": null,
      "justify_content": null,
      "justify_items": null,
      "left": null,
      "margin": null,
      "max_height": null,
      "max_width": null,
      "min_height": null,
      "min_width": null,
      "object_fit": null,
      "object_position": null,
      "order": null,
      "overflow": null,
      "overflow_x": null,
      "overflow_y": null,
      "padding": null,
      "right": null,
      "top": null,
      "visibility": null,
      "width": null
     }
    },
    "cf2c234713874fd68f1fe6a3d51e51ac": {
     "model_module": "@jupyter-widgets/controls",
     "model_module_version": "1.5.0",
     "model_name": "ProgressStyleModel",
     "state": {
      "_model_module": "@jupyter-widgets/controls",
      "_model_module_version": "1.5.0",
      "_model_name": "ProgressStyleModel",
      "_view_count": null,
      "_view_module": "@jupyter-widgets/base",
      "_view_module_version": "1.2.0",
      "_view_name": "StyleView",
      "bar_color": null,
      "description_width": ""
     }
    },
    "cf4fda78e5174589b8de6253dfb12082": {
     "model_module": "@jupyter-widgets/base",
     "model_module_version": "1.2.0",
     "model_name": "LayoutModel",
     "state": {
      "_model_module": "@jupyter-widgets/base",
      "_model_module_version": "1.2.0",
      "_model_name": "LayoutModel",
      "_view_count": null,
      "_view_module": "@jupyter-widgets/base",
      "_view_module_version": "1.2.0",
      "_view_name": "LayoutView",
      "align_content": null,
      "align_items": null,
      "align_self": null,
      "border": null,
      "bottom": null,
      "display": null,
      "flex": null,
      "flex_flow": null,
      "grid_area": null,
      "grid_auto_columns": null,
      "grid_auto_flow": null,
      "grid_auto_rows": null,
      "grid_column": null,
      "grid_gap": null,
      "grid_row": null,
      "grid_template_areas": null,
      "grid_template_columns": null,
      "grid_template_rows": null,
      "height": null,
      "justify_content": null,
      "justify_items": null,
      "left": null,
      "margin": null,
      "max_height": null,
      "max_width": null,
      "min_height": null,
      "min_width": null,
      "object_fit": null,
      "object_position": null,
      "order": null,
      "overflow": null,
      "overflow_x": null,
      "overflow_y": null,
      "padding": null,
      "right": null,
      "top": null,
      "visibility": null,
      "width": null
     }
    },
    "d04f00cc232d4bd99e565df3df5777af": {
     "model_module": "@jupyter-widgets/base",
     "model_module_version": "1.2.0",
     "model_name": "LayoutModel",
     "state": {
      "_model_module": "@jupyter-widgets/base",
      "_model_module_version": "1.2.0",
      "_model_name": "LayoutModel",
      "_view_count": null,
      "_view_module": "@jupyter-widgets/base",
      "_view_module_version": "1.2.0",
      "_view_name": "LayoutView",
      "align_content": null,
      "align_items": null,
      "align_self": null,
      "border": null,
      "bottom": null,
      "display": null,
      "flex": null,
      "flex_flow": null,
      "grid_area": null,
      "grid_auto_columns": null,
      "grid_auto_flow": null,
      "grid_auto_rows": null,
      "grid_column": null,
      "grid_gap": null,
      "grid_row": null,
      "grid_template_areas": null,
      "grid_template_columns": null,
      "grid_template_rows": null,
      "height": null,
      "justify_content": null,
      "justify_items": null,
      "left": null,
      "margin": null,
      "max_height": null,
      "max_width": null,
      "min_height": null,
      "min_width": null,
      "object_fit": null,
      "object_position": null,
      "order": null,
      "overflow": null,
      "overflow_x": null,
      "overflow_y": null,
      "padding": null,
      "right": null,
      "top": null,
      "visibility": null,
      "width": null
     }
    },
    "d164217ca0554788871a56dc1507d533": {
     "model_module": "@jupyter-widgets/base",
     "model_module_version": "1.2.0",
     "model_name": "LayoutModel",
     "state": {
      "_model_module": "@jupyter-widgets/base",
      "_model_module_version": "1.2.0",
      "_model_name": "LayoutModel",
      "_view_count": null,
      "_view_module": "@jupyter-widgets/base",
      "_view_module_version": "1.2.0",
      "_view_name": "LayoutView",
      "align_content": null,
      "align_items": null,
      "align_self": null,
      "border": null,
      "bottom": null,
      "display": null,
      "flex": null,
      "flex_flow": null,
      "grid_area": null,
      "grid_auto_columns": null,
      "grid_auto_flow": null,
      "grid_auto_rows": null,
      "grid_column": null,
      "grid_gap": null,
      "grid_row": null,
      "grid_template_areas": null,
      "grid_template_columns": null,
      "grid_template_rows": null,
      "height": null,
      "justify_content": null,
      "justify_items": null,
      "left": null,
      "margin": null,
      "max_height": null,
      "max_width": null,
      "min_height": null,
      "min_width": null,
      "object_fit": null,
      "object_position": null,
      "order": null,
      "overflow": null,
      "overflow_x": null,
      "overflow_y": null,
      "padding": null,
      "right": null,
      "top": null,
      "visibility": null,
      "width": null
     }
    },
    "d283f07ab9e64c6eb75ea86d1a88285d": {
     "model_module": "@jupyter-widgets/controls",
     "model_module_version": "1.5.0",
     "model_name": "ProgressStyleModel",
     "state": {
      "_model_module": "@jupyter-widgets/controls",
      "_model_module_version": "1.5.0",
      "_model_name": "ProgressStyleModel",
      "_view_count": null,
      "_view_module": "@jupyter-widgets/base",
      "_view_module_version": "1.2.0",
      "_view_name": "StyleView",
      "bar_color": null,
      "description_width": ""
     }
    },
    "d908994959124dd7ad221fdf03ec6a66": {
     "model_module": "@jupyter-widgets/controls",
     "model_module_version": "1.5.0",
     "model_name": "FloatProgressModel",
     "state": {
      "_dom_classes": [],
      "_model_module": "@jupyter-widgets/controls",
      "_model_module_version": "1.5.0",
      "_model_name": "FloatProgressModel",
      "_view_count": null,
      "_view_module": "@jupyter-widgets/controls",
      "_view_module_version": "1.5.0",
      "_view_name": "ProgressView",
      "bar_style": "success",
      "description": "",
      "description_tooltip": null,
      "layout": "IPY_MODEL_bd1161ab6b7d405abbc031cb4c099032",
      "max": 3478,
      "min": 0,
      "orientation": "horizontal",
      "style": "IPY_MODEL_c57f4dfdc0714fa5a3a3eadee705fe64",
      "value": 3478
     }
    },
    "d9676175afcc4be889cb4e4bdc1ae3d8": {
     "model_module": "@jupyter-widgets/controls",
     "model_module_version": "1.5.0",
     "model_name": "ProgressStyleModel",
     "state": {
      "_model_module": "@jupyter-widgets/controls",
      "_model_module_version": "1.5.0",
      "_model_name": "ProgressStyleModel",
      "_view_count": null,
      "_view_module": "@jupyter-widgets/base",
      "_view_module_version": "1.2.0",
      "_view_name": "StyleView",
      "bar_color": null,
      "description_width": ""
     }
    },
    "d9e69dc9962c4519a7ac0cbc7928769b": {
     "model_module": "@jupyter-widgets/base",
     "model_module_version": "1.2.0",
     "model_name": "LayoutModel",
     "state": {
      "_model_module": "@jupyter-widgets/base",
      "_model_module_version": "1.2.0",
      "_model_name": "LayoutModel",
      "_view_count": null,
      "_view_module": "@jupyter-widgets/base",
      "_view_module_version": "1.2.0",
      "_view_name": "LayoutView",
      "align_content": null,
      "align_items": null,
      "align_self": null,
      "border": null,
      "bottom": null,
      "display": null,
      "flex": null,
      "flex_flow": null,
      "grid_area": null,
      "grid_auto_columns": null,
      "grid_auto_flow": null,
      "grid_auto_rows": null,
      "grid_column": null,
      "grid_gap": null,
      "grid_row": null,
      "grid_template_areas": null,
      "grid_template_columns": null,
      "grid_template_rows": null,
      "height": null,
      "justify_content": null,
      "justify_items": null,
      "left": null,
      "margin": null,
      "max_height": null,
      "max_width": null,
      "min_height": null,
      "min_width": null,
      "object_fit": null,
      "object_position": null,
      "order": null,
      "overflow": null,
      "overflow_x": null,
      "overflow_y": null,
      "padding": null,
      "right": null,
      "top": null,
      "visibility": null,
      "width": null
     }
    },
    "da8caad82f0b42c58df182462334467c": {
     "model_module": "@jupyter-widgets/controls",
     "model_module_version": "1.5.0",
     "model_name": "DescriptionStyleModel",
     "state": {
      "_model_module": "@jupyter-widgets/controls",
      "_model_module_version": "1.5.0",
      "_model_name": "DescriptionStyleModel",
      "_view_count": null,
      "_view_module": "@jupyter-widgets/base",
      "_view_module_version": "1.2.0",
      "_view_name": "StyleView",
      "description_width": ""
     }
    },
    "db26fa04110b4580be44e103aead0704": {
     "model_module": "@jupyter-widgets/controls",
     "model_module_version": "1.5.0",
     "model_name": "DescriptionStyleModel",
     "state": {
      "_model_module": "@jupyter-widgets/controls",
      "_model_module_version": "1.5.0",
      "_model_name": "DescriptionStyleModel",
      "_view_count": null,
      "_view_module": "@jupyter-widgets/base",
      "_view_module_version": "1.2.0",
      "_view_name": "StyleView",
      "description_width": ""
     }
    },
    "db3930e0cd76449fac09a593ad73824c": {
     "model_module": "@jupyter-widgets/controls",
     "model_module_version": "1.5.0",
     "model_name": "DescriptionStyleModel",
     "state": {
      "_model_module": "@jupyter-widgets/controls",
      "_model_module_version": "1.5.0",
      "_model_name": "DescriptionStyleModel",
      "_view_count": null,
      "_view_module": "@jupyter-widgets/base",
      "_view_module_version": "1.2.0",
      "_view_name": "StyleView",
      "description_width": ""
     }
    },
    "dbddbf70958b49f193e58fa585345cd5": {
     "model_module": "@jupyter-widgets/base",
     "model_module_version": "1.2.0",
     "model_name": "LayoutModel",
     "state": {
      "_model_module": "@jupyter-widgets/base",
      "_model_module_version": "1.2.0",
      "_model_name": "LayoutModel",
      "_view_count": null,
      "_view_module": "@jupyter-widgets/base",
      "_view_module_version": "1.2.0",
      "_view_name": "LayoutView",
      "align_content": null,
      "align_items": null,
      "align_self": null,
      "border": null,
      "bottom": null,
      "display": null,
      "flex": null,
      "flex_flow": null,
      "grid_area": null,
      "grid_auto_columns": null,
      "grid_auto_flow": null,
      "grid_auto_rows": null,
      "grid_column": null,
      "grid_gap": null,
      "grid_row": null,
      "grid_template_areas": null,
      "grid_template_columns": null,
      "grid_template_rows": null,
      "height": null,
      "justify_content": null,
      "justify_items": null,
      "left": null,
      "margin": null,
      "max_height": null,
      "max_width": null,
      "min_height": null,
      "min_width": null,
      "object_fit": null,
      "object_position": null,
      "order": null,
      "overflow": null,
      "overflow_x": null,
      "overflow_y": null,
      "padding": null,
      "right": null,
      "top": null,
      "visibility": null,
      "width": null
     }
    },
    "dc92d2150ff34cf8868be72b5161ce39": {
     "model_module": "@jupyter-widgets/controls",
     "model_module_version": "1.5.0",
     "model_name": "HTMLModel",
     "state": {
      "_dom_classes": [],
      "_model_module": "@jupyter-widgets/controls",
      "_model_module_version": "1.5.0",
      "_model_name": "HTMLModel",
      "_view_count": null,
      "_view_module": "@jupyter-widgets/controls",
      "_view_module_version": "1.5.0",
      "_view_name": "HTMLView",
      "description": "",
      "description_tooltip": null,
      "layout": "IPY_MODEL_961fd7fc9f374476820434f25f68675d",
      "placeholder": "​",
      "style": "IPY_MODEL_792b4c299fc84011b767b130dc63d7cd",
      "value": ""
     }
    },
    "de6f408e141441a8b1ac24ab0f044c67": {
     "model_module": "@jupyter-widgets/base",
     "model_module_version": "1.2.0",
     "model_name": "LayoutModel",
     "state": {
      "_model_module": "@jupyter-widgets/base",
      "_model_module_version": "1.2.0",
      "_model_name": "LayoutModel",
      "_view_count": null,
      "_view_module": "@jupyter-widgets/base",
      "_view_module_version": "1.2.0",
      "_view_name": "LayoutView",
      "align_content": null,
      "align_items": "center",
      "align_self": null,
      "border": null,
      "bottom": null,
      "display": "flex",
      "flex": null,
      "flex_flow": "column",
      "grid_area": null,
      "grid_auto_columns": null,
      "grid_auto_flow": null,
      "grid_auto_rows": null,
      "grid_column": null,
      "grid_gap": null,
      "grid_row": null,
      "grid_template_areas": null,
      "grid_template_columns": null,
      "grid_template_rows": null,
      "height": null,
      "justify_content": null,
      "justify_items": null,
      "left": null,
      "margin": null,
      "max_height": null,
      "max_width": null,
      "min_height": null,
      "min_width": null,
      "object_fit": null,
      "object_position": null,
      "order": null,
      "overflow": null,
      "overflow_x": null,
      "overflow_y": null,
      "padding": null,
      "right": null,
      "top": null,
      "visibility": null,
      "width": "50%"
     }
    },
    "e1065b61a55a42d8a09de2a1ad9472cf": {
     "model_module": "@jupyter-widgets/controls",
     "model_module_version": "1.5.0",
     "model_name": "DescriptionStyleModel",
     "state": {
      "_model_module": "@jupyter-widgets/controls",
      "_model_module_version": "1.5.0",
      "_model_name": "DescriptionStyleModel",
      "_view_count": null,
      "_view_module": "@jupyter-widgets/base",
      "_view_module_version": "1.2.0",
      "_view_name": "StyleView",
      "description_width": ""
     }
    },
    "e274ddf4aee445f7be1e3e71b5752abb": {
     "model_module": "@jupyter-widgets/controls",
     "model_module_version": "1.5.0",
     "model_name": "HBoxModel",
     "state": {
      "_dom_classes": [],
      "_model_module": "@jupyter-widgets/controls",
      "_model_module_version": "1.5.0",
      "_model_name": "HBoxModel",
      "_view_count": null,
      "_view_module": "@jupyter-widgets/controls",
      "_view_module_version": "1.5.0",
      "_view_name": "HBoxView",
      "box_style": "",
      "children": [
       "IPY_MODEL_7e18baa5483b4c91b436e35f8e672366",
       "IPY_MODEL_7c59acd30b80478a8b560e786957d47c",
       "IPY_MODEL_43e82786d121430bbf56c616a21a0015"
      ],
      "layout": "IPY_MODEL_9d4627a0f1b44f4587eab29528087828"
     }
    },
    "e3ce3525324846c39f4d1afc79a0b983": {
     "model_module": "@jupyter-widgets/base",
     "model_module_version": "1.2.0",
     "model_name": "LayoutModel",
     "state": {
      "_model_module": "@jupyter-widgets/base",
      "_model_module_version": "1.2.0",
      "_model_name": "LayoutModel",
      "_view_count": null,
      "_view_module": "@jupyter-widgets/base",
      "_view_module_version": "1.2.0",
      "_view_name": "LayoutView",
      "align_content": null,
      "align_items": null,
      "align_self": null,
      "border": null,
      "bottom": null,
      "display": null,
      "flex": null,
      "flex_flow": null,
      "grid_area": null,
      "grid_auto_columns": null,
      "grid_auto_flow": null,
      "grid_auto_rows": null,
      "grid_column": null,
      "grid_gap": null,
      "grid_row": null,
      "grid_template_areas": null,
      "grid_template_columns": null,
      "grid_template_rows": null,
      "height": null,
      "justify_content": null,
      "justify_items": null,
      "left": null,
      "margin": null,
      "max_height": null,
      "max_width": null,
      "min_height": null,
      "min_width": null,
      "object_fit": null,
      "object_position": null,
      "order": null,
      "overflow": null,
      "overflow_x": null,
      "overflow_y": null,
      "padding": null,
      "right": null,
      "top": null,
      "visibility": null,
      "width": null
     }
    },
    "e4c23b5f491340bba207a4e02d169c63": {
     "model_module": "@jupyter-widgets/base",
     "model_module_version": "1.2.0",
     "model_name": "LayoutModel",
     "state": {
      "_model_module": "@jupyter-widgets/base",
      "_model_module_version": "1.2.0",
      "_model_name": "LayoutModel",
      "_view_count": null,
      "_view_module": "@jupyter-widgets/base",
      "_view_module_version": "1.2.0",
      "_view_name": "LayoutView",
      "align_content": null,
      "align_items": null,
      "align_self": null,
      "border": null,
      "bottom": null,
      "display": null,
      "flex": null,
      "flex_flow": null,
      "grid_area": null,
      "grid_auto_columns": null,
      "grid_auto_flow": null,
      "grid_auto_rows": null,
      "grid_column": null,
      "grid_gap": null,
      "grid_row": null,
      "grid_template_areas": null,
      "grid_template_columns": null,
      "grid_template_rows": null,
      "height": null,
      "justify_content": null,
      "justify_items": null,
      "left": null,
      "margin": null,
      "max_height": null,
      "max_width": null,
      "min_height": null,
      "min_width": null,
      "object_fit": null,
      "object_position": null,
      "order": null,
      "overflow": null,
      "overflow_x": null,
      "overflow_y": null,
      "padding": null,
      "right": null,
      "top": null,
      "visibility": null,
      "width": null
     }
    },
    "e4cc2d6a965443268891e889ebf346ac": {
     "model_module": "@jupyter-widgets/controls",
     "model_module_version": "1.5.0",
     "model_name": "DescriptionStyleModel",
     "state": {
      "_model_module": "@jupyter-widgets/controls",
      "_model_module_version": "1.5.0",
      "_model_name": "DescriptionStyleModel",
      "_view_count": null,
      "_view_module": "@jupyter-widgets/base",
      "_view_module_version": "1.2.0",
      "_view_name": "StyleView",
      "description_width": ""
     }
    },
    "e66a6dcc8f7c44558d19c8be1483a5a0": {
     "model_module": "@jupyter-widgets/controls",
     "model_module_version": "1.5.0",
     "model_name": "FloatProgressModel",
     "state": {
      "_dom_classes": [],
      "_model_module": "@jupyter-widgets/controls",
      "_model_module_version": "1.5.0",
      "_model_name": "FloatProgressModel",
      "_view_count": null,
      "_view_module": "@jupyter-widgets/controls",
      "_view_module_version": "1.5.0",
      "_view_name": "ProgressView",
      "bar_style": "success",
      "description": "",
      "description_tooltip": null,
      "layout": "IPY_MODEL_8f9e4f89e3804d6ea968ba9478bad2de",
      "max": 1,
      "min": 0,
      "orientation": "horizontal",
      "style": "IPY_MODEL_1dca44977362490597f5d7172e87eec5",
      "value": 1
     }
    },
    "e78c45c8191a438f8d8886dbfe265c2d": {
     "model_module": "@jupyter-widgets/controls",
     "model_module_version": "1.5.0",
     "model_name": "DescriptionStyleModel",
     "state": {
      "_model_module": "@jupyter-widgets/controls",
      "_model_module_version": "1.5.0",
      "_model_name": "DescriptionStyleModel",
      "_view_count": null,
      "_view_module": "@jupyter-widgets/base",
      "_view_module_version": "1.2.0",
      "_view_name": "StyleView",
      "description_width": ""
     }
    },
    "e887dd2f1a7a40daa4571914f9b1c4dc": {
     "model_module": "@jupyter-widgets/base",
     "model_module_version": "1.2.0",
     "model_name": "LayoutModel",
     "state": {
      "_model_module": "@jupyter-widgets/base",
      "_model_module_version": "1.2.0",
      "_model_name": "LayoutModel",
      "_view_count": null,
      "_view_module": "@jupyter-widgets/base",
      "_view_module_version": "1.2.0",
      "_view_name": "LayoutView",
      "align_content": null,
      "align_items": null,
      "align_self": null,
      "border": null,
      "bottom": null,
      "display": null,
      "flex": null,
      "flex_flow": null,
      "grid_area": null,
      "grid_auto_columns": null,
      "grid_auto_flow": null,
      "grid_auto_rows": null,
      "grid_column": null,
      "grid_gap": null,
      "grid_row": null,
      "grid_template_areas": null,
      "grid_template_columns": null,
      "grid_template_rows": null,
      "height": null,
      "justify_content": null,
      "justify_items": null,
      "left": null,
      "margin": null,
      "max_height": null,
      "max_width": null,
      "min_height": null,
      "min_width": null,
      "object_fit": null,
      "object_position": null,
      "order": null,
      "overflow": null,
      "overflow_x": null,
      "overflow_y": null,
      "padding": null,
      "right": null,
      "top": null,
      "visibility": null,
      "width": null
     }
    },
    "efc4b787c1c14c8c9271fca9e7145445": {
     "model_module": "@jupyter-widgets/controls",
     "model_module_version": "1.5.0",
     "model_name": "HTMLModel",
     "state": {
      "_dom_classes": [],
      "_model_module": "@jupyter-widgets/controls",
      "_model_module_version": "1.5.0",
      "_model_name": "HTMLModel",
      "_view_count": null,
      "_view_module": "@jupyter-widgets/controls",
      "_view_module_version": "1.5.0",
      "_view_name": "HTMLView",
      "description": "",
      "description_tooltip": null,
      "layout": "IPY_MODEL_c53c6964330c4347b1deb35f130858c1",
      "placeholder": "​",
      "style": "IPY_MODEL_0b6f92986c524d709e1420f3ab5fc2b2",
      "value": " 4.55k/? [00:00&lt;00:00, 79.3kB/s]"
     }
    },
    "f0d301e1b36c4a93a754b16dd64cf271": {
     "model_module": "@jupyter-widgets/controls",
     "model_module_version": "1.5.0",
     "model_name": "HTMLModel",
     "state": {
      "_dom_classes": [],
      "_model_module": "@jupyter-widgets/controls",
      "_model_module_version": "1.5.0",
      "_model_name": "HTMLModel",
      "_view_count": null,
      "_view_module": "@jupyter-widgets/controls",
      "_view_module_version": "1.5.0",
      "_view_name": "HTMLView",
      "description": "",
      "description_tooltip": null,
      "layout": "IPY_MODEL_6e7ded46ec5f48d0a0f8fc3993b95029",
      "placeholder": "​",
      "style": "IPY_MODEL_b07ada6eda9a46a4b70a3bbd7f228a51",
      "value": "100%"
     }
    },
    "f0deb25d77994209956cdca5841cbbca": {
     "model_module": "@jupyter-widgets/controls",
     "model_module_version": "1.5.0",
     "model_name": "FloatProgressModel",
     "state": {
      "_dom_classes": [],
      "_model_module": "@jupyter-widgets/controls",
      "_model_module_version": "1.5.0",
      "_model_name": "FloatProgressModel",
      "_view_count": null,
      "_view_module": "@jupyter-widgets/controls",
      "_view_module_version": "1.5.0",
      "_view_name": "ProgressView",
      "bar_style": "success",
      "description": "",
      "description_tooltip": null,
      "layout": "IPY_MODEL_381227f82d564b8c96282e7604551520",
      "max": 3478,
      "min": 0,
      "orientation": "horizontal",
      "style": "IPY_MODEL_bb9c61d9ee7c4a558df2a366e33c7488",
      "value": 3478
     }
    },
    "f18986a72cc44208b8d182dcf069742d": {
     "model_module": "@jupyter-widgets/controls",
     "model_module_version": "1.5.0",
     "model_name": "ProgressStyleModel",
     "state": {
      "_model_module": "@jupyter-widgets/controls",
      "_model_module_version": "1.5.0",
      "_model_name": "ProgressStyleModel",
      "_view_count": null,
      "_view_module": "@jupyter-widgets/base",
      "_view_module_version": "1.2.0",
      "_view_name": "StyleView",
      "bar_color": null,
      "description_width": ""
     }
    },
    "f1985d593a5d4e828615b2de008e5b10": {
     "model_module": "@jupyter-widgets/base",
     "model_module_version": "1.2.0",
     "model_name": "LayoutModel",
     "state": {
      "_model_module": "@jupyter-widgets/base",
      "_model_module_version": "1.2.0",
      "_model_name": "LayoutModel",
      "_view_count": null,
      "_view_module": "@jupyter-widgets/base",
      "_view_module_version": "1.2.0",
      "_view_name": "LayoutView",
      "align_content": null,
      "align_items": null,
      "align_self": null,
      "border": null,
      "bottom": null,
      "display": null,
      "flex": null,
      "flex_flow": null,
      "grid_area": null,
      "grid_auto_columns": null,
      "grid_auto_flow": null,
      "grid_auto_rows": null,
      "grid_column": null,
      "grid_gap": null,
      "grid_row": null,
      "grid_template_areas": null,
      "grid_template_columns": null,
      "grid_template_rows": null,
      "height": null,
      "justify_content": null,
      "justify_items": null,
      "left": null,
      "margin": null,
      "max_height": null,
      "max_width": null,
      "min_height": null,
      "min_width": null,
      "object_fit": null,
      "object_position": null,
      "order": null,
      "overflow": null,
      "overflow_x": null,
      "overflow_y": null,
      "padding": null,
      "right": null,
      "top": null,
      "visibility": null,
      "width": null
     }
    },
    "f331bce792f94c398f1c3d1096b6ee84": {
     "model_module": "@jupyter-widgets/base",
     "model_module_version": "1.2.0",
     "model_name": "LayoutModel",
     "state": {
      "_model_module": "@jupyter-widgets/base",
      "_model_module_version": "1.2.0",
      "_model_name": "LayoutModel",
      "_view_count": null,
      "_view_module": "@jupyter-widgets/base",
      "_view_module_version": "1.2.0",
      "_view_name": "LayoutView",
      "align_content": null,
      "align_items": null,
      "align_self": null,
      "border": null,
      "bottom": null,
      "display": null,
      "flex": null,
      "flex_flow": null,
      "grid_area": null,
      "grid_auto_columns": null,
      "grid_auto_flow": null,
      "grid_auto_rows": null,
      "grid_column": null,
      "grid_gap": null,
      "grid_row": null,
      "grid_template_areas": null,
      "grid_template_columns": null,
      "grid_template_rows": null,
      "height": null,
      "justify_content": null,
      "justify_items": null,
      "left": null,
      "margin": null,
      "max_height": null,
      "max_width": null,
      "min_height": null,
      "min_width": null,
      "object_fit": null,
      "object_position": null,
      "order": null,
      "overflow": null,
      "overflow_x": null,
      "overflow_y": null,
      "padding": null,
      "right": null,
      "top": null,
      "visibility": null,
      "width": null
     }
    },
    "f495666b4f3d4a81a3aa1ba5683dba6c": {
     "model_module": "@jupyter-widgets/base",
     "model_module_version": "1.2.0",
     "model_name": "LayoutModel",
     "state": {
      "_model_module": "@jupyter-widgets/base",
      "_model_module_version": "1.2.0",
      "_model_name": "LayoutModel",
      "_view_count": null,
      "_view_module": "@jupyter-widgets/base",
      "_view_module_version": "1.2.0",
      "_view_name": "LayoutView",
      "align_content": null,
      "align_items": null,
      "align_self": null,
      "border": null,
      "bottom": null,
      "display": null,
      "flex": null,
      "flex_flow": null,
      "grid_area": null,
      "grid_auto_columns": null,
      "grid_auto_flow": null,
      "grid_auto_rows": null,
      "grid_column": null,
      "grid_gap": null,
      "grid_row": null,
      "grid_template_areas": null,
      "grid_template_columns": null,
      "grid_template_rows": null,
      "height": null,
      "justify_content": null,
      "justify_items": null,
      "left": null,
      "margin": null,
      "max_height": null,
      "max_width": null,
      "min_height": null,
      "min_width": null,
      "object_fit": null,
      "object_position": null,
      "order": null,
      "overflow": null,
      "overflow_x": null,
      "overflow_y": null,
      "padding": null,
      "right": null,
      "top": null,
      "visibility": null,
      "width": null
     }
    },
    "f7dc79bfaba747868a6f73957af003d7": {
     "model_module": "@jupyter-widgets/base",
     "model_module_version": "1.2.0",
     "model_name": "LayoutModel",
     "state": {
      "_model_module": "@jupyter-widgets/base",
      "_model_module_version": "1.2.0",
      "_model_name": "LayoutModel",
      "_view_count": null,
      "_view_module": "@jupyter-widgets/base",
      "_view_module_version": "1.2.0",
      "_view_name": "LayoutView",
      "align_content": null,
      "align_items": null,
      "align_self": null,
      "border": null,
      "bottom": null,
      "display": null,
      "flex": null,
      "flex_flow": null,
      "grid_area": null,
      "grid_auto_columns": null,
      "grid_auto_flow": null,
      "grid_auto_rows": null,
      "grid_column": null,
      "grid_gap": null,
      "grid_row": null,
      "grid_template_areas": null,
      "grid_template_columns": null,
      "grid_template_rows": null,
      "height": null,
      "justify_content": null,
      "justify_items": null,
      "left": null,
      "margin": null,
      "max_height": null,
      "max_width": null,
      "min_height": null,
      "min_width": null,
      "object_fit": null,
      "object_position": null,
      "order": null,
      "overflow": null,
      "overflow_x": null,
      "overflow_y": null,
      "padding": null,
      "right": null,
      "top": null,
      "visibility": null,
      "width": null
     }
    },
    "f9d2274cb2a043929e6d56e579f8968e": {
     "model_module": "@jupyter-widgets/base",
     "model_module_version": "1.2.0",
     "model_name": "LayoutModel",
     "state": {
      "_model_module": "@jupyter-widgets/base",
      "_model_module_version": "1.2.0",
      "_model_name": "LayoutModel",
      "_view_count": null,
      "_view_module": "@jupyter-widgets/base",
      "_view_module_version": "1.2.0",
      "_view_name": "LayoutView",
      "align_content": null,
      "align_items": null,
      "align_self": null,
      "border": null,
      "bottom": null,
      "display": null,
      "flex": null,
      "flex_flow": null,
      "grid_area": null,
      "grid_auto_columns": null,
      "grid_auto_flow": null,
      "grid_auto_rows": null,
      "grid_column": null,
      "grid_gap": null,
      "grid_row": null,
      "grid_template_areas": null,
      "grid_template_columns": null,
      "grid_template_rows": null,
      "height": null,
      "justify_content": null,
      "justify_items": null,
      "left": null,
      "margin": null,
      "max_height": null,
      "max_width": null,
      "min_height": null,
      "min_width": null,
      "object_fit": null,
      "object_position": null,
      "order": null,
      "overflow": null,
      "overflow_x": null,
      "overflow_y": null,
      "padding": null,
      "right": null,
      "top": null,
      "visibility": null,
      "width": "20px"
     }
    },
    "fae931f942ee40ddb8b2c40ed4bbf3ff": {
     "model_module": "@jupyter-widgets/controls",
     "model_module_version": "1.5.0",
     "model_name": "HBoxModel",
     "state": {
      "_dom_classes": [],
      "_model_module": "@jupyter-widgets/controls",
      "_model_module_version": "1.5.0",
      "_model_name": "HBoxModel",
      "_view_count": null,
      "_view_module": "@jupyter-widgets/controls",
      "_view_module_version": "1.5.0",
      "_view_name": "HBoxView",
      "box_style": "",
      "children": [
       "IPY_MODEL_544eebac204648b589d11e2c2e6ea2f6",
       "IPY_MODEL_0e8e2b30e0f34c4b998ad0e5caac9f8b",
       "IPY_MODEL_95c6db1f4f5f453c944859ca8643f62b"
      ],
      "layout": "IPY_MODEL_be9f8b0951e94b04bb03f5123403167e"
     }
    },
    "fb856bb1d925424ca2e46ebcb3fe4515": {
     "model_module": "@jupyter-widgets/base",
     "model_module_version": "1.2.0",
     "model_name": "LayoutModel",
     "state": {
      "_model_module": "@jupyter-widgets/base",
      "_model_module_version": "1.2.0",
      "_model_name": "LayoutModel",
      "_view_count": null,
      "_view_module": "@jupyter-widgets/base",
      "_view_module_version": "1.2.0",
      "_view_name": "LayoutView",
      "align_content": null,
      "align_items": null,
      "align_self": null,
      "border": null,
      "bottom": null,
      "display": null,
      "flex": null,
      "flex_flow": null,
      "grid_area": null,
      "grid_auto_columns": null,
      "grid_auto_flow": null,
      "grid_auto_rows": null,
      "grid_column": null,
      "grid_gap": null,
      "grid_row": null,
      "grid_template_areas": null,
      "grid_template_columns": null,
      "grid_template_rows": null,
      "height": null,
      "justify_content": null,
      "justify_items": null,
      "left": null,
      "margin": null,
      "max_height": null,
      "max_width": null,
      "min_height": null,
      "min_width": null,
      "object_fit": null,
      "object_position": null,
      "order": null,
      "overflow": null,
      "overflow_x": null,
      "overflow_y": null,
      "padding": null,
      "right": null,
      "top": null,
      "visibility": null,
      "width": null
     }
    },
    "fd61ae1e9af24b1c9777c543be4f7a77": {
     "model_module": "@jupyter-widgets/controls",
     "model_module_version": "1.5.0",
     "model_name": "ProgressStyleModel",
     "state": {
      "_model_module": "@jupyter-widgets/controls",
      "_model_module_version": "1.5.0",
      "_model_name": "ProgressStyleModel",
      "_view_count": null,
      "_view_module": "@jupyter-widgets/base",
      "_view_module_version": "1.2.0",
      "_view_name": "StyleView",
      "bar_color": null,
      "description_width": ""
     }
    },
    "fdbc431cf6df4062ab03d0a65acd0843": {
     "model_module": "@jupyter-widgets/controls",
     "model_module_version": "1.5.0",
     "model_name": "HBoxModel",
     "state": {
      "_dom_classes": [],
      "_model_module": "@jupyter-widgets/controls",
      "_model_module_version": "1.5.0",
      "_model_name": "HBoxModel",
      "_view_count": null,
      "_view_module": "@jupyter-widgets/controls",
      "_view_module_version": "1.5.0",
      "_view_name": "HBoxView",
      "box_style": "",
      "children": [
       "IPY_MODEL_c5c03fd63fd547f4a3107c3f044f7a0e",
       "IPY_MODEL_3421c6a382d4401cb3c9104fadd37e78",
       "IPY_MODEL_7ed798c347be480d8a715c58ed033108"
      ],
      "layout": "IPY_MODEL_e4c23b5f491340bba207a4e02d169c63"
     }
    },
    "ff006623c533492691441d43b91eae51": {
     "model_module": "@jupyter-widgets/base",
     "model_module_version": "1.2.0",
     "model_name": "LayoutModel",
     "state": {
      "_model_module": "@jupyter-widgets/base",
      "_model_module_version": "1.2.0",
      "_model_name": "LayoutModel",
      "_view_count": null,
      "_view_module": "@jupyter-widgets/base",
      "_view_module_version": "1.2.0",
      "_view_name": "LayoutView",
      "align_content": null,
      "align_items": null,
      "align_self": null,
      "border": null,
      "bottom": null,
      "display": null,
      "flex": null,
      "flex_flow": null,
      "grid_area": null,
      "grid_auto_columns": null,
      "grid_auto_flow": null,
      "grid_auto_rows": null,
      "grid_column": null,
      "grid_gap": null,
      "grid_row": null,
      "grid_template_areas": null,
      "grid_template_columns": null,
      "grid_template_rows": null,
      "height": null,
      "justify_content": null,
      "justify_items": null,
      "left": null,
      "margin": null,
      "max_height": null,
      "max_width": null,
      "min_height": null,
      "min_width": null,
      "object_fit": null,
      "object_position": null,
      "order": null,
      "overflow": null,
      "overflow_x": null,
      "overflow_y": null,
      "padding": null,
      "right": null,
      "top": null,
      "visibility": null,
      "width": null
     }
    },
    "ffaa56d525c44508a3c1f0fe88319698": {
     "model_module": "@jupyter-widgets/base",
     "model_module_version": "1.2.0",
     "model_name": "LayoutModel",
     "state": {
      "_model_module": "@jupyter-widgets/base",
      "_model_module_version": "1.2.0",
      "_model_name": "LayoutModel",
      "_view_count": null,
      "_view_module": "@jupyter-widgets/base",
      "_view_module_version": "1.2.0",
      "_view_name": "LayoutView",
      "align_content": null,
      "align_items": null,
      "align_self": null,
      "border": null,
      "bottom": null,
      "display": null,
      "flex": null,
      "flex_flow": null,
      "grid_area": null,
      "grid_auto_columns": null,
      "grid_auto_flow": null,
      "grid_auto_rows": null,
      "grid_column": null,
      "grid_gap": null,
      "grid_row": null,
      "grid_template_areas": null,
      "grid_template_columns": null,
      "grid_template_rows": null,
      "height": null,
      "justify_content": null,
      "justify_items": null,
      "left": null,
      "margin": null,
      "max_height": null,
      "max_width": null,
      "min_height": null,
      "min_width": null,
      "object_fit": null,
      "object_position": null,
      "order": null,
      "overflow": null,
      "overflow_x": null,
      "overflow_y": null,
      "padding": null,
      "right": null,
      "top": null,
      "visibility": null,
      "width": null
     }
    },
    "ffb0593aacdd437493fe498481554720": {
     "model_module": "@jupyter-widgets/controls",
     "model_module_version": "1.5.0",
     "model_name": "HBoxModel",
     "state": {
      "_dom_classes": [],
      "_model_module": "@jupyter-widgets/controls",
      "_model_module_version": "1.5.0",
      "_model_name": "HBoxModel",
      "_view_count": null,
      "_view_module": "@jupyter-widgets/controls",
      "_view_module_version": "1.5.0",
      "_view_name": "HBoxView",
      "box_style": "",
      "children": [
       "IPY_MODEL_f0d301e1b36c4a93a754b16dd64cf271",
       "IPY_MODEL_05ed1b6eeb514331933cc5c331bc451d",
       "IPY_MODEL_23139c5e26f042be9fb47fff343f00c6"
      ],
      "layout": "IPY_MODEL_752b9a685bf6480ab238b58be90ca9c7"
     }
    }
   }
  }
 },
 "nbformat": 4,
 "nbformat_minor": 1
}
