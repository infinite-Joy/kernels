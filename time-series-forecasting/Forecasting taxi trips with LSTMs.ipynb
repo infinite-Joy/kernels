{
 "cells": [
  {
   "cell_type": "markdown",
   "metadata": {},
   "source": [
    "# reference https://towardsdatascience.com/time-series-in-python-part-3-forecasting-taxi-trips-with-lstms-277afd4f811"
   ]
  },
  {
   "cell_type": "code",
   "execution_count": 1,
   "metadata": {},
   "outputs": [],
   "source": [
    "def create_dataset(dataset, look_back=1, forecast_horizon=1, batch_size=1):\n",
    "    batch_x, batch_y, batch_z = [], [], []\n",
    "    for i in range(0, len(dataset)-look_back-forecast_horizon-batch_size+1, batch_size):\n",
    "        for n in range(batch_size):            \n",
    "            x = dataset[['log_counts','next_is_holiday','next_bad_weather']].values[i+n:(i + n + look_back), :]\n",
    "            offset = x[0, 0]\n",
    "            y = dataset['log_counts'].values[i + n + look_back:i + n + look_back + forecast_horizon]\n",
    "            batch_x.append(np.array(x).reshape(look_back, -1))\n",
    "            batch_y.append(np.array(y))\n",
    "            batch_z.append(np.array(offset))\n",
    "        batch_x = np.array(batch_x)\n",
    "        batch_y = np.array(batch_y)\n",
    "        batch_z = np.array(batch_z)\n",
    "        batch_x[:, :, 0] -= batch_z.reshape(-1, 1)\n",
    "        batch_y -= batch_z.reshape(-1, 1)\n",
    "        yield batch_x, batch_y, batch_z\n",
    "        batch_x, batch_y, batch_z = [], [], []"
   ]
  },
  {
   "cell_type": "code",
   "execution_count": 7,
   "metadata": {},
   "outputs": [],
   "source": [
    "import torch\n",
    "import torch.nn as nn\n",
    "import torch.nn.functional as F\n",
    "from torch.autograd import Variable\n",
    "\n",
    "class Model(nn.Module):\n",
    "    def __init__(self, config):\n",
    "        super(Model, self).__init__()\n",
    "        self.hidden_size = 128\n",
    "        self.bi = 1\n",
    "        self.lstm = nn.LSTM(config.get('features'),self.hidden_size,1,dropout=0.1,bidirectional=self.bi-1,batch_first=True)\n",
    "        self.lstm2 = nn.LSTM(self.hidden_size,self.hidden_size // 4,1,dropout=0.1,bidirectional=self.bi-1,batch_first=True)\n",
    "        self.dense = nn.Linear(self.hidden_size // 4, config.get('forecast_horizon'))\n",
    "        self.loss_fn = nn.MSELoss()\n",
    "        \n",
    "    def forward(self, x, batch_size=100):\n",
    "        hidden = self.init_hidden(batch_size)\n",
    "        output, _ = self.lstm(x, hidden)\n",
    "        output = F.dropout(output, p=0.5, training=True)\n",
    "        state = self.init_hidden2(batch_size)\n",
    "        output, state = self.lstm2(output, state)\n",
    "        output = F.dropout(output, p=0.5, training=True)\n",
    "        output = self.dense(state[0].squeeze(0))\n",
    "        \n",
    "        return output\n",
    "        \n",
    "    def init_hidden(self, batch_size):\n",
    "        h0 = Variable(torch.zeros(self.bi, batch_size, self.hidden_size))\n",
    "        c0 = Variable(torch.zeros(self.bi, batch_size, self.hidden_size))\n",
    "        return h0, c0\n",
    "    \n",
    "    def init_hidden2(self, batch_size):\n",
    "        h0 = Variable(torch.zeros(self.bi, batch_size, self.hidden_size//4))\n",
    "        c0 = Variable(torch.zeros(self.bi, batch_size, self.hidden_size//4))\n",
    "        return h0, c0\n",
    "    \n",
    "    def loss(self, pred, truth):\n",
    "        return self.loss_fn(pred, truth)"
   ]
  },
  {
   "cell_type": "code",
   "execution_count": 8,
   "metadata": {},
   "outputs": [],
   "source": [
    "# !conda install -c pytorch pytorch -y"
   ]
  },
  {
   "cell_type": "code",
   "execution_count": 9,
   "metadata": {},
   "outputs": [
    {
     "name": "stderr",
     "output_type": "stream",
     "text": [
      "/Users/joydeepbhattacharjee/miniconda3/envs/venv/lib/python3.7/site-packages/torch/nn/modules/rnn.py:50: UserWarning: dropout option adds dropout after all but last recurrent layer, so non-zero dropout expects num_layers greater than 1, but got dropout=0.1 and num_layers=1\n",
      "  \"num_layers={}\".format(dropout, num_layers))\n"
     ]
    },
    {
     "ename": "NameError",
     "evalue": "name 'df' is not defined",
     "output_type": "error",
     "traceback": [
      "\u001b[0;31m---------------------------------------------------------------------------\u001b[0m",
      "\u001b[0;31mNameError\u001b[0m                                 Traceback (most recent call last)",
      "\u001b[0;32m<ipython-input-9-4c5e56ae8ae9>\u001b[0m in \u001b[0;36m<module>\u001b[0;34m()\u001b[0m\n\u001b[1;32m     11\u001b[0m \u001b[0;32mfor\u001b[0m \u001b[0mepoch\u001b[0m \u001b[0;32min\u001b[0m \u001b[0mrange\u001b[0m\u001b[0;34m(\u001b[0m\u001b[0mn_epochs\u001b[0m\u001b[0;34m)\u001b[0m\u001b[0;34m:\u001b[0m\u001b[0;34m\u001b[0m\u001b[0;34m\u001b[0m\u001b[0m\n\u001b[1;32m     12\u001b[0m     \u001b[0mep_loss\u001b[0m \u001b[0;34m=\u001b[0m \u001b[0;34m[\u001b[0m\u001b[0;34m]\u001b[0m\u001b[0;34m\u001b[0m\u001b[0;34m\u001b[0m\u001b[0m\n\u001b[0;32m---> 13\u001b[0;31m     \u001b[0;32mfor\u001b[0m \u001b[0mi\u001b[0m\u001b[0;34m,\u001b[0m \u001b[0mbatch\u001b[0m \u001b[0;32min\u001b[0m \u001b[0menumerate\u001b[0m\u001b[0;34m(\u001b[0m\u001b[0mcreate_dataset\u001b[0m\u001b[0;34m(\u001b[0m\u001b[0mdf\u001b[0m\u001b[0;34m[\u001b[0m\u001b[0mdf\u001b[0m\u001b[0;34m.\u001b[0m\u001b[0mindex\u001b[0m\u001b[0;34m<\u001b[0m\u001b[0;34m\"2018\"\u001b[0m\u001b[0;34m]\u001b[0m\u001b[0;34m,\u001b[0m \u001b[0mlook_back\u001b[0m\u001b[0;34m=\u001b[0m\u001b[0mlook_back\u001b[0m\u001b[0;34m,\u001b[0m \u001b[0mforecast_horizon\u001b[0m\u001b[0;34m=\u001b[0m\u001b[0;36m1\u001b[0m\u001b[0;34m,\u001b[0m \u001b[0mbatch_size\u001b[0m\u001b[0;34m=\u001b[0m\u001b[0mbatch_size\u001b[0m\u001b[0;34m)\u001b[0m\u001b[0;34m)\u001b[0m\u001b[0;34m:\u001b[0m\u001b[0;34m\u001b[0m\u001b[0;34m\u001b[0m\u001b[0m\n\u001b[0m\u001b[1;32m     14\u001b[0m         \u001b[0mprint\u001b[0m\u001b[0;34m(\u001b[0m\u001b[0;34m\"[{}{}] Epoch {}: loss={:0.4f}\"\u001b[0m\u001b[0;34m.\u001b[0m\u001b[0mformat\u001b[0m\u001b[0;34m(\u001b[0m\u001b[0;34m\"-\"\u001b[0m\u001b[0;34m*\u001b[0m\u001b[0;34m(\u001b[0m\u001b[0;36m20\u001b[0m\u001b[0;34m*\u001b[0m\u001b[0mi\u001b[0m\u001b[0;34m//\u001b[0m\u001b[0;34m(\u001b[0m\u001b[0mlen\u001b[0m\u001b[0;34m(\u001b[0m\u001b[0mdf\u001b[0m\u001b[0;34m[\u001b[0m\u001b[0mdf\u001b[0m\u001b[0;34m.\u001b[0m\u001b[0mindex\u001b[0m\u001b[0;34m<\u001b[0m\u001b[0;34m\"2018\"\u001b[0m\u001b[0;34m]\u001b[0m\u001b[0;34m)\u001b[0m\u001b[0;34m//\u001b[0m\u001b[0mbatch_size\u001b[0m\u001b[0;34m)\u001b[0m\u001b[0;34m)\u001b[0m\u001b[0;34m,\u001b[0m \u001b[0;34m\" \"\u001b[0m\u001b[0;34m*\u001b[0m\u001b[0;34m(\u001b[0m\u001b[0;36m20\u001b[0m\u001b[0;34m-\u001b[0m\u001b[0;34m(\u001b[0m\u001b[0;36m20\u001b[0m\u001b[0;34m*\u001b[0m\u001b[0mi\u001b[0m\u001b[0;34m//\u001b[0m\u001b[0;34m(\u001b[0m\u001b[0mlen\u001b[0m\u001b[0;34m(\u001b[0m\u001b[0mdf\u001b[0m\u001b[0;34m[\u001b[0m\u001b[0mdf\u001b[0m\u001b[0;34m.\u001b[0m\u001b[0mindex\u001b[0m\u001b[0;34m<\u001b[0m\u001b[0;34m\"2018\"\u001b[0m\u001b[0;34m]\u001b[0m\u001b[0;34m)\u001b[0m\u001b[0;34m//\u001b[0m\u001b[0mbatch_size\u001b[0m\u001b[0;34m)\u001b[0m\u001b[0;34m)\u001b[0m\u001b[0;34m)\u001b[0m\u001b[0;34m,\u001b[0m\u001b[0mepoch\u001b[0m\u001b[0;34m,\u001b[0m \u001b[0mnp\u001b[0m\u001b[0;34m.\u001b[0m\u001b[0mmean\u001b[0m\u001b[0;34m(\u001b[0m\u001b[0mep_loss\u001b[0m\u001b[0;34m)\u001b[0m\u001b[0;34m)\u001b[0m\u001b[0;34m,\u001b[0m \u001b[0mend\u001b[0m\u001b[0;34m=\u001b[0m\u001b[0;34m\"\\r\"\u001b[0m\u001b[0;34m)\u001b[0m\u001b[0;34m\u001b[0m\u001b[0;34m\u001b[0m\u001b[0m\n\u001b[1;32m     15\u001b[0m         \u001b[0;32mtry\u001b[0m\u001b[0;34m:\u001b[0m\u001b[0;34m\u001b[0m\u001b[0;34m\u001b[0m\u001b[0m\n",
      "\u001b[0;31mNameError\u001b[0m: name 'df' is not defined"
     ]
    }
   ],
   "source": [
    "batch_size = 1\n",
    "forecast_horizon = 1\n",
    "look_back = 28\n",
    "model = Model(dict(features=3, forecast_horizon=1))\n",
    "optimizer = torch.optim.Adam(model.parameters(), lr=0.001)\n",
    "n_epochs = 5\n",
    "\n",
    "model.train()\n",
    "train_true_y = []\n",
    "train_pred_y = []\n",
    "for epoch in range(n_epochs):\n",
    "    ep_loss = []\n",
    "    for i, batch in enumerate(create_dataset(df[df.index<\"2018\"], look_back=look_back, forecast_horizon=1, batch_size=batch_size)):\n",
    "        print(\"[{}{}] Epoch {}: loss={:0.4f}\".format(\"-\"*(20*i//(len(df[df.index<\"2018\"])//batch_size)), \" \"*(20-(20*i//(len(df[df.index<\"2018\"])//batch_size))),epoch, np.mean(ep_loss)), end=\"\\r\")\n",
    "        try:\n",
    "            batch = [torch.Tensor(x) for x in batch]\n",
    "        except:\n",
    "            break\n",
    "\n",
    "        out = model.forward(batch[0].float(), batch_size)\n",
    "        loss = model.loss(out, batch[1].float())\n",
    "        if epoch == n_epochs - 1:\n",
    "            train_true_y.append((batch[1] + batch[2]).detach().numpy().reshape(-1))\n",
    "            train_pred_y.append((out + batch[2]).detach().numpy().reshape(-1))\n",
    "        optimizer.zero_grad()\n",
    "        loss.backward()\n",
    "        optimizer.step()\n",
    "        ep_loss.append(loss.item())\n",
    "    print()"
   ]
  },
  {
   "cell_type": "code",
   "execution_count": null,
   "metadata": {},
   "outputs": [],
   "source": []
  }
 ],
 "metadata": {
  "kernelspec": {
   "display_name": "Python 3",
   "language": "python",
   "name": "python3"
  },
  "language_info": {
   "codemirror_mode": {
    "name": "ipython",
    "version": 3
   },
   "file_extension": ".py",
   "mimetype": "text/x-python",
   "name": "python",
   "nbconvert_exporter": "python",
   "pygments_lexer": "ipython3",
   "version": "3.7.5"
  }
 },
 "nbformat": 4,
 "nbformat_minor": 2
}
