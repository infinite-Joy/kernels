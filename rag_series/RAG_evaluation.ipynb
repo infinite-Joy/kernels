{
 "cells": [
  {
   "cell_type": "markdown",
   "id": "55d6d2d7-39c1-4ef4-b26f-b19498ba2374",
   "metadata": {},
   "source": [
    "## Install the requirements"
   ]
  },
  {
   "cell_type": "code",
   "execution_count": 1,
   "id": "02d21a6e-85ea-4494-9402-babf597e3b87",
   "metadata": {},
   "outputs": [
    {
     "name": "stdout",
     "output_type": "stream",
     "text": [
      "Requirement already satisfied: pandas in d:\\documents\\github\\kernels\\rag_series\\venv\\lib\\site-packages (2.2.1)\n",
      "Requirement already satisfied: llama-index in d:\\documents\\github\\kernels\\rag_series\\venv\\lib\\site-packages (0.10.18)\n",
      "Requirement already satisfied: llama-index-embeddings-huggingface in d:\\documents\\github\\kernels\\rag_series\\venv\\lib\\site-packages (0.1.4)\n",
      "Requirement already satisfied: llama-index-llms-ollama in d:\\documents\\github\\kernels\\rag_series\\venv\\lib\\site-packages (0.1.2)\n",
      "Requirement already satisfied: python-dotenv in d:\\documents\\github\\kernels\\rag_series\\venv\\lib\\site-packages (1.0.1)\n",
      "Requirement already satisfied: matplotlib in d:\\documents\\github\\kernels\\rag_series\\venv\\lib\\site-packages (3.8.3)\n",
      "Requirement already satisfied: pytz>=2020.1 in d:\\documents\\github\\kernels\\rag_series\\venv\\lib\\site-packages (from pandas) (2024.1)\n",
      "Requirement already satisfied: python-dateutil>=2.8.2 in d:\\documents\\github\\kernels\\rag_series\\venv\\lib\\site-packages (from pandas) (2.9.0.post0)\n",
      "Requirement already satisfied: tzdata>=2022.7 in d:\\documents\\github\\kernels\\rag_series\\venv\\lib\\site-packages (from pandas) (2024.1)\n",
      "Requirement already satisfied: numpy<2,>=1.22.4 in d:\\documents\\github\\kernels\\rag_series\\venv\\lib\\site-packages (from pandas) (1.26.4)\n",
      "Requirement already satisfied: llama-index-llms-openai<0.2.0,>=0.1.5 in d:\\documents\\github\\kernels\\rag_series\\venv\\lib\\site-packages (from llama-index) (0.1.7)\n",
      "Requirement already satisfied: llama-index-readers-llama-parse<0.2.0,>=0.1.2 in d:\\documents\\github\\kernels\\rag_series\\venv\\lib\\site-packages (from llama-index) (0.1.3)\n",
      "Requirement already satisfied: llama-index-program-openai<0.2.0,>=0.1.3 in d:\\documents\\github\\kernels\\rag_series\\venv\\lib\\site-packages (from llama-index) (0.1.4)\n",
      "Requirement already satisfied: llama-index-multi-modal-llms-openai<0.2.0,>=0.1.3 in d:\\documents\\github\\kernels\\rag_series\\venv\\lib\\site-packages (from llama-index) (0.1.4)\n",
      "Requirement already satisfied: llama-index-readers-file<0.2.0,>=0.1.4 in d:\\documents\\github\\kernels\\rag_series\\venv\\lib\\site-packages (from llama-index) (0.1.8)\n",
      "Requirement already satisfied: llama-index-question-gen-openai<0.2.0,>=0.1.2 in d:\\documents\\github\\kernels\\rag_series\\venv\\lib\\site-packages (from llama-index) (0.1.3)\n",
      "Requirement already satisfied: llama-index-cli<0.2.0,>=0.1.2 in d:\\documents\\github\\kernels\\rag_series\\venv\\lib\\site-packages (from llama-index) (0.1.8)\n",
      "Requirement already satisfied: llama-index-agent-openai<0.2.0,>=0.1.4 in d:\\documents\\github\\kernels\\rag_series\\venv\\lib\\site-packages (from llama-index) (0.1.5)\n",
      "Requirement already satisfied: llama-index-embeddings-openai<0.2.0,>=0.1.5 in d:\\documents\\github\\kernels\\rag_series\\venv\\lib\\site-packages (from llama-index) (0.1.6)\n",
      "Requirement already satisfied: llama-index-legacy<0.10.0,>=0.9.48 in d:\\documents\\github\\kernels\\rag_series\\venv\\lib\\site-packages (from llama-index) (0.9.48)\n",
      "Requirement already satisfied: llama-index-core<0.11.0,>=0.10.18 in d:\\documents\\github\\kernels\\rag_series\\venv\\lib\\site-packages (from llama-index) (0.10.18.post1)\n",
      "Requirement already satisfied: llama-index-indices-managed-llama-cloud<0.2.0,>=0.1.2 in d:\\documents\\github\\kernels\\rag_series\\venv\\lib\\site-packages (from llama-index) (0.1.3)\n",
      "Requirement already satisfied: transformers<5.0.0,>=4.37.0 in d:\\documents\\github\\kernels\\rag_series\\venv\\lib\\site-packages (from llama-index-embeddings-huggingface) (4.38.2)\n",
      "Requirement already satisfied: huggingface-hub[inference]>=0.19.0 in d:\\documents\\github\\kernels\\rag_series\\venv\\lib\\site-packages (from llama-index-embeddings-huggingface) (0.21.4)\n",
      "Requirement already satisfied: torch<3.0.0,>=2.1.2 in d:\\documents\\github\\kernels\\rag_series\\venv\\lib\\site-packages (from llama-index-embeddings-huggingface) (2.2.1)\n",
      "Requirement already satisfied: fonttools>=4.22.0 in d:\\documents\\github\\kernels\\rag_series\\venv\\lib\\site-packages (from matplotlib) (4.49.0)\n",
      "Requirement already satisfied: packaging>=20.0 in d:\\documents\\github\\kernels\\rag_series\\venv\\lib\\site-packages (from matplotlib) (23.2)\n",
      "Requirement already satisfied: pillow>=8 in d:\\documents\\github\\kernels\\rag_series\\venv\\lib\\site-packages (from matplotlib) (10.2.0)\n",
      "Requirement already satisfied: contourpy>=1.0.1 in d:\\documents\\github\\kernels\\rag_series\\venv\\lib\\site-packages (from matplotlib) (1.2.0)\n",
      "Requirement already satisfied: pyparsing>=2.3.1 in d:\\documents\\github\\kernels\\rag_series\\venv\\lib\\site-packages (from matplotlib) (3.1.2)\n",
      "Requirement already satisfied: cycler>=0.10 in d:\\documents\\github\\kernels\\rag_series\\venv\\lib\\site-packages (from matplotlib) (0.12.1)\n",
      "Requirement already satisfied: kiwisolver>=1.3.1 in d:\\documents\\github\\kernels\\rag_series\\venv\\lib\\site-packages (from matplotlib) (1.4.5)\n",
      "Requirement already satisfied: fsspec>=2023.5.0 in d:\\documents\\github\\kernels\\rag_series\\venv\\lib\\site-packages (from huggingface-hub[inference]>=0.19.0->llama-index-embeddings-huggingface) (2024.2.0)\n",
      "Requirement already satisfied: filelock in d:\\documents\\github\\kernels\\rag_series\\venv\\lib\\site-packages (from huggingface-hub[inference]>=0.19.0->llama-index-embeddings-huggingface) (3.13.1)\n",
      "Requirement already satisfied: typing-extensions>=3.7.4.3 in d:\\documents\\github\\kernels\\rag_series\\venv\\lib\\site-packages (from huggingface-hub[inference]>=0.19.0->llama-index-embeddings-huggingface) (4.10.0)\n",
      "Requirement already satisfied: tqdm>=4.42.1 in d:\\documents\\github\\kernels\\rag_series\\venv\\lib\\site-packages (from huggingface-hub[inference]>=0.19.0->llama-index-embeddings-huggingface) (4.66.2)\n",
      "Requirement already satisfied: requests in d:\\documents\\github\\kernels\\rag_series\\venv\\lib\\site-packages (from huggingface-hub[inference]>=0.19.0->llama-index-embeddings-huggingface) (2.31.0)\n",
      "Requirement already satisfied: pyyaml>=5.1 in d:\\documents\\github\\kernels\\rag_series\\venv\\lib\\site-packages (from huggingface-hub[inference]>=0.19.0->llama-index-embeddings-huggingface) (6.0.1)\n",
      "Requirement already satisfied: aiohttp in d:\\documents\\github\\kernels\\rag_series\\venv\\lib\\site-packages (from huggingface-hub[inference]>=0.19.0->llama-index-embeddings-huggingface) (3.9.3)\n",
      "Requirement already satisfied: pydantic<3.0,>1.1 in d:\\documents\\github\\kernels\\rag_series\\venv\\lib\\site-packages (from huggingface-hub[inference]>=0.19.0->llama-index-embeddings-huggingface) (2.6.3)\n",
      "Requirement already satisfied: llama-index-vector-stores-chroma<0.2.0,>=0.1.1 in d:\\documents\\github\\kernels\\rag_series\\venv\\lib\\site-packages (from llama-index-cli<0.2.0,>=0.1.2->llama-index) (0.1.6)\n",
      "Requirement already satisfied: networkx>=3.0 in d:\\documents\\github\\kernels\\rag_series\\venv\\lib\\site-packages (from llama-index-core<0.11.0,>=0.10.18->llama-index) (3.2.1)\n",
      "Requirement already satisfied: nltk<4.0.0,>=3.8.1 in d:\\documents\\github\\kernels\\rag_series\\venv\\lib\\site-packages (from llama-index-core<0.11.0,>=0.10.18->llama-index) (3.8.1)\n",
      "Requirement already satisfied: tiktoken>=0.3.3 in d:\\documents\\github\\kernels\\rag_series\\venv\\lib\\site-packages (from llama-index-core<0.11.0,>=0.10.18->llama-index) (0.6.0)\n",
      "Requirement already satisfied: typing-inspect>=0.8.0 in d:\\documents\\github\\kernels\\rag_series\\venv\\lib\\site-packages (from llama-index-core<0.11.0,>=0.10.18->llama-index) (0.9.0)\n",
      "Requirement already satisfied: dataclasses-json in d:\\documents\\github\\kernels\\rag_series\\venv\\lib\\site-packages (from llama-index-core<0.11.0,>=0.10.18->llama-index) (0.6.4)\n",
      "Requirement already satisfied: openai>=1.1.0 in d:\\documents\\github\\kernels\\rag_series\\venv\\lib\\site-packages (from llama-index-core<0.11.0,>=0.10.18->llama-index) (1.13.3)\n",
      "Requirement already satisfied: nest-asyncio<2.0.0,>=1.5.8 in d:\\documents\\github\\kernels\\rag_series\\venv\\lib\\site-packages (from llama-index-core<0.11.0,>=0.10.18->llama-index) (1.6.0)\n",
      "Requirement already satisfied: llamaindex-py-client<0.2.0,>=0.1.13 in d:\\documents\\github\\kernels\\rag_series\\venv\\lib\\site-packages (from llama-index-core<0.11.0,>=0.10.18->llama-index) (0.1.13)\n",
      "Requirement already satisfied: tenacity<9.0.0,>=8.2.0 in d:\\documents\\github\\kernels\\rag_series\\venv\\lib\\site-packages (from llama-index-core<0.11.0,>=0.10.18->llama-index) (8.2.3)\n",
      "Requirement already satisfied: dirtyjson<2.0.0,>=1.0.8 in d:\\documents\\github\\kernels\\rag_series\\venv\\lib\\site-packages (from llama-index-core<0.11.0,>=0.10.18->llama-index) (1.0.8)\n",
      "Requirement already satisfied: httpx in d:\\documents\\github\\kernels\\rag_series\\venv\\lib\\site-packages (from llama-index-core<0.11.0,>=0.10.18->llama-index) (0.27.0)\n",
      "Requirement already satisfied: deprecated>=1.2.9.3 in d:\\documents\\github\\kernels\\rag_series\\venv\\lib\\site-packages (from llama-index-core<0.11.0,>=0.10.18->llama-index) (1.2.14)\n",
      "Requirement already satisfied: SQLAlchemy[asyncio]>=1.4.49 in d:\\documents\\github\\kernels\\rag_series\\venv\\lib\\site-packages (from llama-index-core<0.11.0,>=0.10.18->llama-index) (2.0.28)\n",
      "Requirement already satisfied: bs4<0.0.3,>=0.0.2 in d:\\documents\\github\\kernels\\rag_series\\venv\\lib\\site-packages (from llama-index-readers-file<0.2.0,>=0.1.4->llama-index) (0.0.2)\n",
      "Requirement already satisfied: pypdf<5.0.0,>=4.0.1 in d:\\documents\\github\\kernels\\rag_series\\venv\\lib\\site-packages (from llama-index-readers-file<0.2.0,>=0.1.4->llama-index) (4.1.0)\n",
      "Requirement already satisfied: pymupdf<2.0.0,>=1.23.21 in d:\\documents\\github\\kernels\\rag_series\\venv\\lib\\site-packages (from llama-index-readers-file<0.2.0,>=0.1.4->llama-index) (1.23.26)\n",
      "Requirement already satisfied: beautifulsoup4<5.0.0,>=4.12.3 in d:\\documents\\github\\kernels\\rag_series\\venv\\lib\\site-packages (from llama-index-readers-file<0.2.0,>=0.1.4->llama-index) (4.12.3)\n",
      "Requirement already satisfied: llama-parse<0.4.0,>=0.3.3 in d:\\documents\\github\\kernels\\rag_series\\venv\\lib\\site-packages (from llama-index-readers-llama-parse<0.2.0,>=0.1.2->llama-index) (0.3.8)\n",
      "Requirement already satisfied: six>=1.5 in d:\\documents\\github\\kernels\\rag_series\\venv\\lib\\site-packages (from python-dateutil>=2.8.2->pandas) (1.16.0)\n",
      "Requirement already satisfied: sympy in d:\\documents\\github\\kernels\\rag_series\\venv\\lib\\site-packages (from torch<3.0.0,>=2.1.2->llama-index-embeddings-huggingface) (1.12)\n",
      "Requirement already satisfied: jinja2 in d:\\documents\\github\\kernels\\rag_series\\venv\\lib\\site-packages (from torch<3.0.0,>=2.1.2->llama-index-embeddings-huggingface) (3.1.3)\n",
      "Requirement already satisfied: tokenizers<0.19,>=0.14 in d:\\documents\\github\\kernels\\rag_series\\venv\\lib\\site-packages (from transformers<5.0.0,>=4.37.0->llama-index-embeddings-huggingface) (0.15.2)\n",
      "Requirement already satisfied: regex!=2019.12.17 in d:\\documents\\github\\kernels\\rag_series\\venv\\lib\\site-packages (from transformers<5.0.0,>=4.37.0->llama-index-embeddings-huggingface) (2023.12.25)\n",
      "Requirement already satisfied: safetensors>=0.4.1 in d:\\documents\\github\\kernels\\rag_series\\venv\\lib\\site-packages (from transformers<5.0.0,>=4.37.0->llama-index-embeddings-huggingface) (0.4.2)\n",
      "Requirement already satisfied: async-timeout<5.0,>=4.0 in d:\\documents\\github\\kernels\\rag_series\\venv\\lib\\site-packages (from aiohttp->huggingface-hub[inference]>=0.19.0->llama-index-embeddings-huggingface) (4.0.3)\n",
      "Requirement already satisfied: yarl<2.0,>=1.0 in d:\\documents\\github\\kernels\\rag_series\\venv\\lib\\site-packages (from aiohttp->huggingface-hub[inference]>=0.19.0->llama-index-embeddings-huggingface) (1.9.4)\n",
      "Requirement already satisfied: attrs>=17.3.0 in d:\\documents\\github\\kernels\\rag_series\\venv\\lib\\site-packages (from aiohttp->huggingface-hub[inference]>=0.19.0->llama-index-embeddings-huggingface) (23.2.0)\n",
      "Requirement already satisfied: frozenlist>=1.1.1 in d:\\documents\\github\\kernels\\rag_series\\venv\\lib\\site-packages (from aiohttp->huggingface-hub[inference]>=0.19.0->llama-index-embeddings-huggingface) (1.4.1)\n",
      "Requirement already satisfied: multidict<7.0,>=4.5 in d:\\documents\\github\\kernels\\rag_series\\venv\\lib\\site-packages (from aiohttp->huggingface-hub[inference]>=0.19.0->llama-index-embeddings-huggingface) (6.0.5)\n",
      "Requirement already satisfied: aiosignal>=1.1.2 in d:\\documents\\github\\kernels\\rag_series\\venv\\lib\\site-packages (from aiohttp->huggingface-hub[inference]>=0.19.0->llama-index-embeddings-huggingface) (1.3.1)\n",
      "Requirement already satisfied: soupsieve>1.2 in d:\\documents\\github\\kernels\\rag_series\\venv\\lib\\site-packages (from beautifulsoup4<5.0.0,>=4.12.3->llama-index-readers-file<0.2.0,>=0.1.4->llama-index) (2.5)\n",
      "Requirement already satisfied: wrapt<2,>=1.10 in d:\\documents\\github\\kernels\\rag_series\\venv\\lib\\site-packages (from deprecated>=1.2.9.3->llama-index-core<0.11.0,>=0.10.18->llama-index) (1.16.0)\n",
      "Requirement already satisfied: chromadb<0.5.0,>=0.4.22 in d:\\documents\\github\\kernels\\rag_series\\venv\\lib\\site-packages (from llama-index-vector-stores-chroma<0.2.0,>=0.1.1->llama-index-cli<0.2.0,>=0.1.2->llama-index) (0.4.24)\n",
      "Requirement already satisfied: sniffio in d:\\documents\\github\\kernels\\rag_series\\venv\\lib\\site-packages (from httpx->llama-index-core<0.11.0,>=0.10.18->llama-index) (1.3.1)\n",
      "Requirement already satisfied: httpcore==1.* in d:\\documents\\github\\kernels\\rag_series\\venv\\lib\\site-packages (from httpx->llama-index-core<0.11.0,>=0.10.18->llama-index) (1.0.4)\n",
      "Requirement already satisfied: anyio in d:\\documents\\github\\kernels\\rag_series\\venv\\lib\\site-packages (from httpx->llama-index-core<0.11.0,>=0.10.18->llama-index) (4.3.0)\n",
      "Requirement already satisfied: idna in d:\\documents\\github\\kernels\\rag_series\\venv\\lib\\site-packages (from httpx->llama-index-core<0.11.0,>=0.10.18->llama-index) (3.6)\n",
      "Requirement already satisfied: certifi in d:\\documents\\github\\kernels\\rag_series\\venv\\lib\\site-packages (from httpx->llama-index-core<0.11.0,>=0.10.18->llama-index) (2024.2.2)\n",
      "Requirement already satisfied: h11<0.15,>=0.13 in d:\\documents\\github\\kernels\\rag_series\\venv\\lib\\site-packages (from httpcore==1.*->httpx->llama-index-core<0.11.0,>=0.10.18->llama-index) (0.14.0)\n",
      "Requirement already satisfied: click in d:\\documents\\github\\kernels\\rag_series\\venv\\lib\\site-packages (from nltk<4.0.0,>=3.8.1->llama-index-core<0.11.0,>=0.10.18->llama-index) (8.1.7)\n",
      "Requirement already satisfied: joblib in d:\\documents\\github\\kernels\\rag_series\\venv\\lib\\site-packages (from nltk<4.0.0,>=3.8.1->llama-index-core<0.11.0,>=0.10.18->llama-index) (1.3.2)\n",
      "Requirement already satisfied: distro<2,>=1.7.0 in d:\\documents\\github\\kernels\\rag_series\\venv\\lib\\site-packages (from openai>=1.1.0->llama-index-core<0.11.0,>=0.10.18->llama-index) (1.9.0)\n",
      "Requirement already satisfied: pydantic-core==2.16.3 in d:\\documents\\github\\kernels\\rag_series\\venv\\lib\\site-packages (from pydantic<3.0,>1.1->huggingface-hub[inference]>=0.19.0->llama-index-embeddings-huggingface) (2.16.3)\n",
      "Requirement already satisfied: annotated-types>=0.4.0 in d:\\documents\\github\\kernels\\rag_series\\venv\\lib\\site-packages (from pydantic<3.0,>1.1->huggingface-hub[inference]>=0.19.0->llama-index-embeddings-huggingface) (0.6.0)\n",
      "Requirement already satisfied: PyMuPDFb==1.23.22 in d:\\documents\\github\\kernels\\rag_series\\venv\\lib\\site-packages (from pymupdf<2.0.0,>=1.23.21->llama-index-readers-file<0.2.0,>=0.1.4->llama-index) (1.23.22)\n",
      "Requirement already satisfied: charset-normalizer<4,>=2 in d:\\documents\\github\\kernels\\rag_series\\venv\\lib\\site-packages (from requests->huggingface-hub[inference]>=0.19.0->llama-index-embeddings-huggingface) (3.3.2)\n",
      "Requirement already satisfied: urllib3<3,>=1.21.1 in d:\\documents\\github\\kernels\\rag_series\\venv\\lib\\site-packages (from requests->huggingface-hub[inference]>=0.19.0->llama-index-embeddings-huggingface) (2.2.1)\n",
      "Requirement already satisfied: greenlet!=0.4.17 in d:\\documents\\github\\kernels\\rag_series\\venv\\lib\\site-packages (from SQLAlchemy[asyncio]>=1.4.49->llama-index-core<0.11.0,>=0.10.18->llama-index) (3.0.3)\n",
      "Requirement already satisfied: colorama in d:\\documents\\github\\kernels\\rag_series\\venv\\lib\\site-packages (from tqdm>=4.42.1->huggingface-hub[inference]>=0.19.0->llama-index-embeddings-huggingface) (0.4.6)\n",
      "Requirement already satisfied: mypy-extensions>=0.3.0 in d:\\documents\\github\\kernels\\rag_series\\venv\\lib\\site-packages (from typing-inspect>=0.8.0->llama-index-core<0.11.0,>=0.10.18->llama-index) (1.0.0)\n",
      "Requirement already satisfied: marshmallow<4.0.0,>=3.18.0 in d:\\documents\\github\\kernels\\rag_series\\venv\\lib\\site-packages (from dataclasses-json->llama-index-core<0.11.0,>=0.10.18->llama-index) (3.21.1)\n",
      "Requirement already satisfied: MarkupSafe>=2.0 in d:\\documents\\github\\kernels\\rag_series\\venv\\lib\\site-packages (from jinja2->torch<3.0.0,>=2.1.2->llama-index-embeddings-huggingface) (2.1.5)\n",
      "Requirement already satisfied: mpmath>=0.19 in d:\\documents\\github\\kernels\\rag_series\\venv\\lib\\site-packages (from sympy->torch<3.0.0,>=2.1.2->llama-index-embeddings-huggingface) (1.3.0)\n",
      "Requirement already satisfied: exceptiongroup>=1.0.2 in d:\\documents\\github\\kernels\\rag_series\\venv\\lib\\site-packages (from anyio->httpx->llama-index-core<0.11.0,>=0.10.18->llama-index) (1.2.0)\n",
      "Requirement already satisfied: opentelemetry-instrumentation-fastapi>=0.41b0 in d:\\documents\\github\\kernels\\rag_series\\venv\\lib\\site-packages (from chromadb<0.5.0,>=0.4.22->llama-index-vector-stores-chroma<0.2.0,>=0.1.1->llama-index-cli<0.2.0,>=0.1.2->llama-index) (0.44b0)\n",
      "Requirement already satisfied: build>=1.0.3 in d:\\documents\\github\\kernels\\rag_series\\venv\\lib\\site-packages (from chromadb<0.5.0,>=0.4.22->llama-index-vector-stores-chroma<0.2.0,>=0.1.1->llama-index-cli<0.2.0,>=0.1.2->llama-index) (1.1.1)\n",
      "Requirement already satisfied: orjson>=3.9.12 in d:\\documents\\github\\kernels\\rag_series\\venv\\lib\\site-packages (from chromadb<0.5.0,>=0.4.22->llama-index-vector-stores-chroma<0.2.0,>=0.1.1->llama-index-cli<0.2.0,>=0.1.2->llama-index) (3.9.15)\n",
      "Requirement already satisfied: opentelemetry-api>=1.2.0 in d:\\documents\\github\\kernels\\rag_series\\venv\\lib\\site-packages (from chromadb<0.5.0,>=0.4.22->llama-index-vector-stores-chroma<0.2.0,>=0.1.1->llama-index-cli<0.2.0,>=0.1.2->llama-index) (1.23.0)\n",
      "Requirement already satisfied: opentelemetry-sdk>=1.2.0 in d:\\documents\\github\\kernels\\rag_series\\venv\\lib\\site-packages (from chromadb<0.5.0,>=0.4.22->llama-index-vector-stores-chroma<0.2.0,>=0.1.1->llama-index-cli<0.2.0,>=0.1.2->llama-index) (1.23.0)\n",
      "Requirement already satisfied: kubernetes>=28.1.0 in d:\\documents\\github\\kernels\\rag_series\\venv\\lib\\site-packages (from chromadb<0.5.0,>=0.4.22->llama-index-vector-stores-chroma<0.2.0,>=0.1.1->llama-index-cli<0.2.0,>=0.1.2->llama-index) (29.0.0)\n",
      "Requirement already satisfied: opentelemetry-exporter-otlp-proto-grpc>=1.2.0 in d:\\documents\\github\\kernels\\rag_series\\venv\\lib\\site-packages (from chromadb<0.5.0,>=0.4.22->llama-index-vector-stores-chroma<0.2.0,>=0.1.1->llama-index-cli<0.2.0,>=0.1.2->llama-index) (1.23.0)\n",
      "Requirement already satisfied: typer>=0.9.0 in d:\\documents\\github\\kernels\\rag_series\\venv\\lib\\site-packages (from chromadb<0.5.0,>=0.4.22->llama-index-vector-stores-chroma<0.2.0,>=0.1.1->llama-index-cli<0.2.0,>=0.1.2->llama-index) (0.9.0)\n",
      "Requirement already satisfied: fastapi>=0.95.2 in d:\\documents\\github\\kernels\\rag_series\\venv\\lib\\site-packages (from chromadb<0.5.0,>=0.4.22->llama-index-vector-stores-chroma<0.2.0,>=0.1.1->llama-index-cli<0.2.0,>=0.1.2->llama-index) (0.110.0)\n",
      "Requirement already satisfied: onnxruntime>=1.14.1 in d:\\documents\\github\\kernels\\rag_series\\venv\\lib\\site-packages (from chromadb<0.5.0,>=0.4.22->llama-index-vector-stores-chroma<0.2.0,>=0.1.1->llama-index-cli<0.2.0,>=0.1.2->llama-index) (1.17.1)\n",
      "Requirement already satisfied: bcrypt>=4.0.1 in d:\\documents\\github\\kernels\\rag_series\\venv\\lib\\site-packages (from chromadb<0.5.0,>=0.4.22->llama-index-vector-stores-chroma<0.2.0,>=0.1.1->llama-index-cli<0.2.0,>=0.1.2->llama-index) (4.1.2)\n",
      "Requirement already satisfied: overrides>=7.3.1 in d:\\documents\\github\\kernels\\rag_series\\venv\\lib\\site-packages (from chromadb<0.5.0,>=0.4.22->llama-index-vector-stores-chroma<0.2.0,>=0.1.1->llama-index-cli<0.2.0,>=0.1.2->llama-index) (7.7.0)\n",
      "Requirement already satisfied: pulsar-client>=3.1.0 in d:\\documents\\github\\kernels\\rag_series\\venv\\lib\\site-packages (from chromadb<0.5.0,>=0.4.22->llama-index-vector-stores-chroma<0.2.0,>=0.1.1->llama-index-cli<0.2.0,>=0.1.2->llama-index) (3.4.0)\n",
      "Requirement already satisfied: pypika>=0.48.9 in d:\\documents\\github\\kernels\\rag_series\\venv\\lib\\site-packages (from chromadb<0.5.0,>=0.4.22->llama-index-vector-stores-chroma<0.2.0,>=0.1.1->llama-index-cli<0.2.0,>=0.1.2->llama-index) (0.48.9)\n",
      "Requirement already satisfied: mmh3>=4.0.1 in d:\\documents\\github\\kernels\\rag_series\\venv\\lib\\site-packages (from chromadb<0.5.0,>=0.4.22->llama-index-vector-stores-chroma<0.2.0,>=0.1.1->llama-index-cli<0.2.0,>=0.1.2->llama-index) (4.1.0)\n",
      "Requirement already satisfied: importlib-resources in d:\\documents\\github\\kernels\\rag_series\\venv\\lib\\site-packages (from chromadb<0.5.0,>=0.4.22->llama-index-vector-stores-chroma<0.2.0,>=0.1.1->llama-index-cli<0.2.0,>=0.1.2->llama-index) (6.1.3)\n",
      "Requirement already satisfied: chroma-hnswlib==0.7.3 in d:\\documents\\github\\kernels\\rag_series\\venv\\lib\\site-packages (from chromadb<0.5.0,>=0.4.22->llama-index-vector-stores-chroma<0.2.0,>=0.1.1->llama-index-cli<0.2.0,>=0.1.2->llama-index) (0.7.3)\n",
      "Requirement already satisfied: uvicorn[standard]>=0.18.3 in d:\\documents\\github\\kernels\\rag_series\\venv\\lib\\site-packages (from chromadb<0.5.0,>=0.4.22->llama-index-vector-stores-chroma<0.2.0,>=0.1.1->llama-index-cli<0.2.0,>=0.1.2->llama-index) (0.27.1)\n",
      "Requirement already satisfied: grpcio>=1.58.0 in d:\\documents\\github\\kernels\\rag_series\\venv\\lib\\site-packages (from chromadb<0.5.0,>=0.4.22->llama-index-vector-stores-chroma<0.2.0,>=0.1.1->llama-index-cli<0.2.0,>=0.1.2->llama-index) (1.62.1)\n",
      "Requirement already satisfied: posthog>=2.4.0 in d:\\documents\\github\\kernels\\rag_series\\venv\\lib\\site-packages (from chromadb<0.5.0,>=0.4.22->llama-index-vector-stores-chroma<0.2.0,>=0.1.1->llama-index-cli<0.2.0,>=0.1.2->llama-index) (3.5.0)\n",
      "Requirement already satisfied: tomli>=1.1.0 in d:\\documents\\github\\kernels\\rag_series\\venv\\lib\\site-packages (from build>=1.0.3->chromadb<0.5.0,>=0.4.22->llama-index-vector-stores-chroma<0.2.0,>=0.1.1->llama-index-cli<0.2.0,>=0.1.2->llama-index) (2.0.1)\n",
      "Requirement already satisfied: pyproject_hooks in d:\\documents\\github\\kernels\\rag_series\\venv\\lib\\site-packages (from build>=1.0.3->chromadb<0.5.0,>=0.4.22->llama-index-vector-stores-chroma<0.2.0,>=0.1.1->llama-index-cli<0.2.0,>=0.1.2->llama-index) (1.0.0)\n",
      "Requirement already satisfied: starlette<0.37.0,>=0.36.3 in d:\\documents\\github\\kernels\\rag_series\\venv\\lib\\site-packages (from fastapi>=0.95.2->chromadb<0.5.0,>=0.4.22->llama-index-vector-stores-chroma<0.2.0,>=0.1.1->llama-index-cli<0.2.0,>=0.1.2->llama-index) (0.36.3)\n",
      "Requirement already satisfied: requests-oauthlib in d:\\documents\\github\\kernels\\rag_series\\venv\\lib\\site-packages (from kubernetes>=28.1.0->chromadb<0.5.0,>=0.4.22->llama-index-vector-stores-chroma<0.2.0,>=0.1.1->llama-index-cli<0.2.0,>=0.1.2->llama-index) (1.3.1)\n",
      "Requirement already satisfied: oauthlib>=3.2.2 in d:\\documents\\github\\kernels\\rag_series\\venv\\lib\\site-packages (from kubernetes>=28.1.0->chromadb<0.5.0,>=0.4.22->llama-index-vector-stores-chroma<0.2.0,>=0.1.1->llama-index-cli<0.2.0,>=0.1.2->llama-index) (3.2.2)\n",
      "Requirement already satisfied: google-auth>=1.0.1 in d:\\documents\\github\\kernels\\rag_series\\venv\\lib\\site-packages (from kubernetes>=28.1.0->chromadb<0.5.0,>=0.4.22->llama-index-vector-stores-chroma<0.2.0,>=0.1.1->llama-index-cli<0.2.0,>=0.1.2->llama-index) (2.28.2)\n",
      "Requirement already satisfied: websocket-client!=0.40.0,!=0.41.*,!=0.42.*,>=0.32.0 in d:\\documents\\github\\kernels\\rag_series\\venv\\lib\\site-packages (from kubernetes>=28.1.0->chromadb<0.5.0,>=0.4.22->llama-index-vector-stores-chroma<0.2.0,>=0.1.1->llama-index-cli<0.2.0,>=0.1.2->llama-index) (1.7.0)\n",
      "Requirement already satisfied: protobuf in d:\\documents\\github\\kernels\\rag_series\\venv\\lib\\site-packages (from onnxruntime>=1.14.1->chromadb<0.5.0,>=0.4.22->llama-index-vector-stores-chroma<0.2.0,>=0.1.1->llama-index-cli<0.2.0,>=0.1.2->llama-index) (4.25.3)\n",
      "Requirement already satisfied: flatbuffers in d:\\documents\\github\\kernels\\rag_series\\venv\\lib\\site-packages (from onnxruntime>=1.14.1->chromadb<0.5.0,>=0.4.22->llama-index-vector-stores-chroma<0.2.0,>=0.1.1->llama-index-cli<0.2.0,>=0.1.2->llama-index) (24.3.7)\n",
      "Requirement already satisfied: coloredlogs in d:\\documents\\github\\kernels\\rag_series\\venv\\lib\\site-packages (from onnxruntime>=1.14.1->chromadb<0.5.0,>=0.4.22->llama-index-vector-stores-chroma<0.2.0,>=0.1.1->llama-index-cli<0.2.0,>=0.1.2->llama-index) (15.0.1)\n",
      "Requirement already satisfied: importlib-metadata<7.0,>=6.0 in d:\\documents\\github\\kernels\\rag_series\\venv\\lib\\site-packages (from opentelemetry-api>=1.2.0->chromadb<0.5.0,>=0.4.22->llama-index-vector-stores-chroma<0.2.0,>=0.1.1->llama-index-cli<0.2.0,>=0.1.2->llama-index) (6.11.0)\n",
      "Requirement already satisfied: opentelemetry-exporter-otlp-proto-common==1.23.0 in d:\\documents\\github\\kernels\\rag_series\\venv\\lib\\site-packages (from opentelemetry-exporter-otlp-proto-grpc>=1.2.0->chromadb<0.5.0,>=0.4.22->llama-index-vector-stores-chroma<0.2.0,>=0.1.1->llama-index-cli<0.2.0,>=0.1.2->llama-index) (1.23.0)\n",
      "Requirement already satisfied: opentelemetry-proto==1.23.0 in d:\\documents\\github\\kernels\\rag_series\\venv\\lib\\site-packages (from opentelemetry-exporter-otlp-proto-grpc>=1.2.0->chromadb<0.5.0,>=0.4.22->llama-index-vector-stores-chroma<0.2.0,>=0.1.1->llama-index-cli<0.2.0,>=0.1.2->llama-index) (1.23.0)\n",
      "Requirement already satisfied: googleapis-common-protos~=1.52 in d:\\documents\\github\\kernels\\rag_series\\venv\\lib\\site-packages (from opentelemetry-exporter-otlp-proto-grpc>=1.2.0->chromadb<0.5.0,>=0.4.22->llama-index-vector-stores-chroma<0.2.0,>=0.1.1->llama-index-cli<0.2.0,>=0.1.2->llama-index) (1.62.0)\n",
      "Requirement already satisfied: opentelemetry-instrumentation==0.44b0 in d:\\documents\\github\\kernels\\rag_series\\venv\\lib\\site-packages (from opentelemetry-instrumentation-fastapi>=0.41b0->chromadb<0.5.0,>=0.4.22->llama-index-vector-stores-chroma<0.2.0,>=0.1.1->llama-index-cli<0.2.0,>=0.1.2->llama-index) (0.44b0)\n",
      "Requirement already satisfied: opentelemetry-instrumentation-asgi==0.44b0 in d:\\documents\\github\\kernels\\rag_series\\venv\\lib\\site-packages (from opentelemetry-instrumentation-fastapi>=0.41b0->chromadb<0.5.0,>=0.4.22->llama-index-vector-stores-chroma<0.2.0,>=0.1.1->llama-index-cli<0.2.0,>=0.1.2->llama-index) (0.44b0)\n",
      "Requirement already satisfied: opentelemetry-util-http==0.44b0 in d:\\documents\\github\\kernels\\rag_series\\venv\\lib\\site-packages (from opentelemetry-instrumentation-fastapi>=0.41b0->chromadb<0.5.0,>=0.4.22->llama-index-vector-stores-chroma<0.2.0,>=0.1.1->llama-index-cli<0.2.0,>=0.1.2->llama-index) (0.44b0)\n",
      "Requirement already satisfied: opentelemetry-semantic-conventions==0.44b0 in d:\\documents\\github\\kernels\\rag_series\\venv\\lib\\site-packages (from opentelemetry-instrumentation-fastapi>=0.41b0->chromadb<0.5.0,>=0.4.22->llama-index-vector-stores-chroma<0.2.0,>=0.1.1->llama-index-cli<0.2.0,>=0.1.2->llama-index) (0.44b0)\n",
      "Requirement already satisfied: setuptools>=16.0 in d:\\documents\\github\\kernels\\rag_series\\venv\\lib\\site-packages (from opentelemetry-instrumentation==0.44b0->opentelemetry-instrumentation-fastapi>=0.41b0->chromadb<0.5.0,>=0.4.22->llama-index-vector-stores-chroma<0.2.0,>=0.1.1->llama-index-cli<0.2.0,>=0.1.2->llama-index) (65.5.0)\n",
      "Requirement already satisfied: asgiref~=3.0 in d:\\documents\\github\\kernels\\rag_series\\venv\\lib\\site-packages (from opentelemetry-instrumentation-asgi==0.44b0->opentelemetry-instrumentation-fastapi>=0.41b0->chromadb<0.5.0,>=0.4.22->llama-index-vector-stores-chroma<0.2.0,>=0.1.1->llama-index-cli<0.2.0,>=0.1.2->llama-index) (3.7.2)\n",
      "Requirement already satisfied: backoff>=1.10.0 in d:\\documents\\github\\kernels\\rag_series\\venv\\lib\\site-packages (from posthog>=2.4.0->chromadb<0.5.0,>=0.4.22->llama-index-vector-stores-chroma<0.2.0,>=0.1.1->llama-index-cli<0.2.0,>=0.1.2->llama-index) (2.2.1)\n",
      "Requirement already satisfied: monotonic>=1.5 in d:\\documents\\github\\kernels\\rag_series\\venv\\lib\\site-packages (from posthog>=2.4.0->chromadb<0.5.0,>=0.4.22->llama-index-vector-stores-chroma<0.2.0,>=0.1.1->llama-index-cli<0.2.0,>=0.1.2->llama-index) (1.6)\n",
      "Requirement already satisfied: httptools>=0.5.0 in d:\\documents\\github\\kernels\\rag_series\\venv\\lib\\site-packages (from uvicorn[standard]>=0.18.3->chromadb<0.5.0,>=0.4.22->llama-index-vector-stores-chroma<0.2.0,>=0.1.1->llama-index-cli<0.2.0,>=0.1.2->llama-index) (0.6.1)\n",
      "Requirement already satisfied: websockets>=10.4 in d:\\documents\\github\\kernels\\rag_series\\venv\\lib\\site-packages (from uvicorn[standard]>=0.18.3->chromadb<0.5.0,>=0.4.22->llama-index-vector-stores-chroma<0.2.0,>=0.1.1->llama-index-cli<0.2.0,>=0.1.2->llama-index) (12.0)\n",
      "Requirement already satisfied: watchfiles>=0.13 in d:\\documents\\github\\kernels\\rag_series\\venv\\lib\\site-packages (from uvicorn[standard]>=0.18.3->chromadb<0.5.0,>=0.4.22->llama-index-vector-stores-chroma<0.2.0,>=0.1.1->llama-index-cli<0.2.0,>=0.1.2->llama-index) (0.21.0)\n",
      "Requirement already satisfied: cachetools<6.0,>=2.0.0 in d:\\documents\\github\\kernels\\rag_series\\venv\\lib\\site-packages (from google-auth>=1.0.1->kubernetes>=28.1.0->chromadb<0.5.0,>=0.4.22->llama-index-vector-stores-chroma<0.2.0,>=0.1.1->llama-index-cli<0.2.0,>=0.1.2->llama-index) (5.3.3)\n",
      "Requirement already satisfied: pyasn1-modules>=0.2.1 in d:\\documents\\github\\kernels\\rag_series\\venv\\lib\\site-packages (from google-auth>=1.0.1->kubernetes>=28.1.0->chromadb<0.5.0,>=0.4.22->llama-index-vector-stores-chroma<0.2.0,>=0.1.1->llama-index-cli<0.2.0,>=0.1.2->llama-index) (0.3.0)\n",
      "Requirement already satisfied: rsa<5,>=3.1.4 in d:\\documents\\github\\kernels\\rag_series\\venv\\lib\\site-packages (from google-auth>=1.0.1->kubernetes>=28.1.0->chromadb<0.5.0,>=0.4.22->llama-index-vector-stores-chroma<0.2.0,>=0.1.1->llama-index-cli<0.2.0,>=0.1.2->llama-index) (4.9)\n",
      "Requirement already satisfied: zipp>=0.5 in d:\\documents\\github\\kernels\\rag_series\\venv\\lib\\site-packages (from importlib-metadata<7.0,>=6.0->opentelemetry-api>=1.2.0->chromadb<0.5.0,>=0.4.22->llama-index-vector-stores-chroma<0.2.0,>=0.1.1->llama-index-cli<0.2.0,>=0.1.2->llama-index) (3.17.0)\n",
      "Requirement already satisfied: humanfriendly>=9.1 in d:\\documents\\github\\kernels\\rag_series\\venv\\lib\\site-packages (from coloredlogs->onnxruntime>=1.14.1->chromadb<0.5.0,>=0.4.22->llama-index-vector-stores-chroma<0.2.0,>=0.1.1->llama-index-cli<0.2.0,>=0.1.2->llama-index) (10.0)\n",
      "Requirement already satisfied: pyreadline3 in d:\\documents\\github\\kernels\\rag_series\\venv\\lib\\site-packages (from humanfriendly>=9.1->coloredlogs->onnxruntime>=1.14.1->chromadb<0.5.0,>=0.4.22->llama-index-vector-stores-chroma<0.2.0,>=0.1.1->llama-index-cli<0.2.0,>=0.1.2->llama-index) (3.4.1)\n",
      "Requirement already satisfied: pyasn1<0.6.0,>=0.4.6 in d:\\documents\\github\\kernels\\rag_series\\venv\\lib\\site-packages (from pyasn1-modules>=0.2.1->google-auth>=1.0.1->kubernetes>=28.1.0->chromadb<0.5.0,>=0.4.22->llama-index-vector-stores-chroma<0.2.0,>=0.1.1->llama-index-cli<0.2.0,>=0.1.2->llama-index) (0.5.1)\n"
     ]
    },
    {
     "name": "stderr",
     "output_type": "stream",
     "text": [
      "\n",
      "[notice] A new release of pip available: 22.3.1 -> 24.0\n",
      "[notice] To update, run: python.exe -m pip install --upgrade pip\n"
     ]
    }
   ],
   "source": [
    "!pip install pandas llama-index \\\n",
    "    llama-index-embeddings-huggingface \\\n",
    "    llama-index-llms-ollama \\\n",
    "    python-dotenv \\\n",
    "    matplotlib"
   ]
  },
  {
   "cell_type": "code",
   "execution_count": 2,
   "id": "2f0781ce-f84e-4438-a761-c469927444d3",
   "metadata": {},
   "outputs": [
    {
     "data": {
      "text/plain": [
       "True"
      ]
     },
     "execution_count": 2,
     "metadata": {},
     "output_type": "execute_result"
    }
   ],
   "source": [
    "from dotenv import load_dotenv\n",
    "\n",
    "load_dotenv()"
   ]
  },
  {
   "cell_type": "markdown",
   "id": "0bea0765-0793-410a-a355-eabe8c79809a",
   "metadata": {},
   "source": [
    "## setup RAG pipeline for evaluation"
   ]
  },
  {
   "cell_type": "code",
   "execution_count": 3,
   "id": "73c492b3-759f-4c81-9542-bbcd5be6be3f",
   "metadata": {},
   "outputs": [],
   "source": [
    "from llama_index.core import SimpleDirectoryReader\n",
    "\n",
    "reader = SimpleDirectoryReader(input_dir='./data', recursive=True)\n",
    "documents = reader.load_data()"
   ]
  },
  {
   "cell_type": "code",
   "execution_count": 5,
   "id": "a08e0cef-3763-46a5-9023-e5d51eb5a8ba",
   "metadata": {},
   "outputs": [
    {
     "name": "stdout",
     "output_type": "stream",
     "text": [
      "28\n"
     ]
    }
   ],
   "source": [
    "print(len(documents))"
   ]
  },
  {
   "cell_type": "code",
   "execution_count": 6,
   "id": "cba97ea4-bdda-4da1-b3a0-5a49e042549d",
   "metadata": {},
   "outputs": [
    {
     "data": {
      "text/plain": [
       "HuggingFaceEmbedding(model_name='BAAI/bge-small-en-v1.5', embed_batch_size=10, callback_manager=<llama_index.core.callbacks.base.CallbackManager object at 0x0000015392858550>, tokenizer_name='BAAI/bge-small-en-v1.5', max_length=512, pooling=<Pooling.CLS: 'cls'>, normalize=True, query_instruction=None, text_instruction=None, cache_folder=None)"
      ]
     },
     "execution_count": 6,
     "metadata": {},
     "output_type": "execute_result"
    }
   ],
   "source": [
    "from llama_index.core.embeddings import resolve_embed_model\n",
    "\n",
    "embed_model = \"local:BAAI/bge-small-en-v1.5\"\n",
    "embed_model = resolve_embed_model(embed_model)\n",
    "embed_model"
   ]
  },
  {
   "cell_type": "code",
   "execution_count": 7,
   "id": "5704f02a-682a-49b2-82d3-40d05f6d782b",
   "metadata": {},
   "outputs": [
    {
     "data": {
      "text/plain": [
       "<llama_index.core.indices.vector_store.base.VectorStoreIndex at 0x15393914d30>"
      ]
     },
     "execution_count": 7,
     "metadata": {},
     "output_type": "execute_result"
    }
   ],
   "source": [
    "from llama_index.core.node_parser import SimpleNodeParser\n",
    "from llama_index.core import VectorStoreIndex\n",
    "\n",
    "node_parser = SimpleNodeParser.from_defaults(chunk_size=512)\n",
    "nodes = node_parser.get_nodes_from_documents(documents)\n",
    "vector_index = VectorStoreIndex(nodes, embed_model=embed_model)\n",
    "vector_index"
   ]
  },
  {
   "cell_type": "code",
   "execution_count": 8,
   "id": "4b665780-e843-47f9-8112-b3ae2ef53cdc",
   "metadata": {},
   "outputs": [
    {
     "data": {
      "text/plain": [
       "<llama_index.core.indices.vector_store.retrievers.retriever.VectorIndexRetriever at 0x15394eadf60>"
      ]
     },
     "execution_count": 8,
     "metadata": {},
     "output_type": "execute_result"
    }
   ],
   "source": [
    "retriever = vector_index.as_retriever(similarity_top_k=2)\n",
    "retriever"
   ]
  },
  {
   "cell_type": "code",
   "execution_count": 11,
   "id": "3977abbb-6ed1-49b2-a72f-0ad3d066f149",
   "metadata": {},
   "outputs": [
    {
     "data": {
      "text/markdown": [
       "**Node ID:** 0a3e8b3b-3c4d-49be-8f15-6dd5bd369490<br>**Similarity:** 0.6993850229044759<br>**Text:** Human Resource Policy Manual Version 1.0   Karvy Financial Services Ltd  \n",
       " \n",
       "This document is a proprietary information of KFSL  and should not be reproduced or altered without requisite p ermissions.  \n",
       " \n",
       "       \n",
       "Confidential   Page 26 of 28  \n",
       " \n",
       " \n",
       " \n",
       " \n",
       " \n",
       " \n",
       " \n",
       "CONFIRMATION APPRAISAL FORM  \n",
       " \n",
       "Employee Name:  \n",
       "Employee Number:  Date of Joining:  \n",
       "Department:  Location:  \n",
       "Immediate Supervisor:  Due Date for Confirmation:  \n",
       " \n",
       "Comments on employee review:  \n",
       "Please give your assessment of the employee’s performance du ring the probation period  \n",
       "(You are requested to keep in mind that the employee is new to the organization, and focus on \n",
       "whether He/She has demonstrated an ability to understand all aspects of the function he/she is \n",
       "performing, as well as the basic skills a nd behaviors required to perform the role effectively)  \n",
       " \n",
       " \n",
       " \n",
       " \n",
       " \n",
       " \n",
       " \n",
       " \n",
       " \n",
       " \n",
       " \n",
       " \n",
       " \n",
       " \n",
       " \n",
       " \n",
       " \n",
       " \n",
       " \n",
       " \n",
       "Recommendation  \n",
       "(Please tick your recommendation)  \n",
       " \n",
       "Recommended for confirmation  Recommended for extension of probation f...<br>"
      ],
      "text/plain": [
       "<IPython.core.display.Markdown object>"
      ]
     },
     "metadata": {},
     "output_type": "display_data"
    },
    {
     "name": "stdout",
     "output_type": "stream",
     "text": [
      "\n"
     ]
    },
    {
     "data": {
      "text/markdown": [
       "**Node ID:** 4204fa1f-4b19-4de9-822c-abe7f0bdf195<br>**Similarity:** 0.6679656776365127<br>**Text:** Human Resource Policy Manual Version 1.0   Karvy Financial Services Ltd  \n",
       " \n",
       "This document is a proprietary information of KFSL  and should not be reproduced or altered without requisite p ermissions.  \n",
       " \n",
       "       \n",
       "Confidential   Page 11 of 28  \n",
       "Step 2. (D-20) Within 10 days of receipt of the confirmation appraisal form the supervisor should \n",
       "have a formal discussion with the appraisee . This discu ssion should revolve around the \n",
       "appraisee’s performance on KRA for the specific period, any lim itations he/she has in executing  \n",
       "his/her duties etc  \n",
       " \n",
       "Step 3. Post the personal discussion the supervisor and the appraisee should arrive at a \n",
       "consensus on the pe rformance during the last five months. Incase they are not able to arrive at a \n",
       "consensus, the matter has to be referred to the skip level supervisor and HR. The decision of the \n",
       "skip level supervisor and HR shall be final.  \n",
       " \n",
       "Step 4. (D-15) Based on discussio n the supervisor needs to inform HR either on confirmation of \n",
       "services...<br>"
      ],
      "text/plain": [
       "<IPython.core.display.Markdown object>"
      ]
     },
     "metadata": {},
     "output_type": "display_data"
    },
    {
     "name": "stdout",
     "output_type": "stream",
     "text": [
      "\n"
     ]
    }
   ],
   "source": [
    "from llama_index.core.response.notebook_utils import display_source_node\n",
    "\n",
    "query = 'Who is responsible for completing the Confirmation Appraisal Form?'\n",
    "retrieved_nodes = retriever.retrieve(query)\n",
    "\n",
    "for node in retrieved_nodes:\n",
    "    display_source_node(node, source_length=1000)\n",
    "    print()"
   ]
  },
  {
   "cell_type": "code",
   "execution_count": 12,
   "id": "91bdc57e-418f-4d7c-896e-6ed036b51374",
   "metadata": {},
   "outputs": [
    {
     "data": {
      "text/plain": [
       "42"
      ]
     },
     "execution_count": 12,
     "metadata": {},
     "output_type": "execute_result"
    }
   ],
   "source": [
    "len(nodes)"
   ]
  },
  {
   "cell_type": "markdown",
   "id": "ede0c334-d742-4196-92f2-ec854add8245",
   "metadata": {},
   "source": [
    "## setup question and context pairs for retrieval evaluation"
   ]
  },
  {
   "cell_type": "code",
   "execution_count": 13,
   "id": "a68abe01-f9bc-408b-96d6-86820a7b13ce",
   "metadata": {},
   "outputs": [],
   "source": [
    "from llama_index.llms.openai import OpenAI\n",
    "\n",
    "llm = OpenAI(model='gpt-3.5-turbo')"
   ]
  },
  {
   "cell_type": "code",
   "execution_count": 14,
   "id": "56216c93-bf6a-429b-865c-621c60d0caf7",
   "metadata": {},
   "outputs": [
    {
     "name": "stderr",
     "output_type": "stream",
     "text": [
      "100%|██████████████████████████████████████████████████████████████████████████████████████████████████████████████████████| 42/42 [13:15<00:00, 18.95s/it]\n"
     ]
    }
   ],
   "source": [
    "from llama_index.core.evaluation import generate_question_context_pairs\n",
    "\n",
    "qa_dataset = generate_question_context_pairs(\n",
    "    nodes, llm=llm,\n",
    "    num_questions_per_chunk=2\n",
    ")"
   ]
  },
  {
   "cell_type": "code",
   "execution_count": 19,
   "id": "b0d3ace2-be21-43ab-8826-0d21bf5bf1a1",
   "metadata": {},
   "outputs": [
    {
     "data": {
      "text/plain": [
       "['How does the Human Resource Policy Manual play a role in the operations of Karvy Financial Services Ltd?',\n",
       " 'What are the potential implications for employees who do not adhere to the policies outlined in the Human Resource Policy Manual at Karvy Financial Services Ltd?']"
      ]
     },
     "execution_count": 19,
     "metadata": {},
     "output_type": "execute_result"
    }
   ],
   "source": [
    "list(qa_dataset.queries.values())[:2]"
   ]
  },
  {
   "cell_type": "code",
   "execution_count": 20,
   "id": "12f8175b-9ef3-4b55-83dd-c45874b5c2e9",
   "metadata": {},
   "outputs": [],
   "source": [
    "qa_dataset.save_json('hr_retrieval_dataset.json')"
   ]
  },
  {
   "cell_type": "code",
   "execution_count": 21,
   "id": "7d885012-45dd-446f-aa43-e719bd3d441f",
   "metadata": {},
   "outputs": [],
   "source": [
    "from llama_index.core.evaluation import EmbeddingQAFinetuneDataset\n",
    "\n",
    "qa_dataset = EmbeddingQAFinetuneDataset.from_json('hr_retrieval_dataset.json')"
   ]
  },
  {
   "cell_type": "code",
   "execution_count": 22,
   "id": "0e16aec6-6734-45de-81f2-7cba4176517f",
   "metadata": {},
   "outputs": [
    {
     "data": {
      "text/plain": [
       "['How does the Human Resource Policy Manual play a role in the operations of Karvy Financial Services Ltd?',\n",
       " 'What are the potential implications for employees who do not adhere to the policies outlined in the Human Resource Policy Manual at Karvy Financial Services Ltd?']"
      ]
     },
     "execution_count": 22,
     "metadata": {},
     "output_type": "execute_result"
    }
   ],
   "source": [
    "list(qa_dataset.queries.values())[:2]"
   ]
  },
  {
   "cell_type": "markdown",
   "id": "29872cba-84c5-4090-8778-c009cc942a1d",
   "metadata": {},
   "source": [
    "## Calculate the retrieval metrics"
   ]
  },
  {
   "cell_type": "code",
   "execution_count": 23,
   "id": "5212c1f5-281c-4855-8e2b-40f0488ef44c",
   "metadata": {},
   "outputs": [],
   "source": [
    "from llama_index.core.evaluation import RetrieverEvaluator\n",
    "\n",
    "metrics = ['mrr', 'hit_rate']\n",
    "\n",
    "retrieval_evaluator = RetrieverEvaluator.from_metric_names(\n",
    "    metrics, retriever=retriever\n",
    ")"
   ]
  },
  {
   "cell_type": "code",
   "execution_count": 24,
   "id": "5f66dc8b-2900-4f3b-8b55-7803ef9ef732",
   "metadata": {},
   "outputs": [],
   "source": [
    "eval_results = await retrieval_evaluator.aevaluate_dataset(qa_dataset)"
   ]
  },
  {
   "cell_type": "code",
   "execution_count": 26,
   "id": "a8bdbc26-6960-406d-b0df-e268f8789e1b",
   "metadata": {},
   "outputs": [],
   "source": [
    "import pandas as pd\n",
    "\n",
    "def display_retrieval_results(name, eval_results):\n",
    "    metric_dicts = []\n",
    "    for eval_result in eval_results:\n",
    "        metric_dict = eval_result.metric_vals_dict\n",
    "        metric_dicts.append(metric_dict)\n",
    "    full_df = pd.DataFrame(metric_dicts)\n",
    "    hit_rate = full_df['hit_rate'].mean()\n",
    "    mrr = full_df['mrr'].mean()\n",
    "    columns = {'retrievers': [name], 'hit_rate': [hit_rate], 'mrr': [mrr]}\n",
    "    metric_df = pd.DataFrame(columns)\n",
    "    return metric_df"
   ]
  },
  {
   "cell_type": "code",
   "execution_count": 27,
   "id": "d6031ded-e830-4c4e-81cb-b4a3c211be4d",
   "metadata": {},
   "outputs": [
    {
     "data": {
      "text/html": [
       "<div>\n",
       "<style scoped>\n",
       "    .dataframe tbody tr th:only-of-type {\n",
       "        vertical-align: middle;\n",
       "    }\n",
       "\n",
       "    .dataframe tbody tr th {\n",
       "        vertical-align: top;\n",
       "    }\n",
       "\n",
       "    .dataframe thead th {\n",
       "        text-align: right;\n",
       "    }\n",
       "</style>\n",
       "<table border=\"1\" class=\"dataframe\">\n",
       "  <thead>\n",
       "    <tr style=\"text-align: right;\">\n",
       "      <th></th>\n",
       "      <th>retrievers</th>\n",
       "      <th>hit_rate</th>\n",
       "      <th>mrr</th>\n",
       "    </tr>\n",
       "  </thead>\n",
       "  <tbody>\n",
       "    <tr>\n",
       "      <th>0</th>\n",
       "      <td>top 2 eval</td>\n",
       "      <td>0.833333</td>\n",
       "      <td>0.72619</td>\n",
       "    </tr>\n",
       "  </tbody>\n",
       "</table>\n",
       "</div>"
      ],
      "text/plain": [
       "   retrievers  hit_rate      mrr\n",
       "0  top 2 eval  0.833333  0.72619"
      ]
     },
     "execution_count": 27,
     "metadata": {},
     "output_type": "execute_result"
    }
   ],
   "source": [
    "display_retrieval_results('top 2 eval', eval_results)"
   ]
  },
  {
   "cell_type": "markdown",
   "id": "c3f6b4c9-ddd9-4a18-a3a3-bdc49e86ef98",
   "metadata": {},
   "source": [
    "## LLM evaluation"
   ]
  },
  {
   "cell_type": "code",
   "execution_count": 28,
   "id": "b6763810-5412-4f3a-83ee-73aa8aaa1701",
   "metadata": {},
   "outputs": [
    {
     "name": "stdout",
     "output_type": "stream",
     "text": [
      "20\n"
     ]
    }
   ],
   "source": [
    "import random\n",
    "\n",
    "eval_questions = list(qa_dataset.queries.values())\n",
    "eval_questions = random.sample(eval_questions, 20)\n",
    "print(len(eval_questions))"
   ]
  },
  {
   "cell_type": "code",
   "execution_count": 29,
   "id": "37f0cbec-b717-4c38-8f88-958d8a5527b2",
   "metadata": {},
   "outputs": [
    {
     "data": {
      "text/plain": [
       "['How does the company handle personal calls made by employees and what is the process for deducting personal call charges from the bill amount?',\n",
       " 'What are the potential implications for employees who do not adhere to the policies outlined in the Human Resource Policy Manual at Karvy Financial Services Ltd?',\n",
       " 'Explain the entitlement and guidelines for Privilege Leave as outlined in the Leave Policy of KFSL.',\n",
       " 'Describe the process that an employee at Karvy Financial Services Ltd must follow in order to obtain reimbursement for travel and hotel/guest house stay expenses after a transfer has been completed.',\n",
       " 'Explain the roles and responsibilities of the Business Head and CEO as outlined in the document, and discuss the potential consequences of unauthorized reproduction or alteration of the manual.',\n",
       " \"What are the steps involved in the pre-employment screening process at KFSL, and who is responsible for approving the recommended candidate's compensation and grade?\",\n",
       " 'What are the key documents required for hiring temporary/trainee employees according to the checklist provided in the Human Resource Policy Manual of Karvy Financial Services Ltd?',\n",
       " 'What are the prescribed monthly limits for mobile phone bill claims based on employee designation at Karvy Financial Services Ltd?',\n",
       " 'Who are the individuals responsible for approving the Human Resource Policy Manual at Karvy Financial Services Ltd, and what are their respective roles within the organization?',\n",
       " 'In the Reference Check Form provided by Karvy Financial Services Ltd, what information is requested from the referee regarding the candidate?',\n",
       " 'What is the role of the HR Head in settling differences or issues related to the interpretation of clauses in the performance management process at Karvy Financial Services Ltd?',\n",
       " 'What are the consequences of reproducing or altering the Human Resource Policy Manual of Karvy Financial Services Ltd without requisite permissions?',\n",
       " 'How does Karvy Financial Services Ltd handle travel reimbursement for outstation candidates attending interviews? What factors should be considered when reimbursing candidates for travel and incidentals?',\n",
       " 'What are the steps involved in the performance appraisal process at Karvy Financial Services Ltd, specifically in terms of discussing performance, arriving at a consensus, and making decisions on confirmation or probation extension?',\n",
       " 'How does the company incentivize internal referrals for recruitment, and which employees are not eligible for these rewards?',\n",
       " 'How is the amount of gratuity payable to employees calculated at Karvy Financial Services Ltd according to the Gratuity Benefit Policy?',\n",
       " 'How does the application process for leaves differ for planned and emergency situations at Karvy Financial Services Ltd, and what is the importance of exercising leave in a responsible manner according to the Human Resource Policy Manual?',\n",
       " 'What is the process for applying for leave according to the policy, and what is the consequence of taking leave during the notice period?',\n",
       " 'Describe the process for internal transfers as outlined in the policy manual.',\n",
       " 'How is sick leave approval handled according to the document, and what is the maximum number of continuous sick leave days that can be approved by the immediate supervisor?']"
      ]
     },
     "execution_count": 29,
     "metadata": {},
     "output_type": "execute_result"
    }
   ],
   "source": [
    "eval_questions"
   ]
  },
  {
   "cell_type": "code",
   "execution_count": 30,
   "id": "f4fbd5a7-2f8d-4214-8033-9845a6d3fc38",
   "metadata": {},
   "outputs": [],
   "source": [
    "import nest_asyncio\n",
    "\n",
    "nest_asyncio.apply()"
   ]
  },
  {
   "cell_type": "code",
   "execution_count": 44,
   "id": "1b8fd970-2d61-471b-b7c1-0778c63ed246",
   "metadata": {},
   "outputs": [],
   "source": [
    "from llama_index.llms.ollama import Ollama\n",
    "from llama_index.core.evaluation import (\n",
    "    FaithfulnessEvaluator, RelevancyEvaluator\n",
    ")\n",
    "judge_llm = OpenAI(model='gpt-3.5-turbo', temperature=0.1)\n",
    "rag_llm = Ollama(model='phi', request_timeout=300)\n",
    "\n",
    "vector_index = VectorStoreIndex(nodes, embed_model=embed_model)\n",
    "query_engine = vector_index.as_query_engine(llm=rag_llm, similarity_top_k=2)\n",
    "\n",
    "relevancy_evaluator = RelevancyEvaluator(llm=judge_llm)\n",
    "faithfulness_evaluator = FaithfulnessEvaluator(llm=judge_llm)"
   ]
  },
  {
   "cell_type": "code",
   "execution_count": 46,
   "id": "cf22ff67-1694-4dd8-a111-a0cc769a4f6c",
   "metadata": {},
   "outputs": [
    {
     "name": "stderr",
     "output_type": "stream",
     "text": [
      "100%|███████████████████████████████████████████████████████████████████████████████████████████████████████████████████| 20/20 [1:01:03<00:00, 183.19s/it]\n"
     ]
    }
   ],
   "source": [
    "import time\n",
    "from tqdm import tqdm\n",
    "\n",
    "def evaluate_generation(eval_questions, query_engine,\n",
    "                        relevancy_evaluator, faithfulness_evaluator):\n",
    "    evals = []\n",
    "    for eval_q in tqdm(eval_questions):\n",
    "        time.sleep(30)\n",
    "        try:\n",
    "            response_vector = query_engine.query(eval_q)\n",
    "        except:\n",
    "            continue\n",
    "        relevancy_result = relevancy_evaluator.evaluate_response(query=eval_q, response=response_vector)\n",
    "        faithfulness_result = faithfulness_evaluator.evaluate_response(response=response_vector)\n",
    "        this_df = {\n",
    "            'query': eval_q,\n",
    "            'response': str(response_vector),\n",
    "            'source': (\n",
    "                response_vector.source_nodes[0].node.get_content()[:1000] + '...'\n",
    "            ),\n",
    "            'relevancy': relevancy_result.passing,\n",
    "            'faithfulness': faithfulness_result.passing,\n",
    "        }\n",
    "        evals.append(this_df)\n",
    "    eval_df = pd.DataFrame(evals)\n",
    "    return eval_df\n",
    "\n",
    "generation_eval_results = evaluate_generation(\n",
    "    eval_questions, query_engine,\n",
    "    relevancy_evaluator, faithfulness_evaluator)"
   ]
  },
  {
   "cell_type": "code",
   "execution_count": 47,
   "id": "e7cc1a70-1542-42cb-b8ce-c47e612a7747",
   "metadata": {},
   "outputs": [
    {
     "data": {
      "text/html": [
       "<div>\n",
       "<style scoped>\n",
       "    .dataframe tbody tr th:only-of-type {\n",
       "        vertical-align: middle;\n",
       "    }\n",
       "\n",
       "    .dataframe tbody tr th {\n",
       "        vertical-align: top;\n",
       "    }\n",
       "\n",
       "    .dataframe thead th {\n",
       "        text-align: right;\n",
       "    }\n",
       "</style>\n",
       "<table border=\"1\" class=\"dataframe\">\n",
       "  <thead>\n",
       "    <tr style=\"text-align: right;\">\n",
       "      <th></th>\n",
       "      <th>query</th>\n",
       "      <th>response</th>\n",
       "      <th>source</th>\n",
       "      <th>relevancy</th>\n",
       "      <th>faithfulness</th>\n",
       "    </tr>\n",
       "  </thead>\n",
       "  <tbody>\n",
       "    <tr>\n",
       "      <th>0</th>\n",
       "      <td>How does the company handle personal calls mad...</td>\n",
       "      <td>The company has a policy in place to ensure t...</td>\n",
       "      <td>The employees need to highlight the ir persona...</td>\n",
       "      <td>True</td>\n",
       "      <td>True</td>\n",
       "    </tr>\n",
       "    <tr>\n",
       "      <th>1</th>\n",
       "      <td>What are the potential implications for employ...</td>\n",
       "      <td>As per the provided context information, empl...</td>\n",
       "      <td>Human Resource Policy Manual Version 1.0   Kar...</td>\n",
       "      <td>True</td>\n",
       "      <td>True</td>\n",
       "    </tr>\n",
       "    <tr>\n",
       "      <th>2</th>\n",
       "      <td>Explain the entitlement and guidelines for Pri...</td>\n",
       "      <td>The leave policy at KFSL provides all employe...</td>\n",
       "      <td>Human Resource Policy Manual Version 1.0   Kar...</td>\n",
       "      <td>True</td>\n",
       "      <td>True</td>\n",
       "    </tr>\n",
       "    <tr>\n",
       "      <th>3</th>\n",
       "      <td>Describe the process that an employee at Karvy...</td>\n",
       "      <td>The process starts with the employee obtainin...</td>\n",
       "      <td>Human Resource Policy Manual Version 1.0   Kar...</td>\n",
       "      <td>True</td>\n",
       "      <td>True</td>\n",
       "    </tr>\n",
       "    <tr>\n",
       "      <th>4</th>\n",
       "      <td>Explain the roles and responsibilities of the ...</td>\n",
       "      <td>The role of the Business Head is to oversee t...</td>\n",
       "      <td>Human Resource Policy Manual Version 1.0   Kar...</td>\n",
       "      <td>True</td>\n",
       "      <td>True</td>\n",
       "    </tr>\n",
       "    <tr>\n",
       "      <th>5</th>\n",
       "      <td>What are the steps involved in the pre-employm...</td>\n",
       "      <td>The steps involved in the pre-employment scre...</td>\n",
       "      <td>Human Resource Policy Manual Version 1.0   Kar...</td>\n",
       "      <td>True</td>\n",
       "      <td>True</td>\n",
       "    </tr>\n",
       "    <tr>\n",
       "      <th>6</th>\n",
       "      <td>What are the key documents required for hiring...</td>\n",
       "      <td>The key documents required for hiring tempora...</td>\n",
       "      <td>Human Resource Policy Manual Version 1.0   Kar...</td>\n",
       "      <td>False</td>\n",
       "      <td>False</td>\n",
       "    </tr>\n",
       "    <tr>\n",
       "      <th>7</th>\n",
       "      <td>What are the prescribed monthly limits for mob...</td>\n",
       "      <td>The prescribed monthly limit for Mobile Phone...</td>\n",
       "      <td>Human Resource Policy Manual Version 1.0   Kar...</td>\n",
       "      <td>False</td>\n",
       "      <td>False</td>\n",
       "    </tr>\n",
       "    <tr>\n",
       "      <th>8</th>\n",
       "      <td>In the Reference Check Form provided by Karvy ...</td>\n",
       "      <td>The Reference Check Form requests information...</td>\n",
       "      <td>Human Resource Policy Manual Version 1.0   Kar...</td>\n",
       "      <td>True</td>\n",
       "      <td>True</td>\n",
       "    </tr>\n",
       "    <tr>\n",
       "      <th>9</th>\n",
       "      <td>What is the role of the HR Head in settling di...</td>\n",
       "      <td>The HR Head has the final authority to decide...</td>\n",
       "      <td>Human Resource Policy Manual Version 1.0   Kar...</td>\n",
       "      <td>True</td>\n",
       "      <td>True</td>\n",
       "    </tr>\n",
       "    <tr>\n",
       "      <th>10</th>\n",
       "      <td>What are the consequences of reproducing or al...</td>\n",
       "      <td>According to the given context information, t...</td>\n",
       "      <td>Human Resource Policy Manual Version 1.0   Kar...</td>\n",
       "      <td>True</td>\n",
       "      <td>True</td>\n",
       "    </tr>\n",
       "    <tr>\n",
       "      <th>11</th>\n",
       "      <td>How does Karvy Financial Services Ltd handle t...</td>\n",
       "      <td>In case of outstation candidates, Karvy Finan...</td>\n",
       "      <td>Human Resource Policy Manual Version 1.0   Kar...</td>\n",
       "      <td>True</td>\n",
       "      <td>True</td>\n",
       "    </tr>\n",
       "    <tr>\n",
       "      <th>12</th>\n",
       "      <td>How does the company incentivize internal refe...</td>\n",
       "      <td>Based on the context information provided, it...</td>\n",
       "      <td>Internal referral should be made a strong sour...</td>\n",
       "      <td>True</td>\n",
       "      <td>True</td>\n",
       "    </tr>\n",
       "    <tr>\n",
       "      <th>13</th>\n",
       "      <td>How is the amount of gratuity payable to emplo...</td>\n",
       "      <td>The amount of gratuity payable is 15 days sal...</td>\n",
       "      <td>This change can be effected only at the beginn...</td>\n",
       "      <td>True</td>\n",
       "      <td>True</td>\n",
       "    </tr>\n",
       "    <tr>\n",
       "      <th>14</th>\n",
       "      <td>How does the application process for leaves di...</td>\n",
       "      <td>According to the Human Resource Policy Manual...</td>\n",
       "      <td>Human Resource Policy Manual Version 1.0   Kar...</td>\n",
       "      <td>False</td>\n",
       "      <td>False</td>\n",
       "    </tr>\n",
       "    <tr>\n",
       "      <th>15</th>\n",
       "      <td>What is the process for applying for leave acc...</td>\n",
       "      <td>According to the HR Policy Manual KFSLnew, al...</td>\n",
       "      <td>Paid holiday \\nnot counted as a part \\nof leav...</td>\n",
       "      <td>True</td>\n",
       "      <td>True</td>\n",
       "    </tr>\n",
       "    <tr>\n",
       "      <th>16</th>\n",
       "      <td>Describe the process for internal transfers as...</td>\n",
       "      <td>Based on the context information provided, it...</td>\n",
       "      <td>Human Resource Policy Manual Version 1.0   Kar...</td>\n",
       "      <td>False</td>\n",
       "      <td>True</td>\n",
       "    </tr>\n",
       "    <tr>\n",
       "      <th>17</th>\n",
       "      <td>How is sick leave approval handled according t...</td>\n",
       "      <td>According to the given context information, s...</td>\n",
       "      <td>The 21 \\ndays of privilege leave is inclusive ...</td>\n",
       "      <td>True</td>\n",
       "      <td>True</td>\n",
       "    </tr>\n",
       "  </tbody>\n",
       "</table>\n",
       "</div>"
      ],
      "text/plain": [
       "                                                query                                           response  ... relevancy  faithfulness\n",
       "0   How does the company handle personal calls mad...   The company has a policy in place to ensure t...  ...      True          True\n",
       "1   What are the potential implications for employ...   As per the provided context information, empl...  ...      True          True\n",
       "2   Explain the entitlement and guidelines for Pri...   The leave policy at KFSL provides all employe...  ...      True          True\n",
       "3   Describe the process that an employee at Karvy...   The process starts with the employee obtainin...  ...      True          True\n",
       "4   Explain the roles and responsibilities of the ...   The role of the Business Head is to oversee t...  ...      True          True\n",
       "5   What are the steps involved in the pre-employm...   The steps involved in the pre-employment scre...  ...      True          True\n",
       "6   What are the key documents required for hiring...   The key documents required for hiring tempora...  ...     False         False\n",
       "7   What are the prescribed monthly limits for mob...   The prescribed monthly limit for Mobile Phone...  ...     False         False\n",
       "8   In the Reference Check Form provided by Karvy ...   The Reference Check Form requests information...  ...      True          True\n",
       "9   What is the role of the HR Head in settling di...   The HR Head has the final authority to decide...  ...      True          True\n",
       "10  What are the consequences of reproducing or al...   According to the given context information, t...  ...      True          True\n",
       "11  How does Karvy Financial Services Ltd handle t...   In case of outstation candidates, Karvy Finan...  ...      True          True\n",
       "12  How does the company incentivize internal refe...   Based on the context information provided, it...  ...      True          True\n",
       "13  How is the amount of gratuity payable to emplo...   The amount of gratuity payable is 15 days sal...  ...      True          True\n",
       "14  How does the application process for leaves di...   According to the Human Resource Policy Manual...  ...     False         False\n",
       "15  What is the process for applying for leave acc...   According to the HR Policy Manual KFSLnew, al...  ...      True          True\n",
       "16  Describe the process for internal transfers as...   Based on the context information provided, it...  ...     False          True\n",
       "17  How is sick leave approval handled according t...   According to the given context information, s...  ...      True          True\n",
       "\n",
       "[18 rows x 5 columns]"
      ]
     },
     "execution_count": 47,
     "metadata": {},
     "output_type": "execute_result"
    }
   ],
   "source": [
    "generation_eval_results"
   ]
  },
  {
   "cell_type": "code",
   "execution_count": 48,
   "id": "2dd38dc3-65ef-4cfa-814e-89b5f6a0bb7d",
   "metadata": {},
   "outputs": [
    {
     "data": {
      "text/html": [
       "<div>\n",
       "<style scoped>\n",
       "    .dataframe tbody tr th:only-of-type {\n",
       "        vertical-align: middle;\n",
       "    }\n",
       "\n",
       "    .dataframe tbody tr th {\n",
       "        vertical-align: top;\n",
       "    }\n",
       "\n",
       "    .dataframe thead th {\n",
       "        text-align: right;\n",
       "    }\n",
       "</style>\n",
       "<table border=\"1\" class=\"dataframe\">\n",
       "  <thead>\n",
       "    <tr style=\"text-align: right;\">\n",
       "      <th></th>\n",
       "      <th>name</th>\n",
       "      <th>val</th>\n",
       "    </tr>\n",
       "  </thead>\n",
       "  <tbody>\n",
       "    <tr>\n",
       "      <th>0</th>\n",
       "      <td>relevancy</td>\n",
       "      <td>0.777778</td>\n",
       "    </tr>\n",
       "    <tr>\n",
       "      <th>1</th>\n",
       "      <td>faithfulness</td>\n",
       "      <td>0.833333</td>\n",
       "    </tr>\n",
       "  </tbody>\n",
       "</table>\n",
       "</div>"
      ],
      "text/plain": [
       "           name       val\n",
       "0     relevancy  0.777778\n",
       "1  faithfulness  0.833333"
      ]
     },
     "execution_count": 48,
     "metadata": {},
     "output_type": "execute_result"
    }
   ],
   "source": [
    "def display_llm_results(name, eval_results):\n",
    "    metric_cols = ['relevancy', 'faithfulness']\n",
    "    metric_dicts = []\n",
    "    for metric_col in metric_cols:\n",
    "        metric_val = len(eval_results[eval_results[metric_col]])/len(eval_results)\n",
    "        metric_dict = [metric_col, metric_val]\n",
    "        metric_dicts.append(metric_dict)\n",
    "    metric_df = pd.DataFrame(metric_dicts, columns=['name', 'val'])\n",
    "    return metric_df\n",
    "\n",
    "display_llm_results('llm eval resutls', generation_eval_results)"
   ]
  }
 ],
 "metadata": {
  "kernelspec": {
   "display_name": "Python 3 (ipykernel)",
   "language": "python",
   "name": "python3"
  },
  "language_info": {
   "codemirror_mode": {
    "name": "ipython",
    "version": 3
   },
   "file_extension": ".py",
   "mimetype": "text/x-python",
   "name": "python",
   "nbconvert_exporter": "python",
   "pygments_lexer": "ipython3",
   "version": "3.10.9"
  }
 },
 "nbformat": 4,
 "nbformat_minor": 5
}
